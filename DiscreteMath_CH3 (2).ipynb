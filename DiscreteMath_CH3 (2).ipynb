{
 "cells": [
  {
   "cell_type": "markdown",
   "id": "35268b1a-36ce-421f-9a9a-2b072f4b3143",
   "metadata": {},
   "source": [
    "$\\Diamond\\Diamond\\Diamond$__--Discrete Mathematics--__$\\Diamond\\Diamond\\Diamond$</br>\n",
    "__by Ali Grami </br>\n",
    "Chapter 3 - Sets__"
   ]
  },
  {
   "cell_type": "markdown",
   "id": "52c03141-1d2b-41a0-a32f-53e89460da63",
   "metadata": {},
   "source": [
    "Latex Symbols\n",
    "https://www.cs.put.poznan.pl/ksiek/latexmath.html"
   ]
  },
  {
   "cell_type": "markdown",
   "id": "b4fe1eaf-e529-4382-a924-bf7b6e5d05fb",
   "metadata": {},
   "source": [
    "My notebook is my own, no help from anyone else."
   ]
  },
  {
   "cell_type": "markdown",
   "id": "1cbb6093-789b-41ff-8416-48d68a7b6573",
   "metadata": {},
   "source": [
    "__Exercise 5.1__</br>\n",
    "Using a truth table, prove the following identities.</br>\n",
    "(a)$A \\oplus B \\equiv (A \\cup B) - (A \\cap B)$</br>\n",
    "|A|B|A$\\cup$B|A$\\cap$B|(A$\\cup$B)-(A$\\cap$B)|A$\\oplus$B|\n",
    "| --- | --- | --- | --- | --- | --- |\n",
    "| 0 | 0 | 0 | 0 | 0 | 0 |\n",
    "| 0 | 1 | 1 | 0 | 1 | 1 |\n",
    "| 1 | 0 | 1 | 0 | 1 | 1 |\n",
    "| 1 | 1 | 1 | 1 | 0 | 0 |"
   ]
  },
  {
   "cell_type": "markdown",
   "id": "b39a7b07-a011-4d45-b5fb-97f60fcdd365",
   "metadata": {
    "execution": {
     "iopub.execute_input": "2024-01-31T22:35:45.239119Z",
     "iopub.status.busy": "2024-01-31T22:35:45.238724Z",
     "iopub.status.idle": "2024-01-31T22:35:45.245252Z",
     "shell.execute_reply": "2024-01-31T22:35:45.243877Z",
     "shell.execute_reply.started": "2024-01-31T22:35:45.239092Z"
    }
   },
   "source": [
    "(b)$A \\oplus B \\equiv (A - B) \\cup (B - A)$</br>\n",
    "|A|B|(A-B)|(B-A)|(A-B)$\\cup$(B-A)|A$\\oplus$B|\n",
    "| --- | --- | --- | --- | --- | --- |\n",
    "| 0 | 0 | 0 | 0 | 0 | 0 |\n",
    "| 0 | 1 | 0 | 1 | 1 | 1 |\n",
    "| 1 | 0 | 1 | 0 | 1 | 1 |\n",
    "| 1 | 1 | 0 | 0 | 0 | 0 |"
   ]
  },
  {
   "cell_type": "markdown",
   "id": "01ee2eb2-af3c-40fe-a7a9-f459ecee8fd8",
   "metadata": {},
   "source": [
    "(c) $A - B \\equiv A \\cap B^{c}$</br>\n",
    "|A|B|$B^{c}$|(A-B)|$A\\cap B^{c}$|\n",
    "| :---: | :---: | :--- | :--- | :--- |\n",
    "| 0 | 0 | 1 | 0 | 0 |\n",
    "| 0 | 1 | 0 | 0 | 0 |\n",
    "| 1 | 0 | 1 | 1 | 1 |\n",
    "| 1 | 1 | 0 | 0 | 0 |"
   ]
  },
  {
   "cell_type": "markdown",
   "id": "d8b6052e-ed07-4273-b612-d5f74acb5c66",
   "metadata": {
    "execution": {
     "iopub.execute_input": "2024-01-31T22:47:28.283785Z",
     "iopub.status.busy": "2024-01-31T22:47:28.283423Z",
     "iopub.status.idle": "2024-01-31T22:47:28.288561Z",
     "shell.execute_reply": "2024-01-31T22:47:28.287209Z",
     "shell.execute_reply.started": "2024-01-31T22:47:28.283759Z"
    },
    "tags": []
   },
   "source": [
    "__Exercise 5.2__</br>\n",
    "(a)Prove the set identity $(A \\cup B) - (C - A) \\equiv A \\cup (B - C)$</br>\n",
    "$A \\cup B - (C - A)$</br>\n",
    "|A|B|C|(C-A)|(B-C)|(A $\\cup$ B)|(A $\\cup$ B)-(C - A)| A$\\cup$(B - C)|\n",
    "| :---: | :---: | :---: | :---: | :---: | :---: | :---: | :---: |\n",
    "| 0 | 0 | 0 | 0 | 0 | 0 | 0 | 0 |\n",
    "| 0 | 0 | 1 | 1 | 0 | 0 | 0 | 0 |\n",
    "| 0 | 1 | 0 | 0 | 1 | 1 | 1 | 1 |\n",
    "| 0 | 1 | 1 | 1 | 0 | 1 | 0 | 0 |\n",
    "| 1 | 0 | 0 | 0 | 0 | 1 | 1 | 1 |\n",
    "| 1 | 0 | 1 | 0 | 0 | 1 | 1 | 1 |\n",
    "| 1 | 1 | 0 | 0 | 1 | 1 | 1 | 1 |\n",
    "| 1 | 1 | 1 | 0 | 0 | 1 | 1 | 1 |\n"
   ]
  },
  {
   "cell_type": "markdown",
   "id": "6b35259c-dc5f-4004-bdf1-b34dadf53aa9",
   "metadata": {},
   "source": [
    "(b)Write the dual of the set identity $(U \\cap A) \\cup (B \\cap A) = A $</br>\n",
    "To write the dual replace each occurrence of $ \\cap, \\cup, \\emptyset, and \\; U$ by $ \\cup, \\cap, U, and \\; \\emptyset$ respectively. </br>\n",
    "Thus<br>\n",
    "$(\\emptyset \\cup A) \\cap (B \\cup A) = A $"
   ]
  },
  {
   "cell_type": "markdown",
   "id": "e7a0e900-26ab-4e35-9826-498382f9acbb",
   "metadata": {},
   "source": [
    "__Exercise 5.3__</br>\n",
    "(a) Using set identities, verify that $(X-Y)-Z \\equiv X - (Y \\cup Z)$</br>\n",
    "(X-Y)-Z $\\equiv$ </br>\n",
    "(X $\\cap$ $Y^{c}$)-Z $\\equiv$,               Relative Complement Law</br>\n",
    "(X $\\cap$ $Y^{c}$)$\\cap$ $Z^{c}$ $\\equiv$,   Relative Complement Law</br>\n",
    "X $\\cap$ ($Y^{c}$$\\cap$ $Z^{c}$) $\\equiv$,   Commutative Laws</br>\n",
    "X $\\cap$ (Y $\\cup$ Z$)^{c}$ $\\equiv$,        DeMorgan's Laws<br>\n",
    "X - (Y $\\cup$ Z) $\\equiv$,                  Relative Complement Law<br>\n",
    "Thus $(X-Y)-Z \\equiv X - (Y \\cup Z)$"
   ]
  },
  {
   "cell_type": "markdown",
   "id": "4605130d-80f6-4eaf-8023-3ece106a3a73",
   "metadata": {},
   "source": [
    "(b) Simplify the set expression $(A \\cap B^{c}) \\cup (A^{c} \\cap B) \\cup (A^{c} \\cap B^{c})$</br>\n",
    " $(A \\cap B^{c}) \\cup (A^{c} \\cap (B \\cup B^{c}))$ , Distributive Laws</br>\n",
    " $(A \\cap B^{c}) \\cup (A^{c} \\cap U)$, Complement Laws</br>\n",
    " $(A \\cap B^{c}) \\cup A^{c}$, Identity Laws</br>\n"
   ]
  },
  {
   "cell_type": "markdown",
   "id": "3b9a9158-5e58-4a87-88d8-9bdd40a4b9bc",
   "metadata": {
    "execution": {
     "iopub.execute_input": "2024-02-01T00:24:36.198298Z",
     "iopub.status.busy": "2024-02-01T00:24:36.197921Z",
     "iopub.status.idle": "2024-02-01T00:24:36.203677Z",
     "shell.execute_reply": "2024-02-01T00:24:36.202506Z",
     "shell.execute_reply.started": "2024-02-01T00:24:36.198273Z"
    },
    "tags": []
   },
   "source": [
    "__Exercise 5.4__</br>\n",
    "(a)Find the Cartesian product of sets A = {x}, B = {y,z}, and C={1,2,3}$</br>\n",
    "\n",
    "$A \\times B \\times C$ = {(X,y,1),(X,y,2),(X,y,3),(X,z,1),(X,z,2),(X,z,3)}</br>\n",
    "\n",
    "(b) Partition the set of non-negative integers into four blocks of integers.</br>\n",
    "As on page 71, the set of non-negative integers can be partitioned into sets {0}, Prime Numbers {2,3,5,7...}, Composite Numbers {4,6,8,9...}, and numbers that are neither prime nor composite {1}.</br>"
   ]
  },
  {
   "cell_type": "markdown",
   "id": "adc127de-a202-42e4-bee5-2f7b07877fb1",
   "metadata": {},
   "source": [
    "__Exercise 5.5__</br>\n",
    "Assuming A_{1} = {..., -4, -3, -2, -1, 0, 1, 2 ,3 ,4 ,...,i}, determine the following set expressions: </br>\n",
    "(a) $\\cup _{i=1}^nA_i$</br>\n",
    "\n",
    "(b) $\\cap _{i=1}^nA_i$</br>"
   ]
  },
  {
   "cell_type": "markdown",
   "id": "8f3898f2-203f-4f65-a291-702e557a2e82",
   "metadata": {},
   "source": [
    "__Exercise 5.6__ In a survey of 1200 people, it was found that 650 have shares of AA stock, 450 have shares of GG stock, and 420 have shares of ZZ stock. It was also found that 200 have shares in both AA and GG stocks, 250 have shares in both AA and ZZ stocks, 150 have shares in both GG and ZZ stocks, and 80 have shares in all thre AAs, GG and ZZ stocks.</br>\n",
    "|S|=1200</br>\n",
    "|AA| = 650</br>\n",
    "|GG| = 450</br>\n",
    "|ZZ| = 420</br>\n",
    "|AA $\\cap$ GG| = 200</br>\n",
    "|AA $\\cap$ ZZ| = 250</br>\n",
    "|GG $\\cap$ ZZ| = 150</br>\n",
    "|AA $\\cap$ GG $\\cap$ ZZ| = 80</br>\n",
    "(a)Determine the number of people who have shares in at least one of the three stocks.</br>\n",
    "Using the principle of inclusion-exclusion</br>\n",
    "|AA $\\cup$ GG $\\cup$ ZZ| = |AA| + |GG| + |ZZ| - |AA $\\cap$ GG| - |AA $\\cap$ ZZ| - |GG $\\cap$ ZZ| + |AA $\\cap$ GG $\\cap$ ZZ|</br>\n",
    "650 + 450 + 420 - 200 - 250 - 150 + 80 = __1000__</br>\n",
    "(b) Determine the number of people who have shares in exactly one stock.</br>\n",
    "$A \\oplus B \\equiv (A \\cup B) - (A \\cap B)$</br>\n",
    "|AA $\\oplus$ GG $\\oplus$ ZZ| = |AA $\\cup$ GG $\\cup$ ZZ| - </br>\n",
    "|AA $\\cup$ GG| = |AA| + |GG| - |AA $\\cap$ GG| = 650 + 450 - 200 = 900</br>\n",
    "|AA $\\cup$ ZZ| = |AA| + |ZZ| - |AA $\\cap$ ZZ| = 650 + 420 - 250 = 820</br>\n",
    "|GG $\\cap$ ZZ| = |GG| + |ZZ| - |GG $\\cap$ ZZ| = 450 + 420 - 150 = 720</br>\n"
   ]
  },
  {
   "cell_type": "markdown",
   "id": "9f365b50-3c3c-4698-857d-e140a4bcdb52",
   "metadata": {},
   "source": [
    "__Exercise 5.7__</br>\n",
    "Consider the set A = {a,b,c,d}</br>\n",
    "(a) Determine the power set of A</br>\n",
    "$|P(a)|= 2^{|A|}$, since $|A|=4$, $|P(a)|=16$  </br>\n",
    "P(x) = { {$\\emptyset$}, {a}, {b}, {c}, {d}, {a,b}, {a,c}, {a,d}, {b,c}, {b,d}, {c,d}, {a,b,c}, {b,c,d}, {a,c,d}, {a,b,d}, {a,b,c,d} }</br>\n",
    "(b) Find all partitions of A (e.g. subsets that are pairwise disjoint)\n",
    "1_ {0}. {a}, {b}, {c}, {d}</br>\n",
    "2_ {a,b,c,d}</br>\n",
    "3_ { {a} {b,c,d} }</br>\n",
    "and so on...</br>\n"
   ]
  },
  {
   "cell_type": "markdown",
   "id": "3ce313dc-c6e3-460e-b0ec-4bf3448e1f34",
   "metadata": {},
   "source": [
    "__Exercise 5.8__\n",
    "Let A, B, and C be sets. Prove that $ (A \\cup (B \\cap C))^C = (C^{C} \\cup B^{C}) \\cap A^{C} $ using the following methods:</br>\n",
    "(a) membership tables</br>\n",
    "|A|B|C|A^{C}|B^{C}|C^{C}|(B $\\cap$ C)|A$\\cup$(B$\\cap$C)|C^{C}$\\cup$B^{C}|A$\\cup$(B$\\cap$C)^{C}|(C^{C}$\\cup$B^{C})$\\cap$A^{C}|\n",
    "| :---: | :---: | :---: | :---: | :---: | :---: | :---: | :---: | :---: | :---: | :---: |\n",
    "| 0 | 0 | 0 | 1 | 1 | 1 | 0 | 0 | 1 | 1 | 1 |\n",
    "| 0 | 0 | 1 | 1 | 1 | 0 | 0 | 0 | 1 | 1 | 1 |\n",
    "| 0 | 1 | 0 | 1 | 0 | 1 | 0 | 0 | 1 | 1 | 1 |\n",
    "| 0 | 1 | 1 | 1 | 0 | 0 | 1 | 1 | 0 | 0 | 0 |\n",
    "| 1 | 0 | 0 | 0 | 1 | 1 | 0 | 1 | 1 | 0 | 0 |\n",
    "| 1 | 0 | 1 | 0 | 1 | 0 | 0 | 1 | 1 | 0 | 0 |\n",
    "| 1 | 1 | 0 | 0 | 0 | 1 | 0 | 1 | 1 | 0 | 0 |\n",
    "| 1 | 1 | 1 | 0 | 0 | 0 | 1 | 1 | 0 | 0 | 0 |\n",
    "    "
   ]
  },
  {
   "cell_type": "markdown",
   "id": "aa6fe36c-a574-4636-8843-91b47fe5aeb5",
   "metadata": {},
   "source": [
    "(b) Set Identities</br>\n",
    "$ (A \\cup (B \\cap C))^C = (C^{C} \\cup B^{C}) \\cap A^{C} $</br>\n",
    "$ (A \\cup (B \\cap C))^C $</br>\n",
    "$ A^{C} \\cap (B \\cap C)^{C} $ , DeMorgan's Laws</br>\n",
    "$ A^{C} \\cap (B^{C} \\cup C^{C}) $ DeMorgan's Laws </br>\n",
    "$ (C^{C} \\cup B^{C}) \\cap  A^{C}$ Commutative Laws </br>"
   ]
  },
  {
   "cell_type": "markdown",
   "id": "f92a5cf3-3ded-47df-a80d-f4d555210698",
   "metadata": {},
   "source": [
    "__Exercise 5.9__</br>\n",
    "Let u = {a,b,c,d,e,f,g,h}, A={b,e,g,h} and B={a,b,c,e,g}. Using bit representations, find the following sets as eight bit words:\n",
    "(a) $A \\cap B$</br>\n",
    "$A \\cap B$ = {b, e, g} = {0, 1, 0, 0, 1, 0, 1, 0}</br>\n",
    "(b) $A \\cup B$</br>\n",
    "$A \\cup B$ = {a, b, c, e, g, h} = {1, 1, 1, 0, 1, 0, 1, 1}</br>\n",
    "(c)$A \\oplus B$</br>\n",
    "$A \\oplus B $ = {a, c, h} = {1, 0, 1, 0, 0, 0, 0 , 1}</br>\n",
    "(d) $A^{C}$</br>\n",
    "$A^{c}$ = {a, c, d, f} = {1, 0, 1, 1, 0, 1, 0, 0}</br>\n",
    "(e) B-A </br>\n",
    "B-A = {a,c} = {1, 0, 1, 0, 0, 0, 0, 0}</br>"
   ]
  },
  {
   "cell_type": "markdown",
   "id": "90686237-471d-42be-993c-a58cc5d10466",
   "metadata": {},
   "source": [
    "__Exercise 5.10__\n",
    "Five people, a,b,c,d, and e are rates based on how rich they are, yielding the following fuzzy set:</br>\n",
    "$R=${$a|\\mu_{R(a)=0.9}, b|\\mu_{R(b)=0.7}, c|\\mu_{R(c)=0.5}, d|\\mu_{R(d)=0.3}, e|\\mu_{R(e)=0.05}$}</br>\n",
    "and based on their conservatism in their political beliefs, yielding the following fuzzy set:</br>\n",
    "$C=${$a|\\mu_{C(a)=0.99}, b|\\mu_{C(b)=0.88}, c|\\mu_{C(c)=0.7}, d|\\mu_{C(d)=0.1}, e|\\mu_{C(e)=0.01}$}</br>\n",
    "Determine the fuzzy intersection reflecting their wealth and conservatism. $R \\cap C$ = ?</br>\n",
    "$R \\cap C$ = {$a|\\mu_{R \\cap C(a)=0.9}, b|\\mu_{R \\cap C(b)=0.7}, c|\\mu_{R \\cap C(c)=0.5}, d|\\mu_{R \\cap C(d)=0.1}, e|\\mu_{R \\cap C(e)=0.01}$}</br>"
   ]
  },
  {
   "cell_type": "code",
   "execution_count": null,
   "id": "30694b5b-64b5-45bf-a7e1-d082f7b675d9",
   "metadata": {},
   "outputs": [],
   "source": []
  }
 ],
 "metadata": {
  "kernelspec": {
   "display_name": "saturn (Python 3)",
   "language": "python",
   "name": "python3"
  },
  "language_info": {
   "codemirror_mode": {
    "name": "ipython",
    "version": 3
   },
   "file_extension": ".py",
   "mimetype": "text/x-python",
   "name": "python",
   "nbconvert_exporter": "python",
   "pygments_lexer": "ipython3",
   "version": "3.9.15"
  }
 },
 "nbformat": 4,
 "nbformat_minor": 5
}
