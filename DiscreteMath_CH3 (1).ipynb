{
 "cells": [
  {
   "cell_type": "markdown",
   "id": "35268b1a-36ce-421f-9a9a-2b072f4b3143",
   "metadata": {},
   "source": [
    "$\\Diamond\\Diamond\\Diamond$__--Discrete Mathematics--__$\\Diamond\\Diamond\\Diamond$</br>\n",
    "__by Ali Grami </br>\n",
    "Chapter 3 - Sets__"
   ]
  },
  {
   "cell_type": "markdown",
   "id": "52c03141-1d2b-41a0-a32f-53e89460da63",
   "metadata": {},
   "source": [
    "Latex Symbols\n",
    "https://www.cs.put.poznan.pl/ksiek/latexmath.html"
   ]
  },
  {
   "cell_type": "markdown",
   "id": "1cbb6093-789b-41ff-8416-48d68a7b6573",
   "metadata": {},
   "source": [
    "__Exercise 5.1__</br>\n",
    "Using a truth table, prove the following identities.</br>\n",
    "(a)$A \\oplus B \\equiv (A \\cup B) - (A \\cap B)$</br>\n",
    "|A|B|A$\\cup$B|A$\\cap$B|(A$\\cup$B)-(A$\\cap$B)|A$\\oplus$B|\n",
    "| --- | --- | --- | --- | --- | --- |\n",
    "| 0 | 0 | 0 | 0 | 0 | 0 |\n",
    "| 0 | 1 | 1 | 0 | 1 | 1 |\n",
    "| 1 | 0 | 1 | 0 | 1 | 1 |\n",
    "| 1 | 1 | 1 | 1 | 0 | 0 |"
   ]
  },
  {
   "cell_type": "markdown",
   "id": "b39a7b07-a011-4d45-b5fb-97f60fcdd365",
   "metadata": {
    "execution": {
     "iopub.execute_input": "2024-01-31T22:35:45.239119Z",
     "iopub.status.busy": "2024-01-31T22:35:45.238724Z",
     "iopub.status.idle": "2024-01-31T22:35:45.245252Z",
     "shell.execute_reply": "2024-01-31T22:35:45.243877Z",
     "shell.execute_reply.started": "2024-01-31T22:35:45.239092Z"
    }
   },
   "source": [
    "(b)$A \\oplus B \\equiv (A - B) \\cup (B - A)$</br>\n",
    "|A|B|(A-B)|(B-A)|(A-B)$\\cup$(B-A)|A$\\oplus$B|\n",
    "| --- | --- | --- | --- | --- | --- |\n",
    "| 0 | 0 | 0 | 0 | 0 | 0 |\n",
    "| 0 | 1 | 0 | 1 | 1 | 1 |\n",
    "| 1 | 0 | 1 | 0 | 1 | 1 |\n",
    "| 1 | 1 | 0 | 0 | 0 | 0 |"
   ]
  },
  {
   "cell_type": "markdown",
   "id": "01ee2eb2-af3c-40fe-a7a9-f459ecee8fd8",
   "metadata": {},
   "source": [
    "(c) $A - B \\equiv A \\cap B^{c}$</br>\n",
    "|A|B|$B^{c}$|(A-B)|$A\\cap B^{c}$|\n",
    "| :---: | :---: | :--- | :--- | :--- |\n",
    "| 0 | 0 | 1 | 0 | 0 |\n",
    "| 0 | 1 | 0 | 0 | 0 |\n",
    "| 1 | 0 | 1 | 1 | 1 |\n",
    "| 1 | 1 | 0 | 0 | 0 |"
   ]
  },
  {
   "cell_type": "markdown",
   "id": "d8b6052e-ed07-4273-b612-d5f74acb5c66",
   "metadata": {
    "execution": {
     "iopub.execute_input": "2024-01-31T22:47:28.283785Z",
     "iopub.status.busy": "2024-01-31T22:47:28.283423Z",
     "iopub.status.idle": "2024-01-31T22:47:28.288561Z",
     "shell.execute_reply": "2024-01-31T22:47:28.287209Z",
     "shell.execute_reply.started": "2024-01-31T22:47:28.283759Z"
    },
    "tags": []
   },
   "source": [
    "__Exercise 5.2__</br>\n",
    "(a)Prove the set identity $(A \\cup B) - (C - A) \\equiv A \\cup (B - C)$</br>\n",
    "$A \\cup B - (C - A)$</br>\n",
    "|A|B|C|(C-A)|(B-C)|(A $\\cup$ B)|(A $\\cup$ B)-(C - A)| A$\\cup$(B - C)|\n",
    "| :---: | :---: | :---: | :---: | :---: | :---: | :---: | :---: |\n",
    "| 0 | 0 | 0 | 0 | 0 | 0 | 0 | 0 |\n",
    "| 0 | 0 | 1 | 1 | 0 | 0 | 0 | 0 |\n",
    "| 0 | 1 | 0 | 0 | 1 | 1 | 1 | 1 |\n",
    "| 0 | 1 | 1 | 1 | 0 | 1 | 0 | 0 |\n",
    "| 1 | 0 | 0 | 0 | 0 | 1 | 1 | 1 |\n",
    "| 1 | 0 | 1 | 0 | 0 | 1 | 1 | 1 |\n",
    "| 1 | 1 | 0 | 0 | 1 | 1 | 1 | 1 |\n",
    "| 1 | 1 | 1 | 0 | 0 | 1 | 1 | 1 |\n"
   ]
  },
  {
   "cell_type": "markdown",
   "id": "6b35259c-dc5f-4004-bdf1-b34dadf53aa9",
   "metadata": {},
   "source": [
    "(b)Write the dual of the set identity $(U \\cap A) \\cup (B \\cap A) = A $</br>\n",
    "To write the dual replace each occurrence of $ \\cap, \\cup, \\emptyset, and \\; U$ by $ \\cup, \\cap, U, and \\; \\emptyset$ respectively. </br>\n",
    "Thus<br>\n",
    "$(\\emptyset \\cup A) \\cap (B \\cup A) = A $"
   ]
  },
  {
   "cell_type": "markdown",
   "id": "e7a0e900-26ab-4e35-9826-498382f9acbb",
   "metadata": {},
   "source": [
    "__Exercise 5.3__</br>\n",
    "(a) Using set identities, verify that $(X-Y)-Z \\equiv X - (Y \\cup Z)$</br>\n",
    "(X-Y)-Z $\\equiv$ </br>\n",
    "(X $\\cap$ $Y^{c}$)-Z $\\equiv$,               Relative Complement Law</br>\n",
    "(X $\\cap$ $Y^{c}$)$\\cap$ $Z^{c}$ $\\equiv$,   Relative Complement Law</br>\n",
    "X $\\cap$ ($Y^{c}$$\\cap$ $Z^{c}$) $\\equiv$,   Commutative Laws</br>\n",
    "X $\\cap$ (Y $\\cup$ Z$)^{c}$ $\\equiv$,        DeMorgan's Laws<br>\n",
    "X - (Y $\\cup$ Z) $\\equiv$,                  Relative Complement Law<br>\n",
    "Thus $(X-Y)-Z \\equiv X - (Y \\cup Z)$"
   ]
  },
  {
   "cell_type": "markdown",
   "id": "4605130d-80f6-4eaf-8023-3ece106a3a73",
   "metadata": {},
   "source": [
    "(b) Simplify the set expression $(A \\cap B^{c}) \\cup (A^{c} \\cap B) \\cup (A^{c} \\cap B^{c})$</br>\n",
    " $(A \\cap B^{c}) \\cup (A^{c} \\cap (B \\cup B^{c}))$ , Distributive Laws</br>\n",
    " $(A \\cap B^{c}) \\cup (A^{c} \\cap U)$, Complement Laws</br>\n",
    " $(A \\cap B^{c}) \\cup A^{c}$, Identity Laws</br>\n"
   ]
  },
  {
   "cell_type": "markdown",
   "id": "3b9a9158-5e58-4a87-88d8-9bdd40a4b9bc",
   "metadata": {
    "execution": {
     "iopub.execute_input": "2024-02-01T00:24:36.198298Z",
     "iopub.status.busy": "2024-02-01T00:24:36.197921Z",
     "iopub.status.idle": "2024-02-01T00:24:36.203677Z",
     "shell.execute_reply": "2024-02-01T00:24:36.202506Z",
     "shell.execute_reply.started": "2024-02-01T00:24:36.198273Z"
    },
    "tags": []
   },
   "source": [
    "__Exercise 5.4__</br>\n",
    "(a)Find the Cartesian product of sets A = {x}, B = {y,z}, and C={1,2,3}$</br>\n",
    "\n",
    "$A \\times B \\times C$ = {(X,y,1),(X,y,2),(X,y,3),(X,z,1),(X,z,2),(X,z,3)}</br>\n",
    "\n",
    "(b) Partition the set of non-negative integers into four blocks of integers.</br>\n",
    "As on page 71, the set of non-negative integers can be partitioned into sets {0}, Prime Numbers {2,3,5,7...}, Composite Numbers {4,6,8,9...}, and numbers that are neither prime nor composite {1}.</br>"
   ]
  },
  {
   "cell_type": "markdown",
   "id": "adc127de-a202-42e4-bee5-2f7b07877fb1",
   "metadata": {},
   "source": [
    "__Exercise 5.5__</br>\n",
    "Assuming A_{1} = {..., -4, -3, -2, -1, 0, 1, 2 ,3 ,4 ,...,i}, determine the following set expressions: </br>\n",
    "(a) $\\cup _{i=1}^nA_i$</br>\n",
    "\n",
    "(b) $\\cap _{i=1}^nA_i$</br>"
   ]
  },
  {
   "cell_type": "markdown",
   "id": "8f3898f2-203f-4f65-a291-702e557a2e82",
   "metadata": {},
   "source": [
    "__Exercise 5.6__ In a survey of 1200 people, it was found that 650 have shares of AA stock, 450 have shares of GG stock, and 420 have shares of ZZ stock. It was also found that 200 have shares in both AA and GG stocks, 250 have shares in both AA and ZZ stocks, 150 have shares in both GG and ZZ stocks, and 80 have shares in all thre AAs, GG and ZZ stocks.</br>\n",
    "|S|=1200</br>\n",
    "|AA| = 650</br>\n",
    "|GG| = 450</br>\n",
    "|ZZ| = 420</br>\n",
    "|AA $\\cap$ GG| = 200</br>\n",
    "|AA $\\cap$ ZZ| = 250</br>\n",
    "|GG $\\cap$ ZZ| = 150</br>\n",
    "|AA $\\cap$ GG $\\cap$ ZZ| = 80</br>\n",
    "(a)Determine the number of people who have shares in at least one of the three stocks.</br>\n",
    "Using the principle of inclusion-exclusion</br>\n",
    "|AA $\\cup$ GG $\\cup$ ZZ| = |AA| + |GG| + |ZZ| - |AA $\\cap$ GG| - |AA $\\cap$ ZZ| - |GG $\\cap$ ZZ| + |AA $\\cap$ GG $\\cap$ ZZ|</br>\n",
    "650 + 450 + 420 - 200 - 250 - 150 + 80 = __1000__</br>\n",
    "(b) Determine the number of people who have shares in exactly one stock.</br>\n",
    "$A \\oplus B \\equiv (A \\cup B) - (A \\cap B)$</br>\n",
    "|AA $\\oplus$ GG $\\oplus$ ZZ| = |AA $\\cup$ GG $\\cup$ ZZ| - </br>\n",
    "|AA $\\cup$ GG| = |AA| + |GG| - |AA $\\cap$ GG| = 650 + 450 - 200 = 900</br>\n",
    "|AA $\\cup$ ZZ| = |AA| + |ZZ| - |AA $\\cap$ ZZ| = 650 + 420 - 250 = 820</br>\n",
    "|GG $\\cap$ ZZ| = |GG| + |ZZ| - |GG $\\cap$ ZZ| = 450 + 420 - 150 = 720</br>\n"
   ]
  },
  {
   "cell_type": "code",
   "execution_count": null,
   "id": "077abc66-4b05-48c9-9f0c-bf3f344c5073",
   "metadata": {},
   "outputs": [],
   "source": []
  }
 ],
 "metadata": {
  "kernelspec": {
   "display_name": "saturn (Python 3)",
   "language": "python",
   "name": "python3"
  },
  "language_info": {
   "codemirror_mode": {
    "name": "ipython",
    "version": 3
   },
   "file_extension": ".py",
   "mimetype": "text/x-python",
   "name": "python",
   "nbconvert_exporter": "python",
   "pygments_lexer": "ipython3",
   "version": "3.9.15"
  }
 },
 "nbformat": 4,
 "nbformat_minor": 5
}
