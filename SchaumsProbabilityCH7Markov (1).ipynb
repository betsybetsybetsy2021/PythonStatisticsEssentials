{
 "cells": [
  {
   "cell_type": "markdown",
   "id": "7b2286ee-d338-43be-a2bf-f2a5a36a3255",
   "metadata": {},
   "source": [
    "__Schaum's Outlines - Probability__</br>\n",
    "__By Seymour Lipshutz__ </br>\n",
    "__Chapter 7 - Markov Chains__"
   ]
  },
  {
   "cell_type": "markdown",
   "id": "3912432a-294c-4d27-8178-0a03fa3762f8",
   "metadata": {},
   "source": [
    "Real World Applications of Markov Chains and Markov Processes:</br>\n",
    "1) “Pagerank” used by Google\n",
    "2) Predicting Market trends\n",
    "3) Subreddit Simulation\n",
    "4) Next word prediction\n",
    "5) Election polls\n",
    "\n",
    "https://analyticsindiamag.com/5-real-world-use-cases-of-the-markov-chains/"
   ]
  },
  {
   "cell_type": "markdown",
   "id": "17430eab-89d0-4cc2-9b6f-0a04991dfd1f",
   "metadata": {},
   "source": [
    "__Markov Processes__ p. 256"
   ]
  },
  {
   "cell_type": "markdown",
   "id": "c4070742-96da-4438-a1a3-8272bebe23c6",
   "metadata": {},
   "source": [
    "__7.16__ p. 256</br>\n",
    "Bob's study habits are as follows.  If he studies one night, he is 70 percent sure not to study the next night.  On the other hand, if he doesn not study one night, he is only 60% sure not to study the next night as well.  find out how often in the long term, Bob studies.</br>\n",
    "\n",
    "This is a Markov process where the states of the system are S (studying) and T (not studying). The transition matrix M of the process is as follows:"
   ]
  },
  {
   "cell_type": "markdown",
   "id": "0328869a-0a82-4239-9319-9b2eedd67a10",
   "metadata": {
    "execution": {
     "iopub.execute_input": "2023-11-18T21:56:13.137556Z",
     "iopub.status.busy": "2023-11-18T21:56:13.137209Z",
     "iopub.status.idle": "2023-11-18T21:56:13.144255Z",
     "shell.execute_reply": "2023-11-18T21:56:13.142947Z",
     "shell.execute_reply.started": "2023-11-18T21:56:13.137531Z"
    }
   },
   "source": [
    "\n",
    "$$ M  \\ \\ = \\ \\ \\ \n",
    "\\begin{array}{c c} \n",
    "& \\begin{array}{c c} S & T \\\\ \\end{array} \\\\\n",
    "\\begin{array}{c c} S \\\\ T \\\\ \\end{array} &\n",
    "\\left[\n",
    "\\begin{array}{c c c}\n",
    "0.3 & 0.7 \\\\\n",
    "0.4 & 0.6 \\\\\n",
    "\\end{array}\n",
    "\\right]\n",
    "\\end{array}\n",
    "$$"
   ]
  },
  {
   "cell_type": "markdown",
   "id": "7e5de847-4b51-4093-8b15-a7d083e20a55",
   "metadata": {
    "execution": {
     "iopub.execute_input": "2023-11-18T21:57:41.632277Z",
     "iopub.status.busy": "2023-11-18T21:57:41.631890Z",
     "iopub.status.idle": "2023-11-18T21:57:41.639370Z",
     "shell.execute_reply": "2023-11-18T21:57:41.638367Z",
     "shell.execute_reply.started": "2023-11-18T21:57:41.632251Z"
    }
   },
   "source": [
    "$ u = [0.4, 0.7]$</br>\n",
    "\n",
    "To get rid of fractions multiply by 10. </br>\n",
    "\n",
    "$10u = [4,7]$</br>\n",
    "\n",
    "Thus the unique fixed probability vector is $[\\frac{4}{11}, \\frac{7}{11}]$</br>\n",
    "\n",
    "Thus in the long term, the probability that Bob studies is $\\frac{4}{11}$ or 36.4%."
   ]
  },
  {
   "cell_type": "markdown",
   "id": "43341f30-65e3-4569-a190-a142c4e4e31e",
   "metadata": {},
   "source": [
    "__7.17__ p. 236 </br>\n",
    "A psychologist makes the following assumptions concerning the behavior of mice subjected to a particular feeding schedule.  For any particular trial, 80% of the mice that went right on a previous experiment will go right on this trial, and 60% of those mice that went left on the previuos experiment will go right on this trial.  Suppose 50% of the mice went right on the first trial.</br>\n",
    "(a) Find the prediction of the psychologist for the next two trials\n",
    "(b) When will the process stabilize?"
   ]
  },
  {
   "cell_type": "markdown",
   "id": "b6fec765-22e2-4c42-97f1-759769ed3e8c",
   "metadata": {},
   "source": [
    "The states of the system are R (right) and L (left) and the transition matrix M of the process is as follows:</br>\n",
    "$$ M  \\ \\ = \\ \\ \\ \n",
    "\\begin{array}{c c} \n",
    "& \\begin{array}{c c} R & L \\\\ \\end{array} \\\\\n",
    "\\begin{array}{c c} R \\\\ L \\\\ \\end{array} &\n",
    "\\left[\n",
    "\\begin{array}{c c c}\n",
    "0.8 & 0.2 \\\\\n",
    "0.6 & 0.4 \\\\\n",
    "\\end{array}\n",
    "\\right]\n",
    "\\end{array}\n",
    "$$"
   ]
  },
  {
   "cell_type": "markdown",
   "id": "2ae4e33f-108e-44ac-bf40-282b277eed1c",
   "metadata": {},
   "source": [
    "The probability for the first trial is $ q = [0.5, 0.5] $"
   ]
  },
  {
   "cell_type": "markdown",
   "id": "abad4c04-deda-4ec4-abee-0d5ab0aa1f0a",
   "metadata": {},
   "source": [
    "(a) </br>\n",
    "to predict the probability distro for the second trial, multiply q by M. This yields</br>\n",
    "\n",
    "\\begin{align*}\n",
    "= \\left[\\begin{array}{ccc}\n",
    "   0.5 &  0.5  \\\\\n",
    "\\end{array}\\right]\n",
    "\\begin{bmatrix}\n",
    "  0.8 & 0.2  \\\\\n",
    "  0.6 & 0.4  \\\\\n",
    "\\end{bmatrix} \n",
    " = \\begin{bmatrix}\n",
    "   0.7, 0.3 \\\\\n",
    "\\end{bmatrix} \n",
    "\\end{align*}\n",
    "\n",
    "</br>\n",
    "Thus the psychologist predicts that 70% of the mice will go right and 30% will go left on the 2nd trial.  We can repeat the process for the third trial.</br>\n",
    "\n",
    "\\begin{align*}\n",
    "= \\left[\\begin{array}{ccc}\n",
    "   0.7 &  0.3  \\\\\n",
    "\\end{array}\\right]\n",
    "\\begin{bmatrix}\n",
    "  0.8 & 0.2  \\\\\n",
    "  0.6 & 0.4  \\\\\n",
    "\\end{bmatrix} \n",
    " = \\begin{bmatrix}\n",
    "   0.74, 0.26 \\\\\n",
    "\\end{bmatrix} \n",
    "\\end{align*}\n",
    "\n",
    "</br>\n",
    "Thus the psychologist predicts that 74% of the mice will go right and 30% will go left on the 3rd trial."
   ]
  },
  {
   "cell_type": "markdown",
   "id": "39bfe07f-e8e1-49e0-8a03-586e977977f9",
   "metadata": {},
   "source": [
    "(b) </br>\n",
    "The process will stabilize when it reaches the fixed probability distribution t.  </br>\n",
    "By problem 7.11, $ u = [0.6, 0.2]$ is a fixed point of M and so $ t = [\\frac{3}{4}, \\frac{1}{4}] = [ 0.75, 0.25] $</br>\n",
    "\n",
    "So the process stabilizes after the 3rd trial."
   ]
  },
  {
   "cell_type": "markdown",
   "id": "72c46ceb-85cd-4698-9966-87b803260341",
   "metadata": {},
   "source": [
    "__7.35__ p. 242</br>\n",
    "\n",
    "John either drives or takes the train to work.  If he drives to work, then the next day he takes the train with probability 0.2.  On the other hand, if he takes the train to work, then the next day he drives with the probability of 0.3.  Find out how often in the long run he drives to work.\n"
   ]
  },
  {
   "cell_type": "markdown",
   "id": "cddc9ba1-bef4-46bf-8054-8d380cd92e83",
   "metadata": {
    "execution": {
     "iopub.execute_input": "2023-11-18T20:53:44.454073Z",
     "iopub.status.busy": "2023-11-18T20:53:44.453716Z",
     "iopub.status.idle": "2023-11-18T20:53:44.459910Z",
     "shell.execute_reply": "2023-11-18T20:53:44.458832Z",
     "shell.execute_reply.started": "2023-11-18T20:53:44.454047Z"
    }
   },
   "source": [
    "\n",
    "$$ M  \\ \\ = \\ \\ \\ \n",
    "\\begin{array}{c c} \n",
    "& \\begin{array}{c c} D & T \\\\ \\end{array} \\\\\n",
    "\\begin{array}{c c} D \\\\ T \\\\ \\end{array} &\n",
    "\\left[\n",
    "\\begin{array}{c c c}\n",
    "0.8 & 0.2 \\\\\n",
    "0.3 & 0.7 \\\\\n",
    "\\end{array}\n",
    "\\right]\n",
    "\\end{array}\n",
    "$$"
   ]
  },
  {
   "cell_type": "markdown",
   "id": "3439214b-8529-4323-bdcc-2b66f34b6e7f",
   "metadata": {
    "execution": {
     "iopub.execute_input": "2023-11-18T20:49:52.906559Z",
     "iopub.status.busy": "2023-11-18T20:49:52.906192Z",
     "iopub.status.idle": "2023-11-18T20:49:52.915370Z",
     "shell.execute_reply": "2023-11-18T20:49:52.914247Z",
     "shell.execute_reply.started": "2023-11-18T20:49:52.906524Z"
    }
   },
   "source": [
    "$ u = [0.3, 0.2]$</br>\n",
    "\n",
    "To get rid of fractions multiply by 10. </br>\n",
    "\n",
    "$10u = [3,2]$</br>\n",
    "\n",
    "Thus the unique fixed probability vector is $[\\frac{3}{5}, \\frac{2}{5}]$</br>\n",
    "\n",
    "And in the long term, the probability that John drives to work is $\\frac{3}{5}$ or 60%."
   ]
  },
  {
   "cell_type": "markdown",
   "id": "6a406bea-872a-4a99-81f6-4e3caca0ad25",
   "metadata": {},
   "source": [
    "__7.36__ p. 256</br>\n",
    "\n",
    "Mary's gambling luck follows a pattern.  If she wins a game, the probablity of winning the next game is 0.6.  However, if she loses a game, the probability of losing the next game is 0.7.  There is an even chance that she wins the first game.</br>\n",
    "\n",
    "(a) Find transition matrix M of the Markov process </br>\n",
    "(b) Find probability that she wins the 2nd game </br>\n",
    "(c) Find probability she wins 3rd game.</br>\n",
    "(d) Find out how often in the long run she wins</br>"
   ]
  },
  {
   "cell_type": "markdown",
   "id": "72663e2d-b817-4109-b281-e9288869db49",
   "metadata": {
    "execution": {
     "iopub.execute_input": "2023-11-18T21:12:29.003476Z",
     "iopub.status.busy": "2023-11-18T21:12:29.003115Z",
     "iopub.status.idle": "2023-11-18T21:12:29.009631Z",
     "shell.execute_reply": "2023-11-18T21:12:29.008544Z",
     "shell.execute_reply.started": "2023-11-18T21:12:29.003450Z"
    }
   },
   "source": [
    "(a)\n",
    "$$ M  \\ \\ = \\ \\ \\ \n",
    "\\begin{array}{c c} \n",
    "& \\begin{array}{c c} W & L \\\\ \\end{array} \\\\\n",
    "\\begin{array}{c c} W \\\\ L \\\\ \\end{array} &\n",
    "\\left[\n",
    "\\begin{array}{c c c}\n",
    "0.6 & 0.4 \\\\\n",
    "0.3 & 0.7 \\\\\n",
    "\\end{array}\n",
    "\\right]\n",
    "\\end{array}\n",
    "$$</br>\n",
    "\n",
    "initial probability: $ q = [0.5, 0.5]$"
   ]
  },
  {
   "cell_type": "markdown",
   "id": "6b831313-6e01-46ce-8173-2fa61ab3d7b1",
   "metadata": {
    "execution": {
     "iopub.execute_input": "2023-11-18T21:23:56.035806Z",
     "iopub.status.busy": "2023-11-18T21:23:56.035424Z",
     "iopub.status.idle": "2023-11-18T21:23:56.041889Z",
     "shell.execute_reply": "2023-11-18T21:23:56.040606Z",
     "shell.execute_reply.started": "2023-11-18T21:23:56.035777Z"
    },
    "tags": []
   },
   "source": [
    "(b)\n",
    "\n",
    "\\begin{align*}\n",
    "= \\left[\\begin{array}{ccc}\n",
    "   0.5 &  0.5  \\\\\n",
    "\\end{array}\\right]\n",
    "\\begin{bmatrix}\n",
    "  0.6 & 0.4  \\\\\n",
    "  0.3 & 0.7  \\\\\n",
    "\\end{bmatrix} \n",
    " = \\begin{bmatrix}\n",
    "   0.3+0.15 & 0.2 + 0.35  \\\\\n",
    "\\end{bmatrix}\n",
    " = \\begin{bmatrix}\n",
    "   0.45, 0.55  \\\\\n",
    "\\end{bmatrix} \n",
    "\\end{align*}\n",
    "\n",
    "$$\n",
    "\\begin{array}{c c} \n",
    "& \\begin{array}{c c} W & L \\\\ \\end{array} \\\\\n",
    " &\n",
    "\\left[\n",
    "\\begin{array}{c c c}\n",
    "0.45 & 0.55 \\\\\n",
    "\\end{array}\n",
    "\\right]\n",
    "\\end{array}\n",
    "$$\n",
    "\n",
    "</br>\n",
    "Thus the probability of a win after the second game is 45%."
   ]
  },
  {
   "cell_type": "markdown",
   "id": "baba3030-220f-4f52-8634-0be8dbe7c53c",
   "metadata": {},
   "source": [
    "(c)\n",
    "\n",
    "\\begin{align*}\n",
    "= \\left[\\begin{array}{ccc}\n",
    "   0.45 &  0.55  \\\\\n",
    "\\end{array}\\right]\n",
    "\\begin{bmatrix}\n",
    "  0.6 & 0.4  \\\\\n",
    "  0.3 & 0.7  \\\\\n",
    "\\end{bmatrix} \n",
    " = \\begin{bmatrix}\n",
    "   0.27+0.165 & 0.18 + 0.385  \\\\\n",
    "\\end{bmatrix}\n",
    " = \\begin{bmatrix}\n",
    "   0.435, 0.565  \\\\\n",
    "\\end{bmatrix} \n",
    "\\end{align*}\n",
    "\n",
    "$$\n",
    "\\begin{array}{c c} \n",
    "& \\begin{array}{c c} W & L \\\\ \\end{array} \\\\\n",
    " &\n",
    "\\left[\n",
    "\\begin{array}{c c c}\n",
    "0.41 & 0.61 \\\\\n",
    "\\end{array}\n",
    "\\right]\n",
    "\\end{array}\n",
    "$$\n",
    "\n",
    "\n",
    "</br>\n",
    "Thus the probability of a win after the third game is 43.5%."
   ]
  },
  {
   "cell_type": "markdown",
   "id": "54651d9f-0ccb-45fb-8c8b-8a8523aeb787",
   "metadata": {
    "execution": {
     "iopub.execute_input": "2023-11-18T21:15:17.984264Z",
     "iopub.status.busy": "2023-11-18T21:15:17.983881Z",
     "iopub.status.idle": "2023-11-18T21:15:17.990203Z",
     "shell.execute_reply": "2023-11-18T21:15:17.989004Z",
     "shell.execute_reply.started": "2023-11-18T21:15:17.984237Z"
    }
   },
   "source": [
    "(d) The fixed probability distribution t can be found as follows</br>\n",
    "\n",
    "$ u = [0.3, 0.4]$</br>\n",
    "\n",
    "$10u = [3,4]$</br>\n",
    "\n",
    "$t = [\\frac{3}{7}, \\frac{4}{7}]$</br>\n",
    "\n",
    "Thus the probablity of Mary winning in the long term is about $\\frac{3}{7}$ or $42.9 \\%$"
   ]
  },
  {
   "cell_type": "markdown",
   "id": "c059d5e9-1aac-436e-9111-637155a93c9f",
   "metadata": {},
   "source": [
    "__7.37__ p. 242 </br>\n",
    "Suppose $q_0 = [ \\frac{1}{4} \\frac{3}{4}]$ is the initial state distribution for a Markov Process with the following transition matrix:</br>\n",
    "$ M  \\ \\ = \\ \\ \\ \n",
    "\\begin{array}{c c} \n",
    "& \\begin{array}{c c c}  \\end{array} \\\\\n",
    "\\begin{array}{c c c}  \\end{array} &\n",
    "\\left[\n",
    "\\begin{array}{c c }\n",
    "\\frac{1}{2} & \\frac{1}{2} \\\\\n",
    "\\frac{3}{4} & \\frac{1}{4}  \\\\\n",
    "\\end{array}\n",
    "\\right]\n",
    "\\end{array}\n",
    "$\n",
    "</br></br>\n",
    "(a) Find $q_1$, $q_2$, and $q_3$</br>\n",
    "(b) Find the vector v that $q_oM^n$ approaches</br>\n",
    "(c) Find the matrix that $M^n$ approaches\n",
    "</br>"
   ]
  },
  {
   "cell_type": "markdown",
   "id": "369c385e-7b86-4427-a08e-f9ec25274f50",
   "metadata": {},
   "source": [
    "(a)\n",
    "\\begin{align*}\n",
    "q_1= \\left[\\begin{array}{ccc}\n",
    "   \\frac{1}{4} & \\frac{3}{4}  \\\\\n",
    "\\end{array}\\right]\n",
    "\\begin{bmatrix}\n",
    "\\frac{1}{2} & \\frac{1}{2} \\\\\n",
    "\\frac{3}{4} & \\frac{1}{4}  \\\\\n",
    "\\end{bmatrix} \n",
    " = \\begin{bmatrix}\n",
    "   (\\frac{1}{8} + \\frac{9}{16}) & (\\frac{1}{8} + \\frac{3}{16})  \\\\\n",
    "\\end{bmatrix}\n",
    " = \\begin{bmatrix}\n",
    "   \\frac{11}{16} & \\frac{5}{16}  \\\\\n",
    "\\end{bmatrix} \n",
    "\\end{align*}\n",
    "</br></br>"
   ]
  },
  {
   "cell_type": "markdown",
   "id": "ea49c8bd-188d-443c-8d06-829c11b7b906",
   "metadata": {
    "execution": {
     "iopub.execute_input": "2023-11-21T23:27:24.402132Z",
     "iopub.status.busy": "2023-11-21T23:27:24.401702Z",
     "iopub.status.idle": "2023-11-21T23:27:24.420732Z",
     "shell.execute_reply": "2023-11-21T23:27:24.419384Z",
     "shell.execute_reply.started": "2023-11-21T23:27:24.402093Z"
    }
   },
   "source": [
    "\\begin{align*}\n",
    "q_2= \\left[\\begin{array}{ccc}\n",
    "   \\frac{11}{16} & \\frac{5}{16}  \\\\\n",
    "\\end{array}\\right]\n",
    "\\begin{bmatrix}\n",
    "\\frac{1}{2} & \\frac{1}{2} \\\\\n",
    "\\frac{3}{4} & \\frac{1}{4}  \\\\\n",
    "\\end{bmatrix} \n",
    " = \\begin{bmatrix}\n",
    "   (\\frac{11}{32} + \\frac{15}{64}) & (\\frac{11}{32} + \\frac{5}{64})  \\\\\n",
    "\\end{bmatrix}\n",
    " = \\begin{bmatrix}\n",
    "   \\frac{37}{64} & \\frac{27}{64}  \\\\\n",
    "\\end{bmatrix} \n",
    "\\end{align*}\n",
    "</br></br>"
   ]
  },
  {
   "cell_type": "markdown",
   "id": "19b24de4-516d-4b85-be66-38d4f9b896fa",
   "metadata": {
    "execution": {
     "iopub.execute_input": "2023-11-21T23:28:31.487890Z",
     "iopub.status.busy": "2023-11-21T23:28:31.487518Z",
     "iopub.status.idle": "2023-11-21T23:28:31.495265Z",
     "shell.execute_reply": "2023-11-21T23:28:31.493969Z",
     "shell.execute_reply.started": "2023-11-21T23:28:31.487857Z"
    }
   },
   "source": [
    "\\begin{align*}\n",
    "q_2= \\left[\\begin{array}{ccc}\n",
    "   \\frac{37}{64} & \\frac{27}{64}  \\\\\n",
    "\\end{array}\\right]\n",
    "\\begin{bmatrix}\n",
    "\\frac{1}{2} & \\frac{1}{2} \\\\\n",
    "\\frac{3}{4} & \\frac{1}{4}  \\\\\n",
    "\\end{bmatrix} \n",
    " = \\begin{bmatrix}\n",
    "   (\\frac{37}{128} + \\frac{81}{256}) & (\\frac{37}{128} + \\frac{37}{256})  \\\\\n",
    "\\end{bmatrix}\n",
    " = \\begin{bmatrix}\n",
    "   \\frac{155}{256} & \\frac{111}{256}  \\\\\n",
    "\\end{bmatrix} \n",
    "\\end{align*}\n",
    "</br></br>"
   ]
  },
  {
   "cell_type": "markdown",
   "id": "3e7f2151-7576-4370-9fe9-91af216e57f0",
   "metadata": {},
   "source": [
    "__7.38__ p.242<br> \n",
    "Suppose $q_o = [\\frac{1}{2},\\frac{1}{2}, 0]$ is the initial state distribution for a Markov Process with the following transition matrix:</br>\n",
    "$ M  \\ \\ = \\ \\ \\ \n",
    "\\begin{array}{c c} \n",
    "& \\begin{array}{c c c}  \\end{array} \\\\\n",
    "\\begin{array}{c c c}  \\end{array} &\n",
    "\\left[\n",
    "\\begin{array}{c c c}\n",
    "\\frac{1}{2} & 0 & \\frac{1}{2} \\\\\n",
    "1 & 0 & 0  \\\\\n",
    "\\frac{1}{4} & \\frac{1}{2} & \\frac{1}{4} \\\\\n",
    "\\end{array}\n",
    "\\right]\n",
    "\\end{array}\n",
    "$\n",
    "</br></br>\n",
    "(a) Find $q_1$, $q_2$, and $q_3$</br>\n",
    "(b) Find the vector v that $q_oM^n$ approaches</br>\n",
    "(c) Find the matrix that $M^n$ approaches\n",
    "</br>\n",
    "\n",
    "\n",
    "\n"
   ]
  },
  {
   "cell_type": "markdown",
   "id": "8be1e7f9-d9b1-4d66-98b1-4b03354174ba",
   "metadata": {},
   "source": [
    "(a)\n",
    "\\begin{align*}\n",
    "q_1= \\left[\\begin{array}{ccc}\n",
    "   \\frac{1}{2} & \\frac{1}{2} & 0  \\\\\n",
    "\\end{array}\\right]\n",
    "\\begin{bmatrix}\n",
    "\\frac{1}{2} & 0 & \\frac{1}{2} \\\\\n",
    "1 & 0 & 0  \\\\\n",
    "\\frac{1}{4} & \\frac{1}{2} & \\frac{1}{4} \\\\\n",
    "\\end{bmatrix} \n",
    " = \\begin{bmatrix}\n",
    "   (\\frac{1}{4} + \\frac{1}{2} + 0) & ( 0 + 0 + 0) & (\\frac{1}{4} + 0 + 0)  \\\\\n",
    "\\end{bmatrix}\n",
    " = \\begin{bmatrix}\n",
    "   \\frac{3}{4} & 0 & \\frac{1}{4}  \\\\\n",
    "\\end{bmatrix} \n",
    "\\end{align*}\n",
    "</br></br>"
   ]
  },
  {
   "cell_type": "markdown",
   "id": "6971469a-fb7e-4411-a5d0-7bf24b91a69f",
   "metadata": {},
   "source": [
    "\\begin{align*}\n",
    "q_2= \\left[\\begin{array}{ccc}\n",
    "   \\frac{3}{4} & 0 & \\frac{1}{4} \\\\\n",
    "\\end{array}\\right]\n",
    "\\begin{bmatrix}\n",
    "\\frac{1}{2} & 0 & \\frac{1}{2} \\\\\n",
    "1 & 0 & 0  \\\\\n",
    "\\frac{1}{4} & \\frac{1}{2} & \\frac{1}{4} \\\\\n",
    "\\end{bmatrix} \n",
    "= \\begin{bmatrix}\n",
    "   (\\frac{3}{8} + 0 + \\frac{1}{16}) & ( 0 + 0 + \\frac{1}{8}) & (\\frac{3}{8} + 0 + \\frac{1}{16})  \\\\\n",
    "\\end{bmatrix}\n",
    " = \\begin{bmatrix}\n",
    "   \\frac{7}{16} & \\frac{2}{16} & \\frac{7}{16}  \\\\\n",
    "\\end{bmatrix} \n",
    "\\end{align*}\n",
    "</br></br>"
   ]
  },
  {
   "cell_type": "markdown",
   "id": "e65bbfc1-737f-4870-9b4b-812a10ed9cca",
   "metadata": {},
   "source": [
    "\\begin{align*}\n",
    "q_3= \\left[\\begin{array}{ccc}\n",
    "   \\frac{7}{16} & \\frac{2}{16} & \\frac{7}{16}  \\\\\n",
    "\\end{array}\\right]\n",
    "\\begin{bmatrix}\n",
    "\\frac{1}{2} & 0 & \\frac{1}{2} \\\\\n",
    "1 & 0 & 0  \\\\\n",
    "\\frac{1}{4} & \\frac{1}{2} & \\frac{1}{4} \\\\\n",
    "\\end{bmatrix} \n",
    " = \\begin{bmatrix}\n",
    "   (\\frac{7}{32} + \\frac{2}{16} + \\frac{7}{64}) & ( 0 + 0 + \\frac{7}{32}) & (\\frac{7}{32} + 0 + \\frac{7}{64})  \\\\\n",
    "\\end{bmatrix}\n",
    " = \\begin{bmatrix}\n",
    "   \\frac{29}{64} & \\frac{14}{64} & \\frac{21}{64}  \\\\\n",
    "\\end{bmatrix} \n",
    "\\end{align*}\n",
    "</br></br>"
   ]
  },
  {
   "cell_type": "markdown",
   "id": "b4e02e1e-332a-49b4-ac03-f82576766db3",
   "metadata": {},
   "source": [
    "(b) $M^n$ approaches the matrix T whose rows are each the unique fixed probability vector t of M.  To find t, first find any fixed vector $u=[x,y,z]$ of M. Thus...</br>\n",
    "\\begin{align*}\n",
    "\\left[\\begin{array}{ccc}\n",
    "   x & y & z  \\\\\n",
    "\\end{array}\\right]\n",
    "\\begin{bmatrix}\n",
    "\\frac{1}{2} & 0 & \\frac{1}{2} \\\\\n",
    "1 & 0 & 0  \\\\\n",
    "\\frac{1}{4} & \\frac{1}{2} & \\frac{1}{4} \\\\\n",
    "\\end{bmatrix} \n",
    " = \\begin{bmatrix}\n",
    "   x & y & z  \\\\\n",
    "\\end{bmatrix}\n",
    "\\;\\;or\\;\\;\n",
    "\\begin{array}{ll}\n",
    "  \\frac{1}{2}x + y + \\frac{1}{4}z = x \\\\\n",
    "  \\frac{1}{2}z = y \\\\\n",
    "  \\frac{1}{2}x + \\frac{1}{4}z = z \n",
    "\\end{array}\n",
    "\\end{align*}\n",
    "\n",
    "</br></br>\n",
    "To solve the set of equations, let $z=1$, the second equation then yields $y = \\frac{1}{2}$</br>\n",
    "The third equation yields $\\frac{1}{2}x + \\frac{1}{4} = 1 \\rightarrow  \\frac{1}{2}x = \\frac{3}{4} \\rightarrow x=\\frac{6}{4} = \\frac{3}{2}$</br>\n",
    "Checking that equations were solved correctly:</br>\n",
    "$\\frac{1}{2}\\frac{3}{2})+\\frac{1}{2}+\\frac{1}{4}(1) = x$</br>\n",
    "$\\frac{3}{4} + \\frac{2}{4} + \\frac{1}{4} = \\frac{6}{4} = \\frac{3}{2}$</br></br>\n",
    "thus $u=[\\frac{3}{2}, \\frac{1}{2}, 1]$ is a fixed point of M.</br></br>\n",
    "$2u = [3,1,2]$</br></br>\n",
    "$t = [\\frac{3}{6}, \\frac{1}{6}, \\frac{2}{6}]=[\\frac{1}{2}, \\frac{1}{6}, \\frac{1}{3}]$</br></br>\n",
    "(c)</br>\n",
    "Thus M_n approaches:</br>\n",
    "$ M_n  \\ \\ \\rightarrow \\ \\ \\ \n",
    "\\begin{array}{c c} \n",
    "& \\begin{array}{c c} \\\\ \\end{array} \\\\\n",
    "\\begin{array}{c c} \\end{array} &\n",
    "\\left[\n",
    "\\begin{array}{c c c}\n",
    "\\frac{1}{2} & \\frac{1}{6} & \\frac{1}{3} \\\\\n",
    "\\frac{1}{2} & \\frac{1}{6} & \\frac{1}{3} \\\\\n",
    "\\frac{1}{2} & \\frac{1}{6} & \\frac{1}{3} \\\\\n",
    "\\end{array}\n",
    "\\right]\n",
    "\\end{array}\n",
    "$\n",
    "</br>\n",
    "</br>\n"
   ]
  },
  {
   "cell_type": "markdown",
   "id": "3d102b1c-2c3f-4c5e-abf5-ff653c072210",
   "metadata": {},
   "source": [
    "__7.40__</br>\n",
    "Find the transition matrix corresponding to each transition diagram </br>\n",
    "(a)</br>\n",
    "$ P  \\ \\ = \\ \\ \\ \n",
    "\\begin{array}{c c} \n",
    "& \\begin{array}{c c} d_1 & d_2 & d_3 \\\\ \\end{array} \\\\\n",
    "\\begin{array}{c c} d_1 \\\\ d_2 \\\\ d_3 \\\\ \\end{array} &\n",
    "\\left[\n",
    "\\begin{array}{c c c}\n",
    "\\frac{1}{2} & \\frac{1}{2} & 0 \\\\\n",
    "0 & \\frac{1}{2} & \\frac{1}{4}  \\\\\n",
    "\\frac{1}{2} & \\frac{1}{2} & \\frac{1}{4} \\\\\n",
    "\\end{array}\n",
    "\\right]\n",
    "\\end{array}\n",
    "$\n",
    "</br>\n",
    "</br>\n",
    "(b)</br>\n",
    "$ P  \\ \\ = \\ \\ \\ \n",
    "\\begin{array}{c c} \n",
    "& \\begin{array}{c c} d_1 & d_2 & d_3 & d_4 \\\\ \\end{array} \\\\\n",
    "\\begin{array}{c c} d_1 \\\\ d_2 \\\\ d_3 \\\\ d_4 \\\\ \\end{array} &\n",
    "\\left[\n",
    "\\begin{array}{c c c}\n",
    "0 & 0 & 1 & 0 \\\\\n",
    "\\frac{1}{4} & \\frac{1}{2} & 0 & \\frac{1}{4}  \\\\\n",
    "\\frac{1}{2} & 0 & 0 & \\frac{1}{2} \\\\\n",
    "\\frac{1}{2} & \\frac{1}{2} & 0 & 0 \\\\\n",
    "\\end{array}\n",
    "\\right]\n",
    "\\end{array}\n",
    "$"
   ]
  },
  {
   "cell_type": "markdown",
   "id": "10686226-bfb3-4ee9-8335-fc7dbca693c6",
   "metadata": {},
   "source": [
    "__7.41__\n",
    "Draw a transition diagram for each matrix"
   ]
  },
  {
   "cell_type": "markdown",
   "id": "58b0cc05-f51a-40aa-af89-6f98239a6f4e",
   "metadata": {},
   "source": [
    "__7.42__\n",
    "Consider the vector..."
   ]
  },
  {
   "cell_type": "markdown",
   "id": "9a683b67-5818-4adf-948a-7e89d49d2644",
   "metadata": {},
   "source": [
    " "
   ]
  }
 ],
 "metadata": {
  "kernelspec": {
   "display_name": "saturn (Python 3)",
   "language": "python",
   "name": "python3"
  },
  "language_info": {
   "codemirror_mode": {
    "name": "ipython",
    "version": 3
   },
   "file_extension": ".py",
   "mimetype": "text/x-python",
   "name": "python",
   "nbconvert_exporter": "python",
   "pygments_lexer": "ipython3",
   "version": "3.9.15"
  }
 },
 "nbformat": 4,
 "nbformat_minor": 5
}
