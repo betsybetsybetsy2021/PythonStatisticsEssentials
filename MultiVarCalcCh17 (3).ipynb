{
 "cells": [
  {
   "cell_type": "markdown",
   "id": "b86dfa49-ce4f-49e4-95f5-82b587ff1ea0",
   "metadata": {},
   "source": [
    "__Multivariable Calculus - Fourth Edition</br>\n",
    "by James Stewart </br>\n",
    "Chapter 17 - Vector Calculus__"
   ]
  },
  {
   "cell_type": "code",
   "execution_count": 1,
   "id": "76aeb8bf-9ed3-48eb-a588-f8a80cc31f03",
   "metadata": {
    "execution": {
     "iopub.execute_input": "2023-10-18T20:54:53.358968Z",
     "iopub.status.busy": "2023-10-18T20:54:53.358679Z",
     "iopub.status.idle": "2023-10-18T20:54:54.778087Z",
     "shell.execute_reply": "2023-10-18T20:54:54.777384Z",
     "shell.execute_reply.started": "2023-10-18T20:54:53.358931Z"
    }
   },
   "outputs": [],
   "source": [
    "import numpy as np\n",
    "import math\n",
    "import matplotlib.pyplot as plt"
   ]
  },
  {
   "cell_type": "code",
   "execution_count": 2,
   "id": "13b05eb4-ea19-44e5-8003-34f04c7c09b5",
   "metadata": {
    "execution": {
     "iopub.execute_input": "2023-10-18T20:54:54.781868Z",
     "iopub.status.busy": "2023-10-18T20:54:54.781567Z",
     "iopub.status.idle": "2023-10-18T20:54:54.785799Z",
     "shell.execute_reply": "2023-10-18T20:54:54.784920Z",
     "shell.execute_reply.started": "2023-10-18T20:54:54.781847Z"
    },
    "tags": []
   },
   "outputs": [],
   "source": [
    "# This is the work that no one will sponsor me to get back into. Where are my engineers and physicists at? and who has a spare SSN?\n",
    "# Impedance matching transmission lines is triple integrals\n",
    "# Radar cross sections is RF, reflections, and Finite Element Analysis\n",
    "# Electromagnetic propulsion, maglev trains are all about the magnetic fields! This stuff ... right here is its \n",
    "# foundation.\n",
    "# This is how I am spending my birthday - alone, doing math.  I got a free Starbucks drink this morning.  That will be the only thing I get. \n",
    "# Thanks for the pie and the socks to the others still giving."
   ]
  },
  {
   "cell_type": "markdown",
   "id": "796a6e37-1d17-4f84-854c-08496e613f6c",
   "metadata": {
    "execution": {
     "iopub.execute_input": "2023-10-03T00:49:25.344836Z",
     "iopub.status.busy": "2023-10-03T00:49:25.344445Z",
     "iopub.status.idle": "2023-10-03T00:49:25.353453Z",
     "shell.execute_reply": "2023-10-03T00:49:25.352164Z",
     "shell.execute_reply.started": "2023-10-03T00:49:25.344799Z"
    }
   },
   "source": [
    "__17.2__\n",
    "__Line Integrals__"
   ]
  },
  {
   "cell_type": "markdown",
   "id": "37ad7f39-bb48-48ec-9887-99beaa013fd2",
   "metadata": {},
   "source": [
    "__Exercise 1__</br>\n",
    "Evaluate the line integral where C is the given curve\n",
    "</br>\n",
    "$\\int_C y ds$, $C:x=t^2$, $y=t$, $0≤t≤2$\n",
    "\n",
    "From p.1082\n",
    "$ds = \\sqrt{ (\\frac{dx}{dt})^2 + (\\frac{dy}{dt})^2 }dt$\n",
    "</br>\n",
    "\n",
    "$\\frac{dx}{dt} = 2t$\n",
    "</br>\n",
    "$\\frac{dy}{dt} = 1$\n",
    "</br>\n",
    "\n",
    "$\\int_0^2 t\\sqrt{(\\frac{dx}{dt})^2+(\\frac{dy}{dt})^2}dt$\n",
    "$= \\int_0^2 t\\sqrt{(2t)^2+(1)^2}$\n",
    "$= \\int_0^2 t \\sqrt{4t^2 + 1} dt$\n",
    "$= \\frac{1}{8} \\int_0^2 8t \\sqrt{4t^2+1}$\n",
    "\n",
    "using u-substitution\n",
    "\n",
    "$\\int \\sqrt{u} du = \\frac{2}{3}(u)^{\\frac{3}{2}}$\n",
    "\n",
    "$\\frac{1}{8}[\\frac{2}{3} (4t^2+1)]_0^2 = [\\frac{2}{24}(17)^{\\frac{3}{2}}]-[\\frac{2}{24}] = \\frac{1}{12} (17\\sqrt{17} -1) $\n",
    "\n",
    "Book Answer:\n",
    "$\\frac{17\\sqrt{17}-1}{12}$"
   ]
  },
  {
   "cell_type": "markdown",
   "id": "0dd0db66-ca11-47ee-bafc-963e715b86a9",
   "metadata": {},
   "source": [
    "__Exercise 16__ p.1091\n",
    "</br>\n",
    "$\\int_C yz\\;dx +xz\\;dy + xy\\;dz$\n",
    "</br>\n",
    "C consists of line segments from (0,0,0) to (0,1,1) from (0,1,1) to (1,2,3) and from (1,2,3) to (1,2,4)\n",
    "</br>\n",
    "$r(t)=(1-t)r_o + tr_1$\n",
    "</br>\n",
    "For $C_1$</br>\n",
    "$r(t)=(1-t)<0,0,0>+t<0,1,1> = <1,1+t,1+t>$,$0≤t≤1$\n",
    "</br>\n",
    "$\\int_0^1 [(1+t)(1+t) + (1)(1+t) + (1)(1+t) ]dt = \\int_0^1 t^2 + 4t +3 dt = [\\frac{1}{3}t^3 + \\frac{2}{4}t^2 +3t]_0^1 = [3+2+\\frac{1}{3} ] -[0] =\\frac{16}{3}$\n",
    "</br>\n",
    "For $C_2$ \n",
    "$r(t)=(1-t)<0,1,1>+t<1,2,3> = <1+t,2t,3t>$\n",
    "$\\int_0^1 [(2t)(3t) + (1+t)(3+t) + (1+t)(2t)]dt =\\int_0^1 (11t^2 + 5t) dt = [\\frac{11}{3}t^3 + \\frac{5}{2}]_0^1 = \\frac{11}{3} + \\frac{5}{2} = \\frac{22}{6} + \\frac{15}{6} = \\frac{37}{6}$\n",
    "</br>\n",
    "For $C_3$\n",
    "$r(t)=(1-t)<1,2,3>+t<1,2,4> = <t,-1+2t,-2+4t>$\n",
    "$\\int_0^1 [(-1+2t)(-2+4t)+(t)(-2+4t)+(t)(-1+2t)]dt = \\int_0^1 (18t^2 -11t + 2)dt = [\\frac{18}{3}t^3-\\frac{11}{2}t^2 + 2t]_0^1 = \\frac{36}{6} - \\frac{33}{6} + \\frac{12}{6} $\n",
    "</br>\n",
    "$C_1+C_2+C_3= \\frac{32}{6} + \\frac{37}{6} + \\frac{15}{6} = \\frac{84}{6} = 14$\n",
    "\n",
    "This is not a silver line. "
   ]
  },
  {
   "cell_type": "markdown",
   "id": "bed0075e-03b0-48fe-a3c9-113121b2f17e",
   "metadata": {},
   "source": [
    "__Exercise 19__</br>\n",
    "Evaluate the line Integral $\\int_C F•dr$, where C is given by the vector function r(t)\n",
    "\n",
    "$F(x,y) = x^2y^3i - y\\sqrt{x}$<\\br>\n",
    "$r(t) = t^2i - t^3j$, $0≤t≤1$</br>\n",
    "\n",
    "$\\int_a^b F•dr = \\int_a^b F(r(t))•r'(t)= \\int_C F•Tds$\n",
    "\n",
    "$r'(t) = 2ti -3t^2j$</br>\n",
    "$F(r(t))=(t^2)^2(-t^3)^3i+(-t^3)\\sqrt{(t^2)}j = -t^{14} -3t^6$\n",
    "\n",
    "$F(r(t))•r'(t)=(2t)(-t^13)+(-3t^2)(-t^4) = -2t^{14} -3t^6$\n",
    "\n",
    "$\\int_0^1 F(r(t))•r'(t)= \\int_0^1 -2t^14 - 3t^6 = \\frac{-2}{15}-\\frac{3}{7} t^7 = [\\frac{-2}{15} - \\frac{3}{7}]-[0] = \\frac{-14}{105}-\\frac{49}{105}=\\frac{-59}{105}$\n",
    "\n",
    "I was supposed to be doing TSCM for embassies - that is the office i came from but they originally had other plans - MENA but they have seen the men near me and ignored me.  i am not receiving any training or development other than what I can do on my own.  I am not FBI or corrections. "
   ]
  },
  {
   "cell_type": "markdown",
   "id": "763525ea-8f8b-4a33-bb6a-5154e75fcaee",
   "metadata": {},
   "source": [
    "__Exercise 20__\n",
    "$F(x,y,z) = yzi + xzj + xyk$\n",
    "$r(t)=ti + t^2j + t^3k$\n",
    "$0≤t≤2$\n",
    "\n",
    "$\\int_C F•dr$, where C is given by the vector function r(t)\n",
    "\n",
    "$r'(t)=i + 2tj + 3t^2k$\n",
    "$F(r(t))=(2t)(3t^2)i + (1)(3t^2)j + (1)(2t)k = 6t^3i+3t^2j+2tk$\n",
    "\n",
    "$F(r(t))•r'(t)=(6t^3)(1)+(3t^2)(2)+(2t)(3t^2)=6t^3 + 6t^2 + 6t^3 = 12t^3 + 6t^2$\n",
    "\n",
    "$\\int_0^2 (12t^3+6t^2)dt = [ \\frac{12}{4}t^4 + \\frac{6}{3}t^3]_0^2 = [3t^4+2t^3]_0^2 = [(3)(16)+(2)(8)]=48+16=64$ \n"
   ]
  },
  {
   "cell_type": "markdown",
   "id": "b2b065ee-0ff2-447f-af01-4c70bcb689d9",
   "metadata": {},
   "source": [
    "__Exercise 21__\n",
    "$F(x,y,z) = sinxi + cosyj + xzk$\n",
    "$r(t)=t^3i-t^2j+tk$,$0≤t≤1$\n",
    "\n",
    "$r'(t)=3t^2i-2tj+k$\n",
    "$F(r(t)) = $\n",
    "\n",
    "###finish laters###\n"
   ]
  },
  {
   "cell_type": "markdown",
   "id": "117d4525-2e89-4365-89c9-0f682dfa28bf",
   "metadata": {},
   "source": [
    "__Exercise 22__\n",
    "$F(x,y,z)=x^2i + xyj + z^2k$\n",
    "$r(t)=sint i + cos t j + t^2k$\n",
    "$0≤t≤\\frac{π}{2}$\n",
    "\n",
    "$r'(t)=cos t i - sin t j + 2tk$\n",
    "$F(r(t)) = (sin t)^2 + (sin t)(cos t) + (t^2)^2 = sin^2 t + sin t cos t + t^4$\n",
    "\n",
    "$\\int_C F(r(t)•r'(t) = \\int_0^{\\frac{π}{2}} (sin^2t)(cos t) - (sin^2t)(cos t) + (t^4)(2t) $\n",
    "$= \\int_0^{\\frac{π}{2}}  2t^5 = [\\frac{2}{6}t^6]_0^{\\frac{π}{2}} = [\\frac{1}{3}t^6]_0^{\\frac{π}{2}} = [\\frac{1}{3}(\\frac{π}{2})^6]-[0] = \\frac{π^6}{192}$"
   ]
  },
  {
   "cell_type": "markdown",
   "id": "8aaad302-4b21-4955-95ae-f1c66fb06c19",
   "metadata": {},
   "source": [
    "__Exercise 25__\n",
    "(a) Evaluate the line integral $\\int_C F•dr$, where\n",
    "$F(x,y) = e^{x-1}i + xyj$\n",
    "</br>\n",
    "and C is given by\n",
    "</br>\n",
    "$r(t)=t^2i+t^3j$,  $0≤t≤1$\n",
    "</br>\n",
    "$r'(t)=2ti+3t^2j = e^{(t^2-1)}i + t^5j$\n",
    "\n",
    "$\\int_C F•dr = \\int_C F(r(t))•r'(t) = \\int_C e^{t^2-1}(2t) + (t^5)(3t^2) = \\int 2te^{t^2-1} + 3t^7 = [e^{t^2-1} + \\frac{3}{8} t^8]_0^1 = [e^0 + \\frac{3}{8}] - [e^{-1} + 0] = [\\frac{11}{8}] - [e^-1] = \\frac{11}{8} - e^{-1}$\n",
    "\n",
    "(b) Illustrate part (a) by using a graphing calculator or computer to graph C and the vectors from the vector field corresponding to $t=0$, $1/\\sqrt{2}$, and 1.\n"
   ]
  },
  {
   "cell_type": "markdown",
   "id": "3d3f3b22-8727-4668-b215-879619323d3f",
   "metadata": {},
   "source": [
    "__Exercise 26__\n",
    "\n",
    "(a) Evaluate the line integral $\\int_C F•dr$, where\n",
    "$F(x,y,z) = xi - zj + yk$\n",
    "</br>\n",
    "and C is given by</br>\n",
    "$r(t)=2ti + 3tj - t^2k$\n",
    "$-1≤t≤1$\n",
    "\n",
    "$r'(t) = 2i + 3j - 2t$\n",
    "$ F(r(t)) = (2t)i - (-t^2)j + (3t)k$\n",
    "\n",
    "$\\int_C F•dr = \\int_C F(r(t))•r'(t) = \\int_C (2t)(2) + (t^2)(3) + (3t)(-2) = \\int_C 4t + 3t^2 - 6t = \\int_C -2t + 3t^2 = [\\frac{3}{3} - \\frac{2}{2} t^2]_-1^1 = [1-1] - [-1-1] = [0] - [2] = 2 $\n",
    "\n",
    "(b) Illustrate part (a) by using a computer to graph C and the vectors from the vector field corresponding to $t = ±1$ and $ ±\\frac{1}{2}$.\n"
   ]
  },
  {
   "cell_type": "markdown",
   "id": "8b2b174d-d5f8-4dd2-9022-049daa8cb88c",
   "metadata": {},
   "source": [
    "__Exercise 31__</br>\n",
    "A thin wire is bent into the shape of a semi-circle $x^2 + y^2 = 4$, $x≥0$.  If the linear density is a constant k, find the mass and center of the mass of the wire.\n",
    "\n",
    "As in the example 1 on page 1083, we use the parametrization $x=cos t$, $y= sin t$, $\\frac{-π}{2}≤t≤\\frac{π}{2}$\n",
    "\n",
    "For this circle, the radius is 2, so the linear density function is $\\rho(x,y) = k(2-x)$\n",
    "\n",
    "So the mass of the wire is\n",
    "$m = \\int_C k•ds = \\int_\\frac{-π}{2}^\\frac{π}{2} k(2-x) ds = k \\int_\\frac{-π}{2}^\\frac{π}{2} (2-cos t) dt = k[2t -sin t]_\\frac{-π}{2}^\\frac{π}{2}$\n",
    "\n",
    "\n",
    "$= k [ [\\frac{2π}{2} - 1]-[\\frac{-2π}{2} - (-1)] ]_\\frac{-π}{2}^\\frac{π}{2} $\n",
    "\n",
    "$= k [π+π] = 2πk$\n",
    "\n",
    "\n",
    "\n",
    "\n"
   ]
  },
  {
   "cell_type": "code",
   "execution_count": 3,
   "id": "5375cd16-3571-4da8-9e83-016d989edffc",
   "metadata": {
    "execution": {
     "iopub.execute_input": "2023-10-18T20:54:54.787664Z",
     "iopub.status.busy": "2023-10-18T20:54:54.787058Z",
     "iopub.status.idle": "2023-10-18T20:54:54.792816Z",
     "shell.execute_reply": "2023-10-18T20:54:54.791664Z",
     "shell.execute_reply.started": "2023-10-18T20:54:54.787632Z"
    }
   },
   "outputs": [
    {
     "ename": "SyntaxError",
     "evalue": "invalid syntax (522976333.py, line 1)",
     "output_type": "error",
     "traceback": [
      "\u001b[0;36m  Cell \u001b[0;32mIn[3], line 1\u001b[0;36m\u001b[0m\n\u001b[0;31m    https://stackoverflow.com/questions/59570281/how-to-draw-a-semicircle-using-matplotlib\u001b[0m\n\u001b[0m          ^\u001b[0m\n\u001b[0;31mSyntaxError\u001b[0m\u001b[0;31m:\u001b[0m invalid syntax\n"
     ]
    }
   ],
   "source": [
    "https://stackoverflow.com/questions/59570281/how-to-draw-a-semicircle-using-matplotlib"
   ]
  },
  {
   "cell_type": "markdown",
   "id": "ad11664b-5011-402b-b19b-011e5c57764e",
   "metadata": {},
   "source": [
    "__17.3 - The Fundamental Theorem of Calculus for Line Integrals__"
   ]
  },
  {
   "cell_type": "markdown",
   "id": "cc41921d-a92b-4276-8cd4-e7db2fdced3b",
   "metadata": {},
   "source": [
    "__Exercise 12__\n",
    "\n",
    "$F(x,y) = yi + (x+2y)j$</br>\n",
    "__C__ is the upper semicircle that starts at (0,1) and ends at (2,1)\n",
    "\n",
    "(a) Find f such that $F=\\nabla f$\n",
    "\n",
    "$f_x(x,y) = y$\n",
    "$f_y(x,y) = (x+2y)$\n",
    "\n",
    "Integrate with respect to x\n",
    "$f(x,y,z) = xy + g(y)$\n",
    "$f_y(x,y,z) = x + g_y(y)$\n",
    "\n",
    "Comparing with $f_y(x,y,z) = x + 2y$\n",
    "$g_y(y) = 2y$\n",
    "\n",
    "(b) Evaluate $\\int_C F •dr$ along curve\n",
    "\n",
    "From Theorem 2 \n",
    "\n",
    "$f(0,1) =$\n",
    "$f(2,1) =$\n",
    "\n",
    "$\\int_C F•dr = $"
   ]
  },
  {
   "cell_type": "markdown",
   "id": "1fc66138-b5c4-4488-95b4-a1c0522da401",
   "metadata": {},
   "source": [
    "__Exercise 13__\n",
    "\n",
    "$F(x,y) = x^3y^4i + x^4y^3j$\n",
    "$C:r(t) = \\sqrt{t} i + (1+t^3)j$, $0≤t≤1$\n",
    "\n",
    "(a) Find f such that $\\nabla F = f$\n",
    "\n",
    "integrate with respect to x\n",
    "$f(x,y) = \\frac{1}{4}x^4y^4 + g(y)$\n",
    "$f_y(x,y) = x^4y^3 + g_y(y)$\n",
    "comparing with above\n",
    "$g_y(y)=0$</br>\n",
    "Thus\n",
    "$f(x,y)= \\frac{1}{4} x^4y^4$\n",
    "\n",
    "(b) Evaluate $\\int_C F•dr$ along curve\n",
    "\n",
    "$r(0) = j, (0,1)$\n",
    "$r(1) = i + 2j, (1,2)$\n",
    "\n",
    "From Theorem 2\n",
    "$\\int_C \\nabla f•dr = f(r(b))-f(r(a))$\n",
    "\n",
    "$f(0,1) = 0$\n",
    "$f(1,2) = 4$\n",
    "\n",
    "$\\int_C \\nabla f•dr = 4-0 = 4$"
   ]
  },
  {
   "cell_type": "markdown",
   "id": "825b7e79-5f4b-45a0-b214-858a20fc0d43",
   "metadata": {},
   "source": [
    "__Exercise 14__\n",
    "\n",
    "$F(x,y) = e^{2y}i + (1+2xe^2y)$\n",
    "\n",
    "Integrate with respect to x\n",
    "$f(x,y) = xe^{2y} + g(y)$\n",
    "$f_y(x,y) = 2xe{2y} + g_y(y)$\n",
    "\n",
    "$g_y(y) = 1$\n",
    "$g(y) = y$\n",
    "\n",
    "$f(x,y) = xe^{2y} + y$\n",
    "\n",
    "(b) Evaluate $\\int F•dr$\n",
    "\n",
    "$r(0) = j, (0,1)$\n",
    "$r(1) = e^ti + 2j, (e^t,2)$\n",
    "\n",
    "$f(0,1)=1$\n",
    "$f(e^t, 2)= e^te^4 + 2$\n",
    "$(e^{t+4}+2)-(1)= e^{t+4}+1$\n"
   ]
  },
  {
   "cell_type": "markdown",
   "id": "4ff3a0bf-ae7b-4721-9c2b-38b34578c5cc",
   "metadata": {},
   "source": [
    "__Exercise 15__\n",
    "\n",
    "$F(x,y,z) = yi + (x+z)j +yk$</br>\n",
    "C is the line segment from (2,1,4) to (8,3,-1)\n",
    "\n",
    "$f_x(x,y,z) = y$\n",
    "$f_y(x,y,z) = x+z$\n",
    "$f_z(x,y,z) = y$\n",
    "\n",
    "Integrate with respect to x\n",
    "$f(x,y,z) = xy + g(y,z)$\n",
    "$f(x,y,z) = x + g(y,z)$\n",
    "$g_y(y) = z$\n",
    "$g(y,z) = yz + h(z)$\n",
    "\n",
    "$f(x,y,z) = xy + yz + h(z)$\n",
    "\n",
    "Differentiate with respect to z\n",
    "$f(x,y,z) = y + h'(z)$\n",
    "Compared to above \n",
    "$h(z) = 0$\n",
    "\n",
    "$f(x,y,z) = xy + yz$\n",
    "\n",
    "(b) $ \\nabla f •dr = f(r(b))-f(r(a))$\n",
    "\n",
    "$f(2,1,4) =(2)(1) + (1)(4) = 6$\n",
    "$f(8,3,-1) = (8)(3) + (3)(-1) = 21$\n",
    "\n",
    "$ 21-6 = 15$\n",
    "\n",
    "I am typing this on a phone because you pretended I was a hacker to get my laptop locked. I was getting hacked and needed white hat help, hence the 2600 bag that got stolen.  Frosties are a girls best friend.\n"
   ]
  },
  {
   "cell_type": "markdown",
   "id": "45722de4-bc72-4612-b3ae-7383a8b98bd6",
   "metadata": {},
   "source": [
    "__17.5 Curl and Divergence__</br>\n",
    "In this section, we define two operations that can be performed on vector fields and that are used in \n",
    "the applications of vector calculus, fluid flow, electricity, and magnetism.  Each operation resembles differentiation, but one produces a vector field whereas the other produces a scalar."
   ]
  },
  {
   "cell_type": "markdown",
   "id": "0df27eba-1a80-42f5-a2ca-216ec0c96e39",
   "metadata": {},
   "source": [
    "__Curl__ \n",
    "\n",
    "If $F = Pi + Qj + Rk$ is a vector field on $R^{3}$ and the partial derivatives of __P__, __Q__, and __R__ all exist, then\n",
    "the curl of __F__ is the vector field on $R^{3}$ defined by"
   ]
  },
  {
   "cell_type": "markdown",
   "id": "c87185a5-5fe9-4648-bce8-7978ef939940",
   "metadata": {},
   "source": [
    "$ Curl F = [ (\\frac{δR}{δy}) -\n",
    "(\\frac{δQ}{δz}) ]i + [ (\\frac{δP}{δz})- (\\frac{δR}{δx}) ]j + [(\\frac{δQ}{δx})-(\\frac{δP}{δy})]k$"
   ]
  },
  {
   "cell_type": "markdown",
   "id": "fbc3676f-f887-41b5-8ed8-08c08374d349",
   "metadata": {
    "execution": {
     "iopub.execute_input": "2023-08-31T15:01:37.436285Z",
     "iopub.status.busy": "2023-08-31T15:01:37.435971Z",
     "iopub.status.idle": "2023-08-31T15:01:37.445568Z",
     "shell.execute_reply": "2023-08-31T15:01:37.444290Z",
     "shell.execute_reply.started": "2023-08-31T15:01:37.436256Z"
    }
   },
   "source": [
    "As an aid to our memory, let's rewrite the above equation using operator notation.  We introduce the vector differential operator __∇__ (\"del\") as"
   ]
  },
  {
   "cell_type": "markdown",
   "id": "5dcb976b-f6be-42b5-97b2-d3bb516a7f7d",
   "metadata": {},
   "source": [
    "$∇ = i\\frac{δ}{δx} + j\\frac{δ}{δy} + k\\frac{δ}{δz}$"
   ]
  },
  {
   "cell_type": "markdown",
   "id": "3de16940-aeb8-41bc-b4df-ad5e3f9dab0b",
   "metadata": {
    "execution": {
     "iopub.execute_input": "2023-08-31T15:03:02.127625Z",
     "iopub.status.busy": "2023-08-31T15:03:02.127243Z",
     "iopub.status.idle": "2023-08-31T15:03:02.133066Z",
     "shell.execute_reply": "2023-08-31T15:03:02.131899Z",
     "shell.execute_reply.started": "2023-08-31T15:03:02.127600Z"
    }
   },
   "source": [
    "It has meaning when it operates on a scalar function to produce the gradient of __f__"
   ]
  },
  {
   "cell_type": "markdown",
   "id": "e7dec04d-aa51-46a9-8d01-d89e8f7bb11e",
   "metadata": {
    "execution": {
     "iopub.execute_input": "2023-08-30T22:07:30.728396Z",
     "iopub.status.busy": "2023-08-30T22:07:30.727930Z",
     "iopub.status.idle": "2023-08-30T22:07:30.735917Z",
     "shell.execute_reply": "2023-08-30T22:07:30.734733Z",
     "shell.execute_reply.started": "2023-08-30T22:07:30.728361Z"
    }
   },
   "source": [
    "If we think of ∇ as a vector with components , we can also consider the formal cross product of \n",
    "with the vector field F as follows:"
   ]
  },
  {
   "cell_type": "markdown",
   "id": "15e7af0f-a450-4ab4-8ad1-4b775f13f5fa",
   "metadata": {
    "execution": {
     "iopub.execute_input": "2023-08-30T22:01:44.198548Z",
     "iopub.status.busy": "2023-08-30T22:01:44.198181Z",
     "iopub.status.idle": "2023-08-30T22:01:44.207957Z",
     "shell.execute_reply": "2023-08-30T22:01:44.206589Z",
     "shell.execute_reply.started": "2023-08-30T22:01:44.198519Z"
    }
   },
   "source": [
    "$∇ × F = $$\\begin{bmatrix} i & j & k \\\\ δ/δx & δ/δy & δ/δz \\\\ P & Q & R \\end{bmatrix}$$ $ </br>\n",
    "</br>\n",
    "$ = (\\frac{δR}{δy}-\\frac{δQ}{δz})i + (\\frac{δP}{δz}-\\frac{δR}{δx})j+(\\frac{δQ}{δx}-\\frac{δP}{δy})k$</br>\n",
    "</br>\n",
    "$ = curl F$"
   ]
  },
  {
   "cell_type": "markdown",
   "id": "4df4c1e4-6095-48b7-9780-31adad636844",
   "metadata": {
    "execution": {
     "iopub.execute_input": "2023-08-30T22:12:11.143834Z",
     "iopub.status.busy": "2023-08-30T22:12:11.143155Z",
     "iopub.status.idle": "2023-08-30T22:12:11.149707Z",
     "shell.execute_reply": "2023-08-30T22:12:11.148348Z",
     "shell.execute_reply.started": "2023-08-30T22:12:11.143802Z"
    }
   },
   "source": [
    "The easiest way to remember Definition 1 is by means of the symbolic expression</br>\n",
    "</br>\n",
    "$ curl F = ∇ × F$"
   ]
  },
  {
   "cell_type": "markdown",
   "id": "f1c25b9f-5b70-42b6-b8f1-36956158461c",
   "metadata": {},
   "source": [
    "__Example 3__\n",
    "\n",
    "The reason for the name curl is that the curl vector is associated with rotations. One connection is explained in Exercise 35. Another occurs when __F__ represents the velocity field in fluid flow (see Example 3 in Section 17.1). Particles near (x,y,z) in the fluid tend to rotate about the axis that points in the direction of curl __F__(x,y,z) and the length of this curl vector is a measure of how quickly the particles move around the axis (se Figure 1).  If curl __F__ = __0__ at point P.  In other words, there is no whirlpool or eddy at point P.  If curl __F__ = __0__, then a tiny paddle wheel moves with the fluid but doesn't rotate about its axis.  If curl __F__ ≠ __0__, the paddle wheel rotates about its axis.  We give a more detailed explanation in Section 17.8 as a consequence of Stokes' Theorem."
   ]
  },
  {
   "cell_type": "markdown",
   "id": "4db25d3f-6b12-4243-9336-6e6bbba99d43",
   "metadata": {},
   "source": [
    "__Divergence__\n",
    "\n",
    "If F = Pi + Qj + Rk is a vector field on $R^{3}$ and exist, then the divergence of F is the function of the three variables defined by\n",
    "\n",
    "$ div \\; F = \\frac{δP}{δx} + \\frac{δQ}{δy} + \\frac{δR}{δz} $\n",
    "\n",
    "Observe that curl F is a vector field but div F is a scalar field. In terms of the gradient operator $∇ = (δ/δx)i + (δ/δy)j + (δ/δz)k$, the divergence of F can be written symbolically as the dot product of ∇ and F:\n",
    "\n",
    "$ div \\; F = ∇ \\cdot F $"
   ]
  },
  {
   "cell_type": "markdown",
   "id": "a73ed746-025b-40b1-aefd-4d2f713de74c",
   "metadata": {},
   "source": [
    "The reason for the name divergence can be understood in the context of fluid flow.  If __F__(x,y,z) is the velocity of a fluid (or gas), then div __F__(x,y,z) represents the net rate of change (with respect to time) of the mass of fluid (or gas) flowing from the point (x,y,z) per unit volume.  In other words, div __F__(x,y,z) measures the tendency of the fluid to diverge from the point (x,y,z). If div __F__ = 0, then F is said to be __incompressible__.\n",
    "Another differential operator occurs when we compute the divergence of a gradient vector field ∇f. If f is a function of three variables, we have:\n",
    "\n",
    "$ div \\; (∇f) = ∇\\cdot∇f = \\frac{δ^{2}f}{δx^{2}} + \\frac{δ^{2}f}{δy^{2}} + \\frac{δ^{2}f}{δz^{2}} $"
   ]
  },
  {
   "cell_type": "markdown",
   "id": "f7a250f6-5c10-4ba5-a692-52bc10777a83",
   "metadata": {
    "execution": {
     "iopub.execute_input": "2023-08-30T22:22:26.233085Z",
     "iopub.status.busy": "2023-08-30T22:22:26.232712Z",
     "iopub.status.idle": "2023-08-30T22:22:26.239277Z",
     "shell.execute_reply": "2023-08-30T22:22:26.238091Z",
     "shell.execute_reply.started": "2023-08-30T22:22:26.233059Z"
    }
   },
   "source": [
    "__Laplace's Equation__\n",
    "\n",
    "$∇^{2}f =   \\frac{δ^{2}f}{δx^{2}} + \\frac{δ^{2}f}{δy^{2}} + \\frac{δ^{2}f}{δz^{2}} = 0 $ </br>\n",
    "</br>\n",
    "we can also apply the Laplace operator $∇^{2}$ to a vector field\n",
    "\n",
    "$ F = Pi + Qj + Rk$\n",
    "\n",
    "in terms of its components:\n",
    "\n",
    "$∇^{2}F = ∇^{2}Pi + ∇^{2}Qj + ∇^{2}Rk$ </br>"
   ]
  },
  {
   "cell_type": "markdown",
   "id": "8468cd6e-f4bf-43e2-a7ba-87436b2e3a34",
   "metadata": {},
   "source": [
    "__Vector Forms of Green's Theorem__\n",
    "The curl and divergence operators allow us to rewrite Green's Theorem in versions that will be useful in our later work.  We suppose that the plane region D, its boundary curve C, and the functions P and Q satisfy the hypotheses of Green's Theorem.  Then we consider the vector field F = Pi + Qj.  Its line integral is\n",
    "\n",
    "$ ∮_{c}F \\cdot dr = ∮_{c} Pdx + Qdy $ \n",
    "\n",
    "and its curl is \n",
    "\n",
    "$ curl F = \\begin{bmatrix} i & j & k \\\\ δ/δx & δ/δy & δ/δz \\\\ P(x,y) & Q(x,y) & 0 \\end{bmatrix} = (\\frac{δQ}{δx} - \\frac{δP}{δy})k $</br>\n",
    "</br>"
   ]
  },
  {
   "cell_type": "markdown",
   "id": "f792dfc0-981c-4704-91b7-5a5eb89e1afa",
   "metadata": {
    "execution": {
     "iopub.execute_input": "2023-09-01T01:38:31.245613Z",
     "iopub.status.busy": "2023-09-01T01:38:31.245233Z",
     "iopub.status.idle": "2023-09-01T01:38:31.251841Z",
     "shell.execute_reply": "2023-09-01T01:38:31.250428Z",
     "shell.execute_reply.started": "2023-09-01T01:38:31.245586Z"
    }
   },
   "source": [
    "$ curl F \\cdot k = (\\frac{δQ}{δx} - \\frac{δP}{δy})k \\cdot k = \\frac{δQ}{δx} - \\frac{δP}{δy} $"
   ]
  },
  {
   "cell_type": "markdown",
   "id": "f8e96050-084b-42b2-ac71-54c6a07228f2",
   "metadata": {
    "execution": {
     "iopub.execute_input": "2023-09-01T01:42:16.495575Z",
     "iopub.status.busy": "2023-09-01T01:42:16.494977Z",
     "iopub.status.idle": "2023-09-01T01:42:16.501261Z",
     "shell.execute_reply": "2023-09-01T01:42:16.500060Z",
     "shell.execute_reply.started": "2023-09-01T01:42:16.495544Z"
    },
    "tags": []
   },
   "source": [
    "and we can now rewrite the equation in Green's Theorem in the vector form.\n",
    "\n",
    "$ ∮_{c}F \\cdot dr = ∬_{D} (curl F) \\cdot kdA $"
   ]
  },
  {
   "cell_type": "markdown",
   "id": "cc84cdb8-cb53-41cc-acf4-4d40625b5b99",
   "metadata": {},
   "source": [
    "The equation above expresses the line integral of the tangential component of __F__ along C as the double integral of the vertical component of curl __F__ over the region D enclosed by C. We now derive a similiar formula involving the normal component of __F__.\n",
    "\n",
    "$ r(t) = x(t)i + y(t)j , a≤t≤b $\n",
    "\n",
    "then the unit tangent vector (see Section 14.2) is\n",
    "\n",
    "$ T(t) = \n",
    "\n",
    ".\n",
    ".\n",
    ".\n",
    "\n",
    "by Green's Theorem.  But the integrand in this double integral is just the divergence of __F__.  So we have a second vector form of Green's Theorem.\n",
    "\n",
    "$ ∮_{c}F \\cdot nds = ∬_{D} div F(x,y)dA $\n",
    "\n",
    "This version says that the line integral of the normal component of F along C is equal to the double integral of the divergence of F over the region D enclosed by C."
   ]
  },
  {
   "cell_type": "markdown",
   "id": "fc7045a2-fe40-4361-b8bd-6249515f646e",
   "metadata": {
    "execution": {
     "iopub.execute_input": "2023-08-30T22:30:58.128344Z",
     "iopub.status.busy": "2023-08-30T22:30:58.127962Z",
     "iopub.status.idle": "2023-08-30T22:30:58.134743Z",
     "shell.execute_reply": "2023-08-30T22:30:58.133014Z",
     "shell.execute_reply.started": "2023-08-30T22:30:58.128314Z"
    }
   },
   "source": [
    "__Exercise 1__ </br>\n",
    "(a) Find the curl and (b) the divergence of the vector field\n",
    "\n",
    "$1.\\;\\;\\;\\;\\;\\;  F(x,y,z) = xyi + yzj + zxk$\n",
    "</br>\n",
    "(a)"
   ]
  },
  {
   "cell_type": "markdown",
   "id": "401d6c20-bbd0-4f28-878c-990909f643d3",
   "metadata": {
    "execution": {
     "iopub.execute_input": "2023-08-30T22:33:56.404792Z",
     "iopub.status.busy": "2023-08-30T22:33:56.404404Z",
     "iopub.status.idle": "2023-08-30T22:33:56.411889Z",
     "shell.execute_reply": "2023-08-30T22:33:56.410550Z",
     "shell.execute_reply.started": "2023-08-30T22:33:56.404764Z"
    }
   },
   "source": [
    "$∇ × F \\; = \\;\\; $$\\begin{bmatrix} i & j & k \\\\ δ/δx & δ/δy & δ/δz \\\\ xy & yz & zk \\end{bmatrix}$$ $ </br>\n",
    "</br>"
   ]
  },
  {
   "cell_type": "markdown",
   "id": "020f1d1e-9b25-475a-bf70-af6a5eb8c077",
   "metadata": {
    "execution": {
     "iopub.execute_input": "2023-08-30T22:50:45.844444Z",
     "iopub.status.busy": "2023-08-30T22:50:45.844080Z",
     "iopub.status.idle": "2023-08-30T22:50:45.853547Z",
     "shell.execute_reply": "2023-08-30T22:50:45.852389Z",
     "shell.execute_reply.started": "2023-08-30T22:50:45.844416Z"
    },
    "tags": []
   },
   "source": [
    "$ \\;\\;\\;\\;\\;\\;\\;\\;\\;\\; = [\\frac{δ}{δy}(zx) - \\frac{δ}{δz}(yz) ]i  + [\\frac{δ}{δz}(xy) - \\frac{δ}{δx}(zx) ]j + [\\frac{δ}{δx}(yz) - \\frac{δ}{δy}(xy)]k  $"
   ]
  },
  {
   "cell_type": "markdown",
   "id": "25e5d9c5-b206-4662-9a8c-350c533fc8ec",
   "metadata": {},
   "source": [
    "$ \\;\\;\\;\\;\\;\\;\\;\\;\\;\\; = [0 - y]i  + [0 - z]j + [0 - x]k  $"
   ]
  },
  {
   "cell_type": "markdown",
   "id": "fafd9738-b1e5-412c-9156-c8fedf5568f2",
   "metadata": {
    "execution": {
     "iopub.execute_input": "2023-08-30T22:56:24.395762Z",
     "iopub.status.busy": "2023-08-30T22:56:24.395400Z",
     "iopub.status.idle": "2023-08-30T22:56:24.401191Z",
     "shell.execute_reply": "2023-08-30T22:56:24.400081Z",
     "shell.execute_reply.started": "2023-08-30T22:56:24.395735Z"
    }
   },
   "source": [
    "$ \\;\\;\\;\\;\\;\\;\\;\\;\\;\\; = -yi  - zj  - xk  $"
   ]
  },
  {
   "cell_type": "markdown",
   "id": "54ea07cc-0a50-420b-8de0-2251d84962fa",
   "metadata": {
    "execution": {
     "iopub.execute_input": "2023-08-30T23:29:51.571161Z",
     "iopub.status.busy": "2023-08-30T23:29:51.570795Z",
     "iopub.status.idle": "2023-08-30T23:29:51.576473Z",
     "shell.execute_reply": "2023-08-30T23:29:51.575345Z",
     "shell.execute_reply.started": "2023-08-30T23:29:51.571134Z"
    }
   },
   "source": [
    "(b)\n",
    "\n",
    "$ div \\; F = \\frac{δP}{δx} + \\frac{δQ}{δy} + \\frac{δR}{δz} $"
   ]
  },
  {
   "cell_type": "markdown",
   "id": "62260589-2f62-4905-8462-bc9cd4f0c536",
   "metadata": {
    "execution": {
     "iopub.execute_input": "2023-08-30T23:40:20.698532Z",
     "iopub.status.busy": "2023-08-30T23:40:20.698173Z",
     "iopub.status.idle": "2023-08-30T23:40:20.703897Z",
     "shell.execute_reply": "2023-08-30T23:40:20.702642Z",
     "shell.execute_reply.started": "2023-08-30T23:40:20.698506Z"
    }
   },
   "source": [
    "$div \\; F =  y + z + x $"
   ]
  },
  {
   "cell_type": "markdown",
   "id": "5c9f4697-4aa2-4bf2-8c76-31c54e2ec9cd",
   "metadata": {
    "execution": {
     "iopub.execute_input": "2023-08-30T23:41:52.340281Z",
     "iopub.status.busy": "2023-08-30T23:41:52.339920Z",
     "iopub.status.idle": "2023-08-30T23:41:52.345681Z",
     "shell.execute_reply": "2023-08-30T23:41:52.344584Z",
     "shell.execute_reply.started": "2023-08-30T23:41:52.340254Z"
    },
    "tags": []
   },
   "source": [
    "__Exercise 2__</br>\n",
    "(a) Find the curl and (b) the divergence of the vector field\n",
    "\n",
    "$\\;\\;\\;\\;\\;\\;  F(x,y,z) = (x-2z)i + (x+y+z)j + (x-2y)k$</br>\n",
    "</br>"
   ]
  },
  {
   "cell_type": "markdown",
   "id": "179031c3-ad38-4f22-b788-f2c4293d26d7",
   "metadata": {},
   "source": [
    "(a) </br>\n",
    "$∇ × F \\; = \\;\\; $$\\begin{bmatrix} i & j & k \\\\ δ/δx & δ/δy & δ/δz \\\\ (x-2z) & (x+y+z) & (x-2y) \\end{bmatrix}$$ $ </br>\n",
    "</br>"
   ]
  },
  {
   "cell_type": "markdown",
   "id": "735aa019-f8b7-4ab4-bd46-87ca407a42fe",
   "metadata": {
    "execution": {
     "iopub.execute_input": "2023-08-31T00:05:38.218600Z",
     "iopub.status.busy": "2023-08-31T00:05:38.218190Z",
     "iopub.status.idle": "2023-08-31T00:05:38.225064Z",
     "shell.execute_reply": "2023-08-31T00:05:38.223868Z",
     "shell.execute_reply.started": "2023-08-31T00:05:38.218568Z"
    }
   },
   "source": [
    "$ \\;\\;\\;\\;\\;\\;\\;\\;\\;\\; = [\\frac{δ}{δy}(x-2y) - \\frac{δ}{δz}(x+y+z)]i  + [\\frac{δ}{δz}(x-2z) - \\frac{δ}{δx}(x-2y)]j + [\\frac{δ}{δx}(x+y+z) - \\frac{δ}{δy}(x-2z)]k  $"
   ]
  },
  {
   "cell_type": "markdown",
   "id": "1e2c7f55-81be-4637-81ff-0ddf100438ce",
   "metadata": {
    "execution": {
     "iopub.execute_input": "2023-08-31T00:23:00.905534Z",
     "iopub.status.busy": "2023-08-31T00:23:00.905172Z",
     "iopub.status.idle": "2023-08-31T00:23:00.911983Z",
     "shell.execute_reply": "2023-08-31T00:23:00.910737Z",
     "shell.execute_reply.started": "2023-08-31T00:23:00.905509Z"
    },
    "tags": []
   },
   "source": [
    "$ \\;\\;\\;\\;\\;\\;\\;\\;\\;\\; = [2 - 1]i  + [-2 - 1)]j + [1 - 0]k \\; = \\; i - 3j + k $"
   ]
  },
  {
   "cell_type": "markdown",
   "id": "3ee30b63-d69a-4134-af86-88823fe69ea2",
   "metadata": {
    "execution": {
     "iopub.execute_input": "2023-08-31T00:30:02.601837Z",
     "iopub.status.busy": "2023-08-31T00:30:02.601486Z",
     "iopub.status.idle": "2023-08-31T00:30:02.607321Z",
     "shell.execute_reply": "2023-08-31T00:30:02.606225Z",
     "shell.execute_reply.started": "2023-08-31T00:30:02.601812Z"
    }
   },
   "source": [
    "(b) </br>\n",
    "\n",
    "$ div \\; F = \\frac{δP}{δx} + \\frac{δQ}{δy} + \\frac{δR}{δz} $"
   ]
  },
  {
   "cell_type": "markdown",
   "id": "1b2663ea-301f-4bb8-a3d0-64ba4c4104f0",
   "metadata": {
    "execution": {
     "iopub.execute_input": "2023-08-31T00:30:57.418973Z",
     "iopub.status.busy": "2023-08-31T00:30:57.418618Z",
     "iopub.status.idle": "2023-08-31T00:30:57.424168Z",
     "shell.execute_reply": "2023-08-31T00:30:57.423058Z",
     "shell.execute_reply.started": "2023-08-31T00:30:57.418948Z"
    }
   },
   "source": [
    "\n",
    "$div \\; F =  1 + 1 + 0 = 2 $"
   ]
  },
  {
   "cell_type": "markdown",
   "id": "c4de20aa-d464-4af6-baa2-8ca765b5f40b",
   "metadata": {
    "execution": {
     "iopub.execute_input": "2023-08-31T15:18:05.967884Z",
     "iopub.status.busy": "2023-08-31T15:18:05.967527Z",
     "iopub.status.idle": "2023-08-31T15:18:05.973614Z",
     "shell.execute_reply": "2023-08-31T15:18:05.972373Z",
     "shell.execute_reply.started": "2023-08-31T15:18:05.967857Z"
    }
   },
   "source": [
    "__Exercise 3__</br>\n",
    "(a) Find the curl and (b) the divergence of the vector field\n",
    "\n",
    "$\\;\\;\\;\\;\\;\\;  F(x,y,z) = xyz i - x^{2}yk $</br>\n",
    "</br>"
   ]
  },
  {
   "cell_type": "markdown",
   "id": "7f56ebed-fccb-4e23-9be9-95d8217417b7",
   "metadata": {
    "execution": {
     "iopub.execute_input": "2023-08-31T15:25:21.226548Z",
     "iopub.status.busy": "2023-08-31T15:25:21.226166Z",
     "iopub.status.idle": "2023-08-31T15:25:21.232619Z",
     "shell.execute_reply": "2023-08-31T15:25:21.231358Z",
     "shell.execute_reply.started": "2023-08-31T15:25:21.226521Z"
    }
   },
   "source": [
    "(a) </br>\n",
    "$∇ X F \\; = \\;\\; $$\\begin{bmatrix} i & j & k \\\\ δ/δx & δ/δy & δ/δz \\\\ xyz & 0 & -x^{2}yk \\end{bmatrix}$$ $ </br>\n",
    "</br>"
   ]
  },
  {
   "cell_type": "markdown",
   "id": "a1c9a545-cbff-4d53-9e98-ead2dcec6353",
   "metadata": {
    "execution": {
     "iopub.execute_input": "2023-08-31T15:30:57.145498Z",
     "iopub.status.busy": "2023-08-31T15:30:57.145124Z",
     "iopub.status.idle": "2023-08-31T15:30:57.151637Z",
     "shell.execute_reply": "2023-08-31T15:30:57.150377Z",
     "shell.execute_reply.started": "2023-08-31T15:30:57.145471Z"
    }
   },
   "source": [
    "$ \\;\\;\\;\\;\\;\\;\\;\\;\\;\\; = [\\frac{δ}{δy}(x^{2}y) - \\frac{δ}{δz}(0) ]i  + [\\frac{δ}{δz}(xyz) - \\frac{δ}{δx}(-x^{2}y) ]j + [\\frac{δ}{δx}(0) - \\frac{δ}{δy}(xyz)]k  $"
   ]
  },
  {
   "cell_type": "markdown",
   "id": "e9a290fb-9472-4884-ad15-0eaae663bc04",
   "metadata": {
    "execution": {
     "iopub.execute_input": "2023-08-31T15:47:50.324194Z",
     "iopub.status.busy": "2023-08-31T15:47:50.323835Z",
     "iopub.status.idle": "2023-08-31T15:47:50.330401Z",
     "shell.execute_reply": "2023-08-31T15:47:50.329174Z",
     "shell.execute_reply.started": "2023-08-31T15:47:50.324168Z"
    },
    "tags": []
   },
   "source": [
    "$ \\;\\;\\;\\;\\;\\;\\;\\;\\;\\; = [x^{2} - 0]i  + [xy + 2xy)]j + [0 - xz]k \\; = \\; x^{2}i + 2xyj - xzk $"
   ]
  },
  {
   "cell_type": "markdown",
   "id": "2b28410c-e201-4fbe-a048-4f6ea1b46cbd",
   "metadata": {
    "execution": {
     "iopub.execute_input": "2023-08-31T18:02:53.774765Z",
     "iopub.status.busy": "2023-08-31T18:02:53.774411Z",
     "iopub.status.idle": "2023-08-31T18:02:53.782495Z",
     "shell.execute_reply": "2023-08-31T18:02:53.781359Z",
     "shell.execute_reply.started": "2023-08-31T18:02:53.774738Z"
    }
   },
   "source": [
    "(b) </br>\n",
    "\n",
    "$ div \\; F = \\frac{δP}{δx} + \\frac{δQ}{δy} + \\frac{δR}{δz} $"
   ]
  },
  {
   "cell_type": "markdown",
   "id": "2a643f2f-c43e-453c-8586-122641a76797",
   "metadata": {
    "execution": {
     "iopub.execute_input": "2023-08-31T18:03:26.122051Z",
     "iopub.status.busy": "2023-08-31T18:03:26.121691Z",
     "iopub.status.idle": "2023-08-31T18:03:26.127662Z",
     "shell.execute_reply": "2023-08-31T18:03:26.126388Z",
     "shell.execute_reply.started": "2023-08-31T18:03:26.122025Z"
    }
   },
   "source": [
    "$div \\; F =  yz + 0 + 0 =  yz$"
   ]
  },
  {
   "cell_type": "markdown",
   "id": "72fedbc4-0865-48c3-aadd-84b366295b07",
   "metadata": {
    "execution": {
     "iopub.execute_input": "2023-08-31T18:14:48.113617Z",
     "iopub.status.busy": "2023-08-31T18:14:48.113265Z",
     "iopub.status.idle": "2023-08-31T18:14:48.119328Z",
     "shell.execute_reply": "2023-08-31T18:14:48.118066Z",
     "shell.execute_reply.started": "2023-08-31T18:14:48.113591Z"
    }
   },
   "source": [
    "__Exercise 4__</br>\n",
    "(a) Find the curl and (b) the divergence of the vector field\n",
    "\n",
    "$\\;\\;\\;\\;\\;\\;  F(x,y,z) =  xe^{y}i - ye^{z}k $</br>\n",
    "</br>"
   ]
  },
  {
   "cell_type": "markdown",
   "id": "d45f66c8-d108-4810-8bbd-943297860382",
   "metadata": {
    "execution": {
     "iopub.execute_input": "2023-08-31T18:15:50.054545Z",
     "iopub.status.busy": "2023-08-31T18:15:50.054160Z",
     "iopub.status.idle": "2023-08-31T18:15:50.060834Z",
     "shell.execute_reply": "2023-08-31T18:15:50.059608Z",
     "shell.execute_reply.started": "2023-08-31T18:15:50.054519Z"
    }
   },
   "source": [
    "(a) </br>\n",
    "$∇ X F \\; = \\;\\; $$\\begin{bmatrix} i & j & k \\\\ δ/δx & δ/δy & δ/δz \\\\ 0 & xe^{y} & ye^{z}k \\end{bmatrix}$$ $ </br>\n",
    "</br>"
   ]
  },
  {
   "cell_type": "markdown",
   "id": "a4d497d9-8ef7-4bd2-81f3-9ec5af2d1864",
   "metadata": {
    "execution": {
     "iopub.execute_input": "2023-08-31T18:24:51.065831Z",
     "iopub.status.busy": "2023-08-31T18:24:51.065475Z",
     "iopub.status.idle": "2023-08-31T18:24:51.071997Z",
     "shell.execute_reply": "2023-08-31T18:24:51.070809Z",
     "shell.execute_reply.started": "2023-08-31T18:24:51.065805Z"
    }
   },
   "source": [
    "$ \\;\\;\\;\\;\\;\\;\\;\\;\\;\\; = [\\frac{δ}{δy}(ye^{z}) - \\frac{δ}{δz}(xe^{y}) ]i  + [\\frac{δ}{δz}(0) - \\frac{δ}{δx}(ye^{z}) ]j + [\\frac{δ}{δx}(xe^{y}) - \\frac{δ}{δy}(0)]k  $"
   ]
  },
  {
   "cell_type": "markdown",
   "id": "010572dc-11fa-45ee-81d5-31038e886442",
   "metadata": {
    "execution": {
     "iopub.execute_input": "2023-08-31T18:29:25.027898Z",
     "iopub.status.busy": "2023-08-31T18:29:25.027537Z",
     "iopub.status.idle": "2023-08-31T18:29:25.033884Z",
     "shell.execute_reply": "2023-08-31T18:29:25.032670Z",
     "shell.execute_reply.started": "2023-08-31T18:29:25.027872Z"
    }
   },
   "source": [
    "$ \\;\\;\\;\\;\\;\\;\\;\\;\\;\\; = [ye^{z} - xe^{y}]i  + [0 - ye^{z})]j + [xe^{y} - 0]k \\; = \\; ye^{z} - xe^{y} - ye^{z}j + xe^{y} = ye^{z} + xe^{y}$"
   ]
  },
  {
   "cell_type": "markdown",
   "id": "81670aaf-13c2-4860-aa60-664a03c4af97",
   "metadata": {
    "execution": {
     "iopub.execute_input": "2023-08-31T18:33:07.964235Z",
     "iopub.status.busy": "2023-08-31T18:33:07.963872Z",
     "iopub.status.idle": "2023-08-31T18:33:07.970061Z",
     "shell.execute_reply": "2023-08-31T18:33:07.968644Z",
     "shell.execute_reply.started": "2023-08-31T18:33:07.964209Z"
    }
   },
   "source": [
    "(b) </br>\n",
    "\n",
    "$ div \\; F = \\frac{δP}{δx} + \\frac{δQ}{δy} + \\frac{δR}{δz} $"
   ]
  },
  {
   "cell_type": "markdown",
   "id": "04122ef3-e365-4550-9d30-5e3054ffc9db",
   "metadata": {
    "execution": {
     "iopub.execute_input": "2023-08-31T18:34:04.255434Z",
     "iopub.status.busy": "2023-08-31T18:34:04.255039Z",
     "iopub.status.idle": "2023-08-31T18:34:04.260910Z",
     "shell.execute_reply": "2023-08-31T18:34:04.259578Z",
     "shell.execute_reply.started": "2023-08-31T18:34:04.255406Z"
    }
   },
   "source": [
    "$div \\; F =  0 + xe^{y} + ye^{z} = xe^{y} + ye^{z}$"
   ]
  },
  {
   "cell_type": "markdown",
   "id": "a9b97d4b-88e0-44dc-86e0-ffcdc57ea8dc",
   "metadata": {
    "execution": {
     "iopub.execute_input": "2023-08-31T22:26:43.732624Z",
     "iopub.status.busy": "2023-08-31T22:26:43.732252Z",
     "iopub.status.idle": "2023-08-31T22:26:43.740713Z",
     "shell.execute_reply": "2023-08-31T22:26:43.739480Z",
     "shell.execute_reply.started": "2023-08-31T22:26:43.732595Z"
    }
   },
   "source": [
    "__Exercise 5__</br>\n",
    "(a) Find the curl and (b) the divergence of the vector field\n",
    "\n",
    "$\\;\\;\\;\\;\\;\\;  F(x,y,z) =  e^{x}sinyi + e^{x}cosyj + zk $</br>"
   ]
  },
  {
   "cell_type": "markdown",
   "id": "43c781ef-5873-4525-b3e2-f4e79ee9d0dd",
   "metadata": {},
   "source": [
    "(a) </br>\n",
    "$∇ X F \\; = \\;\\; $$\\begin{bmatrix} i & j & k \\\\ δ/δx & δ/δy & δ/δz \\\\ e^{x}siny & e^{x}cosy & zk \\end{bmatrix}$$ $ </br>\n",
    "</br>\n",
    "\n",
    "$ \\;\\;\\;\\;\\;\\;\\;\\;\\;\\; = [0 - 0]i + [0 - 0)]j + [\\frac{δ}{δx}(e^{x}cosy) - \\frac{δ}{δy}(e^{x}siny)]k $"
   ]
  },
  {
   "cell_type": "markdown",
   "id": "0f4b4cba-3303-4b3a-ac77-14515e71c32a",
   "metadata": {},
   "source": [
    "$ \\;\\;\\;\\;\\;\\;\\;\\;\\;\\; = [\\frac{δ}{δx}(e^{x}cosy) - \\frac{δ}{δy}(e^{x}siny)]k$"
   ]
  },
  {
   "cell_type": "markdown",
   "id": "52fb2d66-23bd-4a17-89d2-863470733eef",
   "metadata": {
    "execution": {
     "iopub.execute_input": "2023-08-31T23:03:16.676343Z",
     "iopub.status.busy": "2023-08-31T23:03:16.675970Z",
     "iopub.status.idle": "2023-08-31T23:03:16.682885Z",
     "shell.execute_reply": "2023-08-31T23:03:16.681447Z",
     "shell.execute_reply.started": "2023-08-31T23:03:16.676317Z"
    }
   },
   "source": [
    "$ \\;\\;\\;\\;\\;\\;\\;\\;\\;\\; = [e^{x}cosy - e^{x}cosy]k = 0 $"
   ]
  },
  {
   "cell_type": "markdown",
   "id": "ed354c1b-2d9d-4e45-9422-1482e4e5d616",
   "metadata": {
    "execution": {
     "iopub.execute_input": "2023-08-31T23:19:01.390248Z",
     "iopub.status.busy": "2023-08-31T23:19:01.389869Z",
     "iopub.status.idle": "2023-08-31T23:19:01.395849Z",
     "shell.execute_reply": "2023-08-31T23:19:01.394609Z",
     "shell.execute_reply.started": "2023-08-31T23:19:01.390221Z"
    }
   },
   "source": [
    "(b) </br>\n",
    "\n",
    "$ div \\; F = \\frac{δP}{δx} + \\frac{δQ}{δy} + \\frac{δR}{δz} $"
   ]
  },
  {
   "cell_type": "markdown",
   "id": "837e3717-5b98-4659-976e-eac4af5752c4",
   "metadata": {
    "execution": {
     "iopub.execute_input": "2023-08-31T23:20:20.234063Z",
     "iopub.status.busy": "2023-08-31T23:20:20.233700Z",
     "iopub.status.idle": "2023-08-31T23:20:20.239975Z",
     "shell.execute_reply": "2023-08-31T23:20:20.238600Z",
     "shell.execute_reply.started": "2023-08-31T23:20:20.234037Z"
    }
   },
   "source": [
    "$div \\; F =  e^{x}siny + -e^{x}siny + 1 = 1 $"
   ]
  },
  {
   "cell_type": "markdown",
   "id": "cd5b4911-f4b7-4fa9-a67d-492550705ec7",
   "metadata": {
    "execution": {
     "iopub.execute_input": "2023-08-31T23:25:22.007829Z",
     "iopub.status.busy": "2023-08-31T23:25:22.007451Z",
     "iopub.status.idle": "2023-08-31T23:25:22.013264Z",
     "shell.execute_reply": "2023-08-31T23:25:22.012093Z",
     "shell.execute_reply.started": "2023-08-31T23:25:22.007801Z"
    }
   },
   "source": [
    "__Exercise 6__</br>\n",
    "(a) Find the curl and (b) the divergence of the vector field\n",
    "\n",
    "$\\;\\;\\;\\;\\;\\;  F(x,y,z) =  i + j + k $</br>"
   ]
  },
  {
   "cell_type": "markdown",
   "id": "c84476ea-1fbc-4913-92e6-dd7b87342207",
   "metadata": {},
   "source": [
    "__Exercise 9-11__</br>\n",
    "The vector field F is shown in the xy-plane and looks the same in all other horizontal planes.  (In other words, F is independent of z and its z-component is 0.)</br>\n",
    "(a) Is div __F__ positive, negative or zero? Explain.</br>\n",
    "(b) Determine whether curl __F__=0 </br>\n",
    "\n",
    "__9.__ </br>\n",
    "(a) The plot has vectors with only a j-element (as in example on p.1077).  The vector length decreases along the y-axis as y increases, so vector length decreases. ∴ __Divergence is negative__. </br>\n",
    "(b) There is no rotation, ∴ __curl F=0__.</br>\n",
    "\n",
    "__10.__ </br>\n",
    "(a) The plot has vectors moving in the positive x and positive y direction.  Vector length increases as x and y increase, thus divergence is positive (?)</br>\n",
    "(b) There is still no rotation, ∴ __curl F=0__.\n",
    "\n",
    "__11.__ </br>\n",
    "(a) vectors are pointing in opposite direction but are symmetrical across a line y = b.  vector length increases as the distance from this line y = b increases.  Divergence is zero. (*)\n",
    "(b) because vectors point in two different directions along the x-axis, there is a rotation and __curl F≠0__.  Using a right hand rule, curl would be pointing into the page along the negaitve z-axis."
   ]
  },
  {
   "cell_type": "markdown",
   "id": "eb4c1dc9-f014-4f36-9457-cc424071ca43",
   "metadata": {},
   "source": [
    "__Exercise 12__ </br>\n",
    "\n",
    "Let f be a scalar field and __F__ a vector field.  State whether each expression is meaningful. If not, explain why.  If so, state whether it is a scalar field or a vector field.\n",
    "\n",
    "\n",
    "\n",
    "\n",
    "\n",
    "\n",
    "\n",
    "\n",
    "\n",
    "\n",
    "\n",
    "\n",
    "\n",
    "\n",
    "\n",
    "\n",
    "\n",
    "\n",
    "\n",
    "\n",
    "\n"
   ]
  },
  {
   "cell_type": "markdown",
   "id": "11956dca-f591-4297-b591-17c58ecca99f",
   "metadata": {},
   "source": [
    " \n"
   ]
  },
  {
   "cell_type": "markdown",
   "id": "25eb212c-4d90-4c50-83c7-54a30b9d4282",
   "metadata": {},
   "source": [
    "\n",
    "Don't label me with something because you think it will get me sympathy.  You know it has an othering effect and you also know that I a DX, and an extrovert who wants lots of hugs.  Just because I refused sex with Mark, neither makes me a whore, not does it make me autistic. I was already in NYC, with the cream at the top.  Stop blocking my career. Just because he has a daughter Alexis who needs care doesn't mean I need to be a slave to his needs. I hate that awful stupid man who ruled my entire first, turned everyone against me, and made them forget that I was as student and think that I was playing a role as a dog for one of the people in the house. An evil man creating lies everywhere he goes.\n",
    "Not sure if it was because I was a woman, irreligious, or just made him feel inadeqaute, but he was my fucking nightmare, an addict selling drugs jealous of me even having female friends.  The all 4, mysogynist, racist, anti-semitical, xenophobe.  Everything I hate.\n",
    "What is triggering is MARK from sim 1. He even stole money when a bus was coming the next day.\n",
    "\n",
    "I am traumatized by THAT whole experience. There was NOTHING good that came out of it other than getting out.\n",
    "\n",
    "Cough like I am sick.  I hope they make you live what I have lived. You don't have to hire me, but you would not make me do that again if you had a soul."
   ]
  },
  {
   "cell_type": "markdown",
   "id": "d4bada01-6ba3-4ba6-ac2b-22ccecf0fc9d",
   "metadata": {},
   "source": [
    "__Exercise 13 - 18__</br>\n",
    "Determine whether or not the vector field is conservative.  If it is conservative, find a function f such that __F∇__ = __f__."
   ]
  },
  {
   "cell_type": "markdown",
   "id": "a8b7ce89-0c50-4a08-b90d-74c9cc9198bb",
   "metadata": {
    "execution": {
     "iopub.execute_input": "2023-08-31T00:38:04.171903Z",
     "iopub.status.busy": "2023-08-31T00:38:04.171518Z",
     "iopub.status.idle": "2023-08-31T00:38:04.177120Z",
     "shell.execute_reply": "2023-08-31T00:38:04.176081Z",
     "shell.execute_reply.started": "2023-08-31T00:38:04.171877Z"
    },
    "tags": []
   },
   "source": [
    "__13.__  $F(x,y,z) = yzi + xzj + xyk$ </br>"
   ]
  },
  {
   "cell_type": "markdown",
   "id": "419c254e-5c38-4893-94f1-e41a80ae188e",
   "metadata": {
    "execution": {
     "iopub.execute_input": "2023-08-31T00:47:20.148544Z",
     "iopub.status.busy": "2023-08-31T00:47:20.148063Z",
     "iopub.status.idle": "2023-08-31T00:47:20.155064Z",
     "shell.execute_reply": "2023-08-31T00:47:20.153872Z",
     "shell.execute_reply.started": "2023-08-31T00:47:20.148503Z"
    }
   },
   "source": [
    "If __F__ is conservative, then curl __F__ = 0\n",
    "\n",
    "$∇ X F \\; = \\;\\; $$\\begin{bmatrix} i & j & k \\\\ δ/δx & δ/δy & δ/δz \\\\ yz & xz & xy \\end{bmatrix}$$ $ </br>\n",
    "</br>"
   ]
  },
  {
   "cell_type": "markdown",
   "id": "c32b3c24-890e-46bf-b7b6-76f2299f40a6",
   "metadata": {
    "execution": {
     "iopub.execute_input": "2023-08-31T00:48:51.784993Z",
     "iopub.status.busy": "2023-08-31T00:48:51.784597Z",
     "iopub.status.idle": "2023-08-31T00:48:51.791044Z",
     "shell.execute_reply": "2023-08-31T00:48:51.789967Z",
     "shell.execute_reply.started": "2023-08-31T00:48:51.784964Z"
    }
   },
   "source": [
    "$ \\;\\;\\;\\;\\;\\;\\;\\;\\;\\; = [\\frac{δ}{δy}(xy) - \\frac{δ}{δz}(xz)]i  + [\\frac{δ}{δz}(yz) - \\frac{δ}{δx}(xy)]j + [\\frac{δ}{δx}(xz) - \\frac{δ}{δy}(yz)]k  $"
   ]
  },
  {
   "cell_type": "markdown",
   "id": "1ff01f62-e824-45db-ae21-5d5682509c93",
   "metadata": {
    "execution": {
     "iopub.execute_input": "2023-08-31T00:52:02.383216Z",
     "iopub.status.busy": "2023-08-31T00:52:02.382831Z",
     "iopub.status.idle": "2023-08-31T00:52:02.389242Z",
     "shell.execute_reply": "2023-08-31T00:52:02.388029Z",
     "shell.execute_reply.started": "2023-08-31T00:52:02.383189Z"
    }
   },
   "source": [
    "$ \\;\\;\\;\\;\\;\\;\\;\\;\\;\\; = [x - x]i  + [y - y)]j + [z - z]k \\; = \\; 0 = 0 + 0 = 0$"
   ]
  },
  {
   "cell_type": "markdown",
   "id": "4fc250d2-80f6-48e7-89c4-1f2273cba5f2",
   "metadata": {},
   "source": [
    "find function f such that F∇ = f\n",
    "\n",
    "$f_{x}(x,y,z) = yz$</br>\n",
    "$f_{y}(x,y,z) = xz$</br>\n",
    "$f_{z}(x,y,z) = xy$</br>\n",
    "\n",
    "integrating $f_{x}(x,y,z)$ with respect to x, we obtain\n",
    "\n",
    "$ f(x,y,z) =  xyz + g(y,z) $\n",
    "\n",
    "differentiating with respect to y, we get \n",
    "\n",
    "$f_{y}(x,y,z) = xz + g_{y}(y,z)$\n",
    "\n",
    "comparison with $f_{y}(x,y,z) = xz$, gives "
   ]
  },
  {
   "cell_type": "markdown",
   "id": "1343e08d-47ed-4a96-a339-000fa293da71",
   "metadata": {
    "execution": {
     "iopub.execute_input": "2023-08-31T01:16:23.668968Z",
     "iopub.status.busy": "2023-08-31T01:16:23.668597Z",
     "iopub.status.idle": "2023-08-31T01:16:23.674328Z",
     "shell.execute_reply": "2023-08-31T01:16:23.673190Z",
     "shell.execute_reply.started": "2023-08-31T01:16:23.668940Z"
    },
    "tags": []
   },
   "source": [
    "$g_{y}(y,z) = 0$, thus g(y,z) = h(z) and </br>\n",
    "</br>\n",
    "$ f_{z}(x,y,z) = xy + h'(z)$\n",
    "\n"
   ]
  },
  {
   "cell_type": "markdown",
   "id": "aec1a7f9-cd80-42e3-944d-e215c55a9864",
   "metadata": {
    "execution": {
     "iopub.execute_input": "2023-08-31T01:23:55.861028Z",
     "iopub.status.busy": "2023-08-31T01:23:55.860668Z",
     "iopub.status.idle": "2023-08-31T01:23:55.866320Z",
     "shell.execute_reply": "2023-08-31T01:23:55.865184Z",
     "shell.execute_reply.started": "2023-08-31T01:23:55.860999Z"
    }
   },
   "source": [
    "Then $h'(z) = 0$ </br>\n",
    "</br>\n",
    "∴ $f(x,y,z) = xyz + K$"
   ]
  },
  {
   "cell_type": "markdown",
   "id": "cde63b4c-5c97-4f34-ac8e-c574d16f294f",
   "metadata": {},
   "source": [
    "__Exercise 14__</br>\n",
    "$F(x,y,z) = xi + yj + zk$\n",
    "\n",
    "$∇ X F \\; = \\;\\; $$\\begin{bmatrix} i & j & k \\\\ δ/δx & δ/δy & δ/δz \\\\ x & y & z \\end{bmatrix}$$ $ </br>\n",
    "</br>"
   ]
  },
  {
   "cell_type": "markdown",
   "id": "49e0ffae-e665-4e19-8b2a-3d6b5b67d173",
   "metadata": {},
   "source": [
    "\n",
    "$ \\;\\;\\;\\;\\;\\;\\;\\;\\;\\; = [\\frac{δ}{δy}(z) - \\frac{δ}{δz}(y)]i  + [\\frac{δ}{δz}(x) - \\frac{δ}{δx}(z)]j + [\\frac{δ}{δx}(y) - \\frac{δ}{δy}(x)]k  $\n"
   ]
  },
  {
   "cell_type": "markdown",
   "id": "329241da-a7ee-49fc-92d7-c02345ef954a",
   "metadata": {
    "execution": {
     "iopub.execute_input": "2023-09-01T01:07:24.010064Z",
     "iopub.status.busy": "2023-09-01T01:07:24.009689Z",
     "iopub.status.idle": "2023-09-01T01:07:24.016018Z",
     "shell.execute_reply": "2023-09-01T01:07:24.014845Z",
     "shell.execute_reply.started": "2023-09-01T01:07:24.010038Z"
    }
   },
   "source": [
    "$ \\;\\;\\;\\;\\;\\;\\;\\;\\;\\; = [0 - 0]i  + [0 - 0]j + [0 - 0]k  = 0 $"
   ]
  },
  {
   "cell_type": "markdown",
   "id": "e619e71f-e4ce-4b19-941b-71bb6e21e0ed",
   "metadata": {},
   "source": [
    "Since curl __F__ = 0 with continuous partial derivatives, __F__ is a conservative vector field."
   ]
  },
  {
   "cell_type": "markdown",
   "id": "62348a5d-94c5-4d1d-a422-c9051585484b",
   "metadata": {},
   "source": [
    "find function f such that F∇ = f\n",
    "\n",
    "$f_{x}(x,y,z) = x$</br>\n",
    "$f_{y}(x,y,z) = y$</br>\n",
    "$f_{z}(x,y,z) = z$</br>\n",
    "\n",
    "integrating $f_{x}(x,y,z)$ with respect to x, we obtain\n",
    "\n",
    "$ f(x,y,z) =  1 + g(y,z) $\n",
    "\n",
    "differentiating with respect to y, we get \n",
    "\n",
    "$f_{y}(x,y,z) = g_{y}(y,z)$\n",
    "\n",
    "comparison with $f_{y}(x,y,z) = y$, gives \n",
    "\n",
    "$ g_{y}(y,z) = y$ , \n",
    "\n",
    "*** not sure if I can do the same here as prior example ***</br>\n",
    "\n",
    "thus $g(y,z) = h(z)$ and\n",
    "</br>\n",
    "\n",
    "$ f_{z}(x,y,z) = z + h'(z)$ and $h'(z) = 0$\n",
    "\n",
    "$ f(x,y,z) = \\frac{z^{2}}{2} + K$ (?)"
   ]
  },
  {
   "cell_type": "markdown",
   "id": "e649a994-e028-4c22-a5fc-cb1d45143ee0",
   "metadata": {
    "execution": {
     "iopub.execute_input": "2023-08-31T20:10:41.552766Z",
     "iopub.status.busy": "2023-08-31T20:10:41.552376Z",
     "iopub.status.idle": "2023-08-31T20:10:41.557832Z",
     "shell.execute_reply": "2023-08-31T20:10:41.556653Z",
     "shell.execute_reply.started": "2023-08-31T20:10:41.552728Z"
    }
   },
   "source": [
    "__Exercise 29__</br>\n",
    "\n",
    "$curl\\;curl\\;F = grad\\;div\\;F - ∇^{2}F$\n",
    "\n",
    "$ div \\; F = \\frac{δP}{δx} + \\frac{δQ}{δy} + \\frac{δR}{δz} $\n",
    "\n",
    "the gradient of 3 variable scalar function is a vector field, $ ∇f(x,y,z) = f_{x}(x,y,z)i + f_{y}(x,y,z)j + f_{z}(x,y,z)k $</br></br>\n",
    "$∇^{2}F = ∇^{2}Pi + ∇^{2}Qj + ∇^{2}Rk$ </br>"
   ]
  },
  {
   "cell_type": "markdown",
   "id": "a2e04919-11d5-43e8-8e09-0bda9a024bc3",
   "metadata": {},
   "source": [
    "__Exercise 36__</br>\n",
    "Maxwell's Equations relating the electric field __E__ and magnetic field __H__ as they vary with time in a region containing no charge and no current can be stated as follows:\n",
    "\n",
    "$ div E = 0 $\n",
    "</br></br>\n",
    "$ div H = 0 $\n",
    "</br></br>\n",
    "$ curl E = - \\frac{1}{c} \\frac{δH}{δt} $\n",
    "</br></br>\n",
    "$ curl H = - \\frac{1}{c} \\frac{δE}{δt} $\n",
    "\n",
    "where c is the speed of light.  Use these equations to prove the following:\n",
    "\n",
    "(a) $∇×(∇×E) = \\frac{1}{c^{2}} \\frac{δ^{2}E}{δt^{2}}$"
   ]
  },
  {
   "cell_type": "markdown",
   "id": "35dcf183-7376-4dfa-b234-fd0ac551cf11",
   "metadata": {
    "execution": {
     "iopub.execute_input": "2023-08-31T19:47:15.429071Z",
     "iopub.status.busy": "2023-08-31T19:47:15.428707Z",
     "iopub.status.idle": "2023-08-31T19:47:15.436026Z",
     "shell.execute_reply": "2023-08-31T19:47:15.434763Z",
     "shell.execute_reply.started": "2023-08-31T19:47:15.429045Z"
    }
   },
   "source": [
    "$ curl E = ∇ × E = - \\frac{1}{c} \\frac{δH}{δt} $"
   ]
  },
  {
   "cell_type": "markdown",
   "id": "112a624e-3648-46e3-a77c-8fc8d924f119",
   "metadata": {
    "execution": {
     "iopub.execute_input": "2023-08-31T19:56:40.918091Z",
     "iopub.status.busy": "2023-08-31T19:56:40.917731Z",
     "iopub.status.idle": "2023-08-31T19:56:40.923798Z",
     "shell.execute_reply": "2023-08-31T19:56:40.922434Z",
     "shell.execute_reply.started": "2023-08-31T19:56:40.918065Z"
    }
   },
   "source": [
    "(b) $∇×(∇×H) = \\frac{1}{c^{2}} \\frac{δ^{2}H}{δt^{2}}$"
   ]
  },
  {
   "cell_type": "markdown",
   "id": "f9e4ec9c-43f1-4e8c-b4f6-6abc499f21a7",
   "metadata": {
    "execution": {
     "iopub.execute_input": "2023-08-31T19:59:35.759439Z",
     "iopub.status.busy": "2023-08-31T19:59:35.759035Z",
     "iopub.status.idle": "2023-08-31T19:59:35.764697Z",
     "shell.execute_reply": "2023-08-31T19:59:35.763467Z",
     "shell.execute_reply.started": "2023-08-31T19:59:35.759411Z"
    }
   },
   "source": [
    "$ curl H = ∇ × H = - \\frac{1}{c} \\frac{δH}{δt} $"
   ]
  },
  {
   "cell_type": "markdown",
   "id": "236fbda5-0ea9-4052-bec3-468830d4bfe6",
   "metadata": {
    "execution": {
     "iopub.execute_input": "2023-08-31T20:00:18.185032Z",
     "iopub.status.busy": "2023-08-31T20:00:18.184673Z",
     "iopub.status.idle": "2023-08-31T20:00:18.191160Z",
     "shell.execute_reply": "2023-08-31T20:00:18.190051Z",
     "shell.execute_reply.started": "2023-08-31T20:00:18.185007Z"
    }
   },
   "source": [
    "(c) $∇^{2}E = \\frac{1}{c^{2}} \\frac{δ^{2}E}{δt^{2}}$ hint: use exercise 29"
   ]
  },
  {
   "cell_type": "markdown",
   "id": "94415b62-edd5-427e-8bea-7601f6818341",
   "metadata": {
    "execution": {
     "iopub.execute_input": "2023-08-31T20:09:06.229460Z",
     "iopub.status.busy": "2023-08-31T20:09:06.229098Z",
     "iopub.status.idle": "2023-08-31T20:09:06.235488Z",
     "shell.execute_reply": "2023-08-31T20:09:06.234171Z",
     "shell.execute_reply.started": "2023-08-31T20:09:06.229433Z"
    }
   },
   "source": [
    "(d) $∇^{2}E = \\frac{1}{c^{2}} \\frac{δ^{2}H}{δt^{2}}$"
   ]
  },
  {
   "cell_type": "markdown",
   "id": "3d598e70-d1f9-4bb3-95be-b9f1ec82489c",
   "metadata": {
    "execution": {
     "iopub.execute_input": "2023-08-31T19:54:22.507584Z",
     "iopub.status.busy": "2023-08-31T19:54:22.507183Z",
     "iopub.status.idle": "2023-08-31T19:54:22.512974Z",
     "shell.execute_reply": "2023-08-31T19:54:22.511733Z",
     "shell.execute_reply.started": "2023-08-31T19:54:22.507555Z"
    }
   },
   "source": [
    "$∇ = i\\frac{δ}{δx} + j\\frac{δ}{δy} + k\\frac{δ}{δz}$\n",
    "\n",
    "$ div\\;curl \\; E = ∇ \\cdot (∇×E)$"
   ]
  },
  {
   "cell_type": "markdown",
   "id": "cb7e3707-382f-4082-bed2-3b0a734d7bfa",
   "metadata": {
    "execution": {
     "iopub.execute_input": "2023-08-31T20:02:08.963008Z",
     "iopub.status.busy": "2023-08-31T20:02:08.962650Z",
     "iopub.status.idle": "2023-08-31T20:02:08.968799Z",
     "shell.execute_reply": "2023-08-31T20:02:08.967491Z",
     "shell.execute_reply.started": "2023-08-31T20:02:08.962983Z"
    }
   },
   "source": [
    "17.6 Ex: 10\n",
    "\n"
   ]
  },
  {
   "cell_type": "code",
   "execution_count": null,
   "id": "e1d15c6b-d81c-4167-98f3-2bd2ebb047e6",
   "metadata": {
    "execution": {
     "iopub.status.busy": "2023-10-18T20:54:54.793870Z",
     "iopub.status.idle": "2023-10-18T20:54:54.794533Z",
     "shell.execute_reply": "2023-10-18T20:54:54.794319Z",
     "shell.execute_reply.started": "2023-10-18T20:54:54.794298Z"
    },
    "tags": []
   },
   "outputs": [],
   "source": [
    "ax = plt.axes(projection='3d')\n",
    "\n",
    "# Data for a three-dimensional line\n",
    "zline = np.linspace(0, 15, 1000)\n",
    "xline = np.sin(zline)\n",
    "yline = np.cos(zline)\n",
    "ax.plot3D(xline, yline, zline, 'gray')\n",
    "\n",
    "# Data for three-dimensional scattered points\n",
    "zdata = 15 * np.random.random(100)\n",
    "xdata = np.sin(zdata) + 0.1 * np.random.randn(100)\n",
    "ydata = np.cos(zdata) + 0.1 * np.random.randn(100)\n",
    "ax.scatter3D(xdata, ydata, zdata, c=zdata, cmap='Greens');"
   ]
  },
  {
   "cell_type": "markdown",
   "id": "310cc88c-85da-4828-b1e3-910610d347d9",
   "metadata": {},
   "source": [
    "__Product Rule__ $ \\frac{d}{dx} (f(x) \\cdot g(x)) = \\frac{d}{dx}f(x) \\cdot g(x) + f(x) \\cdot \\frac{d}{dx}g(x) $ for __f__ and __g__ differentiable at x"
   ]
  },
  {
   "cell_type": "markdown",
   "id": "b8e18955-64fb-40ee-8b81-d49a00bf8c5c",
   "metadata": {},
   "source": [
    "__17.9__ \n"
   ]
  },
  {
   "cell_type": "markdown",
   "id": "7daf7a85-39a3-4dc1-9555-aa6765f9ed06",
   "metadata": {},
   "source": [
    "Exercise 7\n",
    "<\\br>\n",
    "Use the Divergence Theorem to calculate the surface integral $\\int \\int_S F•S, $that is calculate the flux of $F$ across $S$.\n",
    "\n",
    "$F(x,y,z) = 3y^2z^3$__i__$ + 9x^2yz^2$__j__$ + z^2y$__k__\n",
    "\n",
    "S is the surface area of the cube with vertices (+-1, +-1, +-1, +-1)\n",
    "\n",
    "$\\int \\int_S F•ds = \\int \\int \\int div F dV$\n",
    "\n",
    "$div F = \\frac{dP}{dx} + \\frac{dQ}{dx} + \\frac{dR}{dx}$<\\br>\n",
    "\n",
    "$div F = 0 + 9x^2z^2 + 2zy$\n",
    "\n",
    "$\\int_{-1}^{1} \\int_{-1}^{1} \\int_{-1}^{1} 9x^2z^2 + 2zy dxdydz$\n",
    "<\\br>\n",
    "\n",
    "$ \\int_{-1}^{1} \\int_{-1}^{1} \\int_{-1}^{1}   $\n",
    "\n"
   ]
  },
  {
   "cell_type": "code",
   "execution_count": null,
   "id": "5e571233-2af0-4310-b642-ade7da1b37a5",
   "metadata": {},
   "outputs": [],
   "source": []
  }
 ],
 "metadata": {
  "kernelspec": {
   "display_name": "saturn (Python 3)",
   "language": "python",
   "name": "python3"
  },
  "language_info": {
   "codemirror_mode": {
    "name": "ipython",
    "version": 3
   },
   "file_extension": ".py",
   "mimetype": "text/x-python",
   "name": "python",
   "nbconvert_exporter": "python",
   "pygments_lexer": "ipython3",
   "version": "3.9.15"
  }
 },
 "nbformat": 4,
 "nbformat_minor": 5
}
