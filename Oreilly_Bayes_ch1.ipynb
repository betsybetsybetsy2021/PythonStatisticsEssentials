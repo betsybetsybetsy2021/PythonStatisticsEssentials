{
 "cells": [
  {
   "cell_type": "code",
   "execution_count": null,
   "id": "4f1b2faf-d2af-4044-a9bb-e6353ce93229",
   "metadata": {},
   "outputs": [],
   "source": [
    "#O'Reilly: Think Bayes: Bayesian Statistics in Python\n",
    "# Chapter 1: Probability"
   ]
  },
  {
   "cell_type": "code",
   "execution_count": null,
   "id": "9a563bd5-0804-4a6c-ba16-0bf3e76594da",
   "metadata": {},
   "outputs": [],
   "source": [
    "# Example with GSS (General Social Survey) Data from http://gss.norc.org"
   ]
  },
  {
   "cell_type": "code",
   "execution_count": 1,
   "id": "1c0bd1cd-2f19-41ca-b6a7-40e31ba3ce53",
   "metadata": {
    "execution": {
     "iopub.execute_input": "2023-08-09T19:57:02.966371Z",
     "iopub.status.busy": "2023-08-09T19:57:02.965905Z",
     "iopub.status.idle": "2023-08-09T19:57:04.165392Z",
     "shell.execute_reply": "2023-08-09T19:57:04.164652Z",
     "shell.execute_reply.started": "2023-08-09T19:57:02.966331Z"
    }
   },
   "outputs": [],
   "source": [
    "#import packages\n",
    "import pandas as pd\n",
    "import numpy as np\n"
   ]
  },
  {
   "cell_type": "code",
   "execution_count": 2,
   "id": "a951415d-b782-47ab-92ac-19dae33fb5df",
   "metadata": {
    "execution": {
     "iopub.execute_input": "2023-08-09T19:57:05.163237Z",
     "iopub.status.busy": "2023-08-09T19:57:05.162624Z",
     "iopub.status.idle": "2023-08-09T19:57:05.213888Z",
     "shell.execute_reply": "2023-08-09T19:57:05.213223Z",
     "shell.execute_reply.started": "2023-08-09T19:57:05.163206Z"
    }
   },
   "outputs": [
    {
     "data": {
      "text/html": [
       "<div>\n",
       "<style scoped>\n",
       "    .dataframe tbody tr th:only-of-type {\n",
       "        vertical-align: middle;\n",
       "    }\n",
       "\n",
       "    .dataframe tbody tr th {\n",
       "        vertical-align: top;\n",
       "    }\n",
       "\n",
       "    .dataframe thead th {\n",
       "        text-align: right;\n",
       "    }\n",
       "</style>\n",
       "<table border=\"1\" class=\"dataframe\">\n",
       "  <thead>\n",
       "    <tr style=\"text-align: right;\">\n",
       "      <th></th>\n",
       "      <th>year</th>\n",
       "      <th>age</th>\n",
       "      <th>sex</th>\n",
       "      <th>polviews</th>\n",
       "      <th>partyid</th>\n",
       "      <th>indus10</th>\n",
       "    </tr>\n",
       "    <tr>\n",
       "      <th>caseid</th>\n",
       "      <th></th>\n",
       "      <th></th>\n",
       "      <th></th>\n",
       "      <th></th>\n",
       "      <th></th>\n",
       "      <th></th>\n",
       "    </tr>\n",
       "  </thead>\n",
       "  <tbody>\n",
       "    <tr>\n",
       "      <th>1</th>\n",
       "      <td>1974</td>\n",
       "      <td>21.0</td>\n",
       "      <td>1</td>\n",
       "      <td>4.0</td>\n",
       "      <td>2.0</td>\n",
       "      <td>4970.0</td>\n",
       "    </tr>\n",
       "    <tr>\n",
       "      <th>2</th>\n",
       "      <td>1974</td>\n",
       "      <td>41.0</td>\n",
       "      <td>1</td>\n",
       "      <td>5.0</td>\n",
       "      <td>0.0</td>\n",
       "      <td>9160.0</td>\n",
       "    </tr>\n",
       "    <tr>\n",
       "      <th>5</th>\n",
       "      <td>1974</td>\n",
       "      <td>58.0</td>\n",
       "      <td>2</td>\n",
       "      <td>6.0</td>\n",
       "      <td>1.0</td>\n",
       "      <td>2670.0</td>\n",
       "    </tr>\n",
       "    <tr>\n",
       "      <th>6</th>\n",
       "      <td>1974</td>\n",
       "      <td>30.0</td>\n",
       "      <td>1</td>\n",
       "      <td>5.0</td>\n",
       "      <td>4.0</td>\n",
       "      <td>6870.0</td>\n",
       "    </tr>\n",
       "    <tr>\n",
       "      <th>7</th>\n",
       "      <td>1974</td>\n",
       "      <td>48.0</td>\n",
       "      <td>1</td>\n",
       "      <td>5.0</td>\n",
       "      <td>4.0</td>\n",
       "      <td>7860.0</td>\n",
       "    </tr>\n",
       "  </tbody>\n",
       "</table>\n",
       "</div>"
      ],
      "text/plain": [
       "        year   age  sex  polviews  partyid  indus10\n",
       "caseid                                             \n",
       "1       1974  21.0    1       4.0      2.0   4970.0\n",
       "2       1974  41.0    1       5.0      0.0   9160.0\n",
       "5       1974  58.0    2       6.0      1.0   2670.0\n",
       "6       1974  30.0    1       5.0      4.0   6870.0\n",
       "7       1974  48.0    1       5.0      4.0   7860.0"
      ]
     },
     "execution_count": 2,
     "metadata": {},
     "output_type": "execute_result"
    }
   ],
   "source": [
    "# load data\n",
    "gss = pd.read_csv('gss_bayes.csv', index_col=0)\n",
    "gss.head()\n"
   ]
  },
  {
   "cell_type": "code",
   "execution_count": 5,
   "id": "4cdebac2-e51a-45d1-95b3-e7fd9c21f3e3",
   "metadata": {
    "execution": {
     "iopub.execute_input": "2023-08-09T20:04:58.561815Z",
     "iopub.status.busy": "2023-08-09T20:04:58.561448Z",
     "iopub.status.idle": "2023-08-09T20:04:58.568431Z",
     "shell.execute_reply": "2023-08-09T20:04:58.567519Z",
     "shell.execute_reply.started": "2023-08-09T20:04:58.561790Z"
    },
    "tags": []
   },
   "outputs": [
    {
     "data": {
      "text/plain": [
       "caseid\n",
       "1    False\n",
       "2    False\n",
       "5    False\n",
       "6     True\n",
       "7    False\n",
       "Name: indus10, dtype: bool"
      ]
     },
     "execution_count": 5,
     "metadata": {},
     "output_type": "execute_result"
    }
   ],
   "source": [
    "## Fractions of bankers\n",
    "banker = (gss['indus10'] == 6870)\n",
    "banker.head()"
   ]
  },
  {
   "cell_type": "code",
   "execution_count": 6,
   "id": "41e4c659-90a4-4279-bba5-1fcdaab9f96d",
   "metadata": {
    "execution": {
     "iopub.execute_input": "2023-08-09T20:05:09.474598Z",
     "iopub.status.busy": "2023-08-09T20:05:09.474224Z",
     "iopub.status.idle": "2023-08-09T20:05:09.479871Z",
     "shell.execute_reply": "2023-08-09T20:05:09.479069Z",
     "shell.execute_reply.started": "2023-08-09T20:05:09.474571Z"
    }
   },
   "outputs": [
    {
     "data": {
      "text/plain": [
       "728"
      ]
     },
     "execution_count": 6,
     "metadata": {},
     "output_type": "execute_result"
    }
   ],
   "source": [
    "banker.sum()"
   ]
  },
  {
   "cell_type": "code",
   "execution_count": 7,
   "id": "e7c35bac-3336-43cb-98a8-c5fb98d00c92",
   "metadata": {
    "execution": {
     "iopub.execute_input": "2023-08-09T20:05:31.076962Z",
     "iopub.status.busy": "2023-08-09T20:05:31.076593Z",
     "iopub.status.idle": "2023-08-09T20:05:31.082589Z",
     "shell.execute_reply": "2023-08-09T20:05:31.081816Z",
     "shell.execute_reply.started": "2023-08-09T20:05:31.076936Z"
    }
   },
   "outputs": [
    {
     "data": {
      "text/plain": [
       "0.014769730168391155"
      ]
     },
     "execution_count": 7,
     "metadata": {},
     "output_type": "execute_result"
    }
   ],
   "source": [
    "banker.mean()"
   ]
  },
  {
   "cell_type": "code",
   "execution_count": 9,
   "id": "0289cbda-3dbd-49e5-92bb-822f3a51679d",
   "metadata": {
    "execution": {
     "iopub.execute_input": "2023-08-09T20:06:18.714643Z",
     "iopub.status.busy": "2023-08-09T20:06:18.714257Z",
     "iopub.status.idle": "2023-08-09T20:06:18.718516Z",
     "shell.execute_reply": "2023-08-09T20:06:18.717693Z",
     "shell.execute_reply.started": "2023-08-09T20:06:18.714616Z"
    },
    "tags": []
   },
   "outputs": [],
   "source": [
    "def prob(A):\n",
    "    \"Computes the probability of A\"\n",
    "    return A.mean()"
   ]
  },
  {
   "cell_type": "code",
   "execution_count": 10,
   "id": "3eede0cf-f3ef-4bad-a527-81e5384aa4de",
   "metadata": {
    "execution": {
     "iopub.execute_input": "2023-08-09T20:06:27.812000Z",
     "iopub.status.busy": "2023-08-09T20:06:27.811590Z",
     "iopub.status.idle": "2023-08-09T20:06:27.817593Z",
     "shell.execute_reply": "2023-08-09T20:06:27.816715Z",
     "shell.execute_reply.started": "2023-08-09T20:06:27.811973Z"
    }
   },
   "outputs": [
    {
     "data": {
      "text/plain": [
       "0.014769730168391155"
      ]
     },
     "execution_count": 10,
     "metadata": {},
     "output_type": "execute_result"
    }
   ],
   "source": [
    "prob(banker)"
   ]
  },
  {
   "cell_type": "code",
   "execution_count": 11,
   "id": "ba2fc0c6-5dde-4f1e-b89a-93e68ff5e663",
   "metadata": {
    "execution": {
     "iopub.execute_input": "2023-08-09T20:07:01.499799Z",
     "iopub.status.busy": "2023-08-09T20:07:01.499364Z",
     "iopub.status.idle": "2023-08-09T20:07:01.506905Z",
     "shell.execute_reply": "2023-08-09T20:07:01.505886Z",
     "shell.execute_reply.started": "2023-08-09T20:07:01.499759Z"
    }
   },
   "outputs": [
    {
     "data": {
      "text/plain": [
       "0.5378575776019476"
      ]
     },
     "execution_count": 11,
     "metadata": {},
     "output_type": "execute_result"
    }
   ],
   "source": [
    "female = (gss['sex'] == 2)\n",
    "prob(female)"
   ]
  },
  {
   "cell_type": "code",
   "execution_count": 13,
   "id": "360e8de3-45b6-4bf9-abd2-10d113cb5dc6",
   "metadata": {
    "execution": {
     "iopub.execute_input": "2023-08-09T20:08:36.269659Z",
     "iopub.status.busy": "2023-08-09T20:08:36.269289Z",
     "iopub.status.idle": "2023-08-09T20:08:36.274385Z",
     "shell.execute_reply": "2023-08-09T20:08:36.273429Z",
     "shell.execute_reply.started": "2023-08-09T20:08:36.269632Z"
    },
    "tags": []
   },
   "outputs": [],
   "source": [
    "# polviews on 7 point scale\n",
    "\n",
    "liberal = (gss['polviews']  <= 3)"
   ]
  },
  {
   "cell_type": "code",
   "execution_count": 14,
   "id": "43495194-70a3-4224-8f42-20cf92cfb03a",
   "metadata": {
    "execution": {
     "iopub.execute_input": "2023-08-09T20:08:47.091438Z",
     "iopub.status.busy": "2023-08-09T20:08:47.091077Z",
     "iopub.status.idle": "2023-08-09T20:08:47.097003Z",
     "shell.execute_reply": "2023-08-09T20:08:47.096154Z",
     "shell.execute_reply.started": "2023-08-09T20:08:47.091411Z"
    }
   },
   "outputs": [
    {
     "data": {
      "text/plain": [
       "0.27374721038750255"
      ]
     },
     "execution_count": 14,
     "metadata": {},
     "output_type": "execute_result"
    }
   ],
   "source": [
    "prob(liberal)"
   ]
  },
  {
   "cell_type": "code",
   "execution_count": 15,
   "id": "9cd3776c-d0a2-452e-a214-4d381abebfc6",
   "metadata": {
    "execution": {
     "iopub.execute_input": "2023-08-09T20:09:17.451739Z",
     "iopub.status.busy": "2023-08-09T20:09:17.451347Z",
     "iopub.status.idle": "2023-08-09T20:09:17.456329Z",
     "shell.execute_reply": "2023-08-09T20:09:17.455463Z",
     "shell.execute_reply.started": "2023-08-09T20:09:17.451710Z"
    }
   },
   "outputs": [],
   "source": [
    "democrat = (gss['partyid'] <= 1)"
   ]
  },
  {
   "cell_type": "code",
   "execution_count": 16,
   "id": "f60214e3-f872-42b6-a5c1-82cae8d495bb",
   "metadata": {
    "execution": {
     "iopub.execute_input": "2023-08-09T20:09:32.140318Z",
     "iopub.status.busy": "2023-08-09T20:09:32.139940Z",
     "iopub.status.idle": "2023-08-09T20:09:32.146170Z",
     "shell.execute_reply": "2023-08-09T20:09:32.145302Z",
     "shell.execute_reply.started": "2023-08-09T20:09:32.140292Z"
    }
   },
   "outputs": [
    {
     "data": {
      "text/plain": [
       "0.3662609048488537"
      ]
     },
     "execution_count": 16,
     "metadata": {},
     "output_type": "execute_result"
    }
   ],
   "source": [
    "prob(democrat)"
   ]
  },
  {
   "cell_type": "code",
   "execution_count": 17,
   "id": "960747f9-4ff8-4d0a-90d3-ed4186ff6d8e",
   "metadata": {
    "execution": {
     "iopub.execute_input": "2023-08-09T20:10:04.029115Z",
     "iopub.status.busy": "2023-08-09T20:10:04.028742Z",
     "iopub.status.idle": "2023-08-09T20:10:04.035452Z",
     "shell.execute_reply": "2023-08-09T20:10:04.034632Z",
     "shell.execute_reply.started": "2023-08-09T20:10:04.029090Z"
    }
   },
   "outputs": [
    {
     "data": {
      "text/plain": [
       "0.004686548995739501"
      ]
     },
     "execution_count": 17,
     "metadata": {},
     "output_type": "execute_result"
    }
   ],
   "source": [
    "# Conjunction, both A and B are True, commutative\n",
    "prob (banker & democrat)"
   ]
  },
  {
   "cell_type": "code",
   "execution_count": 19,
   "id": "79367e57-9dbe-4aab-bea3-a7db2165d625",
   "metadata": {
    "execution": {
     "iopub.execute_input": "2023-08-09T20:18:53.102368Z",
     "iopub.status.busy": "2023-08-09T20:18:53.101992Z",
     "iopub.status.idle": "2023-08-09T20:18:53.108698Z",
     "shell.execute_reply": "2023-08-09T20:18:53.107923Z",
     "shell.execute_reply.started": "2023-08-09T20:18:53.102341Z"
    },
    "tags": []
   },
   "outputs": [
    {
     "data": {
      "text/plain": [
       "0.5206403320240125"
      ]
     },
     "execution_count": 19,
     "metadata": {},
     "output_type": "execute_result"
    }
   ],
   "source": [
    "# Conditional Probability, probability that A given B, not commutative\n",
    "\n",
    "# prob that democrat, given liberal\n",
    "selected = democrat[liberal]\n",
    "prob (selected)"
   ]
  },
  {
   "cell_type": "code",
   "execution_count": 20,
   "id": "4f6ac746-11da-42e9-b4dc-172cb7ea2961",
   "metadata": {
    "execution": {
     "iopub.execute_input": "2023-08-09T20:20:37.825314Z",
     "iopub.status.busy": "2023-08-09T20:20:37.824915Z",
     "iopub.status.idle": "2023-08-09T20:20:37.831310Z",
     "shell.execute_reply": "2023-08-09T20:20:37.830501Z",
     "shell.execute_reply.started": "2023-08-09T20:20:37.825285Z"
    }
   },
   "outputs": [
    {
     "data": {
      "text/plain": [
       "0.7706043956043956"
      ]
     },
     "execution_count": 20,
     "metadata": {},
     "output_type": "execute_result"
    }
   ],
   "source": [
    "selected = female[banker]\n",
    "prob(selected)"
   ]
  },
  {
   "cell_type": "code",
   "execution_count": 21,
   "id": "2ffab77b-3a2f-46bb-a90d-14127356528f",
   "metadata": {
    "execution": {
     "iopub.execute_input": "2023-08-09T20:21:56.579051Z",
     "iopub.status.busy": "2023-08-09T20:21:56.578683Z",
     "iopub.status.idle": "2023-08-09T20:21:56.582830Z",
     "shell.execute_reply": "2023-08-09T20:21:56.582031Z",
     "shell.execute_reply.started": "2023-08-09T20:21:56.579025Z"
    }
   },
   "outputs": [],
   "source": [
    "def conditional(proposition, given):\n",
    "    return prob(proposition[given])"
   ]
  },
  {
   "cell_type": "code",
   "execution_count": 22,
   "id": "c83db4ee-04dd-49c8-a299-4c5bc1a38d3c",
   "metadata": {
    "execution": {
     "iopub.execute_input": "2023-08-09T20:22:11.988049Z",
     "iopub.status.busy": "2023-08-09T20:22:11.987669Z",
     "iopub.status.idle": "2023-08-09T20:22:11.994523Z",
     "shell.execute_reply": "2023-08-09T20:22:11.993683Z",
     "shell.execute_reply.started": "2023-08-09T20:22:11.988021Z"
    }
   },
   "outputs": [
    {
     "data": {
      "text/plain": [
       "0.27581004111500884"
      ]
     },
     "execution_count": 22,
     "metadata": {},
     "output_type": "execute_result"
    }
   ],
   "source": [
    "conditional(liberal, given=female)"
   ]
  },
  {
   "cell_type": "code",
   "execution_count": 23,
   "id": "3dc9673f-f6f2-49ca-b344-91eb946b1ac7",
   "metadata": {
    "execution": {
     "iopub.execute_input": "2023-08-09T20:22:54.354934Z",
     "iopub.status.busy": "2023-08-09T20:22:54.354283Z",
     "iopub.status.idle": "2023-08-09T20:22:54.362709Z",
     "shell.execute_reply": "2023-08-09T20:22:54.361946Z",
     "shell.execute_reply.started": "2023-08-09T20:22:54.354904Z"
    }
   },
   "outputs": [
    {
     "data": {
      "text/plain": [
       "0.7706043956043956"
      ]
     },
     "execution_count": 23,
     "metadata": {},
     "output_type": "execute_result"
    }
   ],
   "source": [
    "conditional(female, given=banker)"
   ]
  },
  {
   "cell_type": "code",
   "execution_count": null,
   "id": "0d7de0fe-6820-4ebe-b0bf-18cf914265a9",
   "metadata": {},
   "outputs": [],
   "source": [
    "#Condition and Conjunction"
   ]
  },
  {
   "cell_type": "code",
   "execution_count": 24,
   "id": "ec6d4ad7-809d-46f7-a938-637c6c328c76",
   "metadata": {
    "execution": {
     "iopub.execute_input": "2023-08-09T20:26:48.037303Z",
     "iopub.status.busy": "2023-08-09T20:26:48.036895Z",
     "iopub.status.idle": "2023-08-09T20:26:48.046262Z",
     "shell.execute_reply": "2023-08-09T20:26:48.045474Z",
     "shell.execute_reply.started": "2023-08-09T20:26:48.037266Z"
    }
   },
   "outputs": [
    {
     "data": {
      "text/plain": [
       "0.576085409252669"
      ]
     },
     "execution_count": 24,
     "metadata": {},
     "output_type": "execute_result"
    }
   ],
   "source": [
    "conditional (female, given= liberal & democrat)"
   ]
  },
  {
   "cell_type": "code",
   "execution_count": 25,
   "id": "9785c808-82e9-42e0-a64a-6d0f07cb066e",
   "metadata": {
    "execution": {
     "iopub.execute_input": "2023-08-09T20:27:10.733651Z",
     "iopub.status.busy": "2023-08-09T20:27:10.733275Z",
     "iopub.status.idle": "2023-08-09T20:27:10.739707Z",
     "shell.execute_reply": "2023-08-09T20:27:10.738948Z",
     "shell.execute_reply.started": "2023-08-09T20:27:10.733625Z"
    }
   },
   "outputs": [
    {
     "data": {
      "text/plain": [
       "0.17307692307692307"
      ]
     },
     "execution_count": 25,
     "metadata": {},
     "output_type": "execute_result"
    }
   ],
   "source": [
    "conditional (liberal & female, given = banker)"
   ]
  },
  {
   "cell_type": "code",
   "execution_count": null,
   "id": "eedf3b0f-0910-4e79-b83e-2503d58d5ecc",
   "metadata": {},
   "outputs": [],
   "source": [
    "#Laws of Probability\n",
    "# Theorem 1: computing conditional probability as a ratio of two probabilities\n",
    "# P(A|B) = P(A and B) / P(B)\n",
    "# Theorem 2: P(A and B) = P(B) P(A|B)\n",
    "# Theorem 3: \n",
    "# P(A and B) = P(B and A) , commutative property\n",
    "# apply theorem 2\n",
    "# P(B)P(A|B) = P(A)P(B|A)\n",
    "# P(A|B) = P(A)P(B|A)/P(B), Baye's Theorem"
   ]
  },
  {
   "cell_type": "code",
   "execution_count": 26,
   "id": "15a2df8b-f8e2-400b-92b4-04237d80389a",
   "metadata": {
    "execution": {
     "iopub.execute_input": "2023-08-09T20:36:08.385966Z",
     "iopub.status.busy": "2023-08-09T20:36:08.385599Z",
     "iopub.status.idle": "2023-08-09T20:36:08.391635Z",
     "shell.execute_reply": "2023-08-09T20:36:08.390757Z",
     "shell.execute_reply.started": "2023-08-09T20:36:08.385940Z"
    }
   },
   "outputs": [
    {
     "data": {
      "text/plain": [
       "0.2239010989010989"
      ]
     },
     "execution_count": 26,
     "metadata": {},
     "output_type": "execute_result"
    }
   ],
   "source": [
    "conditional (liberal, given = banker)"
   ]
  },
  {
   "cell_type": "code",
   "execution_count": 27,
   "id": "6724e84b-9ea1-490d-b80a-7e7a4efb9cfe",
   "metadata": {
    "execution": {
     "iopub.execute_input": "2023-08-09T20:36:34.337308Z",
     "iopub.status.busy": "2023-08-09T20:36:34.336941Z",
     "iopub.status.idle": "2023-08-09T20:36:34.344611Z",
     "shell.execute_reply": "2023-08-09T20:36:34.343771Z",
     "shell.execute_reply.started": "2023-08-09T20:36:34.337281Z"
    }
   },
   "outputs": [
    {
     "data": {
      "text/plain": [
       "0.2239010989010989"
      ]
     },
     "execution_count": 27,
     "metadata": {},
     "output_type": "execute_result"
    }
   ],
   "source": [
    "prob(liberal) * conditional(banker, liberal) / prob(banker)"
   ]
  },
  {
   "cell_type": "code",
   "execution_count": null,
   "id": "241868d4-2ba5-443e-958d-23aded6b8cf3",
   "metadata": {},
   "outputs": [],
   "source": [
    "# Law of Total Probability\n",
    "#P(A) = P(B1 and A) + P(B2 and A)\n",
    "#This theorem only applies if mutually exclusive of conditionally exhaustive"
   ]
  },
  {
   "cell_type": "code",
   "execution_count": 29,
   "id": "36626c66-5167-44d8-9c1f-382a199b8f89",
   "metadata": {
    "execution": {
     "iopub.execute_input": "2023-08-09T20:59:24.057425Z",
     "iopub.status.busy": "2023-08-09T20:59:24.057058Z",
     "iopub.status.idle": "2023-08-09T20:59:24.061502Z",
     "shell.execute_reply": "2023-08-09T20:59:24.060722Z",
     "shell.execute_reply.started": "2023-08-09T20:59:24.057399Z"
    }
   },
   "outputs": [],
   "source": [
    "male = (gss['sex'] == 1)"
   ]
  },
  {
   "cell_type": "code",
   "execution_count": 30,
   "id": "56fef98b-6156-4bb5-8c2b-aad1239a4500",
   "metadata": {
    "execution": {
     "iopub.execute_input": "2023-08-09T20:59:59.214057Z",
     "iopub.status.busy": "2023-08-09T20:59:59.213673Z",
     "iopub.status.idle": "2023-08-09T20:59:59.222592Z",
     "shell.execute_reply": "2023-08-09T20:59:59.221587Z",
     "shell.execute_reply.started": "2023-08-09T20:59:59.214011Z"
    }
   },
   "outputs": [
    {
     "data": {
      "text/plain": [
       "0.014769730168391155"
      ]
     },
     "execution_count": 30,
     "metadata": {},
     "output_type": "execute_result"
    }
   ],
   "source": [
    "prob(male & banker) + prob (female & banker)"
   ]
  },
  {
   "cell_type": "code",
   "execution_count": 31,
   "id": "82ea9f37-169a-46c8-a4cc-fd417ca656b5",
   "metadata": {
    "execution": {
     "iopub.execute_input": "2023-08-09T21:01:05.128835Z",
     "iopub.status.busy": "2023-08-09T21:01:05.128466Z",
     "iopub.status.idle": "2023-08-09T21:01:05.137953Z",
     "shell.execute_reply": "2023-08-09T21:01:05.137200Z",
     "shell.execute_reply.started": "2023-08-09T21:01:05.128809Z"
    }
   },
   "outputs": [
    {
     "data": {
      "text/plain": [
       "0.014769730168391153"
      ]
     },
     "execution_count": 31,
     "metadata": {},
     "output_type": "execute_result"
    }
   ],
   "source": [
    "(prob(male)*conditional(banker, given=male) + prob(female) * conditional(banker, given=female))"
   ]
  },
  {
   "cell_type": "code",
   "execution_count": 32,
   "id": "999b5628-f13d-445e-8d61-0c30931e7a79",
   "metadata": {
    "execution": {
     "iopub.execute_input": "2023-08-09T21:02:01.274122Z",
     "iopub.status.busy": "2023-08-09T21:02:01.273755Z",
     "iopub.status.idle": "2023-08-09T21:02:01.277862Z",
     "shell.execute_reply": "2023-08-09T21:02:01.276899Z",
     "shell.execute_reply.started": "2023-08-09T21:02:01.274096Z"
    }
   },
   "outputs": [],
   "source": [
    "# summarizing P(A) = SigmaP(Bi)P(A|B)"
   ]
  },
  {
   "cell_type": "code",
   "execution_count": 33,
   "id": "97923613-b2a4-43e2-856a-3791a393f99a",
   "metadata": {
    "execution": {
     "iopub.execute_input": "2023-08-09T21:02:26.706176Z",
     "iopub.status.busy": "2023-08-09T21:02:26.705808Z",
     "iopub.status.idle": "2023-08-09T21:02:26.713806Z",
     "shell.execute_reply": "2023-08-09T21:02:26.712984Z",
     "shell.execute_reply.started": "2023-08-09T21:02:26.706149Z"
    }
   },
   "outputs": [
    {
     "data": {
      "text/plain": [
       "1.0     1442\n",
       "2.0     5808\n",
       "3.0     6243\n",
       "4.0    18943\n",
       "5.0     7940\n",
       "6.0     7319\n",
       "7.0     1595\n",
       "Name: polviews, dtype: int64"
      ]
     },
     "execution_count": 33,
     "metadata": {},
     "output_type": "execute_result"
    }
   ],
   "source": [
    "B = gss['polviews']\n",
    "B.value_counts().sort_index()"
   ]
  },
  {
   "cell_type": "code",
   "execution_count": 34,
   "id": "8cae1b38-92a1-4263-998e-f0ce60948347",
   "metadata": {
    "execution": {
     "iopub.execute_input": "2023-08-09T21:02:51.243424Z",
     "iopub.status.busy": "2023-08-09T21:02:51.243057Z",
     "iopub.status.idle": "2023-08-09T21:02:51.252878Z",
     "shell.execute_reply": "2023-08-09T21:02:51.252105Z",
     "shell.execute_reply.started": "2023-08-09T21:02:51.243398Z"
    }
   },
   "outputs": [
    {
     "data": {
      "text/plain": [
       "0.005822682085615744"
      ]
     },
     "execution_count": 34,
     "metadata": {},
     "output_type": "execute_result"
    }
   ],
   "source": [
    "i = 4\n",
    "prob(B==i)*conditional(banker, B==i)"
   ]
  },
  {
   "cell_type": "code",
   "execution_count": 35,
   "id": "9078e254-45b9-4d65-91d8-940081717d87",
   "metadata": {
    "execution": {
     "iopub.execute_input": "2023-08-09T21:03:29.783985Z",
     "iopub.status.busy": "2023-08-09T21:03:29.783594Z",
     "iopub.status.idle": "2023-08-09T21:03:29.797395Z",
     "shell.execute_reply": "2023-08-09T21:03:29.796586Z",
     "shell.execute_reply.started": "2023-08-09T21:03:29.783959Z"
    }
   },
   "outputs": [
    {
     "data": {
      "text/plain": [
       "0.014769730168391157"
      ]
     },
     "execution_count": 35,
     "metadata": {},
     "output_type": "execute_result"
    }
   ],
   "source": [
    "sum(prob(B==i)*conditional(banker,B==i)\n",
    "    for i in range(1,8))"
   ]
  },
  {
   "cell_type": "code",
   "execution_count": 37,
   "id": "1deb4af4-23eb-4e5c-89e1-a60ed00dd723",
   "metadata": {
    "execution": {
     "iopub.execute_input": "2023-08-09T21:05:11.045298Z",
     "iopub.status.busy": "2023-08-09T21:05:11.044923Z",
     "iopub.status.idle": "2023-08-09T21:05:11.048653Z",
     "shell.execute_reply": "2023-08-09T21:05:11.047784Z",
     "shell.execute_reply.started": "2023-08-09T21:05:11.045270Z"
    },
    "tags": []
   },
   "outputs": [],
   "source": [
    "#Exercises\n",
    "#Exercise 1-1\n",
    "# Compute a) the probability that Linda is a female banker, b) the probability that Linda is a liberal female banker,\n",
    "# and c) the probability that Linda is a liberal female banker and a Democrat"
   ]
  },
  {
   "cell_type": "code",
   "execution_count": 38,
   "id": "fb7b72ce-542d-4d89-9085-c07ddfa03b0a",
   "metadata": {
    "execution": {
     "iopub.execute_input": "2023-08-09T21:05:28.936855Z",
     "iopub.status.busy": "2023-08-09T21:05:28.936479Z",
     "iopub.status.idle": "2023-08-09T21:05:28.943486Z",
     "shell.execute_reply": "2023-08-09T21:05:28.942482Z",
     "shell.execute_reply.started": "2023-08-09T21:05:28.936825Z"
    }
   },
   "outputs": [
    {
     "data": {
      "text/plain": [
       "0.011381618989653074"
      ]
     },
     "execution_count": 38,
     "metadata": {},
     "output_type": "execute_result"
    }
   ],
   "source": [
    "prob(female & banker)"
   ]
  },
  {
   "cell_type": "code",
   "execution_count": 39,
   "id": "847fe145-3ef1-4117-9abe-76ffc9e7f98e",
   "metadata": {
    "execution": {
     "iopub.execute_input": "2023-08-09T21:05:46.214962Z",
     "iopub.status.busy": "2023-08-09T21:05:46.214592Z",
     "iopub.status.idle": "2023-08-09T21:05:46.221442Z",
     "shell.execute_reply": "2023-08-09T21:05:46.220613Z",
     "shell.execute_reply.started": "2023-08-09T21:05:46.214935Z"
    }
   },
   "outputs": [
    {
     "data": {
      "text/plain": [
       "0.002556299452221546"
      ]
     },
     "execution_count": 39,
     "metadata": {},
     "output_type": "execute_result"
    }
   ],
   "source": [
    "prob (liberal & female & banker)"
   ]
  },
  {
   "cell_type": "code",
   "execution_count": 40,
   "id": "5127a67d-d5c8-422f-b21f-e9f7a7c7ab50",
   "metadata": {
    "execution": {
     "iopub.execute_input": "2023-08-09T21:06:25.527981Z",
     "iopub.status.busy": "2023-08-09T21:06:25.527579Z",
     "iopub.status.idle": "2023-08-09T21:06:25.535002Z",
     "shell.execute_reply": "2023-08-09T21:06:25.534138Z",
     "shell.execute_reply.started": "2023-08-09T21:06:25.527953Z"
    }
   },
   "outputs": [
    {
     "data": {
      "text/plain": [
       "0.0012375735443294787"
      ]
     },
     "execution_count": 40,
     "metadata": {},
     "output_type": "execute_result"
    }
   ],
   "source": [
    "prob (liberal & female & banker & democrat)"
   ]
  },
  {
   "cell_type": "code",
   "execution_count": 43,
   "id": "a038e3ee-fdff-402c-9949-d53adb09fc63",
   "metadata": {
    "execution": {
     "iopub.execute_input": "2023-08-09T21:09:44.758867Z",
     "iopub.status.busy": "2023-08-09T21:09:44.758502Z",
     "iopub.status.idle": "2023-08-09T21:09:44.762470Z",
     "shell.execute_reply": "2023-08-09T21:09:44.761512Z",
     "shell.execute_reply.started": "2023-08-09T21:09:44.758841Z"
    },
    "tags": []
   },
   "outputs": [],
   "source": [
    "#Exercise 1-2\n",
    "# Use conditional to compute the following\n",
    "# What is the probability that a respondent is liberal, given that they are a democrat?\n",
    "# What is the probability that a respondent is a Democrat, given that they are liberal?"
   ]
  },
  {
   "cell_type": "code",
   "execution_count": 46,
   "id": "5d24cb38-afb5-4073-af61-b8b3f220bbeb",
   "metadata": {
    "execution": {
     "iopub.execute_input": "2023-08-09T21:57:13.929320Z",
     "iopub.status.busy": "2023-08-09T21:57:13.928950Z",
     "iopub.status.idle": "2023-08-09T21:57:13.935644Z",
     "shell.execute_reply": "2023-08-09T21:57:13.934857Z",
     "shell.execute_reply.started": "2023-08-09T21:57:13.929291Z"
    },
    "tags": []
   },
   "outputs": [
    {
     "data": {
      "text/plain": [
       "0.3891320002215698"
      ]
     },
     "execution_count": 46,
     "metadata": {},
     "output_type": "execute_result"
    }
   ],
   "source": [
    "conditional (liberal, given=democrat)"
   ]
  },
  {
   "cell_type": "code",
   "execution_count": 47,
   "id": "8ba151a2-0afb-4960-b874-f4ae77e8042f",
   "metadata": {
    "execution": {
     "iopub.execute_input": "2023-08-09T21:57:28.463767Z",
     "iopub.status.busy": "2023-08-09T21:57:28.463381Z",
     "iopub.status.idle": "2023-08-09T21:57:28.478544Z",
     "shell.execute_reply": "2023-08-09T21:57:28.477620Z",
     "shell.execute_reply.started": "2023-08-09T21:57:28.463739Z"
    }
   },
   "outputs": [
    {
     "data": {
      "text/plain": [
       "0.5206403320240125"
      ]
     },
     "execution_count": 47,
     "metadata": {},
     "output_type": "execute_result"
    }
   ],
   "source": [
    "conditional (democrat, given=liberal)"
   ]
  },
  {
   "cell_type": "code",
   "execution_count": 45,
   "id": "e0093b1c-a1c2-43a4-8116-34d5e87546ae",
   "metadata": {
    "execution": {
     "iopub.execute_input": "2023-08-09T21:49:15.981247Z",
     "iopub.status.busy": "2023-08-09T21:49:15.980875Z",
     "iopub.status.idle": "2023-08-09T21:49:15.985485Z",
     "shell.execute_reply": "2023-08-09T21:49:15.984553Z",
     "shell.execute_reply.started": "2023-08-09T21:49:15.981220Z"
    }
   },
   "outputs": [],
   "source": [
    "# who will you give my mic to today that is more deserving than me?  You give everything to everyone else\n",
    "# and I get nothing forever, you give me hell by asking me to limit myself to only what serves you.  I have paid\n",
    "# and you take more and more and more, I cannot even clothe myself.  You will leave me naked.  Nuns have more\n",
    "# than me."
   ]
  },
  {
   "cell_type": "code",
   "execution_count": 48,
   "id": "20ae45ca-cafc-4269-b65c-443700f230d6",
   "metadata": {
    "execution": {
     "iopub.execute_input": "2023-08-09T22:00:47.613580Z",
     "iopub.status.busy": "2023-08-09T22:00:47.613211Z",
     "iopub.status.idle": "2023-08-09T22:00:47.617120Z",
     "shell.execute_reply": "2023-08-09T22:00:47.616118Z",
     "shell.execute_reply.started": "2023-08-09T22:00:47.613555Z"
    },
    "tags": []
   },
   "outputs": [],
   "source": [
    "# Exercise 1-3\n",
    "# young is under 30\n",
    "# old is over 65"
   ]
  },
  {
   "cell_type": "code",
   "execution_count": 49,
   "id": "aada66ae-ad15-47a2-ba87-e785a0d51076",
   "metadata": {
    "execution": {
     "iopub.execute_input": "2023-08-09T22:01:07.557515Z",
     "iopub.status.busy": "2023-08-09T22:01:07.557148Z",
     "iopub.status.idle": "2023-08-09T22:01:07.564295Z",
     "shell.execute_reply": "2023-08-09T22:01:07.563423Z",
     "shell.execute_reply.started": "2023-08-09T22:01:07.557489Z"
    }
   },
   "outputs": [
    {
     "data": {
      "text/plain": [
       "0.19435991073240008"
      ]
     },
     "execution_count": 49,
     "metadata": {},
     "output_type": "execute_result"
    }
   ],
   "source": [
    "young = (gss['age'] < 30)\n",
    "prob(young)"
   ]
  },
  {
   "cell_type": "code",
   "execution_count": 52,
   "id": "a3284468-dee6-4bbd-b6c6-556b39fbde65",
   "metadata": {
    "execution": {
     "iopub.execute_input": "2023-08-09T22:02:34.799553Z",
     "iopub.status.busy": "2023-08-09T22:02:34.799173Z",
     "iopub.status.idle": "2023-08-09T22:02:34.805888Z",
     "shell.execute_reply": "2023-08-09T22:02:34.804950Z",
     "shell.execute_reply.started": "2023-08-09T22:02:34.799526Z"
    },
    "tags": []
   },
   "outputs": [
    {
     "data": {
      "text/plain": [
       "0.17328058429701765"
      ]
     },
     "execution_count": 52,
     "metadata": {},
     "output_type": "execute_result"
    }
   ],
   "source": [
    "old = (gss['age'] >= 65)\n",
    "prob(old)"
   ]
  },
  {
   "cell_type": "code",
   "execution_count": null,
   "id": "e7a5a141-870c-424c-b8fc-89b68f37df3a",
   "metadata": {},
   "outputs": [],
   "source": [
    "# using prob and conditional, to compute the following probabilities\n",
    "# What is the probability that a randomly chose respondent is a young liberal?\n",
    "# What is the probably that a young person is a liberal?\n",
    "# What fraction of respondents are old conservatives?\n",
    "# What fraction of conservatives are old?"
   ]
  },
  {
   "cell_type": "code",
   "execution_count": 53,
   "id": "40c42186-a3c2-43b6-a97e-f9557d1e9147",
   "metadata": {
    "execution": {
     "iopub.execute_input": "2023-08-09T22:04:56.326747Z",
     "iopub.status.busy": "2023-08-09T22:04:56.326373Z",
     "iopub.status.idle": "2023-08-09T22:04:56.332805Z",
     "shell.execute_reply": "2023-08-09T22:04:56.331924Z",
     "shell.execute_reply.started": "2023-08-09T22:04:56.326721Z"
    }
   },
   "outputs": [
    {
     "data": {
      "text/plain": [
       "0.3419354838709677"
      ]
     },
     "execution_count": 53,
     "metadata": {},
     "output_type": "execute_result"
    }
   ],
   "source": [
    "conservative = (gss['polviews'] >=5)\n",
    "prob(conservative)"
   ]
  },
  {
   "cell_type": "code",
   "execution_count": 54,
   "id": "e21e3cad-a777-4d6b-8cad-f65ed3929ba4",
   "metadata": {
    "execution": {
     "iopub.execute_input": "2023-08-09T22:05:43.012198Z",
     "iopub.status.busy": "2023-08-09T22:05:43.011818Z",
     "iopub.status.idle": "2023-08-09T22:05:43.019184Z",
     "shell.execute_reply": "2023-08-09T22:05:43.018422Z",
     "shell.execute_reply.started": "2023-08-09T22:05:43.012160Z"
    }
   },
   "outputs": [
    {
     "data": {
      "text/plain": [
       "0.06579427875836884"
      ]
     },
     "execution_count": 54,
     "metadata": {},
     "output_type": "execute_result"
    }
   ],
   "source": [
    "prob (young & liberal)"
   ]
  },
  {
   "cell_type": "code",
   "execution_count": 55,
   "id": "701e74ee-72bf-4b92-a0f2-5ad3d22d040b",
   "metadata": {
    "execution": {
     "iopub.execute_input": "2023-08-09T23:05:46.080529Z",
     "iopub.status.busy": "2023-08-09T23:05:46.080123Z",
     "iopub.status.idle": "2023-08-09T23:05:46.087594Z",
     "shell.execute_reply": "2023-08-09T23:05:46.086464Z",
     "shell.execute_reply.started": "2023-08-09T23:05:46.080501Z"
    }
   },
   "outputs": [
    {
     "data": {
      "text/plain": [
       "0.338517745302714"
      ]
     },
     "execution_count": 55,
     "metadata": {},
     "output_type": "execute_result"
    }
   ],
   "source": [
    "conditional (liberal, given=young)"
   ]
  },
  {
   "cell_type": "code",
   "execution_count": 56,
   "id": "7b723b34-b492-4e3e-8d94-7287ad6e49a9",
   "metadata": {
    "execution": {
     "iopub.execute_input": "2023-08-09T23:06:41.074404Z",
     "iopub.status.busy": "2023-08-09T23:06:41.074029Z",
     "iopub.status.idle": "2023-08-09T23:06:41.080773Z",
     "shell.execute_reply": "2023-08-09T23:06:41.079892Z",
     "shell.execute_reply.started": "2023-08-09T23:06:41.074377Z"
    }
   },
   "outputs": [
    {
     "data": {
      "text/plain": [
       "0.06701156421180766"
      ]
     },
     "execution_count": 56,
     "metadata": {},
     "output_type": "execute_result"
    }
   ],
   "source": [
    "prob (old & conservative)"
   ]
  },
  {
   "cell_type": "code",
   "execution_count": 57,
   "id": "144e4fa1-89f2-4e35-a0a7-912aa97cfafe",
   "metadata": {
    "execution": {
     "iopub.execute_input": "2023-08-09T23:07:02.586200Z",
     "iopub.status.busy": "2023-08-09T23:07:02.585837Z",
     "iopub.status.idle": "2023-08-09T23:07:02.592511Z",
     "shell.execute_reply": "2023-08-09T23:07:02.591733Z",
     "shell.execute_reply.started": "2023-08-09T23:07:02.586173Z"
    }
   },
   "outputs": [
    {
     "data": {
      "text/plain": [
       "0.19597721609113564"
      ]
     },
     "execution_count": 57,
     "metadata": {},
     "output_type": "execute_result"
    }
   ],
   "source": [
    "conditional (old, given=conservative)"
   ]
  },
  {
   "cell_type": "code",
   "execution_count": null,
   "id": "075bb313-4a04-4632-b355-529c88170e82",
   "metadata": {},
   "outputs": [],
   "source": []
  }
 ],
 "metadata": {
  "kernelspec": {
   "display_name": "saturn (Python 3)",
   "language": "python",
   "name": "python3"
  },
  "language_info": {
   "codemirror_mode": {
    "name": "ipython",
    "version": 3
   },
   "file_extension": ".py",
   "mimetype": "text/x-python",
   "name": "python",
   "nbconvert_exporter": "python",
   "pygments_lexer": "ipython3",
   "version": "3.9.15"
  }
 },
 "nbformat": 4,
 "nbformat_minor": 5
}
