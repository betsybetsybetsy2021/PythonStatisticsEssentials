{
 "cells": [
  {
   "cell_type": "markdown",
   "id": "d3a2883a-fd56-4c05-9484-41f4f3d93ebb",
   "metadata": {},
   "source": [
    "$ \\huge {MANHATTAN\\;\\;LSAT\\;\\;Test\\;\\;Prep\\;\\;Logic\\;\\;Problems}$</br>\n",
    "Solutions by... Elizabeth \"Betsy\" Ellis\n",
    "\n",
    "I am supposed to end back at human, not matched to someone else.  I mean, you already verified that I am an EE.  Why can't someone develop me as an EE instead.  Are they seriously still not satisfied.  What more do they want me to do to match my own office - DXT?  I AM NOT on a teacher's arch... I AM an engineer. I could be a Graduate teaching assistant.  Learning how to develop learning materials could still be useful to me, but I really don't care for children."
   ]
  },
  {
   "cell_type": "markdown",
   "id": "74417585-18b2-4e66-a768-3abd586db15f",
   "metadata": {},
   "source": [
    "$\\underline{Composite\\;Board}$</br>\n",
    "Atlas industries is constructing composite boards that include at leas 6 but no more than 7 layers.  The materials that are used as layers in the boards are categorized as either insulating, metallic or wooden and a board must include at least one of each of the three categories of material.  No other categories of material are sued.  There are exactly three insulating materials available -- fleece,m Gore-Tex, and hay -- two metallic materials -- krypton and lead -- and three wooden materials -- pine, oak, and spruce.  A board may not contain two layers made of the same exact material.  During the construction of a board, a bottom layer is always numbered 1, with layers above that numbered in inreasing and consuecutive order until the top layer, which is numbered 6 or 7.  A layer touches only the layers that lie above or below it in a board.</br>\n",
    "</br>\n",
    "The construction of the board must adhere to the following conditions:</br>\n",
    "1) Any insulating layer that is used must touch exactly two layers, neither one of which is an insulator</br>\n",
    "2) A layer of lead cannot touch a layer of fleece</br>\n",
    "3) Krypton can touch fleece only if Krypton touches two insulating materials</br>\n",
    "4) No wooden layer can touch a metallic layer</br>\n",
    "5) The top layer is wooden, if and only if, the bottom layer is as well</br>\n"
   ]
  },
  {
   "cell_type": "markdown",
   "id": "98a01f2e-2d1e-4c42-bf64-e7db19f137bf",
   "metadata": {},
   "source": [
    "__1) Which one of the following could be a list of the layers used in a board in order from bottom to top?__</br>\n",
    "(A) pine, oak, Gore-Tex, lead, fleece, spruce ----- breaks rule 2</br>\n",
    "(B) krypton, Gore-Tex, spruce, fleece, oak, pine ----- breaks rule 5</br>\n",
    "(C) spruce, hay, krypton, Gore-Tex, lead, pine ----- breaks rule 4</br>\n",
    "(D) pine, fleece, krypton, lead, Gore-Tex, oak ----- breaks breaks rule 3</br>\n",
    "__(E) oak, spruce, fleece, krypton, Gore-Tex, pine ----- POSSIBLE__"
   ]
  },
  {
   "cell_type": "markdown",
   "id": "26b0a43a-07ff-494c-b2c7-452ccf8657a1",
   "metadata": {
    "execution": {
     "iopub.execute_input": "2023-12-10T00:32:57.426800Z",
     "iopub.status.busy": "2023-12-10T00:32:57.426441Z",
     "iopub.status.idle": "2023-12-10T00:32:57.435033Z",
     "shell.execute_reply": "2023-12-10T00:32:57.433920Z",
     "shell.execute_reply.started": "2023-12-10T00:32:57.426773Z"
    }
   },
   "source": [
    "__2) If fleece is second each of the following could be true EXCEPT:__</br>\n",
    "(A) A layer of insulator is sixth</br>\n",
    "(B) A layer of wood is seventh</br>\n",
    "__(C) A layer of metal is sixth__</br>\n",
    "(D) A layer of insulator is fourth</br>\n",
    "(E) A layer of wood is sixth</br>"
   ]
  },
  {
   "cell_type": "markdown",
   "id": "e2303258-3ed5-4da1-9b78-55c7c81a2c0d",
   "metadata": {},
   "source": [
    "</br>\n",
    "$\n",
    "\\begin{vmatrix}\n",
    "? Layer 7 ? & \\underline{7\\;=\\;top\\;thus\\;W\\;because\\;of\\;rule\\;5} \\\\\n",
    "Layer 6 & \\underline{6\\;=\\;W\\;or\\;I\\;if\\;6\\;=\\;top\\;then\\;W\\;due\\;to\\;rule\\;5} \\\\\n",
    "Layer 5 & \\underline{MorW\\;because\\;4\\;=\\;I} \\\\\n",
    "Layer 4 & \\underline{if\\;3\\;=\\;Krypton,\\;4\\;=\\;I\\;\\;or\\;\\;if\\;3\\;=\\;W,\\;4 = I\\;because2woodusedalready} \\\\\n",
    "Layer 3 & \\underline{M\\;or\\;W\\;(not\\;lead)} \\\\\n",
    "Layer 2 & \\underline{\\;\\;FLEECE\\;\\;} \\\\\n",
    "Layer 1 & \\underline{W\\;per\\;rules\\;1\\;2\\;3} \\\\\n",
    "\\end{vmatrix}\n",
    "$\n",
    "</br>\n",
    "From the above matrix, we can see that having a sixth layer of metal is not possible"
   ]
  },
  {
   "cell_type": "markdown",
   "id": "959158c5-df8f-4b46-b69f-89ae67404365",
   "metadata": {},
   "source": [
    "__3) If spruce is the fourth of seven layers, each of the following could be true EXCEPT:__</br>\n",
    "(A) Oak touches Gore-Tex</br>\n",
    "__(B) Fleece touches spruce__</br>\n",
    "(C) Pine touches hay</br>\n",
    "(D) Pine touches spruce</br>\n",
    "(E) Lead touches hay</br>"
   ]
  },
  {
   "cell_type": "markdown",
   "id": "027c7cac-998f-4c08-990d-6778f8a68cc6",
   "metadata": {
    "execution": {
     "iopub.execute_input": "2023-12-11T20:55:51.206504Z",
     "iopub.status.busy": "2023-12-11T20:55:51.206137Z",
     "iopub.status.idle": "2023-12-11T20:55:51.215664Z",
     "shell.execute_reply": "2023-12-11T20:55:51.214771Z",
     "shell.execute_reply.started": "2023-12-11T20:55:51.206478Z"
    }
   },
   "source": [
    "If Spruce is on layer 4, only two of the insulators can be used. Considering the following permutation, all are possible except for (B) </br></br>\n",
    "$\n",
    "\\begin{vmatrix}\n",
    "Layer 7 & \\underline{M} \\\\\n",
    "Layer 6 & \\underline{I} \\\\\n",
    "Layer 5 & \\underline{W} \\\\\n",
    "Layer 4 & \\underline{Spruce (W)} \\\\\n",
    "Layer 3 & \\underline{W} \\\\\n",
    "Layer 2 & \\underline{I} \\\\\n",
    "Layer 1 & \\underline{M} \\\\\n",
    "\\end{vmatrix}\n",
    "$</br></br>"
   ]
  },
  {
   "cell_type": "markdown",
   "id": "5462e872-1b8a-4662-991e-116805c92cfa",
   "metadata": {},
   "source": [
    "__4) If lead touches Krypton and Gore-Tex, and pine is not used in the construction of a given board, how many different arrangements of layers can be used?__</br>\n",
    "(A) 0</br>\n",
    "(B) 1</br>\n",
    "(C) 2</br>\n",
    "(D) 3</br>\n",
    "__(E) 4__"
   ]
  },
  {
   "cell_type": "markdown",
   "id": "931a9ad0-1502-4794-ad65-3b788afdadc1",
   "metadata": {},
   "source": [
    "Consider the following possible permutations.</br>\n",
    "$\n",
    "\\begin{vmatrix}\n",
    "Layer 6 & \\underline{Wood (Oak)} \\\\\n",
    "Layer 5 & \\underline{Insulator (Hay)} \\\\\n",
    "Layer 4 & \\underline{Metal (Krypton)} \\\\\n",
    "Layer 3 & \\underline{Metal (Lead)} \\\\\n",
    "Layer 2 & \\underline{Insulator (Gore-Tex)} \\\\\n",
    "Layer 1 & \\underline{Wood (Spruce)} \\\\\n",
    "\\end{vmatrix}\n",
    "$\n",
    "</br></br>\n",
    "$\n",
    "\\begin{vmatrix}\n",
    "Layer 6 & \\underline{Wood (Spruce)} \\\\\n",
    "Layer 5 & \\underline{Insulator (Hay)} \\\\\n",
    "Layer 4 & \\underline{Metal (Krypton)} \\\\\n",
    "Layer 3 & \\underline{Metal (Lead)} \\\\\n",
    "Layer 2 & \\underline{Insulator (Gore-Tex)} \\\\\n",
    "Layer 1 & \\underline{Wood (Oak)} \\\\\n",
    "\\end{vmatrix}\n",
    "$\n",
    "</br></br>\n",
    "$\n",
    "\\begin{vmatrix}\n",
    "Layer 6 & \\underline{Wood (Spruce)} \\\\\n",
    "Layer 5 & \\underline{Insulator (Gore-Tex)} \\\\\n",
    "Layer 4 & \\underline{Metal (Lead)} \\\\\n",
    "Layer 3 & \\underline{Metal (Krypton)} \\\\\n",
    "Layer 2 & \\underline{Insulator (Hay)} \\\\\n",
    "Layer 1 & \\underline{Wood (Oak)} \\\\\n",
    "\\end{vmatrix}\n",
    "$\n",
    "</br></br>\n",
    "$\n",
    "\\begin{vmatrix}\n",
    "Layer 6 & \\underline{Wood (Oak)} \\\\\n",
    "Layer 5 & \\underline{Insulator (Gore-Tex)} \\\\\n",
    "Layer 4 & \\underline{Metal (Lead)} \\\\\n",
    "Layer 3 & \\underline{Metal (Krypton)} \\\\\n",
    "Layer 2 & \\underline{Insulator (Hay)} \\\\\n",
    "Layer 1 & \\underline{Wood (Spruce)} \\\\\n",
    "\\end{vmatrix}\n",
    "$"
   ]
  },
  {
   "cell_type": "markdown",
   "id": "07cf3773-c8eb-49a6-b62b-6614ffdab86b",
   "metadata": {},
   "source": [
    "__5) Each of the following could be true EXCEPT:__</br>\n",
    "__(A) Lead is the first layer and fleece is the fifth__</br>\n",
    "(B) Lead touches Gore-Tex and hay</br>\n",
    "(C) Pine touches Oak and Spruce</br>\n",
    "(D) Oak is the second layer and Gore-Tex is the sixth</br>\n",
    "(E) Krypton and lead touch eachother</br>"
   ]
  },
  {
   "cell_type": "markdown",
   "id": "349ecc9b-fffd-4958-9fd6-9abc40ab3477",
   "metadata": {},
   "source": [
    "\n",
    "(A) Not possible </br>\n",
    "(B)</br>\n",
    "$\n",
    "\\begin{vmatrix}\n",
    "Layer 6 & \\underline{Wood} \\\\\n",
    "Layer 5 & \\underline{Hay (Insulator)} \\\\\n",
    "Layer 4 & \\underline{Lead (Metal)} \\\\\n",
    "Layer 3 & \\underline{Gore-Tex (Insulator)} \\\\\n",
    "Layer 2 & \\underline{Wood} \\\\\n",
    "Layer 1 & \\underline{Wood} \\\\\n",
    "\\end{vmatrix}\n",
    "$\n",
    "</br></br>\n",
    "(C)</br>\n",
    "$\n",
    "\\begin{vmatrix}\n",
    "Layer 6 & \\underline{M} \\\\\n",
    "Layer 6 & \\underline{I} \\\\\n",
    "Layer 5 & \\underline{W (Oak)} \\\\\n",
    "Layer 4 & \\underline{W (Pine)} \\\\\n",
    "Layer 3 & \\underline{W (Spruce)} \\\\\n",
    "Layer 2 & \\underline{I} \\\\\n",
    "Layer 1 & \\underline{M} \\\\\n",
    "\\end{vmatrix}\n",
    "$\n",
    "</br></br>\n",
    "(D)</br>\n",
    "$\n",
    "\\begin{vmatrix}\n",
    "Layer 6 & \\underline{Pine(wood)} \\\\\n",
    "Layer 6 & \\underline{Gore-Tex(insulator)} \\\\\n",
    "Layer 5 & \\underline{Krypton (metal)} \\\\\n",
    "Layer 4 & \\underline{Lead (metal)} \\\\\n",
    "Layer 3 & \\underline{Hay (insulator)} \\\\\n",
    "Layer 2 & \\underline{Oak (wood)} \\\\\n",
    "Layer 1 & \\underline{Spruce (wood)} \\\\\n",
    "\\end{vmatrix}\n",
    "$\n",
    "</br></br>\n",
    "(E) See permutation of (D) in which Krypton and Lead touch"
   ]
  },
  {
   "cell_type": "markdown",
   "id": "0f87d198-5b63-4b51-942f-e304d77bb6a2",
   "metadata": {},
   "source": [
    "__6) Which of the following, if substituted for the condition that a layer of wood cannot touch one of metal, would also prevent a layer of wood and a layer of metal from touching eachother?__</br>\n",
    "(A) All three layers of wood are used</br>\n",
    "__(B) All three layers of insulator are used__ rule 1 would prevent metal and wood from touching </br>\n",
    "(C) Both layers of metal are used</br>\n",
    "(D) Each layer of insulator must touch both a layer of wood and one of metal</br>\n",
    "(E) Each layer of metal touches at least one layer of insulator</br>"
   ]
  },
  {
   "cell_type": "markdown",
   "id": "f9be2cdc-0a5f-4697-87bd-45af43bb2b8d",
   "metadata": {},
   "source": [
    "(A) Possible permutation of all 3 wood used, doesn't prevent wood and metal from touching </br></br>\n",
    "$\n",
    "\\begin{vmatrix}\n",
    "Layer 7 & \\underline{Pine (wood)} \\\\\n",
    "Layer 6 & \\underline{Fleece (insulator)} \\\\\n",
    "Layer 5 & \\underline{Krypton (metal)} \\\\\n",
    "Layer 4 & \\underline{Gore-Tex (insulator)} \\\\\n",
    "Layer 3 & \\underline{Lead (metal)} \\\\\n",
    "Layer 2 & \\underline{Oak (wood)} \\\\\n",
    "Layer 1 & \\underline{Spruce (wood)} \\\\\n",
    "\\end{vmatrix}\n",
    "$</br></br>\n",
    "(B) All three layers of insulator used, must be 7 layers because of rule 1.  If 8 layers were possible, metal and wood could touch, but with only 7, the alternating arrangement prevents that.</br></br>\n",
    "$\n",
    "\\begin{vmatrix}\n",
    "Layer 7 & \\underline{Spruce (wood)} \\\\\n",
    "Layer 6 & \\underline{Fleece (insulator)} \\\\\n",
    "Layer 5 & \\underline{Oak (wood)} \\\\\n",
    "Layer 4 & \\underline{Gore-Tex (insulator)} \\\\\n",
    "Layer 3 & \\underline{Lead (metal)} \\\\\n",
    "Layer 2 & \\underline{Hay (insulator)} \\\\\n",
    "Layer 1 & \\underline{Pine (wood)} \\\\\n",
    "\\end{vmatrix}\n",
    "$</br></br>\n",
    "(C) Both metals used.  See the possible permutation in (A), both metals are used and in that arrangement both metal and wood touch.</br></br>\n",
    "(D) Each insulator must touch Wood and Metal. This possible permutation does not prevent wood and metal from touching.</br></br>\n",
    "$\n",
    "\\begin{vmatrix}\n",
    "Layer 7 & \\underline{Pine (wood)} \\\\\n",
    "Layer 6 & \\underline{Hay (insulator)} \\\\\n",
    "Layer 5 & \\underline{Lead (metal)} \\\\\n",
    "Layer 4 & \\underline{Gore-Tex (insulator)} \\\\\n",
    "Layer 3 & \\underline{Oak (wood)} \\\\\n",
    "Layer 2 & \\underline{Krypton (metal)} \\\\\n",
    "Layer 1 & \\underline{Spruce (wood)} \\\\\n",
    "\\end{vmatrix}\n",
    "$</br></br>\n",
    "(E) Each layer of metal touches at least one layer of insulator. See (A).  If only one of the metal is used and that metal touches an insulator, metal and wood can touch.</br>"
   ]
  },
  {
   "cell_type": "markdown",
   "id": "0432a145-eea4-431b-a492-f4eb954d2f9b",
   "metadata": {},
   "source": [
    "__7) If two wooden layers touch each other and two metallic layers touch eachother, what is the greatest possible number of layers between Gore-Tex and Spruce.__</br>\n",
    "(A) 0 </br>\n",
    "(B) 1 </br>\n",
    "(C) 2 </br>\n",
    "(D) 3 </br>\n",
    "__(E) 4__ </br>"
   ]
  },
  {
   "cell_type": "markdown",
   "id": "28c8bf6c-e380-4bfc-9543-a75a5a1cc62f",
   "metadata": {
    "execution": {
     "iopub.execute_input": "2023-12-11T20:19:02.920025Z",
     "iopub.status.busy": "2023-12-11T20:19:02.919655Z",
     "iopub.status.idle": "2023-12-11T20:19:02.930188Z",
     "shell.execute_reply": "2023-12-11T20:19:02.928893Z",
     "shell.execute_reply.started": "2023-12-11T20:19:02.919994Z"
    }
   },
   "source": [
    "In this possible permutation, there are four layers between Gore-Tex and Spruce.</br>\n",
    "$\n",
    "\\begin{vmatrix}\n",
    "Layer 7 & \\underline{Pine (wood)} \\\\\n",
    "Layer 6 & \\underline{Gore-Tex (insulator} \\\\\n",
    "Layer 5 & \\underline{Krypton (metal)} \\\\\n",
    "Layer 4 & \\underline{Lead (metal)} \\\\\n",
    "Layer 3 & \\underline{Hay (insulator)} \\\\\n",
    "Layer 2 & \\underline{Oak (wood)} \\\\\n",
    "Layer 1 & \\underline{Spruce (wood)} \\\\\n",
    "\\end{vmatrix}\n",
    "$</br></br>"
   ]
  },
  {
   "cell_type": "markdown",
   "id": "c7010a1f-ea77-4072-ad00-52807de02799",
   "metadata": {},
   "source": [
    "$ \\underline{Seven\\;Boats} $</br>\n",
    "Each group of questions in this section is based on a set of conditions.  In answering some of the questions, it may be useful to draw a rough diagram.  Choose the response that most accurately and completely answers each question and blacken the corresponding space on your answer sheet."
   ]
  },
  {
   "cell_type": "markdown",
   "id": "c3b24c38-1754-4439-8abd-173887e9f81b",
   "metadata": {},
   "source": [
    "$ \\underline{Questions\\;1-4} $</br>\n",
    "Seven boats -- Flyer, Jasmine, Kilborn, Lulu, Maritime, Orbit and Pinwheel -- finish a race one at a time and consecutively.  No other boats compete in the race.</br>\n",
    "The following conditions hold:</br>\n",
    "Rule 1) Maritime finishes at some time before Orbit. $M \\rightarrow O$</br> \n",
    "Rule 2) Jasmine finishes at some time after Kilborn but at some time before Pinwheel. $K \\rightarrow J \\rightarrow P$</br> \n",
    "Rule 3) Orbit finishes at some time after Lulu. $L \\rightarrow O$</br> \n",
    "Rule 4) Pinwheel finishes at some time after Lulu but at some time before Flyer.  $L \\rightarrow P \\rightarrow F$</br> "
   ]
  },
  {
   "cell_type": "markdown",
   "id": "94c759bc-dff5-4ad7-a084-f75995dbfcfc",
   "metadata": {},
   "source": [
    "__1. Which one of the following could be the order in which the boats finish, listed from first to last?__</br>\n",
    "(A) Maritime, Kilborn, Orbit, Jasmine, Lulu, Pinwheel, Flyer -- breaks rule 3 </br>\n",
    "(B) Kilborn, Jasmine, Lulu, Orbit, Pinwheel, Maritime, Flyer -- breaks rule 1 </br>\n",
    "__(C) Lulu, Maritime, Kilborn, Jasmine, Pinwheel, Flyer, Orbit__</br>\n",
    "(D) Maritime, Lulu, Kilborn, Orbit, Pinwheel, Jasmine, Flyer -- breaks rule 2 </br>\n",
    "(E) Kilborn, Maritime, Lulu, Jasmine, Flyer, Orbit, Pinwheel -- breaks rule 4 </br>"
   ]
  },
  {
   "cell_type": "markdown",
   "id": "7675de99-4908-42db-a3de-2ba5ca47a59e",
   "metadata": {},
   "source": [
    "__2. Each of the following could be true EXCEPT:__</br>\n",
    "(A) Orbit finishes at some time before Kilborn.</br>\n",
    "(B) Lulu finishes at some time after Jasmine.</br>\n",
    "(C) Flyer finishes at some time before Maritime.</br>\n",
    "(D) Pinwheel finishes at some time before Orbit.</br>\n",
    "__(E) Kilborn finishes at some time after Flyer.__ breaks rules 2 & 4, $ K \\rightarrow P, P \\rightarrow F $</br>"
   ]
  },
  {
   "cell_type": "markdown",
   "id": "57207d99-48bd-42d5-a696-69a3228dbaff",
   "metadata": {},
   "source": [
    "__3. If Lulu finishes fourth, which one of the following could be a partial list of boats matched with their respective finishing positions?__ </br>\n",
    "(A) Jasmine: third; flyer: fifth</br>\n",
    "(B) Kilborn: third; Flyer: seventh</br>\n",
    "(C) Maritime: first; Jasmine: fifth</br>\n",
    "(D) Maritime: second; Pinwheel: third</br>\n",
    "__(E) Kilborn: second; Pinwheel: sixth__</br>"
   ]
  },
  {
   "cell_type": "markdown",
   "id": "eac45594-914e-4e82-bf73-9009e4278c63",
   "metadata": {},
   "source": [
    "Consider the following possible permutations, each vertical column is a possible permutation.</br></br>\n",
    "$\n",
    "\\begin{vmatrix}\n",
    "7th Place &  Flyer & Flyer & Orbit\\\\\n",
    "6th Place &  Orbit & Pinwheel & Flyer\\\\\n",
    "5th Place &  Pinwheel & Orbit & Pinwheel\\\\\n",
    "4th Place & LEAD & LEAD & LEAD \\\\\n",
    "3rd Place &  Jasmine & Maritime & Jasmine\\\\\n",
    "2nd Place &  Kilborn & Jasmine & Maritime\\\\\n",
    "1st Place &  Maritime & Kilborn & Kilborn\\\\\n",
    "\\end{vmatrix}\n",
    "$</br></br>"
   ]
  },
  {
   "cell_type": "markdown",
   "id": "56399697-a5a5-4284-9adc-5af68ed7dc5f",
   "metadata": {},
   "source": [
    "__4. If exactly one boat finishes between Orbit and Flyer, with either Orbit finishing before Flyer, with either Orbit finishing before Flyer or Flyer finishing before Orbit, wach of the following could be true EXCEPT:__ </br>\n",
    "(A) Jasime finishes second and Lulu finishes fourth </br>\n",
    "(B) Kilborn finishes first and Pinwheel finishes sixth </br>\n",
    "__(C) Maritime finishes first and Jasmine finishes third__ </br>\n",
    "(D) Maritime finishes first and Jasmine finishes third </br>\n",
    "(E) Kilborn finishes second and Orbit finishes fifth </br>"
   ]
  },
  {
   "cell_type": "markdown",
   "id": "acbe891a-a785-4241-b295-4d67724b381c",
   "metadata": {},
   "source": [
    "$\n",
    "\\begin{vmatrix}\n",
    "7th Place &  K & K\\\\\n",
    "6th Place &  J or L & J or M or L\\\\\n",
    "5th Place &  L or J &  J or M or L \\\\\n",
    "4th Place &  P &  J or M or L \\\\\n",
    "3rd Place &  F & O \\\\\n",
    "2nd Place &  M & P\\\\\n",
    "1st Place &  O & F\\\\\n",
    "\\end{vmatrix}\n",
    "$</br></br>\n",
    "If Orbit is 7th Place, Pinwheel cannot be between Flyer and Orbit per Rule 4 only Maritime can be between\n",
    "If Flyer is 7th Place, Pinwheel must be between Orbit and Flyer"
   ]
  },
  {
   "cell_type": "markdown",
   "id": "909dc46c-d1df-4629-99ab-6eb418498a1c",
   "metadata": {
    "execution": {
     "iopub.execute_input": "2023-12-11T22:20:30.707527Z",
     "iopub.status.busy": "2023-12-11T22:20:30.707130Z",
     "iopub.status.idle": "2023-12-11T22:20:30.713673Z",
     "shell.execute_reply": "2023-12-11T22:20:30.712362Z",
     "shell.execute_reply.started": "2023-12-11T22:20:30.707488Z"
    }
   },
   "source": [
    "$ \\underline{Dogs\\;and\\;Kids} $</br>\n",
    "Each group of questions in this section is based on a set of conditions.  In answering some of the questions, it may be useful to draw a rough diagram.  Choose the response that most accurately and completely answers each question and blacken the corresponding space on your answer sheet."
   ]
  },
  {
   "cell_type": "markdown",
   "id": "c922c26f-6d91-45e2-a7ba-ce67970879c2",
   "metadata": {},
   "source": [
    "__Questions 1-4__</br>\n",
    "The five children in a certain neighborhood -- Rocky, Sally, Tina, Urma, and Vivian -- each own one or more of only three types of dogs: King Charles Sapniel, Labrador, and Maltese.  No child owns more than one of any particular breeed of dog.  The following conditions apply:</br>\n",
    "Rule 1) Urma owns more dogs than Tina</br>\n",
    "Rule 2) Urma and Sally do not own any of the same type of breed of dogs.</br>\n",
    "Rule 3) Rocky and Tina do not own any of the same breed of dogs.</br>\n",
    "Rule 4) Vivian owns more dogs than any other child</br>"
   ]
  },
  {
   "cell_type": "markdown",
   "id": "c129859a-29c4-4234-8d1a-04ae6547fd3b",
   "metadata": {},
   "source": [
    "$\n",
    "\\begin{vmatrix}\n",
    "3\\;Dogs\\;&\\;Vivian\\;(K,L,M)\\\\\n",
    "2\\;Dogs\\;&\\;Urma \\\\\n",
    "1\\;Dog\\;&\\;Tina,\\;Sally\\\\\n",
    "\\end{vmatrix}\n",
    "$</br></br>\n",
    "If Urma = K,M, then Sally = L</br>\n",
    "If Urma = K,L, then Sally = M</br>\n",
    "If Urma = L,M, then Sally = K</br>"
   ]
  },
  {
   "cell_type": "markdown",
   "id": "660a30c6-bfc9-498c-83a4-bc3f5df93e1d",
   "metadata": {},
   "source": [
    "__1. Which one of the following must be true?__</br>\n",
    "__(A) Urma and Vivian have two dog breeds in common.__ </br> Vivian is the only child with all three dog breeds.  Urma must have two dogs because she has more than Tina, but less than Vivian.  Thus, the two breeds Urma has, Vivian also has.  \n",
    "(B) Sally and Vivian have two dog breeds in common.</br>\n",
    "(C) Tina and Vivian have two dog breeds in common.</br>\n",
    "(D) Rocky and Urma have two dog breeds in common.</br>\n",
    "(E) Sally and Tina have one dog breed in common.</br>"
   ]
  },
  {
   "cell_type": "markdown",
   "id": "4413603e-618f-4ad6-ac7d-b869365b6505",
   "metadata": {},
   "source": [
    "__2. Which one of the following could be a complete and accurate list of children who own a King Charles Spaniel?__</br>\n",
    "(A) Urma - Rule 4 </br>\n",
    "(B) Vivian, Urma, Sally -- Rule 2 </br>\n",
    "__(C) Vivian, Urma, Rocky__  </br> \n",
    "(D) Vivian, Tina, Rocky -- Rule 3</br> \n",
    "(E) Vivian, Rocky </br> "
   ]
  },
  {
   "cell_type": "markdown",
   "id": "2baff75d-e35f-4ed8-a1fa-bbad06f489cd",
   "metadata": {},
   "source": [
    "__3. If Sally and Tina do not own any of the same breed of dog, which one of the following must be true?__</br>\n",
    "(A) No two children own the same number and breed of dogs.</br>\n",
    "(B) At least three children own a King Charles Spaniel. </br>\n",
    "(C) Either Rocky or Tina must own a Maltese. </br>\n",
    "(D) At least three children own a Labrador. </br>\n",
    "__(E) Tina and Urma have exactly one dog breed in common.__ Under these rules, Tina will always have one of the breeds that Urma has.</br>\n",
    "</br>\n",
    "If Urma = K,M, then Sally = L, Tina = K or M (not L), Rocky = ?</br>\n",
    "If Urma = K,L, then Sally = M, Tina = K or L (not M), Rocky = ?</br>\n",
    "If Urma = L,M, then Sally = K, Tina = L or M (not K), Rocky = ?</br>"
   ]
  },
  {
   "cell_type": "markdown",
   "id": "31b8d47b-eca0-4667-aa39-6e60d5f4ea3f",
   "metadata": {},
   "source": [
    "__4. If only two of the children own Labradors, which one of the following could be true?__</br>\n",
    "(A) Rocky own a Labrador -- If Urma = KM, Rocky does not have a Labrador, if Urma = LM, Rocky does not have a Labrador </br>\n",
    "__(B) Sally own a Labrador__ </br> \n",
    "(C) Vivian does not own a Labrador -- Rule 4 </br>\n",
    "(D) Neither Sally nor Urma own Labrador -- Rule 2 </br>\n",
    "(E) Tina owns a Labrador -- \n",
    "</br></br>\n",
    "If only two children own Labradors, either Vivian & Urma or Vivian and Sally.</br>"
   ]
  },
  {
   "cell_type": "markdown",
   "id": "f22d9bde-1205-4cc7-ba9c-d0955a1a14b2",
   "metadata": {
    "execution": {
     "iopub.execute_input": "2023-12-11T23:08:22.447022Z",
     "iopub.status.busy": "2023-12-11T23:08:22.446589Z",
     "iopub.status.idle": "2023-12-11T23:08:22.456281Z",
     "shell.execute_reply": "2023-12-11T23:08:22.455205Z",
     "shell.execute_reply.started": "2023-12-11T23:08:22.446995Z"
    },
    "tags": []
   },
   "source": [
    "$ \\underline{The\\;Accountant} $</br>\n",
    "Each group of questions in this section is based on a set of conditions.  In answering some of the questions, it may be useful to draw a rough diagram.  Choose the response that most accurately and completely answers each question and blacken the corresponding space on your answer sheet."
   ]
  },
  {
   "cell_type": "markdown",
   "id": "c7f72e6a-5b38-40f2-8e17-2e119db5fe84",
   "metadata": {},
   "source": [
    "_Questions 1-5__</br>\n",
    "An accountant assigns double-digit codes to four different clients -- Frank, Gardner, Hunt and Jordan.  The codes are made using the digits 1 through 8, and the accountant uses each digit only once.  The following conditions must apply:</br>\n",
    "1) The code with a six in the tens place has a three in the units place.</br>\n",
    "2) Hunt's code has a higher numeric value than Jordan's code does.</br>\n",
    "3) Frank's code has the highest numeric value.</br>\n",
    "4) Jordan's code ends with a two.</br>\n",
    "5) Three of the four codes are even.</br>"
   ]
  },
  {
   "cell_type": "markdown",
   "id": "d076255a-e846-48fc-b578-3daa6315f472",
   "metadata": {},
   "source": [
    "__1. Which one of the following codes could be an accurate account of the codes assigned to the four clients?__</br>\n",
    "(A) Frank: 74; Gardner: 52; Hunt: 63; Jordan: 18 -- breaks Rule 4</br>\n",
    "(B) Frank: 74; Gardner: 53; Hunt: 68; Jordan: 12 -- breaks Rule 1</br>\n",
    "(C) Frank: 74; Gardner: 12; Hunt: 58; Jordan: 63 -- breaks Rule 4, 2</br>\n",
    "__(D) Frank: 74; Gardner: 58; Hunt: 63; Jordan: 12__ </br>\n",
    "(E) Frank: 85; Gardner: 74; Hunt: 63; Jordan: 12 -- breaks Rule 5</br> "
   ]
  },
  {
   "cell_type": "markdown",
   "id": "ebb33ab9-1031-4d01-9e7b-5329fdca2eb7",
   "metadata": {},
   "source": [
    "__2. Which one of the following could be true?__</br>\n",
    "(A) Gardner's code begins with a 4. -- even numbers (2, 4, & 8) need to be in the digits place to satisfy Rule 5 </br>\n",
    "(B) Hunt's code begins with an 8.-- even numbers (2, 4, & 8) need to be in the digits place to satisfy Rule 5  </br>\n",
    "(C) Hunt's code begins with an 1. -- breaks Rule 2 </br>\n",
    "(D) Gardner's code ends with a 1.-- breaks Rule 5</br> \n",
    "__(E) Gardner's code ends with an 4.__</br>"
   ]
  },
  {
   "cell_type": "markdown",
   "id": "6d8f8ca9-230d-4826-98ad-a185c203982b",
   "metadata": {},
   "source": [
    "__3. If Gardner's code has a lower numeric value than Jordan's code, which one of the following must be false?__</br>\n",
    "(A) Gardner's code ends with a 4.</br>\n",
    "__(B) Gardner's code ends with a 3.__ -- Breaks Rule 5</br> \n",
    "(C) Gardner's code ends with an 8.</br>\n",
    "(D) Gardner's code ends with a 4.</br>\n",
    "(E) Frank's code ends with an 8.</br>"
   ]
  },
  {
   "cell_type": "markdown",
   "id": "b07e164f-ba96-45d6-ac93-b39d5a8992b7",
   "metadata": {
    "execution": {
     "iopub.execute_input": "2023-12-12T00:02:00.076238Z",
     "iopub.status.busy": "2023-12-12T00:02:00.075792Z",
     "iopub.status.idle": "2023-12-12T00:02:00.084875Z",
     "shell.execute_reply": "2023-12-12T00:02:00.083685Z",
     "shell.execute_reply.started": "2023-12-12T00:02:00.076199Z"
    }
   },
   "source": [
    "Used in the digits place: 2, 3, 4, 8</br>\n",
    "Used in the tens place: 1, 5, 6, 7</br>\n",
    "\n",
    "$\n",
    "\\begin{vmatrix}\n",
    "Highest\\;Value & Frank & 7\\underline{ } \\\\\n",
    "2nd\\;Highest & Hunt & 63 \\\\\n",
    "3rd\\;Highest & Jordan &  52  \\\\\n",
    "Lowest\\;Value & Gardner & 1\\underline{ }  \\\\\n",
    "\\end{vmatrix}\n",
    "$</br></br>"
   ]
  },
  {
   "cell_type": "markdown",
   "id": "3f573847-a31b-48d8-b14f-25b1858843ee",
   "metadata": {},
   "source": [
    "__4. If Gardner's code has a higher numeric value than Jordan's code, and if Gardner's code is even, each of the following must be true EXCEPT:__</br>\n",
    "(A) Hunt's code has a higher numeric value than Gardner's code.</br>\n",
    "(B) Jordan's code is comprised of the two lowest valued digits.</br>\n",
    "(C) Frank's code has a higher numeric value than Gardner's code. -- Rule 3</br>\n",
    "(D) The units digit for Frank's code is higher than the units didit for Hunt's code.</br>\n",
    "__(E) The units digit for Frank's code is higher than the untis digit for Gardner's code.__</br>"
   ]
  },
  {
   "cell_type": "markdown",
   "id": "88d0843b-4685-42a8-9cd1-ab4b7aaefeef",
   "metadata": {
    "execution": {
     "iopub.execute_input": "2023-12-11T23:48:35.560588Z",
     "iopub.status.busy": "2023-12-11T23:48:35.560220Z",
     "iopub.status.idle": "2023-12-11T23:48:35.567130Z",
     "shell.execute_reply": "2023-12-11T23:48:35.565723Z",
     "shell.execute_reply.started": "2023-12-11T23:48:35.560560Z"
    }
   },
   "source": [
    "Used in the digits place: 2, 3, 4, 8</br>\n",
    "Used in the tens place: 1, 5, 6, 7</br>\n",
    "\n",
    "$\n",
    "\\begin{vmatrix}\n",
    "Highest\\;Value & Frank & 7\\underline{ } \\\\\n",
    "2nd\\;Highest & Hunt & 63 \\\\\n",
    "3rd\\;Highest & Gardner &  5\\underline{ }  \\\\\n",
    "Lowest\\;Value & Jordan & 12  \\\\\n",
    "\\end{vmatrix}\n",
    "$</br></br>"
   ]
  },
  {
   "cell_type": "markdown",
   "id": "39ff80ba-2baf-4c38-9bc4-3b40a4123892",
   "metadata": {},
   "source": [
    "__5. If the accountant assigns the Hunt account the code 54, which one of the following represents a complete and accurate list of other account codes than can be determined?__</br>\n",
    "(A) Frank </br>\n",
    "(B) Gardner </br>\n",
    "(C) Jordan </br>\n",
    "(D) Frank, Jordan </br>\n",
    "__(E) Frank, Gardner, Jordan__ </br>"
   ]
  },
  {
   "cell_type": "markdown",
   "id": "02b4fa65-3ff6-4eaa-b0e3-0db1860db2a1",
   "metadata": {
    "execution": {
     "iopub.execute_input": "2023-12-11T23:58:27.284886Z",
     "iopub.status.busy": "2023-12-11T23:58:27.284523Z",
     "iopub.status.idle": "2023-12-11T23:58:27.290550Z",
     "shell.execute_reply": "2023-12-11T23:58:27.289382Z",
     "shell.execute_reply.started": "2023-12-11T23:58:27.284861Z"
    },
    "tags": []
   },
   "source": [
    "$\n",
    "\\begin{vmatrix}\n",
    "Highest\\;Value & Frank & 78 \\\\\n",
    "2nd\\;Highest & Gardner & 63 \\\\\n",
    "3rd\\;Highest & Hunt &  54  \\\\\n",
    "Lowest\\;Value & Jordan & 12  \\\\\n",
    "\\end{vmatrix}\n",
    "$</br></br>"
   ]
  },
  {
   "cell_type": "markdown",
   "id": "01ad1678-0d5e-41b3-8e62-0e763b7d25c3",
   "metadata": {},
   "source": [
    "$ \\underline{The\\;Test\\;Prep\\;Game} $</br>\n",
    "Each group of questions in this section is based on a set of conditions.  In answering some of the questions, it may be useful to draw a rough diagram.  Choose the response that most accurately and completely answers each question and blacken the corresponding space on your answer sheet."
   ]
  },
  {
   "cell_type": "markdown",
   "id": "29a12fb8-7996-4c95-ad2b-3eeeb4083c8b",
   "metadata": {},
   "source": [
    "__Questions 1-5__</br>\n",
    "Ned is going to utilize 6 different LSAT learning products over the course of 4 weeks.  Three of them -- Blueprint, Kaplan, and 7Sage -- are recorded courses, and three of them -- Manhattan, Powerscore, and the Trainer -- are study guides.  At the beginning of each week, he will choose a course or study guide and he will use each product for exactly one of the four weeks.  He will utilize the learning tools in accordance with the following conditions:</br>\n",
    "Rule 1) He uses only one learning product during the first week.</br>\n",
    "Rule 2) He uses Powerscore in an earlier week than either Manhattan or Kaplan, but not both</br>\n",
    "Rule 3) He does not use Blueprint in Week Two</br>\n",
    "Rule 4) He does not use a course during the third week</br>\n",
    "Rule 5) He does not use more than one study guide in any one week, and does not use more than one course in any one week.</br>"
   ]
  },
  {
   "cell_type": "markdown",
   "id": "69a95ed8-c0d4-41dc-bdbb-bfd698105300",
   "metadata": {
    "execution": {
     "iopub.execute_input": "2023-12-12T00:13:53.625916Z",
     "iopub.status.busy": "2023-12-12T00:13:53.625535Z",
     "iopub.status.idle": "2023-12-12T00:13:53.631293Z",
     "shell.execute_reply": "2023-12-12T00:13:53.630253Z",
     "shell.execute_reply.started": "2023-12-12T00:13:53.625889Z"
    }
   },
   "source": [
    "$\n",
    "\\begin{vmatrix}\n",
    " & Course & Guide \\\\\n",
    "Week\\;1 & \\underline{    } & X \\\\\n",
    "Week\\;2 & K\\;or\\;7 &  \\underline{    } \\\\\n",
    "Week\\;3 & X & \\underline{    } \\\\\n",
    "Week\\;4 & \\underline{    } & M\\;or\\;T  \\\\\n",
    "\\end{vmatrix}\n",
    "$</br></br>"
   ]
  },
  {
   "cell_type": "markdown",
   "id": "3aa2322e-4a1e-41d5-a4ee-89e9ed51285b",
   "metadata": {},
   "source": [
    "__1. Which of the following could represent the schedule for when he utilizes the learning products?__</br>\n",
    "(A) Week one: Kaplan; Week two: Blueprint and the Trainer; Week three: Powerscore; Week 4: 7Sage and Manhattan -- breaks rule 3 </br>\n",
    "(B) Week one: Blueprint; Week two: Kaplan and the Trainer; Week three: 7Sage and Powerscore; Week four: Manhattan -- breaks Rule 4 </br>\n",
    "(C) Week one: Blueprint and the Trainer; Week Two: Kaplan; Week three: Powerscore; Week four: Blueprint and Manhattan -- breaks rule 1</br> \n",
    "__(D) Week one: 7Sage; Week two: Kaplan and the Trainer; Week three: Powerscore; Week four: Blueprint and Manhattan__ </br>\n",
    "(E) Week one: Blueprint; Week two: 7Sage and Powerscore; Week three the Trainer; Week four: Kaplan and Manhattan. -- breaks rule 2 </br>"
   ]
  },
  {
   "cell_type": "markdown",
   "id": "f0a71f3b-5f9d-4e23-ac2d-3641e470e120",
   "metadata": {},
   "source": [
    "__2. Each of the following could be true EXCEPT:__</br>\n",
    "__(A) He uses Blueprint and Powerscore in the same week.__ - If Blueprint is used in week 1, no guide is used that week so false.  Blueprint is not used in week 2 per Rule 3. No course is used in week 3. If Blueprint is used in week 4, Powerscore cannot be used in the last week, also false.</br>\n",
    "(B) He uses 7Sage and Manhattan in the same week. </br>\n",
    "(C) He uses Kaplan and Powerscore in the same week.</br>\n",
    "(D) He uses Kaplan and Powerscore in the same week.</br>\n",
    "(E) He uses Kaplan and the Trainer in the same week.</br>"
   ]
  },
  {
   "cell_type": "markdown",
   "id": "2c9f6d92-d095-42c8-9bc2-023b12b6e7b4",
   "metadata": {},
   "source": [
    "__3. Which of the following, if true, determines which week he will use Kaplan?__</br>\n",
    "(A) He uses Powerscore in Week two.</br>\n",
    "(B) He uses Powerscore in Week three.</br>\n",
    "__(C) He uses Manhattan in Week two.__</br>\n",
    "(D) He uses Manhattan in Week three.</br>\n",
    "(E) He uses Manhattan in Week four.</br>"
   ]
  },
  {
   "cell_type": "markdown",
   "id": "ca314efc-ce13-4fa7-ab15-3dc87df6f422",
   "metadata": {},
   "source": [
    "(A)</br>\n",
    "$\n",
    "\\begin{vmatrix}\n",
    " & Course & Guide \\\\\n",
    "Week\\;1 & \\underline{    } & X \\\\\n",
    "Week\\;2 & K\\;or\\;7 &  P \\\\\n",
    "Week\\;3 & X & \\underline{    } \\\\\n",
    "Week\\;4 & \\underline{    } & M\\;or\\;T  \\\\\n",
    "\\end{vmatrix}\n",
    "$</br></br>\n",
    "(B)</br>\n",
    "$\n",
    "\\begin{vmatrix}\n",
    " & Course & Guide \\\\\n",
    "Week\\;1 & \\underline{    } & X \\\\\n",
    "Week\\;2 & K\\;or\\;7 &  \\underline{    } \\\\\n",
    "Week\\;3 & X & P \\\\\n",
    "Week\\;4 & \\underline{    } & M\\;or\\;T  \\\\\n",
    "\\end{vmatrix}\n",
    "$</br></br>\n",
    "(C)</br>\n",
    "$\n",
    "\\begin{vmatrix}\n",
    " & Course & Guide \\\\\n",
    "Week\\;1 & \\underline{    } & X \\\\\n",
    "Week\\;2 & 7 &  M \\\\\n",
    "Week\\;3 & X & P \\\\\n",
    "Week\\;4 & K & T  \\\\\n",
    "\\end{vmatrix}\n",
    "$</br></br>\n",
    "(D)</br>\n",
    "$\n",
    "\\begin{vmatrix}\n",
    " & Course & Guide \\\\\n",
    "Week\\;1 & \\underline{    } & X \\\\\n",
    "Week\\;2 & K\\;or\\;7 &  P \\\\\n",
    "Week\\;3 & X & M \\\\\n",
    "Week\\;4 & 7\\;or\\;B & T  \\\\\n",
    "\\end{vmatrix}\n",
    "$</br></br>\n",
    "(E)</br>\n",
    "$\n",
    "\\begin{vmatrix}\n",
    " & Course & Guide \\\\\n",
    "Week\\;1 & \\underline{    } & X \\\\\n",
    "Week\\;2 & K\\;or\\;7 &  \\underline{    } \\\\\n",
    "Week\\;3 & X & \\underline{    } \\\\\n",
    "Week\\;4 & \\underline{    } & M  \\\\\n",
    "\\end{vmatrix}\n",
    "$</br></br>"
   ]
  },
  {
   "cell_type": "markdown",
   "id": "212cb6ad-ee79-4110-b3a3-d140c2437b41",
   "metadata": {},
   "source": [
    "__4. If he uses 7Sage in Week one, it must be true that__</br>\n",
    "(A) He uses Powerscore in a week before the week he uses the Trainer</br>\n",
    "(B) He uses Kaplan in a week before the week he uses the Trainer</br>\n",
    "(C) He uses Kaplan in a week before the week he uses Powerscore</br>\n",
    "(D) He uses Manhattan in a week before the week he uses Blueprint</br>\n",
    "__(E) He uses Powerscore in the week before he uses Blueprint__</br>"
   ]
  },
  {
   "cell_type": "markdown",
   "id": "ea408b0c-383c-47c0-9bb7-54e7c7e70fd0",
   "metadata": {
    "execution": {
     "iopub.execute_input": "2023-12-12T00:45:09.241128Z",
     "iopub.status.busy": "2023-12-12T00:45:09.240753Z",
     "iopub.status.idle": "2023-12-12T00:45:09.247574Z",
     "shell.execute_reply": "2023-12-12T00:45:09.246324Z",
     "shell.execute_reply.started": "2023-12-12T00:45:09.241102Z"
    },
    "tags": []
   },
   "source": [
    "$\n",
    "\\begin{vmatrix}\n",
    " & Course & Guide \\\\\n",
    "Week\\;1 & 7 & X \\\\\n",
    "Week\\;2 & K &  \\underline{    } \\\\\n",
    "Week\\;3 & X & \\underline{    } \\\\\n",
    "Week\\;4 & B & M or T  \\\\\n",
    "\\end{vmatrix}\n",
    "$</br></br>"
   ]
  },
  {
   "cell_type": "markdown",
   "id": "cd2185cb-8fe0-4378-915d-edb5d164cb68",
   "metadata": {},
   "source": [
    "__5. Which of the following, if true, determines when he will use each of the products?__</br>\n",
    "(A) He uses Kaplan in the second week.</br>\n",
    "__(B) He uses Kaplan in the fourth week.__ </br>\n",
    "(C) He uses 7Sage in the second week. </br>\n",
    "(D) He uses 7Sage in the fourth week. </br>\n",
    "(E) He uses Powerscore in the third week. </br>"
   ]
  },
  {
   "cell_type": "markdown",
   "id": "ee5b78da-5a87-4989-abc1-b8ce39d2730c",
   "metadata": {
    "execution": {
     "iopub.execute_input": "2023-12-12T00:50:52.093256Z",
     "iopub.status.busy": "2023-12-12T00:50:52.092891Z",
     "iopub.status.idle": "2023-12-12T00:50:52.102252Z",
     "shell.execute_reply": "2023-12-12T00:50:52.101253Z",
     "shell.execute_reply.started": "2023-12-12T00:50:52.093230Z"
    }
   },
   "source": [
    "(A)</br>\n",
    "$\n",
    "\\begin{vmatrix}\n",
    " & Course & Guide \\\\\n",
    "Week\\;1 & B\\;or\\;7 & X \\\\\n",
    "Week\\;2 & K & \\underline{    } \\\\\n",
    "Week\\;3 & X & \\underline{    } \\\\\n",
    "Week\\;4 & B\\;or\\;7 & M\\;or\\;T  \\\\\n",
    "\\end{vmatrix}\n",
    "$</br></br>\n",
    "(B)</br>\n",
    "$\n",
    "\\begin{vmatrix}\n",
    " & Course & Guide \\\\\n",
    "Week\\;1 & B & X \\\\\n",
    "Week\\;2 &7 &  M \\\\\n",
    "Week\\;3 & X & P \\\\\n",
    "Week\\;4 & K & T  \\\\\n",
    "\\end{vmatrix}\n",
    "$</br></br>\n",
    "(C)</br>\n",
    "$\n",
    "\\begin{vmatrix}\n",
    " & Course & Guide \\\\\n",
    "Week\\;1 & K\\;or\\;B & X \\\\\n",
    "Week\\;2 & 7 & \\underline{    } \\\\\n",
    "Week\\;3 & X & \\underline{    } \\\\\n",
    "Week\\;4 & K\\;or\\;B & M\\;or\\;T  \\\\\n",
    "\\end{vmatrix}\n",
    "$</br></br>\n",
    "(D)</br>\n",
    "$\n",
    "\\begin{vmatrix}\n",
    " & Course & Guide \\\\\n",
    "Week\\;1 & B & X \\\\\n",
    "Week\\;2 & K & \\underline{    }  \\\\\n",
    "Week\\;3 & X & \\underline{    } \\\\\n",
    "Week\\;4 & 7 & M\\;or\\;T  \\\\\n",
    "\\end{vmatrix}\n",
    "$</br></br>\n",
    "(E)</br>\n",
    "$\n",
    "\\begin{vmatrix}\n",
    " & Course & Guide \\\\\n",
    "Week\\;1 & \\underline{    } & X \\\\\n",
    "Week\\;2 & K\\;or\\;7 &  M\\;or\\;T \\\\\n",
    "Week\\;3 & X & P \\\\\n",
    "Week\\;4 & \\underline{    } & M\\;or\\;T \\\\\n",
    "\\end{vmatrix}\n",
    "$</br></br>"
   ]
  },
  {
   "cell_type": "code",
   "execution_count": null,
   "id": "3960e159-5ebd-497f-8ae3-be00b955f070",
   "metadata": {},
   "outputs": [],
   "source": []
  },
  {
   "cell_type": "code",
   "execution_count": null,
   "id": "98f67c33-3f0d-4734-99d9-43f25109bfc2",
   "metadata": {},
   "outputs": [],
   "source": []
  },
  {
   "cell_type": "code",
   "execution_count": null,
   "id": "f7f06917-28c3-4355-8772-91aae24419a1",
   "metadata": {},
   "outputs": [],
   "source": []
  },
  {
   "cell_type": "code",
   "execution_count": null,
   "id": "4b4f6acb-a670-4453-9cd2-48753c7d46ef",
   "metadata": {},
   "outputs": [],
   "source": []
  },
  {
   "cell_type": "code",
   "execution_count": null,
   "id": "e483dd23-d016-49ed-9823-dfa406abffa7",
   "metadata": {},
   "outputs": [],
   "source": []
  },
  {
   "cell_type": "code",
   "execution_count": null,
   "id": "b2fe3d88-80c7-46e1-8b46-771ed198e5ff",
   "metadata": {},
   "outputs": [],
   "source": []
  },
  {
   "cell_type": "code",
   "execution_count": null,
   "id": "1bc022a8-5019-4b3d-842d-2bfc0073e911",
   "metadata": {},
   "outputs": [],
   "source": []
  },
  {
   "cell_type": "code",
   "execution_count": null,
   "id": "8b49cb8c-1a70-4fe4-814a-641aebb5a872",
   "metadata": {},
   "outputs": [],
   "source": []
  },
  {
   "cell_type": "code",
   "execution_count": null,
   "id": "62ba17be-4707-450a-bafd-f168341e52d8",
   "metadata": {},
   "outputs": [],
   "source": []
  },
  {
   "cell_type": "code",
   "execution_count": null,
   "id": "094cd30d-3877-4754-9fdc-b3343fd72003",
   "metadata": {},
   "outputs": [],
   "source": []
  }
 ],
 "metadata": {
  "kernelspec": {
   "display_name": "saturn (Python 3)",
   "language": "python",
   "name": "python3"
  },
  "language_info": {
   "codemirror_mode": {
    "name": "ipython",
    "version": 3
   },
   "file_extension": ".py",
   "mimetype": "text/x-python",
   "name": "python",
   "nbconvert_exporter": "python",
   "pygments_lexer": "ipython3",
   "version": "3.9.15"
  }
 },
 "nbformat": 4,
 "nbformat_minor": 5
}
