{
 "cells": [
  {
   "cell_type": "markdown",
   "id": "a54fbf75-d700-41f6-94ff-9ee82f2a749e",
   "metadata": {},
   "source": [
    "__Multivariable Calculus, Fourth Edition__ </br>\n",
    "by James Stewart </br>\n",
    "__Chapter 18, Second-Order Differential Equations__"
   ]
  },
  {
   "cell_type": "markdown",
   "id": "074af6b1-0a59-469d-b5ca-00b68bcb9a40",
   "metadata": {},
   "source": [
    "__Section 18.1__</br>\n",
    "Second-Order Linear Equations"
   ]
  },
  {
   "cell_type": "markdown",
   "id": "f6e479f5-789e-49b9-bba3-53ccba17afa6",
   "metadata": {},
   "source": [
    "__Exercise 1__</br>\n",
    "$y''-6y'+8y=0$"
   ]
  },
  {
   "cell_type": "markdown",
   "id": "ce7aca97-752f-474d-96ec-f8381db643a8",
   "metadata": {},
   "source": [
    "__Exercise 2__</br>\n",
    "$y''-4y'+8y=0$</br>\n",
    "$r^2-4r+8=0$</br>\n",
    "Using quadratic equation, $ar^2+br+c=0$</br>\n",
    "$r_1=\\frac{-b+\\sqrt{b^2-4ac}}{2a}$\n",
    "</br>\n",
    "$r_1=\\frac{-(-4)+\\sqrt{(-4)^2-4(1)(8)}}{2(1)}=\\frac{4+\\sqrt{-16}}{2}=2+2i$\n",
    "$r_2=\\frac{-b-\\sqrt{b^2-4ac}}{2a} = \\frac{-(-4)-\\sqrt{(-4)^2-4(1)(8)}}{2(1)}= 2-2i$\n",
    "</br>\n",
    "Using Euler's equation</br>\n",
    "$r_1= \\alpha + i\\beta$</br>\n",
    "$r_2= \\alpha - i\\beta$</br>\n",
    "$e^{i\\theta} = cos \\theta + i sin \\theta$\n",
    "</br>\n",
    "See page 1162</br>\n",
    "$y=e^{2x}(c_1cos\\theta + c_2 cos \\theta)$</br>\n",
    "Therefore\n",
    "$y=e^{2x}(c_1cos2x+c_2sin2x)$\n",
    "\n"
   ]
  },
  {
   "cell_type": "markdown",
   "id": "9b3244bb-f47a-435f-82b3-aa6084263fcd",
   "metadata": {},
   "source": [
    "__Exercise 3__</br>\n",
    "$y''+8y'+41y=0$</br>\n",
    "$r^2+8r+41=0$</br>\n",
    "\n",
    "Using same method as Exercise 2\n",
    "\n",
    "$r_1=\\frac{-b+\\sqrt{b^2-4ac}}{2a} = \\frac{-8+\\sqrt{8^2-4(1)(41)}}{2}=\\frac{-8+\\sqrt{-100}}{2}=-4+\\frac{10}{2}i$\n",
    "</br>\n",
    "$y=e^{-4x}(c_1cos5x+c_2sin5x)$\n",
    "\n"
   ]
  },
  {
   "cell_type": "markdown",
   "id": "5ec13be2-8e68-4ee0-884b-ed28a504fabe",
   "metadata": {},
   "source": [
    "__Exercise 5__</br>\n",
    "$y''-y'-y=0$\n",
    "$r^2-2r+1=0$$\\rightarrow (r-1)^2=0$</br>\n",
    "The only root is r=1, using method for general solution from example 7 on page 1164\n",
    "</br>\n",
    "$y=c_1e^x+c_2xe^x$"
   ]
  },
  {
   "cell_type": "markdown",
   "id": "c6ec9f13-e56f-4fe7-80be-11eb3afd53c9",
   "metadata": {},
   "source": [
    "__Exercise 6__</br>\n",
    "$3y''-5y'=0$</br>\n",
    "$3r^2-5r=0$</br>\n",
    "$r(3r-5)=0$</br>\n",
    "roots $r=0,\\frac{5}{3}$</br>\n",
    "The general solution is\n",
    "$y=c_1e^{0}+c_2e^{\\frac{5}{3}x}= c_1+c_2e^{\\frac{5}{3}x}$\n",
    "\n"
   ]
  },
  {
   "cell_type": "markdown",
   "id": "d8ce3114-4e91-4c57-ac84-d101808f3da6",
   "metadata": {},
   "source": [
    "__18.1 Exercises__</br>p.1165\n",
    "1-13, Solve the differential equations "
   ]
  },
  {
   "cell_type": "markdown",
   "id": "5c4673ee-a158-45b9-b285-221123caf7ce",
   "metadata": {},
   "source": [
    "__Exercise 1__</br>\n",
    "$y''-6y'+8y=0$</br>\n",
    "The auxiliary equation is:</br>\n",
    "$r^2-6r+8=(r-2)(r-4)=0$</br>\n",
    "The roots are 2 and 4. Thus the general solution of the differential equation is:</br>\n",
    "$y=C_1e^{2x}+C_2e^{4x}$"
   ]
  },
  {
   "cell_type": "markdown",
   "id": "4c2c94fb-fdb5-40c4-a657-3c43a718baea",
   "metadata": {},
   "source": [
    "__Exercise 2__</br>\n",
    "$y''+8y'+41y=0$</br>\n",
    "The auxiliary equation is:</br>\n",
    "$r^2+8r+41=0$</br>\n",
    "Using the quadratic equation:</br>\n",
    "$r_1 = \\frac{-b+\\sqrt{b^2-4ac}}{2a}$</br>\n",
    "$r_1= \\frac{8+\\sqrt{64-(4)(41))}}{2} = \\frac{8+\\sqrt{-100}}{2}= 4+5i$</br>\n",
    "$r_2 = \\frac{-b-\\sqrt{b^2-4ac}}{2a}$</br>\n",
    "$r_2 = \\frac{8-\\sqrt{64-(4)(41))}}{2} = \\frac{8-\\sqrt{-100}}{2}= 4-5i$</br>\n",
    "Since $b^2-4ac<0$, the roots are complex numbers:</br>\n",
    "$r_1=\\alpha+i\\beta$</br>\n",
    "$r_2=\\alpha-i\\beta$</br>\n",
    "Thus the general solution is:</br>\n",
    "$y=e^{\\alpha x}(c_1 cos(\\beta x) + c_2 sin (\\beta x)$</br>\n",
    "$y=e^{4x}(c_1 cos(5x) + c_2 sin (5x)$</br>"
   ]
  },
  {
   "cell_type": "markdown",
   "id": "41c0e3f5-d6f2-49dd-967e-c543ccf726c5",
   "metadata": {},
   "source": [
    "__Exercise 14-16__ p.1165</br>\n",
    "Graph the two basic solutions of the differential equation and several other solutions.\n",
    "\n",
    "No... I am a participant that someone should fund.  My phone is now off and I have no benefits, not even any more snacks.  Thank you frosties and company for sharing some snacks!"
   ]
  },
  {
   "cell_type": "markdown",
   "id": "ffcfab9a-6575-482f-9c6d-3a1060ce0d1a",
   "metadata": {},
   "source": [
    "__Exercise 17__ p.1165</br>\n",
    "Solve the initial-value problem\n",
    "$2y''+5y'+3y=0$</br>\n",
    "$y(0)=3$ , $y'(0)=-4$\n",
    "</br>\n",
    "Initial Value Problems\n",
    "</br>\n",
    "$y(x_0)=y_0$ , $y'(x_0)=y_1$\n",
    "</br>\n",
    "Find auxiliary equation\n",
    "</br>\n",
    "$2r^2+5r+3r=0$</br>\n",
    "Use quadratic equation\n",
    "$r_1= \\frac{-5+\\sqrt{25-4(2)(3)}}{2(2)}=\\frac{-5+\\sqrt{1}}{4}=\\frac{-4}{4}=-1$\n",
    "</br>\n",
    "$r_2=\\frac{-5-\\sqrt{25-\\sqrt{25-4(2)(3)}}}{2(2)}=\\frac{-6}{4}=\\frac{-3}{2}=-1.5$\n",
    "</br>\n",
    "general solution = </br>\n",
    "$y(x)=c_1e^{-x}+c_2e^{\\frac{-3}{2}x}$\n",
    "$y'(x)=-c_1e^{-x}+\\frac{-3}{2}c_2e^{\\frac{-3}{2}x}$\n",
    "</br>\n",
    "to satisfy </br>\n",
    "$y(0)=c_1+c_2$</br>\n",
    "$y'(0)=-c_1+\\frac{-3}{2}c_2=-4$</br>\n",
    "thus</br>\n",
    "$c_1=3-c_2$</br>\n",
    "Substituting</br>\n",
    "$-(3-c_2)-\\frac{3}{2}c_2=-4$</br>\n",
    "$-3+c_2-\\frac{3}{2}c_2=-4$</br>\n",
    "$\\frac{-1}{2}c_2=-1$</br>\n",
    "thus</br>\n",
    "$c_2=2$ , \n",
    "$c_1=1$</br>\n",
    "$y(x)=e^{-x}+2e^{\\frac{-3}{2}x}$\n"
   ]
  },
  {
   "cell_type": "markdown",
   "id": "1ca7ff13-002d-4f5e-8172-b40fc134a5db",
   "metadata": {},
   "source": [
    "__Chapter Review__</br>\n",
    "Exercise 1-10, Solve the differential equation"
   ]
  },
  {
   "cell_type": "markdown",
   "id": "41140adc-f21c-42d5-846d-fb45c9319ef8",
   "metadata": {},
   "source": [
    "__Exercise 1__</br>\n",
    "$y''-2y'-15y=0$</br>\n",
    "Using auxiliary equation</br>\n",
    "$r^2-2r-15=0$ $\\rightarrow $$(r+3)(-5)=0$</br>\n",
    "Roots are -3, 5</br>\n",
    "General Solution is...\n",
    "$y=c_1e^{5x}+c_2e^{-3x}$\n"
   ]
  },
  {
   "cell_type": "markdown",
   "id": "7f898524-0ec3-447e-98bf-e5cd1308ef25",
   "metadata": {},
   "source": [
    "__Exercise 2__\n"
   ]
  }
 ],
 "metadata": {
  "kernelspec": {
   "display_name": "saturn (Python 3)",
   "language": "python",
   "name": "python3"
  },
  "language_info": {
   "codemirror_mode": {
    "name": "ipython",
    "version": 3
   },
   "file_extension": ".py",
   "mimetype": "text/x-python",
   "name": "python",
   "nbconvert_exporter": "python",
   "pygments_lexer": "ipython3",
   "version": "3.9.15"
  }
 },
 "nbformat": 4,
 "nbformat_minor": 5
}
