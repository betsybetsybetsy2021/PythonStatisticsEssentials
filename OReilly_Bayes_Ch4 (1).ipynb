{
 "cells": [
  {
   "cell_type": "code",
   "execution_count": 1,
   "id": "156ac773-c8ca-4cd2-bb5a-5c77206c4184",
   "metadata": {
    "execution": {
     "iopub.execute_input": "2023-08-15T00:37:39.273671Z",
     "iopub.status.busy": "2023-08-15T00:37:39.273367Z",
     "iopub.status.idle": "2023-08-15T00:37:39.278873Z",
     "shell.execute_reply": "2023-08-15T00:37:39.277862Z",
     "shell.execute_reply.started": "2023-08-15T00:37:39.273635Z"
    }
   },
   "outputs": [],
   "source": [
    "# O'Reilly Bayes \n",
    "# Chapter 4 - Estimating Proportions\n",
    "\n",
    "# Remember I graduated college in 2004, which means the last time I did stats was 2000 maybe.\n",
    "# My old employer wouldn't pay for tech refresh, but did pay for languages."
   ]
  },
  {
   "cell_type": "code",
   "execution_count": 2,
   "id": "22049f98-f20f-42a6-8ce4-732fd284cf19",
   "metadata": {
    "execution": {
     "iopub.execute_input": "2023-08-15T00:37:39.282145Z",
     "iopub.status.busy": "2023-08-15T00:37:39.281558Z",
     "iopub.status.idle": "2023-08-15T00:37:39.285904Z",
     "shell.execute_reply": "2023-08-15T00:37:39.284946Z",
     "shell.execute_reply.started": "2023-08-15T00:37:39.282113Z"
    }
   },
   "outputs": [],
   "source": [
    "# The Euro problem\n",
    "# When spun on edge 250 times, a Belgian one-Euro coin came up heads 140 times and tails 110.\n",
    "# \"It looks very suspicious to me,\" said Barry Blight, a statistics lecturer at the London \n",
    "# School of Economics.  \"If the coin were unbiased, the chance of getting a result as extreme\n",
    "# as that would be less than 7%.\"\n",
    "# Does the data give evidence that the coin is biased rather than fair?\n"
   ]
  },
  {
   "cell_type": "code",
   "execution_count": 3,
   "id": "8ca37ac3-5825-4677-9655-acae4647ce1d",
   "metadata": {
    "execution": {
     "iopub.execute_input": "2023-08-15T00:37:39.287958Z",
     "iopub.status.busy": "2023-08-15T00:37:39.287326Z",
     "iopub.status.idle": "2023-08-15T00:37:39.673468Z",
     "shell.execute_reply": "2023-08-15T00:37:39.671822Z",
     "shell.execute_reply.started": "2023-08-15T00:37:39.287928Z"
    }
   },
   "outputs": [
    {
     "data": {
      "text/plain": [
       "0.5000000000000002"
      ]
     },
     "execution_count": 3,
     "metadata": {},
     "output_type": "execute_result"
    }
   ],
   "source": [
    "# Binomial distribution. For any value of k from 0 to n, the term \"n choose k\" is the binomial\n",
    "# coefficient. We could evaluate this expression ourselves, but we can also use the SciPy function\n",
    "# binom.pmf.  For example,if we flip a coin n=2 times and the probability of heads is p =0.5, \n",
    "# here's the probability of getting k = 1 heads.\n",
    "\n",
    "from scipy.stats import binom\n",
    "\n",
    "n = 2\n",
    "p = 0.5\n",
    "k = 1\n",
    "\n",
    "binom.pmf(k,n,p)"
   ]
  },
  {
   "cell_type": "code",
   "execution_count": 4,
   "id": "8e294cc0-6a8b-4dd6-a6dc-6c3bea45b250",
   "metadata": {
    "execution": {
     "iopub.execute_input": "2023-08-15T00:37:39.675081Z",
     "iopub.status.busy": "2023-08-15T00:37:39.674681Z",
     "iopub.status.idle": "2023-08-15T00:37:39.681764Z",
     "shell.execute_reply": "2023-08-15T00:37:39.680849Z",
     "shell.execute_reply.started": "2023-08-15T00:37:39.675049Z"
    },
    "tags": []
   },
   "outputs": [
    {
     "name": "stdout",
     "output_type": "stream",
     "text": [
      "[0 1 2]\n",
      "[0.25 0.5  0.25]\n"
     ]
    }
   ],
   "source": [
    "import numpy as np\n",
    "ks = np.arange(n+1)\n",
    "\n",
    "ps = binom.pmf(ks, n, p)\n",
    "print(ks)\n",
    "print(ps)"
   ]
  },
  {
   "cell_type": "code",
   "execution_count": 5,
   "id": "b53b139a-0960-409e-b627-05a576481b6e",
   "metadata": {
    "execution": {
     "iopub.execute_input": "2023-08-15T00:37:39.683273Z",
     "iopub.status.busy": "2023-08-15T00:37:39.682972Z",
     "iopub.status.idle": "2023-08-15T00:37:41.265635Z",
     "shell.execute_reply": "2023-08-15T00:37:41.262190Z",
     "shell.execute_reply.started": "2023-08-15T00:37:39.683243Z"
    }
   },
   "outputs": [
    {
     "data": {
      "text/html": [
       "<div>\n",
       "<style scoped>\n",
       "    .dataframe tbody tr th:only-of-type {\n",
       "        vertical-align: middle;\n",
       "    }\n",
       "\n",
       "    .dataframe tbody tr th {\n",
       "        vertical-align: top;\n",
       "    }\n",
       "\n",
       "    .dataframe thead th {\n",
       "        text-align: right;\n",
       "    }\n",
       "</style>\n",
       "<table border=\"1\" class=\"dataframe\">\n",
       "  <thead>\n",
       "    <tr style=\"text-align: right;\">\n",
       "      <th></th>\n",
       "      <th>probs</th>\n",
       "    </tr>\n",
       "  </thead>\n",
       "  <tbody>\n",
       "    <tr>\n",
       "      <th>0</th>\n",
       "      <td>0.25</td>\n",
       "    </tr>\n",
       "    <tr>\n",
       "      <th>1</th>\n",
       "      <td>0.50</td>\n",
       "    </tr>\n",
       "    <tr>\n",
       "      <th>2</th>\n",
       "      <td>0.25</td>\n",
       "    </tr>\n",
       "  </tbody>\n",
       "</table>\n",
       "</div>"
      ],
      "text/plain": [
       "0    0.25\n",
       "1    0.50\n",
       "2    0.25\n",
       "Name: , dtype: float64"
      ]
     },
     "execution_count": 5,
     "metadata": {},
     "output_type": "execute_result"
    }
   ],
   "source": [
    "from empiricaldist import Pmf\n",
    "\n",
    "pmf_k = Pmf(ps, ks)\n",
    "pmf_k"
   ]
  },
  {
   "cell_type": "code",
   "execution_count": 6,
   "id": "748bd87f-afac-4fea-aabd-26456de7cbee",
   "metadata": {
    "execution": {
     "iopub.execute_input": "2023-08-15T00:37:41.267368Z",
     "iopub.status.busy": "2023-08-15T00:37:41.266968Z",
     "iopub.status.idle": "2023-08-15T00:37:41.281723Z",
     "shell.execute_reply": "2023-08-15T00:37:41.273036Z",
     "shell.execute_reply.started": "2023-08-15T00:37:41.267339Z"
    }
   },
   "outputs": [],
   "source": [
    "def make_binomial(n,p):\n",
    "    ks = np.arange(n+1)\n",
    "    ps = binom.pmf(ks,n,p)\n",
    "    return Pmf(ps,ks)"
   ]
  },
  {
   "cell_type": "code",
   "execution_count": 7,
   "id": "1297f8a0-bdd0-4a78-b611-225c380cecd0",
   "metadata": {
    "execution": {
     "iopub.execute_input": "2023-08-15T00:37:41.290475Z",
     "iopub.status.busy": "2023-08-15T00:37:41.284946Z",
     "iopub.status.idle": "2023-08-15T00:37:41.295545Z",
     "shell.execute_reply": "2023-08-15T00:37:41.294800Z",
     "shell.execute_reply.started": "2023-08-15T00:37:41.290416Z"
    }
   },
   "outputs": [],
   "source": [
    "pmf_k = make_binomial(n=250, p=0.5)"
   ]
  },
  {
   "cell_type": "code",
   "execution_count": 8,
   "id": "07cd27e8-39e3-47c6-befa-e2607d361b44",
   "metadata": {
    "execution": {
     "iopub.execute_input": "2023-08-15T00:37:41.297288Z",
     "iopub.status.busy": "2023-08-15T00:37:41.296781Z",
     "iopub.status.idle": "2023-08-15T00:37:41.310708Z",
     "shell.execute_reply": "2023-08-15T00:37:41.309981Z",
     "shell.execute_reply.started": "2023-08-15T00:37:41.297226Z"
    },
    "tags": []
   },
   "outputs": [
    {
     "data": {
      "text/html": [
       "<div>\n",
       "<style scoped>\n",
       "    .dataframe tbody tr th:only-of-type {\n",
       "        vertical-align: middle;\n",
       "    }\n",
       "\n",
       "    .dataframe tbody tr th {\n",
       "        vertical-align: top;\n",
       "    }\n",
       "\n",
       "    .dataframe thead th {\n",
       "        text-align: right;\n",
       "    }\n",
       "</style>\n",
       "<table border=\"1\" class=\"dataframe\">\n",
       "  <thead>\n",
       "    <tr style=\"text-align: right;\">\n",
       "      <th></th>\n",
       "      <th>probs</th>\n",
       "    </tr>\n",
       "  </thead>\n",
       "  <tbody>\n",
       "    <tr>\n",
       "      <th>0</th>\n",
       "      <td>5.527148e-76</td>\n",
       "    </tr>\n",
       "    <tr>\n",
       "      <th>1</th>\n",
       "      <td>1.381787e-73</td>\n",
       "    </tr>\n",
       "    <tr>\n",
       "      <th>2</th>\n",
       "      <td>1.720325e-71</td>\n",
       "    </tr>\n",
       "    <tr>\n",
       "      <th>3</th>\n",
       "      <td>1.422135e-69</td>\n",
       "    </tr>\n",
       "    <tr>\n",
       "      <th>4</th>\n",
       "      <td>8.781685e-68</td>\n",
       "    </tr>\n",
       "    <tr>\n",
       "      <th>...</th>\n",
       "      <td>...</td>\n",
       "    </tr>\n",
       "    <tr>\n",
       "      <th>246</th>\n",
       "      <td>8.781685e-68</td>\n",
       "    </tr>\n",
       "    <tr>\n",
       "      <th>247</th>\n",
       "      <td>1.422135e-69</td>\n",
       "    </tr>\n",
       "    <tr>\n",
       "      <th>248</th>\n",
       "      <td>1.720325e-71</td>\n",
       "    </tr>\n",
       "    <tr>\n",
       "      <th>249</th>\n",
       "      <td>1.381787e-73</td>\n",
       "    </tr>\n",
       "    <tr>\n",
       "      <th>250</th>\n",
       "      <td>5.527148e-76</td>\n",
       "    </tr>\n",
       "  </tbody>\n",
       "</table>\n",
       "<p>251 rows × 1 columns</p>\n",
       "</div>"
      ],
      "text/plain": [
       "0      5.527148e-76\n",
       "1      1.381787e-73\n",
       "2      1.720325e-71\n",
       "3      1.422135e-69\n",
       "4      8.781685e-68\n",
       "           ...     \n",
       "246    8.781685e-68\n",
       "247    1.422135e-69\n",
       "248    1.720325e-71\n",
       "249    1.381787e-73\n",
       "250    5.527148e-76\n",
       "Name: , Length: 251, dtype: float64"
      ]
     },
     "execution_count": 8,
     "metadata": {},
     "output_type": "execute_result"
    }
   ],
   "source": [
    "def make_binomial(n,p):\n",
    "    ks = np.arange(n+1)\n",
    "    ps = binom.pmf(ks, n, p)\n",
    "    return Pmf(ps, ks)\n",
    "\n",
    "pmf_k = make_binomial(n=250, p=0.5)\n",
    "\n",
    "pmf_k\n",
    "    "
   ]
  },
  {
   "cell_type": "code",
   "execution_count": 9,
   "id": "0aab1ce5-365d-485b-81af-e8ff58b43db4",
   "metadata": {
    "execution": {
     "iopub.execute_input": "2023-08-15T00:37:41.312291Z",
     "iopub.status.busy": "2023-08-15T00:37:41.311989Z",
     "iopub.status.idle": "2023-08-15T00:37:41.315496Z",
     "shell.execute_reply": "2023-08-15T00:37:41.314731Z",
     "shell.execute_reply.started": "2023-08-15T00:37:41.312262Z"
    }
   },
   "outputs": [],
   "source": [
    "# What will I do with my Joker's card.  What I wanted to do but my previous employer\n",
    "# wouldn't let me. I have spent my entire career in DoD acquisition before IC. IC has been \n",
    "# nothing but atrophying skills."
   ]
  },
  {
   "cell_type": "code",
   "execution_count": 10,
   "id": "37cb2757-77c0-4ec6-b901-f99fac2c7e5e",
   "metadata": {
    "execution": {
     "iopub.execute_input": "2023-08-15T00:37:41.317372Z",
     "iopub.status.busy": "2023-08-15T00:37:41.316781Z",
     "iopub.status.idle": "2023-08-15T00:37:41.505034Z",
     "shell.execute_reply": "2023-08-15T00:37:41.497937Z",
     "shell.execute_reply.started": "2023-08-15T00:37:41.317342Z"
    },
    "tags": []
   },
   "outputs": [
    {
     "data": {
      "image/png": "[encoded data removed]",
      "text/plain": [
       "<Figure size 640x480 with 1 Axes>"
      ]
     },
     "metadata": {},
     "output_type": "display_data"
    }
   ],
   "source": [
    "import matplotlib.pyplot as plt\n",
    "\n",
    "fig, ax = plt.subplots()\n",
    "ax.plot(pmf_k, color = \"#FF007F\", label='n=250, p=0.5')\n",
    "\n",
    "ax.set(xlabel='Number of Heads (k)', ylabel='PMF',\n",
    "       title='Binomial Distribution')\n",
    "\n",
    "ax.legend()\n",
    "\n",
    "ax.grid()\n",
    "plt.show()"
   ]
  },
  {
   "cell_type": "code",
   "execution_count": 11,
   "id": "b7bd7d78-5f8f-4d8f-a668-5f0352e33bf1",
   "metadata": {
    "execution": {
     "iopub.execute_input": "2023-08-15T00:37:41.506440Z",
     "iopub.status.busy": "2023-08-15T00:37:41.506171Z",
     "iopub.status.idle": "2023-08-15T00:37:41.513025Z",
     "shell.execute_reply": "2023-08-15T00:37:41.512239Z",
     "shell.execute_reply.started": "2023-08-15T00:37:41.506414Z"
    }
   },
   "outputs": [
    {
     "data": {
      "text/plain": [
       "125"
      ]
     },
     "execution_count": 11,
     "metadata": {},
     "output_type": "execute_result"
    }
   ],
   "source": [
    "pmf_k.max_prob()"
   ]
  },
  {
   "cell_type": "code",
   "execution_count": 12,
   "id": "97956dc0-e026-4fd8-9cda-73237271980b",
   "metadata": {
    "execution": {
     "iopub.execute_input": "2023-08-15T00:37:41.514640Z",
     "iopub.status.busy": "2023-08-15T00:37:41.514193Z",
     "iopub.status.idle": "2023-08-15T00:37:41.519967Z",
     "shell.execute_reply": "2023-08-15T00:37:41.519246Z",
     "shell.execute_reply.started": "2023-08-15T00:37:41.514614Z"
    },
    "tags": []
   },
   "outputs": [
    {
     "data": {
      "text/plain": [
       "0.050412213147309655"
      ]
     },
     "execution_count": 12,
     "metadata": {},
     "output_type": "execute_result"
    }
   ],
   "source": [
    "pmf_k[125]"
   ]
  },
  {
   "cell_type": "code",
   "execution_count": 13,
   "id": "c832f410-33fc-423c-bdcd-a15a379b440a",
   "metadata": {
    "execution": {
     "iopub.execute_input": "2023-08-15T00:37:41.521704Z",
     "iopub.status.busy": "2023-08-15T00:37:41.521151Z",
     "iopub.status.idle": "2023-08-15T00:37:41.527570Z",
     "shell.execute_reply": "2023-08-15T00:37:41.526457Z",
     "shell.execute_reply.started": "2023-08-15T00:37:41.521673Z"
    }
   },
   "outputs": [
    {
     "data": {
      "text/plain": [
       "0.008357181724918204"
      ]
     },
     "execution_count": 13,
     "metadata": {},
     "output_type": "execute_result"
    }
   ],
   "source": [
    "pmf_k[140]"
   ]
  },
  {
   "cell_type": "code",
   "execution_count": 14,
   "id": "08a6880a-9d6c-496c-bd58-ed505661f0b8",
   "metadata": {
    "execution": {
     "iopub.execute_input": "2023-08-15T00:37:41.529410Z",
     "iopub.status.busy": "2023-08-15T00:37:41.528894Z",
     "iopub.status.idle": "2023-08-15T00:37:41.532655Z",
     "shell.execute_reply": "2023-08-15T00:37:41.531655Z",
     "shell.execute_reply.started": "2023-08-15T00:37:41.529382Z"
    }
   },
   "outputs": [],
   "source": [
    "# In the article, MacKay quotes, the statistician says \"If the coin were unbiased, the chance \n",
    "# of getting a result as extreme as that would be less than 7%.\""
   ]
  },
  {
   "cell_type": "code",
   "execution_count": 15,
   "id": "81032dd4-6925-402e-b697-3a4cf70bbbba",
   "metadata": {
    "execution": {
     "iopub.execute_input": "2023-08-15T00:37:41.534473Z",
     "iopub.status.busy": "2023-08-15T00:37:41.533953Z",
     "iopub.status.idle": "2023-08-15T00:37:41.539419Z",
     "shell.execute_reply": "2023-08-15T00:37:41.538552Z",
     "shell.execute_reply.started": "2023-08-15T00:37:41.534443Z"
    },
    "tags": []
   },
   "outputs": [],
   "source": [
    "def prob_ge(pmf, threshold):\n",
    "    ge = (pmf.qs >= threshold)\n",
    "    total = pmf[ge].sum()\n",
    "    return total"
   ]
  },
  {
   "cell_type": "code",
   "execution_count": 16,
   "id": "55894127-7d0a-4c99-a6da-872bb9cc9a89",
   "metadata": {
    "execution": {
     "iopub.execute_input": "2023-08-15T00:37:41.541498Z",
     "iopub.status.busy": "2023-08-15T00:37:41.540925Z",
     "iopub.status.idle": "2023-08-15T00:37:41.549665Z",
     "shell.execute_reply": "2023-08-15T00:37:41.548934Z",
     "shell.execute_reply.started": "2023-08-15T00:37:41.541468Z"
    },
    "tags": []
   },
   "outputs": [
    {
     "data": {
      "text/plain": [
       "0.03321057562002163"
      ]
     },
     "execution_count": 16,
     "metadata": {},
     "output_type": "execute_result"
    }
   ],
   "source": [
    "# probability of getting 140 heads or more\n",
    "prob_ge(pmf_k, 140)"
   ]
  },
  {
   "cell_type": "code",
   "execution_count": 17,
   "id": "75546244-75fb-41ec-a161-15856a1663a6",
   "metadata": {
    "execution": {
     "iopub.execute_input": "2023-08-15T00:37:41.551262Z",
     "iopub.status.busy": "2023-08-15T00:37:41.550753Z",
     "iopub.status.idle": "2023-08-15T00:37:41.557467Z",
     "shell.execute_reply": "2023-08-15T00:37:41.556567Z",
     "shell.execute_reply.started": "2023-08-15T00:37:41.551236Z"
    }
   },
   "outputs": [
    {
     "data": {
      "text/plain": [
       "0.03321057562002163"
      ]
     },
     "execution_count": 17,
     "metadata": {},
     "output_type": "execute_result"
    }
   ],
   "source": [
    "pmf_k.prob_ge(140)"
   ]
  },
  {
   "cell_type": "code",
   "execution_count": 18,
   "id": "8d402035-5447-4dc3-b662-ada6ff092f1c",
   "metadata": {
    "execution": {
     "iopub.execute_input": "2023-08-15T00:37:41.559880Z",
     "iopub.status.busy": "2023-08-15T00:37:41.558941Z",
     "iopub.status.idle": "2023-08-15T00:37:41.564208Z",
     "shell.execute_reply": "2023-08-15T00:37:41.562872Z",
     "shell.execute_reply.started": "2023-08-15T00:37:41.559849Z"
    }
   },
   "outputs": [],
   "source": [
    "#The resulting 3.3% is about half of the 7% because the under 110 heads were not counted.\n",
    "# The other side of the curve.  This shows that extreme outcomes are unlikely if the coin is fair."
   ]
  },
  {
   "cell_type": "code",
   "execution_count": 19,
   "id": "ea9e9f56-3bbc-49da-94b0-3d25a72ab45a",
   "metadata": {
    "execution": {
     "iopub.execute_input": "2023-08-15T00:37:41.568521Z",
     "iopub.status.busy": "2023-08-15T00:37:41.567988Z",
     "iopub.status.idle": "2023-08-15T00:37:41.576778Z",
     "shell.execute_reply": "2023-08-15T00:37:41.575803Z",
     "shell.execute_reply.started": "2023-08-15T00:37:41.568493Z"
    }
   },
   "outputs": [
    {
     "data": {
      "text/plain": [
       "0.03321057562002164"
      ]
     },
     "execution_count": 19,
     "metadata": {},
     "output_type": "execute_result"
    }
   ],
   "source": [
    "# the left \"tail\"\n",
    "pmf_k.prob_le(110)"
   ]
  },
  {
   "cell_type": "code",
   "execution_count": 20,
   "id": "6a218c74-7e1b-46b0-8d63-d2af3d77f0e4",
   "metadata": {
    "execution": {
     "iopub.execute_input": "2023-08-15T00:37:41.578704Z",
     "iopub.status.busy": "2023-08-15T00:37:41.578138Z",
     "iopub.status.idle": "2023-08-15T00:37:41.582288Z",
     "shell.execute_reply": "2023-08-15T00:37:41.581484Z",
     "shell.execute_reply.started": "2023-08-15T00:37:41.578674Z"
    }
   },
   "outputs": [],
   "source": [
    "# Bayesian Estimation\n",
    "# Math might tell me why If I want a certain outcome, one course of action might be preferable, but math\n",
    "# never judges my choices, only tells me what to expect.  I love math.\n",
    "# Equally balanced coin spun on edge will land on either side 50% of the time\n",
    "# Start with a uniform prior which assumes all values of x are equally likely.\n",
    "# (might have to consider different priors - will revisit)\n"
   ]
  },
  {
   "cell_type": "code",
   "execution_count": 21,
   "id": "c357552b-fc42-479e-9d29-f16d7e376722",
   "metadata": {
    "execution": {
     "iopub.execute_input": "2023-08-15T00:37:41.584366Z",
     "iopub.status.busy": "2023-08-15T00:37:41.583788Z",
     "iopub.status.idle": "2023-08-15T00:37:41.595749Z",
     "shell.execute_reply": "2023-08-15T00:37:41.594956Z",
     "shell.execute_reply.started": "2023-08-15T00:37:41.584336Z"
    },
    "tags": []
   },
   "outputs": [
    {
     "name": "stdout",
     "output_type": "stream",
     "text": [
      "0.00    1\n",
      "0.01    1\n",
      "0.02    1\n",
      "0.03    1\n",
      "0.04    1\n",
      "       ..\n",
      "0.96    1\n",
      "0.97    1\n",
      "0.98    1\n",
      "0.99    1\n",
      "1.00    1\n",
      "Name: , Length: 101, dtype: int64\n"
     ]
    }
   ],
   "source": [
    "# Uniform prior, hypos is an array of equally spaced values between 0 and 1\n",
    "hypos = np.linspace(0,1,101)\n",
    "prior = Pmf(1, hypos)\n",
    "print(prior)"
   ]
  },
  {
   "cell_type": "code",
   "execution_count": 22,
   "id": "b127e8f1-d5a5-4692-9ca1-18342d184bde",
   "metadata": {
    "execution": {
     "iopub.execute_input": "2023-08-15T00:37:41.608590Z",
     "iopub.status.busy": "2023-08-15T00:37:41.608002Z",
     "iopub.status.idle": "2023-08-15T00:37:41.617727Z",
     "shell.execute_reply": "2023-08-15T00:37:41.616815Z",
     "shell.execute_reply.started": "2023-08-15T00:37:41.608558Z"
    },
    "tags": []
   },
   "outputs": [
    {
     "name": "stdout",
     "output_type": "stream",
     "text": [
      "[0.   0.01 0.02 0.03 0.04 0.05 0.06 0.07 0.08 0.09 0.1  0.11 0.12 0.13\n",
      " 0.14 0.15 0.16 0.17 0.18 0.19 0.2  0.21 0.22 0.23 0.24 0.25 0.26 0.27\n",
      " 0.28 0.29 0.3  0.31 0.32 0.33 0.34 0.35 0.36 0.37 0.38 0.39 0.4  0.41\n",
      " 0.42 0.43 0.44 0.45 0.46 0.47 0.48 0.49 0.5  0.51 0.52 0.53 0.54 0.55\n",
      " 0.56 0.57 0.58 0.59 0.6  0.61 0.62 0.63 0.64 0.65 0.66 0.67 0.68 0.69\n",
      " 0.7  0.71 0.72 0.73 0.74 0.75 0.76 0.77 0.78 0.79 0.8  0.81 0.82 0.83\n",
      " 0.84 0.85 0.86 0.87 0.88 0.89 0.9  0.91 0.92 0.93 0.94 0.95 0.96 0.97\n",
      " 0.98 0.99 1.  ]\n"
     ]
    }
   ],
   "source": [
    "likelihood_heads = hypos\n",
    "likelihood_tails = 1-hypos\n",
    "print(likelihood_heads)"
   ]
  },
  {
   "cell_type": "code",
   "execution_count": 23,
   "id": "f8ca84b2-aeba-43de-9dcc-a4851ec9f9fc",
   "metadata": {
    "execution": {
     "iopub.execute_input": "2023-08-15T00:37:41.619801Z",
     "iopub.status.busy": "2023-08-15T00:37:41.619238Z",
     "iopub.status.idle": "2023-08-15T00:37:41.630821Z",
     "shell.execute_reply": "2023-08-15T00:37:41.627723Z",
     "shell.execute_reply.started": "2023-08-15T00:37:41.619770Z"
    }
   },
   "outputs": [],
   "source": [
    "# Reformatted as a dictionary\n",
    "likelihood = {\n",
    "    'H': likelihood_heads,\n",
    "    'T': likelihood_tails\n",
    "}"
   ]
  },
  {
   "cell_type": "code",
   "execution_count": 24,
   "id": "89c911d4-7715-421c-a8a0-250f12e76834",
   "metadata": {
    "execution": {
     "iopub.execute_input": "2023-08-15T00:37:41.633489Z",
     "iopub.status.busy": "2023-08-15T00:37:41.632535Z",
     "iopub.status.idle": "2023-08-15T00:37:41.643081Z",
     "shell.execute_reply": "2023-08-15T00:37:41.642161Z",
     "shell.execute_reply.started": "2023-08-15T00:37:41.633456Z"
    },
    "tags": []
   },
   "outputs": [
    {
     "name": "stdout",
     "output_type": "stream",
     "text": [
      "HHHHHHHHHHHHHHHHHHHHHHHHHHHHHHHHHHHHHHHHHHHHHHHHHHHHHHHHHHHHHHHHHHHHHHHHHHHHHHHHHHHHHHHHHHHHHHHHHHHHHHHHHHHHHHHHHHHHHHHHHHHHHHHHHHHHHHHHHHHHTTTTTTTTTTTTTTTTTTTTTTTTTTTTTTTTTTTTTTTTTTTTTTTTTTTTTTTTTTTTTTTTTTTTTTTTTTTTTTTTTTTTTTTTTTTTTTTTTTTTTTTTTTTTTT\n"
     ]
    }
   ],
   "source": [
    "# to represent the data, string with H repeated 140 times, and T repeated 110 times\n",
    "dataset = 'H' * 140 + 'T' * 110\n",
    "print(dataset)"
   ]
  },
  {
   "cell_type": "code",
   "execution_count": 25,
   "id": "30b8485f-1bb1-4416-aa95-ba9a7541ac64",
   "metadata": {
    "execution": {
     "iopub.execute_input": "2023-08-15T00:37:41.644806Z",
     "iopub.status.busy": "2023-08-15T00:37:41.644262Z",
     "iopub.status.idle": "2023-08-15T00:37:41.658290Z",
     "shell.execute_reply": "2023-08-15T00:37:41.657370Z",
     "shell.execute_reply.started": "2023-08-15T00:37:41.644776Z"
    },
    "tags": []
   },
   "outputs": [],
   "source": [
    "# This function takes a pmf that represents the priors and a sequence of strings that are the results of\n",
    "# the coin spin\n",
    "def update_euro(pmf, dataset):\n",
    "    \"\"\"Update pmf with a given sequence of H and T.\"\"\"\n",
    "    for data in dataset:\n",
    "        pmf *= likelihood[data]\n",
    "        \n",
    "    pmf.normalize()\n",
    "\n",
    "#normalize is outside the loop.  Only normalized once, can cause floating point errors."
   ]
  },
  {
   "cell_type": "code",
   "execution_count": 26,
   "id": "a49fd91d-12cb-4a3e-b843-41e4232a071c",
   "metadata": {
    "execution": {
     "iopub.execute_input": "2023-08-15T00:37:41.660269Z",
     "iopub.status.busy": "2023-08-15T00:37:41.659702Z",
     "iopub.status.idle": "2023-08-15T00:37:41.750879Z",
     "shell.execute_reply": "2023-08-15T00:37:41.750028Z",
     "shell.execute_reply.started": "2023-08-15T00:37:41.660238Z"
    },
    "tags": []
   },
   "outputs": [],
   "source": [
    "posterior = prior.copy()\n",
    "update_euro(posterior, dataset)"
   ]
  },
  {
   "cell_type": "code",
   "execution_count": 27,
   "id": "da981154-3429-4f33-a27c-f3d45e9d9412",
   "metadata": {
    "execution": {
     "iopub.execute_input": "2023-08-15T00:37:41.752992Z",
     "iopub.status.busy": "2023-08-15T00:37:41.752383Z",
     "iopub.status.idle": "2023-08-15T00:37:41.923221Z",
     "shell.execute_reply": "2023-08-15T00:37:41.922393Z",
     "shell.execute_reply.started": "2023-08-15T00:37:41.752957Z"
    },
    "tags": []
   },
   "outputs": [
    {
     "data": {
      "image/png": "[encoded data removed]",
      "text/plain": [
       "<Figure size 640x480 with 1 Axes>"
      ]
     },
     "metadata": {},
     "output_type": "display_data"
    }
   ],
   "source": [
    "fig, ax = plt.subplots()\n",
    "ax.plot(posterior, color = \"#FF007F\", label='140 heads out of 250')\n",
    "\n",
    "ax.set(xlabel='Proportion of Heads (x)', ylabel='Probability',\n",
    "       title='Posterior Distribution of x')\n",
    "\n",
    "ax.legend()\n",
    "\n",
    "ax.grid()\n",
    "plt.show()"
   ]
  },
  {
   "cell_type": "code",
   "execution_count": 28,
   "id": "e9f4b62b-2e14-44b7-9a73-6f28a3c3f887",
   "metadata": {
    "execution": {
     "iopub.execute_input": "2023-08-15T00:37:41.924877Z",
     "iopub.status.busy": "2023-08-15T00:37:41.924581Z",
     "iopub.status.idle": "2023-08-15T00:37:41.930879Z",
     "shell.execute_reply": "2023-08-15T00:37:41.930056Z",
     "shell.execute_reply.started": "2023-08-15T00:37:41.924849Z"
    }
   },
   "outputs": [
    {
     "data": {
      "text/plain": [
       "0.56"
      ]
     },
     "execution_count": 28,
     "metadata": {},
     "output_type": "execute_result"
    }
   ],
   "source": [
    "# The posterior districution represents our beliefs about x after seeing the data.  It indicates that \n",
    "# values less than 0.4 and greater than 0.7 are unlikely; values between 0.5 and 0.6 are the most likely\n",
    "# The most likely value for x is 0.56, which is the proportion of heads in the dataset, 140/250.\n",
    "\n",
    "posterior.max_prob()"
   ]
  },
  {
   "cell_type": "code",
   "execution_count": 29,
   "id": "7f0f8cbc-b990-48f9-8096-96084b9078d5",
   "metadata": {
    "execution": {
     "iopub.execute_input": "2023-08-15T00:37:41.932765Z",
     "iopub.status.busy": "2023-08-15T00:37:41.932463Z",
     "iopub.status.idle": "2023-08-15T00:37:41.936545Z",
     "shell.execute_reply": "2023-08-15T00:37:41.935776Z",
     "shell.execute_reply.started": "2023-08-15T00:37:41.932736Z"
    }
   },
   "outputs": [],
   "source": [
    "# Triangle prior\n",
    "# So let's say that the coin isn't equally weighted and we cannot use a uniform prior.\n",
    "# So it would be logical to say that a prior that gives a higher probability to values of x near 0.5 and\n",
    "# lower probability to extreme values\n",
    "# so a triangle shaped prior"
   ]
  },
  {
   "cell_type": "code",
   "execution_count": 30,
   "id": "3d6ad23d-e855-4630-acbc-e0252c6f45da",
   "metadata": {
    "execution": {
     "iopub.execute_input": "2023-08-15T00:37:41.938518Z",
     "iopub.status.busy": "2023-08-15T00:37:41.938129Z",
     "iopub.status.idle": "2023-08-15T00:37:41.942719Z",
     "shell.execute_reply": "2023-08-15T00:37:41.941898Z",
     "shell.execute_reply.started": "2023-08-15T00:37:41.938488Z"
    }
   },
   "outputs": [],
   "source": [
    "ramp_up = np.arange(50)\n",
    "ramp_down = np.arange(50, -1, -1)"
   ]
  },
  {
   "cell_type": "code",
   "execution_count": 31,
   "id": "5a8311bc-bfad-44e5-893b-1d346d874864",
   "metadata": {
    "execution": {
     "iopub.execute_input": "2023-08-15T00:37:41.944545Z",
     "iopub.status.busy": "2023-08-15T00:37:41.944163Z",
     "iopub.status.idle": "2023-08-15T00:37:41.953700Z",
     "shell.execute_reply": "2023-08-15T00:37:41.948475Z",
     "shell.execute_reply.started": "2023-08-15T00:37:41.944516Z"
    },
    "tags": []
   },
   "outputs": [
    {
     "name": "stdout",
     "output_type": "stream",
     "text": [
      "[ 0  1  2  3  4  5  6  7  8  9 10 11 12 13 14 15 16 17 18 19 20 21 22 23\n",
      " 24 25 26 27 28 29 30 31 32 33 34 35 36 37 38 39 40 41 42 43 44 45 46 47\n",
      " 48 49]\n",
      "[50 49 48 47 46 45 44 43 42 41 40 39 38 37 36 35 34 33 32 31 30 29 28 27\n",
      " 26 25 24 23 22 21 20 19 18 17 16 15 14 13 12 11 10  9  8  7  6  5  4  3\n",
      "  2  1  0]\n"
     ]
    }
   ],
   "source": [
    "print(ramp_up)\n",
    "print(ramp_down)"
   ]
  },
  {
   "cell_type": "code",
   "execution_count": 32,
   "id": "1a77b366-ea9a-402e-be98-c47953360e4c",
   "metadata": {
    "execution": {
     "iopub.execute_input": "2023-08-15T00:37:41.955336Z",
     "iopub.status.busy": "2023-08-15T00:37:41.955019Z",
     "iopub.status.idle": "2023-08-15T00:37:41.962610Z",
     "shell.execute_reply": "2023-08-15T00:37:41.961780Z",
     "shell.execute_reply.started": "2023-08-15T00:37:41.955306Z"
    },
    "tags": []
   },
   "outputs": [
    {
     "data": {
      "text/plain": [
       "2500"
      ]
     },
     "execution_count": 32,
     "metadata": {},
     "output_type": "execute_result"
    }
   ],
   "source": [
    "a = np.append(ramp_up, ramp_down)\n",
    "\n",
    "triangle = Pmf(a,hypos, name = 'triangle')\n",
    "triangle.normalize()"
   ]
  },
  {
   "cell_type": "code",
   "execution_count": 33,
   "id": "ce0c2baa-33b1-4784-a687-ae1f869cdf81",
   "metadata": {
    "execution": {
     "iopub.execute_input": "2023-08-15T00:37:41.964364Z",
     "iopub.status.busy": "2023-08-15T00:37:41.964063Z",
     "iopub.status.idle": "2023-08-15T00:37:42.174833Z",
     "shell.execute_reply": "2023-08-15T00:37:42.173905Z",
     "shell.execute_reply.started": "2023-08-15T00:37:41.964335Z"
    },
    "tags": []
   },
   "outputs": [
    {
     "data": {
      "image/png": "[encoded data removed]",
      "text/plain": [
       "<Figure size 640x480 with 1 Axes>"
      ]
     },
     "metadata": {},
     "output_type": "display_data"
    }
   ],
   "source": [
    "fig, ax = plt.subplots()\n",
    "ax.plot(triangle, color = \"#FF007F\")\n",
    "plt.axhline(y = .01, color = '#000000', linestyle = ':')\n",
    "\n",
    "ax.set(xlabel='Proportion of Heads (x)', ylabel='Probability',\n",
    "       title='Uniform and Triangle Prior Distributions')\n",
    "ax.grid()\n",
    "plt.show()"
   ]
  },
  {
   "cell_type": "code",
   "execution_count": 34,
   "id": "23949751-84eb-4b44-a3f4-9c7325484cc4",
   "metadata": {
    "execution": {
     "iopub.execute_input": "2023-08-15T00:37:42.176347Z",
     "iopub.status.busy": "2023-08-15T00:37:42.175912Z",
     "iopub.status.idle": "2023-08-15T00:37:42.269293Z",
     "shell.execute_reply": "2023-08-15T00:37:42.268452Z",
     "shell.execute_reply.started": "2023-08-15T00:37:42.176313Z"
    },
    "tags": []
   },
   "outputs": [],
   "source": [
    "uniform = Pmf(1, hypos, name = 'uniform')\n",
    "uniform.normalize()\n",
    "\n",
    "update_euro(uniform, dataset)\n",
    "update_euro(triangle, dataset)"
   ]
  },
  {
   "cell_type": "code",
   "execution_count": 35,
   "id": "3bb53f27-cdee-43f2-9fcb-967d93b56552",
   "metadata": {
    "execution": {
     "iopub.execute_input": "2023-08-15T00:37:42.271108Z",
     "iopub.status.busy": "2023-08-15T00:37:42.270775Z",
     "iopub.status.idle": "2023-08-15T00:37:42.405445Z",
     "shell.execute_reply": "2023-08-15T00:37:42.404721Z",
     "shell.execute_reply.started": "2023-08-15T00:37:42.271077Z"
    },
    "tags": []
   },
   "outputs": [
    {
     "data": {
      "image/png": "[encoded data removed]",
      "text/plain": [
       "<Figure size 640x480 with 1 Axes>"
      ]
     },
     "metadata": {},
     "output_type": "display_data"
    }
   ],
   "source": [
    "fig, ax = plt.subplots()\n",
    "ax.plot(posterior, color = \"#FF007F\")\n",
    "\n",
    "ax.set(xlabel='Proportion of Heads (x)', ylabel='Probability',\n",
    "       title='Posterior Distributions')\n",
    "\n",
    "ax.grid()\n",
    "plt.show()"
   ]
  },
  {
   "cell_type": "code",
   "execution_count": 36,
   "id": "3239826d-40f9-4c02-8b44-251df5d357e9",
   "metadata": {
    "execution": {
     "iopub.execute_input": "2023-08-15T00:37:42.407020Z",
     "iopub.status.busy": "2023-08-15T00:37:42.406369Z",
     "iopub.status.idle": "2023-08-15T00:37:42.411226Z",
     "shell.execute_reply": "2023-08-15T00:37:42.410333Z",
     "shell.execute_reply.started": "2023-08-15T00:37:42.406995Z"
    }
   },
   "outputs": [],
   "source": [
    "# More beatings will not improve morale\n",
    "# Especially if you put me with people who hate math and can't read and do not want to learn\n",
    "# I am neither a teacher, a mother, nor a psychologist. I can help capable adults, and for the older \n",
    "# adults I can clean, and perform simple chores, but I can't fix psychological issues or issues when\n",
    "# they refuse doctors for religious reasons. Some homes aren't free rides while you grow, some homes\n",
    "# are shut out all the light and stuff you into boxes that are too small.  "
   ]
  },
  {
   "cell_type": "code",
   "execution_count": 37,
   "id": "ff506c86-ed90-4d17-be48-a55b0fb16a81",
   "metadata": {
    "execution": {
     "iopub.execute_input": "2023-08-15T00:37:42.413104Z",
     "iopub.status.busy": "2023-08-15T00:37:42.412581Z",
     "iopub.status.idle": "2023-08-15T00:37:42.416725Z",
     "shell.execute_reply": "2023-08-15T00:37:42.415812Z",
     "shell.execute_reply.started": "2023-08-15T00:37:42.413072Z"
    }
   },
   "outputs": [],
   "source": [
    "# The differnce between the priors are hardly noticeable.  This is an example of \"swamping the priors\"\n",
    "# with enough data, people who start with different priors will tend to converge on the same posterior\n",
    "# distribution"
   ]
  },
  {
   "cell_type": "code",
   "execution_count": 38,
   "id": "53ff4e0c-1975-4af3-8e33-f318a139a91d",
   "metadata": {
    "execution": {
     "iopub.execute_input": "2023-08-15T00:37:42.418608Z",
     "iopub.status.busy": "2023-08-15T00:37:42.418081Z",
     "iopub.status.idle": "2023-08-15T00:37:42.433014Z",
     "shell.execute_reply": "2023-08-15T00:37:42.425235Z",
     "shell.execute_reply.started": "2023-08-15T00:37:42.418578Z"
    }
   },
   "outputs": [],
   "source": [
    "# Binomial Likelihood Function\n",
    "# So far we've been computing the updates one at a times, but that is time consuming for many spins\n",
    "# We can use the binomial distribution"
   ]
  },
  {
   "cell_type": "code",
   "execution_count": 39,
   "id": "a90138fd-dab4-40fd-82e7-6f1d8ad6cd12",
   "metadata": {
    "execution": {
     "iopub.execute_input": "2023-08-15T00:37:42.434179Z",
     "iopub.status.busy": "2023-08-15T00:37:42.433902Z",
     "iopub.status.idle": "2023-08-15T00:37:42.443673Z",
     "shell.execute_reply": "2023-08-15T00:37:42.443062Z",
     "shell.execute_reply.started": "2023-08-15T00:37:42.434150Z"
    }
   },
   "outputs": [],
   "source": [
    "# Using Scipy to compute\n",
    "# function takes a Pmf that represents the prior distribution and a tuple of integers that represent \n",
    "# the data.\n",
    "\n",
    "from scipy.stats import binom\n",
    "\n",
    "def update_binomial(pmf, data):\n",
    "    \"\"\"Update pmf using the binomial distribution.\"\"\"\n",
    "    k, n = data\n",
    "    xs = pmf.qs\n",
    "    likelihood = binom.pmf(k, n, xs)\n",
    "    pmf *= likelihood\n",
    "    pmf.normalize()"
   ]
  },
  {
   "cell_type": "code",
   "execution_count": 40,
   "id": "ce95400b-a56f-46aa-a444-0485b0360ba7",
   "metadata": {
    "execution": {
     "iopub.execute_input": "2023-08-15T00:37:42.445151Z",
     "iopub.status.busy": "2023-08-15T00:37:42.444689Z",
     "iopub.status.idle": "2023-08-15T00:37:42.451337Z",
     "shell.execute_reply": "2023-08-15T00:37:42.450688Z",
     "shell.execute_reply.started": "2023-08-15T00:37:42.445121Z"
    }
   },
   "outputs": [],
   "source": [
    "uniform2 = Pmf(1, hypos, name='uniform2')\n",
    "data = 140, 250\n",
    "update_binomial(uniform2, data)"
   ]
  },
  {
   "cell_type": "code",
   "execution_count": 41,
   "id": "466559d8-f7d5-4cea-be4b-27155a094baa",
   "metadata": {
    "execution": {
     "iopub.execute_input": "2023-08-15T00:37:42.452952Z",
     "iopub.status.busy": "2023-08-15T00:37:42.452406Z",
     "iopub.status.idle": "2023-08-15T00:37:42.459208Z",
     "shell.execute_reply": "2023-08-15T00:37:42.458485Z",
     "shell.execute_reply.started": "2023-08-15T00:37:42.452923Z"
    },
    "tags": []
   },
   "outputs": [
    {
     "data": {
      "text/plain": [
       "True"
      ]
     },
     "execution_count": 41,
     "metadata": {},
     "output_type": "execute_result"
    }
   ],
   "source": [
    "# https://numpy.org/doc/stable/reference/generated/numpy.allclose.html\n",
    "np.allclose(uniform, uniform2)"
   ]
  },
  {
   "cell_type": "code",
   "execution_count": 42,
   "id": "a7854403-3773-4333-b467-09813fa9b22d",
   "metadata": {
    "execution": {
     "iopub.execute_input": "2023-08-15T00:37:42.461007Z",
     "iopub.status.busy": "2023-08-15T00:37:42.460475Z",
     "iopub.status.idle": "2023-08-15T00:37:42.466262Z",
     "shell.execute_reply": "2023-08-15T00:37:42.465398Z",
     "shell.execute_reply.started": "2023-08-15T00:37:42.460977Z"
    }
   },
   "outputs": [],
   "source": [
    "# Bayesian Statistics\n",
    "# The \"Euro Problem\" and the \"101 Bowls Problem\" are similar: the prior distributions are the same,\n",
    "# the likelihoods are the same, and with the same data, the results would be the same.  But there are \n",
    "# two differences:\n",
    "\n",
    "# The first is the choice of the prior. With 101 bowls, the uniform prior is implied by the statement\n",
    "# of the problem which says that we chose one bowl at random with equal probability\n",
    "\n",
    "# In the Euro problem, the choice of the prior is subjective. Because the priors are subjective, \n",
    "# the posteriors are subjective, too.\n",
    "\n",
    "# The other difference is the nature of what we are estimating.  In the 101 bowls problem, we choose \n",
    "# the bowl randomly, so it is uncontroversial to compute the probabilities of choosing each bowl. In the Euro \n",
    "# problem, the proportion of heads is a physical property, which under some interpretations are not considered\n",
    "# random.\n",
    "\n",
    "#Consider the age of the universe.  Our current estimate is 13.8 bn years, but it might off by 0.02 bn years \n",
    "# in either direction.\n",
    "# Now consider that we would like to know the probability that the age of the universe is actually \n",
    "# greater than 13.81 bn years. Under some interpretations of probability, we would not be able to answer this.  \n",
    "# Under the Bayesian interpretation of probability, it is meaningful and useful to treat physical quanitities\n",
    "# as if they were random and compute probabilities.\n",
    "\n",
    "# In the Euro problem, the prior districution represents what we believe about coins in general and the posterior \n",
    "# represents what we believe after seeing the data.\n",
    "\n",
    "# The subjectivity of the prior and the interpretation of the posterior are key differences between using \n",
    "# Baye's theorem and doing Bayesian Statistics.  Baye's Theorem is a mathematical law of probability but \n",
    "# Bayesian statistics are surprisingly controversial.  See Sharon Bertsch McGrayne's book.  \"The theory that \n",
    "# would not die."
   ]
  },
  {
   "cell_type": "code",
   "execution_count": 1,
   "id": "50b42485-8206-4eea-be5b-260e797aa15b",
   "metadata": {
    "execution": {
     "iopub.execute_input": "2023-08-15T18:38:56.889157Z",
     "iopub.status.busy": "2023-08-15T18:38:56.888795Z",
     "iopub.status.idle": "2023-08-15T18:38:56.893428Z",
     "shell.execute_reply": "2023-08-15T18:38:56.892506Z",
     "shell.execute_reply.started": "2023-08-15T18:38:56.889130Z"
    },
    "tags": []
   },
   "outputs": [],
   "source": [
    "# Exercise 4-1\n",
    "# In MLB, most players have a batting average between .200 and .330,  which means that their probability of\n",
    "# getting a hit is between 0.2 an 0.33.\n",
    "# Suppose a player appearing in their first game gets 3 hits out of 3 attempts (DATA).  What is the posterior\n",
    "# distribution for their probability of getting a hit?\n",
    "# two hypos are \"hit\" and \"no hit\"\n",
    "# (does this mean given their batting average after knowing that they had extremely abnormal perfect first game)\n",
    "\n",
    "# similar to coin problem in that only two results, hit (H) or no hit(NH)\n",
    "# So can I assume a prior with a curve fitted to have the IQR fall between 0.2 and 0.33?\n",
    "# Average of two is 0.265 (assumption that this would be the midpoint of a normal distribution)\n",
    "# posterior would be updated with the weirdly abnormal perfect first game?"
   ]
  },
  {
   "cell_type": "code",
   "execution_count": 44,
   "id": "ea1ec417-752e-4112-bfb1-ca8780dcde99",
   "metadata": {
    "execution": {
     "iopub.execute_input": "2023-08-15T00:37:42.473737Z",
     "iopub.status.busy": "2023-08-15T00:37:42.473358Z",
     "iopub.status.idle": "2023-08-15T00:37:42.477743Z",
     "shell.execute_reply": "2023-08-15T00:37:42.476896Z",
     "shell.execute_reply.started": "2023-08-15T00:37:42.473708Z"
    },
    "tags": []
   },
   "outputs": [],
   "source": [
    "import numpy as np\n",
    "from scipy.stats import norm"
   ]
  },
  {
   "cell_type": "code",
   "execution_count": 106,
   "id": "b1b51f3d-80fd-47c8-8ce8-e3cff19eb26f",
   "metadata": {
    "execution": {
     "iopub.execute_input": "2023-08-15T01:39:59.908353Z",
     "iopub.status.busy": "2023-08-15T01:39:59.907962Z",
     "iopub.status.idle": "2023-08-15T01:39:59.913198Z",
     "shell.execute_reply": "2023-08-15T01:39:59.912398Z",
     "shell.execute_reply.started": "2023-08-15T01:39:59.908324Z"
    },
    "tags": []
   },
   "outputs": [],
   "source": [
    "# https://proclusacademy.com/blog/practical/normal-distribution-python-scipy/\n",
    "# modifying example from above website\n",
    "\n",
    "# assuming normal (symmetrical distro) with the IQR bounded by 0.2 and 0.33, with a midpoint \n",
    "# (and mean due to symmetry) of 0.265 and a stddev of 0.065\n",
    "\n",
    "from scipy import stats\n",
    "\n",
    "\n",
    "mean = 0.265\n",
    "standard_deviation = 0.065\n",
    "\n",
    "# Create normal distribution using the 'norm' class\n",
    "# loc - specifies the mean\n",
    "# scale - specifies the standard deviation\n",
    "battingavg_distribution = stats.norm(\n",
    "    loc=mean, \n",
    "    scale=standard_deviation\n",
    ")\n",
    "# This yields a rv_frozen object, whatever the heck that is\n"
   ]
  },
  {
   "cell_type": "code",
   "execution_count": 107,
   "id": "2002fc2b-95fb-416d-9cf2-fcf57d863446",
   "metadata": {
    "execution": {
     "iopub.execute_input": "2023-08-15T01:40:02.074818Z",
     "iopub.status.busy": "2023-08-15T01:40:02.074273Z",
     "iopub.status.idle": "2023-08-15T01:40:02.082781Z",
     "shell.execute_reply": "2023-08-15T01:40:02.081902Z",
     "shell.execute_reply.started": "2023-08-15T01:40:02.074790Z"
    },
    "tags": []
   },
   "outputs": [
    {
     "name": "stdout",
     "output_type": "stream",
     "text": [
      "[0.001      0.00706061 0.01312121 0.01918182 0.02524242 0.03130303\n",
      " 0.03736364 0.04342424 0.04948485 0.05554545 0.06160606 0.06766667\n",
      " 0.07372727 0.07978788 0.08584848 0.09190909 0.0979697  0.1040303\n",
      " 0.11009091 0.11615152 0.12221212 0.12827273 0.13433333 0.14039394\n",
      " 0.14645455 0.15251515 0.15857576 0.16463636 0.17069697 0.17675758\n",
      " 0.18281818 0.18887879 0.19493939 0.201      0.20706061 0.21312121\n",
      " 0.21918182 0.22524242 0.23130303 0.23736364 0.24342424 0.24948485\n",
      " 0.25554545 0.26160606 0.26766667 0.27372727 0.27978788 0.28584848\n",
      " 0.29190909 0.2979697  0.3040303  0.31009091 0.31615152 0.32221212\n",
      " 0.32827273 0.33433333 0.34039394 0.34645455 0.35251515 0.35857576\n",
      " 0.36463636 0.37069697 0.37675758 0.38281818 0.38887879 0.39493939\n",
      " 0.401      0.40706061 0.41312121 0.41918182 0.42524242 0.43130303\n",
      " 0.43736364 0.44342424 0.44948485 0.45554545 0.46160606 0.46766667\n",
      " 0.47372727 0.47978788 0.48584848 0.49190909 0.4979697  0.5040303\n",
      " 0.51009091 0.51615152 0.52221212 0.52827273 0.53433333 0.54039394\n",
      " 0.54645455 0.55251515 0.55857576 0.56463636 0.57069697 0.57675758\n",
      " 0.58281818 0.58887879 0.59493939 0.601     ]\n"
     ]
    }
   ],
   "source": [
    "min_batavg = 0.001\n",
    "max_batavg = 0.601\n",
    "batavg_values = np.linspace(min_batavg, max_batavg, num=100)\n",
    "print(batavg_values)"
   ]
  },
  {
   "cell_type": "code",
   "execution_count": 108,
   "id": "db4ca6c0-2537-4b79-a0d7-25d89a1f51c5",
   "metadata": {
    "execution": {
     "iopub.execute_input": "2023-08-15T01:40:08.486717Z",
     "iopub.status.busy": "2023-08-15T01:40:08.486056Z",
     "iopub.status.idle": "2023-08-15T01:40:08.492621Z",
     "shell.execute_reply": "2023-08-15T01:40:08.491730Z",
     "shell.execute_reply.started": "2023-08-15T01:40:08.486687Z"
    },
    "tags": []
   },
   "outputs": [
    {
     "name": "stdout",
     "output_type": "stream",
     "text": [
      "[1.60662775e-03 2.33611381e-03 3.36741853e-03 4.81198834e-03\n",
      " 6.81673486e-03 9.57310022e-03 1.33276376e-02 1.83940819e-02\n",
      " 2.51667666e-02 3.41350933e-02 4.58985679e-02 6.11817006e-02\n",
      " 8.08478212e-02 1.05910609e-01 1.37541886e-01 1.77074023e-01\n",
      " 2.25995141e-01 2.85935261e-01 3.58641627e-01 4.45941659e-01\n",
      " 5.49692437e-01 6.71716237e-01 8.13722450e-01 9.77217234e-01\n",
      " 1.16340333e+00 1.37307373e+00 1.60650389e+00 1.86334842e+00\n",
      " 2.14254882e+00 2.44225919e+00 2.75979704e+00 3.09162566e+00\n",
      " 3.43337334e+00 3.77989317e+00 4.12536508e+00 4.46343915e+00\n",
      " 4.78741654e+00 5.09046178e+00 5.36583747e+00 5.60715051e+00\n",
      " 5.80859747e+00 5.96519598e+00 6.07298935e+00 6.12921266e+00\n",
      " 6.13241063e+00 6.08250022e+00 5.98077420e+00 5.82984552e+00\n",
      " 5.63353576e+00 5.39671435e+00 5.12509800e+00 4.82502186e+00\n",
      " 4.50319510e+00 4.16645417e+00 3.82152604e+00 3.47481273e+00\n",
      " 3.13220625e+00 2.79894052e+00 2.47948424e+00 2.17747613e+00\n",
      " 1.89570093e+00 1.63610288e+00 1.39983150e+00 1.18731317e+00\n",
      " 9.98341612e-01 8.32180298e-01 6.87669961e-01 5.63335403e-01\n",
      " 4.57486628e-01 3.68310527e-01 2.93950515e-01 2.32572675e-01\n",
      " 1.82417927e-01 1.41840650e-01 1.09334766e-01 8.35487989e-02\n",
      " 6.32916635e-02 4.75310248e-02 3.53860602e-02 2.61162980e-02\n",
      " 1.91080067e-02 1.38593711e-02 9.96542964e-03 7.10350842e-03\n",
      " 5.01965813e-03 3.51641195e-03 2.44202285e-03 1.68121813e-03\n",
      " 1.14742095e-03 7.76329079e-04 5.20706860e-04 3.46230332e-04\n",
      " 2.28223989e-04 1.49135777e-04 9.66110398e-05 6.20434643e-05\n",
      " 3.94993265e-05 2.49291636e-05 1.55973240e-05 9.67423979e-06]\n"
     ]
    }
   ],
   "source": [
    "probabilities = battingavg_distribution.pdf(x=batavg_values)\n",
    "print(probabilities)\n",
    "# I don't know quite how the pdf works, but this just doesn't look like the right scale. The curve is right\n",
    "# and the IQR in the right place."
   ]
  },
  {
   "cell_type": "code",
   "execution_count": 109,
   "id": "62a500de-1910-4c52-b3e1-9c4f21a900ae",
   "metadata": {
    "execution": {
     "iopub.execute_input": "2023-08-15T01:40:16.365060Z",
     "iopub.status.busy": "2023-08-15T01:40:16.364685Z",
     "iopub.status.idle": "2023-08-15T01:40:16.512004Z",
     "shell.execute_reply": "2023-08-15T01:40:16.511210Z",
     "shell.execute_reply.started": "2023-08-15T01:40:16.365032Z"
    },
    "tags": []
   },
   "outputs": [
    {
     "data": {
      "image/png": "[encoded data removed]",
      "text/plain": [
       "<Figure size 640x480 with 1 Axes>"
      ]
     },
     "metadata": {},
     "output_type": "display_data"
    }
   ],
   "source": [
    "fig, ax = plt.subplots()\n",
    "ax.plot(batavg_values, probabilities, color = \"#FF007F\")\n",
    "\n",
    "ax.set(xlabel='Batting Avg', ylabel='Probability',\n",
    "       title='Batting Avg Distributions')\n",
    "\n",
    "ax.grid()\n",
    "plt.show()\n",
    "\n",
    "# But there is something weird going on here... we are getting weird y-values  "
   ]
  },
  {
   "cell_type": "code",
   "execution_count": null,
   "id": "6b73be66-0373-4fb0-a740-16c5c4dc25f2",
   "metadata": {
    "execution": {
     "iopub.status.busy": "2023-08-15T00:37:42.765772Z",
     "iopub.status.idle": "2023-08-15T00:37:42.766576Z",
     "shell.execute_reply": "2023-08-15T00:37:42.766360Z",
     "shell.execute_reply.started": "2023-08-15T00:37:42.766338Z"
    },
    "tags": []
   },
   "outputs": [],
   "source": [
    "# Exercise 4-2\n",
    "# Whenever you survey people about sensitive issues, you have to deal with social desirability bias, which is\n",
    "# is the tendency of people to adjust their answers to show themselves in the most positive light. One way to \n",
    "# improve the accruacy of the results is randomized response.\n",
    "# As an example, suppose you want to know how many people cheat on their taxes.  If you can ask them directly,\n",
    "# it is likely that some of the cheaters will lie.  You can get a more accurate estimate if you ask them\n",
    "# indirectly, like this: Ask each person to flip a coin and without revealing the outcome,\n",
    "# - If they get heads, they report yes\n",
    "# - If they get tails, they honestly answer the question \"Do you cheat on your taxes?\"\n",
    "# If someone says yes, we don't know whether they will actually cheat on their taxes - they might have only\n",
    "# flipped heads.  Knowing this, people may answer more truthfully.\n",
    "\n",
    "# Suppose you survey 100 people and get 80 yeses and 20 nos, based on this data, what is the posterior distro \n",
    "# for the fraction of people who cheat on their taxes?  \n",
    "# What is the most likely quantity for the posterior distro?\n",
    "\n",
    "# Assumption: This leads to absolute truthfulness\n",
    "# 50% of time, coin will land on heads, an unknown number of those people may have cheated on their taxes\n",
    "# These respondents were not asked the question \n",
    "# 50% of time, coin will land on tails, all nos are assumed to be truthful answers\n",
    "                                        # all yeses are assumed to be truthful answers\n",
    "\n",
    "# 4 hypos\n",
    "#1) coin on heads, respondent cheated, prior would be 25%\n",
    "#2) coin on heads, respondent didn't cheat, prior would be 25%\n",
    "#3) coin on tails, respondent cheated, prior would be \n",
    "#4) coin on tails, respodent did not cheat,\n",
    "    \n",
    "# so the prior should look like the pmf or pdf of heads/tails of coin flip? before we know the data\n",
    "# \n",
    "\n",
    "\n",
    "# binomial likelihood function\n",
    "# 100 people surveyed, n = 100\n",
    "# k = yes\n",
    "# "
   ]
  }
 ],
 "metadata": {
  "kernelspec": {
   "display_name": "saturn (Python 3)",
   "language": "python",
   "name": "python3"
  },
  "language_info": {
   "codemirror_mode": {
    "name": "ipython",
    "version": 3
   },
   "file_extension": ".py",
   "mimetype": "text/x-python",
   "name": "python",
   "nbconvert_exporter": "python",
   "pygments_lexer": "ipython3",
   "version": "3.9.15"
  }
 },
 "nbformat": 4,
 "nbformat_minor": 5
}
