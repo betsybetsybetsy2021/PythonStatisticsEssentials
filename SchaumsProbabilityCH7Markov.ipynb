{
 "cells": [
  {
   "cell_type": "markdown",
   "id": "7b2286ee-d338-43be-a2bf-f2a5a36a3255",
   "metadata": {},
   "source": [
    "__Schaum's Outlines - Probability__</br>\n",
    "__By Seymour Lipshutz__ </br>\n",
    "__Chapter 7 - Markov Chains__"
   ]
  },
  {
   "cell_type": "markdown",
   "id": "17430eab-89d0-4cc2-9b6f-0a04991dfd1f",
   "metadata": {},
   "source": [
    "__Markov Processes__ p. 256"
   ]
  },
  {
   "cell_type": "markdown",
   "id": "c4070742-96da-4438-a1a3-8272bebe23c6",
   "metadata": {},
   "source": [
    "__7.16__ p. 256</br>\n",
    "Bob's study habits are as follows.  If he studies one night, he is 70 percent sure not to study the next night.  On the other hand, if he doesn not study one night, he is only 60% sure not to study the next night as well.  find out how often in the long term, Bob studies.</br>\n",
    "\n",
    "This is a Markov process where the states of the system are S (studying) and T (not studying). The transition matrix M of the process is as follows:"
   ]
  },
  {
   "cell_type": "markdown",
   "id": "0328869a-0a82-4239-9319-9b2eedd67a10",
   "metadata": {
    "execution": {
     "iopub.execute_input": "2023-11-18T21:56:13.137556Z",
     "iopub.status.busy": "2023-11-18T21:56:13.137209Z",
     "iopub.status.idle": "2023-11-18T21:56:13.144255Z",
     "shell.execute_reply": "2023-11-18T21:56:13.142947Z",
     "shell.execute_reply.started": "2023-11-18T21:56:13.137531Z"
    }
   },
   "source": [
    "\n",
    "$$ M  \\ \\ = \\ \\ \\ \n",
    "\\begin{array}{c c} \n",
    "& \\begin{array}{c c} S & T \\\\ \\end{array} \\\\\n",
    "\\begin{array}{c c} S \\\\ T \\\\ \\end{array} &\n",
    "\\left[\n",
    "\\begin{array}{c c c}\n",
    "0.3 & 0.7 \\\\\n",
    "0.4 & 0.6 \\\\\n",
    "\\end{array}\n",
    "\\right]\n",
    "\\end{array}\n",
    "$$"
   ]
  },
  {
   "cell_type": "markdown",
   "id": "7e5de847-4b51-4093-8b15-a7d083e20a55",
   "metadata": {
    "execution": {
     "iopub.execute_input": "2023-11-18T21:57:41.632277Z",
     "iopub.status.busy": "2023-11-18T21:57:41.631890Z",
     "iopub.status.idle": "2023-11-18T21:57:41.639370Z",
     "shell.execute_reply": "2023-11-18T21:57:41.638367Z",
     "shell.execute_reply.started": "2023-11-18T21:57:41.632251Z"
    }
   },
   "source": [
    "$ u = [0.4, 0.7]$</br>\n",
    "\n",
    "To get rid of fractions multiply by 10. </br>\n",
    "\n",
    "$10u = [4,7]$</br>\n",
    "\n",
    "Thus the unique fixed probability vector is $[\\frac{4}{11}, \\frac{7}{11}]$</br>\n",
    "\n",
    "Thus in the long term, the probability that Bob studies is $\\frac{4}{11}$ or 36.4%."
   ]
  },
  {
   "cell_type": "markdown",
   "id": "43341f30-65e3-4569-a190-a142c4e4e31e",
   "metadata": {},
   "source": [
    "__7.17__ p. 256 </br>\n",
    "A psychologist makes the following assumptions concerning the behavior of mice subjected to a particular feeding schedule.  For any particular trial, 80% of the mice that went right on a previous experiment will go right on this trial, and 60% of those mice that went left on the previuos experiment will go right on this trial.  Suppose 50% of the mice went right on the first trial.</br>\n",
    "(a) Find the prediction of the psychologist for the next two trials\n",
    "(b) When will the process stabilize?"
   ]
  },
  {
   "cell_type": "markdown",
   "id": "b6fec765-22e2-4c42-97f1-759769ed3e8c",
   "metadata": {},
   "source": [
    "The states of the system are R (right) and L (left) and the transition matrix M of the process is as follows:</br>\n",
    "$$ M  \\ \\ = \\ \\ \\ \n",
    "\\begin{array}{c c} \n",
    "& \\begin{array}{c c} R & L \\\\ \\end{array} \\\\\n",
    "\\begin{array}{c c} R \\\\ L \\\\ \\end{array} &\n",
    "\\left[\n",
    "\\begin{array}{c c c}\n",
    "0.8 & 0.2 \\\\\n",
    "0.6 & 0.4 \\\\\n",
    "\\end{array}\n",
    "\\right]\n",
    "\\end{array}\n",
    "$$"
   ]
  },
  {
   "cell_type": "markdown",
   "id": "2ae4e33f-108e-44ac-bf40-282b277eed1c",
   "metadata": {},
   "source": [
    "The probability for the first trial is $ q = [0.5, 0.5] $"
   ]
  },
  {
   "cell_type": "markdown",
   "id": "abad4c04-deda-4ec4-abee-0d5ab0aa1f0a",
   "metadata": {},
   "source": [
    "(a) </br>\n",
    "to predict the probability distro for hte second trial, multiply q by M. This yields</br>\n",
    "\n",
    "\\begin{align*}\n",
    "= \\left[\\begin{array}{ccc}\n",
    "   0.5 &  0.5  \\\\\n",
    "\\end{array}\\right]\n",
    "\\begin{bmatrix}\n",
    "  0.8 & 0.2  \\\\\n",
    "  0.6 & 0.4  \\\\\n",
    "\\end{bmatrix} \n",
    " = \\begin{bmatrix}\n",
    "   0.7, 0.3 \\\\\n",
    "\\end{bmatrix} \n",
    "\\end{align*}\n",
    "\n",
    "</br>\n",
    "Thus the psychologist predicts that 70% of the mice will go right and 30% will go left on the 2nd trial.  We can repeat the process for the third trial.</br>\n",
    "\n",
    "\\begin{align*}\n",
    "= \\left[\\begin{array}{ccc}\n",
    "   0.7 &  0.3  \\\\\n",
    "\\end{array}\\right]\n",
    "\\begin{bmatrix}\n",
    "  0.8 & 0.2  \\\\\n",
    "  0.6 & 0.4  \\\\\n",
    "\\end{bmatrix} \n",
    " = \\begin{bmatrix}\n",
    "   0.74, 0.26 \\\\\n",
    "\\end{bmatrix} \n",
    "\\end{align*}\n",
    "\n",
    "</br>\n",
    "Thus the psychologist predicts that 74% of the mice will go right and 30% will go left on the 3rd trial."
   ]
  },
  {
   "cell_type": "markdown",
   "id": "39bfe07f-e8e1-49e0-8a03-586e977977f9",
   "metadata": {},
   "source": [
    "(b) </br>\n",
    "The process will stabilize when it reaches the fixed probability distribution t.  </br>\n",
    "By problem 7.11, $ u = [0.6, 0.2]$ is a fixed point of M and so $ t = [\\frac{3}{4}, \\frac{1}{4}] = [ 0.75, 0.25] $</br>\n",
    "\n",
    "So the process stabilizes after the 3rd trial."
   ]
  },
  {
   "cell_type": "markdown",
   "id": "72c46ceb-85cd-4698-9966-87b803260341",
   "metadata": {},
   "source": [
    "__7.35__ p. 242</br>\n",
    "\n",
    "John either drives or takes the train to work.  If he drives to work, then the next day he takes the train with probability 0.2.  On the other hand, if he takes the train to work, then the next day he drives with the probability of 0.3.  Find out how often in the long run he drives to work.\n"
   ]
  },
  {
   "cell_type": "markdown",
   "id": "cddc9ba1-bef4-46bf-8054-8d380cd92e83",
   "metadata": {
    "execution": {
     "iopub.execute_input": "2023-11-18T20:53:44.454073Z",
     "iopub.status.busy": "2023-11-18T20:53:44.453716Z",
     "iopub.status.idle": "2023-11-18T20:53:44.459910Z",
     "shell.execute_reply": "2023-11-18T20:53:44.458832Z",
     "shell.execute_reply.started": "2023-11-18T20:53:44.454047Z"
    }
   },
   "source": [
    "\n",
    "$$ M  \\ \\ = \\ \\ \\ \n",
    "\\begin{array}{c c} \n",
    "& \\begin{array}{c c} D & T \\\\ \\end{array} \\\\\n",
    "\\begin{array}{c c} D \\\\ T \\\\ \\end{array} &\n",
    "\\left[\n",
    "\\begin{array}{c c c}\n",
    "0.8 & 0.2 \\\\\n",
    "0.3 & 0.7 \\\\\n",
    "\\end{array}\n",
    "\\right]\n",
    "\\end{array}\n",
    "$$"
   ]
  },
  {
   "cell_type": "markdown",
   "id": "3439214b-8529-4323-bdcc-2b66f34b6e7f",
   "metadata": {
    "execution": {
     "iopub.execute_input": "2023-11-18T20:49:52.906559Z",
     "iopub.status.busy": "2023-11-18T20:49:52.906192Z",
     "iopub.status.idle": "2023-11-18T20:49:52.915370Z",
     "shell.execute_reply": "2023-11-18T20:49:52.914247Z",
     "shell.execute_reply.started": "2023-11-18T20:49:52.906524Z"
    }
   },
   "source": [
    "$ u = [0.3, 0.2]$</br>\n",
    "\n",
    "To get rid of fractions multiply by 10. </br>\n",
    "\n",
    "$10u = [3,2]$</br>\n",
    "\n",
    "Thus the unique fixed probability vector is $[\\frac{3}{5}, \\frac{2}{5}]$</br>\n",
    "\n",
    "And in the long term, the probability that John drives to work is $\\frac{3}{5}$ or 60%."
   ]
  },
  {
   "cell_type": "markdown",
   "id": "6a406bea-872a-4a99-81f6-4e3caca0ad25",
   "metadata": {},
   "source": [
    "__7.36__ p. 256</br>\n",
    "\n",
    "Mary's gambling luck follows a pattern.  If she wins a game, the probablity of winning the next game is 0.6.  However, if she loses a game, the probability of losing the next game is 0.7.  There is an even chance that she wins the first game.</br>\n",
    "\n",
    "(a) Find transition matrix M of the Markov process </br>\n",
    "(b) Find probability that she wins the 2nd game </br>\n",
    "(c) Find probability she wins 3rd game.</br>\n",
    "(d) Find out how often in the long run she wins</br>"
   ]
  },
  {
   "cell_type": "markdown",
   "id": "72663e2d-b817-4109-b281-e9288869db49",
   "metadata": {
    "execution": {
     "iopub.execute_input": "2023-11-18T21:12:29.003476Z",
     "iopub.status.busy": "2023-11-18T21:12:29.003115Z",
     "iopub.status.idle": "2023-11-18T21:12:29.009631Z",
     "shell.execute_reply": "2023-11-18T21:12:29.008544Z",
     "shell.execute_reply.started": "2023-11-18T21:12:29.003450Z"
    }
   },
   "source": [
    "(a)\n",
    "$$ M  \\ \\ = \\ \\ \\ \n",
    "\\begin{array}{c c} \n",
    "& \\begin{array}{c c} W & L \\\\ \\end{array} \\\\\n",
    "\\begin{array}{c c} W \\\\ L \\\\ \\end{array} &\n",
    "\\left[\n",
    "\\begin{array}{c c c}\n",
    "0.6 & 0.4 \\\\\n",
    "0.3 & 0.7 \\\\\n",
    "\\end{array}\n",
    "\\right]\n",
    "\\end{array}\n",
    "$$</br>\n",
    "\n",
    "initial probability: $ q = [0.5, 0.5]$"
   ]
  },
  {
   "cell_type": "markdown",
   "id": "6b831313-6e01-46ce-8173-2fa61ab3d7b1",
   "metadata": {
    "execution": {
     "iopub.execute_input": "2023-11-18T21:23:56.035806Z",
     "iopub.status.busy": "2023-11-18T21:23:56.035424Z",
     "iopub.status.idle": "2023-11-18T21:23:56.041889Z",
     "shell.execute_reply": "2023-11-18T21:23:56.040606Z",
     "shell.execute_reply.started": "2023-11-18T21:23:56.035777Z"
    },
    "tags": []
   },
   "source": [
    "(b)\n",
    "\n",
    "\\begin{align*}\n",
    "= \\left[\\begin{array}{ccc}\n",
    "   0.5 &  0.5  \\\\\n",
    "\\end{array}\\right]\n",
    "\\begin{bmatrix}\n",
    "  0.6 & 0.4  \\\\\n",
    "  0.3 & 0.7  \\\\\n",
    "\\end{bmatrix} \n",
    " = \\begin{bmatrix}\n",
    "   0.3+0.15 & 0.2 + 0.35  \\\\\n",
    "\\end{bmatrix}\n",
    " = \\begin{bmatrix}\n",
    "   0.45, 0.55  \\\\\n",
    "\\end{bmatrix} \n",
    "\\end{align*}\n",
    "\n",
    "$$\n",
    "\\begin{array}{c c} \n",
    "& \\begin{array}{c c} W & L \\\\ \\end{array} \\\\\n",
    " &\n",
    "\\left[\n",
    "\\begin{array}{c c c}\n",
    "0.45 & 0.55 \\\\\n",
    "\\end{array}\n",
    "\\right]\n",
    "\\end{array}\n",
    "$$\n",
    "\n",
    "</br>\n",
    "Thus the probability of a win after the second game is 45%."
   ]
  },
  {
   "cell_type": "markdown",
   "id": "baba3030-220f-4f52-8634-0be8dbe7c53c",
   "metadata": {},
   "source": [
    "(c)\n",
    "\n",
    "\\begin{align*}\n",
    "= \\left[\\begin{array}{ccc}\n",
    "   0.45 &  0.55  \\\\\n",
    "\\end{array}\\right]\n",
    "\\begin{bmatrix}\n",
    "  0.6 & 0.4  \\\\\n",
    "  0.3 & 0.7  \\\\\n",
    "\\end{bmatrix} \n",
    " = \\begin{bmatrix}\n",
    "   0.27+0.16 & 0.22 + 0.39  \\\\\n",
    "\\end{bmatrix}\n",
    " = \\begin{bmatrix}\n",
    "   0.41, 0.61  \\\\\n",
    "\\end{bmatrix} \n",
    "\\end{align*}\n",
    "\n",
    "$$\n",
    "\\begin{array}{c c} \n",
    "& \\begin{array}{c c} W & L \\\\ \\end{array} \\\\\n",
    " &\n",
    "\\left[\n",
    "\\begin{array}{c c c}\n",
    "0.41 & 0.61 \\\\\n",
    "\\end{array}\n",
    "\\right]\n",
    "\\end{array}\n",
    "$$\n",
    "\n",
    "\n",
    "</br>\n",
    "Thus the probability of a win after the third game is 41%."
   ]
  },
  {
   "cell_type": "markdown",
   "id": "54651d9f-0ccb-45fb-8c8b-8a8523aeb787",
   "metadata": {
    "execution": {
     "iopub.execute_input": "2023-11-18T21:15:17.984264Z",
     "iopub.status.busy": "2023-11-18T21:15:17.983881Z",
     "iopub.status.idle": "2023-11-18T21:15:17.990203Z",
     "shell.execute_reply": "2023-11-18T21:15:17.989004Z",
     "shell.execute_reply.started": "2023-11-18T21:15:17.984237Z"
    }
   },
   "source": [
    "(d) The fixed probability distribution t can be found as follows</br>\n",
    "\n",
    "$ u = [0.3, 0.4]$</br>\n",
    "\n",
    "$10u = [3,4]$</br>\n",
    "\n",
    "$t = [\\frac{3}{7}, \\frac{4}{7}]$</br>\n",
    "\n",
    "Thus the probablity of Mary winning in the long term is about $\\frac{3}{7}$ or $42.9 \\%$"
   ]
  },
  {
   "cell_type": "code",
   "execution_count": null,
   "id": "3fb7be7e-9c4f-4277-991d-d522227c0bfb",
   "metadata": {},
   "outputs": [],
   "source": []
  }
 ],
 "metadata": {
  "kernelspec": {
   "display_name": "saturn (Python 3)",
   "language": "python",
   "name": "python3"
  },
  "language_info": {
   "codemirror_mode": {
    "name": "ipython",
    "version": 3
   },
   "file_extension": ".py",
   "mimetype": "text/x-python",
   "name": "python",
   "nbconvert_exporter": "python",
   "pygments_lexer": "ipython3",
   "version": "3.9.15"
  }
 },
 "nbformat": 4,
 "nbformat_minor": 5
}
