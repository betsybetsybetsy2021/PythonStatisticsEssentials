{
 "cells": [
  {
   "cell_type": "markdown",
   "id": "d3a2883a-fd56-4c05-9484-41f4f3d93ebb",
   "metadata": {},
   "source": [
    "__MANHATTAN LSAT test prep Logic Problems__</br>\n",
    "Solutions by... Betsy"
   ]
  },
  {
   "cell_type": "markdown",
   "id": "74417585-18b2-4e66-a768-3abd586db15f",
   "metadata": {},
   "source": [
    "__Composite Board__</br>\n",
    "Atlas industries is constructing composite boards that include at leas 6 but no more than 7 layers.  The materials that are used as layers in the boards are categorized as either insulating, metallic or wooden and a board must include at least one of each of the three categories of material.  No other categories of material are sued.  There are exactly three insulating materials available -- fleece,m Gore-Tex, and hay -- two metallic materials -- krypton and lead -- and three wooden materials -- pine, oak, and spruce.  A board may not contain two layers made of the same exact material.  During the construction of a board, a bottom layer is always numbered 1, with layers above that numbered in inreasing and consuecutive order until the top layer, which is numbered 6 or 7.  A layer touches only the layers that lie above or below it in a board.</br>\n",
    "</br>\n",
    "The construction of the board must adhere to the following conditions:</br>\n",
    "1) Any insulating layer that is used must touch exactly two layers, neither one of which is an insulator</br>\n",
    "2) A layer of lead cannot touch a layer of fleece</br>\n",
    "3) Krypton can touch fleece only if Krypton touches two insulating materials</br>\n",
    "4) No wooden layer can touch a metallic layer</br>\n",
    "5) The top layer is wooden, if and only if, the bottom layer is as well</br>\n"
   ]
  },
  {
   "cell_type": "markdown",
   "id": "98a01f2e-2d1e-4c42-bf64-e7db19f137bf",
   "metadata": {},
   "source": [
    "__1) Which one of the following could be a list of the layers used in a board in order from bottom to top?__</br>\n",
    "(A) pine, oak, Gore-Tex, lead, fleece, spruce ----- breaks rule 2</br>\n",
    "(B) krypton, Gore-Tex, spruce, fleece, oak, pine ----- breaks rule 5</br>\n",
    "(C) spruce, hay, krypton, Gore-Tex, lead, pine ----- breaks rule 4</br>\n",
    "(D) pine, fleece, krypton, lead, Gore-Tex, oak ----- breaks breaks rule 3</br>\n",
    "__(E) oak, spruce, fleece, krypton, Gore-Tex, pine ----- POSSIBLE__"
   ]
  },
  {
   "cell_type": "markdown",
   "id": "26b0a43a-07ff-494c-b2c7-452ccf8657a1",
   "metadata": {
    "execution": {
     "iopub.execute_input": "2023-12-10T00:32:57.426800Z",
     "iopub.status.busy": "2023-12-10T00:32:57.426441Z",
     "iopub.status.idle": "2023-12-10T00:32:57.435033Z",
     "shell.execute_reply": "2023-12-10T00:32:57.433920Z",
     "shell.execute_reply.started": "2023-12-10T00:32:57.426773Z"
    }
   },
   "source": [
    "__2) If fleece is second each of the following could be true EXCEPT:__</br>\n",
    "(A) A layer of insulator is sixth</br>\n",
    "(B) A layer of wood is seventh</br>\n",
    "__(C) A layer of metal is sixth__</br>\n",
    "(D) A layer of insulator is fourth</br>\n",
    "(E) A layer of wood is sixth</br>"
   ]
  },
  {
   "cell_type": "markdown",
   "id": "e2303258-3ed5-4da1-9b78-55c7c81a2c0d",
   "metadata": {},
   "source": [
    "</br>\n",
    "$\n",
    "\\begin{vmatrix}\n",
    "? Layer 7 ? & \\underline{7\\;=\\;top\\;thus\\;W\\;because\\;of\\;rule\\;5} \\\\\n",
    "Layer 6 & \\underline{6\\;=\\;W\\;or\\;I\\;if\\;6\\;=\\;top\\;then\\;W\\;due\\;to\\;rule\\;5} \\\\\n",
    "Layer 5 & \\underline{M\\;because\\;4\\;=\\;I} \\\\\n",
    "Layer 4 & \\underline{if\\;3\\;=\\;Krypton,\\;4\\;=\\;I\\;\\;or\\;\\;if\\;3\\;=\\;W,\\;4 = Ibecause2woodusedalready} \\\\\n",
    "Layer 3 & \\underline{M\\;or\\;W\\;(not\\;lead)} \\\\\n",
    "Layer 2 & \\underline{\\;\\;FLEECE\\;\\;} \\\\\n",
    "Layer 1 & \\underline{W\\;per\\;rules\\;1\\;2\\;3} \\\\\n",
    "\\end{vmatrix}\n",
    "$\n",
    "</br>\n",
    "From the above matrix, we can see that having a sixth layer of metal is not possible"
   ]
  },
  {
   "cell_type": "markdown",
   "id": "959158c5-df8f-4b46-b69f-89ae67404365",
   "metadata": {},
   "source": [
    "__3)If spruce is the fourth of seven layers, each of the following could be true EXCEPT:__</br>\n",
    "(A) Oak touches Gore-Tex</br>\n",
    "(B) Fleece touches spruce</br>\n",
    "(C) Pine touches hay</br>\n",
    "(D) Pine touches spruce</br>\n",
    "(E) Lead touches hay</br>\n",
    "\n"
   ]
  },
  {
   "cell_type": "markdown",
   "id": "5462e872-1b8a-4662-991e-116805c92cfa",
   "metadata": {},
   "source": [
    "__4) If lead touches Krypton and Gore-Tex, and pine is not used in the construction of a given board, how many different arrangements of layers can be used?__</br>\n",
    "(A) 0</br>\n",
    "(B) 1</br>\n",
    "(C) 2</br>\n",
    "(D) 3</br>\n",
    "__(E) 4__"
   ]
  },
  {
   "cell_type": "code",
   "execution_count": null,
   "id": "3cd340e2-d567-439e-97ae-297040e1b3e7",
   "metadata": {},
   "outputs": [],
   "source": []
  }
 ],
 "metadata": {
  "kernelspec": {
   "display_name": "saturn (Python 3)",
   "language": "python",
   "name": "python3"
  },
  "language_info": {
   "codemirror_mode": {
    "name": "ipython",
    "version": 3
   },
   "file_extension": ".py",
   "mimetype": "text/x-python",
   "name": "python",
   "nbconvert_exporter": "python",
   "pygments_lexer": "ipython3",
   "version": "3.9.15"
  }
 },
 "nbformat": 4,
 "nbformat_minor": 5
}
