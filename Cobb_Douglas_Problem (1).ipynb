{
 "cells": [
  {
   "cell_type": "markdown",
   "id": "ba975779-d443-44c3-8735-0b321823814f",
   "metadata": {
    "execution": {
     "iopub.execute_input": "2023-09-09T22:39:12.405777Z",
     "iopub.status.busy": "2023-09-09T22:39:12.405369Z",
     "iopub.status.idle": "2023-09-09T22:39:12.416241Z",
     "shell.execute_reply": "2023-09-09T22:39:12.415001Z",
     "shell.execute_reply.started": "2023-09-09T22:39:12.405746Z"
    }
   },
   "source": [
    "__Multivariable Calculus - Fourth Edition__</br>\n",
    "__by James Stewart__ </br>\n",
    "__Chapter 15-16, Cobb Douglas__"
   ]
  },
  {
   "cell_type": "markdown",
   "id": "4ca22356-1906-44ba-ba04-32dc38aea0c7",
   "metadata": {
    "execution": {
     "iopub.execute_input": "2023-09-10T00:23:41.608957Z",
     "iopub.status.busy": "2023-09-10T00:23:41.608561Z",
     "iopub.status.idle": "2023-09-10T00:23:41.615035Z",
     "shell.execute_reply": "2023-09-10T00:23:41.613789Z",
     "shell.execute_reply.started": "2023-09-10T00:23:41.608927Z"
    }
   },
   "source": [
    "__From Section 15.1__\n",
    "</br>\n",
    "In 1928 Charles Cobb and Paul Douglas published a study in which they modeled the growth of the American Economy during the period 1899-1922.  They considered a simplified view of the economy in which production output is determined by the amount of labor involved and the amount of capital invested.  While there are many other factors affecting economic performance, their model proved to be remarkably accurate.  The function they used to model production was of the form:</br>\n",
    "$ P = bLαK^{1-α} $</br>\n",
    "where $P$ is the total production (the monetary value of all goods produced in a year), L is the amount of labor (the total number of person-hours worked in a year), and K is the amount of capital invested (the monetary worth of all machinery, equipment, and buildings). In Section 15.3 we will show how the form of Equation 1 follows from certain economic assumptions.</br>\n",
    "Cobb and Douglas used economic data published by the government to obtain tabular data values of P,L, and K for each year.  They took the year 1899 as a baseline and P,L, and K for 1899 were each assigned the value 100.  The values for other years were expressed as percentages of the 1899 figures.</br>\n",
    "Cobb and Douglas used the method of least squares to fit the data to the function:</br>\n",
    "$ P(L,K) = 1.01L^0.75K^0.25$\n",
    "If we use the model given by the function above to compute the production in the years 1910 and 1920, we get the values:\n",
    "$P(147,208) = 1.01(147)^0.75(208)^0.25 ≈ 161.9$\n",
    "\n",
    "which are quite close to the actual values, 159 and 231.</br>\n",
    "The production function has subsequently been used in many settings, ranging from individual firms to global economic questions.  It has become known as the Cobb-Douglas production function.  Its domain is ${(L,K)|L≤0,K≤0}$ because L and K represent labor and capital and are therefore never negative."
   ]
  },
  {
   "cell_type": "markdown",
   "id": "41c956fe-aff3-4e4c-b79a-911400b51729",
   "metadata": {},
   "source": [
    "__Exercise 21 (p.991)__ Use LaGrange multipliers to find max values of $f(x,y,z)$ subject to constraint $g(x,y,z) = k$.\n",
    "\n",
    "The total production P of a certain product depends on the amount of L of labor used and the amount K of capital investment. In sections 15.1 and 15.3, we discussed how the Cobb-Douglas model </br>\n",
    "$ P = bLαK^{1-α} $\n",
    "</br>\n",
    "follows from certain economic assumptions, where β and α are positive constants and α≤1.  If the cost of unit of labor is m, and the cost of a unit of capital is n, and the company can only spend p dollars as its total budget, then maximizing the production p is subject to the constraint </br>\n",
    "$ mL + nK = p$\n",
    "Show that maximum production occurs when \n",
    "\n",
    "$L = \\frac{αp}{m} $ and $ K = \\frac{(1-α)p}{n} $\n",
    "\n"
   ]
  },
  {
   "cell_type": "markdown",
   "id": "353c8c6d-1476-481f-a588-5a65d769ebd8",
   "metadata": {
    "execution": {
     "iopub.execute_input": "2023-09-09T22:53:43.566919Z",
     "iopub.status.busy": "2023-09-09T22:53:43.566558Z",
     "iopub.status.idle": "2023-09-09T22:53:43.572403Z",
     "shell.execute_reply": "2023-09-09T22:53:43.571239Z",
     "shell.execute_reply.started": "2023-09-09T22:53:43.566891Z"
    }
   },
   "source": [
    "Production equation:\n",
    "$P(mL,nK) = b(mL)^α(nk)^β = bm^αL^αn^βK^β$ "
   ]
  },
  {
   "cell_type": "markdown",
   "id": "47fe1628-2b05-4268-bacb-e43e17b5429c",
   "metadata": {},
   "source": [
    "LaGrange, look for values of $L$, $K$ and $λ$, such that $∇P = λ∇g(L,K) $\n",
    "\n",
    "$∇P_L = αbm^αL^{α-1}n^βk^β = λ(m) $\n",
    "</br></br>\n",
    "$∇P_K = βbm^αL^αn^βk^{β-1} = λ(n) $</br></br>\n",
    "and the constraint equation\n",
    "</br></br>\n",
    "$ mL + nk = p $\n",
    "which can also be written as: </br></br>\n",
    "$ m = \\frac{p-nk}{L} $\n",
    "</br></br>\n",
    "$ n = \\frac{p-mL}{k} $"
   ]
  },
  {
   "cell_type": "markdown",
   "id": "44c544f9-b416-416e-a7b8-e9b50867a5b3",
   "metadata": {
    "execution": {
     "iopub.execute_input": "2023-09-09T22:59:38.201207Z",
     "iopub.status.busy": "2023-09-09T22:59:38.200828Z",
     "iopub.status.idle": "2023-09-09T22:59:38.209077Z",
     "shell.execute_reply": "2023-09-09T22:59:38.207805Z",
     "shell.execute_reply.started": "2023-09-09T22:59:38.201177Z"
    }
   },
   "source": [
    "Finding λ to solve the set of equations</br>\n",
    "\n",
    "$∇P_L = αbm^αL^{α-1}n^βk^β = λ(m) $\n",
    "\n",
    "$∇P_L = αb\\frac{m^α}{m}L^{α-1}n^βk^β =  αbm^{α-1}L^{α-1}n^βk^β = λ$"
   ]
  },
  {
   "cell_type": "markdown",
   "id": "8fd5173f-7840-4b28-849c-ef59dc349858",
   "metadata": {},
   "source": [
    "Substituting into</br>\n",
    "\n",
    "$∇P_K = βbm^αL^αn^βk^{β-1} = λ(n) $\n",
    "\n",
    "$∇P_K = βbm^αL^αn^βk^{β-1} = αbm^{α-1}L^{α-1}n^βk^β(n) $\n"
   ]
  },
  {
   "cell_type": "markdown",
   "id": "408a4bfa-4005-4a79-82bc-ba1cd7fc24b3",
   "metadata": {
    "execution": {
     "iopub.execute_input": "2023-09-09T23:53:54.209221Z",
     "iopub.status.busy": "2023-09-09T23:53:54.208833Z",
     "iopub.status.idle": "2023-09-09T23:53:54.214655Z",
     "shell.execute_reply": "2023-09-09T23:53:54.213526Z",
     "shell.execute_reply.started": "2023-09-09T23:53:54.209192Z"
    }
   },
   "source": [
    "Simplifying\n",
    "\n",
    "$β\\frac{m^α}{m^{α-1}} \\frac{L^α}{L^{α-1}}  = α\\frac{k^β}{k^{β-1}}(n) $"
   ]
  },
  {
   "cell_type": "markdown",
   "id": "0709b6fd-5545-4299-ae87-baacb90e6857",
   "metadata": {},
   "source": [
    "$βmL  = αkn $"
   ]
  },
  {
   "cell_type": "markdown",
   "id": "3d73cb03-4a54-4862-aac3-a11711d907a0",
   "metadata": {
    "execution": {
     "iopub.execute_input": "2023-09-09T23:59:14.722493Z",
     "iopub.status.busy": "2023-09-09T23:59:14.722118Z",
     "iopub.status.idle": "2023-09-09T23:59:14.728359Z",
     "shell.execute_reply": "2023-09-09T23:59:14.727138Z",
     "shell.execute_reply.started": "2023-09-09T23:59:14.722466Z"
    }
   },
   "source": [
    "substituting $m = \\frac{p-nk}{L}$\n",
    "\n",
    "$β(\\frac{p-nk}{L})L  = αkn $"
   ]
  },
  {
   "cell_type": "markdown",
   "id": "849e6409-c032-4d53-8109-a76c3c9994a4",
   "metadata": {
    "execution": {
     "iopub.execute_input": "2023-09-10T00:46:57.582050Z",
     "iopub.status.busy": "2023-09-10T00:46:57.581672Z",
     "iopub.status.idle": "2023-09-10T00:46:57.587663Z",
     "shell.execute_reply": "2023-09-10T00:46:57.586472Z",
     "shell.execute_reply.started": "2023-09-10T00:46:57.582024Z"
    }
   },
   "source": [
    "$(p-nk) = \\frac{α}{β}kn $"
   ]
  },
  {
   "cell_type": "markdown",
   "id": "74e64705-63cc-4c6e-8dc1-eb718a9c08a5",
   "metadata": {},
   "source": [
    "$\\frac{(p-nk)}{k} = \\frac{α}{β}n $"
   ]
  },
  {
   "cell_type": "markdown",
   "id": "fc37cc2f-c594-4ada-9b81-8fe0d78b73f5",
   "metadata": {},
   "source": [
    "$\\frac{p}{k} = \\frac{α}{β}n + n $"
   ]
  },
  {
   "cell_type": "markdown",
   "id": "beb5e2fe-9b1c-40cf-b4b1-ee463b9e0c63",
   "metadata": {
    "execution": {
     "iopub.execute_input": "2023-09-10T00:51:32.102556Z",
     "iopub.status.busy": "2023-09-10T00:51:32.102202Z",
     "iopub.status.idle": "2023-09-10T00:51:32.108572Z",
     "shell.execute_reply": "2023-09-10T00:51:32.107335Z",
     "shell.execute_reply.started": "2023-09-10T00:51:32.102530Z"
    }
   },
   "source": [
    "$\\frac{p}{k} = n(\\frac{α}{β} + 1) $"
   ]
  },
  {
   "cell_type": "markdown",
   "id": "0bcd2e24-7e31-43bb-8f4c-6d1b962aeebb",
   "metadata": {},
   "source": [
    "$\\frac{p}{n} = k(\\frac{α}{β} + 1) $"
   ]
  },
  {
   "cell_type": "markdown",
   "id": "2b6ba726-27e5-467b-b9a3-b8be50bb100f",
   "metadata": {
    "execution": {
     "iopub.execute_input": "2023-09-10T00:53:08.037777Z",
     "iopub.status.busy": "2023-09-10T00:53:08.037386Z",
     "iopub.status.idle": "2023-09-10T00:53:08.047760Z",
     "shell.execute_reply": "2023-09-10T00:53:08.046725Z",
     "shell.execute_reply.started": "2023-09-10T00:53:08.037738Z"
    }
   },
   "source": [
    "$\\frac{p}{n} = k(\\frac{α}{β} + \\frac{β}{β}) $\n",
    "</br></br>\n",
    "$\\frac{p}{n} = k(\\frac{α + β}{β}) $\n",
    "</br></br>\n",
    "Since $α + β = 1$\n",
    "</br></br>\n",
    "$\\frac{p}{n} = k(\\frac{1}{β}) $\n",
    "</br></br>\n",
    "$β\\frac{p}{n} = k$\n",
    "</br></br>\n",
    "Since $β = 1-α$\n",
    "</br></br>\n",
    "$k = (1-α)\\frac{p}{n})$\n",
    "\n",
    "__Yay, $P_{max}$ for k is confirmed!__"
   ]
  },
  {
   "cell_type": "markdown",
   "id": "9cb7be43-f846-4695-b3c2-ad9af5e0161a",
   "metadata": {},
   "source": [
    "Back to \n",
    "</br>\n",
    "$βmL  = αkn $"
   ]
  },
  {
   "cell_type": "markdown",
   "id": "e599d4bb-0320-4961-a50d-25a9465af1f7",
   "metadata": {},
   "source": [
    "substituting $n = \\frac{p-mL}{k}$\n",
    "</br></br>\n",
    "$βmL  = α(p-mL) $\n",
    "</br></br>\n",
    "$L  = \\frac{α}{β}\\frac{p-mL}{m} $\n",
    "</br></br>\n",
    "$L  = \\frac{α}{β}(\\frac{p}{m} - L) $\n",
    "</br></br>\n",
    "$ \\frac{β}{α} L = \\frac{p}{m} - L $\n",
    "</br></br>\n",
    "$ \\frac{β}{α} L + L= \\frac{p}{m} $\n",
    "</br></br>\n",
    "$ (\\frac{β}{α}+1) L= \\frac{p}{m} $\n",
    "</br></br>\n",
    "$ (\\frac{β+α}{α}) L= \\frac{p}{m} $\n",
    "</br></br>\n",
    "$ (\\frac{1}{α}) L= \\frac{p}{m} $\n",
    "</br></br>\n",
    "$  L= α\\frac{p}{m} $\n",
    "</br></br>\n",
    "__Yay, we confirmed the Pmax for L!__"
   ]
  },
  {
   "cell_type": "markdown",
   "id": "3983c75e-a21f-4b61-8586-f437a92fa856",
   "metadata": {},
   "source": [
    "__22.__ Referring to exercise 21, we now suppose that the production is fixed at $ bLαK^{1-α} = Q$, where Q is a constant.  What values of L and K minimize the cost function $C(L,K) = mL + nK$?"
   ]
  },
  {
   "cell_type": "markdown",
   "id": "4a836357-cba6-4106-9c03-f8bbc55ef856",
   "metadata": {},
   "source": [
    "************Not finished with this problem ***************\n",
    "\n",
    "\n",
    "Now the function is $C(L,K)$ and constraint $ bLαK^{1-α} = Q$\n",
    "</br>\n",
    "LaGrange, look for values of $L$, $K$ and $λ$, such that $∇C = λ∇g(L,K) $\n",
    "</br></br>\n",
    "$∇C_L = m = λ(bαK^{1-α})$\n",
    "</br></br>\n",
    "$∇C_K = n = λ((1-α)bLαK^{-α})$\n",
    "</br></br>\n",
    "and the constraint equation\n",
    "</br></br>\n",
    "$bLαK^{1-α} = Q$"
   ]
  },
  {
   "cell_type": "markdown",
   "id": "21db4551-1365-44b2-871f-964fb973b700",
   "metadata": {
    "execution": {
     "iopub.execute_input": "2023-09-10T02:07:29.181400Z",
     "iopub.status.busy": "2023-09-10T02:07:29.181011Z",
     "iopub.status.idle": "2023-09-10T02:07:29.187481Z",
     "shell.execute_reply": "2023-09-10T02:07:29.186150Z",
     "shell.execute_reply.started": "2023-09-10T02:07:29.181369Z"
    }
   },
   "source": [
    "As with the first set of equations, find lambda and then substitute to solve equations.\n",
    "\n",
    "$λ = \\frac{n}{(1-α)bLαK^{-α}}$ "
   ]
  },
  {
   "cell_type": "markdown",
   "id": "0678d8bd-6bd5-4c60-b510-9b865dd2dbe7",
   "metadata": {},
   "source": [
    "$ m = (\\frac{n}{(1-α)bLαK^{-α}})(bαK^{1-α}) $"
   ]
  },
  {
   "cell_type": "markdown",
   "id": "0b0a96d3-5918-46df-9ed8-c4fb45d1ff2a",
   "metadata": {
    "execution": {
     "iopub.execute_input": "2023-09-12T01:10:31.697398Z",
     "iopub.status.busy": "2023-09-12T01:10:31.697031Z",
     "iopub.status.idle": "2023-09-12T01:10:31.703192Z",
     "shell.execute_reply": "2023-09-12T01:10:31.701827Z",
     "shell.execute_reply.started": "2023-09-12T01:10:31.697373Z"
    }
   },
   "source": [
    "$ m = (\\frac{n}{(1-α)LK^{-α}})(K^{1-α})$"
   ]
  },
  {
   "cell_type": "markdown",
   "id": "99df0b53-d7d9-4b92-9c81-427098e6adcf",
   "metadata": {},
   "source": [
    "$ L = (\\frac{1}{1-α})(\\frac{n}{m})(\\frac{K^{1-α}}{K^{-α}}) = (\\frac{K}{1-α})(\\frac{n}{m})$ "
   ]
  },
  {
   "cell_type": "markdown",
   "id": "99e1af77-a713-43ae-a320-db6d3dd62b75",
   "metadata": {},
   "source": [
    "$ L = \\frac{Kn}{(1-α)m}$"
   ]
  },
  {
   "cell_type": "markdown",
   "id": "1c7d0705-031b-4671-b651-6fb1b9950494",
   "metadata": {
    "execution": {
     "iopub.execute_input": "2023-09-12T01:20:07.634207Z",
     "iopub.status.busy": "2023-09-12T01:20:07.633846Z",
     "iopub.status.idle": "2023-09-12T01:20:07.639562Z",
     "shell.execute_reply": "2023-09-12T01:20:07.638405Z",
     "shell.execute_reply.started": "2023-09-12T01:20:07.634184Z"
    }
   },
   "source": [
    "or $ K = \\frac{(1-α)m(L)}{n}$"
   ]
  },
  {
   "cell_type": "markdown",
   "id": "a2c292dc-bb5e-4457-a3d3-acd817953aea",
   "metadata": {
    "execution": {
     "iopub.execute_input": "2023-09-12T01:39:40.756272Z",
     "iopub.status.busy": "2023-09-12T01:39:40.755879Z",
     "iopub.status.idle": "2023-09-12T01:39:40.762249Z",
     "shell.execute_reply": "2023-09-12T01:39:40.760976Z",
     "shell.execute_reply.started": "2023-09-12T01:39:40.756245Z"
    }
   },
   "source": [
    "Substituting back into constraint equation:</br>\n",
    "$bLαK^{1-α} = Q$\n",
    "</br>"
   ]
  },
  {
   "cell_type": "markdown",
   "id": "3e724b08-6e5a-4d3a-b778-d821f9096bd4",
   "metadata": {
    "execution": {
     "iopub.execute_input": "2023-09-12T01:40:41.404924Z",
     "iopub.status.busy": "2023-09-12T01:40:41.404563Z",
     "iopub.status.idle": "2023-09-12T01:40:41.410605Z",
     "shell.execute_reply": "2023-09-12T01:40:41.409362Z",
     "shell.execute_reply.started": "2023-09-12T01:40:41.404899Z"
    }
   },
   "source": [
    "$b(\\frac{nK}{(1-α)m})αK^{1-α} = Q$"
   ]
  },
  {
   "cell_type": "markdown",
   "id": "0d20361b-dd8a-40f4-af02-bd8a0649fb4f",
   "metadata": {
    "execution": {
     "iopub.execute_input": "2023-09-12T01:42:14.591289Z",
     "iopub.status.busy": "2023-09-12T01:42:14.590892Z",
     "iopub.status.idle": "2023-09-12T01:42:14.597066Z",
     "shell.execute_reply": "2023-09-12T01:42:14.595933Z",
     "shell.execute_reply.started": "2023-09-12T01:42:14.591261Z"
    }
   },
   "source": [
    "$(K)K^{1-α} = \\frac{(1-α)}{α}\\frac{Qm}{bn}$"
   ]
  },
  {
   "cell_type": "markdown",
   "id": "569392ce-7005-487a-b0a2-56118ec44758",
   "metadata": {
    "execution": {
     "iopub.execute_input": "2023-09-12T01:45:21.861673Z",
     "iopub.status.busy": "2023-09-12T01:45:21.861294Z",
     "iopub.status.idle": "2023-09-12T01:45:21.866991Z",
     "shell.execute_reply": "2023-09-12T01:45:21.865748Z",
     "shell.execute_reply.started": "2023-09-12T01:45:21.861646Z"
    }
   },
   "source": [
    "$(K)K^β = \\frac{β}{α}\\frac{Qm}{bn}$"
   ]
  },
  {
   "cell_type": "markdown",
   "id": "73003240-f619-45d5-afb6-c6f81d57e1f7",
   "metadata": {
    "execution": {
     "iopub.execute_input": "2023-09-12T01:45:56.864701Z",
     "iopub.status.busy": "2023-09-12T01:45:56.864337Z",
     "iopub.status.idle": "2023-09-12T01:45:56.874111Z",
     "shell.execute_reply": "2023-09-12T01:45:56.873017Z",
     "shell.execute_reply.started": "2023-09-12T01:45:56.864676Z"
    }
   },
   "source": [
    "$K^{β+1} = (\\frac{β}{α})(\\frac{Qm}{bn})$"
   ]
  },
  {
   "cell_type": "markdown",
   "id": "38858920-0b8d-4a80-9076-edab8a3e495c",
   "metadata": {
    "execution": {
     "iopub.execute_input": "2023-09-12T01:47:45.601131Z",
     "iopub.status.busy": "2023-09-12T01:47:45.600769Z",
     "iopub.status.idle": "2023-09-12T01:47:45.606575Z",
     "shell.execute_reply": "2023-09-12T01:47:45.605360Z",
     "shell.execute_reply.started": "2023-09-12T01:47:45.601106Z"
    }
   },
   "source": [
    "$K^{-α} = (\\frac{β}{α})(\\frac{Qm}{bn}) = \\frac{Qmβ}{bnα}$, okay.... "
   ]
  },
  {
   "cell_type": "markdown",
   "id": "5d3e4d26-0d5b-4072-b864-2dce73320828",
   "metadata": {
    "execution": {
     "iopub.execute_input": "2023-09-12T02:15:33.601854Z",
     "iopub.status.busy": "2023-09-12T02:15:33.601483Z",
     "iopub.status.idle": "2023-09-12T02:15:33.607870Z",
     "shell.execute_reply": "2023-09-12T02:15:33.606473Z",
     "shell.execute_reply.started": "2023-09-12T02:15:33.601829Z"
    }
   },
   "source": [
    "From constraint equation:\n",
    "$ bαK^{1-α} = \\frac{Q}{L}$"
   ]
  },
  {
   "cell_type": "markdown",
   "id": "3ffedd13-dcb0-48de-bfc3-fd8876df790a",
   "metadata": {
    "execution": {
     "iopub.execute_input": "2023-09-12T02:16:29.722121Z",
     "iopub.status.busy": "2023-09-12T02:16:29.721756Z",
     "iopub.status.idle": "2023-09-12T02:16:29.727654Z",
     "shell.execute_reply": "2023-09-12T02:16:29.726437Z",
     "shell.execute_reply.started": "2023-09-12T02:16:29.722096Z"
    }
   },
   "source": [
    "$ m = (\\frac{n}{(1-α)bLαK^{-α}})(\\frac{Q}{L})$"
   ]
  },
  {
   "cell_type": "markdown",
   "id": "d246f72a-cd5a-483a-b032-7e967c7ed60d",
   "metadata": {
    "execution": {
     "iopub.execute_input": "2023-09-12T02:18:14.495568Z",
     "iopub.status.busy": "2023-09-12T02:18:14.495194Z",
     "iopub.status.idle": "2023-09-12T02:18:14.501323Z",
     "shell.execute_reply": "2023-09-12T02:18:14.500120Z",
     "shell.execute_reply.started": "2023-09-12T02:18:14.495541Z"
    }
   },
   "source": [
    "$L^2 = (\\frac{Qn}{m(1-α)bα(\\frac{Qmβ}{bnα})}) = (\\frac{Qn}{m(1-α)bα})(\\frac{bnα}{Qmβ})$"
   ]
  },
  {
   "cell_type": "markdown",
   "id": "f040becc-2355-467b-945a-b9c1bc1e1d18",
   "metadata": {},
   "source": [
    "$ L^2 = (\\frac{n^2}{m^2(1-α)β}) = (\\frac{n^2}{m^2β^2})$"
   ]
  },
  {
   "cell_type": "markdown",
   "id": "9a0b49d3-959b-4703-ac6e-ed05de357867",
   "metadata": {
    "execution": {
     "iopub.execute_input": "2023-09-12T02:28:43.257640Z",
     "iopub.status.busy": "2023-09-12T02:28:43.257271Z",
     "iopub.status.idle": "2023-09-12T02:28:43.262892Z",
     "shell.execute_reply": "2023-09-12T02:28:43.261828Z",
     "shell.execute_reply.started": "2023-09-12T02:28:43.257614Z"
    }
   },
   "source": [
    "$ L = \\sqrt{\\frac{n^2}{m^2β^2}} = \\frac{\\sqrt{n^2}}{\\sqrt{m^2β^2}}$ This looks to be right for the critical points of L</br>\n",
    "\n",
    "from above</br>\n",
    "\n",
    "$ K = \\frac{(1-α)m(L)}{n} = (\\frac{(1-α)m}{n})(\\frac{\\sqrt{n^2}}{\\sqrt{m^2β^2}}) = ±1 $  Is this correct?"
   ]
  },
  {
   "cell_type": "markdown",
   "id": "8f3159df-7d14-40d4-babd-a66f3996aa4f",
   "metadata": {},
   "source": [
    "Ok, I have had enough for right now..."
   ]
  },
  {
   "cell_type": "markdown",
   "id": "cbe63209-6099-4363-894b-5d36ee4878d5",
   "metadata": {},
   "source": [
    "Trying to solve another way:</br>\n",
    "$∇C_L = m = λ(bαK^{1-α})$\n",
    "</br></br>\n",
    "$∇C_K = n = λ((1-α)bLαK^{-α})$"
   ]
  },
  {
   "cell_type": "markdown",
   "id": "cf314ae0-f6b8-4915-a707-0c990a936662",
   "metadata": {
    "execution": {
     "iopub.execute_input": "2023-09-10T02:08:58.190894Z",
     "iopub.status.busy": "2023-09-10T02:08:58.190522Z",
     "iopub.status.idle": "2023-09-10T02:08:58.196088Z",
     "shell.execute_reply": "2023-09-10T02:08:58.195014Z",
     "shell.execute_reply.started": "2023-09-10T02:08:58.190866Z"
    },
    "tags": []
   },
   "source": [
    "$\\frac{m}{bαK^{1-α}} = λ$\n",
    "\n",
    "$ n = \\frac{m}{bαK^{1-α}}((1-α)bLαK^{-α}) $\n",
    "</br>\n",
    "simplifying\n"
   ]
  },
  {
   "cell_type": "markdown",
   "id": "41e3ed14-a0df-4064-a1ff-0ef86e666f8a",
   "metadata": {},
   "source": [
    "$ n = \\frac{mLK^{-α}}{K^{1-α}}(1-α) $\n",
    "</br>\n",
    "$ n = \\frac{mLK^{-α}}{K^{1-α}}(1-α) $\n",
    "</br>\n",
    "$ n = \\frac{mL}{K}(1-α) $"
   ]
  },
  {
   "cell_type": "markdown",
   "id": "83e7a2d6-d71e-41d7-ab56-f9fc2c9bf4c9",
   "metadata": {
    "execution": {
     "iopub.execute_input": "2023-09-12T01:57:00.626594Z",
     "iopub.status.busy": "2023-09-12T01:57:00.626228Z",
     "iopub.status.idle": "2023-09-12T01:57:00.631747Z",
     "shell.execute_reply": "2023-09-12T01:57:00.630614Z",
     "shell.execute_reply.started": "2023-09-12T01:57:00.626568Z"
    }
   },
   "source": [
    "$ K = \\frac{mL}{n}(1-α) $\n",
    "or</br>\n",
    "$ L = \\frac{nK}{m(1-α)}$ these are the same values as above"
   ]
  },
  {
   "cell_type": "markdown",
   "id": "e64b227d-f798-4a58-9179-a5b2fa14d9b7",
   "metadata": {},
   "source": [
    "From constraint equation:\n",
    "$ bαL = \\frac{Q}{K^{1-α}}$"
   ]
  },
  {
   "cell_type": "markdown",
   "id": "b5ebcc40-4428-48e2-8eef-0a19ff7e7261",
   "metadata": {
    "execution": {
     "iopub.execute_input": "2023-09-12T02:35:31.262300Z",
     "iopub.status.busy": "2023-09-12T02:35:31.261935Z",
     "iopub.status.idle": "2023-09-12T02:35:31.267948Z",
     "shell.execute_reply": "2023-09-12T02:35:31.266722Z",
     "shell.execute_reply.started": "2023-09-12T02:35:31.262274Z"
    }
   },
   "source": [
    "$ n = \\frac{m}{bαK^{1-α}}((1-α)bLαK^{-α}) $"
   ]
  },
  {
   "cell_type": "markdown",
   "id": "88787ed8-60b7-4604-8abe-fe46839ec151",
   "metadata": {
    "execution": {
     "iopub.execute_input": "2023-09-12T02:42:18.500408Z",
     "iopub.status.busy": "2023-09-12T02:42:18.500015Z",
     "iopub.status.idle": "2023-09-12T02:42:18.506123Z",
     "shell.execute_reply": "2023-09-12T02:42:18.504946Z",
     "shell.execute_reply.started": "2023-09-12T02:42:18.500380Z"
    }
   },
   "source": [
    "$ n = \\frac{m}{bαK^{1-α}}((1-α)(\\frac{Q}{K^{1-α}})K^{-α}) $"
   ]
  },
  {
   "cell_type": "markdown",
   "id": "5a297591-21c3-4c8e-a640-6879ac16b32f",
   "metadata": {
    "execution": {
     "iopub.execute_input": "2023-09-12T02:36:37.143169Z",
     "iopub.status.busy": "2023-09-12T02:36:37.142803Z",
     "iopub.status.idle": "2023-09-12T02:36:37.151178Z",
     "shell.execute_reply": "2023-09-12T02:36:37.150069Z",
     "shell.execute_reply.started": "2023-09-12T02:36:37.143144Z"
    }
   },
   "source": [
    "$ \\frac{αnb}{mβQ} = \\frac{1}{K^{1-α}}(\\frac{K^{-α}}{K^{1-α}}) $"
   ]
  },
  {
   "cell_type": "markdown",
   "id": "dc5131de-3560-4ee1-8b41-5baea5aff8d2",
   "metadata": {
    "execution": {
     "iopub.execute_input": "2023-09-12T02:47:36.264034Z",
     "iopub.status.busy": "2023-09-12T02:47:36.263667Z",
     "iopub.status.idle": "2023-09-12T02:47:36.269335Z",
     "shell.execute_reply": "2023-09-12T02:47:36.268213Z",
     "shell.execute_reply.started": "2023-09-12T02:47:36.264009Z"
    }
   },
   "source": [
    "$ \\frac{αnb}{mβQ} = K^{2-α} $, this is also not in a useful form"
   ]
  },
  {
   "cell_type": "code",
   "execution_count": null,
   "id": "d45ac182-87c4-431e-9af2-821f4c440c86",
   "metadata": {},
   "outputs": [],
   "source": []
  }
 ],
 "metadata": {
  "kernelspec": {
   "display_name": "saturn (Python 3)",
   "language": "python",
   "name": "python3"
  },
  "language_info": {
   "codemirror_mode": {
    "name": "ipython",
    "version": 3
   },
   "file_extension": ".py",
   "mimetype": "text/x-python",
   "name": "python",
   "nbconvert_exporter": "python",
   "pygments_lexer": "ipython3",
   "version": "3.9.15"
  }
 },
 "nbformat": 4,
 "nbformat_minor": 5
}
