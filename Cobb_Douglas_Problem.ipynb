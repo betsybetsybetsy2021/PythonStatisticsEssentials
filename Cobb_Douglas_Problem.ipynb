{
 "cells": [
  {
   "cell_type": "markdown",
   "id": "ba975779-d443-44c3-8735-0b321823814f",
   "metadata": {
    "execution": {
     "iopub.execute_input": "2023-09-09T22:39:12.405777Z",
     "iopub.status.busy": "2023-09-09T22:39:12.405369Z",
     "iopub.status.idle": "2023-09-09T22:39:12.416241Z",
     "shell.execute_reply": "2023-09-09T22:39:12.415001Z",
     "shell.execute_reply.started": "2023-09-09T22:39:12.405746Z"
    }
   },
   "source": [
    "__Multivariable Calculus - Fourth Edition</br>\n",
    "by James Stewart </br>\n",
    "Chapter 15 - __"
   ]
  },
  {
   "cell_type": "markdown",
   "id": "4ca22356-1906-44ba-ba04-32dc38aea0c7",
   "metadata": {
    "execution": {
     "iopub.execute_input": "2023-09-10T00:23:41.608957Z",
     "iopub.status.busy": "2023-09-10T00:23:41.608561Z",
     "iopub.status.idle": "2023-09-10T00:23:41.615035Z",
     "shell.execute_reply": "2023-09-10T00:23:41.613789Z",
     "shell.execute_reply.started": "2023-09-10T00:23:41.608927Z"
    }
   },
   "source": [
    "Using LaGrange multipliers to find max values of f(x,y,z) subject to constraint g(x,y,z) = k."
   ]
  },
  {
   "cell_type": "markdown",
   "id": "41c956fe-aff3-4e4c-b79a-911400b51729",
   "metadata": {},
   "source": [
    "__Exercise 21__\n",
    "\n",
    "The total production P of a certain product depends on the amount of L of labor used and the amount K of capital investment. In sections 15.1 and 15.3, we discussed how the Cobb-Douglas model </br>\n",
    "$ P = bLαK^{1-α} $\n",
    "</br>\n",
    "follows from certain economic assumptions, where β and α are positive constants and α≤1.  If the cost of unit of labor is m, and the cost of a unit of capital is n, and the company can only spend p dollars as its total budget, then maximizing the production p is subject to the constraint </br>\n",
    "$ mL + nK = p$\n",
    "Show that maximum production occurs when \n",
    "\n",
    "$L = \\frac{αp}{m} $ and $ K = \\frac{(1-α)p}{n} $\n",
    "\n"
   ]
  },
  {
   "cell_type": "markdown",
   "id": "353c8c6d-1476-481f-a588-5a65d769ebd8",
   "metadata": {
    "execution": {
     "iopub.execute_input": "2023-09-09T22:53:43.566919Z",
     "iopub.status.busy": "2023-09-09T22:53:43.566558Z",
     "iopub.status.idle": "2023-09-09T22:53:43.572403Z",
     "shell.execute_reply": "2023-09-09T22:53:43.571239Z",
     "shell.execute_reply.started": "2023-09-09T22:53:43.566891Z"
    }
   },
   "source": [
    "Production equation:\n",
    "$P(mL,nK) = b(mL)^α(nk)^β = bm^αL^αn^βK^β$ "
   ]
  },
  {
   "cell_type": "markdown",
   "id": "47fe1628-2b05-4268-bacb-e43e17b5429c",
   "metadata": {},
   "source": [
    "LaGrange, look for values of $L$, $K$ and $λ$, such that $∇P = λ∇g(L,K) $\n",
    "\n",
    "$∇P_L = αbm^αL^{α-1}n^βk^β = λ(m) $\n",
    "</br></br>\n",
    "$∇P_K = βbm^αL^αn^βk^{β-1} = λ(n) $</br></br>\n",
    "and the constraint equation\n",
    "</br></br>\n",
    "$ mL + nk = p $\n",
    "which can also be written as: </br></br>\n",
    "$ m = \\frac{p-nk}{L} $\n",
    "</br></br>\n",
    "$ n = \\frac{p-mL}{k} $"
   ]
  },
  {
   "cell_type": "markdown",
   "id": "44c544f9-b416-416e-a7b8-e9b50867a5b3",
   "metadata": {
    "execution": {
     "iopub.execute_input": "2023-09-09T22:59:38.201207Z",
     "iopub.status.busy": "2023-09-09T22:59:38.200828Z",
     "iopub.status.idle": "2023-09-09T22:59:38.209077Z",
     "shell.execute_reply": "2023-09-09T22:59:38.207805Z",
     "shell.execute_reply.started": "2023-09-09T22:59:38.201177Z"
    }
   },
   "source": [
    "Finding λ to solve the set of equations</br>\n",
    "\n",
    "$∇P_L = αbm^αL^{α-1}n^βk^β = λ(m) $\n",
    "\n",
    "$∇P_L = αb\\frac{m^α}{m}L^{α-1}n^βk^β =  αbm^{α-1}L^{α-1}n^βk^β = λ$"
   ]
  },
  {
   "cell_type": "markdown",
   "id": "8fd5173f-7840-4b28-849c-ef59dc349858",
   "metadata": {},
   "source": [
    "Substituting into</br>\n",
    "\n",
    "$∇P_K = βbm^αL^αn^βk^{β-1} = λ(n) $\n",
    "\n",
    "$∇P_K = βbm^αL^αn^βk^{β-1} = αbm^{α-1}L^{α-1}n^βk^β(n) $\n"
   ]
  },
  {
   "cell_type": "markdown",
   "id": "408a4bfa-4005-4a79-82bc-ba1cd7fc24b3",
   "metadata": {
    "execution": {
     "iopub.execute_input": "2023-09-09T23:53:54.209221Z",
     "iopub.status.busy": "2023-09-09T23:53:54.208833Z",
     "iopub.status.idle": "2023-09-09T23:53:54.214655Z",
     "shell.execute_reply": "2023-09-09T23:53:54.213526Z",
     "shell.execute_reply.started": "2023-09-09T23:53:54.209192Z"
    }
   },
   "source": [
    "Simplifying\n",
    "\n",
    "$β\\frac{m^α}{m^{α-1}} \\frac{L^α}{L^{α-1}}  = α\\frac{k^β}{k^{β-1}}(n) $"
   ]
  },
  {
   "cell_type": "markdown",
   "id": "0709b6fd-5545-4299-ae87-baacb90e6857",
   "metadata": {},
   "source": [
    "$βmL  = αkn $"
   ]
  },
  {
   "cell_type": "markdown",
   "id": "3d73cb03-4a54-4862-aac3-a11711d907a0",
   "metadata": {
    "execution": {
     "iopub.execute_input": "2023-09-09T23:59:14.722493Z",
     "iopub.status.busy": "2023-09-09T23:59:14.722118Z",
     "iopub.status.idle": "2023-09-09T23:59:14.728359Z",
     "shell.execute_reply": "2023-09-09T23:59:14.727138Z",
     "shell.execute_reply.started": "2023-09-09T23:59:14.722466Z"
    }
   },
   "source": [
    "substituting $m = \\frac{p-nk}{L}$\n",
    "\n",
    "$β(\\frac{p-nk}{L})L  = αkn $"
   ]
  },
  {
   "cell_type": "markdown",
   "id": "849e6409-c032-4d53-8109-a76c3c9994a4",
   "metadata": {
    "execution": {
     "iopub.execute_input": "2023-09-10T00:46:57.582050Z",
     "iopub.status.busy": "2023-09-10T00:46:57.581672Z",
     "iopub.status.idle": "2023-09-10T00:46:57.587663Z",
     "shell.execute_reply": "2023-09-10T00:46:57.586472Z",
     "shell.execute_reply.started": "2023-09-10T00:46:57.582024Z"
    }
   },
   "source": [
    "$(p-nk) = \\frac{α}{β}kn $"
   ]
  },
  {
   "cell_type": "markdown",
   "id": "74e64705-63cc-4c6e-8dc1-eb718a9c08a5",
   "metadata": {},
   "source": [
    "$\\frac{(p-nk)}{k} = \\frac{α}{β}n $"
   ]
  },
  {
   "cell_type": "markdown",
   "id": "fc37cc2f-c594-4ada-9b81-8fe0d78b73f5",
   "metadata": {},
   "source": [
    "$\\frac{p}{k} = \\frac{α}{β}n + n $"
   ]
  },
  {
   "cell_type": "markdown",
   "id": "beb5e2fe-9b1c-40cf-b4b1-ee463b9e0c63",
   "metadata": {
    "execution": {
     "iopub.execute_input": "2023-09-10T00:51:32.102556Z",
     "iopub.status.busy": "2023-09-10T00:51:32.102202Z",
     "iopub.status.idle": "2023-09-10T00:51:32.108572Z",
     "shell.execute_reply": "2023-09-10T00:51:32.107335Z",
     "shell.execute_reply.started": "2023-09-10T00:51:32.102530Z"
    }
   },
   "source": [
    "$\\frac{p}{k} = n(\\frac{α}{β} + 1) $"
   ]
  },
  {
   "cell_type": "markdown",
   "id": "0bcd2e24-7e31-43bb-8f4c-6d1b962aeebb",
   "metadata": {},
   "source": [
    "$\\frac{p}{n} = k(\\frac{α}{β} + 1) $"
   ]
  },
  {
   "cell_type": "markdown",
   "id": "2b6ba726-27e5-467b-b9a3-b8be50bb100f",
   "metadata": {
    "execution": {
     "iopub.execute_input": "2023-09-10T00:53:08.037777Z",
     "iopub.status.busy": "2023-09-10T00:53:08.037386Z",
     "iopub.status.idle": "2023-09-10T00:53:08.047760Z",
     "shell.execute_reply": "2023-09-10T00:53:08.046725Z",
     "shell.execute_reply.started": "2023-09-10T00:53:08.037738Z"
    }
   },
   "source": [
    "$\\frac{p}{n} = k(\\frac{α}{β} + \\frac{β}{β}) $\n",
    "</br></br>\n",
    "$\\frac{p}{n} = k(\\frac{α + β}{β}) $\n",
    "</br></br>\n",
    "Since $α + β = 1$\n",
    "</br></br>\n",
    "$\\frac{p}{n} = k(\\frac{1}{β}) $\n",
    "</br></br>\n",
    "$β\\frac{p}{n} = k$\n",
    "</br></br>\n",
    "Since $β = 1-α$\n",
    "</br></br>\n",
    "$k = (1-α)\\frac{p}{n})$\n",
    "\n",
    "Yay, $P_{max}$ for k is confirmed!"
   ]
  },
  {
   "cell_type": "markdown",
   "id": "9cb7be43-f846-4695-b3c2-ad9af5e0161a",
   "metadata": {},
   "source": [
    "Back to \n",
    "</br>\n",
    "$βmL  = αkn $"
   ]
  },
  {
   "cell_type": "markdown",
   "id": "e599d4bb-0320-4961-a50d-25a9465af1f7",
   "metadata": {},
   "source": [
    "substituting $n = \\frac{p-mL}{k}$\n",
    "</br></br>\n",
    "$βmL  = α(p-mL) $\n",
    "</br></br>\n",
    "$L  = \\frac{α}{β}\\frac{p-mL}{m} $\n",
    "</br></br>\n",
    "$L  = \\frac{α}{β}(\\frac{p}{m} - L) $\n",
    "</br></br>\n",
    "$ \\frac{β}{α} L = \\frac{p}{m} - L $\n",
    "</br></br>\n",
    "$ \\frac{β}{α} L + L= \\frac{p}{m} $\n",
    "</br></br>\n",
    "$ (\\frac{β}{α}+1) L= \\frac{p}{m} $\n",
    "</br></br>\n",
    "$ (\\frac{β+α}{α}) L= \\frac{p}{m} $\n",
    "</br></br>\n",
    "$ (\\frac{1}{α}) L= \\frac{p}{m} $\n",
    "</br></br>\n",
    "$  L= α\\frac{p}{m} $\n",
    "</br></br>\n",
    "Yay, we confirmed the Pmax for L!"
   ]
  },
  {
   "cell_type": "markdown",
   "id": "3983c75e-a21f-4b61-8586-f437a92fa856",
   "metadata": {},
   "source": [
    "__22.__ Referring to exercise 21, we now suppose that the production is fixed at $ bLαK^{1-α} = Q$, where Q is a constant.  What values of L and K minimize the cost function $C(L,K) = mL + nK$?"
   ]
  },
  {
   "cell_type": "markdown",
   "id": "4a836357-cba6-4106-9c03-f8bbc55ef856",
   "metadata": {},
   "source": [
    "************Not finished with this problem ***************\n",
    "\n",
    "\n",
    "Now the function is $C(L,K)$ and constraint $ bLαK^{1-α} = Q$\n",
    "</br>\n",
    "LaGrange, look for values of $L$, $K$ and $λ$, such that $∇C = λ∇g(L,K) $\n",
    "</br></br>\n",
    "$∇C_L = m = λ(bαK^{1-α})$\n",
    "</br></br>\n",
    "$∇C_K = n = λ((1-α)bLαK^{-α})$\n",
    "</br></br>\n",
    "and the constraint equation\n",
    "</br></br>\n",
    "$bLαK^{1-α} = Q$\n",
    "</br></br>"
   ]
  },
  {
   "cell_type": "markdown",
   "id": "21db4551-1365-44b2-871f-964fb973b700",
   "metadata": {
    "execution": {
     "iopub.execute_input": "2023-09-10T02:07:29.181400Z",
     "iopub.status.busy": "2023-09-10T02:07:29.181011Z",
     "iopub.status.idle": "2023-09-10T02:07:29.187481Z",
     "shell.execute_reply": "2023-09-10T02:07:29.186150Z",
     "shell.execute_reply.started": "2023-09-10T02:07:29.181369Z"
    }
   },
   "source": [
    "As with the first set of equations, find lambda and then substitute to solve equations.\n",
    "\n",
    "$\\frac{m}{bαK^{1-α}} = λ$"
   ]
  },
  {
   "cell_type": "markdown",
   "id": "cf314ae0-f6b8-4915-a707-0c990a936662",
   "metadata": {
    "execution": {
     "iopub.execute_input": "2023-09-10T02:08:58.190894Z",
     "iopub.status.busy": "2023-09-10T02:08:58.190522Z",
     "iopub.status.idle": "2023-09-10T02:08:58.196088Z",
     "shell.execute_reply": "2023-09-10T02:08:58.195014Z",
     "shell.execute_reply.started": "2023-09-10T02:08:58.190866Z"
    },
    "tags": []
   },
   "source": [
    "$ n = \\frac{m}{bαK^{1-α}}((1-α)bLαK^{-α}) $\n",
    "</br>\n",
    "simplifying\n"
   ]
  },
  {
   "cell_type": "markdown",
   "id": "41e3ed14-a0df-4064-a1ff-0ef86e666f8a",
   "metadata": {},
   "source": [
    "</br>\n",
    "$ n = \\frac{mLK^{-α}}{K^{1-α}}(1-α) $\n",
    "</br>\n",
    "$ n = \\frac{mLK^{-α}}{K^{1-α}}(1-α) $\n",
    "</br>\n",
    "$ n = \\frac{mL}{K}(1-α) $"
   ]
  },
  {
   "cell_type": "code",
   "execution_count": null,
   "id": "c907df84-d1b0-4ba5-841b-0758f2aaca46",
   "metadata": {},
   "outputs": [],
   "source": []
  }
 ],
 "metadata": {
  "kernelspec": {
   "display_name": "saturn (Python 3)",
   "language": "python",
   "name": "python3"
  },
  "language_info": {
   "codemirror_mode": {
    "name": "ipython",
    "version": 3
   },
   "file_extension": ".py",
   "mimetype": "text/x-python",
   "name": "python",
   "nbconvert_exporter": "python",
   "pygments_lexer": "ipython3",
   "version": "3.9.15"
  }
 },
 "nbformat": 4,
 "nbformat_minor": 5
}
