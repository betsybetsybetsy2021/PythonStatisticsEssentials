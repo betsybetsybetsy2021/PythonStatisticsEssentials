{
 "cells": [
  {
   "cell_type": "markdown",
   "metadata": {},
   "source": [
    "## Python statistics essential training - 05_04_crossvalidation"
   ]
  },
  {
   "cell_type": "markdown",
   "metadata": {},
   "source": [
    "Standard imports"
   ]
  },
  {
   "cell_type": "code",
   "execution_count": 1,
   "metadata": {
    "execution": {
     "iopub.execute_input": "2023-07-23T23:46:44.563334Z",
     "iopub.status.busy": "2023-07-23T23:46:44.562921Z",
     "iopub.status.idle": "2023-07-23T23:46:44.570004Z",
     "shell.execute_reply": "2023-07-23T23:46:44.569108Z",
     "shell.execute_reply.started": "2023-07-23T23:46:44.563298Z"
    }
   },
   "outputs": [],
   "source": [
    "import math"
   ]
  },
  {
   "cell_type": "code",
   "execution_count": 2,
   "metadata": {
    "execution": {
     "iopub.execute_input": "2023-07-23T23:46:46.574350Z",
     "iopub.status.busy": "2023-07-23T23:46:46.573956Z",
     "iopub.status.idle": "2023-07-23T23:46:46.910804Z",
     "shell.execute_reply": "2023-07-23T23:46:46.910105Z",
     "shell.execute_reply.started": "2023-07-23T23:46:46.574323Z"
    }
   },
   "outputs": [],
   "source": [
    "import numpy as np\n",
    "import pandas as pd"
   ]
  },
  {
   "cell_type": "code",
   "execution_count": 3,
   "metadata": {
    "execution": {
     "iopub.execute_input": "2023-07-23T23:46:48.994036Z",
     "iopub.status.busy": "2023-07-23T23:46:48.993572Z",
     "iopub.status.idle": "2023-07-23T23:46:49.599438Z",
     "shell.execute_reply": "2023-07-23T23:46:49.598687Z",
     "shell.execute_reply.started": "2023-07-23T23:46:48.994009Z"
    }
   },
   "outputs": [],
   "source": [
    "import matplotlib\n",
    "import matplotlib.pyplot as pp"
   ]
  },
  {
   "cell_type": "code",
   "execution_count": 4,
   "metadata": {
    "execution": {
     "iopub.execute_input": "2023-07-23T23:46:51.624094Z",
     "iopub.status.busy": "2023-07-23T23:46:51.623438Z",
     "iopub.status.idle": "2023-07-23T23:46:51.634508Z",
     "shell.execute_reply": "2023-07-23T23:46:51.633861Z",
     "shell.execute_reply.started": "2023-07-23T23:46:51.624063Z"
    }
   },
   "outputs": [],
   "source": [
    "%matplotlib inline"
   ]
  },
  {
   "cell_type": "code",
   "execution_count": 5,
   "metadata": {
    "execution": {
     "iopub.execute_input": "2023-07-23T23:46:54.239645Z",
     "iopub.status.busy": "2023-07-23T23:46:54.239264Z",
     "iopub.status.idle": "2023-07-23T23:46:54.761029Z",
     "shell.execute_reply": "2023-07-23T23:46:54.760108Z",
     "shell.execute_reply.started": "2023-07-23T23:46:54.239617Z"
    }
   },
   "outputs": [],
   "source": [
    "import statsmodels\n",
    "import statsmodels.api as sm\n",
    "import statsmodels.formula.api as smf"
   ]
  },
  {
   "cell_type": "markdown",
   "metadata": {},
   "source": [
    "Loading gapminder data for year 1985 (Live Aid!)."
   ]
  },
  {
   "cell_type": "code",
   "execution_count": 7,
   "metadata": {
    "execution": {
     "iopub.execute_input": "2023-07-23T23:47:06.243713Z",
     "iopub.status.busy": "2023-07-23T23:47:06.243307Z",
     "iopub.status.idle": "2023-07-23T23:47:06.264797Z",
     "shell.execute_reply": "2023-07-23T23:47:06.264090Z",
     "shell.execute_reply.started": "2023-07-23T23:47:06.243686Z"
    },
    "tags": []
   },
   "outputs": [],
   "source": [
    "gapminder = pd.read_csv('gapminder.csv')"
   ]
  },
  {
   "cell_type": "code",
   "execution_count": 8,
   "metadata": {
    "execution": {
     "iopub.execute_input": "2023-07-23T23:47:09.024466Z",
     "iopub.status.busy": "2023-07-23T23:47:09.024068Z",
     "iopub.status.idle": "2023-07-23T23:47:09.030907Z",
     "shell.execute_reply": "2023-07-23T23:47:09.030102Z",
     "shell.execute_reply.started": "2023-07-23T23:47:09.024439Z"
    }
   },
   "outputs": [],
   "source": [
    "gdata = gapminder.query('year == 1985')"
   ]
  },
  {
   "cell_type": "markdown",
   "metadata": {},
   "source": [
    "Refactored plotting so that it works on arbitrary datasets."
   ]
  },
  {
   "cell_type": "code",
   "execution_count": 9,
   "metadata": {
    "execution": {
     "iopub.execute_input": "2023-07-23T23:47:12.481327Z",
     "iopub.status.busy": "2023-07-23T23:47:12.480943Z",
     "iopub.status.idle": "2023-07-23T23:47:12.489867Z",
     "shell.execute_reply": "2023-07-23T23:47:12.489158Z",
     "shell.execute_reply.started": "2023-07-23T23:47:12.481300Z"
    }
   },
   "outputs": [],
   "source": [
    "def sc(data):\n",
    "    return 1e-6 * data.population, data.region.map({'Africa': 'skyblue', 'Europe': 'gold',\n",
    "                                                   'America': 'palegreen', 'Asia': 'coral'})\n",
    "\n",
    "def plotdata(data=gdata):\n",
    "    size, colors = sc(data)\n",
    "    data.plot.scatter('age5_surviving','babies_per_woman',\n",
    "                      c=colors,s=size,linewidths=0.5,edgecolor='k',alpha=0.5)\n",
    "                      \n",
    "def plotfit(fit,data=gdata):\n",
    "    plotdata(data)\n",
    "\n",
    "    size, colors = sc(data)\n",
    "    pp.scatter(data.age5_surviving,fit.predict(data),\n",
    "               c=colors,s=30,linewidths=0.5,edgecolor='k',marker='D')"
   ]
  },
  {
   "cell_type": "markdown",
   "metadata": {},
   "source": [
    "Model formulas from the last two videos"
   ]
  },
  {
   "cell_type": "code",
   "execution_count": 10,
   "metadata": {
    "execution": {
     "iopub.execute_input": "2023-07-23T23:47:16.297166Z",
     "iopub.status.busy": "2023-07-23T23:47:16.296781Z",
     "iopub.status.idle": "2023-07-23T23:47:16.300932Z",
     "shell.execute_reply": "2023-07-23T23:47:16.300074Z",
     "shell.execute_reply.started": "2023-07-23T23:47:16.297138Z"
    }
   },
   "outputs": [],
   "source": [
    "f_groupmeans = 'babies_per_woman ~ -1 + region'\n",
    "f_surviving = 'babies_per_woman ~ -1 + region + age5_surviving'\n",
    "f_srp = ('babies_per_woman ~ -1 + region + age5_surviving'\n",
    "         '+ age5_surviving:region - age5_surviving + population')"
   ]
  },
  {
   "cell_type": "code",
   "execution_count": null,
   "metadata": {},
   "outputs": [],
   "source": [
    "# Cross validation is used in machine learning\n",
    "# will divide into training data and testing data,\n",
    "# training data will feed the model\n",
    "# testing set will evaluate model prediction error\n"
   ]
  },
  {
   "cell_type": "code",
   "execution_count": 40,
   "metadata": {
    "execution": {
     "iopub.execute_input": "2023-07-24T01:00:59.782946Z",
     "iopub.status.busy": "2023-07-24T01:00:59.782560Z",
     "iopub.status.idle": "2023-07-24T01:00:59.787566Z",
     "shell.execute_reply": "2023-07-24T01:00:59.786839Z",
     "shell.execute_reply.started": "2023-07-24T01:00:59.782918Z"
    },
    "tags": []
   },
   "outputs": [],
   "source": [
    "# \"shuffle\" data using Pandas dataframe model, \n",
    "shuffled = gdata.sample(len(gdata))"
   ]
  },
  {
   "cell_type": "code",
   "execution_count": 41,
   "metadata": {
    "execution": {
     "iopub.execute_input": "2023-07-24T01:01:03.488340Z",
     "iopub.status.busy": "2023-07-24T01:01:03.487865Z",
     "iopub.status.idle": "2023-07-24T01:01:03.493363Z",
     "shell.execute_reply": "2023-07-24T01:01:03.492517Z",
     "shell.execute_reply.started": "2023-07-24T01:01:03.488306Z"
    },
    "tags": []
   },
   "outputs": [],
   "source": [
    "# pandas iloc method selecting every other row\n",
    "training, testing = shuffled.iloc[:len(gdata)//2], shuffled.iloc[len(gdata)//2:]"
   ]
  },
  {
   "cell_type": "code",
   "execution_count": 42,
   "metadata": {
    "execution": {
     "iopub.execute_input": "2023-07-24T01:01:06.027705Z",
     "iopub.status.busy": "2023-07-24T01:01:06.027327Z",
     "iopub.status.idle": "2023-07-24T01:01:06.039683Z",
     "shell.execute_reply": "2023-07-24T01:01:06.036940Z",
     "shell.execute_reply.started": "2023-07-24T01:01:06.027679Z"
    },
    "tags": []
   },
   "outputs": [],
   "source": [
    "surviving = smf.ols(f_surviving, data=training).fit()"
   ]
  },
  {
   "cell_type": "code",
   "execution_count": 43,
   "metadata": {
    "execution": {
     "iopub.execute_input": "2023-07-24T01:01:11.215330Z",
     "iopub.status.busy": "2023-07-24T01:01:11.214730Z",
     "iopub.status.idle": "2023-07-24T01:01:11.350426Z",
     "shell.execute_reply": "2023-07-24T01:01:11.349630Z",
     "shell.execute_reply.started": "2023-07-24T01:01:11.215303Z"
    },
    "tags": []
   },
   "outputs": [
    {
     "data": {
      "image/png": "[encoded data removed]",
      "text/plain": [
       "<Figure size 640x480 with 1 Axes>"
      ]
     },
     "metadata": {},
     "output_type": "display_data"
    }
   ],
   "source": [
    "plotfit(surviving, training)"
   ]
  },
  {
   "cell_type": "code",
   "execution_count": 44,
   "metadata": {
    "execution": {
     "iopub.execute_input": "2023-07-24T01:01:18.413183Z",
     "iopub.status.busy": "2023-07-24T01:01:18.412802Z",
     "iopub.status.idle": "2023-07-24T01:01:18.420786Z",
     "shell.execute_reply": "2023-07-24T01:01:18.419977Z",
     "shell.execute_reply.started": "2023-07-24T01:01:18.413156Z"
    },
    "tags": []
   },
   "outputs": [
    {
     "data": {
      "text/plain": [
       "1.2327442780322282"
      ]
     },
     "execution_count": 44,
     "metadata": {},
     "output_type": "execute_result"
    }
   ],
   "source": [
    "surviving.mse_resid"
   ]
  },
  {
   "cell_type": "code",
   "execution_count": 45,
   "metadata": {
    "execution": {
     "iopub.execute_input": "2023-07-24T01:01:21.538337Z",
     "iopub.status.busy": "2023-07-24T01:01:21.537960Z",
     "iopub.status.idle": "2023-07-24T01:01:21.714868Z",
     "shell.execute_reply": "2023-07-24T01:01:21.714156Z",
     "shell.execute_reply.started": "2023-07-24T01:01:21.538310Z"
    },
    "tags": []
   },
   "outputs": [
    {
     "data": {
      "image/png": "[encoded data removed]",
      "text/plain": [
       "<Figure size 640x480 with 1 Axes>"
      ]
     },
     "metadata": {},
     "output_type": "display_data"
    }
   ],
   "source": [
    "plotfit(surviving, testing)"
   ]
  },
  {
   "cell_type": "code",
   "execution_count": 46,
   "metadata": {
    "execution": {
     "iopub.execute_input": "2023-07-24T01:01:28.107838Z",
     "iopub.status.busy": "2023-07-24T01:01:28.107447Z",
     "iopub.status.idle": "2023-07-24T01:01:28.116811Z",
     "shell.execute_reply": "2023-07-24T01:01:28.116082Z",
     "shell.execute_reply.started": "2023-07-24T01:01:28.107802Z"
    },
    "tags": []
   },
   "outputs": [
    {
     "data": {
      "text/plain": [
       "-0.004090916517972921"
      ]
     },
     "execution_count": 46,
     "metadata": {},
     "output_type": "execute_result"
    }
   ],
   "source": [
    "# to compute the MSE, first get residuals\n",
    "resid = surviving.predict(testing) - testing.babies_per_woman\n",
    "#testing.babies_per_woman is the observed data\n",
    "df = len(testing) - surviving.df_model - 1\n",
    "np.sum(resid*2) / df\n",
    "# dividing by degress of freedom"
   ]
  },
  {
   "cell_type": "code",
   "execution_count": 47,
   "metadata": {
    "execution": {
     "iopub.execute_input": "2023-07-24T01:01:35.072873Z",
     "iopub.status.busy": "2023-07-24T01:01:35.072492Z",
     "iopub.status.idle": "2023-07-24T01:01:35.078462Z",
     "shell.execute_reply": "2023-07-24T01:01:35.077634Z",
     "shell.execute_reply.started": "2023-07-24T01:01:35.072844Z"
    },
    "tags": []
   },
   "outputs": [],
   "source": [
    "def cross_validate(data, formula, response, n=100):\n",
    "    ret = []\n",
    "    \n",
    "    for i in range(n):\n",
    "        shuffled = data.sample(len(data))\n",
    "        \n",
    "        training, testing = shuffled.iloc[:len(data)//2], shuffled.iloc[len(data)//2:]\n",
    "        \n",
    "        trained = smf.ols(f_surviving, data=training).fit()\n",
    "        \n",
    "        resid = trained.predict(testing) - testing[response]\n",
    "        df = len(testing) - trained.df_model - 1\n",
    "        mse = np.sum(resid*2) / df\n",
    "        \n",
    "        ret.append(mse)\n",
    "        \n",
    "    return np.mean(ret)\n",
    "        "
   ]
  },
  {
   "cell_type": "code",
   "execution_count": 48,
   "metadata": {
    "execution": {
     "iopub.execute_input": "2023-07-24T01:01:37.312462Z",
     "iopub.status.busy": "2023-07-24T01:01:37.311918Z",
     "iopub.status.idle": "2023-07-24T01:01:38.139375Z",
     "shell.execute_reply": "2023-07-24T01:01:38.138514Z",
     "shell.execute_reply.started": "2023-07-24T01:01:37.312436Z"
    },
    "tags": []
   },
   "outputs": [
    {
     "data": {
      "text/plain": [
       "0.015042670006450716"
      ]
     },
     "execution_count": 48,
     "metadata": {},
     "output_type": "execute_result"
    }
   ],
   "source": [
    "cross_validate(gdata, f_groupmeans, 'babies_per_woman')"
   ]
  },
  {
   "cell_type": "code",
   "execution_count": 49,
   "metadata": {
    "execution": {
     "iopub.execute_input": "2023-07-24T01:01:40.070625Z",
     "iopub.status.busy": "2023-07-24T01:01:40.070062Z",
     "iopub.status.idle": "2023-07-24T01:01:40.879637Z",
     "shell.execute_reply": "2023-07-24T01:01:40.878963Z",
     "shell.execute_reply.started": "2023-07-24T01:01:40.070597Z"
    },
    "tags": []
   },
   "outputs": [
    {
     "data": {
      "text/plain": [
       "0.01108282200333285"
      ]
     },
     "execution_count": 49,
     "metadata": {},
     "output_type": "execute_result"
    }
   ],
   "source": [
    "cross_validate(gdata, f_surviving, 'babies_per_woman')"
   ]
  },
  {
   "cell_type": "code",
   "execution_count": 50,
   "metadata": {
    "execution": {
     "iopub.execute_input": "2023-07-24T01:01:43.268812Z",
     "iopub.status.busy": "2023-07-24T01:01:43.268254Z",
     "iopub.status.idle": "2023-07-24T01:01:44.091118Z",
     "shell.execute_reply": "2023-07-24T01:01:44.090329Z",
     "shell.execute_reply.started": "2023-07-24T01:01:43.268785Z"
    },
    "tags": []
   },
   "outputs": [
    {
     "data": {
      "text/plain": [
       "0.013131824330837736"
      ]
     },
     "execution_count": 50,
     "metadata": {},
     "output_type": "execute_result"
    }
   ],
   "source": [
    "cross_validate(gdata, f_srp, 'babies_per_woman')"
   ]
  },
  {
   "cell_type": "code",
   "execution_count": null,
   "metadata": {},
   "outputs": [],
   "source": [
    "# lowest value is the \"surviving\" model \n",
    "# K-fold cross validation in real world use, \n",
    "# is folding into k subsets and then k sucessive trials, one subset held for testing and trains on the rest\n",
    "# Sci-kit learn supports k-fold"
   ]
  },
  {
   "cell_type": "code",
   "execution_count": null,
   "metadata": {},
   "outputs": [],
   "source": []
  }
 ],
 "metadata": {
  "kernelspec": {
   "display_name": "saturn (Python 3)",
   "language": "python",
   "name": "python3"
  },
  "language_info": {
   "codemirror_mode": {
    "name": "ipython",
    "version": 3
   },
   "file_extension": ".py",
   "mimetype": "text/x-python",
   "name": "python",
   "nbconvert_exporter": "python",
   "pygments_lexer": "ipython3",
   "version": "3.9.15"
  },
  "toc": {
   "base_numbering": 1,
   "nav_menu": {},
   "number_sections": true,
   "sideBar": true,
   "skip_h1_title": false,
   "title_cell": "Table of Contents",
   "title_sidebar": "Contents",
   "toc_cell": false,
   "toc_position": {},
   "toc_section_display": true,
   "toc_window_display": false
  }
 },
 "nbformat": 4,
 "nbformat_minor": 4
}
