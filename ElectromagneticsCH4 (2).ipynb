{
 "cells": [
  {
   "cell_type": "markdown",
   "id": "9c47cf12-9c35-4f0c-8710-b9491c1a49f5",
   "metadata": {},
   "source": [
    "__Fundamentals of Applied Electromagnetics</br>\n",
    "by Fawwaz T. Ulaby</br>\n",
    "Chapter 4 - Electrostatics__</br>"
   ]
  },
  {
   "cell_type": "markdown",
   "id": "a66f0521-0625-416f-9956-9839c233f9ff",
   "metadata": {},
   "source": [
    "__Section 4-4 Gauss's Law__ </br>\n"
   ]
  },
  {
   "cell_type": "markdown",
   "id": "18d3e8bb-9d2a-4367-bf30-3aa0522aed57",
   "metadata": {},
   "source": [
    "__Exercise 4.7__\n",
    "Two infinite lines of charge, each carrying a charge density $ \\rho_l $, are parallel to the z-axis and located at x=1 and x=-1.  Determine E at an arbitrary point in free space along the y-axis.\n",
    "\n",
    "From equation 4.33, $ E = \\frac{D}{\\epsilon_0}= r \\frac{\\rho_l}{2 \\pi \\epsilon_0 r}$, where r is the radial distance vector from the line charge.\n",
    "\n",
    "Because the two equal infinite line charges are equal in distance from the z-axis but one positive and one negative, the line charges will only have an effect in the y direction.</br>\n",
    "Using the Pythagorean theorem, we can determine that the distance from any point on the y-axis, the distance to one of the infinite line charges will be $ c = \\sqrt{y^2+1^2} $\n",
    "\n",
    "Because there are two infinite line charges with equal effect on the y-axis, we can compute for one and simply multiply by 2.  Thus, </br>\n",
    "\n",
    "$E = y \\rho_l / [ \\pi \\epsilon_0 \\sqrt{y^2 + 1} ] $ Even looking at the answer solution, I do not see how the square root was dropped.\n",
    "\n",
    "Ans: $E = y \\rho_l y / [ \\pi \\epsilon_0 (y^2 + 1) ] $\n",
    "\n"
   ]
  },
  {
   "cell_type": "markdown",
   "id": "c2f9ce94-c229-4053-9bde-d6b559174b59",
   "metadata": {
    "execution": {
     "iopub.execute_input": "2023-09-19T18:51:06.375933Z",
     "iopub.status.busy": "2023-09-19T18:51:06.375578Z",
     "iopub.status.idle": "2023-09-19T18:51:06.381783Z",
     "shell.execute_reply": "2023-09-19T18:51:06.380504Z",
     "shell.execute_reply.started": "2023-09-19T18:51:06.375907Z"
    }
   },
   "source": [
    "__Section 4-5 Electric Scalar Potential__"
   ]
  },
  {
   "cell_type": "markdown",
   "id": "5cdedc43-58c8-4ad0-a420-dd72080fe731",
   "metadata": {},
   "source": [
    "__Exercise 4.10__</br>\n",
    "Determine the electric potential at the origin in free space due to four charges of $20 \\mu C$ each located at the corners of a square in the x-y planeand whose center is at the origin.  The square has sides of 2m each."
   ]
  },
  {
   "cell_type": "markdown",
   "id": "a6a10089-031b-4977-9ab8-218d8ff2e35e",
   "metadata": {},
   "source": [
    "From equation 4.44,\n",
    "\n",
    "$ E = R \\frac{q}{4 \\pi \\epsilon R^2} (V/m) $\n",
    "\n",
    "From the Pythagoras Theorem, each point charge is $\\sqrt{2}$ m from the origin.\n",
    "\n",
    "For one point charge \n",
    "\n",
    "$E = \\sqrt{2} \\frac{20 \\mu C}{4π\\epsilon (\\sqrt{2})^2} = \\sqrt{2} \\frac{20×10^-6}{8π\\epsilon}$"
   ]
  },
  {
   "cell_type": "markdown",
   "id": "60507605-5396-4ed1-a8b9-5af26959f659",
   "metadata": {},
   "source": [
    "Since there are 4 point charges at the same distance the E can be added resulting in:\n",
    "\n",
    "\n",
    "\n",
    "$ E = \\sqrt{2} \\frac{80×10-6}{8π\\epsilon} = \\frac{\\sqrt {2} x 10^-5}{π\\epsilon}$"
   ]
  },
  {
   "cell_type": "markdown",
   "id": "f8876178-8f06-4a9c-9ae4-5070c400c11f",
   "metadata": {},
   "source": [
    "__Exercise 4.11__\n",
    "\n",
    "A spherical shell of radius R has a uniform surface charge density, $\\rho_s$.  Determine the electric potential at the center of the shell."
   ]
  },
  {
   "cell_type": "markdown",
   "id": "5334a459-f65c-4d57-a0d7-4487906db013",
   "metadata": {},
   "source": [
    "\n",
    "$V(R) = \\frac{1}{4π\\epsilon} \\int \\frac{S\\rho}{R}$\n",
    "\n",
    "Since the distance to any point on the shell is $R$, <\\br>\n",
    "$R'=R$\n",
    "\n",
    "$V(R) = \\frac{1}{4π\\epsilon}\\frac{S\\rho_S}{R}$\n",
    "\n",
    "Surface area of a sphere $= 4πr^2$\n",
    "\n",
    "$\\therefore$ $V(R) = \\frac{4πR^2\\rho_S}{4π\\epsilon R} = \\frac{R^2\\rho_S}{\\epsilon}$\n"
   ]
  },
  {
   "cell_type": "markdown",
   "id": "71bc521b-d2dc-4649-a73b-13dd83cb6f09",
   "metadata": {},
   "source": [
    "__4.7 Conductors__"
   ]
  },
  {
   "cell_type": "markdown",
   "id": "61ef51af-df20-4285-9d29-3c4ed5837ee4",
   "metadata": {},
   "source": [
    "__Exercise 4.12__\n",
    "Determine the density of free electrons in aluminum, given that its conductivity is $3.5 x 10^7 (S/m)$ and its electron mobility is 0.0015 (m^2/V•s)."
   ]
  },
  {
   "cell_type": "markdown",
   "id": "850ac4da-7e6b-4090-ad2b-b6da71b71bc5",
   "metadata": {},
   "source": [
    "$\\mu_e = 0.0015 (m^2/V•S)$\n",
    "\n",
    "$\\sigma = 3.5×10^7$\n",
    "\n",
    "$\\sigma = -\\rho_{ve} \\mu_e$\n",
    "\n",
    "$\\therefore \\rho = \\frac{-\\sigma}{\\rho} = \\frac{-3.5x10^7}{.0015}$\n",
    "\n",
    "The book gives the answer as the number of free electrons $N_e$\n",
    "\n",
    "From 4.66\n",
    "\n",
    "$N_e = \\frac{\\sigma}{\\mu_e e}$\n",
    "\n",
    "The absolute charge of a single hole or electron\n",
    "$e = 1.6 x 10^{-19} C$\n",
    "\n",
    "$\\therefore N_e = \\frac{3.5x10^7}{.0015*e} = 1.46 x 10^{29}$\n",
    "\n",
    "\n",
    "\n",
    "\n"
   ]
  },
  {
   "cell_type": "markdown",
   "id": "5da03ba1-e4ae-4240-a8e8-c1fdd9b10341",
   "metadata": {},
   "source": [
    "__Exercise 4.13__\n",
    "\n",
    "The current flowing through a 100-m-long conducting wire of uniform cross section has a density of 3x10^5 (A/m^2).  Find the voltage drop across the length of the wire if the wire material has a conductivity of 2x10^7 (S/m)."
   ]
  },
  {
   "cell_type": "markdown",
   "id": "4d013a72-93f8-43e3-a903-d0812f7f87f4",
   "metadata": {
    "execution": {
     "iopub.execute_input": "2023-09-19T20:53:43.736503Z",
     "iopub.status.busy": "2023-09-19T20:53:43.736097Z",
     "iopub.status.idle": "2023-09-19T20:53:43.742247Z",
     "shell.execute_reply": "2023-09-19T20:53:43.741035Z",
     "shell.execute_reply.started": "2023-09-19T20:53:43.736476Z"
    }
   },
   "source": [
    "material conductivity\n",
    "$\\sigma = 2x10^7$<\\br>\n",
    "current density\n",
    "$J= 3x10^5 (A/m^2)$\n",
    "\n",
    "$\\therefore E = \\frac{J}{\\sigma} = \\frac{3x10^5}{2x10^7} = 0.015$"
   ]
  },
  {
   "cell_type": "markdown",
   "id": "266027fd-f8ce-405f-98e5-9c29a09d4dd8",
   "metadata": {},
   "source": [
    "Voltage Drop\n",
    "\n",
    "$V = -\\int_{0}^{100} E•dl$\n",
    "\n",
    "$V = -[El]_0^{100} = (-.015)(100) = -1.5 V$\n",
    "\n",
    "There is a 1.5V drop over the 100 meter wire. "
   ]
  },
  {
   "cell_type": "code",
   "execution_count": null,
   "id": "8940c71a-1b84-42cf-9b33-d4539667d530",
   "metadata": {},
   "outputs": [],
   "source": []
  }
 ],
 "metadata": {
  "kernelspec": {
   "display_name": "saturn (Python 3)",
   "language": "python",
   "name": "python3"
  },
  "language_info": {
   "codemirror_mode": {
    "name": "ipython",
    "version": 3
   },
   "file_extension": ".py",
   "mimetype": "text/x-python",
   "name": "python",
   "nbconvert_exporter": "python",
   "pygments_lexer": "ipython3",
   "version": "3.9.15"
  }
 },
 "nbformat": 4,
 "nbformat_minor": 5
}
