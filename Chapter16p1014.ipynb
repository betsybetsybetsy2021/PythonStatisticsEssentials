{
 "cells": [
  {
   "cell_type": "markdown",
   "id": "45a9ce31-617b-4c0a-aa94-adce4bca9d6f",
   "metadata": {},
   "source": [
    "__MultiVar CH16.2__\n"
   ]
  },
  {
   "cell_type": "markdown",
   "id": "f6a412aa-ed5c-4f04-9e77-7f5b6ca19d59",
   "metadata": {},
   "source": [
    "__Chapter 16__\n",
    "__p.1014 Exercises__</br>\n"
   ]
  },
  {
   "cell_type": "markdown",
   "id": "f2b38206-7673-4983-b1bb-767ebc6290a0",
   "metadata": {},
   "source": [
    "$\\int_0^{ln2} \\int_0^{ln5} e^{2x-y} dxdy$\n",
    "\n",
    "Using u-substitution...\n",
    "$= \\int_0^{ln2} \\frac{1}{2}[e^{2ln5}-e^{-y}]dy$\n",
    "$= \\frac{1}{2} \\int_0^{ln2} e^{2ln|5|-y}+ \\frac{1}{2} \\int_0^{ln2} -e^{-y}$\n",
    "$= \\frac{1}{2} \\int_0^{ln5} (-[e^{2ln|5|-y}] + \\frac{1}{2} [e^{-y}])$\n",
    "$= \\frac{1}{2} [-e^{2ln|5|-ln|2|} + e^{2ln5}] + \\frac{1}{2} [e^{-ln|2|}-e^0]$\n",
    "\n",
    "Using natural log properties..\n",
    "$ln |m^p| = p ln |m|$\n",
    "$ln |ab| = ln |a| + ln |b|$\n",
    "$ln \\frac{a}{b} = ln |a| - ln |b|$\n",
    "</br>\n",
    "\n",
    "$\\frac{1}{2} [e^{2ln|5|-ln|2|}+e^{2ln|5|}] + \\frac{1}{2} [\\frac{1}{2}-1] $\n",
    "\n",
    "$= \\frac{1}{2} [-e^{ln|12.5|}-e^{ln25}] + [\\frac{-1}{4}]$\n",
    "\n",
    "$= \\frac{-1}{2}[-12.5+25] + [\\frac{-1}{4}]$\n",
    "\n",
    "$= 6.25 - 0.25 = 6$\n",
    "\n",
    "book answer: 6"
   ]
  },
  {
   "cell_type": "code",
   "execution_count": null,
   "id": "065c5949-4947-4973-9617-915478a281c2",
   "metadata": {},
   "outputs": [],
   "source": []
  }
 ],
 "metadata": {
  "kernelspec": {
   "display_name": "saturn (Python 3)",
   "language": "python",
   "name": "python3"
  },
  "language_info": {
   "codemirror_mode": {
    "name": "ipython",
    "version": 3
   },
   "file_extension": ".py",
   "mimetype": "text/x-python",
   "name": "python",
   "nbconvert_exporter": "python",
   "pygments_lexer": "ipython3",
   "version": "3.9.15"
  }
 },
 "nbformat": 4,
 "nbformat_minor": 5
}
