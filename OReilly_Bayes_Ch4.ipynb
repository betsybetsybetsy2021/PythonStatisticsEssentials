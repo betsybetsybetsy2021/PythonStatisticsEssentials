{
 "cells": [
  {
   "cell_type": "code",
   "execution_count": null,
   "id": "156ac773-c8ca-4cd2-bb5a-5c77206c4184",
   "metadata": {},
   "outputs": [],
   "source": [
    "# O'Reilly Bayes \n",
    "# Chapter 4 - EStimating Proportions\n",
    "\n",
    "# Remember I graduated college in 2004, which means the last time I did stats was 2000 maybe.\n",
    "# My old employer wouldn't pay for tech refresh, but did pay for languages."
   ]
  },
  {
   "cell_type": "code",
   "execution_count": null,
   "id": "22049f98-f20f-42a6-8ce4-732fd284cf19",
   "metadata": {},
   "outputs": [],
   "source": [
    "# The Euro problem\n",
    "# When spun on edge 250 times, a Belgian one-Euro coin came up heads 140 times and tails 110.\n",
    "# \"It looks very suspicious to me,\" said Barry Blight, a statistics lecturer at the London \n",
    "# School of Economics.  \"If the coin were unbiased, the chance of getting a result as extreme\n",
    "# as that would be less than 7%.\"\n",
    "# Does the data give evidence that the coin is biased rather than fair?\n"
   ]
  },
  {
   "cell_type": "code",
   "execution_count": 1,
   "id": "8ca37ac3-5825-4677-9655-acae4647ce1d",
   "metadata": {
    "execution": {
     "iopub.execute_input": "2023-08-14T01:34:59.620222Z",
     "iopub.status.busy": "2023-08-14T01:34:59.619828Z",
     "iopub.status.idle": "2023-08-14T01:35:00.409230Z",
     "shell.execute_reply": "2023-08-14T01:35:00.408496Z",
     "shell.execute_reply.started": "2023-08-14T01:34:59.620192Z"
    }
   },
   "outputs": [
    {
     "data": {
      "text/plain": [
       "0.5000000000000002"
      ]
     },
     "execution_count": 1,
     "metadata": {},
     "output_type": "execute_result"
    }
   ],
   "source": [
    "# Binomial distribution. For any value of k from 0 to n, the term \"n choose k\" is the binomial\n",
    "# coefficient. We could evaluate this expression ourselves, but we can also use the SciPy function\n",
    "# binom.pmf.  For example,if we flip a coin n=2 times and the probability of heads is p =0.5, \n",
    "# here's the probability of getting k = 1 heads.\n",
    "\n",
    "from scipy.stats import binom\n",
    "\n",
    "n = 2\n",
    "p = 0.5\n",
    "k = 1\n",
    "\n",
    "binom.pmf(k,n,p)"
   ]
  },
  {
   "cell_type": "code",
   "execution_count": 19,
   "id": "8e294cc0-6a8b-4dd6-a6dc-6c3bea45b250",
   "metadata": {
    "execution": {
     "iopub.execute_input": "2023-08-14T02:07:35.854876Z",
     "iopub.status.busy": "2023-08-14T02:07:35.854498Z",
     "iopub.status.idle": "2023-08-14T02:07:35.863651Z",
     "shell.execute_reply": "2023-08-14T02:07:35.863063Z",
     "shell.execute_reply.started": "2023-08-14T02:07:35.854848Z"
    },
    "tags": []
   },
   "outputs": [
    {
     "name": "stdout",
     "output_type": "stream",
     "text": [
      "[0 1 2]\n",
      "[0.25 0.5  0.25]\n"
     ]
    }
   ],
   "source": [
    "import numpy as np\n",
    "ks = np.arange(n+1)\n",
    "\n",
    "ps = binom.pmf(ks, n, p)\n",
    "print(ks)\n",
    "print(ps)"
   ]
  },
  {
   "cell_type": "code",
   "execution_count": 3,
   "id": "b53b139a-0960-409e-b627-05a576481b6e",
   "metadata": {
    "execution": {
     "iopub.execute_input": "2023-08-14T01:42:32.341425Z",
     "iopub.status.busy": "2023-08-14T01:42:32.341052Z",
     "iopub.status.idle": "2023-08-14T01:42:33.151152Z",
     "shell.execute_reply": "2023-08-14T01:42:33.150486Z",
     "shell.execute_reply.started": "2023-08-14T01:42:32.341398Z"
    }
   },
   "outputs": [
    {
     "data": {
      "text/html": [
       "<div>\n",
       "<style scoped>\n",
       "    .dataframe tbody tr th:only-of-type {\n",
       "        vertical-align: middle;\n",
       "    }\n",
       "\n",
       "    .dataframe tbody tr th {\n",
       "        vertical-align: top;\n",
       "    }\n",
       "\n",
       "    .dataframe thead th {\n",
       "        text-align: right;\n",
       "    }\n",
       "</style>\n",
       "<table border=\"1\" class=\"dataframe\">\n",
       "  <thead>\n",
       "    <tr style=\"text-align: right;\">\n",
       "      <th></th>\n",
       "      <th>probs</th>\n",
       "    </tr>\n",
       "  </thead>\n",
       "  <tbody>\n",
       "    <tr>\n",
       "      <th>0</th>\n",
       "      <td>0.25</td>\n",
       "    </tr>\n",
       "    <tr>\n",
       "      <th>1</th>\n",
       "      <td>0.50</td>\n",
       "    </tr>\n",
       "    <tr>\n",
       "      <th>2</th>\n",
       "      <td>0.25</td>\n",
       "    </tr>\n",
       "  </tbody>\n",
       "</table>\n",
       "</div>"
      ],
      "text/plain": [
       "0    0.25\n",
       "1    0.50\n",
       "2    0.25\n",
       "Name: , dtype: float64"
      ]
     },
     "execution_count": 3,
     "metadata": {},
     "output_type": "execute_result"
    }
   ],
   "source": [
    "from empiricaldist import Pmf\n",
    "\n",
    "pmf_k = Pmf(ps, ks)\n",
    "pmf_k"
   ]
  },
  {
   "cell_type": "code",
   "execution_count": 4,
   "id": "748bd87f-afac-4fea-aabd-26456de7cbee",
   "metadata": {
    "execution": {
     "iopub.execute_input": "2023-08-14T01:43:49.159852Z",
     "iopub.status.busy": "2023-08-14T01:43:49.159374Z",
     "iopub.status.idle": "2023-08-14T01:43:49.164030Z",
     "shell.execute_reply": "2023-08-14T01:43:49.163270Z",
     "shell.execute_reply.started": "2023-08-14T01:43:49.159823Z"
    }
   },
   "outputs": [],
   "source": [
    "def make_binomial(n,p):\n",
    "    ks = np.arange(n+1)\n",
    "    ps = binom.pmf(ks,n,p)\n",
    "    return Pmf(ps,ks)"
   ]
  },
  {
   "cell_type": "code",
   "execution_count": 5,
   "id": "1297f8a0-bdd0-4a78-b611-225c380cecd0",
   "metadata": {
    "execution": {
     "iopub.execute_input": "2023-08-14T01:44:13.294250Z",
     "iopub.status.busy": "2023-08-14T01:44:13.293864Z",
     "iopub.status.idle": "2023-08-14T01:44:13.298942Z",
     "shell.execute_reply": "2023-08-14T01:44:13.298085Z",
     "shell.execute_reply.started": "2023-08-14T01:44:13.294222Z"
    }
   },
   "outputs": [],
   "source": [
    "pmf_k = make_binomial(n=250, p=0.5)"
   ]
  },
  {
   "cell_type": "code",
   "execution_count": 7,
   "id": "07cd27e8-39e3-47c6-befa-e2607d361b44",
   "metadata": {
    "execution": {
     "iopub.execute_input": "2023-08-14T01:50:06.061429Z",
     "iopub.status.busy": "2023-08-14T01:50:06.061044Z",
     "iopub.status.idle": "2023-08-14T01:50:06.077042Z",
     "shell.execute_reply": "2023-08-14T01:50:06.076347Z",
     "shell.execute_reply.started": "2023-08-14T01:50:06.061402Z"
    },
    "tags": []
   },
   "outputs": [
    {
     "data": {
      "text/html": [
       "<div>\n",
       "<style scoped>\n",
       "    .dataframe tbody tr th:only-of-type {\n",
       "        vertical-align: middle;\n",
       "    }\n",
       "\n",
       "    .dataframe tbody tr th {\n",
       "        vertical-align: top;\n",
       "    }\n",
       "\n",
       "    .dataframe thead th {\n",
       "        text-align: right;\n",
       "    }\n",
       "</style>\n",
       "<table border=\"1\" class=\"dataframe\">\n",
       "  <thead>\n",
       "    <tr style=\"text-align: right;\">\n",
       "      <th></th>\n",
       "      <th>probs</th>\n",
       "    </tr>\n",
       "  </thead>\n",
       "  <tbody>\n",
       "    <tr>\n",
       "      <th>0</th>\n",
       "      <td>5.527148e-76</td>\n",
       "    </tr>\n",
       "    <tr>\n",
       "      <th>1</th>\n",
       "      <td>1.381787e-73</td>\n",
       "    </tr>\n",
       "    <tr>\n",
       "      <th>2</th>\n",
       "      <td>1.720325e-71</td>\n",
       "    </tr>\n",
       "    <tr>\n",
       "      <th>3</th>\n",
       "      <td>1.422135e-69</td>\n",
       "    </tr>\n",
       "    <tr>\n",
       "      <th>4</th>\n",
       "      <td>8.781685e-68</td>\n",
       "    </tr>\n",
       "    <tr>\n",
       "      <th>...</th>\n",
       "      <td>...</td>\n",
       "    </tr>\n",
       "    <tr>\n",
       "      <th>246</th>\n",
       "      <td>8.781685e-68</td>\n",
       "    </tr>\n",
       "    <tr>\n",
       "      <th>247</th>\n",
       "      <td>1.422135e-69</td>\n",
       "    </tr>\n",
       "    <tr>\n",
       "      <th>248</th>\n",
       "      <td>1.720325e-71</td>\n",
       "    </tr>\n",
       "    <tr>\n",
       "      <th>249</th>\n",
       "      <td>1.381787e-73</td>\n",
       "    </tr>\n",
       "    <tr>\n",
       "      <th>250</th>\n",
       "      <td>5.527148e-76</td>\n",
       "    </tr>\n",
       "  </tbody>\n",
       "</table>\n",
       "<p>251 rows × 1 columns</p>\n",
       "</div>"
      ],
      "text/plain": [
       "0      5.527148e-76\n",
       "1      1.381787e-73\n",
       "2      1.720325e-71\n",
       "3      1.422135e-69\n",
       "4      8.781685e-68\n",
       "           ...     \n",
       "246    8.781685e-68\n",
       "247    1.422135e-69\n",
       "248    1.720325e-71\n",
       "249    1.381787e-73\n",
       "250    5.527148e-76\n",
       "Name: , Length: 251, dtype: float64"
      ]
     },
     "execution_count": 7,
     "metadata": {},
     "output_type": "execute_result"
    }
   ],
   "source": [
    "def make_binomial(n,p):\n",
    "    ks = np.arange(n+1)\n",
    "    ps = binom.pmf(ks, n, p)\n",
    "    return Pmf(ps, ks)\n",
    "\n",
    "pmf_k = make_binomial(n=250, p=0.5)\n",
    "\n",
    "pmf_k\n",
    "    "
   ]
  },
  {
   "cell_type": "code",
   "execution_count": null,
   "id": "0aab1ce5-365d-485b-81af-e8ff58b43db4",
   "metadata": {},
   "outputs": [],
   "source": [
    "# What will I do with my Joker's card.  What I wanted to do but my previous employer\n",
    "# wouldn't let me. I have spent my entire career in DoD acquisition before IC. IC has been \n",
    "# nothing but atrophying skills."
   ]
  },
  {
   "cell_type": "code",
   "execution_count": 24,
   "id": "37cb2757-77c0-4ec6-b901-f99fac2c7e5e",
   "metadata": {
    "execution": {
     "iopub.execute_input": "2023-08-14T02:22:02.741118Z",
     "iopub.status.busy": "2023-08-14T02:22:02.740735Z",
     "iopub.status.idle": "2023-08-14T02:22:02.866514Z",
     "shell.execute_reply": "2023-08-14T02:22:02.865752Z",
     "shell.execute_reply.started": "2023-08-14T02:22:02.741091Z"
    },
    "tags": []
   },
   "outputs": [
    {
     "data": {
      "image/png": "[encoded data removed]",
      "text/plain": [
       "<Figure size 640x480 with 1 Axes>"
      ]
     },
     "metadata": {},
     "output_type": "display_data"
    }
   ],
   "source": [
    "import matplotlib.pyplot as plt\n",
    "\n",
    "fig, ax = plt.subplots()\n",
    "ax.plot(pmf_k, color = \"#FF007F\", label='n=250, p=0.5')\n",
    "\n",
    "ax.set(xlabel='Number of Heads (k)', ylabel='PMF',\n",
    "       title='Binomial Distribution')\n",
    "\n",
    "ax.legend()\n",
    "\n",
    "ax.grid()\n",
    "plt.show()"
   ]
  },
  {
   "cell_type": "code",
   "execution_count": 11,
   "id": "b7bd7d78-5f8f-4d8f-a668-5f0352e33bf1",
   "metadata": {
    "execution": {
     "iopub.execute_input": "2023-08-14T01:54:53.135988Z",
     "iopub.status.busy": "2023-08-14T01:54:53.135617Z",
     "iopub.status.idle": "2023-08-14T01:54:53.141657Z",
     "shell.execute_reply": "2023-08-14T01:54:53.140647Z",
     "shell.execute_reply.started": "2023-08-14T01:54:53.135961Z"
    }
   },
   "outputs": [
    {
     "data": {
      "text/plain": [
       "125"
      ]
     },
     "execution_count": 11,
     "metadata": {},
     "output_type": "execute_result"
    }
   ],
   "source": [
    "pmf_k.max_prob()"
   ]
  },
  {
   "cell_type": "code",
   "execution_count": 26,
   "id": "97956dc0-e026-4fd8-9cda-73237271980b",
   "metadata": {
    "execution": {
     "iopub.execute_input": "2023-08-14T02:23:04.830767Z",
     "iopub.status.busy": "2023-08-14T02:23:04.830392Z",
     "iopub.status.idle": "2023-08-14T02:23:04.836035Z",
     "shell.execute_reply": "2023-08-14T02:23:04.835207Z",
     "shell.execute_reply.started": "2023-08-14T02:23:04.830740Z"
    },
    "tags": []
   },
   "outputs": [
    {
     "data": {
      "text/plain": [
       "0.050412213147309655"
      ]
     },
     "execution_count": 26,
     "metadata": {},
     "output_type": "execute_result"
    }
   ],
   "source": [
    "pmf_k[125]"
   ]
  },
  {
   "cell_type": "code",
   "execution_count": 27,
   "id": "c832f410-33fc-423c-bdcd-a15a379b440a",
   "metadata": {
    "execution": {
     "iopub.execute_input": "2023-08-14T02:23:15.041997Z",
     "iopub.status.busy": "2023-08-14T02:23:15.041623Z",
     "iopub.status.idle": "2023-08-14T02:23:15.047301Z",
     "shell.execute_reply": "2023-08-14T02:23:15.046486Z",
     "shell.execute_reply.started": "2023-08-14T02:23:15.041969Z"
    }
   },
   "outputs": [
    {
     "data": {
      "text/plain": [
       "0.008357181724918204"
      ]
     },
     "execution_count": 27,
     "metadata": {},
     "output_type": "execute_result"
    }
   ],
   "source": [
    "pmf_k[140]"
   ]
  },
  {
   "cell_type": "code",
   "execution_count": null,
   "id": "08a6880a-9d6c-496c-bd58-ed505661f0b8",
   "metadata": {},
   "outputs": [],
   "source": [
    "# In the article, MacKay quotes, the statistician says \"If the coin were unbiased, the chance \n",
    "# of getting a result as extreme as that would be less than 7%.\""
   ]
  },
  {
   "cell_type": "code",
   "execution_count": 30,
   "id": "81032dd4-6925-402e-b697-3a4cf70bbbba",
   "metadata": {
    "execution": {
     "iopub.execute_input": "2023-08-14T02:29:12.756103Z",
     "iopub.status.busy": "2023-08-14T02:29:12.755725Z",
     "iopub.status.idle": "2023-08-14T02:29:12.761909Z",
     "shell.execute_reply": "2023-08-14T02:29:12.761113Z",
     "shell.execute_reply.started": "2023-08-14T02:29:12.756071Z"
    },
    "tags": []
   },
   "outputs": [],
   "source": [
    "def prob_ge(pmf, threshold):\n",
    "    ge = (pmf.qs >= threshold)\n",
    "    total = pmf[ge].sum()\n",
    "    return total"
   ]
  },
  {
   "cell_type": "code",
   "execution_count": 33,
   "id": "55894127-7d0a-4c99-a6da-872bb9cc9a89",
   "metadata": {
    "execution": {
     "iopub.execute_input": "2023-08-14T02:31:45.682538Z",
     "iopub.status.busy": "2023-08-14T02:31:45.682157Z",
     "iopub.status.idle": "2023-08-14T02:31:45.687651Z",
     "shell.execute_reply": "2023-08-14T02:31:45.686845Z",
     "shell.execute_reply.started": "2023-08-14T02:31:45.682509Z"
    },
    "tags": []
   },
   "outputs": [
    {
     "data": {
      "text/plain": [
       "0.03321057562002163"
      ]
     },
     "execution_count": 33,
     "metadata": {},
     "output_type": "execute_result"
    }
   ],
   "source": [
    "# probability of getting 140 heads or more\n",
    "prob_ge(pmf_k, 140)"
   ]
  },
  {
   "cell_type": "code",
   "execution_count": 32,
   "id": "75546244-75fb-41ec-a161-15856a1663a6",
   "metadata": {
    "execution": {
     "iopub.execute_input": "2023-08-14T02:29:36.566474Z",
     "iopub.status.busy": "2023-08-14T02:29:36.566106Z",
     "iopub.status.idle": "2023-08-14T02:29:36.572114Z",
     "shell.execute_reply": "2023-08-14T02:29:36.571325Z",
     "shell.execute_reply.started": "2023-08-14T02:29:36.566447Z"
    }
   },
   "outputs": [
    {
     "data": {
      "text/plain": [
       "0.03321057562002163"
      ]
     },
     "execution_count": 32,
     "metadata": {},
     "output_type": "execute_result"
    }
   ],
   "source": [
    "pmf_k.prob_ge(140)"
   ]
  },
  {
   "cell_type": "code",
   "execution_count": null,
   "id": "8d402035-5447-4dc3-b662-ada6ff092f1c",
   "metadata": {},
   "outputs": [],
   "source": [
    "#The resulting 3.3% is about half of the 7% because the under 110 heads were not counted.\n",
    "# The other side of the curve.  This shows that extreme outcomes are unlikely if the coin is fair."
   ]
  },
  {
   "cell_type": "code",
   "execution_count": 34,
   "id": "ea9e9f56-3bbc-49da-94b0-3d25a72ab45a",
   "metadata": {
    "execution": {
     "iopub.execute_input": "2023-08-14T02:33:48.038857Z",
     "iopub.status.busy": "2023-08-14T02:33:48.038486Z",
     "iopub.status.idle": "2023-08-14T02:33:48.044851Z",
     "shell.execute_reply": "2023-08-14T02:33:48.043717Z",
     "shell.execute_reply.started": "2023-08-14T02:33:48.038829Z"
    }
   },
   "outputs": [
    {
     "data": {
      "text/plain": [
       "0.03321057562002164"
      ]
     },
     "execution_count": 34,
     "metadata": {},
     "output_type": "execute_result"
    }
   ],
   "source": [
    "# the left \"tail\"\n",
    "pmf_k.prob_le(110)"
   ]
  },
  {
   "cell_type": "code",
   "execution_count": null,
   "id": "6a218c74-7e1b-46b0-8d63-d2af3d77f0e4",
   "metadata": {},
   "outputs": [],
   "source": [
    "# Bayesian Estimation\n"
   ]
  }
 ],
 "metadata": {
  "kernelspec": {
   "display_name": "saturn (Python 3)",
   "language": "python",
   "name": "python3"
  },
  "language_info": {
   "codemirror_mode": {
    "name": "ipython",
    "version": 3
   },
   "file_extension": ".py",
   "mimetype": "text/x-python",
   "name": "python",
   "nbconvert_exporter": "python",
   "pygments_lexer": "ipython3",
   "version": "3.9.15"
  }
 },
 "nbformat": 4,
 "nbformat_minor": 5
}
