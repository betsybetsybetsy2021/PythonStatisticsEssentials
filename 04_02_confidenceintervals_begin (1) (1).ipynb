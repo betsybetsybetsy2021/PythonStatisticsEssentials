{
 "cells": [
  {
   "cell_type": "markdown",
   "metadata": {},
   "source": [
    "## Python statistics essential training - 04_02_confidenceintervals"
   ]
  },
  {
   "cell_type": "markdown",
   "metadata": {},
   "source": [
    "Standard imports"
   ]
  },
  {
   "cell_type": "code",
   "execution_count": 1,
   "metadata": {
    "execution": {
     "iopub.execute_input": "2023-07-19T16:01:57.166400Z",
     "iopub.status.busy": "2023-07-19T16:01:57.165978Z",
     "iopub.status.idle": "2023-07-19T16:01:57.183293Z",
     "shell.execute_reply": "2023-07-19T16:01:57.182505Z",
     "shell.execute_reply.started": "2023-07-19T16:01:57.166363Z"
    }
   },
   "outputs": [],
   "source": [
    "import math\n",
    "import io"
   ]
  },
  {
   "cell_type": "code",
   "execution_count": 39,
   "metadata": {
    "execution": {
     "iopub.execute_input": "2023-07-19T16:33:13.357576Z",
     "iopub.status.busy": "2023-07-19T16:33:13.356571Z",
     "iopub.status.idle": "2023-07-19T16:33:13.363603Z",
     "shell.execute_reply": "2023-07-19T16:33:13.362787Z",
     "shell.execute_reply.started": "2023-07-19T16:33:13.357535Z"
    },
    "tags": []
   },
   "outputs": [],
   "source": [
    "import numpy as np\n",
    "import pandas as pd\n",
    "\n",
    "import matplotlib\n",
    "import matplotlib.pyplot as pp\n",
    "\n",
    "%matplotlib inline"
   ]
  },
  {
   "cell_type": "code",
   "execution_count": 3,
   "metadata": {
    "execution": {
     "iopub.execute_input": "2023-07-19T16:02:03.031491Z",
     "iopub.status.busy": "2023-07-19T16:02:03.031035Z",
     "iopub.status.idle": "2023-07-19T16:02:04.059496Z",
     "shell.execute_reply": "2023-07-19T16:02:04.058767Z",
     "shell.execute_reply.started": "2023-07-19T16:02:03.031465Z"
    }
   },
   "outputs": [],
   "source": [
    "import scipy.stats\n",
    "import scipy.optimize\n",
    "import scipy.spatial"
   ]
  },
  {
   "cell_type": "code",
   "execution_count": 40,
   "metadata": {
    "execution": {
     "iopub.execute_input": "2023-07-19T16:33:23.628867Z",
     "iopub.status.busy": "2023-07-19T16:33:23.628469Z",
     "iopub.status.idle": "2023-07-19T16:33:23.634932Z",
     "shell.execute_reply": "2023-07-19T16:33:23.634197Z",
     "shell.execute_reply.started": "2023-07-19T16:33:23.628841Z"
    },
    "tags": []
   },
   "outputs": [],
   "source": [
    "poll = pd.read_csv('poll.csv')"
   ]
  },
  {
   "cell_type": "code",
   "execution_count": 6,
   "metadata": {
    "execution": {
     "iopub.execute_input": "2023-07-19T16:03:51.697883Z",
     "iopub.status.busy": "2023-07-19T16:03:51.697512Z",
     "iopub.status.idle": "2023-07-19T16:03:51.708494Z",
     "shell.execute_reply": "2023-07-19T16:03:51.707669Z",
     "shell.execute_reply.started": "2023-07-19T16:03:51.697857Z"
    }
   },
   "outputs": [
    {
     "name": "stdout",
     "output_type": "stream",
     "text": [
      "<class 'pandas.core.frame.DataFrame'>\n",
      "RangeIndex: 1000 entries, 0 to 999\n",
      "Data columns (total 1 columns):\n",
      " #   Column  Non-Null Count  Dtype \n",
      "---  ------  --------------  ----- \n",
      " 0   vote    1000 non-null   object\n",
      "dtypes: object(1)\n",
      "memory usage: 7.9+ KB\n"
     ]
    }
   ],
   "source": [
    "poll.info()"
   ]
  },
  {
   "cell_type": "code",
   "execution_count": 8,
   "metadata": {
    "execution": {
     "iopub.execute_input": "2023-07-19T16:04:12.472813Z",
     "iopub.status.busy": "2023-07-19T16:04:12.472417Z",
     "iopub.status.idle": "2023-07-19T16:04:12.489276Z",
     "shell.execute_reply": "2023-07-19T16:04:12.488568Z",
     "shell.execute_reply.started": "2023-07-19T16:04:12.472786Z"
    },
    "tags": []
   },
   "outputs": [
    {
     "data": {
      "text/html": [
       "<div>\n",
       "<style scoped>\n",
       "    .dataframe tbody tr th:only-of-type {\n",
       "        vertical-align: middle;\n",
       "    }\n",
       "\n",
       "    .dataframe tbody tr th {\n",
       "        vertical-align: top;\n",
       "    }\n",
       "\n",
       "    .dataframe thead th {\n",
       "        text-align: right;\n",
       "    }\n",
       "</style>\n",
       "<table border=\"1\" class=\"dataframe\">\n",
       "  <thead>\n",
       "    <tr style=\"text-align: right;\">\n",
       "      <th></th>\n",
       "      <th>vote</th>\n",
       "    </tr>\n",
       "  </thead>\n",
       "  <tbody>\n",
       "    <tr>\n",
       "      <th>0</th>\n",
       "      <td>Brown</td>\n",
       "    </tr>\n",
       "    <tr>\n",
       "      <th>1</th>\n",
       "      <td>Green</td>\n",
       "    </tr>\n",
       "    <tr>\n",
       "      <th>2</th>\n",
       "      <td>Brown</td>\n",
       "    </tr>\n",
       "    <tr>\n",
       "      <th>3</th>\n",
       "      <td>Brown</td>\n",
       "    </tr>\n",
       "    <tr>\n",
       "      <th>4</th>\n",
       "      <td>Brown</td>\n",
       "    </tr>\n",
       "  </tbody>\n",
       "</table>\n",
       "</div>"
      ],
      "text/plain": [
       "    vote\n",
       "0  Brown\n",
       "1  Green\n",
       "2  Brown\n",
       "3  Brown\n",
       "4  Brown"
      ]
     },
     "execution_count": 8,
     "metadata": {},
     "output_type": "execute_result"
    }
   ],
   "source": [
    "poll.head()"
   ]
  },
  {
   "cell_type": "code",
   "execution_count": 9,
   "metadata": {
    "execution": {
     "iopub.execute_input": "2023-07-19T16:05:12.137233Z",
     "iopub.status.busy": "2023-07-19T16:05:12.136864Z",
     "iopub.status.idle": "2023-07-19T16:05:12.144562Z",
     "shell.execute_reply": "2023-07-19T16:05:12.143723Z",
     "shell.execute_reply.started": "2023-07-19T16:05:12.137207Z"
    }
   },
   "outputs": [
    {
     "data": {
      "text/plain": [
       "Brown    0.511\n",
       "Green    0.489\n",
       "Name: vote, dtype: float64"
      ]
     },
     "execution_count": 9,
     "metadata": {},
     "output_type": "execute_result"
    }
   ],
   "source": [
    "poll.vote.value_counts(normalize=True)"
   ]
  },
  {
   "cell_type": "code",
   "execution_count": 20,
   "metadata": {
    "execution": {
     "iopub.execute_input": "2023-07-19T16:13:54.120780Z",
     "iopub.status.busy": "2023-07-19T16:13:54.120389Z",
     "iopub.status.idle": "2023-07-19T16:13:54.125019Z",
     "shell.execute_reply": "2023-07-19T16:13:54.124117Z",
     "shell.execute_reply.started": "2023-07-19T16:13:54.120753Z"
    },
    "tags": []
   },
   "outputs": [],
   "source": [
    "def sample(brown, n= 1000):\n",
    "    return pd.DataFrame({'vote':np.where(np.random.rand(n) < brown, 'American', 'JHUAPLgirl')})"
   ]
  },
  {
   "cell_type": "code",
   "execution_count": 21,
   "metadata": {
    "execution": {
     "iopub.execute_input": "2023-07-19T16:14:38.577190Z",
     "iopub.status.busy": "2023-07-19T16:14:38.576805Z",
     "iopub.status.idle": "2023-07-19T16:14:38.581812Z",
     "shell.execute_reply": "2023-07-19T16:14:38.580996Z",
     "shell.execute_reply.started": "2023-07-19T16:14:38.577166Z"
    }
   },
   "outputs": [],
   "source": [
    "s = sample(0.51, n=1000)"
   ]
  },
  {
   "cell_type": "code",
   "execution_count": 22,
   "metadata": {
    "execution": {
     "iopub.execute_input": "2023-07-19T16:15:05.666898Z",
     "iopub.status.busy": "2023-07-19T16:15:05.666529Z",
     "iopub.status.idle": "2023-07-19T16:15:05.676524Z",
     "shell.execute_reply": "2023-07-19T16:15:05.675551Z",
     "shell.execute_reply.started": "2023-07-19T16:15:05.666873Z"
    }
   },
   "outputs": [
    {
     "data": {
      "text/plain": [
       "American      0.513\n",
       "JHUAPLgirl    0.487\n",
       "Name: vote, dtype: float64"
      ]
     },
     "execution_count": 22,
     "metadata": {},
     "output_type": "execute_result"
    }
   ],
   "source": [
    "s.vote.value_counts(normalize = True)"
   ]
  },
  {
   "cell_type": "code",
   "execution_count": 23,
   "metadata": {
    "execution": {
     "iopub.execute_input": "2023-07-19T16:17:27.444868Z",
     "iopub.status.busy": "2023-07-19T16:17:27.444479Z",
     "iopub.status.idle": "2023-07-19T16:17:28.514578Z",
     "shell.execute_reply": "2023-07-19T16:17:28.513868Z",
     "shell.execute_reply.started": "2023-07-19T16:17:27.444843Z"
    }
   },
   "outputs": [],
   "source": [
    "dist = pd.DataFrame([sample(0.51).vote.value_counts(normalize=True) for i in range(1000)])"
   ]
  },
  {
   "cell_type": "code",
   "execution_count": 24,
   "metadata": {
    "execution": {
     "iopub.execute_input": "2023-07-19T16:17:50.846621Z",
     "iopub.status.busy": "2023-07-19T16:17:50.846256Z",
     "iopub.status.idle": "2023-07-19T16:17:50.854620Z",
     "shell.execute_reply": "2023-07-19T16:17:50.853838Z",
     "shell.execute_reply.started": "2023-07-19T16:17:50.846596Z"
    }
   },
   "outputs": [
    {
     "data": {
      "text/html": [
       "<div>\n",
       "<style scoped>\n",
       "    .dataframe tbody tr th:only-of-type {\n",
       "        vertical-align: middle;\n",
       "    }\n",
       "\n",
       "    .dataframe tbody tr th {\n",
       "        vertical-align: top;\n",
       "    }\n",
       "\n",
       "    .dataframe thead th {\n",
       "        text-align: right;\n",
       "    }\n",
       "</style>\n",
       "<table border=\"1\" class=\"dataframe\">\n",
       "  <thead>\n",
       "    <tr style=\"text-align: right;\">\n",
       "      <th></th>\n",
       "      <th>American</th>\n",
       "      <th>JHUAPLgirl</th>\n",
       "    </tr>\n",
       "  </thead>\n",
       "  <tbody>\n",
       "    <tr>\n",
       "      <th>vote</th>\n",
       "      <td>0.511</td>\n",
       "      <td>0.489</td>\n",
       "    </tr>\n",
       "    <tr>\n",
       "      <th>vote</th>\n",
       "      <td>0.515</td>\n",
       "      <td>0.485</td>\n",
       "    </tr>\n",
       "    <tr>\n",
       "      <th>vote</th>\n",
       "      <td>0.524</td>\n",
       "      <td>0.476</td>\n",
       "    </tr>\n",
       "    <tr>\n",
       "      <th>vote</th>\n",
       "      <td>0.532</td>\n",
       "      <td>0.468</td>\n",
       "    </tr>\n",
       "    <tr>\n",
       "      <th>vote</th>\n",
       "      <td>0.533</td>\n",
       "      <td>0.467</td>\n",
       "    </tr>\n",
       "  </tbody>\n",
       "</table>\n",
       "</div>"
      ],
      "text/plain": [
       "      American  JHUAPLgirl\n",
       "vote     0.511       0.489\n",
       "vote     0.515       0.485\n",
       "vote     0.524       0.476\n",
       "vote     0.532       0.468\n",
       "vote     0.533       0.467"
      ]
     },
     "execution_count": 24,
     "metadata": {},
     "output_type": "execute_result"
    }
   ],
   "source": [
    "dist.head()"
   ]
  },
  {
   "cell_type": "code",
   "execution_count": 26,
   "metadata": {
    "execution": {
     "iopub.execute_input": "2023-07-19T16:19:36.570198Z",
     "iopub.status.busy": "2023-07-19T16:19:36.569823Z",
     "iopub.status.idle": "2023-07-19T16:19:36.818266Z",
     "shell.execute_reply": "2023-07-19T16:19:36.817398Z",
     "shell.execute_reply.started": "2023-07-19T16:19:36.570172Z"
    },
    "tags": []
   },
   "outputs": [
    {
     "data": {
      "text/plain": [
       "<AxesSubplot:>"
      ]
     },
     "execution_count": 26,
     "metadata": {},
     "output_type": "execute_result"
    },
    {
     "data": {
      "image/png": "[encoded data removed]",
      "text/plain": [
       "<Figure size 640x480 with 1 Axes>"
      ]
     },
     "metadata": {},
     "output_type": "display_data"
    }
   ],
   "source": [
    "dist.American.hist(histtype = 'step', bins=20)"
   ]
  },
  {
   "cell_type": "code",
   "execution_count": 27,
   "metadata": {
    "execution": {
     "iopub.execute_input": "2023-07-19T16:22:56.984658Z",
     "iopub.status.busy": "2023-07-19T16:22:56.984277Z",
     "iopub.status.idle": "2023-07-19T16:22:56.989056Z",
     "shell.execute_reply": "2023-07-19T16:22:56.988223Z",
     "shell.execute_reply.started": "2023-07-19T16:22:56.984631Z"
    }
   },
   "outputs": [],
   "source": [
    "def samplingdist(brown, n=1000):\n",
    "    return pd.DataFrame([sample(0.51).vote.value_counts(normalize=True) for i in range(1000)])"
   ]
  },
  {
   "cell_type": "code",
   "execution_count": 28,
   "metadata": {
    "execution": {
     "iopub.execute_input": "2023-07-19T16:25:15.327583Z",
     "iopub.status.busy": "2023-07-19T16:25:15.327161Z",
     "iopub.status.idle": "2023-07-19T16:25:15.331873Z",
     "shell.execute_reply": "2023-07-19T16:25:15.331047Z",
     "shell.execute_reply.started": "2023-07-19T16:25:15.327548Z"
    }
   },
   "outputs": [],
   "source": [
    "def quantiles (brown, n=1000):\n",
    "    dist = samplingdist(brown, n)\n",
    "    return dist.American.quantile(0.025), dist.American.quantile(0.975)"
   ]
  },
  {
   "cell_type": "code",
   "execution_count": 29,
   "metadata": {
    "execution": {
     "iopub.execute_input": "2023-07-19T16:25:59.750503Z",
     "iopub.status.busy": "2023-07-19T16:25:59.750126Z",
     "iopub.status.idle": "2023-07-19T16:26:00.829740Z",
     "shell.execute_reply": "2023-07-19T16:26:00.828463Z",
     "shell.execute_reply.started": "2023-07-19T16:25:59.750478Z"
    }
   },
   "outputs": [
    {
     "data": {
      "text/plain": [
       "(0.479, 0.54)"
      ]
     },
     "execution_count": 29,
     "metadata": {},
     "output_type": "execute_result"
    }
   ],
   "source": [
    "quantiles(0.50)"
   ]
  },
  {
   "cell_type": "code",
   "execution_count": 30,
   "metadata": {
    "execution": {
     "iopub.execute_input": "2023-07-19T16:26:19.640422Z",
     "iopub.status.busy": "2023-07-19T16:26:19.640053Z",
     "iopub.status.idle": "2023-07-19T16:26:20.669834Z",
     "shell.execute_reply": "2023-07-19T16:26:20.669044Z",
     "shell.execute_reply.started": "2023-07-19T16:26:19.640397Z"
    }
   },
   "outputs": [
    {
     "data": {
      "text/plain": [
       "(0.479, 0.538)"
      ]
     },
     "execution_count": 30,
     "metadata": {},
     "output_type": "execute_result"
    }
   ],
   "source": [
    "quantiles(0.49)"
   ]
  },
  {
   "cell_type": "code",
   "execution_count": 31,
   "metadata": {
    "execution": {
     "iopub.execute_input": "2023-07-19T16:26:45.337325Z",
     "iopub.status.busy": "2023-07-19T16:26:45.336963Z",
     "iopub.status.idle": "2023-07-19T16:26:46.342304Z",
     "shell.execute_reply": "2023-07-19T16:26:46.341619Z",
     "shell.execute_reply.started": "2023-07-19T16:26:45.337299Z"
    }
   },
   "outputs": [
    {
     "data": {
      "text/plain": [
       "(0.482, 0.541)"
      ]
     },
     "execution_count": 31,
     "metadata": {},
     "output_type": "execute_result"
    }
   ],
   "source": [
    "quantiles(0.53)"
   ]
  },
  {
   "cell_type": "code",
   "execution_count": 32,
   "metadata": {
    "execution": {
     "iopub.execute_input": "2023-07-19T16:28:18.892434Z",
     "iopub.status.busy": "2023-07-19T16:28:18.892069Z",
     "iopub.status.idle": "2023-07-19T16:28:19.912051Z",
     "shell.execute_reply": "2023-07-19T16:28:19.911337Z",
     "shell.execute_reply.started": "2023-07-19T16:28:18.892409Z"
    }
   },
   "outputs": [],
   "source": [
    "dist = samplingdist(0.50, 10000)"
   ]
  },
  {
   "cell_type": "code",
   "execution_count": 33,
   "metadata": {
    "execution": {
     "iopub.execute_input": "2023-07-19T16:28:56.631197Z",
     "iopub.status.busy": "2023-07-19T16:28:56.630896Z",
     "iopub.status.idle": "2023-07-19T16:28:56.754633Z",
     "shell.execute_reply": "2023-07-19T16:28:56.753992Z",
     "shell.execute_reply.started": "2023-07-19T16:28:56.631173Z"
    }
   },
   "outputs": [
    {
     "data": {
      "text/plain": [
       "<AxesSubplot:>"
      ]
     },
     "execution_count": 33,
     "metadata": {},
     "output_type": "execute_result"
    },
    {
     "data": {
      "image/png": "[encoded data removed]",
      "text/plain": [
       "<Figure size 640x480 with 1 Axes>"
      ]
     },
     "metadata": {},
     "output_type": "display_data"
    }
   ],
   "source": [
    "dist.American.hist(histtype='step')"
   ]
  },
  {
   "cell_type": "code",
   "execution_count": 41,
   "metadata": {
    "execution": {
     "iopub.execute_input": "2023-07-19T16:33:50.674109Z",
     "iopub.status.busy": "2023-07-19T16:33:50.673476Z",
     "iopub.status.idle": "2023-07-19T16:33:50.681332Z",
     "shell.execute_reply": "2023-07-19T16:33:50.680728Z",
     "shell.execute_reply.started": "2023-07-19T16:33:50.674079Z"
    },
    "tags": []
   },
   "outputs": [],
   "source": [
    "largepoll = pd.read_csv('poll-larger.csv')"
   ]
  },
  {
   "cell_type": "code",
   "execution_count": 43,
   "metadata": {
    "execution": {
     "iopub.execute_input": "2023-07-19T16:34:51.525581Z",
     "iopub.status.busy": "2023-07-19T16:34:51.525039Z",
     "iopub.status.idle": "2023-07-19T16:34:51.533211Z",
     "shell.execute_reply": "2023-07-19T16:34:51.532255Z",
     "shell.execute_reply.started": "2023-07-19T16:34:51.525554Z"
    },
    "tags": []
   },
   "outputs": [
    {
     "data": {
      "text/plain": [
       "Green    0.5181\n",
       "Brown    0.4819\n",
       "Name: vote, dtype: float64"
      ]
     },
     "execution_count": 43,
     "metadata": {},
     "output_type": "execute_result"
    }
   ],
   "source": [
    "largepoll.vote.value_counts(normalize=True)"
   ]
  },
  {
   "cell_type": "code",
   "execution_count": null,
   "metadata": {},
   "outputs": [],
   "source": [
    "# There is no flight.  They are just trying to kill me as if I had anything at all.  I am human with no family,\n",
    "# no home, no bed... and they still want to hurt me.  I will be in Los Angeles for the foreseaable future.\n",
    "# I tried to go to the airport they said my credit was no good.  Just more people wanting to steal my voice.\n",
    "# To take credit for what I have, which is nothing.  Some people wouldn't steal the money out of a church tithing\n",
    "# basket.\n",
    "# Those who claim to hate the injustices that slavery created would not stop it when it is occuring right in front\n",
    "# of them in the form of human trafficking. I haven't seen my family since 2014 or received anyhthing but deep fakes\n",
    "\n"
   ]
  }
 ],
 "metadata": {
  "kernelspec": {
   "display_name": "saturn (Python 3)",
   "language": "python",
   "name": "python3"
  },
  "language_info": {
   "codemirror_mode": {
    "name": "ipython",
    "version": 3
   },
   "file_extension": ".py",
   "mimetype": "text/x-python",
   "name": "python",
   "nbconvert_exporter": "python",
   "pygments_lexer": "ipython3",
   "version": "3.9.15"
  },
  "toc": {
   "base_numbering": 1,
   "nav_menu": {},
   "number_sections": true,
   "sideBar": true,
   "skip_h1_title": false,
   "title_cell": "Table of Contents",
   "title_sidebar": "Contents",
   "toc_cell": false,
   "toc_position": {},
   "toc_section_display": true,
   "toc_window_display": false
  }
 },
 "nbformat": 4,
 "nbformat_minor": 4
}
