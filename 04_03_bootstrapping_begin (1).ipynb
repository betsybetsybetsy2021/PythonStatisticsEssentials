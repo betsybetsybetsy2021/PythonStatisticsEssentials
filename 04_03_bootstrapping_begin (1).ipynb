{
 "cells": [
  {
   "cell_type": "markdown",
   "metadata": {},
   "source": [
    "## Python statistics essential training - 04_03_bootstrapping"
   ]
  },
  {
   "cell_type": "markdown",
   "metadata": {},
   "source": [
    "Standard imports"
   ]
  },
  {
   "cell_type": "code",
   "execution_count": 2,
   "metadata": {
    "execution": {
     "iopub.execute_input": "2023-07-19T21:01:17.300903Z",
     "iopub.status.busy": "2023-07-19T21:01:17.300532Z",
     "iopub.status.idle": "2023-07-19T21:01:17.304534Z",
     "shell.execute_reply": "2023-07-19T21:01:17.303587Z",
     "shell.execute_reply.started": "2023-07-19T21:01:17.300874Z"
    },
    "tags": []
   },
   "outputs": [],
   "source": [
    "import math\n",
    "import io"
   ]
  },
  {
   "cell_type": "code",
   "execution_count": 3,
   "metadata": {
    "execution": {
     "iopub.execute_input": "2023-07-19T21:01:19.235931Z",
     "iopub.status.busy": "2023-07-19T21:01:19.235561Z",
     "iopub.status.idle": "2023-07-19T21:01:21.612205Z",
     "shell.execute_reply": "2023-07-19T21:01:21.611239Z",
     "shell.execute_reply.started": "2023-07-19T21:01:19.235902Z"
    },
    "tags": []
   },
   "outputs": [],
   "source": [
    "import numpy as np\n",
    "import pandas as pd\n",
    "\n",
    "import matplotlib\n",
    "import matplotlib.pyplot as pp\n",
    "\n",
    "%matplotlib inline"
   ]
  },
  {
   "cell_type": "code",
   "execution_count": 4,
   "metadata": {
    "execution": {
     "iopub.execute_input": "2023-07-19T21:01:22.254119Z",
     "iopub.status.busy": "2023-07-19T21:01:22.253499Z",
     "iopub.status.idle": "2023-07-19T21:01:23.202481Z",
     "shell.execute_reply": "2023-07-19T21:01:23.201774Z",
     "shell.execute_reply.started": "2023-07-19T21:01:22.254088Z"
    },
    "tags": []
   },
   "outputs": [],
   "source": [
    "import scipy.stats\n",
    "import scipy.optimize\n",
    "import scipy.spatial"
   ]
  },
  {
   "cell_type": "code",
   "execution_count": 5,
   "metadata": {
    "execution": {
     "iopub.execute_input": "2023-07-19T21:01:29.347487Z",
     "iopub.status.busy": "2023-07-19T21:01:29.347102Z",
     "iopub.status.idle": "2023-07-19T21:01:29.355124Z",
     "shell.execute_reply": "2023-07-19T21:01:29.354471Z",
     "shell.execute_reply.started": "2023-07-19T21:01:29.347457Z"
    },
    "tags": []
   },
   "outputs": [],
   "source": [
    "pop = pd.read_csv('grades.csv')"
   ]
  },
  {
   "cell_type": "code",
   "execution_count": 6,
   "metadata": {
    "execution": {
     "iopub.execute_input": "2023-07-19T21:01:32.480805Z",
     "iopub.status.busy": "2023-07-19T21:01:32.480418Z",
     "iopub.status.idle": "2023-07-19T21:01:32.731241Z",
     "shell.execute_reply": "2023-07-19T21:01:32.730547Z",
     "shell.execute_reply.started": "2023-07-19T21:01:32.480777Z"
    },
    "tags": []
   },
   "outputs": [
    {
     "data": {
      "text/plain": [
       "<AxesSubplot:>"
      ]
     },
     "execution_count": 6,
     "metadata": {},
     "output_type": "execute_result"
    },
    {
     "data": {
      "image/png": "[encoded data removed]",
      "text/plain": [
       "<Figure size 640x480 with 1 Axes>"
      ]
     },
     "metadata": {},
     "output_type": "display_data"
    }
   ],
   "source": [
    "pop.grade.hist(histtype='step')"
   ]
  },
  {
   "cell_type": "code",
   "execution_count": 7,
   "metadata": {
    "execution": {
     "iopub.execute_input": "2023-07-19T21:01:38.754723Z",
     "iopub.status.busy": "2023-07-19T21:01:38.754346Z",
     "iopub.status.idle": "2023-07-19T21:01:38.774441Z",
     "shell.execute_reply": "2023-07-19T21:01:38.773801Z",
     "shell.execute_reply.started": "2023-07-19T21:01:38.754696Z"
    },
    "tags": []
   },
   "outputs": [
    {
     "data": {
      "text/html": [
       "<div>\n",
       "<style scoped>\n",
       "    .dataframe tbody tr th:only-of-type {\n",
       "        vertical-align: middle;\n",
       "    }\n",
       "\n",
       "    .dataframe tbody tr th {\n",
       "        vertical-align: top;\n",
       "    }\n",
       "\n",
       "    .dataframe thead th {\n",
       "        text-align: right;\n",
       "    }\n",
       "</style>\n",
       "<table border=\"1\" class=\"dataframe\">\n",
       "  <thead>\n",
       "    <tr style=\"text-align: right;\">\n",
       "      <th></th>\n",
       "      <th>grade</th>\n",
       "    </tr>\n",
       "  </thead>\n",
       "  <tbody>\n",
       "    <tr>\n",
       "      <th>count</th>\n",
       "      <td>100.000000</td>\n",
       "    </tr>\n",
       "    <tr>\n",
       "      <th>mean</th>\n",
       "      <td>5.508561</td>\n",
       "    </tr>\n",
       "    <tr>\n",
       "      <th>std</th>\n",
       "      <td>1.984988</td>\n",
       "    </tr>\n",
       "    <tr>\n",
       "      <th>min</th>\n",
       "      <td>1.160899</td>\n",
       "    </tr>\n",
       "    <tr>\n",
       "      <th>25%</th>\n",
       "      <td>3.921372</td>\n",
       "    </tr>\n",
       "    <tr>\n",
       "      <th>50%</th>\n",
       "      <td>5.688527</td>\n",
       "    </tr>\n",
       "    <tr>\n",
       "      <th>75%</th>\n",
       "      <td>7.272162</td>\n",
       "    </tr>\n",
       "    <tr>\n",
       "      <th>max</th>\n",
       "      <td>9.120705</td>\n",
       "    </tr>\n",
       "  </tbody>\n",
       "</table>\n",
       "</div>"
      ],
      "text/plain": [
       "            grade\n",
       "count  100.000000\n",
       "mean     5.508561\n",
       "std      1.984988\n",
       "min      1.160899\n",
       "25%      3.921372\n",
       "50%      5.688527\n",
       "75%      7.272162\n",
       "max      9.120705"
      ]
     },
     "execution_count": 7,
     "metadata": {},
     "output_type": "execute_result"
    }
   ],
   "source": [
    "pop.describe()"
   ]
  },
  {
   "cell_type": "code",
   "execution_count": 8,
   "metadata": {
    "execution": {
     "iopub.execute_input": "2023-07-19T21:01:43.616138Z",
     "iopub.status.busy": "2023-07-19T21:01:43.615729Z",
     "iopub.status.idle": "2023-07-19T21:01:43.628345Z",
     "shell.execute_reply": "2023-07-19T21:01:43.627548Z",
     "shell.execute_reply.started": "2023-07-19T21:01:43.616107Z"
    },
    "tags": []
   },
   "outputs": [
    {
     "data": {
      "text/html": [
       "<div>\n",
       "<style scoped>\n",
       "    .dataframe tbody tr th:only-of-type {\n",
       "        vertical-align: middle;\n",
       "    }\n",
       "\n",
       "    .dataframe tbody tr th {\n",
       "        vertical-align: top;\n",
       "    }\n",
       "\n",
       "    .dataframe thead th {\n",
       "        text-align: right;\n",
       "    }\n",
       "</style>\n",
       "<table border=\"1\" class=\"dataframe\">\n",
       "  <thead>\n",
       "    <tr style=\"text-align: right;\">\n",
       "      <th></th>\n",
       "      <th>grade</th>\n",
       "    </tr>\n",
       "  </thead>\n",
       "  <tbody>\n",
       "    <tr>\n",
       "      <th>count</th>\n",
       "      <td>100.000000</td>\n",
       "    </tr>\n",
       "    <tr>\n",
       "      <th>mean</th>\n",
       "      <td>5.248697</td>\n",
       "    </tr>\n",
       "    <tr>\n",
       "      <th>std</th>\n",
       "      <td>1.952313</td>\n",
       "    </tr>\n",
       "    <tr>\n",
       "      <th>min</th>\n",
       "      <td>1.983167</td>\n",
       "    </tr>\n",
       "    <tr>\n",
       "      <th>25%</th>\n",
       "      <td>3.617797</td>\n",
       "    </tr>\n",
       "    <tr>\n",
       "      <th>50%</th>\n",
       "      <td>4.946752</td>\n",
       "    </tr>\n",
       "    <tr>\n",
       "      <th>75%</th>\n",
       "      <td>7.015815</td>\n",
       "    </tr>\n",
       "    <tr>\n",
       "      <th>max</th>\n",
       "      <td>8.467353</td>\n",
       "    </tr>\n",
       "  </tbody>\n",
       "</table>\n",
       "</div>"
      ],
      "text/plain": [
       "            grade\n",
       "count  100.000000\n",
       "mean     5.248697\n",
       "std      1.952313\n",
       "min      1.983167\n",
       "25%      3.617797\n",
       "50%      4.946752\n",
       "75%      7.015815\n",
       "max      8.467353"
      ]
     },
     "execution_count": 8,
     "metadata": {},
     "output_type": "execute_result"
    }
   ],
   "source": [
    "pop.sample(100,replace=True).describe()"
   ]
  },
  {
   "cell_type": "code",
   "execution_count": 9,
   "metadata": {
    "execution": {
     "iopub.execute_input": "2023-07-19T21:01:51.527953Z",
     "iopub.status.busy": "2023-07-19T21:01:51.527581Z",
     "iopub.status.idle": "2023-07-19T21:01:51.824647Z",
     "shell.execute_reply": "2023-07-19T21:01:51.823894Z",
     "shell.execute_reply.started": "2023-07-19T21:01:51.527926Z"
    },
    "tags": []
   },
   "outputs": [],
   "source": [
    "bootstrap = pd.DataFrame({'meangrade': [pop.sample(100,replace=True).grade.mean() for i in range(1000)]})"
   ]
  },
  {
   "cell_type": "code",
   "execution_count": 10,
   "metadata": {
    "execution": {
     "iopub.execute_input": "2023-07-19T21:01:54.602550Z",
     "iopub.status.busy": "2023-07-19T21:01:54.602111Z",
     "iopub.status.idle": "2023-07-19T21:01:54.720428Z",
     "shell.execute_reply": "2023-07-19T21:01:54.719479Z",
     "shell.execute_reply.started": "2023-07-19T21:01:54.602515Z"
    },
    "tags": []
   },
   "outputs": [
    {
     "data": {
      "text/plain": [
       "<matplotlib.lines.Line2D at 0x7f05dcdc35b0>"
      ]
     },
     "execution_count": 10,
     "metadata": {},
     "output_type": "execute_result"
    },
    {
     "data": {
      "image/png": "[encoded data removed]",
      "text/plain": [
       "<Figure size 640x480 with 1 Axes>"
      ]
     },
     "metadata": {},
     "output_type": "display_data"
    }
   ],
   "source": [
    "bootstrap.meangrade.hist(histtype='step')\n",
    "pp.axvline(pop.grade.mean(), color='C1')"
   ]
  },
  {
   "cell_type": "code",
   "execution_count": 11,
   "metadata": {
    "execution": {
     "iopub.execute_input": "2023-07-19T21:03:06.218833Z",
     "iopub.status.busy": "2023-07-19T21:03:06.218453Z",
     "iopub.status.idle": "2023-07-19T21:03:06.226541Z",
     "shell.execute_reply": "2023-07-19T21:03:06.225756Z",
     "shell.execute_reply.started": "2023-07-19T21:03:06.218804Z"
    }
   },
   "outputs": [
    {
     "data": {
      "text/plain": [
       "(5.143926517084605, 5.908132220193675)"
      ]
     },
     "execution_count": 11,
     "metadata": {},
     "output_type": "execute_result"
    }
   ],
   "source": [
    "bootstrap.meangrade.quantile(0.025), bootstrap.meangrade.quantile(0.975)"
   ]
  },
  {
   "cell_type": "code",
   "execution_count": 13,
   "metadata": {
    "execution": {
     "iopub.execute_input": "2023-07-19T21:08:06.410494Z",
     "iopub.status.busy": "2023-07-19T21:08:06.410106Z",
     "iopub.status.idle": "2023-07-19T21:08:06.533453Z",
     "shell.execute_reply": "2023-07-19T21:08:06.532653Z",
     "shell.execute_reply.started": "2023-07-19T21:08:06.410465Z"
    },
    "tags": []
   },
   "outputs": [
    {
     "data": {
      "text/plain": [
       "[<matplotlib.lines.Line2D at 0x7f05dbe00370>]"
      ]
     },
     "execution_count": 13,
     "metadata": {},
     "output_type": "execute_result"
    },
    {
     "data": {
      "image/png": "[encoded data removed]",
      "text/plain": [
       "<Figure size 640x480 with 1 Axes>"
      ]
     },
     "metadata": {},
     "output_type": "display_data"
    }
   ],
   "source": [
    "n1 = scipy.stats.norm(7.5,1)\n",
    "n2 = scipy.stats.norm(4,1)\n",
    "\n",
    "x = np.linspace(0,10,100)\n",
    "pp.plot(x,0.5*n1.pdf(x) + 0.5*n2.pdf(x))"
   ]
  },
  {
   "cell_type": "code",
   "execution_count": 21,
   "metadata": {
    "execution": {
     "iopub.execute_input": "2023-07-19T21:32:51.798481Z",
     "iopub.status.busy": "2023-07-19T21:32:51.798085Z",
     "iopub.status.idle": "2023-07-19T21:32:51.802834Z",
     "shell.execute_reply": "2023-07-19T21:32:51.802001Z",
     "shell.execute_reply.started": "2023-07-19T21:32:51.798453Z"
    },
    "tags": []
   },
   "outputs": [],
   "source": [
    "def draw():\n",
    "    while True:\n",
    "        v = n1.rvs() if np.random.rand() < 0.5 else n2.rvs()\n",
    "        if 0 <= v <= 10:\n",
    "            return v"
   ]
  },
  {
   "cell_type": "code",
   "execution_count": 22,
   "metadata": {
    "execution": {
     "iopub.execute_input": "2023-07-19T21:32:59.295580Z",
     "iopub.status.busy": "2023-07-19T21:32:59.295177Z",
     "iopub.status.idle": "2023-07-19T21:32:59.301231Z",
     "shell.execute_reply": "2023-07-19T21:32:59.300281Z",
     "shell.execute_reply.started": "2023-07-19T21:32:59.295551Z"
    },
    "tags": []
   },
   "outputs": [
    {
     "data": {
      "text/plain": [
       "6.7981223881973545"
      ]
     },
     "execution_count": 22,
     "metadata": {},
     "output_type": "execute_result"
    }
   ],
   "source": [
    "draw()"
   ]
  },
  {
   "cell_type": "code",
   "execution_count": 23,
   "metadata": {
    "execution": {
     "iopub.execute_input": "2023-07-19T21:33:03.856933Z",
     "iopub.status.busy": "2023-07-19T21:33:03.856555Z",
     "iopub.status.idle": "2023-07-19T21:33:03.861033Z",
     "shell.execute_reply": "2023-07-19T21:33:03.860157Z",
     "shell.execute_reply.started": "2023-07-19T21:33:03.856905Z"
    },
    "tags": []
   },
   "outputs": [],
   "source": [
    "def dataset (n=100):\n",
    "    return pd.DataFrame({'grade': [draw() for i in range(n)]})"
   ]
  },
  {
   "cell_type": "code",
   "execution_count": 24,
   "metadata": {
    "execution": {
     "iopub.execute_input": "2023-07-19T21:33:10.295623Z",
     "iopub.status.busy": "2023-07-19T21:33:10.295120Z",
     "iopub.status.idle": "2023-07-19T21:33:10.431091Z",
     "shell.execute_reply": "2023-07-19T21:33:10.430364Z",
     "shell.execute_reply.started": "2023-07-19T21:33:10.295590Z"
    },
    "tags": []
   },
   "outputs": [
    {
     "data": {
      "image/png": "[encoded data removed]",
      "text/plain": [
       "<Figure size 640x480 with 1 Axes>"
      ]
     },
     "metadata": {},
     "output_type": "display_data"
    }
   ],
   "source": [
    "for i in range(5):\n",
    "    dataset(100).grade.hist(histtype='step',density=True)"
   ]
  },
  {
   "cell_type": "code",
   "execution_count": 25,
   "metadata": {
    "execution": {
     "iopub.execute_input": "2023-07-19T21:35:08.891746Z",
     "iopub.status.busy": "2023-07-19T21:35:08.891358Z",
     "iopub.status.idle": "2023-07-19T21:35:13.004968Z",
     "shell.execute_reply": "2023-07-19T21:35:13.004202Z",
     "shell.execute_reply.started": "2023-07-19T21:35:08.891715Z"
    }
   },
   "outputs": [],
   "source": [
    "means = pd.DataFrame({'meangrade': [ dataset(100).grade.mean() for i in range(1000)]})"
   ]
  },
  {
   "cell_type": "code",
   "execution_count": 27,
   "metadata": {
    "execution": {
     "iopub.execute_input": "2023-07-19T21:45:43.689202Z",
     "iopub.status.busy": "2023-07-19T21:45:43.688818Z",
     "iopub.status.idle": "2023-07-19T21:45:43.804071Z",
     "shell.execute_reply": "2023-07-19T21:45:43.803329Z",
     "shell.execute_reply.started": "2023-07-19T21:45:43.689173Z"
    },
    "tags": []
   },
   "outputs": [
    {
     "data": {
      "text/plain": [
       "<AxesSubplot:>"
      ]
     },
     "execution_count": 27,
     "metadata": {},
     "output_type": "execute_result"
    },
    {
     "data": {
      "image/png": "[encoded data removed]",
      "text/plain": [
       "<Figure size 640x480 with 1 Axes>"
      ]
     },
     "metadata": {},
     "output_type": "display_data"
    }
   ],
   "source": [
    "means.meangrade.hist(histtype='step')\n",
    "bootstrap.meangrade.hist(histtype='step')"
   ]
  },
  {
   "cell_type": "code",
   "execution_count": null,
   "metadata": {},
   "outputs": [],
   "source": []
  }
 ],
 "metadata": {
  "kernelspec": {
   "display_name": "saturn (Python 3)",
   "language": "python",
   "name": "python3"
  },
  "language_info": {
   "codemirror_mode": {
    "name": "ipython",
    "version": 3
   },
   "file_extension": ".py",
   "mimetype": "text/x-python",
   "name": "python",
   "nbconvert_exporter": "python",
   "pygments_lexer": "ipython3",
   "version": "3.9.15"
  },
  "toc": {
   "base_numbering": 1,
   "nav_menu": {},
   "number_sections": true,
   "sideBar": true,
   "skip_h1_title": false,
   "title_cell": "Table of Contents",
   "title_sidebar": "Contents",
   "toc_cell": false,
   "toc_position": {},
   "toc_section_display": true,
   "toc_window_display": false
  }
 },
 "nbformat": 4,
 "nbformat_minor": 4
}
