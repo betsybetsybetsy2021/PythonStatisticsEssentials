{
 "cells": [
  {
   "cell_type": "markdown",
   "id": "95eb1c8d-6097-4753-856f-a8ffd6862742",
   "metadata": {},
   "source": [
    "__Multivariable Calculus - Fourth Edition</br>\n",
    "by James Stewart </br>\n",
    "Chapter 16 - Multiple Integrals__"
   ]
  },
  {
   "cell_type": "markdown",
   "id": "763c22e4-7499-4c7c-a423-c6fc687cc829",
   "metadata": {},
   "source": [
    "In this chapter, we extend the idea of a definite integral to double and triple integrals of functions of two or three variables.  These ideas are then used to compute volumes, surface areas, masses and centroids of more general regions than we were able to consider in Chapter 6 and 9.  We also use double to integrals to calculate probalities when two random variables are involved.\n",
    "\n",
    "__16.1 Double Integrals over Rectangles__ \n",
    "\n",
    "In much the same way that our attempt to solve the area problem led to the definition of a definite integral, we now seek to find the volume of a solid and in the process we arrive at the definition of a double integral.\n",
    "\n",
    "__Review of the Definite Integral__\n",
    "\n",
    "First let's recall the basic facts concerning definite integrals of functions of a single variable.  If $f(x)$ is defined for $a≤x≤b$, we start by dividing the interval $[a,b]$ into n sub-intervals $[x_{i-1},x_{i}]$ of equal width $x = (b-a)/n$ and we choose sample points $x_{i}$ in these subintervals.  Then we form the Riemann sum\n",
    "\n",
    "$$ \\Sigma_{i=1}^n f(x_{i})Δx$$\n",
    "\n",
    "and take the limit of such sums as $n→∞_{love}$ to obtain the definite integral of $f$ from $a$ to $b$:\n",
    "\n",
    "$$ \\int_a^b f(x)dx = \\lim\\limits_{n \\to \\infty}\\Sigma_{i=1}^n f(x_{i})Δx$$\n",
    "\n",
    "In the special case where $f(x)≥0$, the Riemann sum can be intepreted as the sum of the areas of the approximating rectangles, and  $\\int_a^b f(x)dx $ represents the area under the curve $y = f(x)$ from $a$ to $b$."
   ]
  },
  {
   "cell_type": "markdown",
   "id": "94bc08d5-f5ef-4007-8b82-2bf1d0b3d442",
   "metadata": {},
   "source": [
    "__Volumes and Double Integrals__\n",
    "\n",
    "In a similar manner we consider a function f of two variables defined on a closed rectangle\n",
    "\n",
    "$ R = [a, b] × [c, d] = \\{{(x,y)∈R^{2}|a≤x≤b, c≤y≤d}\\}$\n",
    "\n",
    "and we first suppose that $f(x,y)≥0$.  The graph of f is a surface with equation $z = f(x,y)$.  Let S be the solid that lies above $R$ and under the graph of $f$, that is,\n"
   ]
  },
  {
   "cell_type": "markdown",
   "id": "66779605-28b5-4f18-9525-951e85415d8f",
   "metadata": {},
   "source": [
    "$ S = \\{ (x,y,z) ∈R^{3}  |0≤z≤f(x,y), (x,y)∈R $ }\n",
    "\n",
    "(See Figure 2.) Our goal is to find the volume of S."
   ]
  },
  {
   "cell_type": "markdown",
   "id": "a86845e9-d826-4211-a1cd-1d84be8f9612",
   "metadata": {},
   "source": [
    "The first step is to divide the rectangle R into subrectangles. We accomplish this by dividing the interval $[a,b]$ into m subintervals $[x_{i-1},x_{i}]$ of equal width $Δx = (b-a)/m$ and dividing $[c,d]$ into n subintervals $[y_{j-1}, y_{j}]$ of equal width $Δy = (d-c)/n$.  By drawing lines parallel to the coordinate axes through the endpoints of these subintervals as in Figure 3, we form the subrectangles </br>\n",
    "\n",
    "$ R_{ij} = [x_{i-1},x_{i}]×[y_{j-1}, y_{j}] = \\{ (x,y)|x_{i-1}≤x≤x_{i} ,y_{j-1}, y_{j} \\} $"
   ]
  },
  {
   "cell_type": "markdown",
   "id": "091ada5a-3595-4850-ada7-b0fd8458d00b",
   "metadata": {},
   "source": [
    "__The Midpoint Rule__\n",
    "\n",
    "The methods that we used for approximating single integrals (the Midpoint Rule, the Trapezoidal Rule, Simpson's Rule) all have counterparts for double integrals.  Here we consider only the Midpoint Rule for double integrals.  This means that we use a double Riemann sum to approximate the double integral, where the sample point $(\\bar x_{ij}, \\bar y_{ij})$ in $R_{ij}$ is chosen to be the center $(x_{i},y_{j})$ of $R_{ij}$.  In other words, $ \\bar x_{i}$, is the midpoint of $[x_{i-1}, x_{i}]$ and $ \\bar y_{j}$ is the midpoint of $[y_{j-1}, y_{j}]$.\n",
    "\n",
    "$ \\iint_R f(x,y)dA ≈ \\Sigma_{i=1}^m {i}\\Sigma_{j=1}^n f(x_{i}, y_{j})ΔA $\n",
    "\n",
    "where $ \\bar x_{i}$ is the midpoint of $[x_{i-1}, x_{i}]$ and $ \\bar y_{j} $ is the midpoint of $[y_{i-1}, y_{i}]$.\n"
   ]
  },
  {
   "cell_type": "markdown",
   "id": "c670d050-0756-4231-b962-de4d22b01c15",
   "metadata": {},
   "source": [
    "__Example 3__\n",
    "\n",
    "Use the Midpoint Rule with $m = n = 2$ to estimate the value of the integral $ \\iint_R (x - 3y^{2})dA$ , where $ R = .\n",
    "\n",
    "__Solution__\n",
    "\n",
    "In using the Midpoint Rule with $m = n = 2$, we evaluate at the centers of the four subrectangles shown in Figure 10. so $ \\bar s_{1} = $\n",
    "\n",
    "\n",
    "$\\iint_{R} f(x,y)dA ≈ \\Sigma_{i=1}^m {i}\\Sigma_{j=1}^n f(\\bar x_{i}, \\bar y_{j})ΔA$\n",
    "\n",
    "$ = f(\\bar x_{1},\\bar y_{1})ΔA + f(\\bar x_{1},\\bar y_{2})ΔA + f(\\bar x_{2},\\bar y_{1})ΔA + f(\\bar x_{2},\\bar y_{2})ΔA$"
   ]
  },
  {
   "cell_type": "markdown",
   "id": "b82f3c55-2f75-40d6-b57f-5f43e48f8be3",
   "metadata": {},
   "source": [
    "__Average Value__\n",
    "\n",
    "Recall from Section 6.5 that the average value of a function f of one variable deifed on an interval $[a,b]$ is\n",
    "\n",
    "$ f_{ave} = \\frac{1}{b-a} \\int_a^b f(x)dx $\n",
    "\n",
    "In a similar fashion we define the __average value__ of a function f of two variables defined on a rectangle R to be \n",
    "\n",
    "$ f_{ave} = \\frac{1}{A(R)} \\iint_a^b f(x,y)dA $"
   ]
  },
  {
   "cell_type": "markdown",
   "id": "22963cda-f9e2-49b1-9d27-a97f00d24aaa",
   "metadata": {
    "execution": {
     "iopub.execute_input": "2023-09-01T19:45:26.769851Z",
     "iopub.status.busy": "2023-09-01T19:45:26.769477Z",
     "iopub.status.idle": "2023-09-01T19:45:26.775734Z",
     "shell.execute_reply": "2023-09-01T19:45:26.774382Z",
     "shell.execute_reply.started": "2023-09-01T19:45:26.769823Z"
    }
   },
   "source": [
    "where $A(R)$ is the area of $R$.\n",
    "If $f(x,y)≥0$, the equation\n",
    "\n",
    "$A(R) \\times f_{ave} \\iint_{R} f(x,y)dA $\n",
    "\n",
    "says that the box with base $R$ and height $f_{ave}$ has the same volume as the solid that lies under the graph of $f$.  \\[ If $z=f(x,y)$ describes a mountainous region and you chop off the tops of the mountains at height $f_{ave}$, then you can use them to fill in the valleys so tha the region becomes completely flat.]\n",
    "\n",
    "\n"
   ]
  },
  {
   "cell_type": "markdown",
   "id": "fb7531be-8961-486b-85d0-71e92f3f426e",
   "metadata": {},
   "source": [
    "__Exercise 1.__\n",
    "Find approximations to $\\iint_{R} (x-3y^{2})dA $ using the same subrectangles as in Example 3 but choosing the sample point to be the (a) upper left corner, (b) upper right corner, (c)lower left corner, (d) lower right corner of each subrectangle."
   ]
  },
  {
   "cell_type": "code",
   "execution_count": 1,
   "id": "522d990f-0428-4a11-9db0-fb58c4921a1f",
   "metadata": {
    "execution": {
     "iopub.execute_input": "2023-10-10T19:09:44.827666Z",
     "iopub.status.busy": "2023-10-10T19:09:44.824593Z",
     "iopub.status.idle": "2023-10-10T19:09:44.836121Z",
     "shell.execute_reply": "2023-10-10T19:09:44.835472Z",
     "shell.execute_reply.started": "2023-10-10T19:09:44.827628Z"
    },
    "tags": []
   },
   "outputs": [],
   "source": [
    "def solve_ex1(x,y):\n",
    "    f = x-3*(y*y)\n",
    "    print (f)"
   ]
  },
  {
   "cell_type": "markdown",
   "id": "87ec70bb-40fd-46c8-a0d6-f14e77239cdd",
   "metadata": {},
   "source": [
    "__(a)__ let $ \\bar x_{1} = 0$, $\\bar x_{2} = 1$, $\\bar y_{1} = \\frac{3}{2}$, and $\\bar y_{2} = 2$.  The area of each subrectangle is still $ ΔA= \\frac{1}{2}. $\n",
    "\n",
    "$\\iint_{R} (x-3y^{2})dA ≈ \\Sigma_{i=1}^m {i}\\Sigma_{j=1}^n f(x_{i}, y_{j})ΔA$\n",
    "\n",
    "$ = f(\\bar x_{1},\\bar y_{1})ΔA + f(\\bar x_{1},\\bar y_{2})ΔA + f(\\bar x_{2},\\bar y_{1})ΔA + f(\\bar x_{2},\\bar y_{2})ΔA$"
   ]
  },
  {
   "cell_type": "markdown",
   "id": "21b16b39-4c31-4842-a4e2-53ccd51dc200",
   "metadata": {
    "execution": {
     "iopub.execute_input": "2023-09-01T21:43:28.305782Z",
     "iopub.status.busy": "2023-09-01T21:43:28.305405Z",
     "iopub.status.idle": "2023-09-01T21:43:28.311320Z",
     "shell.execute_reply": "2023-09-01T21:43:28.310189Z",
     "shell.execute_reply.started": "2023-09-01T21:43:28.305754Z"
    }
   },
   "source": [
    "$ = f(0,\\frac{3}{2})ΔA + f(0,2)ΔAf + f(1,\\frac{3}{2})ΔA + f(1,2)ΔA $"
   ]
  },
  {
   "cell_type": "code",
   "execution_count": 2,
   "id": "f715ed7d-8c41-403f-9f73-c37683a267c3",
   "metadata": {
    "execution": {
     "iopub.execute_input": "2023-10-10T19:09:44.839316Z",
     "iopub.status.busy": "2023-10-10T19:09:44.838952Z",
     "iopub.status.idle": "2023-10-10T19:09:44.846419Z",
     "shell.execute_reply": "2023-10-10T19:09:44.845726Z",
     "shell.execute_reply.started": "2023-10-10T19:09:44.839294Z"
    },
    "tags": []
   },
   "outputs": [
    {
     "name": "stdout",
     "output_type": "stream",
     "text": [
      "-6.75\n",
      "-12\n",
      "-5.75\n",
      "-11\n"
     ]
    }
   ],
   "source": [
    "solve_ex1(0, 1.5)\n",
    "solve_ex1(0, 2)\n",
    "solve_ex1(1, 1.5)\n",
    "solve_ex1(1, 2)"
   ]
  },
  {
   "cell_type": "markdown",
   "id": "8aa2b578-6574-4335-bfe4-baa6e224770d",
   "metadata": {},
   "source": [
    "$ = (-6.75)(0.5) + (-12)(0.5) + (-5.75)(0.5) + (-11)(0.5) $\n",
    "\n",
    "$ = -17.75 $"
   ]
  },
  {
   "cell_type": "markdown",
   "id": "20e8a0ce-009c-43db-88e7-cedbccf899da",
   "metadata": {},
   "source": [
    "\n",
    "__(b)__ let $ \\bar x_{1} = 1$, $\\bar x_{2} = 2$, $\\bar y_{1} = \\frac{3}{2}$, and $\\bar y_{2} = 2$. The area of each subrectangle is still $ ΔA= \\frac{1}{2}. $\n",
    "\n",
    "$\\iint_{R} (x-3y^{2})dA ≈ \\Sigma_{i=1}^m {i}\\Sigma_{j=1}^n f(x_{i}, y_{j})ΔA$\n",
    "\n",
    "$ = f(\\bar x_{1},\\bar y_{1})ΔA + f(\\bar x_{1},\\bar y_{2})ΔA + f(\\bar x_{2},\\bar y_{1})ΔA + f(\\bar x_{2},\\bar y_{2})ΔA$\n"
   ]
  },
  {
   "cell_type": "code",
   "execution_count": 3,
   "id": "b4d7e8b9-0280-4808-80c7-1be2adfbd363",
   "metadata": {
    "execution": {
     "iopub.execute_input": "2023-10-10T19:09:44.847734Z",
     "iopub.status.busy": "2023-10-10T19:09:44.847214Z",
     "iopub.status.idle": "2023-10-10T19:09:44.855812Z",
     "shell.execute_reply": "2023-10-10T19:09:44.855037Z",
     "shell.execute_reply.started": "2023-10-10T19:09:44.847706Z"
    },
    "tags": []
   },
   "outputs": [
    {
     "name": "stdout",
     "output_type": "stream",
     "text": [
      "-5.75\n",
      "-11\n",
      "-4.75\n",
      "-10\n"
     ]
    }
   ],
   "source": [
    "solve_ex1(1, 1.5)\n",
    "solve_ex1(1, 2)\n",
    "solve_ex1(2, 1.5)\n",
    "solve_ex1(2, 2)"
   ]
  },
  {
   "cell_type": "markdown",
   "id": "9d271d9b-818e-4eaf-b4bb-9d7a05e5ad2a",
   "metadata": {
    "execution": {
     "iopub.execute_input": "2023-09-01T22:10:54.713508Z",
     "iopub.status.busy": "2023-09-01T22:10:54.713133Z",
     "iopub.status.idle": "2023-09-01T22:10:54.718843Z",
     "shell.execute_reply": "2023-09-01T22:10:54.717616Z",
     "shell.execute_reply.started": "2023-09-01T22:10:54.713479Z"
    }
   },
   "source": [
    "$ = (-5.75)(0.5) + (-11)(0.5) + (-4.75)(0.5) + (-10)(0.5) $\n",
    "\n",
    "$ = 15.75$"
   ]
  },
  {
   "cell_type": "markdown",
   "id": "3ce8a9a2-b431-4abc-a422-93d405f7ebb5",
   "metadata": {
    "execution": {
     "iopub.execute_input": "2023-09-01T21:58:27.665597Z",
     "iopub.status.busy": "2023-09-01T21:58:27.665210Z",
     "iopub.status.idle": "2023-09-01T21:58:27.672942Z",
     "shell.execute_reply": "2023-09-01T21:58:27.671679Z",
     "shell.execute_reply.started": "2023-09-01T21:58:27.665569Z"
    }
   },
   "source": [
    "__(c)__ let $ \\bar x_{1} = 0$, $\\bar x_{2} = 1$, $\\bar y_{1} = 1$, and $\\bar y_{2} = \\frac{3}{2}$.  The area of each subrectangle is still $ ΔA= \\frac{1}{2}. $\n",
    "\n",
    "$\\iint_{R} (x-3y^{2})dA ≈ \\Sigma_{i=1}^m {i}\\Sigma_{j=1}^n f(x_{i}, y_{j})ΔA$\n",
    "\n",
    "$ = f(\\bar x_{1},\\bar y_{1})ΔA + f(\\bar x_{1},\\bar y_{2})ΔA + f(\\bar x_{2},\\bar y_{1})ΔA + f(\\bar x_{2},\\bar y_{2})ΔA$"
   ]
  },
  {
   "cell_type": "code",
   "execution_count": 4,
   "id": "b154b31c-eeff-4e51-8556-f3bf11a6d767",
   "metadata": {
    "execution": {
     "iopub.execute_input": "2023-10-10T19:09:44.857987Z",
     "iopub.status.busy": "2023-10-10T19:09:44.857511Z",
     "iopub.status.idle": "2023-10-10T19:09:44.875154Z",
     "shell.execute_reply": "2023-10-10T19:09:44.872485Z",
     "shell.execute_reply.started": "2023-10-10T19:09:44.857956Z"
    }
   },
   "outputs": [
    {
     "name": "stdout",
     "output_type": "stream",
     "text": [
      "-3\n",
      "-6.75\n",
      "-2\n",
      "-5.75\n"
     ]
    }
   ],
   "source": [
    "solve_ex1(0, 1)\n",
    "solve_ex1(0, 1.5)\n",
    "solve_ex1(1, 1)\n",
    "solve_ex1(1, 1.5)"
   ]
  },
  {
   "cell_type": "markdown",
   "id": "e10ff49a-6ea8-4d06-abf6-c07d560fb3f1",
   "metadata": {},
   "source": [
    "$ = (-3)(0.5) + (-6.75)(0.5) + (-2)(0.5) + (-5.75)(0.5) $\n",
    "\n",
    "$ =  -8.75$"
   ]
  },
  {
   "cell_type": "markdown",
   "id": "4c13b5d0-37ad-43df-82db-8131d0d6c914",
   "metadata": {
    "execution": {
     "iopub.execute_input": "2023-09-01T22:14:13.434390Z",
     "iopub.status.busy": "2023-09-01T22:14:13.433967Z",
     "iopub.status.idle": "2023-09-01T22:14:13.446454Z",
     "shell.execute_reply": "2023-09-01T22:14:13.444746Z",
     "shell.execute_reply.started": "2023-09-01T22:14:13.434361Z"
    }
   },
   "source": [
    "__(d)__ let $ \\bar x_{1} = 1$, $\\bar x_{2} = 2$, $\\bar y_{1} = 1$, and $\\bar y_{2} = \\frac{3}{2}$. The area of each subrectangle is still $ ΔA= \\frac{1}{2}. $\n",
    "\n",
    "$\\iint_{R} (x-3y^{2})dA ≈ \\Sigma_{i=1}^m {i}\\Sigma_{j=1}^n f(x_{i}, y_{j})ΔA$\n",
    "\n",
    "$ = f(\\bar x_{1},\\bar y_{1})ΔA + f(\\bar x_{1},\\bar y_{2})ΔA + f(\\bar x_{2},\\bar y_{1})ΔA + f(\\bar x_{2},\\bar y_{2})ΔA$\n"
   ]
  },
  {
   "cell_type": "code",
   "execution_count": 5,
   "id": "43b22460-f29b-4b91-9667-691867ab4ac3",
   "metadata": {
    "execution": {
     "iopub.execute_input": "2023-10-10T19:09:44.876809Z",
     "iopub.status.busy": "2023-10-10T19:09:44.876019Z",
     "iopub.status.idle": "2023-10-10T19:09:44.885555Z",
     "shell.execute_reply": "2023-10-10T19:09:44.884929Z",
     "shell.execute_reply.started": "2023-10-10T19:09:44.876779Z"
    }
   },
   "outputs": [
    {
     "name": "stdout",
     "output_type": "stream",
     "text": [
      "-2\n",
      "-5.75\n",
      "-1\n",
      "-4.75\n"
     ]
    }
   ],
   "source": [
    "solve_ex1(1, 1)\n",
    "solve_ex1(1, 1.5)\n",
    "solve_ex1(2, 1)\n",
    "solve_ex1(2, 1.5)"
   ]
  },
  {
   "cell_type": "markdown",
   "id": "d39f4a7d-e8c5-456d-8c1c-70df4b54e477",
   "metadata": {
    "execution": {
     "iopub.execute_input": "2023-09-01T22:16:06.277169Z",
     "iopub.status.busy": "2023-09-01T22:16:06.276793Z",
     "iopub.status.idle": "2023-09-01T22:16:06.283152Z",
     "shell.execute_reply": "2023-09-01T22:16:06.281941Z",
     "shell.execute_reply.started": "2023-09-01T22:16:06.277142Z"
    }
   },
   "source": [
    "$ = (-2)(0.5) + (-5.75)(0.5) + (-1)(0.5) + (-4.75)(0.5) $\n",
    "\n",
    "$ = -6.75 $"
   ]
  },
  {
   "cell_type": "markdown",
   "id": "8db04edb-56c1-4f04-bf55-31faf33b2601",
   "metadata": {},
   "source": [
    "__Exercise 2__ Find the approximation to the volume in example 1 if the Midpoint Rule is used"
   ]
  },
  {
   "cell_type": "markdown",
   "id": "34569d94-a55e-4596-8d23-20aa2ee659ca",
   "metadata": {},
   "source": [
    "__16.2__ Iterated Integrals\n",
    "\n",
    "__Fubini's Theorem__\n",
    "if $f$ is continuous on the rectangle R = {(x,y)|axb, cyd}, then\n",
    "\n",
    "$\\iint_{R} f(x,y)dA = \\int_a^b \\int_c^d f(x,y)dydx =  \\int_c^d \\int_a^b f(x,y)dxdy  $    \n",
    "\n",
    "The proof for Fubini's theorem is too difficult to include in this book, but we can at least give an intuitive indication of why it is true for the case where f(x,y) 0.  Recall that $f$ is positive, then we can interpret the double integral as the Volume V on the solid Sthat lies above R and under the surface z=f(x,y).  But we have another formula that we used for volume in Chapter 6, namely, \n",
    "\n",
    "$ V + \\int_a^b A(x)dx $"
   ]
  },
  {
   "cell_type": "markdown",
   "id": "a0d85222-d1ee-4a16-ab2b-147f8e011f36",
   "metadata": {},
   "source": [
    "__Exercise 3__\n",
    "$\\int_1^3 \\int_0^1 (1+4xy)dxdy = \\int_1^3 [x + \\frac{4}{2}x^2y]_0^1 dy = \\int_1^3 ([1+2y]-[0])dy = \\int_1^3 (1+2y) dy$\n",
    "$ = [y+ \\frac{2}{2}y^2]_1^3$\n",
    "$=12-2= 10$"
   ]
  },
  {
   "cell_type": "markdown",
   "id": "22672e8c-4824-4b33-a686-578e260c9600",
   "metadata": {},
   "source": [
    "__Exercise 4__\n",
    "$\\int_2^4 \\int_{-2}^4 (x^2+y^2)dydx = \\int_2^4 [x^2y + \\frac{1}{3}y^3]_{-1}^1dx = \\int_2^4 ([x^2+\\frac{1}{3}]-[(-x^2-\\frac{1}{3}])dx=\\int_2^4 2x^2 + \\frac{2}{3}dx = 2\\int_2^4 x^2 + \\frac{1}{3} = 2[\\frac{1}{3}x^3 +\\frac{1}{3}x]_2^4 = 2([\\frac{4^3}{3} + \\frac{4}{3}] - [\\frac{2^3}{3}])= 2(\\frac{4^3-2^3}{3} + \\frac{2}{3})= \\frac{116}{3}$"
   ]
  },
  {
   "cell_type": "markdown",
   "id": "9f27f9b6-88db-4d7f-9451-c535a5e1cdd9",
   "metadata": {},
   "source": [
    "__Exercise 5__</br>\n",
    "$\\int_0^{π/2} \\int_0^{π/2} sinxcosy dydx = \\int_0^{π/2} sinx (\\int_0^{π/2} cosy dy)dx = \\int_0^{π/2}[siny]_0^{π/2} dx = \\int_0^{π/2} sinx([sin(π/2)-sin(0)])dx = \\int_0^{2π}sinx = [-cosx]_0^{π/2}=[0]-[-1]=1$"
   ]
  },
  {
   "cell_type": "code",
   "execution_count": null,
   "id": "515192c4-48bf-4bfb-bb6d-5e8762ec6924",
   "metadata": {
    "tags": []
   },
   "outputs": [],
   "source": [
    "import matplotlib.pyplot as plt\n",
    "import numpy as np\n",
    "\n",
    "ax = plt.axes(projection='3d')\n",
    "\n",
    "x = np.linspace(0, 1, 1000);\n",
    "y = np.linspace(0, 1, 1000);\n",
    "z = (4-x-2);\n",
    "\n",
    "ax.mesh3D(x, y, z, 'black')\n",
    "plt.title('Volume of Integration');\n",
    "\n"
   ]
  },
  {
   "cell_type": "markdown",
   "id": "c0ceef0b-27d6-475d-998c-60b0821a7627",
   "metadata": {},
   "source": [
    "__16.2 Exercises__ p.1014\n"
   ]
  },
  {
   "cell_type": "markdown",
   "id": "07b715e9-c942-490e-8595-7ccc978e8bef",
   "metadata": {},
   "source": [
    "__13__\n",
    "\n",
    "$\\int \\int_R (6x^2y^3 - 5y^4)dA$\n",
    "$R=\\{(x,y)|0≤x≤3, 0≤y≤1\\}$\n",
    "\n",
    "$= \\int_1^3 \\int_0^3 6x^2y^3-5y^4 dxdy$\n",
    "$=\\int_0^1 [\\frac{6}{3}x^3y^3 -5y^4x]_0^3dy$\n",
    "$=\\int_0^1 ([2(3^3)y^3 - 5y^4(3)] - [0]) dy$\n",
    "$\\int_0^1 ([(2)(27)y^3 -5y^4(3)] - [0]) dy$\n",
    "$= \\int_0^1 2(27)(y^3) - 15y^4 dy$\n",
    "$= [\\frac{2(27)}{4}y^4-\\frac{15}{5}y^5]_0^1$\n",
    "$= [\\frac{27}{2}y^4-3y^5]_0^1 = [\\frac{27}{2}]-[0]= \\frac{27-6}{2} = \\frac{21}{2}=10.5$\n"
   ]
  },
  {
   "cell_type": "markdown",
   "id": "7696c488-735b-4bbf-8014-3db3c7f26712",
   "metadata": {},
   "source": [
    "__Exercise 14__</br>\n",
    "$\\int \\int_R xye^y dA$\n",
    "$R = {(x,y)|0≤x≤2, 0≤y≤1}$\n",
    "\n",
    "$\\int_0^1 \\int_0^2 xye^y dxdy = \\int_0^1 [\\frac{1}{2}x^2ye^y]_0^2 dy$\n",
    "$= \\int_0^1 ([2ye^y]-[0])dy = 3\\int_0^1 ye^y dy$</br>\n",
    "Integration by parts</br>\n",
    "$let u = y$</br>\n",
    "$du = dy$</br>\n",
    "$dv = e^x$</br>\n",
    "$v= \\int dv = \\int e^y dy = e^y$</br>\n",
    "$ye^y dy = ye^y - \\int e^y dy = ye^{y}-e^{y} = e^y(y-1)$</br>\n",
    "$[e^y(y-1)]_0^1 = [e^1(0)]-[e^0(-1)] = e^0 = 1$"
   ]
  },
  {
   "cell_type": "markdown",
   "id": "1943bc75-ba72-4128-98bb-2f4fddb84dba",
   "metadata": {},
   "source": [
    "__Exercise 15__\n",
    "\n",
    "$\\int \\int_R \\frac{xy^2}{x^2 + 1}$\n",
    "$R = {(x,y)|0≤x≤1, -3≤y≤3}$\n",
    "\n",
    "$\\int_0^1 \\int_{-3}^{3} y^2 \\frac{x}{x^2+1} dydx$\n",
    "$= \\int_0^1 [\\frac{y^3}{3}\\frac{x}{x^2+1}]_{-3}^{3} dx = \\frac{9x}{x^2+1} - \\frac{-9x}{x^2+1}$\n",
    "\n",
    "$=9 \\int_0^1 \\frac{2x}{x^2+1}= 9\\int_0^1 2x (x^2+1)^{-1} dx$\n",
    "$let u = (x^2+1)$\n",
    "$let du= 2x$\n",
    "\n",
    "$\\int_0^1 2x(x^2-1)^{-1}dx = 9[ln|(x^2+1)|]_0^1 = 9[ln2-ln1] = 9ln|2|$\n",
    "\n",
    "\n"
   ]
  },
  {
   "cell_type": "markdown",
   "id": "14edf21b-3342-437f-9db5-6b3076132d4b",
   "metadata": {},
   "source": [
    "__16.3 Double Integrals Over General Regions__\n",
    "\n"
   ]
  },
  {
   "cell_type": "markdown",
   "id": "96a94883-6ece-493b-acf8-7865ad8f696d",
   "metadata": {},
   "source": [
    "For single integrals, the region over which we integrate is always an interval.  But for double integrals, we want to be able to integrate a function $f$ not just over rectangles but also over regions $D$ of more general shape, such as the one illustrated in Figure 1.  We suppose that $D$ is the bounded region, which means that $D$ can be enclosed in a rectangular region.  Then we define a new function $F$ with domain $R$ by \n",
    "\n",
    "$ F(x,y) = \\Bigl\\{_{f(x,y)\\;if\\;(x,y)\\;is\\;in\\;D}^{0\\;if\\;(x,y)\\;is\\;in\\;R\\;but\\;not\\;in\\;D} $"
   ]
  },
  {
   "cell_type": "markdown",
   "id": "53c4fef7-e307-4715-a972-e528eaa9ae8c",
   "metadata": {},
   "source": [
    "If the double integral of $F$ exists over $R$, then we define the double integral of $f$ over $D$ by\n",
    "\n",
    "$ \\int \\int_D f(x,y)dA = \\int \\int F(x,y)\\;dA $, where $F$ is given by the domain defined above.\n",
    "\n",
    "This sense because $R$ is a rectangle and so $\\int \\int_R F(x,y)\\;dA$ has been previously defined.  The procedure we have used is reasonable because the values of $F(x,y)$ are 0 when $(x,y)$ lies outisde D and so they contribute nothing to the integral.  This means that it doesn't matter what rectangle $R$ we use as long as it contains $D$.</br>\n",
    "</br>\n",
    "In the case where $f(x,y)≤0$, we can still interpret $\\int\\int_D f(x,y)\\;dA $ as the volume of the solid that lies above $D$ and and under the surface $z = f(x,y)$ (the graph of $f$).  You can see that this is reasonable by comparing the graphs of $f$ and $F$ and remembering that $\\int \\int_R F(x,y)\\;dA $ is the volume under the graph of $F$. \n",
    "</br>\n",
    "F is likely to have discontinuities at the boundary points of D.  Nonetheless, if f is continuous on D and the boundary curve of D is \"well behaved\" then it can be shown that $\\int \\int_R F(x,y)\\; dA $ exists and therefore $\\int \\int_D f(x,y)\\;dA$ exists.  In particular, this is the case for the following types of regions:\n",
    "</br>\n",
    "A plane region D is said to be of __type 1__ if it lies between the graphs of two continuous functions of x, that is,</br>\n",
    "</br>\n",
    "$D = {(x,y)|\\;a≤x≤b, g_1(x)≤y≤g_2(x)}$\n",
    "</br>\n",
    "where $g_1$ and $g_2$ are continuous on [a,b]"
   ]
  },
  {
   "cell_type": "markdown",
   "id": "dff828a1-43c2-4b5e-bda9-90327e3228ef",
   "metadata": {
    "execution": {
     "iopub.execute_input": "2023-09-06T19:57:49.871019Z",
     "iopub.status.busy": "2023-09-06T19:57:49.870650Z",
     "iopub.status.idle": "2023-09-06T19:57:49.879735Z",
     "shell.execute_reply": "2023-09-06T19:57:49.878459Z",
     "shell.execute_reply.started": "2023-09-06T19:57:49.870991Z"
    }
   },
   "source": [
    "...\n",
    "\n",
    "We also consider plane regions of __type II__, which can be expressed as</br>\n",
    "$D = \\{(x,y)|\\;c≤y≤d, h_1(y)≤x≤h_2(y)\\}$</br>\n",
    "where $h_1$ and $h_2$ are continous.  Using the same methods as earlier, we can show that </br>\n",
    "$\\int \\int_D f(x,y)\\;dA$.\n",
    "\n"
   ]
  },
  {
   "cell_type": "code",
   "execution_count": null,
   "id": "64029ef4-dcf9-48f6-ba82-79db16106144",
   "metadata": {},
   "outputs": [],
   "source": []
  },
  {
   "cell_type": "markdown",
   "id": "d92d91d5-8620-4274-95f3-685813c50112",
   "metadata": {
    "execution": {
     "iopub.execute_input": "2023-09-09T03:46:11.635202Z",
     "iopub.status.busy": "2023-09-09T03:46:11.634796Z",
     "iopub.status.idle": "2023-09-09T03:46:11.648010Z",
     "shell.execute_reply": "2023-09-09T03:46:11.646379Z",
     "shell.execute_reply.started": "2023-09-09T03:46:11.635169Z"
    }
   },
   "source": [
    "__19.__ Use polar coordinates to find the volume of the given solid.\n",
    "Under the parabaloid $z = x^2 + y^2$ and above the disk $x^2 + y^2≤9$. \n",
    "\n",
    "$ V = \\int \\int_D (x^2 + y^2) dA $ </br>\n",
    "$x = rsin\\theta$</br>\n",
    "$y = rcos\\theta$</br>\n",
    "\n",
    "$ \\int_0^{2\\pi} \\int_0^3 (x^2 + y^2)\\;drd\\theta $</br>\n",
    "$ = \\int_0^{2\\pi} \\int_0^3  (rsin\\theta)^2 + (rcos\\theta)^2 r\\;drd\\theta $</br>\n",
    "$ = \\int_0^{2\\pi} \\int_0^3  r^3sin^3theta + r^3cos^2\\theta \\;drd\\theta  $</br>\n",
    "$ = \\int_0^{2\\pi} [\\frac{1}{4}r^4sin^2\\theta + \\frac{1}{4}r^4cos^2\\theta]_0^3 \\;d\\theta $</br>\n",
    "$ = \\int_0^{2\\pi} ([\\frac{1}{4}(81)sin^2\\theta + \\frac{1}{4}(81)cos^2\\theta] - [0]) \\;d\\theta $</br>\n",
    "$ = \\int_0^{2\\pi} ([\\frac{81}{4}sin^2\\theta + \\frac{81}{4}cos^2\\theta]) \\;d\\theta $</br>\n",
    "Using the pythagorean theorem $sin^2\\theta + cos^2\\theta = 1$\n",
    "$ = \\frac{1}{4} \\int_0^{2\\pi} (81) \\;d\\theta $</br>\n",
    "$ = \\frac{1}{4} [81\\theta]_0^{2\\pi} $</br>\n",
    "$ = \\frac{1}{4} ((81)(2\\pi)) = \\frac{81\\pi}{2} $ (this is the book answer)\n"
   ]
  },
  {
   "cell_type": "markdown",
   "id": "bbd9ec34-37bd-4667-aa74-273b93217b1e",
   "metadata": {
    "execution": {
     "iopub.execute_input": "2023-09-09T04:34:29.814072Z",
     "iopub.status.busy": "2023-09-09T04:34:29.813704Z",
     "iopub.status.idle": "2023-09-09T04:34:29.819796Z",
     "shell.execute_reply": "2023-09-09T04:34:29.818664Z",
     "shell.execute_reply.started": "2023-09-09T04:34:29.814043Z"
    }
   },
   "source": [
    "__20.__ Inside the sphere $x^2 + y^2 = z^2 = 16 $ and outside the cylinder $x^2 + y^2 = 4$\n",
    "\n",
    "$Volume\\;of\\;Sphere = \\frac{4}{3}\\pi r^3$"
   ]
  },
  {
   "cell_type": "markdown",
   "id": "ef5f1f98-04e7-4b02-b802-677c11e4b499",
   "metadata": {},
   "source": [
    "__16.4 Double Integrals In Polar Coordinates__\n",
    "\n",
    "Density and Mass\n",
    "\n",
    "In Section 9.3, we were able to use single integrals to compute moments and the center of mass of a thing plate or lamina with constant density.  But now, equipped with the double integral, we can consider a lamina with variable density.  Suppose the lamina occupies a region $D$ of the xy-plane and its density (in units of mass per unit area) at a point $(x,y)$ in D is given by $ρ(x,y)$, where ρ is a continuous function of $D$.  This means that \n",
    "\n",
    "$ ρ(x,y) = lim \\frac{Δm}{ΔA}$"
   ]
  },
  {
   "cell_type": "markdown",
   "id": "1ce3c6e3-3db2-4ed8-99a2-a647b96b74d4",
   "metadata": {},
   "source": [
    "__Change to Polar Coordinates in a Double Integral__</br>\n",
    "If $f$ is continuous on a polar rectangle $R$ given by $0≤a≤r≤b, 0≤β-α≤2\\pi$, then</br>\n",
    "$ \\int \\int_R f(x,y) dA = \\int_α^β \\int_a^b$$ f (r cos \\theta, r sin \\theta)r dr d\\theta $"
   ]
  },
  {
   "cell_type": "markdown",
   "id": "f612b415-4253-421d-a9fb-1fd7ff4c564d",
   "metadata": {},
   "source": [
    "__Example 1__ Evaluate $\\int \\int_R (3x+4y^2)dA$, where $R$ is the region in the upper half-plane bounded by the circles $x^2 + y^2 =1$ and $x^2 + y^2 = 4$.</br>\n",
    "SOLUTION The region can be described as \n",
    "$ R = \\{(x,y)|y≤0, 1≤x^2 + y^2≤4 \\} $</br>\n",
    "It is the half-ring shown on p. 1023, and in polar coordinates it is given by $1≤r≤2$, $0≤\\theta≤\\pi$. Therefore"
   ]
  },
  {
   "cell_type": "markdown",
   "id": "ed000b24-8992-409f-9f93-c22b4184eb57",
   "metadata": {},
   "source": [
    "$\\int \\int_R (3x + 4y^2)\\;dA = \\int $"
   ]
  },
  {
   "cell_type": "markdown",
   "id": "502b9b62-5ec7-4646-b3ba-a194f02ac24a",
   "metadata": {},
   "source": [
    "__Exercises 1-6__ \n",
    "A region R is shown.  Decide whether to use polar coordinates or rectangular coordinates and write $\\int \\int_R F(x,y) dA$ as an iterated integral, where $f$ is an arbitrary continuous function on $R$."
   ]
  },
  {
   "cell_type": "markdown",
   "id": "e8b0fe32-77de-401f-8c67-ce985d8be437",
   "metadata": {
    "execution": {
     "iopub.execute_input": "2023-09-07T21:43:45.163924Z",
     "iopub.status.busy": "2023-09-07T21:43:45.163557Z",
     "iopub.status.idle": "2023-09-07T21:43:45.169397Z",
     "shell.execute_reply": "2023-09-07T21:43:45.168147Z",
     "shell.execute_reply.started": "2023-09-07T21:43:45.163899Z"
    }
   },
   "source": [
    "__1.__ For a circle, polar coordinates(r,\\theta) will be easier to describe and integrate over"
   ]
  },
  {
   "cell_type": "markdown",
   "id": "44e1efff-4a29-4556-a7bf-a17abec5cf82",
   "metadata": {
    "execution": {
     "iopub.execute_input": "2023-09-07T21:18:22.883588Z",
     "iopub.status.busy": "2023-09-07T21:18:22.883219Z",
     "iopub.status.idle": "2023-09-07T21:18:22.888752Z",
     "shell.execute_reply": "2023-09-07T21:18:22.887635Z",
     "shell.execute_reply.started": "2023-09-07T21:18:22.883562Z"
    }
   },
   "source": [
    "$ R = \\{(r,\\theta)|0≤r≤2, 0≤\\theta≤2\\pi\\}$</br></br>\n",
    "equation of circle in book $ x^2 + y^2 = r^2 $ or $ x^2 + y^2 = 4 $, where $x = rcos\\theta$ and $y = rsin\\theta$</br></br>\n",
    "$ \\int_0^{2\\pi} \\int_0^2 f(rcos\\theta, rsin\\theta) rdr\\theta $"
   ]
  },
  {
   "cell_type": "markdown",
   "id": "fa88a4a7-026b-4024-8c93-9ae85d28e3e5",
   "metadata": {
    "execution": {
     "iopub.execute_input": "2023-09-07T22:57:05.073181Z",
     "iopub.status.busy": "2023-09-07T22:57:05.072810Z",
     "iopub.status.idle": "2023-09-07T22:57:05.078532Z",
     "shell.execute_reply": "2023-09-07T22:57:05.077424Z",
     "shell.execute_reply.started": "2023-09-07T22:57:05.073153Z"
    }
   },
   "source": [
    "__2.__ \n",
    "For triangle region in x-y plane with points (0,0), (2,0) & (0,2). \n",
    "\n",
    "$ \\int_0^2 \\int_0^2 (-x + 2)\\;dxdy $ (book answer is  $ \\int_0^2 \\int_0^2 f(x,y) \\;dxdy $"
   ]
  },
  {
   "cell_type": "markdown",
   "id": "1b27e9af-f1f8-417c-a0ab-84e2d357eb50",
   "metadata": {
    "execution": {
     "iopub.execute_input": "2023-09-07T23:16:47.892821Z",
     "iopub.status.busy": "2023-09-07T23:16:47.892457Z",
     "iopub.status.idle": "2023-09-07T23:16:47.898651Z",
     "shell.execute_reply": "2023-09-07T23:16:47.897478Z",
     "shell.execute_reply.started": "2023-09-07T23:16:47.892796Z"
    }
   },
   "source": [
    "__3.__ For triangle region in x-y plane with points (2,2), (-2,-2), and (-2, 2).\n",
    "\n",
    "$ \\int_-2^2 \\int_0^2 (2-x) \\;dxdy $"
   ]
  },
  {
   "cell_type": "markdown",
   "id": "a239068e-8ccc-4442-ab58-ccbdde03f9ff",
   "metadata": {},
   "source": [
    "__4.__ For disk region in x-y plane bounded by circle of radius 1 and circle of radius 3 in the first quadrant.\n",
    "\n",
    "$ \\int_0^\\frac{\\pi}{2} \\int_0^3   f(rcos\\theta, rsin\\theta)\\;drd\\theta $ (book answer)"
   ]
  },
  {
   "cell_type": "markdown",
   "id": "24a109ae-5307-4774-88b6-31555409fb56",
   "metadata": {
    "execution": {
     "iopub.execute_input": "2023-09-08T00:04:42.703666Z",
     "iopub.status.busy": "2023-09-08T00:04:42.703286Z",
     "iopub.status.idle": "2023-09-08T00:04:42.709442Z",
     "shell.execute_reply": "2023-09-08T00:04:42.708234Z",
     "shell.execute_reply.started": "2023-09-08T00:04:42.703641Z"
    }
   },
   "source": [
    "__Exercises 15-18__  Use a double integral to find the area of the region"
   ]
  },
  {
   "cell_type": "markdown",
   "id": "eb837140-e259-4f10-8900-06d41fce98d2",
   "metadata": {
    "execution": {
     "iopub.execute_input": "2023-09-08T00:10:50.048652Z",
     "iopub.status.busy": "2023-09-08T00:10:50.048286Z",
     "iopub.status.idle": "2023-09-08T00:10:50.054428Z",
     "shell.execute_reply": "2023-09-08T00:10:50.053350Z",
     "shell.execute_reply.started": "2023-09-08T00:10:50.048626Z"
    }
   },
   "source": [
    "__15.__ One loop of the rose $ r = cos 3\\theta$ \n",
    "\n",
    "Using example 3 as a guide: \n",
    "$D = {(r,\\theta)|\\frac{-\\pi}{4}≤\\theta≤\\frac{\\pi}{4}, 0≤r≤cos3\\theta}$\n",
    "</br>\n",
    "$\\int_{\\frac{-\\pi}{4}}^{\\frac{\\pi}{4}} \\int_0^{cos(3\\theta)} r\\;dr d\\theta $\n",
    "$= \\int_{\\frac{-\\pi}{4}}^{\\frac{\\pi}{4}} [\\frac{1}{2} r^2]_0^{cos(3\\theta)}\\;dr d\\theta $\n",
    "$= \\int_{\\frac{-\\pi}{4}}^{\\frac{\\pi}{4}} [\\frac{1}{2} cos^23\\theta] - [0] \\; d\\theta $\n",
    "$= \\frac{1}{2} \\int_{\\frac{-\\pi}{4}}^{\\frac{\\pi}{4}} cos^23\\theta \\; d\\theta $"
   ]
  },
  {
   "cell_type": "markdown",
   "id": "883dc3c8-b022-4e5f-a09a-cb23259442ab",
   "metadata": {},
   "source": [
    "From Table of Integrals</br>\n",
    "$\\int cos^2u\\;du = \\frac{1}{2}u + \\frac{1}{4}sin2u $"
   ]
  },
  {
   "cell_type": "markdown",
   "id": "c727f16e-aee5-4b91-af61-3df39c4f2ac1",
   "metadata": {
    "execution": {
     "iopub.execute_input": "2023-09-08T00:50:52.341584Z",
     "iopub.status.busy": "2023-09-08T00:50:52.341106Z",
     "iopub.status.idle": "2023-09-08T00:50:52.347371Z",
     "shell.execute_reply": "2023-09-08T00:50:52.346173Z",
     "shell.execute_reply.started": "2023-09-08T00:50:52.341546Z"
    }
   },
   "source": [
    "$= (\\frac{1}{2})(\\frac{1}{3}) [\\frac{3\\theta}{2} + \\frac{1}{4} sin6\\theta ]_{\\frac{-\\pi}{4}}^{\\frac{\\pi}{4}}$"
   ]
  },
  {
   "cell_type": "markdown",
   "id": "10e5803c-7597-4fe9-9861-4a62b64fc5ec",
   "metadata": {
    "execution": {
     "iopub.execute_input": "2023-09-08T01:00:30.455890Z",
     "iopub.status.busy": "2023-09-08T01:00:30.455492Z",
     "iopub.status.idle": "2023-09-08T01:00:30.462769Z",
     "shell.execute_reply": "2023-09-08T01:00:30.461187Z",
     "shell.execute_reply.started": "2023-09-08T01:00:30.455863Z"
    }
   },
   "source": [
    "$= (\\frac{1}{6}) ([\\frac{3(\\frac{\\pi}{4})}{2} + \\frac{1}{4} sin6(\\frac{\\pi}{4})] -         [\\frac{3(\\frac{-\\pi}{4})}{2} + \\frac{1}{4} sin6(\\frac{-\\pi}{4}) ]) $"
   ]
  },
  {
   "cell_type": "markdown",
   "id": "7bd43ca7-5b3a-4c2c-b64c-fbbba2993021",
   "metadata": {
    "execution": {
     "iopub.execute_input": "2023-09-08T01:02:49.138010Z",
     "iopub.status.busy": "2023-09-08T01:02:49.137615Z",
     "iopub.status.idle": "2023-09-08T01:02:49.144086Z",
     "shell.execute_reply": "2023-09-08T01:02:49.143014Z",
     "shell.execute_reply.started": "2023-09-08T01:02:49.137983Z"
    }
   },
   "source": [
    "$= (\\frac{1}{6}) ([ \\frac{6\\pi}{4} + \\frac{1}{4} sin(\\frac{3\\pi}{2})- \\frac{-6\\pi}{4} - \\frac{1}{4} sin(\\frac{-3\\pi}{2}) ]) $\n"
   ]
  },
  {
   "cell_type": "markdown",
   "id": "11d70126-0012-4441-916a-3ef15e6df96a",
   "metadata": {
    "execution": {
     "iopub.execute_input": "2023-09-08T01:43:25.259045Z",
     "iopub.status.busy": "2023-09-08T01:43:25.258669Z",
     "iopub.status.idle": "2023-09-08T01:43:25.265036Z",
     "shell.execute_reply": "2023-09-08T01:43:25.263695Z",
     "shell.execute_reply.started": "2023-09-08T01:43:25.259018Z"
    }
   },
   "source": [
    "$= \\frac{1}{24}[12\\pi -1 - 1] = -\\frac{1}{12}$, book answer = $\\frac {\\pi}{12}$"
   ]
  },
  {
   "cell_type": "code",
   "execution_count": null,
   "id": "f1d08540-6209-40c5-be7f-254f668d0276",
   "metadata": {
    "execution": {
     "iopub.status.busy": "2023-10-10T19:09:45.950113Z",
     "iopub.status.idle": "2023-10-10T19:09:45.950527Z",
     "shell.execute_reply": "2023-10-10T19:09:45.950337Z",
     "shell.execute_reply.started": "2023-10-10T19:09:45.950317Z"
    }
   },
   "outputs": [],
   "source": [
    "__Exercises 27-30__ Evaluate the "
   ]
  },
  {
   "cell_type": "markdown",
   "id": "f03622e2-462a-4f72-914d-33e12dfa8409",
   "metadata": {},
   "source": [
    "__16.5 Application of Double Integrals__"
   ]
  },
  {
   "cell_type": "code",
   "execution_count": null,
   "id": "3e3fab21-8491-4b8b-bb4e-e13e9c228903",
   "metadata": {},
   "outputs": [],
   "source": []
  },
  {
   "cell_type": "markdown",
   "id": "2d69add6-3236-424e-9811-6106a1f221c2",
   "metadata": {
    "execution": {
     "iopub.execute_input": "2023-09-02T02:53:36.010627Z",
     "iopub.status.busy": "2023-09-02T02:53:36.010245Z",
     "iopub.status.idle": "2023-09-02T02:53:36.021058Z",
     "shell.execute_reply": "2023-09-02T02:53:36.019674Z",
     "shell.execute_reply.started": "2023-09-02T02:53:36.010599Z"
    }
   },
   "source": [
    "__Exercises 1-6__ Evaluate the iterated integral\n",
    "\n",
    "__1.__   $\\int_0^1 \\int_0^{x^{2}} (x+2y)dydx$"
   ]
  },
  {
   "cell_type": "markdown",
   "id": "3e36671a-44a2-47c7-8b5a-b3467e93451f",
   "metadata": {
    "execution": {
     "iopub.execute_input": "2023-09-02T03:02:01.148721Z",
     "iopub.status.busy": "2023-09-02T03:02:01.148350Z",
     "iopub.status.idle": "2023-09-02T03:02:01.154174Z",
     "shell.execute_reply": "2023-09-02T03:02:01.153173Z",
     "shell.execute_reply.started": "2023-09-02T03:02:01.148695Z"
    }
   },
   "source": [
    "$ \\int_0^{x^{2}} (x+2y)dy =[ xy + y^2  ]_{y=0}^{y = x^{2}}  =$ $ [x(x^2) + (x^2)^2] - [0 + 0] = x^3 + x^4$ "
   ]
  },
  {
   "cell_type": "markdown",
   "id": "d919ea79-c561-4761-b006-a576e2379fd7",
   "metadata": {
    "execution": {
     "iopub.execute_input": "2023-09-02T03:07:17.157058Z",
     "iopub.status.busy": "2023-09-02T03:07:17.156681Z",
     "iopub.status.idle": "2023-09-02T03:07:17.163249Z",
     "shell.execute_reply": "2023-09-02T03:07:17.161874Z",
     "shell.execute_reply.started": "2023-09-02T03:07:17.157029Z"
    }
   },
   "source": [
    "$\\int_0^1  (x^3 + x^4)\\;dx = [ \\frac{1}{4} x^{4} + \\frac{1}{5} x^{5}]_0^1 = [\\frac{1}{3} y] - [0] = \\frac{9}{20}$"
   ]
  },
  {
   "cell_type": "markdown",
   "id": "0c21224b-4a75-4b08-9858-fc36c1aefbb6",
   "metadata": {
    "execution": {
     "iopub.execute_input": "2023-09-02T03:21:38.443952Z",
     "iopub.status.busy": "2023-09-02T03:21:38.443589Z",
     "iopub.status.idle": "2023-09-02T03:21:38.450677Z",
     "shell.execute_reply": "2023-09-02T03:21:38.448752Z",
     "shell.execute_reply.started": "2023-09-02T03:21:38.443924Z"
    }
   },
   "source": [
    "__2.__   $\\int_1^2 \\int_y^2 (xy)\\;dxdy$"
   ]
  },
  {
   "cell_type": "markdown",
   "id": "fbdc6896-3960-4432-adf8-b34f0d452275",
   "metadata": {
    "execution": {
     "iopub.execute_input": "2023-09-02T03:27:25.885064Z",
     "iopub.status.busy": "2023-09-02T03:27:25.884697Z",
     "iopub.status.idle": "2023-09-02T03:27:25.892704Z",
     "shell.execute_reply": "2023-09-02T03:27:25.891725Z",
     "shell.execute_reply.started": "2023-09-02T03:27:25.885037Z"
    }
   },
   "source": [
    "$ \\int_y^2 (xy)\\;dx = [ x^2y ]_{x=y}^{x=2} = [(2^2)y] - [(y^2)y ] = 4y - y^3 $"
   ]
  },
  {
   "cell_type": "markdown",
   "id": "7602bcd5-d2d5-4d99-be8c-396c2dc3e86b",
   "metadata": {
    "execution": {
     "iopub.execute_input": "2023-09-02T03:50:10.191637Z",
     "iopub.status.busy": "2023-09-02T03:50:10.191278Z",
     "iopub.status.idle": "2023-09-02T03:50:10.197306Z",
     "shell.execute_reply": "2023-09-02T03:50:10.196109Z",
     "shell.execute_reply.started": "2023-09-02T03:50:10.191611Z"
    }
   },
   "source": [
    " $\\int_1^2  4y - y^3 dy  = [ 2y^2 - \\frac{y^4}{4} ]_1^2 = [8-4] - [2-\\frac{1}{4}] = 4 - \\frac{7}{4} = \\frac{9}{4}$ "
   ]
  },
  {
   "cell_type": "markdown",
   "id": "4db16b32-6cdb-4093-9d22-ff69f0d4dfe3",
   "metadata": {
    "execution": {
     "iopub.execute_input": "2023-09-02T20:30:47.089840Z",
     "iopub.status.busy": "2023-09-02T20:30:47.089484Z",
     "iopub.status.idle": "2023-09-02T20:30:47.095127Z",
     "shell.execute_reply": "2023-09-02T20:30:47.094070Z",
     "shell.execute_reply.started": "2023-09-02T20:30:47.089812Z"
    }
   },
   "source": [
    "__3.__   $ \\int_0^1 \\int_y^{e^y} \\sqrt{x} dxdy$"
   ]
  },
  {
   "cell_type": "markdown",
   "id": "7de5fff1-8f3a-499c-b6b9-43b31e769913",
   "metadata": {
    "execution": {
     "iopub.execute_input": "2023-09-02T20:34:22.236427Z",
     "iopub.status.busy": "2023-09-02T20:34:22.236038Z",
     "iopub.status.idle": "2023-09-02T20:34:22.242213Z",
     "shell.execute_reply": "2023-09-02T20:34:22.241020Z",
     "shell.execute_reply.started": "2023-09-02T20:34:22.236401Z"
    }
   },
   "source": [
    "= $ \\int_0^1 \\int_y^{e^y} x^{(\\frac{1}{2})} dxdy$"
   ]
  },
  {
   "cell_type": "markdown",
   "id": "22ac297f-b735-4ad4-920c-49449b0c68b5",
   "metadata": {
    "execution": {
     "iopub.execute_input": "2023-09-02T20:37:11.949323Z",
     "iopub.status.busy": "2023-09-02T20:37:11.948952Z",
     "iopub.status.idle": "2023-09-02T20:37:11.955268Z",
     "shell.execute_reply": "2023-09-02T20:37:11.954117Z",
     "shell.execute_reply.started": "2023-09-02T20:37:11.949294Z"
    }
   },
   "source": [
    "= $ \\int_0^1 [  \\frac{x^{(\\frac{3}{2})}}{\\frac{3}{2}} ]_{x=y}^{x={e^y}} dy$ = $ \\int_0^1 [ 2\\frac{2*x^{(\\frac{3}{2})}}{3} ]_{x=y}^{x={e^y}} dy$"
   ]
  },
  {
   "cell_type": "markdown",
   "id": "bc13fe07-b41d-4040-b300-71c68430f20b",
   "metadata": {
    "execution": {
     "iopub.execute_input": "2023-09-02T20:46:33.143941Z",
     "iopub.status.busy": "2023-09-02T20:46:33.143581Z",
     "iopub.status.idle": "2023-09-02T20:46:33.150061Z",
     "shell.execute_reply": "2023-09-02T20:46:33.148805Z",
     "shell.execute_reply.started": "2023-09-02T20:46:33.143912Z"
    }
   },
   "source": [
    "= $ \\int_0^1 ([ \\frac{2*(e^y)^{(\\frac{3}{2})}}{3} ] - [\\frac{2*(y^{(\\frac{3}{2})}}{3}]) dy$ =  $ \\frac{2}{3} \\int_0^1 (e^y)^{(\\frac{3}{2})} - y^{(\\frac{3}{2})} dy$"
   ]
  },
  {
   "cell_type": "markdown",
   "id": "26fbd259-87bb-4d4f-a20d-383630bf2f9d",
   "metadata": {
    "execution": {
     "iopub.execute_input": "2023-09-02T20:54:55.575290Z",
     "iopub.status.busy": "2023-09-02T20:54:55.574913Z",
     "iopub.status.idle": "2023-09-02T20:54:55.581425Z",
     "shell.execute_reply": "2023-09-02T20:54:55.580088Z",
     "shell.execute_reply.started": "2023-09-02T20:54:55.575260Z"
    }
   },
   "source": [
    "$ = \\frac{2}{3} [\\frac{2}{3} (e^y)^{(\\frac{3}{2})} - \\frac{2}{5} y^{(\\frac{5}{2})} ]_{y=0}^{y=1}$"
   ]
  },
  {
   "cell_type": "markdown",
   "id": "eb70284b-be76-4f93-bb36-3aa5b12ed6a9",
   "metadata": {
    "execution": {
     "iopub.execute_input": "2023-09-02T20:58:52.818245Z",
     "iopub.status.busy": "2023-09-02T20:58:52.817881Z",
     "iopub.status.idle": "2023-09-02T20:58:52.825072Z",
     "shell.execute_reply": "2023-09-02T20:58:52.823810Z",
     "shell.execute_reply.started": "2023-09-02T20:58:52.818218Z"
    }
   },
   "source": [
    "$ = \\frac{2}{3} ( [\\frac{2}{3} (e^1)^{(\\frac{3}{2})} - \\frac{2}{5} 1^{(\\frac{5}{2})} ] - [\\frac{2}{3} (e^0)^{(\\frac{3}{2})} - \\frac{2}{5} 0^{(\\frac{5}{2})} ] )$"
   ]
  },
  {
   "cell_type": "markdown",
   "id": "4e932d5e-51ae-45e2-a6f6-bcf8f4db0d88",
   "metadata": {
    "execution": {
     "iopub.execute_input": "2023-09-02T21:01:31.081745Z",
     "iopub.status.busy": "2023-09-02T21:01:31.081379Z",
     "iopub.status.idle": "2023-09-02T21:01:31.087216Z",
     "shell.execute_reply": "2023-09-02T21:01:31.086194Z",
     "shell.execute_reply.started": "2023-09-02T21:01:31.081717Z"
    }
   },
   "source": [
    "$ = \\frac{2}{3} ( [\\frac{2}{3} e^{(\\frac{3}{2})} - \\frac{2}{5} 1^{(\\frac{5}{2})} ] - [\\frac{2}{3}  (1)^{(\\frac{3}{2})}  - 0]) $"
   ]
  },
  {
   "cell_type": "markdown",
   "id": "ae884af9-563c-4621-ae89-b5e0ea448b7a",
   "metadata": {
    "execution": {
     "iopub.execute_input": "2023-09-02T21:10:10.895213Z",
     "iopub.status.busy": "2023-09-02T21:10:10.894828Z",
     "iopub.status.idle": "2023-09-02T21:10:10.901477Z",
     "shell.execute_reply": "2023-09-02T21:10:10.900385Z",
     "shell.execute_reply.started": "2023-09-02T21:10:10.895177Z"
    },
    "tags": []
   },
   "source": [
    "$ = \\frac{2}{3} ( [\\frac{2}{3} e^{(\\frac{3}{2})} - \\frac{2}{5} ] - [\\frac{2}{3}] ) $"
   ]
  },
  {
   "cell_type": "markdown",
   "id": "5922d09f-f206-48e3-83e9-f4c7f13906cb",
   "metadata": {
    "execution": {
     "iopub.execute_input": "2023-09-02T21:11:09.037950Z",
     "iopub.status.busy": "2023-09-02T21:11:09.037429Z",
     "iopub.status.idle": "2023-09-02T21:11:09.043274Z",
     "shell.execute_reply": "2023-09-02T21:11:09.042151Z",
     "shell.execute_reply.started": "2023-09-02T21:11:09.037922Z"
    },
    "tags": []
   },
   "source": [
    "$ = \\frac{2}{3} ( [\\frac{2}{3} e^{(\\frac{3}{2})} - \\frac{6}{15} ] - [\\frac{10}{15}] ) $ = $ \\frac{2}{3} (\\frac{2}{3} e^{(\\frac{3}{2})} - \\frac{16}{15}) $"
   ]
  },
  {
   "cell_type": "markdown",
   "id": "f65692dd-6c14-43f7-a986-cf4637f29464",
   "metadata": {},
   "source": [
    "= $ \\frac{4}{9} e^{(\\frac{3}{2})} - \\frac{32}{45} $"
   ]
  },
  {
   "cell_type": "markdown",
   "id": "1d4720db-9936-43db-8b54-11d328e39893",
   "metadata": {},
   "source": [
    "__4.__   $ \\int_0^1 \\int_x^{2-x} (x^{2} - y)\\;dydx$"
   ]
  },
  {
   "cell_type": "markdown",
   "id": "3aab4e51-a76c-4a69-9cec-9549ee92977b",
   "metadata": {
    "execution": {
     "iopub.execute_input": "2023-09-03T20:39:29.632028Z",
     "iopub.status.busy": "2023-09-03T20:39:29.631633Z",
     "iopub.status.idle": "2023-09-03T20:39:29.638670Z",
     "shell.execute_reply": "2023-09-03T20:39:29.637436Z",
     "shell.execute_reply.started": "2023-09-03T20:39:29.632002Z"
    },
    "tags": []
   },
   "source": [
    "= $ \\int_0^1 [yx^{2} - \\frac{y^2}{2}]_{y=x}^{y=2-x}\\;dx= \\int_0^1 ([(2-x)x^{2} - \\frac{(2-x)^2}{2}] - [x(x^{2}) - \\frac{x^2}{2}])\\;dx $"
   ]
  },
  {
   "cell_type": "markdown",
   "id": "fe2697b3-407e-4c3b-a8af-65f936a32df3",
   "metadata": {
    "execution": {
     "iopub.execute_input": "2023-09-03T20:52:27.484107Z",
     "iopub.status.busy": "2023-09-03T20:52:27.483754Z",
     "iopub.status.idle": "2023-09-03T20:52:27.490362Z",
     "shell.execute_reply": "2023-09-03T20:52:27.489126Z",
     "shell.execute_reply.started": "2023-09-03T20:52:27.484082Z"
    }
   },
   "source": [
    "= $ \\int_0^1 (2x^{2} - x^3 - \\frac{4 - 4x + x^2}{2} - x^{3} + \\frac{x^2}{2})\\;dx $ = $ \\int_0^1 (\\frac{4x^{2}}{2} - 2x^3 - \\frac{4 - 4x + x^2}{2} + \\frac{x^2}{2})\\;dx $"
   ]
  },
  {
   "cell_type": "markdown",
   "id": "154691ba-bd69-4fab-9a11-354080420799",
   "metadata": {
    "execution": {
     "iopub.execute_input": "2023-09-03T20:59:51.110100Z",
     "iopub.status.busy": "2023-09-03T20:59:51.109742Z",
     "iopub.status.idle": "2023-09-03T20:59:51.115887Z",
     "shell.execute_reply": "2023-09-03T20:59:51.114576Z",
     "shell.execute_reply.started": "2023-09-03T20:59:51.110074Z"
    }
   },
   "source": [
    "= $ \\int_0^1 (\\frac{5x^{2}}{2} - 2x^3 - \\frac{4 - 4x + x^2}{2})\\;dx  = \\frac{1}{2} \\int_0^1 (5x^{2} - 4x^3 - (4 - 4x + x^2)\\;dx$"
   ]
  },
  {
   "cell_type": "markdown",
   "id": "a1543c99-d0b7-46cf-a8df-745caafbc493",
   "metadata": {
    "execution": {
     "iopub.execute_input": "2023-09-03T21:03:39.041680Z",
     "iopub.status.busy": "2023-09-03T21:03:39.041323Z",
     "iopub.status.idle": "2023-09-03T21:03:39.047592Z",
     "shell.execute_reply": "2023-09-03T21:03:39.046346Z",
     "shell.execute_reply.started": "2023-09-03T21:03:39.041654Z"
    }
   },
   "source": [
    "= $ \\frac{1}{2} \\int_0^1 (5x^{2} - 4x^3 - 4 + 4x - x^2)\\;dx = \\frac{1}{2} \\int_0^1 (-4x^3 + 4x^{2} + 4x - 4)\\;dx$"
   ]
  },
  {
   "cell_type": "markdown",
   "id": "d20bf51c-c9e7-4f76-a0db-e023a523736a",
   "metadata": {
    "execution": {
     "iopub.execute_input": "2023-09-03T21:07:49.539430Z",
     "iopub.status.busy": "2023-09-03T21:07:49.539073Z",
     "iopub.status.idle": "2023-09-03T21:07:49.545073Z",
     "shell.execute_reply": "2023-09-03T21:07:49.543946Z",
     "shell.execute_reply.started": "2023-09-03T21:07:49.539404Z"
    }
   },
   "source": [
    " = $ \\frac{1}{2} [\\frac{-4x^4}{4} + \\frac{4x^{3}}{3} + \\frac{4x^2}{4} - 4x]_0^1 $ = $ \\frac{1}{2} [-x^4 + \\frac{4x^{3}}{3} + 4x^2 - 4x]_0^1 $"
   ]
  },
  {
   "cell_type": "markdown",
   "id": "84dd29f3-8ac9-4b31-9cf6-c48914c1b683",
   "metadata": {
    "execution": {
     "iopub.execute_input": "2023-09-03T21:13:03.476218Z",
     "iopub.status.busy": "2023-09-03T21:13:03.475863Z",
     "iopub.status.idle": "2023-09-03T21:13:03.481865Z",
     "shell.execute_reply": "2023-09-03T21:13:03.480771Z",
     "shell.execute_reply.started": "2023-09-03T21:13:03.476193Z"
    }
   },
   "source": [
    "$ = \\frac{1}{2} (-(1)^4 + \\frac{4(1)^{3}}{3} + 4(1)^2 - 4(1)) - \\frac{1}{2}(0) $"
   ]
  },
  {
   "cell_type": "markdown",
   "id": "57989602-486d-4e53-80c6-2f57aa6d4332",
   "metadata": {
    "execution": {
     "iopub.execute_input": "2023-09-03T21:14:16.126750Z",
     "iopub.status.busy": "2023-09-03T21:14:16.126400Z",
     "iopub.status.idle": "2023-09-03T21:14:16.132386Z",
     "shell.execute_reply": "2023-09-03T21:14:16.131097Z",
     "shell.execute_reply.started": "2023-09-03T21:14:16.126725Z"
    }
   },
   "source": [
    "$ =  \\frac{1}{2} (-1 + \\frac{4}{3} + 4 - 4 - 0) = \\frac{1}{2} (-1 + \\frac{4}{3}) = \\frac{1}{6}$"
   ]
  },
  {
   "cell_type": "markdown",
   "id": "87878fb2-7f73-4e19-a65f-2e34cfebeca4",
   "metadata": {
    "execution": {
     "iopub.execute_input": "2023-09-03T20:31:10.448769Z",
     "iopub.status.busy": "2023-09-03T20:31:10.448419Z",
     "iopub.status.idle": "2023-09-03T20:31:10.456077Z",
     "shell.execute_reply": "2023-09-03T20:31:10.454852Z",
     "shell.execute_reply.started": "2023-09-03T20:31:10.448743Z"
    },
    "tags": []
   },
   "source": [
    "__5.__   $ \\int_0^{\\pi/2} \\int_0^{cos\\theta} e^{sin\\theta}\\;drd\\theta$ "
   ]
  },
  {
   "cell_type": "markdown",
   "id": "d7940162-161f-41ae-9ea8-8013c84457de",
   "metadata": {
    "execution": {
     "iopub.execute_input": "2023-09-03T22:20:11.516947Z",
     "iopub.status.busy": "2023-09-03T22:20:11.516592Z",
     "iopub.status.idle": "2023-09-03T22:20:11.522971Z",
     "shell.execute_reply": "2023-09-03T22:20:11.521978Z",
     "shell.execute_reply.started": "2023-09-03T22:20:11.516922Z"
    }
   },
   "source": [
    "=  $ \\int_0^{\\pi/2}  [re^{sin\\theta}]_{r=0}^{r =cos\\theta}\\;d\\theta$ "
   ]
  },
  {
   "cell_type": "markdown",
   "id": "9582e3ea-c4fc-443b-ac15-96cb6f301f2c",
   "metadata": {
    "execution": {
     "iopub.execute_input": "2023-09-03T22:29:39.011008Z",
     "iopub.status.busy": "2023-09-03T22:29:39.010636Z",
     "iopub.status.idle": "2023-09-03T22:29:39.016714Z",
     "shell.execute_reply": "2023-09-03T22:29:39.015442Z",
     "shell.execute_reply.started": "2023-09-03T22:29:39.010962Z"
    }
   },
   "source": [
    "=  $ \\int_0^{\\pi/2}  [cos\\theta e^{sin\\theta}] - [(0)e^{sin\\theta}] \\;d\\theta$ = $  \\int_0^{\\pi/2}  cos\\theta e^{sin\\theta}\\;d\\theta $"
   ]
  },
  {
   "cell_type": "markdown",
   "id": "1d5dd7a8-79f3-440d-8420-258a1056075b",
   "metadata": {},
   "source": [
    "Using integrations by parts: </br>\n",
    "$\\int u dv = uv - \\int vdu $</br>\n",
    "let $u =  e^{sin\\theta}$, and $ dv = cos\\theta $</br> \n",
    "then $du = e^{sin\\theta}$, and $v = sin\\theta $\n",
    "</br>"
   ]
  },
  {
   "cell_type": "markdown",
   "id": "bfb0bf22-15e8-45dd-92ad-004247240a80",
   "metadata": {
    "execution": {
     "iopub.execute_input": "2023-09-03T23:33:37.012042Z",
     "iopub.status.busy": "2023-09-03T23:33:37.011580Z",
     "iopub.status.idle": "2023-09-03T23:33:37.018055Z",
     "shell.execute_reply": "2023-09-03T23:33:37.016837Z",
     "shell.execute_reply.started": "2023-09-03T23:33:37.012001Z"
    }
   },
   "source": [
    "$  \\int_0^{\\pi/2}  cos\\theta e^{sin\\theta}\\;d\\theta = sin\\theta e^{sin\\theta} - \\int_0^{\\pi/2} sin\\theta e^{sin\\theta}$"
   ]
  },
  {
   "cell_type": "markdown",
   "id": "629d6cf9-2ddb-4923-a96b-09cf1b142000",
   "metadata": {
    "execution": {
     "iopub.execute_input": "2023-09-03T23:51:27.795630Z",
     "iopub.status.busy": "2023-09-03T23:51:27.795277Z",
     "iopub.status.idle": "2023-09-03T23:51:27.803422Z",
     "shell.execute_reply": "2023-09-03T23:51:27.802157Z",
     "shell.execute_reply.started": "2023-09-03T23:51:27.795605Z"
    }
   },
   "source": [
    "book answer = e - 1"
   ]
  },
  {
   "cell_type": "markdown",
   "id": "544fd225-005f-4d58-a304-88ea0af6816e",
   "metadata": {},
   "source": [
    "__6.__   $ \\int_0^1 \\int_0^v \\sqrt{1 - v^{2}}\\;dudv$"
   ]
  },
  {
   "cell_type": "markdown",
   "id": "05d1331e-30ff-4f8b-8e41-7ea03eb4fff5",
   "metadata": {
    "execution": {
     "iopub.execute_input": "2023-09-03T23:40:27.800708Z",
     "iopub.status.busy": "2023-09-03T23:40:27.800355Z",
     "iopub.status.idle": "2023-09-03T23:40:27.806482Z",
     "shell.execute_reply": "2023-09-03T23:40:27.805198Z",
     "shell.execute_reply.started": "2023-09-03T23:40:27.800681Z"
    }
   },
   "source": [
    "$ = \\int_0^1 [u\\sqrt{1 - v^{2}}]_{u=0}^{u=v}\\;dv = \\int_0^1 ([v\\sqrt{1 - v^{2}}] - [(0)\\sqrt{1 - v^{2}}]) \\;dv $"
   ]
  },
  {
   "cell_type": "markdown",
   "id": "239529a1-5d01-4769-a866-6d5388a556bd",
   "metadata": {
    "execution": {
     "iopub.execute_input": "2023-09-03T23:46:46.986727Z",
     "iopub.status.busy": "2023-09-03T23:46:46.986367Z",
     "iopub.status.idle": "2023-09-03T23:46:46.992515Z",
     "shell.execute_reply": "2023-09-03T23:46:46.991191Z",
     "shell.execute_reply.started": "2023-09-03T23:46:46.986701Z"
    },
    "tags": []
   },
   "source": [
    "$ = \\int_0^1 v\\sqrt{1 - v^{2}} \\;dv $"
   ]
  },
  {
   "cell_type": "markdown",
   "id": "2db408e6-2d23-4225-9f14-79e5f9935742",
   "metadata": {
    "execution": {
     "iopub.execute_input": "2023-09-03T23:37:11.693171Z",
     "iopub.status.busy": "2023-09-03T23:37:11.692811Z",
     "iopub.status.idle": "2023-09-03T23:37:11.699094Z",
     "shell.execute_reply": "2023-09-03T23:37:11.697892Z",
     "shell.execute_reply.started": "2023-09-03T23:37:11.693144Z"
    }
   },
   "source": [
    "Using integrations by parts: </br>\n",
    "$\\int u dv = uv - \\int vdu $</br>\n",
    "let $u =  $, and $ dv = $</br> \n",
    "then $du = $, and $v = $\n",
    "</br>"
   ]
  },
  {
   "cell_type": "markdown",
   "id": "a34d2a61-e2d3-4e1b-b5f7-7647ed9b0832",
   "metadata": {},
   "source": [
    "__Exercises 7 to 11__ Evaluate the integrals"
   ]
  },
  {
   "cell_type": "markdown",
   "id": "a60facdc-bb34-42fc-b757-c596c7010fb1",
   "metadata": {
    "execution": {
     "iopub.execute_input": "2023-09-03T23:51:44.236620Z",
     "iopub.status.busy": "2023-09-03T23:51:44.236272Z",
     "iopub.status.idle": "2023-09-03T23:51:44.242377Z",
     "shell.execute_reply": "2023-09-03T23:51:44.241171Z",
     "shell.execute_reply.started": "2023-09-03T23:51:44.236596Z"
    }
   },
   "source": [
    "__7.__   $ \\int \\int_D x^3y^2\\;dA, D = \\{(x,y)| 0≤x≤2, -x≤y≤x\\}$"
   ]
  },
  {
   "cell_type": "markdown",
   "id": "7318e338-d248-4df5-bda3-d8408fee1e7c",
   "metadata": {
    "execution": {
     "iopub.execute_input": "2023-09-04T19:49:48.557535Z",
     "iopub.status.busy": "2023-09-04T19:49:48.557178Z",
     "iopub.status.idle": "2023-09-04T19:49:48.563141Z",
     "shell.execute_reply": "2023-09-04T19:49:48.561954Z",
     "shell.execute_reply.started": "2023-09-04T19:49:48.557509Z"
    }
   },
   "source": [
    " $ = \\int_0^2 \\int_{-x}^x x^3y^2\\;dydx = \\int_0^2 [\\frac{1}{3} x^3y^3]_{y=-x}^{y=x} dx$"
   ]
  },
  {
   "cell_type": "markdown",
   "id": "4e5ff7b1-998b-4ff2-bff7-f00468d77da3",
   "metadata": {
    "execution": {
     "iopub.execute_input": "2023-09-04T19:52:11.913503Z",
     "iopub.status.busy": "2023-09-04T19:52:11.913133Z",
     "iopub.status.idle": "2023-09-04T19:52:11.919081Z",
     "shell.execute_reply": "2023-09-04T19:52:11.917944Z",
     "shell.execute_reply.started": "2023-09-04T19:52:11.913475Z"
    }
   },
   "source": [
    "$ = \\int_0^2 ([\\frac{1}{3} x^3x^3] - [\\frac{1}{3} x^3(-x)^3]) dx = \\int_0^2 ([\\frac{1}{3} x^6] - [-\\frac{1}{3}x^6]) dx$"
   ]
  },
  {
   "cell_type": "markdown",
   "id": "a2dca580-59f8-44a4-b075-d030cbc213dd",
   "metadata": {
    "execution": {
     "iopub.execute_input": "2023-09-04T19:54:57.823840Z",
     "iopub.status.busy": "2023-09-04T19:54:57.823470Z",
     "iopub.status.idle": "2023-09-04T19:54:57.830020Z",
     "shell.execute_reply": "2023-09-04T19:54:57.828984Z",
     "shell.execute_reply.started": "2023-09-04T19:54:57.823812Z"
    }
   },
   "source": [
    "$ = \\int_0^2 [\\frac{2}{3} x^6] dx = [(\\frac{1}{7})(\\frac{2}{3})x^7]_0^2 = [\\frac{2}{21}x^7]_0^2$"
   ]
  },
  {
   "cell_type": "markdown",
   "id": "8ec3f011-607a-43f9-b59c-fd502d2afc3b",
   "metadata": {
    "execution": {
     "iopub.execute_input": "2023-09-04T19:59:18.166608Z",
     "iopub.status.busy": "2023-09-04T19:59:18.166227Z",
     "iopub.status.idle": "2023-09-04T19:59:18.171735Z",
     "shell.execute_reply": "2023-09-04T19:59:18.170662Z",
     "shell.execute_reply.started": "2023-09-04T19:59:18.166581Z"
    }
   },
   "source": [
    "$ = [\\frac{2}{21}(2)^7]-[0] = \\frac{256}{21}$, this is also the book answer"
   ]
  },
  {
   "cell_type": "markdown",
   "id": "fa88fa16-2315-4c73-b841-992a03537257",
   "metadata": {
    "execution": {
     "iopub.execute_input": "2023-09-04T20:02:58.916584Z",
     "iopub.status.busy": "2023-09-04T20:02:58.916213Z",
     "iopub.status.idle": "2023-09-04T20:02:58.934637Z",
     "shell.execute_reply": "2023-09-04T20:02:58.933590Z",
     "shell.execute_reply.started": "2023-09-04T20:02:58.916548Z"
    },
    "tags": []
   },
   "source": [
    "__8.__   $ \\int \\int_D \\frac{4y}{x^3+2};dA, D = \\{(x,y)| 1≤x≤2, 0≤y≤2x\\}$"
   ]
  },
  {
   "cell_type": "markdown",
   "id": "22f3132a-9408-4389-933c-ff907f25c7eb",
   "metadata": {},
   "source": [
    "$ = \\int_1^2 \\int_0^{2x} \\frac{4y}{x^3+2} \\;dydx = \\int_1^2 \\int_0^{2x} \\frac{1}{x^3+2} 4y\\;dydx = \\int_1^2 [\\frac{1}{x^3+2} \\frac{4}{2} y^2]_{y=0}^{y=2x} dx$"
   ]
  },
  {
   "cell_type": "markdown",
   "id": "eb633f44-592e-4ca6-a49e-3a11f5054f76",
   "metadata": {
    "execution": {
     "iopub.execute_input": "2023-09-04T20:31:38.772283Z",
     "iopub.status.busy": "2023-09-04T20:31:38.771923Z",
     "iopub.status.idle": "2023-09-04T20:31:38.780690Z",
     "shell.execute_reply": "2023-09-04T20:31:38.776893Z",
     "shell.execute_reply.started": "2023-09-04T20:31:38.772256Z"
    }
   },
   "source": [
    "$ = \\int_1^2 ([\\frac{1}{x^3+2} 2(2x)^2] - [\\frac{1}{x^3+2} 2(0)^2]) dx = \\int_1^2 \\frac{1}{x^3+2} 8x^2\\;dx $"
   ]
  },
  {
   "cell_type": "markdown",
   "id": "6c0245ce-9853-4f9b-9d29-344a1631df6c",
   "metadata": {},
   "source": [
    "Using u-subtitution,  \n",
    "\n",
    "let $ u = x^3 + 2 $ and then $ du = 3x^2 $\n",
    "\n",
    "$ = \\frac{8}{3} \\int_1^2 \\frac{1}{x^3 + 2} 3x^2\\;dy = \\frac{8}{3} \\int_1^2 \\frac{1}{u} du $</b>\n",
    "\n",
    "Remember, that $\\int \\frac{1}{x} = ln|x| + C$ \n",
    "\n",
    "Thus, $ \\frac{8}{3} [ ln |x^3+2| ]_1^2 $\n",
    "\n"
   ]
  },
  {
   "cell_type": "markdown",
   "id": "16085c76-d687-4862-85cd-7432867b2f80",
   "metadata": {
    "execution": {
     "iopub.execute_input": "2023-09-04T20:53:47.417504Z",
     "iopub.status.busy": "2023-09-04T20:53:47.417143Z",
     "iopub.status.idle": "2023-09-04T20:53:47.423336Z",
     "shell.execute_reply": "2023-09-04T20:53:47.422044Z",
     "shell.execute_reply.started": "2023-09-04T20:53:47.417479Z"
    }
   },
   "source": [
    "$ = \\frac{8}{3} [ ln |10| - ln |3| ] $\n",
    "\n",
    "Remembering properties of natural logs $ ln\\;\\frac{a}{b} = ln\\;a - ln\\;b$\n",
    "\n",
    "$ = \\frac{8}{3}\\;ln\\;|\\frac{10}{3}|$"
   ]
  },
  {
   "cell_type": "markdown",
   "id": "f188698b-77d1-42d9-8824-e91a1f896730",
   "metadata": {
    "execution": {
     "iopub.execute_input": "2023-09-04T21:04:55.507104Z",
     "iopub.status.busy": "2023-09-04T21:04:55.506745Z",
     "iopub.status.idle": "2023-09-04T21:04:55.512672Z",
     "shell.execute_reply": "2023-09-04T21:04:55.511593Z",
     "shell.execute_reply.started": "2023-09-04T21:04:55.507078Z"
    }
   },
   "source": [
    "__9.__   $ \\int \\int_D \\frac{2y}{x^2+1};dA, D = \\{(x,y)| 0≤x≤1, 0≤y≤\\sqrt{x}\\}$"
   ]
  },
  {
   "cell_type": "markdown",
   "id": "c0dedeaf-7f28-4f70-b3ad-977351e79cf9",
   "metadata": {
    "execution": {
     "iopub.execute_input": "2023-09-04T21:34:01.242518Z",
     "iopub.status.busy": "2023-09-04T21:34:01.242135Z",
     "iopub.status.idle": "2023-09-04T21:34:01.248928Z",
     "shell.execute_reply": "2023-09-04T21:34:01.247730Z",
     "shell.execute_reply.started": "2023-09-04T21:34:01.242491Z"
    }
   },
   "source": [
    "$ = \\int_0^1 \\int_0^{\\sqrt{x}} \\frac{1}{x^2+1} 2y \\;dydx = \\int_0^1 [\\frac{1}{x^2+1} \\frac{2}{2} y^2]_{y=0}^{y=\\sqrt{x}} dx = \\int_0^1 [\\frac{1}{x^2+1} y^2]_{y=0}^{y=\\sqrt{x}} dx$"
   ]
  },
  {
   "cell_type": "markdown",
   "id": "0195cc51-2930-4923-b9db-954b4afe4938",
   "metadata": {
    "execution": {
     "iopub.execute_input": "2023-09-04T21:47:56.049014Z",
     "iopub.status.busy": "2023-09-04T21:47:56.048647Z",
     "iopub.status.idle": "2023-09-04T21:47:56.054487Z",
     "shell.execute_reply": "2023-09-04T21:47:56.053158Z",
     "shell.execute_reply.started": "2023-09-04T21:47:56.048986Z"
    }
   },
   "source": [
    "$ = \\int_0^1 ([\\frac{1}{x^2+1} (\\sqrt{x})^2]-[\\frac{1}{x^2+1} (0)^2]) dx = \\int_0^1 [\\frac{x}{x^2+1}]dx$"
   ]
  },
  {
   "cell_type": "markdown",
   "id": "e4d4874a-9215-4ba1-8879-a3b957ae0a51",
   "metadata": {},
   "source": [
    "$ = \\int_0^1 [\\frac{x}{x^2+1}]dx$\n",
    "\n",
    "Again, using u substitution, let $ u = x^2 +1 $ and $ du = 2x $ \n",
    "\n",
    "$ = \\int_0^1 [\\frac{x}{x^2+1}]dx = \\frac{1}{2} \\int_0^1 \\frac{1}{u} \\;du = \\frac{1}{2} [\\;ln|u|\\;]_0^1 $</b>\n",
    "\n",
    "$ = \\frac{1}{2} [\\;ln |(x^2 + 1)|\\;]_0^1 = \\frac{1}{2} [ln|2| - ln|1|] $</br>\n",
    "\n",
    "$ = \\frac{1}{2} [ln|\\frac{2}{1}|] =  \\frac{1}{2} [ln|2|] $"
   ]
  },
  {
   "cell_type": "markdown",
   "id": "b5de6651-eb60-4228-95b0-e51fa5fbb189",
   "metadata": {
    "execution": {
     "iopub.execute_input": "2023-09-04T22:16:26.935141Z",
     "iopub.status.busy": "2023-09-04T22:16:26.934773Z",
     "iopub.status.idle": "2023-09-04T22:16:26.941483Z",
     "shell.execute_reply": "2023-09-04T22:16:26.940205Z",
     "shell.execute_reply.started": "2023-09-04T22:16:26.935116Z"
    }
   },
   "source": [
    "__10.__   $ \\int \\int_D e^{y^2}\\;dA, D = \\{(x,y)| 0≤y≤1, 0≤x≤y\\}$"
   ]
  },
  {
   "cell_type": "markdown",
   "id": "061e5014-4eb4-416f-bcb5-f1011f064027",
   "metadata": {
    "execution": {
     "iopub.execute_input": "2023-09-04T22:22:56.579349Z",
     "iopub.status.busy": "2023-09-04T22:22:56.578986Z",
     "iopub.status.idle": "2023-09-04T22:22:56.584571Z",
     "shell.execute_reply": "2023-09-04T22:22:56.583420Z",
     "shell.execute_reply.started": "2023-09-04T22:22:56.579321Z"
    }
   },
   "source": [
    "$ = \\int_0^1 \\int_0^y e^{y^2} dxdy = \\int_0^1 \\int_0^y e^{y^2} dxdy$ "
   ]
  },
  {
   "cell_type": "markdown",
   "id": "a1bb67d1-2911-4088-81fe-d4820e14e76c",
   "metadata": {
    "execution": {
     "iopub.execute_input": "2023-09-05T01:49:56.417304Z",
     "iopub.status.busy": "2023-09-05T01:49:56.416953Z",
     "iopub.status.idle": "2023-09-05T01:49:56.423086Z",
     "shell.execute_reply": "2023-09-05T01:49:56.421762Z",
     "shell.execute_reply.started": "2023-09-05T01:49:56.417278Z"
    }
   },
   "source": [
    "$ = \\int_0^1 [xe^{y^2}]_{x=0}^{x=y} dy = \\int_0^1 [ye^{y^2}] - [(0)e^{y^2}] dy = \\int_0^1 ye^{y^2} dy$ "
   ]
  },
  {
   "cell_type": "markdown",
   "id": "ec65ee2e-be6b-4c00-9391-2da2ebaf5f08",
   "metadata": {
    "execution": {
     "iopub.execute_input": "2023-09-05T01:54:38.491497Z",
     "iopub.status.busy": "2023-09-05T01:54:38.491133Z",
     "iopub.status.idle": "2023-09-05T01:54:38.497488Z",
     "shell.execute_reply": "2023-09-05T01:54:38.496103Z",
     "shell.execute_reply.started": "2023-09-05T01:54:38.491470Z"
    }
   },
   "source": [
    "Given that $ \\int e^{f(x)} f'(x) dx = e^{f(x)} $"
   ]
  },
  {
   "cell_type": "markdown",
   "id": "8d541325-5577-4637-b4cb-1f34a0eac18d",
   "metadata": {
    "execution": {
     "iopub.execute_input": "2023-09-05T01:59:38.864428Z",
     "iopub.status.busy": "2023-09-05T01:59:38.864069Z",
     "iopub.status.idle": "2023-09-05T01:59:38.870151Z",
     "shell.execute_reply": "2023-09-05T01:59:38.868955Z",
     "shell.execute_reply.started": "2023-09-05T01:59:38.864402Z"
    },
    "tags": []
   },
   "source": [
    "$ \\frac{1}{2} \\int_0^1 2ye^{y^2} dy = \\frac{1}{2} [e^{y^2}]_0^1 = \\frac{1}{2}(e^1-e^0) = \\frac{1}{2}e -\\frac{1}{2} $ "
   ]
  },
  {
   "cell_type": "markdown",
   "id": "4d996245-bb9c-445b-8455-b74e43f19630",
   "metadata": {
    "execution": {
     "iopub.execute_input": "2023-09-04T22:34:43.672152Z",
     "iopub.status.busy": "2023-09-04T22:34:43.671795Z",
     "iopub.status.idle": "2023-09-04T22:34:43.679412Z",
     "shell.execute_reply": "2023-09-04T22:34:43.677015Z",
     "shell.execute_reply.started": "2023-09-04T22:34:43.672126Z"
    }
   },
   "source": [
    "__11.__   $ \\int \\int_D e^{\\frac{x}{y}}\\;dA, D = \\{(x,y)| 1≤y≤2, y≤x≤{y^3}\\}$"
   ]
  },
  {
   "cell_type": "markdown",
   "id": "7b02473f-72c7-491b-9786-3b93c88b9db9",
   "metadata": {
    "execution": {
     "iopub.execute_input": "2023-09-04T22:45:50.479792Z",
     "iopub.status.busy": "2023-09-04T22:45:50.479389Z",
     "iopub.status.idle": "2023-09-04T22:45:50.485038Z",
     "shell.execute_reply": "2023-09-04T22:45:50.483845Z",
     "shell.execute_reply.started": "2023-09-04T22:45:50.479764Z"
    }
   },
   "source": [
    "$ = \\int_1^2 \\int_y^{y^3} e^{\\frac{x}{y}} dxdy =  \\int_1^2 y \\int_y^{y^3} \\frac{1}{y} e^{\\frac{x}{y}} $ "
   ]
  },
  {
   "cell_type": "markdown",
   "id": "c77b5c7f-1f35-4af5-bb79-d37fd6dafc8e",
   "metadata": {
    "execution": {
     "iopub.execute_input": "2023-09-05T02:28:40.010197Z",
     "iopub.status.busy": "2023-09-05T02:28:40.009836Z",
     "iopub.status.idle": "2023-09-05T02:28:40.015588Z",
     "shell.execute_reply": "2023-09-05T02:28:40.014542Z",
     "shell.execute_reply.started": "2023-09-05T02:28:40.010170Z"
    }
   },
   "source": [
    "$ =  \\int_1^2 y [ e^{\\frac{x}{y}} ]_{x=y}^{x=y^3} dy$"
   ]
  },
  {
   "cell_type": "markdown",
   "id": "378501c4-c33b-4aa7-a85f-e54774a4200c",
   "metadata": {
    "execution": {
     "iopub.execute_input": "2023-09-04T23:02:08.470763Z",
     "iopub.status.busy": "2023-09-04T23:02:08.470378Z",
     "iopub.status.idle": "2023-09-04T23:02:08.476556Z",
     "shell.execute_reply": "2023-09-04T23:02:08.475384Z",
     "shell.execute_reply.started": "2023-09-04T23:02:08.470734Z"
    }
   },
   "source": [
    "$ = \\int_1^2 y ( [ e^{\\frac{y^3}{y}} ] - [e^{\\frac{y}{y}}] )dy = \\int_1^2 y([e^{y^2} ] - [e])dy $"
   ]
  },
  {
   "cell_type": "markdown",
   "id": "672ad260-1227-4296-81ab-2fd14b04685b",
   "metadata": {
    "execution": {
     "iopub.execute_input": "2023-09-05T02:08:13.498539Z",
     "iopub.status.busy": "2023-09-05T02:08:13.498174Z",
     "iopub.status.idle": "2023-09-05T02:08:13.505738Z",
     "shell.execute_reply": "2023-09-05T02:08:13.504787Z",
     "shell.execute_reply.started": "2023-09-05T02:08:13.498512Z"
    }
   },
   "source": [
    "$ = \\int_1^2  (ye^{y^2} - ye)\\;dy = \\frac{1}{2} \\int_1^2 (2ye^{y^2} - 2ye) dy$"
   ]
  },
  {
   "cell_type": "markdown",
   "id": "d8bebc86-511d-4b16-b91a-01c4c93a60e2",
   "metadata": {
    "execution": {
     "iopub.execute_input": "2023-09-05T00:16:24.947323Z",
     "iopub.status.busy": "2023-09-05T00:16:24.946940Z",
     "iopub.status.idle": "2023-09-05T00:16:24.952342Z",
     "shell.execute_reply": "2023-09-05T00:16:24.951248Z",
     "shell.execute_reply.started": "2023-09-05T00:16:24.947295Z"
    }
   },
   "source": [
    "$ =  \\frac{1}{2}  [e^{y^2} - y^2e]_1^2 =  \\frac{1}{2} [e^{y^2} - y^2e]_1^2 = \\frac{1}{2} ([e^4 - y^2e]-[e - e])$"
   ]
  },
  {
   "cell_type": "markdown",
   "id": "c53866d1-542c-4856-ac42-cfbcfdd1fa02",
   "metadata": {
    "execution": {
     "iopub.execute_input": "2023-09-05T00:11:42.534623Z",
     "iopub.status.busy": "2023-09-05T00:11:42.534251Z",
     "iopub.status.idle": "2023-09-05T00:11:42.539764Z",
     "shell.execute_reply": "2023-09-05T00:11:42.538776Z",
     "shell.execute_reply.started": "2023-09-05T00:11:42.534595Z"
    }
   },
   "source": [
    " $ = \\frac{1}{2} [e^4 - 4e] - [ e - e] = \\frac{1}{2}e^4 - 2e$"
   ]
  },
  {
   "cell_type": "markdown",
   "id": "d7015c34-7d90-4556-877e-71059c915fe0",
   "metadata": {
    "execution": {
     "iopub.execute_input": "2023-09-05T00:10:00.868081Z",
     "iopub.status.busy": "2023-09-05T00:10:00.867712Z",
     "iopub.status.idle": "2023-09-05T00:10:00.873129Z",
     "shell.execute_reply": "2023-09-05T00:10:00.872120Z",
     "shell.execute_reply.started": "2023-09-05T00:10:00.868055Z"
    }
   },
   "source": [
    "$ book answer = \\frac{1}{2}e^4 - 2e $ "
   ]
  },
  {
   "cell_type": "markdown",
   "id": "2deeb504-a3fc-4340-8b5b-c1848def798f",
   "metadata": {
    "execution": {
     "iopub.execute_input": "2023-09-05T19:59:02.320468Z",
     "iopub.status.busy": "2023-09-05T19:59:02.320099Z",
     "iopub.status.idle": "2023-09-05T19:59:02.326436Z",
     "shell.execute_reply": "2023-09-05T19:59:02.325334Z",
     "shell.execute_reply.started": "2023-09-05T19:59:02.320441Z"
    }
   },
   "source": [
    "__12.__   $ \\int \\int_D x \\sqrt{y^2 - x^2} \\;dA, D = \\{(x,y)| 0≤y≤1,\\;0≤x≤y\\} $"
   ]
  },
  {
   "cell_type": "markdown",
   "id": "6929183d-3812-4a89-a2aa-471d4a06936b",
   "metadata": {
    "execution": {
     "iopub.execute_input": "2023-09-05T21:14:35.231468Z",
     "iopub.status.busy": "2023-09-05T21:14:35.231095Z",
     "iopub.status.idle": "2023-09-05T21:14:35.237788Z",
     "shell.execute_reply": "2023-09-05T21:14:35.236460Z",
     "shell.execute_reply.started": "2023-09-05T21:14:35.231440Z"
    }
   },
   "source": [
    "$ = \\int_0^1 \\int_0^y x\\sqrt{x^2-y^2} dydx =  \\int_0^1 \\int_0^y  (x^2-y^2)^{\\frac{1}{2}} dydx $ "
   ]
  },
  {
   "cell_type": "markdown",
   "id": "72720e79-9ba9-4af3-9a6a-278655c974e1",
   "metadata": {},
   "source": [
    "Using substitution, let $ u = (y^2 - x^2), du/dx = -2x $\n",
    "\n",
    "$ \\int_0^y u^{\\frac{1}{2}} \\frac{du}{dx} = \\frac{-1}{2} \\int_0^y u^{\\frac{1}{2}} \\frac{du}{dx} = \\frac{-1}{2} [\\frac{2}{3} u^{\\frac{3}{2}}]_{x=0}^{x=y} = \\frac{-1}{2} [\\frac{2}{3} (y^2-x^2)^{\\frac{3}{2}}]_{x=0}^{x=y}$"
   ]
  },
  {
   "cell_type": "markdown",
   "id": "c957a50e-8ebf-4914-8c1b-0a0424477c73",
   "metadata": {
    "execution": {
     "iopub.execute_input": "2023-09-05T22:04:50.205949Z",
     "iopub.status.busy": "2023-09-05T22:04:50.205549Z",
     "iopub.status.idle": "2023-09-05T22:04:50.212408Z",
     "shell.execute_reply": "2023-09-05T22:04:50.211100Z",
     "shell.execute_reply.started": "2023-09-05T22:04:50.205921Z"
    }
   },
   "source": [
    "$ = \\frac{-1}{2} ( [\\frac{2}{3} (y^2-y^2)^{\\frac{3}{2}}] - [\\frac{2}{3} (y^2-(0)^2)^{\\frac{3}{2}}] ) = \\frac{-1}{2} ( [0] - [\\frac{2}{3} (y^2)^{\\frac{3}{2}}] ) = \\frac{-1}{2} ( -[\\frac{2}{3} y^2(\\sqrt{y^2})] ) = \\frac{2}{6} y^2(y) = \\frac{2}{6} y^3$"
   ]
  },
  {
   "cell_type": "markdown",
   "id": "ffcf846b-922b-4a59-82ff-bad1a72f9003",
   "metadata": {},
   "source": [
    "__13.__   $ \\int \\int_D x cos(y) \\;dA, bounded\\;by\\;y = 0, y = x^2, x=1 $"
   ]
  },
  {
   "cell_type": "markdown",
   "id": "9cbb0b2f-d8a3-4338-b950-5c4fcf7b5e90",
   "metadata": {
    "execution": {
     "iopub.execute_input": "2023-09-05T22:11:22.561097Z",
     "iopub.status.busy": "2023-09-05T22:11:22.560722Z",
     "iopub.status.idle": "2023-09-05T22:11:22.566865Z",
     "shell.execute_reply": "2023-09-05T22:11:22.565554Z",
     "shell.execute_reply.started": "2023-09-05T22:11:22.561071Z"
    }
   },
   "source": [
    "placing this back into the original integral to complete the final integration\n",
    "\n",
    "$ \\int_0^1 \\frac{2}{6} y^3 dy = [(\\frac{2}{6}) (\\frac{1}{4}) y^4]_0^1 = [(\\frac{2}{24}) y^4]_0^1 = \\frac{2}{24} $"
   ]
  },
  {
   "cell_type": "markdown",
   "id": "bd8f92df-a3b2-4047-86ba-0bdf666a3f13",
   "metadata": {
    "execution": {
     "iopub.execute_input": "2023-09-06T20:02:50.813864Z",
     "iopub.status.busy": "2023-09-06T20:02:50.813498Z",
     "iopub.status.idle": "2023-09-06T20:02:50.819162Z",
     "shell.execute_reply": "2023-09-06T20:02:50.818013Z",
     "shell.execute_reply.started": "2023-09-06T20:02:50.813836Z"
    },
    "tags": []
   },
   "source": [
    "__14.__   $ \\int \\int_D (x+y) \\;dA, D\\;is\\;bounded\\;by\\;y = \\sqrt{x}, y = x^2$"
   ]
  },
  {
   "cell_type": "markdown",
   "id": "a3770d3c-1a54-4a1c-ac05-c706139382b9",
   "metadata": {},
   "source": [
    "For this problem, x-limits can be found where the two functions intersect, so when $\\sqrt{x} = x^2$ or $x = -1, 1$\n",
    "</br> So, \n",
    "$D = \\{(x,y)| -1≤y≤1, \\sqrt{x}≤x≤{x^2}\\} $\n",
    "</br>\n",
    "$\\int_0^1 \\int_{y=\\sqrt{x}}^{y=x^2} (x+y)\\;dydx $\n"
   ]
  },
  {
   "cell_type": "markdown",
   "id": "94a076b1-2bd6-47e6-ba34-1bd6240b861b",
   "metadata": {
    "execution": {
     "iopub.execute_input": "2023-09-06T20:25:24.843275Z",
     "iopub.status.busy": "2023-09-06T20:25:24.842888Z",
     "iopub.status.idle": "2023-09-06T20:25:24.850883Z",
     "shell.execute_reply": "2023-09-06T20:25:24.849662Z",
     "shell.execute_reply.started": "2023-09-06T20:25:24.843246Z"
    }
   },
   "source": [
    "$ = \\int_0^1 ([(y)(x) + \\frac{1}{2} (y^2) ]_{y=\\sqrt{x}}^{y =x^2}\\;dx $"
   ]
  },
  {
   "cell_type": "markdown",
   "id": "bf9b2701-d9d4-4988-8c04-d8c4a5ae1051",
   "metadata": {
    "execution": {
     "iopub.execute_input": "2023-09-06T20:30:15.125963Z",
     "iopub.status.busy": "2023-09-06T20:30:15.125603Z",
     "iopub.status.idle": "2023-09-06T20:30:15.132118Z",
     "shell.execute_reply": "2023-09-06T20:30:15.131021Z",
     "shell.execute_reply.started": "2023-09-06T20:30:15.125937Z"
    },
    "tags": []
   },
   "source": [
    "$ = \\int_0^1 ([(x^2)(x) + \\frac{1}{2} ((x^2)^2) ] - [(\\sqrt{x})(x) + \\frac{1}{2} (\\sqrt{x})^2 ]_{y=\\sqrt{x}}^{y =x^2}\\;dx $\n",
    "\n",
    "$ = \\int_0^1 ([(x^3) + \\frac{1}{2} (x^4) ] - [(x^{\\frac{3}{2}}) + \\frac{x}{2} ] dx $\n",
    "\n",
    "$ = \\int_0^1 (\\frac{1}{2}(x^4) + x^3 - x^{\\frac{3}{2}} - \\frac{x}{2}) dx $\n",
    "\n",
    "$ = [(\\frac{1}{10}x^5 + \\frac{1}{4}x^4 - \\frac{2}{5}x^{\\frac{5}{2}} - \\frac{1}{4}x^2)]_0^1 dx $\n",
    "\n",
    "$ = [\\frac{1}{10} + \\frac{1}{4} - \\frac{2}{5} - \\frac{1}{4}] - [0] = [\\frac{2}{20} - \\frac{8}{20}] = -\\frac{6}{20}$"
   ]
  },
  {
   "cell_type": "markdown",
   "id": "ae517cf3-915b-4f24-9f3e-d653c36c07c6",
   "metadata": {},
   "source": [
    "__39-44 Evaluate the integral by reversing the order of integration__"
   ]
  },
  {
   "cell_type": "markdown",
   "id": "69f888fe-10ec-4919-9ada-00038beaf21d",
   "metadata": {
    "execution": {
     "iopub.execute_input": "2023-09-07T17:48:22.182601Z",
     "iopub.status.busy": "2023-09-07T17:48:22.182195Z",
     "iopub.status.idle": "2023-09-07T17:48:22.191585Z",
     "shell.execute_reply": "2023-09-07T17:48:22.190357Z",
     "shell.execute_reply.started": "2023-09-07T17:48:22.182567Z"
    }
   },
   "source": [
    "__39.__   $ \\int_0^1 \\int_{3y}^{3} e^{x^2} \\;dxdy $"
   ]
  },
  {
   "cell_type": "markdown",
   "id": "aadbaa2b-b189-481b-ac95-7dc1ba8cb389",
   "metadata": {
    "execution": {
     "iopub.execute_input": "2023-09-07T17:55:02.650388Z",
     "iopub.status.busy": "2023-09-07T17:55:02.650014Z",
     "iopub.status.idle": "2023-09-07T17:55:02.656246Z",
     "shell.execute_reply": "2023-09-07T17:55:02.655083Z",
     "shell.execute_reply.started": "2023-09-07T17:55:02.650362Z"
    }
   },
   "source": [
    "$ = \\int_{3y}^{3} \\int_0^1  e^{x^2} \\;dydx = \\int_{3y}^{3} [ ye^{x^2}]_0^1 \\;dx $"
   ]
  },
  {
   "cell_type": "markdown",
   "id": "656846e6-00e8-42e5-a987-7bd87f16824d",
   "metadata": {
    "execution": {
     "iopub.execute_input": "2023-09-07T17:59:36.449586Z",
     "iopub.status.busy": "2023-09-07T17:59:36.449194Z",
     "iopub.status.idle": "2023-09-07T17:59:36.455372Z",
     "shell.execute_reply": "2023-09-07T17:59:36.454082Z",
     "shell.execute_reply.started": "2023-09-07T17:59:36.449557Z"
    }
   },
   "source": [
    "$ = \\int_3^{y^3} ([(1)e^{x^2}]- [0]) \\;dx  = \\int_3^{y^3} e^{x^2}\\;dx$ # Error function?  "
   ]
  },
  {
   "cell_type": "markdown",
   "id": "1c894c0b-47e1-4e93-94eb-7e3d64975395",
   "metadata": {
    "execution": {
     "iopub.execute_input": "2023-09-07T18:08:39.912024Z",
     "iopub.status.busy": "2023-09-07T18:08:39.911618Z",
     "iopub.status.idle": "2023-09-07T18:08:39.917266Z",
     "shell.execute_reply": "2023-09-07T18:08:39.916192Z",
     "shell.execute_reply.started": "2023-09-07T18:08:39.911994Z"
    }
   },
   "source": [
    "$ = [ e^{(y^3)^2} ] - [ e^{3^2} ] $"
   ]
  },
  {
   "cell_type": "markdown",
   "id": "b6781661-6e35-42f6-91cd-2d637cf9f613",
   "metadata": {
    "execution": {
     "iopub.execute_input": "2023-09-07T18:06:56.112714Z",
     "iopub.status.busy": "2023-09-07T18:06:56.112325Z",
     "iopub.status.idle": "2023-09-07T18:06:56.120890Z",
     "shell.execute_reply": "2023-09-07T18:06:56.119508Z",
     "shell.execute_reply.started": "2023-09-07T18:06:56.112686Z"
    }
   },
   "source": [
    "book ans: $(e^9 - 1)/6$"
   ]
  },
  {
   "cell_type": "markdown",
   "id": "a5a1b8c6-b024-40d9-85bf-a1d7863eb547",
   "metadata": {},
   "source": [
    "JHUAPL is my real internship of 2003. I try to keep fresh, because there is literlly nothing else to do.  I am not going to record stories of people being nasty to me.  I am not a exective come down off high... I am an abused woman coming right out of first hell, who invested in stocks while HOMELESS.  Because $400 isn't exactly high flying.  The gangsta's paradise men see more than that a day.  Waitresses make more than that in a weekend.  I receive 0 dollars in disability benefits.  I receive 0 dollars in loans.  I receive 0 dollars in veterans benefits.  I have 0 income per month.  I live in a tent, which makes me look like first, because men decided there was nothing good about me, and I shouuld be grateful to have a ride along, even if it stymied a life of my own.  An umbrella so I can have time to find my people, is appreciated.  But telling me I cannot have a life of my own... no thanks. I am already DTX AND DXT and was never been fired from a job, other than waitressing. I am not a dog for the trans community, nor should I have to carry anti-trans books. That wasn't one of my matches - it was my intolerant hateful MOTHER who told me that I couldn't stay with her, was afraid I would turn my brother gay if his fingernails got painted.  The LGBTQ community should love me, but they don't... because if someone says my real name is anti-trans, then I should be a slave for them.  I am like the ring itself in the Hobbit movies, the power of \"owning\" me makes everyone keep me low to exploit me. Of course I am a freaking mess."
   ]
  },
  {
   "cell_type": "markdown",
   "id": "3e3b11d1-2e4e-4f17-99ad-b59f0d5dcc70",
   "metadata": {
    "execution": {
     "iopub.execute_input": "2023-09-07T17:51:02.706718Z",
     "iopub.status.busy": "2023-09-07T17:51:02.706347Z",
     "iopub.status.idle": "2023-09-07T17:51:02.712158Z",
     "shell.execute_reply": "2023-09-07T17:51:02.710909Z",
     "shell.execute_reply.started": "2023-09-07T17:51:02.706690Z"
    }
   },
   "source": [
    "__40.__   $ \\int_0^1 \\int_{\\sqrt{y}}^1 \\sqrt{x^3+1} \\;dxdy $"
   ]
  },
  {
   "cell_type": "markdown",
   "id": "75b42756-67b1-4a5b-86ca-bb47faa6deb4",
   "metadata": {
    "execution": {
     "iopub.execute_input": "2023-09-07T18:23:05.727775Z",
     "iopub.status.busy": "2023-09-07T18:23:05.727401Z",
     "iopub.status.idle": "2023-09-07T18:23:05.734030Z",
     "shell.execute_reply": "2023-09-07T18:23:05.732724Z",
     "shell.execute_reply.started": "2023-09-07T18:23:05.727748Z"
    }
   },
   "source": [
    "$ \\int_0^1 \\int_{\\sqrt{y}}^1 \\sqrt{x^3+1} \\;dxdy  =  $"
   ]
  },
  {
   "cell_type": "markdown",
   "id": "afa19043-df61-49a1-84a5-ccc8bd61d533",
   "metadata": {
    "execution": {
     "iopub.execute_input": "2023-09-07T18:29:35.614509Z",
     "iopub.status.busy": "2023-09-07T18:29:35.614112Z",
     "iopub.status.idle": "2023-09-07T18:29:35.620012Z",
     "shell.execute_reply": "2023-09-07T18:29:35.618801Z",
     "shell.execute_reply.started": "2023-09-07T18:29:35.614480Z"
    },
    "tags": []
   },
   "source": [
    "$ \\int_{\\sqrt{y}}^1 \\int_0^1  \\sqrt{x^3+1} \\;dydx = \\int_{\\sqrt{y}}^1 [ y\\sqrt{x^3+1}]_0^1 \\;dx$"
   ]
  },
  {
   "cell_type": "markdown",
   "id": "c03333d7-df51-40ca-98a1-579d4c6cf1b6",
   "metadata": {},
   "source": [
    "$ = \\int_{\\sqrt{y}}^1 [ (1)\\sqrt{x^3+1}-[ (0)\\sqrt{x^3+1}] \\;dx $"
   ]
  },
  {
   "cell_type": "markdown",
   "id": "f838a96a-1201-4535-a2db-818400348a34",
   "metadata": {
    "execution": {
     "iopub.execute_input": "2023-09-07T18:37:45.971207Z",
     "iopub.status.busy": "2023-09-07T18:37:45.970839Z",
     "iopub.status.idle": "2023-09-07T18:37:45.976574Z",
     "shell.execute_reply": "2023-09-07T18:37:45.975529Z",
     "shell.execute_reply.started": "2023-09-07T18:37:45.971182Z"
    },
    "tags": []
   },
   "source": [
    "$ = \\int_{\\sqrt{y}}^1 \\sqrt{x^3+1}\\; \\;dx = $"
   ]
  },
  {
   "cell_type": "markdown",
   "id": "533fffd4-b76f-4493-8edc-e2a962f820d6",
   "metadata": {},
   "source": [
    "let $u = x^3+1 ,  \\int\\sqrt{u}\\;du =  \\frac{2}{3} u^{\\frac{3}{2}}$, this doesn't help.  \n"
   ]
  },
  {
   "cell_type": "markdown",
   "id": "7c0ef581-8ea3-40bd-ba41-cec887782678",
   "metadata": {
    "execution": {
     "iopub.execute_input": "2023-09-07T19:48:22.032435Z",
     "iopub.status.busy": "2023-09-07T19:48:22.032049Z",
     "iopub.status.idle": "2023-09-07T19:48:22.037961Z",
     "shell.execute_reply": "2023-09-07T19:48:22.036852Z",
     "shell.execute_reply.started": "2023-09-07T19:48:22.032406Z"
    }
   },
   "source": [
    "__41.__   $ \\int_0^3 \\int_{y^2}^9 ycos(x^2) \\;dxdy $"
   ]
  },
  {
   "cell_type": "markdown",
   "id": "7c13d110-8bcd-4a59-b32e-62ef567f0b95",
   "metadata": {
    "execution": {
     "iopub.execute_input": "2023-09-07T20:06:01.545660Z",
     "iopub.status.busy": "2023-09-07T20:06:01.545281Z",
     "iopub.status.idle": "2023-09-07T20:06:01.550880Z",
     "shell.execute_reply": "2023-09-07T20:06:01.549757Z",
     "shell.execute_reply.started": "2023-09-07T20:06:01.545633Z"
    }
   },
   "source": [
    "$ = \\int_{y^2}^9 \\int_0^3  ycos(x^2) \\;dydx = \\int_{y^2}^9  [ycos(x^2)]_0^3 \\;dydx = \\int_{y^2}^9  [(3)cos(x^2)]-[(0)cos(x^2)]\\;dx = ycos(x^2)]_0^3 \\;dydx $"
   ]
  },
  {
   "cell_type": "markdown",
   "id": "f52d5952-664a-4ff9-a61e-81d13618b212",
   "metadata": {
    "execution": {
     "iopub.execute_input": "2023-09-07T20:49:16.375872Z",
     "iopub.status.busy": "2023-09-07T20:49:16.375494Z",
     "iopub.status.idle": "2023-09-07T20:49:16.383552Z",
     "shell.execute_reply": "2023-09-07T20:49:16.382510Z",
     "shell.execute_reply.started": "2023-09-07T20:49:16.375845Z"
    }
   },
   "source": [
    "$ = \\int_{y^2}^9 3cos(x^2) dx$</br>\n",
    "Again, reverse chain rule does not work because the derivative of $cos(f(x))$ is not present.</br>"
   ]
  },
  {
   "cell_type": "markdown",
   "id": "faa22958-c66e-49fa-b94d-05636e58966a",
   "metadata": {
    "execution": {
     "iopub.execute_input": "2023-09-07T18:25:13.974682Z",
     "iopub.status.busy": "2023-09-07T18:25:13.974308Z",
     "iopub.status.idle": "2023-09-07T18:25:13.980485Z",
     "shell.execute_reply": "2023-09-07T18:25:13.979260Z",
     "shell.execute_reply.started": "2023-09-07T18:25:13.974654Z"
    },
    "tags": []
   },
   "source": [
    "I am human, and flawed.  But people would absolutely crucify Jesus again. I am not christian, but I believe he was a man that WAS crucified and did not deserve crucifixion and yet most christians know nothing of that.  Oh no, a god, he is perfect of course we would recognize him... we wouldn't nail him to a cross?  Oh, really? Not even if Pontius Pilate said he was bad?  Are you so sure you wouldn't judge someone on what someone else TOLD you was true? \n",
    "\n",
    "Just like you believed that I was addicted to drugs or killed people or was everything under the sun... \n",
    "I am your intel student, who hasn't done any of the horrible things you made me pay for because I was sarcastic and said \"I eat babies with Wasabi\" or claimed you treated me like a terrorist.  You DID. You h\n",
    "\n",
    "\n",
    "This is a Ginormous law enforcement steal.  They beat the shit out of me, and you'll make me a slave to them. They are NOT funding me.  They NEVER did. Individuals may have, but not them.  I didn't fail FlatIron, I didn't have a place to stay and pawned the laptop.  I mean I am not a developer anyway, but eveything you build dies, because no one funds ME to do anythying.  And yes, I am allowed to ask for an opportunity to do what normal people do.  You dont' even let me wash dishes like I did on the east coast?  You can't make me an undocumented worked, when I dont' have another language or ID.  You did not develop me at all.  I developed myself under umbrellas."
   ]
  },
  {
   "cell_type": "markdown",
   "id": "8636921d-4f9e-42ba-846d-a7ddc0ce391f",
   "metadata": {},
   "source": [
    "__The most powerful way to attack a book is to demonize its author, to turn him into a creature of base motives and evil intentions.  The \"Satan Rushdy\" who would afterward be paraded down the world's streets by angry demonstrators, hanged in effigy with a red tongue hanging out and wearing a crude tuxedo was being created.  Here was the first proposition of the assault: that anyone who wrote a book with the word \"satanic\" in the title must be satanic too.  Like many false propositions that flourished in the incipient age of information (or disinformation), it became true by repitition.  Tell a lie about a man once and many people will not believe you.  Tell it a million times and it is the man himself who will not be believed. SR, Joseph Anton p.112"
   ]
  },
  {
   "cell_type": "markdown",
   "id": "17e6b5f7-12bb-46ba-884e-4bb6482c5845",
   "metadata": {
    "execution": {
     "iopub.execute_input": "2023-09-05T02:03:37.062611Z",
     "iopub.status.busy": "2023-09-05T02:03:37.062252Z",
     "iopub.status.idle": "2023-09-05T02:03:37.068681Z",
     "shell.execute_reply": "2023-09-05T02:03:37.067358Z",
     "shell.execute_reply.started": "2023-09-05T02:03:37.062586Z"
    }
   },
   "source": [
    "Remembering Integration by Parts:\n",
    "$ \\int f(x)g'(x) = f(x)g(x) - \\int f'(x)g(x)dx $\n",
    "\n",
    "Let $f(x) = $ and $g'(x) = $, then $ f'(x) =  $ and $ g(x) =  $ "
   ]
  }
 ],
 "metadata": {
  "kernelspec": {
   "display_name": "saturn (Python 3)",
   "language": "python",
   "name": "python3"
  },
  "language_info": {
   "codemirror_mode": {
    "name": "ipython",
    "version": 3
   },
   "file_extension": ".py",
   "mimetype": "text/x-python",
   "name": "python",
   "nbconvert_exporter": "python",
   "pygments_lexer": "ipython3",
   "version": "3.9.15"
  }
 },
 "nbformat": 4,
 "nbformat_minor": 5
}
