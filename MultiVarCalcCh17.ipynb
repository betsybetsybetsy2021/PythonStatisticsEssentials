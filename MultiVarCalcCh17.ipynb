{
 "cells": [
  {
   "cell_type": "markdown",
   "id": "b86dfa49-ce4f-49e4-95f5-82b587ff1ea0",
   "metadata": {},
   "source": [
    "__Multivariable Calculus - Fourth Edition</br>\n",
    "by James Stewart </br>\n",
    "Chapter 17 Section 5 - Curl and Divergence__"
   ]
  },
  {
   "cell_type": "code",
   "execution_count": 17,
   "id": "76aeb8bf-9ed3-48eb-a588-f8a80cc31f03",
   "metadata": {
    "execution": {
     "iopub.execute_input": "2023-08-30T23:58:41.630503Z",
     "iopub.status.busy": "2023-08-30T23:58:41.630144Z",
     "iopub.status.idle": "2023-08-30T23:58:42.244120Z",
     "shell.execute_reply": "2023-08-30T23:58:42.243384Z",
     "shell.execute_reply.started": "2023-08-30T23:58:41.630477Z"
    }
   },
   "outputs": [],
   "source": [
    "import numpy as np\n",
    "import math\n",
    "import matplotlib.pyplot as plt"
   ]
  },
  {
   "cell_type": "code",
   "execution_count": 21,
   "id": "13b05eb4-ea19-44e5-8003-34f04c7c09b5",
   "metadata": {
    "execution": {
     "iopub.execute_input": "2023-08-31T00:19:38.624445Z",
     "iopub.status.busy": "2023-08-31T00:19:38.624087Z",
     "iopub.status.idle": "2023-08-31T00:19:38.627702Z",
     "shell.execute_reply": "2023-08-31T00:19:38.627005Z",
     "shell.execute_reply.started": "2023-08-31T00:19:38.624419Z"
    },
    "tags": []
   },
   "outputs": [],
   "source": [
    "# This is the work that no one will sponsor me to get back into. Where are my engineers and physicists at?\n",
    "# Impedance matching transmission lines is triple integrals\n",
    "# Radar cross sections is RF, reflections, and Finite Element Analysis\n",
    "# Electromagnetic propulsion, maglev trains are all about the magnetic fields! This stuff ... right here is its \n",
    "# foundation."
   ]
  },
  {
   "cell_type": "markdown",
   "id": "0df27eba-1a80-42f5-a2ca-216ec0c96e39",
   "metadata": {},
   "source": [
    "__Curl__ \n",
    "\n",
    "If $F = Pi + Qj + Rk$ is a vector field on $R^{3}$ and the partial derivatives of P, Q, and R all exist, then\n",
    "the curl of F is the vector field on $R^{3}$ defined by"
   ]
  },
  {
   "cell_type": "markdown",
   "id": "c87185a5-5fe9-4648-bce8-7978ef939940",
   "metadata": {},
   "source": [
    "$Curl F = ((δR/δy)-(δQ/δz))i + ((δP/δz)-(δR/δx)j+((δP/δz)-(δQ/δx))k$"
   ]
  },
  {
   "cell_type": "markdown",
   "id": "5dcb976b-f6be-42b5-97b2-d3bb516a7f7d",
   "metadata": {},
   "source": [
    "$∇ = i(δ/δx) + j(δ/δy) + k(δ/δz)$"
   ]
  },
  {
   "cell_type": "markdown",
   "id": "e7dec04d-aa51-46a9-8d01-d89e8f7bb11e",
   "metadata": {
    "execution": {
     "iopub.execute_input": "2023-08-30T22:07:30.728396Z",
     "iopub.status.busy": "2023-08-30T22:07:30.727930Z",
     "iopub.status.idle": "2023-08-30T22:07:30.735917Z",
     "shell.execute_reply": "2023-08-30T22:07:30.734733Z",
     "shell.execute_reply.started": "2023-08-30T22:07:30.728361Z"
    }
   },
   "source": [
    "If we think of ∇ as a vector with components , we can also consider the formal cross product of \n",
    "with the vector field F as follows:"
   ]
  },
  {
   "cell_type": "markdown",
   "id": "15e7af0f-a450-4ab4-8ad1-4b775f13f5fa",
   "metadata": {
    "execution": {
     "iopub.execute_input": "2023-08-30T22:01:44.198548Z",
     "iopub.status.busy": "2023-08-30T22:01:44.198181Z",
     "iopub.status.idle": "2023-08-30T22:01:44.207957Z",
     "shell.execute_reply": "2023-08-30T22:01:44.206589Z",
     "shell.execute_reply.started": "2023-08-30T22:01:44.198519Z"
    }
   },
   "source": [
    "$∇ X F = $$\\begin{bmatrix} i & j & k \\\\ δ/δx & δ/δy & δ/δz \\\\ P & Q & R \\end{bmatrix}$$ $ </br>\n",
    "</br>\n",
    "$ = ((δR/δy)-(δQ/δz))i + ((δP/δz)-(δR/δx)j+((δP/δz)-(δQ/δx))k$</br>\n",
    "</br>\n",
    "$ = curl F$"
   ]
  },
  {
   "cell_type": "markdown",
   "id": "4df4c1e4-6095-48b7-9780-31adad636844",
   "metadata": {
    "execution": {
     "iopub.execute_input": "2023-08-30T22:12:11.143834Z",
     "iopub.status.busy": "2023-08-30T22:12:11.143155Z",
     "iopub.status.idle": "2023-08-30T22:12:11.149707Z",
     "shell.execute_reply": "2023-08-30T22:12:11.148348Z",
     "shell.execute_reply.started": "2023-08-30T22:12:11.143802Z"
    }
   },
   "source": [
    "The easiest way to remember Definition 1 is by means of the symbolic expression</br>\n",
    "</br>\n",
    "$ curl F = ∇ X F.$"
   ]
  },
  {
   "cell_type": "markdown",
   "id": "4db25d3f-6b12-4243-9336-6e6bbba99d43",
   "metadata": {},
   "source": [
    "__Divergence__\n",
    "\n",
    "If F = Pi + Qj + Rk is a vector field on $R^{3}$ and exist, then the divergence of F is the function of the three variables defined by\n",
    "\n",
    "$ div \\; F = \\frac{δP}{δx} + \\frac{δQ}{δy} + \\frac{δR}{δz} $\n",
    "\n",
    "Observe that curl F is a vector field but div F is a scalar field. In terms of the gradient operator $∇ = (δ/δx)i + (δ/δy)j + (δ/δz)k$, the divergence of F can be written symbolically as the dot product of ∇ and F:\n",
    "\n",
    "$ div \\; F = ∇ \\cdot F $"
   ]
  },
  {
   "cell_type": "markdown",
   "id": "f7a250f6-5c10-4ba5-a692-52bc10777a83",
   "metadata": {
    "execution": {
     "iopub.execute_input": "2023-08-30T22:22:26.233085Z",
     "iopub.status.busy": "2023-08-30T22:22:26.232712Z",
     "iopub.status.idle": "2023-08-30T22:22:26.239277Z",
     "shell.execute_reply": "2023-08-30T22:22:26.238091Z",
     "shell.execute_reply.started": "2023-08-30T22:22:26.233059Z"
    }
   },
   "source": [
    "__Laplace's Equation__\n",
    "\n",
    "$∇^{2}f =   \\frac{δ^{2}f}{δx^{2}} + \\frac{δ^{2}f}{δy^{2}} + \\frac{δ^{2}f}{δz^{2}} = 0 $ </br>\n",
    "</br>\n",
    "we can also apply the Laplace operator $∇^{2}$ to a vector field\n",
    "\n",
    "$ F = Pi + Qj + Rk$\n",
    "\n",
    "in terms of its components:\n",
    "\n",
    "$∇^{2}F = ∇^{2}Pi + ∇^{2}Qj + ∇^{2}Rk$ </br>"
   ]
  },
  {
   "cell_type": "markdown",
   "id": "fc7045a2-fe40-4361-b8bd-6249515f646e",
   "metadata": {
    "execution": {
     "iopub.execute_input": "2023-08-30T22:30:58.128344Z",
     "iopub.status.busy": "2023-08-30T22:30:58.127962Z",
     "iopub.status.idle": "2023-08-30T22:30:58.134743Z",
     "shell.execute_reply": "2023-08-30T22:30:58.133014Z",
     "shell.execute_reply.started": "2023-08-30T22:30:58.128314Z"
    }
   },
   "source": [
    "__Exercise 1__ </br>\n",
    "(a) Find the curl and (b) the divergence of the vector field\n",
    "\n",
    "$1.\\;\\;\\;\\;\\;\\;  F(x,y,z) = xyi + yzj + zxk$\n",
    "</br>\n",
    "(a)"
   ]
  },
  {
   "cell_type": "markdown",
   "id": "401d6c20-bbd0-4f28-878c-990909f643d3",
   "metadata": {
    "execution": {
     "iopub.execute_input": "2023-08-30T22:33:56.404792Z",
     "iopub.status.busy": "2023-08-30T22:33:56.404404Z",
     "iopub.status.idle": "2023-08-30T22:33:56.411889Z",
     "shell.execute_reply": "2023-08-30T22:33:56.410550Z",
     "shell.execute_reply.started": "2023-08-30T22:33:56.404764Z"
    }
   },
   "source": [
    "$∇ X F \\; = \\;\\; $$\\begin{bmatrix} i & j & k \\\\ δ/δx & δ/δy & δ/δz \\\\ xy & yz & zk \\end{bmatrix}$$ $ </br>\n",
    "</br>"
   ]
  },
  {
   "cell_type": "markdown",
   "id": "020f1d1e-9b25-475a-bf70-af6a5eb8c077",
   "metadata": {
    "execution": {
     "iopub.execute_input": "2023-08-30T22:50:45.844444Z",
     "iopub.status.busy": "2023-08-30T22:50:45.844080Z",
     "iopub.status.idle": "2023-08-30T22:50:45.853547Z",
     "shell.execute_reply": "2023-08-30T22:50:45.852389Z",
     "shell.execute_reply.started": "2023-08-30T22:50:45.844416Z"
    },
    "tags": []
   },
   "source": [
    "$ \\;\\;\\;\\;\\;\\;\\;\\;\\;\\; = [\\frac{δ}{δy}(zx) - \\frac{δ}{δz}(yz) ]i  + [\\frac{δ}{δz}(xy) - \\frac{δ}{δx}(zx) ]j + [\\frac{δ}{δx}(yz) - \\frac{δ}{δy}(xy)]k  $\n",
    "\n"
   ]
  },
  {
   "cell_type": "markdown",
   "id": "25e5d9c5-b206-4662-9a8c-350c533fc8ec",
   "metadata": {},
   "source": [
    "$ \\;\\;\\;\\;\\;\\;\\;\\;\\;\\; = [0 - y]i  + [0 - z]j + [0 - x]k  $"
   ]
  },
  {
   "cell_type": "markdown",
   "id": "fafd9738-b1e5-412c-9156-c8fedf5568f2",
   "metadata": {
    "execution": {
     "iopub.execute_input": "2023-08-30T22:56:24.395762Z",
     "iopub.status.busy": "2023-08-30T22:56:24.395400Z",
     "iopub.status.idle": "2023-08-30T22:56:24.401191Z",
     "shell.execute_reply": "2023-08-30T22:56:24.400081Z",
     "shell.execute_reply.started": "2023-08-30T22:56:24.395735Z"
    }
   },
   "source": [
    "$ \\;\\;\\;\\;\\;\\;\\;\\;\\;\\; = -yi  - zj  - xk  $"
   ]
  },
  {
   "cell_type": "markdown",
   "id": "54ea07cc-0a50-420b-8de0-2251d84962fa",
   "metadata": {
    "execution": {
     "iopub.execute_input": "2023-08-30T23:29:51.571161Z",
     "iopub.status.busy": "2023-08-30T23:29:51.570795Z",
     "iopub.status.idle": "2023-08-30T23:29:51.576473Z",
     "shell.execute_reply": "2023-08-30T23:29:51.575345Z",
     "shell.execute_reply.started": "2023-08-30T23:29:51.571134Z"
    }
   },
   "source": [
    "(b)\n",
    "\n",
    "$ div \\; F = \\frac{δP}{δx} + \\frac{δQ}{δy} + \\frac{δR}{δz} $"
   ]
  },
  {
   "cell_type": "markdown",
   "id": "62260589-2f62-4905-8462-bc9cd4f0c536",
   "metadata": {
    "execution": {
     "iopub.execute_input": "2023-08-30T23:40:20.698532Z",
     "iopub.status.busy": "2023-08-30T23:40:20.698173Z",
     "iopub.status.idle": "2023-08-30T23:40:20.703897Z",
     "shell.execute_reply": "2023-08-30T23:40:20.702642Z",
     "shell.execute_reply.started": "2023-08-30T23:40:20.698506Z"
    }
   },
   "source": [
    "$div \\; F =  y + z + x $"
   ]
  },
  {
   "cell_type": "markdown",
   "id": "5c9f4697-4aa2-4bf2-8c76-31c54e2ec9cd",
   "metadata": {
    "execution": {
     "iopub.execute_input": "2023-08-30T23:41:52.340281Z",
     "iopub.status.busy": "2023-08-30T23:41:52.339920Z",
     "iopub.status.idle": "2023-08-30T23:41:52.345681Z",
     "shell.execute_reply": "2023-08-30T23:41:52.344584Z",
     "shell.execute_reply.started": "2023-08-30T23:41:52.340254Z"
    },
    "tags": []
   },
   "source": [
    "__Exercise 2__</br>\n",
    "(a) Find the curl and (b) the divergence of the vector field\n",
    "\n",
    "$2.\\;\\;\\;\\;\\;\\;  F(x,y,z) = (x-2z)i + (x+y+z)j + (x-2y)k$</br>\n",
    "</br>"
   ]
  },
  {
   "cell_type": "markdown",
   "id": "179031c3-ad38-4f22-b788-f2c4293d26d7",
   "metadata": {},
   "source": [
    "(a) </br>\n",
    "$∇ X F \\; = \\;\\; $$\\begin{bmatrix} i & j & k \\\\ δ/δx & δ/δy & δ/δz \\\\ (x-2z) & (x+y+z) & (x-2y) \\end{bmatrix}$$ $ </br>\n",
    "</br>"
   ]
  },
  {
   "cell_type": "markdown",
   "id": "735aa019-f8b7-4ab4-bd46-87ca407a42fe",
   "metadata": {
    "execution": {
     "iopub.execute_input": "2023-08-31T00:05:38.218600Z",
     "iopub.status.busy": "2023-08-31T00:05:38.218190Z",
     "iopub.status.idle": "2023-08-31T00:05:38.225064Z",
     "shell.execute_reply": "2023-08-31T00:05:38.223868Z",
     "shell.execute_reply.started": "2023-08-31T00:05:38.218568Z"
    }
   },
   "source": [
    "$ \\;\\;\\;\\;\\;\\;\\;\\;\\;\\; = [\\frac{δ}{δy}(x-2y) - \\frac{δ}{δz}(x+y+z)]i  + [\\frac{δ}{δz}(x-2z) - \\frac{δ}{δx}(x-2y)]j + [\\frac{δ}{δx}(x+y+z) - \\frac{δ}{δy}(x-2z)]k  $"
   ]
  },
  {
   "cell_type": "markdown",
   "id": "1e2c7f55-81be-4637-81ff-0ddf100438ce",
   "metadata": {
    "execution": {
     "iopub.execute_input": "2023-08-31T00:23:00.905534Z",
     "iopub.status.busy": "2023-08-31T00:23:00.905172Z",
     "iopub.status.idle": "2023-08-31T00:23:00.911983Z",
     "shell.execute_reply": "2023-08-31T00:23:00.910737Z",
     "shell.execute_reply.started": "2023-08-31T00:23:00.905509Z"
    },
    "tags": []
   },
   "source": [
    "$ \\;\\;\\;\\;\\;\\;\\;\\;\\;\\; = [2 - 1]i  + [-2 - 1)]j + [1 - 0]k \\; = \\; i - 3j + k $"
   ]
  },
  {
   "cell_type": "markdown",
   "id": "3ee30b63-d69a-4134-af86-88823fe69ea2",
   "metadata": {
    "execution": {
     "iopub.execute_input": "2023-08-31T00:30:02.601837Z",
     "iopub.status.busy": "2023-08-31T00:30:02.601486Z",
     "iopub.status.idle": "2023-08-31T00:30:02.607321Z",
     "shell.execute_reply": "2023-08-31T00:30:02.606225Z",
     "shell.execute_reply.started": "2023-08-31T00:30:02.601812Z"
    }
   },
   "source": [
    "(b) </br>\n",
    "\n",
    "$ div \\; F = \\frac{δP}{δx} + \\frac{δQ}{δy} + \\frac{δR}{δz} $"
   ]
  },
  {
   "cell_type": "markdown",
   "id": "1b2663ea-301f-4bb8-a3d0-64ba4c4104f0",
   "metadata": {
    "execution": {
     "iopub.execute_input": "2023-08-31T00:30:57.418973Z",
     "iopub.status.busy": "2023-08-31T00:30:57.418618Z",
     "iopub.status.idle": "2023-08-31T00:30:57.424168Z",
     "shell.execute_reply": "2023-08-31T00:30:57.423058Z",
     "shell.execute_reply.started": "2023-08-31T00:30:57.418948Z"
    }
   },
   "source": [
    "\n",
    "$div \\; F =  1 + 1 + 0 = 2 $"
   ]
  },
  {
   "cell_type": "markdown",
   "id": "d4bada01-6ba3-4ba6-ac2b-22ccecf0fc9d",
   "metadata": {},
   "source": [
    "__Exercise 13__  Determine whether or not the vector field is conservative.  If it is conservative, find a function f such that F∇ = f."
   ]
  },
  {
   "cell_type": "markdown",
   "id": "a8b7ce89-0c50-4a08-b90d-74c9cc9198bb",
   "metadata": {
    "execution": {
     "iopub.execute_input": "2023-08-31T00:38:04.171903Z",
     "iopub.status.busy": "2023-08-31T00:38:04.171518Z",
     "iopub.status.idle": "2023-08-31T00:38:04.177120Z",
     "shell.execute_reply": "2023-08-31T00:38:04.176081Z",
     "shell.execute_reply.started": "2023-08-31T00:38:04.171877Z"
    },
    "tags": []
   },
   "source": [
    "$13.\\;\\;\\;\\;\\;\\;  F(x,y,z) = yzi + xzj + xyk$ </br>\n",
    "\n"
   ]
  },
  {
   "cell_type": "markdown",
   "id": "419c254e-5c38-4893-94f1-e41a80ae188e",
   "metadata": {
    "execution": {
     "iopub.execute_input": "2023-08-31T00:47:20.148544Z",
     "iopub.status.busy": "2023-08-31T00:47:20.148063Z",
     "iopub.status.idle": "2023-08-31T00:47:20.155064Z",
     "shell.execute_reply": "2023-08-31T00:47:20.153872Z",
     "shell.execute_reply.started": "2023-08-31T00:47:20.148503Z"
    }
   },
   "source": [
    "If F is conservative, then curl F = 0\n",
    "\n",
    "$∇ X F \\; = \\;\\; $$\\begin{bmatrix} i & j & k \\\\ δ/δx & δ/δy & δ/δz \\\\ yz & xz & xy \\end{bmatrix}$$ $ </br>\n",
    "</br>"
   ]
  },
  {
   "cell_type": "markdown",
   "id": "c32b3c24-890e-46bf-b7b6-76f2299f40a6",
   "metadata": {
    "execution": {
     "iopub.execute_input": "2023-08-31T00:48:51.784993Z",
     "iopub.status.busy": "2023-08-31T00:48:51.784597Z",
     "iopub.status.idle": "2023-08-31T00:48:51.791044Z",
     "shell.execute_reply": "2023-08-31T00:48:51.789967Z",
     "shell.execute_reply.started": "2023-08-31T00:48:51.784964Z"
    }
   },
   "source": [
    "$ \\;\\;\\;\\;\\;\\;\\;\\;\\;\\; = [\\frac{δ}{δy}(xy) - \\frac{δ}{δz}(xz)]i  + [\\frac{δ}{δz}(yz) - \\frac{δ}{δx}(xy)]j + [\\frac{δ}{δx}(xz) - \\frac{δ}{δy}(yz)]k  $"
   ]
  },
  {
   "cell_type": "markdown",
   "id": "1ff01f62-e824-45db-ae21-5d5682509c93",
   "metadata": {
    "execution": {
     "iopub.execute_input": "2023-08-31T00:52:02.383216Z",
     "iopub.status.busy": "2023-08-31T00:52:02.382831Z",
     "iopub.status.idle": "2023-08-31T00:52:02.389242Z",
     "shell.execute_reply": "2023-08-31T00:52:02.388029Z",
     "shell.execute_reply.started": "2023-08-31T00:52:02.383189Z"
    }
   },
   "source": [
    "$ \\;\\;\\;\\;\\;\\;\\;\\;\\;\\; = [x - x]i  + [y - y)]j + [z - z]k \\; = \\; 0 = 0 + 0 = 0$"
   ]
  },
  {
   "cell_type": "markdown",
   "id": "4fc250d2-80f6-48e7-89c4-1f2273cba5f2",
   "metadata": {},
   "source": [
    "find function f such that F∇ = f\n",
    "\n",
    "$f_{x}(x,y,z) = yz$</br>\n",
    "$f_{y}(x,y,z) = xz$</br>\n",
    "$f_{z}(x,y,z) = xy$</br>\n",
    "\n",
    "integrating f_{x}(x,y,z) with respect to x, we obtain\n",
    "\n",
    "$ f(x,y,z) =  xyz + g(y,z) $\n",
    "\n",
    "differentiating with respect to y, we get \n",
    "\n",
    "$f_{y}(x,y,z) = xz + g_{y}(y,z)$\n",
    "\n",
    "comparison with $f_{y}(x,y,z) = xz$, gives "
   ]
  },
  {
   "cell_type": "markdown",
   "id": "1343e08d-47ed-4a96-a339-000fa293da71",
   "metadata": {
    "execution": {
     "iopub.execute_input": "2023-08-31T01:16:23.668968Z",
     "iopub.status.busy": "2023-08-31T01:16:23.668597Z",
     "iopub.status.idle": "2023-08-31T01:16:23.674328Z",
     "shell.execute_reply": "2023-08-31T01:16:23.673190Z",
     "shell.execute_reply.started": "2023-08-31T01:16:23.668940Z"
    },
    "tags": []
   },
   "source": [
    "$g_{y}(y,z) = 0$, thus g(y,z) = h(z) and </br>\n",
    "</br>\n",
    "$ f_{z}(x,y,z) = xy + h'(z)$\n",
    "\n"
   ]
  },
  {
   "cell_type": "markdown",
   "id": "aec1a7f9-cd80-42e3-944d-e215c55a9864",
   "metadata": {
    "execution": {
     "iopub.execute_input": "2023-08-31T01:23:55.861028Z",
     "iopub.status.busy": "2023-08-31T01:23:55.860668Z",
     "iopub.status.idle": "2023-08-31T01:23:55.866320Z",
     "shell.execute_reply": "2023-08-31T01:23:55.865184Z",
     "shell.execute_reply.started": "2023-08-31T01:23:55.860999Z"
    }
   },
   "source": [
    "Then $h'(z) = 0$ </br>\n",
    "</br>\n",
    "∴ $f(x,y,z) = xyz + K"
   ]
  },
  {
   "cell_type": "code",
   "execution_count": null,
   "id": "a3b5ffb1-577f-41c5-b395-0f565ca4d693",
   "metadata": {},
   "outputs": [],
   "source": [
    "17.6 Ex: 10\n"
   ]
  },
  {
   "cell_type": "code",
   "execution_count": 18,
   "id": "e1d15c6b-d81c-4167-98f3-2bd2ebb047e6",
   "metadata": {
    "execution": {
     "iopub.execute_input": "2023-08-30T23:58:49.890214Z",
     "iopub.status.busy": "2023-08-30T23:58:49.889779Z",
     "iopub.status.idle": "2023-08-30T23:58:50.066978Z",
     "shell.execute_reply": "2023-08-30T23:58:50.066322Z",
     "shell.execute_reply.started": "2023-08-30T23:58:49.890185Z"
    },
    "tags": []
   },
   "outputs": [
    {
     "data": {
      "image/png": "[encoded data removed]",
      "text/plain": [
       "<Figure size 640x480 with 1 Axes>"
      ]
     },
     "metadata": {},
     "output_type": "display_data"
    }
   ],
   "source": [
    "ax = plt.axes(projection='3d')\n",
    "\n",
    "# Data for a three-dimensional line\n",
    "zline = np.linspace(0, 15, 1000)\n",
    "xline = np.sin(zline)\n",
    "yline = np.cos(zline)\n",
    "ax.plot3D(xline, yline, zline, 'gray')\n",
    "\n",
    "# Data for three-dimensional scattered points\n",
    "zdata = 15 * np.random.random(100)\n",
    "xdata = np.sin(zdata) + 0.1 * np.random.randn(100)\n",
    "ydata = np.cos(zdata) + 0.1 * np.random.randn(100)\n",
    "ax.scatter3D(xdata, ydata, zdata, c=zdata, cmap='Greens');"
   ]
  },
  {
   "cell_type": "code",
   "execution_count": null,
   "id": "930178f9-9baf-4d00-9a46-8a31fcdfaf48",
   "metadata": {},
   "outputs": [],
   "source": []
  }
 ],
 "metadata": {
  "kernelspec": {
   "display_name": "saturn (Python 3)",
   "language": "python",
   "name": "python3"
  },
  "language_info": {
   "codemirror_mode": {
    "name": "ipython",
    "version": 3
   },
   "file_extension": ".py",
   "mimetype": "text/x-python",
   "name": "python",
   "nbconvert_exporter": "python",
   "pygments_lexer": "ipython3",
   "version": "3.9.15"
  }
 },
 "nbformat": 4,
 "nbformat_minor": 5
}
