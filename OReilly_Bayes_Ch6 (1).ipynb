{
 "cells": [
  {
   "cell_type": "code",
   "execution_count": 1,
   "id": "8b290c95-2f92-4646-be4a-bea9ff4b03b6",
   "metadata": {
    "execution": {
     "iopub.execute_input": "2023-08-24T01:32:02.504047Z",
     "iopub.status.busy": "2023-08-24T01:32:02.503764Z",
     "iopub.status.idle": "2023-08-24T01:32:02.508768Z",
     "shell.execute_reply": "2023-08-24T01:32:02.507914Z",
     "shell.execute_reply.started": "2023-08-24T01:32:02.504015Z"
    }
   },
   "outputs": [],
   "source": [
    "# O'Reilly Bayes \n",
    "# Chapter  - Estimating Counts"
   ]
  },
  {
   "cell_type": "code",
   "execution_count": 2,
   "id": "0e36b2be-bd09-495b-9a93-c9d23a7d0966",
   "metadata": {
    "execution": {
     "iopub.execute_input": "2023-08-24T01:32:02.511678Z",
     "iopub.status.busy": "2023-08-24T01:32:02.511087Z",
     "iopub.status.idle": "2023-08-24T01:32:03.717692Z",
     "shell.execute_reply": "2023-08-24T01:32:03.716981Z",
     "shell.execute_reply.started": "2023-08-24T01:32:02.511647Z"
    },
    "tags": []
   },
   "outputs": [],
   "source": [
    "import pandas as pd\n",
    "import matplotlib.pyplot as plt\n",
    "import numpy as np\n",
    "from scipy.stats import binom"
   ]
  },
  {
   "cell_type": "code",
   "execution_count": 3,
   "id": "be1e2d8e-f957-4a43-aa3c-21bcc8d758b7",
   "metadata": {
    "execution": {
     "iopub.execute_input": "2023-08-24T01:32:03.719472Z",
     "iopub.status.busy": "2023-08-24T01:32:03.719024Z",
     "iopub.status.idle": "2023-08-24T01:32:03.723191Z",
     "shell.execute_reply": "2023-08-24T01:32:03.722465Z",
     "shell.execute_reply.started": "2023-08-24T01:32:03.719440Z"
    }
   },
   "outputs": [],
   "source": [
    "def odds(p):\n",
    "    return p / (1-p)"
   ]
  },
  {
   "cell_type": "code",
   "execution_count": 4,
   "id": "2d49fbba-4061-4f7c-bca5-2a9146a40085",
   "metadata": {
    "execution": {
     "iopub.execute_input": "2023-08-24T01:32:03.724986Z",
     "iopub.status.busy": "2023-08-24T01:32:03.724593Z",
     "iopub.status.idle": "2023-08-24T01:32:03.733731Z",
     "shell.execute_reply": "2023-08-24T01:32:03.732934Z",
     "shell.execute_reply.started": "2023-08-24T01:32:03.724957Z"
    },
    "tags": []
   },
   "outputs": [
    {
     "data": {
      "text/plain": [
       "3.0"
      ]
     },
     "execution_count": 4,
     "metadata": {},
     "output_type": "execute_result"
    }
   ],
   "source": [
    "odds(0.75)"
   ]
  },
  {
   "cell_type": "code",
   "execution_count": 5,
   "id": "8c8afbc6-03e4-4323-ac90-42783ee8d7ec",
   "metadata": {
    "execution": {
     "iopub.execute_input": "2023-08-24T01:32:03.735465Z",
     "iopub.status.busy": "2023-08-24T01:32:03.735161Z",
     "iopub.status.idle": "2023-08-24T01:32:03.739165Z",
     "shell.execute_reply": "2023-08-24T01:32:03.738418Z",
     "shell.execute_reply.started": "2023-08-24T01:32:03.735436Z"
    },
    "tags": []
   },
   "outputs": [],
   "source": [
    "# Given the odds in favor, in decimal form, you can convert to probability like this:\n",
    "def prob(o):\n",
    "    return o / (o+1)"
   ]
  },
  {
   "cell_type": "code",
   "execution_count": 6,
   "id": "cccce97d-3f65-47e3-935f-43bb6ee90cb3",
   "metadata": {
    "execution": {
     "iopub.execute_input": "2023-08-24T01:32:03.741167Z",
     "iopub.status.busy": "2023-08-24T01:32:03.740591Z",
     "iopub.status.idle": "2023-08-24T01:32:03.746006Z",
     "shell.execute_reply": "2023-08-24T01:32:03.745204Z",
     "shell.execute_reply.started": "2023-08-24T01:32:03.741138Z"
    }
   },
   "outputs": [
    {
     "data": {
      "text/plain": [
       "0.6"
      ]
     },
     "execution_count": 6,
     "metadata": {},
     "output_type": "execute_result"
    }
   ],
   "source": [
    "# If the odds are 3/2, the corresponding probability is 3/5:\n",
    "prob(3/2)"
   ]
  },
  {
   "cell_type": "code",
   "execution_count": 7,
   "id": "8a9d81cd-c1b0-4b1e-97cf-0bec68e32813",
   "metadata": {
    "execution": {
     "iopub.execute_input": "2023-08-24T01:32:03.749733Z",
     "iopub.status.busy": "2023-08-24T01:32:03.749442Z",
     "iopub.status.idle": "2023-08-24T01:32:03.756420Z",
     "shell.execute_reply": "2023-08-24T01:32:03.755630Z",
     "shell.execute_reply.started": "2023-08-24T01:32:03.749705Z"
    },
    "tags": []
   },
   "outputs": [
    {
     "data": {
      "text/plain": [
       "1.5"
      ]
     },
     "execution_count": 7,
     "metadata": {},
     "output_type": "execute_result"
    }
   ],
   "source": [
    "# Bayes Rule\n",
    "# So far we have worked with Bayes's theorem in the \"probability form\":\n",
    "\n",
    "# P(H|D) = (P(H)P(D|H)) \n",
    "#             (P(D))\n",
    "\n",
    "# Writing odds(A) for odds in favor of A, we can express Bayes's theorem in \"odds form\"\n",
    "# odds (A|D) = odds(A) P(D|A)\n",
    "#                      P(D|B)\n",
    "    \n",
    "# This is Bayes's rule, which says that the posterior odds are the prior odds times the likelihood ratio.  Bayes's rule is\n",
    "# convenient for computing a Bayesian update on paper or in your head.  Let's go back to the cookie problem:\n",
    "\n",
    "# Suppose there are two bowls of cookies.  Bowl 1 contains 30 vanilla cookies and 10 chocolate cookies.  Bowl 2 contaings 20 of \n",
    "# each.  Now suppose you choose one of the bowls at random and, without looking, select a cookie at random.  The cookie is \n",
    "# vanilla. What is the probability that it came from Bowl 1?\n",
    "\n",
    "# The prior probability is 50%, so the prior odds are 1. The likelihood ratio is 3/4, 1/2, or 3/2.  So the posterior odds are \n",
    "# 3/2,which corresponds to probability 3/5.\n",
    "\n",
    "prior_odds = 1\n",
    "likelihood_ratio = (3/4)/(1/2)\n",
    "post_odds = prior_odds * likelihood_ratio\n",
    "post_odds\n",
    "\n",
    "# my least favorite peopel are people who say \"this doesn't follow the normal process\" so we will just ignore it and treat it\n",
    "# unsolvable.  I need the minds that want to solve the problems that no one has ever solved before. Not those obsessed with \n",
    "# winning, but those obsessed with solving and pushing frontiers."
   ]
  },
  {
   "cell_type": "code",
   "execution_count": 8,
   "id": "bd4ba24c-0bfd-4172-b1d9-2c18b5aefd02",
   "metadata": {
    "execution": {
     "iopub.execute_input": "2023-08-24T01:32:03.758076Z",
     "iopub.status.busy": "2023-08-24T01:32:03.757790Z",
     "iopub.status.idle": "2023-08-24T01:32:03.763005Z",
     "shell.execute_reply": "2023-08-24T01:32:03.762193Z",
     "shell.execute_reply.started": "2023-08-24T01:32:03.758049Z"
    }
   },
   "outputs": [
    {
     "data": {
      "text/plain": [
       "0.6"
      ]
     },
     "execution_count": 8,
     "metadata": {},
     "output_type": "execute_result"
    }
   ],
   "source": [
    "post_prob = prob(post_odds)\n",
    "post_prob"
   ]
  },
  {
   "cell_type": "code",
   "execution_count": 9,
   "id": "93667e50-68a1-49ec-b48d-5901d6f98f04",
   "metadata": {
    "execution": {
     "iopub.execute_input": "2023-08-24T01:32:03.764691Z",
     "iopub.status.busy": "2023-08-24T01:32:03.764381Z",
     "iopub.status.idle": "2023-08-24T01:32:03.769817Z",
     "shell.execute_reply": "2023-08-24T01:32:03.768948Z",
     "shell.execute_reply.started": "2023-08-24T01:32:03.764662Z"
    }
   },
   "outputs": [
    {
     "data": {
      "text/plain": [
       "0.75"
      ]
     },
     "execution_count": 9,
     "metadata": {},
     "output_type": "execute_result"
    }
   ],
   "source": [
    "#If we draw another cookie and the cookie is chocolate, we can do another update:\n",
    "likelihood_ratio = (1/4) / (1/2)\n",
    "post_odds *= likelihood_ratio\n",
    "post_odds"
   ]
  },
  {
   "cell_type": "code",
   "execution_count": 10,
   "id": "bcaef9d6-ee8d-4298-9343-e0f213f9582b",
   "metadata": {
    "execution": {
     "iopub.execute_input": "2023-08-24T01:32:03.771506Z",
     "iopub.status.busy": "2023-08-24T01:32:03.771211Z",
     "iopub.status.idle": "2023-08-24T01:32:03.776465Z",
     "shell.execute_reply": "2023-08-24T01:32:03.775738Z",
     "shell.execute_reply.started": "2023-08-24T01:32:03.771478Z"
    }
   },
   "outputs": [
    {
     "data": {
      "text/plain": [
       "0.42857142857142855"
      ]
     },
     "execution_count": 10,
     "metadata": {},
     "output_type": "execute_result"
    }
   ],
   "source": [
    "# and convert back to probability\n",
    "post_prob = prob(post_odds)\n",
    "post_prob"
   ]
  },
  {
   "cell_type": "code",
   "execution_count": 11,
   "id": "bc4755f7-c518-4cbf-996e-650c21148655",
   "metadata": {
    "execution": {
     "iopub.execute_input": "2023-08-24T01:32:03.778143Z",
     "iopub.status.busy": "2023-08-24T01:32:03.777855Z",
     "iopub.status.idle": "2023-08-24T01:32:03.786316Z",
     "shell.execute_reply": "2023-08-24T01:32:03.785577Z",
     "shell.execute_reply.started": "2023-08-24T01:32:03.778115Z"
    },
    "tags": []
   },
   "outputs": [
    {
     "data": {
      "text/plain": [
       "0.8333333333333334"
      ]
     },
     "execution_count": 11,
     "metadata": {},
     "output_type": "execute_result"
    }
   ],
   "source": [
    "# Oliver's Blood\n",
    "# I'll use Bayes' rule to solve another problem from MacKay's Information Theory, Inference, and Learning Algorithms\n",
    "# \n",
    "# Two people have left traces of their own blood at the scene of a crime.  A suspect, Oliver, is \n",
    "# tested and found to have type 'O' blood. The blood groups of the two traces are found to have type 'O', \n",
    "# (frequency 60% for pop) and of type 'AB' (a rare type with frequency 1%).  Do these data [ the traces found at the scene]\n",
    "# give evidence in favor of the proposition that Oliver was one of the people [who left blood at the scene]?\n",
    "\n",
    "# To answer this question, we need to think about what it means for data to give evidence in favor (or against) a hypothesis.\n",
    "# Intuitively, we might say that data favor a hypothesis if the hypothesis is more likely in light of the data than it was before.\n",
    "# \n",
    "# In the Cookie Problem, the prior odds are 1, which corresponds to probability 50%.  The posterior odds are 3/2, or probability\n",
    "# 60%.  So the vanilla cookie is evidence in favor of Bowl 1.\n",
    "# Using Bayes Rule, we get Bayes factor\n",
    "\n",
    "# odds(A|D)/odds(A) = P(D|A) / P(D|B)\n",
    "# The term on the left is the ratio of posterior and prior odds.  The term on the right is the likelihood ratio, also called\n",
    "# the Bayes factor.\n",
    "\n",
    "# If the Bayes foctor is greater than 1, that means that the data were less likely under A than under B. And that means the odds\n",
    "# are greater, in light of the data, than they were before.\n",
    "\n",
    "# If the Bayes factor is less than 1, that means that the data were less likely under A than under B, so the odds in favor of\n",
    "# A go down.\n",
    "\n",
    "# If 1, equally likely\n",
    "\n",
    "# Oliver's problem\n",
    "# If Oliver is one of the people who left blood at the scene, he accounts for the 'O' sample; in that case, the probability of\n",
    "# the data is the probability that a random member of the population has type 'AB' blood, which is 1%.\n",
    "\n",
    "# If Oliver did not leave blood at the scene, we have two samples to account for.  If we choose two random people from the\n",
    "# population, what is the chance of finding one with type 'O' and one with type 'AB'? Well, there are two ways it might happen:\n",
    "\n",
    "# The first person might have 'O' and the second 'AB'\n",
    "# or the first has 'AB' and the second 'O'\n",
    "\n",
    "# The probability of either combination is (0.6)(0.01) which is 0.6%, so the total probability is twice that, or 1.2%.  So the\n",
    "# data are a little more likely if Oliver is not one of the people who left blood at the scene.\n",
    "\n",
    "# We can use these probabilities to computer the likelihood ratio\n",
    "\n",
    "like1 = 0.01\n",
    "like2 = 2 * 0.6 * 0.01\n",
    "\n",
    "likelihood_ratio = like1 / like2\n",
    "likelihood_ratio"
   ]
  },
  {
   "cell_type": "code",
   "execution_count": 12,
   "id": "f67e6c9d-8db8-44dd-9912-a80ccdd7661c",
   "metadata": {
    "execution": {
     "iopub.execute_input": "2023-08-24T01:32:03.787958Z",
     "iopub.status.busy": "2023-08-24T01:32:03.787629Z",
     "iopub.status.idle": "2023-08-24T01:32:03.793722Z",
     "shell.execute_reply": "2023-08-24T01:32:03.792697Z",
     "shell.execute_reply.started": "2023-08-24T01:32:03.787929Z"
    }
   },
   "outputs": [
    {
     "data": {
      "text/plain": [
       "0.45454545454545453"
      ]
     },
     "execution_count": 12,
     "metadata": {},
     "output_type": "execute_result"
    }
   ],
   "source": [
    "# Since the likelihood ratio is less than 1, the blood tests are evidence against the hypothesis that Oliver left blood at\n",
    "# the scene.  But it is weak evidence.  For example, if the prior odds were 1 (a 50% probability), the posterior odds would be \n",
    "# 0.83, which corresponds to a probability of 45%:\n",
    "\n",
    "post_odds = 1 * like1 / like2\n",
    "prob(post_odds)"
   ]
  },
  {
   "cell_type": "code",
   "execution_count": 13,
   "id": "fbd58317-44a1-450f-92a4-d52a6631f80e",
   "metadata": {
    "execution": {
     "iopub.execute_input": "2023-08-24T01:32:03.795309Z",
     "iopub.status.busy": "2023-08-24T01:32:03.795020Z",
     "iopub.status.idle": "2023-08-24T01:32:03.799007Z",
     "shell.execute_reply": "2023-08-24T01:32:03.798220Z",
     "shell.execute_reply.started": "2023-08-24T01:32:03.795282Z"
    }
   },
   "outputs": [],
   "source": [
    "# So the evidence doesn't \"move the needle\" very much.\n",
    "\n",
    "# This example is a little contrived, but it demonstrates the counterintuitive result that data consistent with a hypothesis\n",
    "# are not necessarily in favor of a hypothesis.\n",
    "\n",
    "# If this result still bothers you, this way of thinking might help: the data consist of a common event, type 'O' blood, and a \n",
    "# rare event type 'AB' blood.  If Oliver accounts for the common event, that leaves the rare event unexplained.  If the Oliver \n",
    "# doesn't acount for the 'O' blood, we have two chances to find someone in the population with 'AB' blood.  \n",
    "# And that factor of two makes a difference."
   ]
  },
  {
   "cell_type": "code",
   "execution_count": 14,
   "id": "09675998-e6fb-43df-af23-16f9aae7256b",
   "metadata": {
    "execution": {
     "iopub.execute_input": "2023-08-24T01:32:03.801020Z",
     "iopub.status.busy": "2023-08-24T01:32:03.800341Z",
     "iopub.status.idle": "2023-08-24T01:32:03.808770Z",
     "shell.execute_reply": "2023-08-24T01:32:03.807811Z",
     "shell.execute_reply.started": "2023-08-24T01:32:03.800990Z"
    },
    "tags": []
   },
   "outputs": [],
   "source": [
    "#Addends\n",
    "# The second half of the chapter is about distributions of sums and results of other operations.  We'll start with a forward \n",
    "# problem, where we are given the inputs and compute the distribution of the output.  Then we will work on the inverse problems\n",
    "# where we are given the outputs and we compute the distribution of the inputs.\n",
    "\n",
    "# As a first example, suppose you roll two dice and add them up.  What is the distribution of the sum?  I'll use the following \n",
    "# function to create a Pmf that represents the possible outcomes of a die:\n",
    "\n",
    "import numpy as np\n",
    "from empiricaldist import Pmf\n",
    "\n",
    "def make_die(sides):\n",
    "    outcomes = np.arange(1, sides+1)\n",
    "    die = Pmf(1/sides, outcomes)\n",
    "    return die\n",
    "\n",
    "die = make_die(6)"
   ]
  },
  {
   "cell_type": "code",
   "execution_count": 15,
   "id": "e8a1ff02-2fac-48d3-9a16-acd7a961a78c",
   "metadata": {
    "execution": {
     "iopub.execute_input": "2023-08-24T01:32:03.810493Z",
     "iopub.status.busy": "2023-08-24T01:32:03.809960Z",
     "iopub.status.idle": "2023-08-24T01:32:03.816834Z",
     "shell.execute_reply": "2023-08-24T01:32:03.815926Z",
     "shell.execute_reply.started": "2023-08-24T01:32:03.810464Z"
    },
    "tags": []
   },
   "outputs": [
    {
     "data": {
      "text/plain": [
       "<bound method Series.info of 1    0.166667\n",
       "2    0.166667\n",
       "3    0.166667\n",
       "4    0.166667\n",
       "5    0.166667\n",
       "6    0.166667\n",
       "Name: , dtype: float64>"
      ]
     },
     "execution_count": 15,
     "metadata": {},
     "output_type": "execute_result"
    }
   ],
   "source": [
    "die.info"
   ]
  },
  {
   "cell_type": "code",
   "execution_count": 16,
   "id": "8cd73494-bc93-4aae-82e5-3c32577d6822",
   "metadata": {
    "execution": {
     "iopub.execute_input": "2023-08-24T01:32:03.818586Z",
     "iopub.status.busy": "2023-08-24T01:32:03.818073Z",
     "iopub.status.idle": "2023-08-24T01:32:03.829209Z",
     "shell.execute_reply": "2023-08-24T01:32:03.828429Z",
     "shell.execute_reply.started": "2023-08-24T01:32:03.818556Z"
    },
    "tags": []
   },
   "outputs": [
    {
     "data": {
      "text/html": [
       "<div>\n",
       "<style scoped>\n",
       "    .dataframe tbody tr th:only-of-type {\n",
       "        vertical-align: middle;\n",
       "    }\n",
       "\n",
       "    .dataframe tbody tr th {\n",
       "        vertical-align: top;\n",
       "    }\n",
       "\n",
       "    .dataframe thead th {\n",
       "        text-align: right;\n",
       "    }\n",
       "</style>\n",
       "<table border=\"1\" class=\"dataframe\">\n",
       "  <thead>\n",
       "    <tr style=\"text-align: right;\">\n",
       "      <th></th>\n",
       "      <th>PMF</th>\n",
       "    </tr>\n",
       "  </thead>\n",
       "  <tbody>\n",
       "    <tr>\n",
       "      <th>1</th>\n",
       "      <td>0.166667</td>\n",
       "    </tr>\n",
       "    <tr>\n",
       "      <th>2</th>\n",
       "      <td>0.166667</td>\n",
       "    </tr>\n",
       "    <tr>\n",
       "      <th>3</th>\n",
       "      <td>0.166667</td>\n",
       "    </tr>\n",
       "    <tr>\n",
       "      <th>4</th>\n",
       "      <td>0.166667</td>\n",
       "    </tr>\n",
       "    <tr>\n",
       "      <th>5</th>\n",
       "      <td>0.166667</td>\n",
       "    </tr>\n",
       "    <tr>\n",
       "      <th>6</th>\n",
       "      <td>0.166667</td>\n",
       "    </tr>\n",
       "  </tbody>\n",
       "</table>\n",
       "</div>"
      ],
      "text/plain": [
       "        PMF\n",
       "1  0.166667\n",
       "2  0.166667\n",
       "3  0.166667\n",
       "4  0.166667\n",
       "5  0.166667\n",
       "6  0.166667"
      ]
     },
     "execution_count": 16,
     "metadata": {},
     "output_type": "execute_result"
    }
   ],
   "source": [
    "ser = pd.Series(die, name = 'PMF')\n",
    "pmf_df = ser.to_frame()\n",
    "pmf_df"
   ]
  },
  {
   "cell_type": "code",
   "execution_count": 17,
   "id": "7addc5cf-64c6-49f7-aafd-16c336f00618",
   "metadata": {
    "execution": {
     "iopub.execute_input": "2023-08-24T01:32:03.830958Z",
     "iopub.status.busy": "2023-08-24T01:32:03.830418Z",
     "iopub.status.idle": "2023-08-24T01:32:03.997986Z",
     "shell.execute_reply": "2023-08-24T01:32:03.997283Z",
     "shell.execute_reply.started": "2023-08-24T01:32:03.830928Z"
    },
    "tags": []
   },
   "outputs": [
    {
     "data": {
      "image/png": "[encoded data removed]",
      "text/plain": [
       "<Figure size 1000x500 with 1 Axes>"
      ]
     },
     "metadata": {},
     "output_type": "display_data"
    }
   ],
   "source": [
    "fig = plt.figure(figsize = (10, 5))\n",
    "pmf_df['PMF'].plot(kind='bar', color = '#FF007F')\n",
    "plt.xlabel(\"Outcome\")\n",
    "plt.ylabel(\"PMF\")\n",
    "plt.show()"
   ]
  },
  {
   "cell_type": "code",
   "execution_count": 18,
   "id": "7565cc88-8422-4052-9d7e-e5ec39de419b",
   "metadata": {
    "execution": {
     "iopub.execute_input": "2023-08-24T01:32:03.999527Z",
     "iopub.status.busy": "2023-08-24T01:32:03.999124Z",
     "iopub.status.idle": "2023-08-24T01:32:04.003953Z",
     "shell.execute_reply": "2023-08-24T01:32:04.003188Z",
     "shell.execute_reply.started": "2023-08-24T01:32:03.999495Z"
    }
   },
   "outputs": [],
   "source": [
    "# If we roll two dice and add them up, there are 11 possible outcomes, 2 through 12, but they are not equally \n",
    "# likely.  To computer the distribution of the sum, we have to enumerate the possible outcomes."
   ]
  },
  {
   "cell_type": "code",
   "execution_count": 19,
   "id": "1263d036-a7f1-4845-aa5d-09f613e6959c",
   "metadata": {
    "execution": {
     "iopub.execute_input": "2023-08-24T01:32:04.006010Z",
     "iopub.status.busy": "2023-08-24T01:32:04.005231Z",
     "iopub.status.idle": "2023-08-24T01:32:04.012151Z",
     "shell.execute_reply": "2023-08-24T01:32:04.011418Z",
     "shell.execute_reply.started": "2023-08-24T01:32:04.005979Z"
    }
   },
   "outputs": [],
   "source": [
    "# And that is how the this function works:\n",
    "\n",
    "def add_dist(pmf1, pmf2):\n",
    "    \"\"\" Compute the distribution of a sum.\"\"\"\n",
    "    res = Pmf()\n",
    "    for q1, p1 in pmf1.items():\n",
    "        for q2, p2 in pmf2.items():\n",
    "            q = q1 + q2\n",
    "            p = p1 * p2\n",
    "            res[q] = res(q0) + p\n",
    "        return res"
   ]
  },
  {
   "cell_type": "code",
   "execution_count": 20,
   "id": "3ce70904-7f8a-44e0-a6dc-3a76bfc1b646",
   "metadata": {
    "execution": {
     "iopub.execute_input": "2023-08-24T01:32:04.013863Z",
     "iopub.status.busy": "2023-08-24T01:32:04.013334Z",
     "iopub.status.idle": "2023-08-24T01:32:04.019937Z",
     "shell.execute_reply": "2023-08-24T01:32:04.019200Z",
     "shell.execute_reply.started": "2023-08-24T01:32:04.013833Z"
    },
    "tags": []
   },
   "outputs": [],
   "source": [
    "# The parameters are Pmf objects representing distributions.\n",
    "# The loops iterate through the quanitities and probabilities in the Pmf objects.  \n",
    "# Each time through the loop q gets the sum of a pair of quantities , and p gets the probability of the pair.\n",
    "# Because the same sum might appear more than once, we have to add up the total probability for each sum.\n",
    "\n",
    "# Notice a subtle element of this line\n",
    "# res[q] = res(q) + p\n",
    "# I use parantheses on the right side of the assignment, which returns 0 if q does not appear yet in res.  \n",
    "# I use brackets on the left side of the assignment to create or update an element in res; using parentheses on the\n",
    "# left side would not work.\n",
    "\n",
    "# Pmf provides add_dist, which does the same thing.  You can call it as a method like this:\n",
    "# twice = die.add_dist(die)\n",
    "\n",
    "#or as a function like this:\n",
    "    \n",
    "twice = Pmf.add_dist(die, die)   "
   ]
  },
  {
   "cell_type": "code",
   "execution_count": 21,
   "id": "12986914-88f9-409f-9735-7e4081bb4e13",
   "metadata": {
    "execution": {
     "iopub.execute_input": "2023-08-24T01:32:04.025951Z",
     "iopub.status.busy": "2023-08-24T01:32:04.025696Z",
     "iopub.status.idle": "2023-08-24T01:32:04.034886Z",
     "shell.execute_reply": "2023-08-24T01:32:04.034070Z",
     "shell.execute_reply.started": "2023-08-24T01:32:04.025931Z"
    },
    "tags": []
   },
   "outputs": [
    {
     "name": "stdout",
     "output_type": "stream",
     "text": [
      "<class 'empiricaldist.empiricaldist.Pmf'>\n",
      "Int64Index: 11 entries, 2 to 12\n",
      "Series name: \n",
      "Non-Null Count  Dtype  \n",
      "--------------  -----  \n",
      "11 non-null     float64\n",
      "dtypes: float64(1)\n",
      "memory usage: 176.0 bytes\n"
     ]
    }
   ],
   "source": [
    "twice.info()"
   ]
  },
  {
   "cell_type": "code",
   "execution_count": 22,
   "id": "360ab4f1-c447-4a4e-8320-8264a0cdfe67",
   "metadata": {
    "execution": {
     "iopub.execute_input": "2023-08-24T01:32:04.036550Z",
     "iopub.status.busy": "2023-08-24T01:32:04.036012Z",
     "iopub.status.idle": "2023-08-24T01:32:04.045185Z",
     "shell.execute_reply": "2023-08-24T01:32:04.044315Z",
     "shell.execute_reply.started": "2023-08-24T01:32:04.036521Z"
    },
    "tags": []
   },
   "outputs": [
    {
     "data": {
      "text/html": [
       "<div>\n",
       "<style scoped>\n",
       "    .dataframe tbody tr th:only-of-type {\n",
       "        vertical-align: middle;\n",
       "    }\n",
       "\n",
       "    .dataframe tbody tr th {\n",
       "        vertical-align: top;\n",
       "    }\n",
       "\n",
       "    .dataframe thead th {\n",
       "        text-align: right;\n",
       "    }\n",
       "</style>\n",
       "<table border=\"1\" class=\"dataframe\">\n",
       "  <thead>\n",
       "    <tr style=\"text-align: right;\">\n",
       "      <th></th>\n",
       "      <th>PMF</th>\n",
       "    </tr>\n",
       "  </thead>\n",
       "  <tbody>\n",
       "    <tr>\n",
       "      <th>2</th>\n",
       "      <td>0.027778</td>\n",
       "    </tr>\n",
       "    <tr>\n",
       "      <th>3</th>\n",
       "      <td>0.055556</td>\n",
       "    </tr>\n",
       "    <tr>\n",
       "      <th>4</th>\n",
       "      <td>0.083333</td>\n",
       "    </tr>\n",
       "    <tr>\n",
       "      <th>5</th>\n",
       "      <td>0.111111</td>\n",
       "    </tr>\n",
       "    <tr>\n",
       "      <th>6</th>\n",
       "      <td>0.138889</td>\n",
       "    </tr>\n",
       "    <tr>\n",
       "      <th>7</th>\n",
       "      <td>0.166667</td>\n",
       "    </tr>\n",
       "    <tr>\n",
       "      <th>8</th>\n",
       "      <td>0.138889</td>\n",
       "    </tr>\n",
       "    <tr>\n",
       "      <th>9</th>\n",
       "      <td>0.111111</td>\n",
       "    </tr>\n",
       "    <tr>\n",
       "      <th>10</th>\n",
       "      <td>0.083333</td>\n",
       "    </tr>\n",
       "    <tr>\n",
       "      <th>11</th>\n",
       "      <td>0.055556</td>\n",
       "    </tr>\n",
       "    <tr>\n",
       "      <th>12</th>\n",
       "      <td>0.027778</td>\n",
       "    </tr>\n",
       "  </tbody>\n",
       "</table>\n",
       "</div>"
      ],
      "text/plain": [
       "         PMF\n",
       "2   0.027778\n",
       "3   0.055556\n",
       "4   0.083333\n",
       "5   0.111111\n",
       "6   0.138889\n",
       "7   0.166667\n",
       "8   0.138889\n",
       "9   0.111111\n",
       "10  0.083333\n",
       "11  0.055556\n",
       "12  0.027778"
      ]
     },
     "execution_count": 22,
     "metadata": {},
     "output_type": "execute_result"
    }
   ],
   "source": [
    "twice_ser = pd.Series(twice, name = 'PMF')\n",
    "twice_df = twice_ser.to_frame()\n",
    "twice_df"
   ]
  },
  {
   "cell_type": "code",
   "execution_count": 23,
   "id": "0e536f20-4387-4b2b-b4cd-fa8d26d77af3",
   "metadata": {
    "execution": {
     "iopub.execute_input": "2023-08-24T01:32:04.046933Z",
     "iopub.status.busy": "2023-08-24T01:32:04.046570Z",
     "iopub.status.idle": "2023-08-24T01:32:04.190311Z",
     "shell.execute_reply": "2023-08-24T01:32:04.189481Z",
     "shell.execute_reply.started": "2023-08-24T01:32:04.046904Z"
    },
    "tags": []
   },
   "outputs": [
    {
     "data": {
      "image/png": "[encoded data removed]",
      "text/plain": [
       "<Figure size 1000x500 with 1 Axes>"
      ]
     },
     "metadata": {},
     "output_type": "display_data"
    }
   ],
   "source": [
    "fig = plt.figure(figsize = (10, 5))\n",
    "twice_df['PMF'].plot(kind='bar', color = '#FF007F')\n",
    "plt.xlabel(\"Outcome\")\n",
    "plt.ylabel(\"PMF\")\n",
    "plt.show()"
   ]
  },
  {
   "cell_type": "code",
   "execution_count": 24,
   "id": "5f09f61e-a152-4004-a919-c7a6916f3e23",
   "metadata": {
    "execution": {
     "iopub.execute_input": "2023-08-24T01:32:04.192014Z",
     "iopub.status.busy": "2023-08-24T01:32:04.191671Z",
     "iopub.status.idle": "2023-08-24T01:32:04.196596Z",
     "shell.execute_reply": "2023-08-24T01:32:04.195813Z",
     "shell.execute_reply.started": "2023-08-24T01:32:04.191982Z"
    }
   },
   "outputs": [],
   "source": [
    "# If we have a sequence of Pmf objects that represent dice, we can compute the ditribution sum like this:\n",
    "\n",
    "def add_dist_seq(seq):\n",
    "    \"\"\" Compute Pmf of the sum of values from seq.\"\"\"\n",
    "    total = seq[0]\n",
    "    for other in seq[1:]:\n",
    "        total = total.add_dist(other)\n",
    "    return total"
   ]
  },
  {
   "cell_type": "code",
   "execution_count": 25,
   "id": "fae94ff3-e903-46fd-9839-e300e5af09e7",
   "metadata": {
    "execution": {
     "iopub.execute_input": "2023-08-24T01:32:04.198426Z",
     "iopub.status.busy": "2023-08-24T01:32:04.198009Z",
     "iopub.status.idle": "2023-08-24T01:32:04.205036Z",
     "shell.execute_reply": "2023-08-24T01:32:04.204087Z",
     "shell.execute_reply.started": "2023-08-24T01:32:04.198303Z"
    },
    "tags": []
   },
   "outputs": [],
   "source": [
    "# As an example, we can make a list of three dice like this:\n",
    "\n",
    "dice = [die]*3\n",
    "\n",
    "# and we can compute the distribution of their sum like this:\n",
    "\n",
    "thrice = add_dist_seq(dice)"
   ]
  },
  {
   "cell_type": "code",
   "execution_count": 26,
   "id": "44dfb492-0775-491c-a542-0759120816b3",
   "metadata": {
    "execution": {
     "iopub.execute_input": "2023-08-24T01:32:04.206626Z",
     "iopub.status.busy": "2023-08-24T01:32:04.206326Z",
     "iopub.status.idle": "2023-08-24T01:32:04.433088Z",
     "shell.execute_reply": "2023-08-24T01:32:04.429361Z",
     "shell.execute_reply.started": "2023-08-24T01:32:04.206597Z"
    },
    "tags": []
   },
   "outputs": [
    {
     "data": {
      "image/png": "[encoded data removed]",
      "text/plain": [
       "<Figure size 640x480 with 1 Axes>"
      ]
     },
     "metadata": {},
     "output_type": "display_data"
    }
   ],
   "source": [
    "fig, ax = plt.subplots()\n",
    "ax.plot(pmf_df, color = \"black\", label='Once')\n",
    "ax.plot(twice_df, color = \"#FF007F\", label='Twice')\n",
    "ax.plot(thrice, color = \"gold\", label='Thrice')\n",
    "\n",
    "ax.set(xlabel='Population Size n', ylabel='PMF', title='Distributions of Sums')\n",
    "ax.legend()\n",
    "ax.grid()\n",
    "plt.show()"
   ]
  },
  {
   "cell_type": "code",
   "execution_count": 27,
   "id": "de0fd50d-b8d4-46bf-9522-a6f056feecf8",
   "metadata": {
    "execution": {
     "iopub.execute_input": "2023-08-24T01:32:04.434581Z",
     "iopub.status.busy": "2023-08-24T01:32:04.434262Z",
     "iopub.status.idle": "2023-08-24T01:32:04.443182Z",
     "shell.execute_reply": "2023-08-24T01:32:04.441528Z",
     "shell.execute_reply.started": "2023-08-24T01:32:04.434551Z"
    }
   },
   "outputs": [],
   "source": [
    "# As an aside, this example demonstrates the Central Limit Theorem, which says that the distribution of a sum \n",
    "# Converges on a bell shaped normal distribution."
   ]
  },
  {
   "cell_type": "code",
   "execution_count": 28,
   "id": "1183b172-1759-4872-a8ea-186d046b9932",
   "metadata": {
    "execution": {
     "iopub.execute_input": "2023-08-24T01:32:04.449546Z",
     "iopub.status.busy": "2023-08-24T01:32:04.448918Z",
     "iopub.status.idle": "2023-08-24T01:32:04.454367Z",
     "shell.execute_reply": "2023-08-24T01:32:04.453532Z",
     "shell.execute_reply.started": "2023-08-24T01:32:04.449523Z"
    }
   },
   "outputs": [],
   "source": [
    "# Gluten Sensitivity\n",
    "\n",
    "# In 2015, I read a paper that tested whether people diagnosed with gluten sensitivity (but not celiac) were able to distinguish between gluten \n",
    "# flour and non-gluten flour in a blind challenge.\n",
    "\n",
    "# Out of 35 subjects, 12 correctly identified the gluten flour based on resumption of symptoms while they were eating it.  Another 17 wrongly \n",
    "# wrongly identified the gluten-free flour based on their symptoms, and 6 were unable to distinguish.\n",
    "\n",
    "# The authors conclude, \"Double-blind gluten challenge induces symptom recurrence in just one-third of patients.\"\n",
    "\n",
    "# This conclusion seems odd to me, because if none of the patients were sensitive to gluten, we would expect some of them to identify the gluten\n",
    "# flour by chance.  So here is the question: based on this data, how many of the subjects are sensitive to gluten and how many are guessing?\n",
    "\n",
    "# We can use Bayes's Theorem to answer this question, but first we have to make some modeling decisions.  I'll assume:\n",
    "\n",
    "# - People who are sensitive to gluten have a 95% chance of correctly identifying gluten-flour under the challenge conditions, and\n",
    "# - People who are not sensitive have a 40% chance of identifying the gluten flour by chance (and a 60% chance of either choosing the other \n",
    "# flour or failing to distinguish).\n",
    "\n",
    "# These particular values are arbitrary, but the results are not sensitive to these choices.\n",
    "\n",
    "# I will solve the problem in two steps.  First, assuming that we know how many subjects are sensitive, I will compute the distribution of the data.\n",
    "# Then using the likelihood of the data, I will compute the posterior distribution of the number of sensitive patients.\n",
    "\n",
    "# The first is the forward problem; the second is the inverse problem."
   ]
  },
  {
   "cell_type": "code",
   "execution_count": 29,
   "id": "9547cb5a-c2b0-4379-8a97-bf838e866d25",
   "metadata": {
    "execution": {
     "iopub.execute_input": "2023-08-24T01:32:04.456229Z",
     "iopub.status.busy": "2023-08-24T01:32:04.455748Z",
     "iopub.status.idle": "2023-08-24T01:32:04.462106Z",
     "shell.execute_reply": "2023-08-24T01:32:04.461238Z",
     "shell.execute_reply.started": "2023-08-24T01:32:04.456200Z"
    },
    "tags": []
   },
   "outputs": [],
   "source": [
    "# The Forward Problem\n",
    "\n",
    "# Suppose we know that 10 of 35 subjects are sensitive to gluten. That means that 25 are not:\n",
    "\n",
    "n = 35\n",
    "num_sensitive = 10\n",
    "num_insensitive = n - num_sensitive\n",
    "\n",
    "# Each sensitive subject has a 95% chance of identifying the gluten flour, so the number of correct identifications follows a binomial distribution\n",
    "# I'll use make binomial, which we defined in \"The Binomial Distribution\" on page 44, to make a Pmf that represents the binomial distribution.\n",
    "\n",
    "from scipy.stats import binom\n",
    "\n",
    "def make_binomial(n, p):\n",
    "    \"\"\"Make a binomial distribution.\n",
    "    \n",
    "    n: number of trials\n",
    "    p: probability of success\n",
    "    \n",
    "    returns: Pmf representing the distribution of k\n",
    "    \"\"\"\n",
    "    ks = np.arange(n+1)\n",
    "    ps = binom.pmf(ks, n, p)\n",
    "    return Pmf(ps, ks)\n"
   ]
  },
  {
   "cell_type": "code",
   "execution_count": 30,
   "id": "09a4ec0e-c432-4ead-85cc-06f3d8014de7",
   "metadata": {
    "execution": {
     "iopub.execute_input": "2023-08-24T01:32:04.463935Z",
     "iopub.status.busy": "2023-08-24T01:32:04.463451Z",
     "iopub.status.idle": "2023-08-24T01:32:04.469621Z",
     "shell.execute_reply": "2023-08-24T01:32:04.469006Z",
     "shell.execute_reply.started": "2023-08-24T01:32:04.463904Z"
    }
   },
   "outputs": [],
   "source": [
    "dist_sensitive = make_binomial(num_sensitive, 0.95)\n",
    "dist_insensitive = make_binomial(num_insensitive, 0.40)"
   ]
  },
  {
   "cell_type": "code",
   "execution_count": 31,
   "id": "dd714416-9c11-421f-95b9-ba15a651d9cb",
   "metadata": {
    "execution": {
     "iopub.execute_input": "2023-08-24T01:32:04.471049Z",
     "iopub.status.busy": "2023-08-24T01:32:04.470750Z",
     "iopub.status.idle": "2023-08-24T01:32:04.477701Z",
     "shell.execute_reply": "2023-08-24T01:32:04.477043Z",
     "shell.execute_reply.started": "2023-08-24T01:32:04.471021Z"
    },
    "tags": []
   },
   "outputs": [],
   "source": [
    "# The results are the distributions for the number of correct identifications in each group.  Now we can use add_dist to compute the \n",
    "# distribution of the total number of correct identifications:\n",
    "\n",
    "dist_total = Pmf.add_dist(dist_sensitive, dist_insensitive)\n",
    "\n",
    "# Here are the results."
   ]
  },
  {
   "cell_type": "code",
   "execution_count": 32,
   "id": "e3f9b9c9-ec09-49e5-a3f5-b4861b06c239",
   "metadata": {
    "execution": {
     "iopub.execute_input": "2023-08-24T01:32:04.480384Z",
     "iopub.status.busy": "2023-08-24T01:32:04.479805Z",
     "iopub.status.idle": "2023-08-24T01:32:04.634569Z",
     "shell.execute_reply": "2023-08-24T01:32:04.633776Z",
     "shell.execute_reply.started": "2023-08-24T01:32:04.480363Z"
    },
    "tags": []
   },
   "outputs": [
    {
     "data": {
      "image/png": "[encoded data removed]",
      "text/plain": [
       "<Figure size 640x480 with 1 Axes>"
      ]
     },
     "metadata": {},
     "output_type": "display_data"
    }
   ],
   "source": [
    "fig, ax = plt.subplots()\n",
    "ax.plot(dist_sensitive, color = \"blue\", label='Once')\n",
    "ax.plot(dist_insensitive, color = \"#FF007F\", label='Twice')\n",
    "ax.plot(dist_total, color = \"black\", label='Thrice')\n",
    "\n",
    "ax.set(xlabel='Number of Correct Identifications', ylabel='PMF', title='Gluten Sensitivity')\n",
    "ax.legend()\n",
    "ax.grid()\n",
    "plt.show()"
   ]
  },
  {
   "cell_type": "code",
   "execution_count": 33,
   "id": "971ecbf3-c814-43b9-90fa-597ca68532ee",
   "metadata": {
    "execution": {
     "iopub.execute_input": "2023-08-24T01:32:04.636299Z",
     "iopub.status.busy": "2023-08-24T01:32:04.635964Z",
     "iopub.status.idle": "2023-08-24T01:32:04.640068Z",
     "shell.execute_reply": "2023-08-24T01:32:04.639240Z",
     "shell.execute_reply.started": "2023-08-24T01:32:04.636268Z"
    }
   },
   "outputs": [],
   "source": [
    "# We expect most of the sensitive subjects to identify the gluten flour correctly.  Of the 25 insensitive subjects, we expect about 10 to \n",
    "# identify the gluten flour by chance.  So we expect about 20 correct identifications in total.\n",
    "\n",
    "# This is the answer to the forward problem."
   ]
  },
  {
   "cell_type": "code",
   "execution_count": 34,
   "id": "fe536218-1ed3-4fbc-9ea5-c98ceb593f07",
   "metadata": {
    "execution": {
     "iopub.execute_input": "2023-08-24T01:32:04.641881Z",
     "iopub.status.busy": "2023-08-24T01:32:04.641511Z",
     "iopub.status.idle": "2023-08-24T01:32:04.697389Z",
     "shell.execute_reply": "2023-08-24T01:32:04.696656Z",
     "shell.execute_reply.started": "2023-08-24T01:32:04.641852Z"
    }
   },
   "outputs": [],
   "source": [
    "# The Inverse Problem\n",
    "# Now let's solve the Inverse Problem: given the data, we'll compute the posterior distribution of the number of sensitive subjects.\n",
    "\n",
    "# Here's how.  I'll loop through the possible values of num_sensitive and compute the distribution of the data for each:\n",
    "\n",
    "table = pd.DataFrame()\n",
    "for num_sensitive in range (0, n+1):\n",
    "    num_insensitive = n - num_sensitive\n",
    "    dist_sensitive = make_binomial(num_sensitive, 0.95)\n",
    "    dist_insensitive = make_binomial(num_insensitive, 0.4)\n",
    "    dist_total = Pmf.add_dist(dist_sensitive, dist_insensitive)\n",
    "    table[num_sensitive] = dist_total"
   ]
  },
  {
   "cell_type": "code",
   "execution_count": 35,
   "id": "de1e7337-df42-4785-9446-1a87365f56cf",
   "metadata": {
    "execution": {
     "iopub.execute_input": "2023-08-24T01:32:04.699005Z",
     "iopub.status.busy": "2023-08-24T01:32:04.698688Z",
     "iopub.status.idle": "2023-08-24T01:32:04.713342Z",
     "shell.execute_reply": "2023-08-24T01:32:04.712529Z",
     "shell.execute_reply.started": "2023-08-24T01:32:04.698975Z"
    }
   },
   "outputs": [
    {
     "name": "stdout",
     "output_type": "stream",
     "text": [
      "<class 'pandas.core.frame.DataFrame'>\n",
      "Int64Index: 36 entries, 0 to 35\n",
      "Data columns (total 36 columns):\n",
      " #   Column  Non-Null Count  Dtype  \n",
      "---  ------  --------------  -----  \n",
      " 0   0       36 non-null     float64\n",
      " 1   1       36 non-null     float64\n",
      " 2   2       36 non-null     float64\n",
      " 3   3       36 non-null     float64\n",
      " 4   4       36 non-null     float64\n",
      " 5   5       36 non-null     float64\n",
      " 6   6       36 non-null     float64\n",
      " 7   7       36 non-null     float64\n",
      " 8   8       36 non-null     float64\n",
      " 9   9       36 non-null     float64\n",
      " 10  10      36 non-null     float64\n",
      " 11  11      36 non-null     float64\n",
      " 12  12      36 non-null     float64\n",
      " 13  13      36 non-null     float64\n",
      " 14  14      36 non-null     float64\n",
      " 15  15      36 non-null     float64\n",
      " 16  16      36 non-null     float64\n",
      " 17  17      36 non-null     float64\n",
      " 18  18      36 non-null     float64\n",
      " 19  19      36 non-null     float64\n",
      " 20  20      36 non-null     float64\n",
      " 21  21      36 non-null     float64\n",
      " 22  22      36 non-null     float64\n",
      " 23  23      36 non-null     float64\n",
      " 24  24      36 non-null     float64\n",
      " 25  25      36 non-null     float64\n",
      " 26  26      36 non-null     float64\n",
      " 27  27      36 non-null     float64\n",
      " 28  28      36 non-null     float64\n",
      " 29  29      36 non-null     float64\n",
      " 30  30      36 non-null     float64\n",
      " 31  31      36 non-null     float64\n",
      " 32  32      36 non-null     float64\n",
      " 33  33      36 non-null     float64\n",
      " 34  34      36 non-null     float64\n",
      " 35  35      36 non-null     float64\n",
      "dtypes: float64(36)\n",
      "memory usage: 10.4 KB\n"
     ]
    }
   ],
   "source": [
    "table.info()"
   ]
  },
  {
   "cell_type": "code",
   "execution_count": 36,
   "id": "74c9d2c4-725d-4b56-a4b8-118c5dcea171",
   "metadata": {
    "execution": {
     "iopub.execute_input": "2023-08-24T01:32:04.715320Z",
     "iopub.status.busy": "2023-08-24T01:32:04.714932Z",
     "iopub.status.idle": "2023-08-24T01:32:04.718854Z",
     "shell.execute_reply": "2023-08-24T01:32:04.718109Z",
     "shell.execute_reply.started": "2023-08-24T01:32:04.715289Z"
    }
   },
   "outputs": [],
   "source": [
    "# The loop enumerates the possible values of num_sensitive.  For each value, it computes the distribution of the total number of correct \n",
    "# identifications, and stores the result as a column in a pandas DataFrame.\n",
    "\n",
    "# The following figure shows selected columns from the DataFrame, corresponding to different hypothetical values of num_sensitive:"
   ]
  },
  {
   "cell_type": "code",
   "execution_count": 37,
   "id": "96699e2b-1b56-43c1-9253-9a97e8bccf29",
   "metadata": {
    "execution": {
     "iopub.execute_input": "2023-08-24T01:32:04.720763Z",
     "iopub.status.busy": "2023-08-24T01:32:04.720274Z",
     "iopub.status.idle": "2023-08-24T01:32:04.726709Z",
     "shell.execute_reply": "2023-08-24T01:32:04.725976Z",
     "shell.execute_reply.started": "2023-08-24T01:32:04.720733Z"
    },
    "tags": []
   },
   "outputs": [
    {
     "name": "stdout",
     "output_type": "stream",
     "text": [
      "0     2.776395e-19\n",
      "1     5.737884e-17\n",
      "2     5.426465e-15\n",
      "3     3.109132e-13\n",
      "4     1.204494e-11\n",
      "5     3.335553e-10\n",
      "6     6.810800e-09\n",
      "7     1.043774e-07\n",
      "8     1.212985e-06\n",
      "9     1.076220e-05\n",
      "10    7.341192e-05\n",
      "11    3.889517e-04\n",
      "12    1.623937e-03\n",
      "13    5.431219e-03\n",
      "14    1.478408e-02\n",
      "15    3.322173e-02\n",
      "16    6.237373e-02\n",
      "17    9.881231e-02\n",
      "18    1.331244e-01\n",
      "19    1.534495e-01\n",
      "20    1.520028e-01\n",
      "21    1.297733e-01\n",
      "22    9.563599e-02\n",
      "23    6.084312e-02\n",
      "24    3.337219e-02\n",
      "25    1.573605e-02\n",
      "26    6.349370e-03\n",
      "27    2.177465e-03\n",
      "28    6.287067e-04\n",
      "29    1.508504e-04\n",
      "30    2.953587e-05\n",
      "31    4.598222e-06\n",
      "32    5.475492e-07\n",
      "33    4.684185e-08\n",
      "34    2.563422e-09\n",
      "35    6.741179e-11\n",
      "Name: 10, dtype: float64\n"
     ]
    }
   ],
   "source": [
    "print( table[10] )"
   ]
  },
  {
   "cell_type": "code",
   "execution_count": 38,
   "id": "bbb28389-0251-4eab-9b6b-626d636b9b82",
   "metadata": {
    "execution": {
     "iopub.execute_input": "2023-08-24T01:32:04.728306Z",
     "iopub.status.busy": "2023-08-24T01:32:04.728014Z",
     "iopub.status.idle": "2023-08-24T01:32:04.893414Z",
     "shell.execute_reply": "2023-08-24T01:32:04.892670Z",
     "shell.execute_reply.started": "2023-08-24T01:32:04.728277Z"
    },
    "tags": []
   },
   "outputs": [
    {
     "data": {
      "image/png": "[encoded data removed]",
      "text/plain": [
       "<Figure size 640x480 with 1 Axes>"
      ]
     },
     "metadata": {},
     "output_type": "display_data"
    }
   ],
   "source": [
    "fig, ax = plt.subplots()\n",
    "\n",
    "data0 = table[0]\n",
    "data10 = table[10]\n",
    "data20 = table[20]\n",
    "data30 = table[30]\n",
    "\n",
    "ax.plot(data0, color = \"blue\", label='num_sensitive = 0')\n",
    "ax.plot(data10, color = \"gold\", label='num_sensitive = 10')\n",
    "ax.plot(data20, color = \"#FF007F\", label='num_sensitive = 20')\n",
    "ax.plot(data30, color = \"black\", label='num_sensitive = 30')\n",
    "\n",
    "ax.set(xlabel='Number of Correct Identifications', ylabel='PMF', title='Gluten Sensitivity')\n",
    "ax.legend()\n",
    "ax.grid()\n",
    "plt.show()"
   ]
  },
  {
   "cell_type": "code",
   "execution_count": 39,
   "id": "61fb39e6-bef4-45c7-8571-d072f2307de5",
   "metadata": {
    "execution": {
     "iopub.execute_input": "2023-08-24T01:32:04.896618Z",
     "iopub.status.busy": "2023-08-24T01:32:04.896333Z",
     "iopub.status.idle": "2023-08-24T01:32:04.902807Z",
     "shell.execute_reply": "2023-08-24T01:32:04.902225Z",
     "shell.execute_reply.started": "2023-08-24T01:32:04.896595Z"
    },
    "tags": []
   },
   "outputs": [],
   "source": [
    "#Now we can use this table to compute the likelihood of the data:\n",
    "    \n",
    "likelihood1 = table.loc[12]"
   ]
  },
  {
   "cell_type": "code",
   "execution_count": 40,
   "id": "f919bc17-f40a-4ea9-8039-ee9c7d7fcd98",
   "metadata": {
    "execution": {
     "iopub.execute_input": "2023-08-24T01:32:04.904317Z",
     "iopub.status.busy": "2023-08-24T01:32:04.904016Z",
     "iopub.status.idle": "2023-08-24T01:32:04.912291Z",
     "shell.execute_reply": "2023-08-24T01:32:04.911555Z",
     "shell.execute_reply.started": "2023-08-24T01:32:04.904287Z"
    },
    "tags": []
   },
   "outputs": [
    {
     "data": {
      "text/plain": [
       "0.4754741648615132"
      ]
     },
     "execution_count": 40,
     "metadata": {},
     "output_type": "execute_result"
    }
   ],
   "source": [
    "# loc selects a row from the DataFrame.  The row with index 12 contains the probability of 12 correct identifications for each hypothetical value of \n",
    "# num_sensitive:\n",
    "    \n",
    "hypos = np.arange(n+1)\n",
    "prior = Pmf(1, hypos)\n",
    "\n",
    "# And here's the update:\n",
    "\n",
    "posterior1 = prior * likelihood1\n",
    "posterior1.normalize()"
   ]
  },
  {
   "cell_type": "code",
   "execution_count": 41,
   "id": "fb6ec014-673e-4ef3-a654-b0ad88636fdc",
   "metadata": {
    "execution": {
     "iopub.execute_input": "2023-08-24T01:32:04.917215Z",
     "iopub.status.busy": "2023-08-24T01:32:04.916738Z",
     "iopub.status.idle": "2023-08-24T01:32:04.924188Z",
     "shell.execute_reply": "2023-08-24T01:32:04.923425Z",
     "shell.execute_reply.started": "2023-08-24T01:32:04.917184Z"
    },
    "tags": []
   },
   "outputs": [
    {
     "data": {
      "text/plain": [
       "1.7818649765887375"
      ]
     },
     "execution_count": 41,
     "metadata": {},
     "output_type": "execute_result"
    }
   ],
   "source": [
    "#For comparison, I also compute the posterior for another possible outcome, 20 correct identifications:\n",
    "    \n",
    "likelihood2 = table.loc[20]\n",
    "posterior2 = prior * likelihood2\n",
    "posterior2.normalize()"
   ]
  },
  {
   "cell_type": "code",
   "execution_count": 42,
   "id": "b95bcc0a-9ae0-4126-abbc-301241d02a35",
   "metadata": {
    "execution": {
     "iopub.execute_input": "2023-08-24T01:32:04.929552Z",
     "iopub.status.busy": "2023-08-24T01:32:04.929007Z",
     "iopub.status.idle": "2023-08-24T01:32:04.936209Z",
     "shell.execute_reply": "2023-08-24T01:32:04.935606Z",
     "shell.execute_reply.started": "2023-08-24T01:32:04.929522Z"
    }
   },
   "outputs": [],
   "source": [
    "# The following figure shows posterior distributions of num_sensitive based on the actual data, 12 correct identifications, and the other\n",
    "# possible outcome, 20 correct identifications."
   ]
  },
  {
   "cell_type": "code",
   "execution_count": 43,
   "id": "b99f06e9-7378-46aa-9565-609b9167af53",
   "metadata": {
    "execution": {
     "iopub.execute_input": "2023-08-24T01:32:04.937495Z",
     "iopub.status.busy": "2023-08-24T01:32:04.937155Z",
     "iopub.status.idle": "2023-08-24T01:32:05.106140Z",
     "shell.execute_reply": "2023-08-24T01:32:05.105287Z",
     "shell.execute_reply.started": "2023-08-24T01:32:04.937466Z"
    }
   },
   "outputs": [
    {
     "data": {
      "image/png": "[encoded data removed]",
      "text/plain": [
       "<Figure size 640x480 with 1 Axes>"
      ]
     },
     "metadata": {},
     "output_type": "display_data"
    }
   ],
   "source": [
    "fig, ax = plt.subplots()\n",
    "\n",
    "ax.plot(posterior1, color = \"blue\", label='num_sensitive = 0')\n",
    "ax.plot(posterior2, color = \"green\", label='num_sensitive = 10')\n",
    "\n",
    "ax.set(xlabel='Number of Correct Identifications', ylabel='PMF', title='Gluten Sensitivity')\n",
    "ax.legend()\n",
    "ax.grid()\n",
    "plt.show()"
   ]
  },
  {
   "cell_type": "code",
   "execution_count": 44,
   "id": "c197ea0f-3d66-49b5-a6f2-4fd24854ce73",
   "metadata": {
    "execution": {
     "iopub.execute_input": "2023-08-24T01:32:05.107789Z",
     "iopub.status.busy": "2023-08-24T01:32:05.107332Z",
     "iopub.status.idle": "2023-08-24T01:32:05.113455Z",
     "shell.execute_reply": "2023-08-24T01:32:05.112655Z",
     "shell.execute_reply.started": "2023-08-24T01:32:05.107755Z"
    }
   },
   "outputs": [
    {
     "data": {
      "text/plain": [
       "0"
      ]
     },
     "execution_count": 44,
     "metadata": {},
     "output_type": "execute_result"
    }
   ],
   "source": [
    "# With 12 correct identifications, the most likely conclusion is that none of the subjects are sensitive to gluten.  If there had been 20 correct\n",
    "# identifications, the most likely conclusion would be that 11-12 of the subjects were sensitive.\n",
    "\n",
    "posterior1.max_prob()"
   ]
  },
  {
   "cell_type": "code",
   "execution_count": 45,
   "id": "2daf1409-4d6c-4475-84cf-ffa3ee6f56de",
   "metadata": {
    "execution": {
     "iopub.execute_input": "2023-08-24T01:32:05.115273Z",
     "iopub.status.busy": "2023-08-24T01:32:05.114929Z",
     "iopub.status.idle": "2023-08-24T01:32:05.121605Z",
     "shell.execute_reply": "2023-08-24T01:32:05.120799Z",
     "shell.execute_reply.started": "2023-08-24T01:32:05.115243Z"
    }
   },
   "outputs": [
    {
     "data": {
      "text/plain": [
       "11"
      ]
     },
     "execution_count": 45,
     "metadata": {},
     "output_type": "execute_result"
    }
   ],
   "source": [
    "posterior2.max_prob()"
   ]
  },
  {
   "cell_type": "code",
   "execution_count": 46,
   "id": "3e0088ac-7c57-4877-b50e-9faae7c755b3",
   "metadata": {
    "execution": {
     "iopub.execute_input": "2023-08-24T01:32:05.123283Z",
     "iopub.status.busy": "2023-08-24T01:32:05.122988Z",
     "iopub.status.idle": "2023-08-24T01:32:05.126452Z",
     "shell.execute_reply": "2023-08-24T01:32:05.125731Z",
     "shell.execute_reply.started": "2023-08-24T01:32:05.123254Z"
    }
   },
   "outputs": [],
   "source": [
    "# Strangely, there is no Exercise 6-1 in the book."
   ]
  },
  {
   "cell_type": "code",
   "execution_count": 47,
   "id": "58a6faa2-3b23-4f46-acc1-036894cc3629",
   "metadata": {
    "execution": {
     "iopub.execute_input": "2023-08-24T01:32:05.128251Z",
     "iopub.status.busy": "2023-08-24T01:32:05.127838Z",
     "iopub.status.idle": "2023-08-24T01:32:05.132341Z",
     "shell.execute_reply": "2023-08-24T01:32:05.131493Z",
     "shell.execute_reply.started": "2023-08-24T01:32:05.128221Z"
    }
   },
   "outputs": [],
   "source": [
    "# Exercise 6-2\n",
    "# Let's use Bayes' rule to solve the Elvis problem from Chapter 3:\n",
    "\n",
    "# Elvis had a twin brother who died at birth.  What is the probability that Elvis was an identical twin?\n",
    "\n",
    "# In 1935, about 2/3 of twins were fraternal and 1/3 were identical.  The question contains two pieces of information we can use to update the prior.\n",
    "\n",
    "# First, Elvis's twin was also male, which is more likely if they were identical twins, with a likelihood ratio of 2.\n",
    "# Also, Elvis's twin died at birth, which is more likely if they were identical twins with a likelihood ratio of 1.25\n",
    "\n",
    "# If you are curious about those numbers, check out the blog post by the author (https://oreil.ly/SPbMo) or \n",
    "# (https://www.allendowney.com/blog/2020/01/28/the-elvis-problem-revisited/)"
   ]
  },
  {
   "cell_type": "code",
   "execution_count": 48,
   "id": "d8b5f906-e5c3-49ed-acd2-4a58292a1f97",
   "metadata": {
    "execution": {
     "iopub.execute_input": "2023-08-24T01:32:05.134594Z",
     "iopub.status.busy": "2023-08-24T01:32:05.134010Z",
     "iopub.status.idle": "2023-08-24T01:32:05.137887Z",
     "shell.execute_reply": "2023-08-24T01:32:05.137125Z",
     "shell.execute_reply.started": "2023-08-24T01:32:05.134565Z"
    }
   },
   "outputs": [],
   "source": [
    "# Data pulled from the book where problem is found\n",
    "# from book, approx 1/125 of all births are fraternal twins 1/300 births are identical twins.  \n",
    "# approximate the probability of a boy or girl birth as 1/2."
   ]
  },
  {
   "cell_type": "code",
   "execution_count": 49,
   "id": "3666a91f-2966-4f15-99be-47e417a0836f",
   "metadata": {
    "execution": {
     "iopub.execute_input": "2023-08-24T01:32:05.139792Z",
     "iopub.status.busy": "2023-08-24T01:32:05.139430Z",
     "iopub.status.idle": "2023-08-24T01:32:05.143060Z",
     "shell.execute_reply": "2023-08-24T01:32:05.142234Z",
     "shell.execute_reply.started": "2023-08-24T01:32:05.139763Z"
    }
   },
   "outputs": [],
   "source": [
    "# odds(A|D) = P(D|A) / P(D|B)\n",
    "# The term on the left is the ratio of posterior and prior odds.  The term on the right is the likelihood ratio, also called\n",
    "# the Bayes factor."
   ]
  },
  {
   "cell_type": "code",
   "execution_count": 50,
   "id": "9c95c78d-565b-4ff0-823b-1a6efe84a16a",
   "metadata": {
    "execution": {
     "iopub.execute_input": "2023-08-24T01:32:05.144884Z",
     "iopub.status.busy": "2023-08-24T01:32:05.144532Z",
     "iopub.status.idle": "2023-08-24T01:32:05.150728Z",
     "shell.execute_reply": "2023-08-24T01:32:05.149945Z",
     "shell.execute_reply.started": "2023-08-24T01:32:05.144855Z"
    },
    "tags": []
   },
   "outputs": [
    {
     "data": {
      "text/plain": [
       "0.49999999999999994"
      ]
     },
     "execution_count": 50,
     "metadata": {},
     "output_type": "execute_result"
    }
   ],
   "source": [
    "# In the cookie problem, the prior probability of coming from Bowl 1 is 50%\n",
    "# Probability of vanilla (D) given 2 bowls (B) is 1/2\n",
    "# In the Elvis problem, the prior probability of identical twin (D) given identical or fraternal (B) is (1/3), yielding odds of \n",
    "odds(1/3)"
   ]
  },
  {
   "cell_type": "code",
   "execution_count": 106,
   "id": "df89cc3a-4b3f-4ecd-b89f-f7225ddd458a",
   "metadata": {
    "execution": {
     "iopub.execute_input": "2023-08-24T03:12:15.189918Z",
     "iopub.status.busy": "2023-08-24T03:12:15.189528Z",
     "iopub.status.idle": "2023-08-24T03:12:15.195400Z",
     "shell.execute_reply": "2023-08-24T03:12:15.194466Z",
     "shell.execute_reply.started": "2023-08-24T03:12:15.189891Z"
    },
    "tags": []
   },
   "outputs": [
    {
     "data": {
      "text/plain": [
       "1.2499975"
      ]
     },
     "execution_count": 106,
     "metadata": {},
     "output_type": "execute_result"
    }
   ],
   "source": [
    "# We are given likelihood ratio of 2 and likelihood ratio of 1.25\n",
    "prior_odds = 0.499999\n",
    "likelihood_ratio = 2 * 1.25 # Still trying to figure out how he got these, I get 1.19 instead of 1.25% which yields a final answer of 54%\n",
    "post_odds = prior_odds * likelihood_ratio\n",
    "post_odds"
   ]
  },
  {
   "cell_type": "code",
   "execution_count": 105,
   "id": "2d101c22-52db-4516-a86d-a65e52a59c88",
   "metadata": {
    "execution": {
     "iopub.execute_input": "2023-08-24T03:11:29.942571Z",
     "iopub.status.busy": "2023-08-24T03:11:29.941454Z",
     "iopub.status.idle": "2023-08-24T03:11:29.947893Z",
     "shell.execute_reply": "2023-08-24T03:11:29.946884Z",
     "shell.execute_reply.started": "2023-08-24T03:11:29.942527Z"
    },
    "tags": []
   },
   "outputs": [
    {
     "data": {
      "text/plain": [
       "0.5555550617278464"
      ]
     },
     "execution_count": 105,
     "metadata": {},
     "output_type": "execute_result"
    }
   ],
   "source": [
    "post_prob = prob(post_odds)\n",
    "post_prob"
   ]
  },
  {
   "cell_type": "code",
   "execution_count": 53,
   "id": "3a9832c6-d746-4029-bb03-2d23f23e596e",
   "metadata": {
    "execution": {
     "iopub.execute_input": "2023-08-24T01:32:05.166290Z",
     "iopub.status.busy": "2023-08-24T01:32:05.166000Z",
     "iopub.status.idle": "2023-08-24T01:32:05.169348Z",
     "shell.execute_reply": "2023-08-24T01:32:05.168607Z",
     "shell.execute_reply.started": "2023-08-24T01:32:05.166262Z"
    }
   },
   "outputs": [],
   "source": [
    "# So using Bayes' Rule, \n",
    "# the probability that Elvis was an identical twin, given that his twin brother died at birth is 55%"
   ]
  },
  {
   "cell_type": "code",
   "execution_count": 54,
   "id": "3eff0293-a9f7-4a52-a91e-95de52d4bf7f",
   "metadata": {
    "execution": {
     "iopub.execute_input": "2023-08-24T01:32:05.171411Z",
     "iopub.status.busy": "2023-08-24T01:32:05.170891Z",
     "iopub.status.idle": "2023-08-24T01:32:05.174763Z",
     "shell.execute_reply": "2023-08-24T01:32:05.174026Z",
     "shell.execute_reply.started": "2023-08-24T01:32:05.171382Z"
    }
   },
   "outputs": [],
   "source": [
    "# *********************************************************************************************\n",
    "# Further exploration to understand where the likelihood factors, 2 and 1.25 came from"
   ]
  },
  {
   "cell_type": "code",
   "execution_count": 55,
   "id": "b8847066-4784-4bea-883d-b405c9397167",
   "metadata": {
    "execution": {
     "iopub.execute_input": "2023-08-24T01:32:05.176592Z",
     "iopub.status.busy": "2023-08-24T01:32:05.176110Z",
     "iopub.status.idle": "2023-08-24T01:32:05.181401Z",
     "shell.execute_reply": "2023-08-24T01:32:05.180561Z",
     "shell.execute_reply.started": "2023-08-24T01:32:05.176562Z"
    },
    "tags": []
   },
   "outputs": [],
   "source": [
    "# odds(A|D) = P(D|A) / P(D|B)\n",
    "# In the cookie problem, the likelihood ratio was (3/4) / (1/2) or (3/2)\n",
    "# because Bowl contained 30 vanilla and 10 chocolate, So probability of vanilla(D) given Bowl 1(A) is 3/4\n",
    "# and Bowl 2 contained 20 of each so probability of vanilla (D) given Bowl 2 (B) is (1/2)\n",
    "\n",
    "# In the Elvis problem, this isn't so simple\n",
    "# the likelihood ratio for probability of male who is also and idenical twin would be \n",
    "# (male (D) given identical (A)) / (male (D) given fraternal(B))\n",
    "\n",
    "# We have been provided the information that 2/3 are fraternal and 1/3 are identical\n",
    "index = ['identical', 'fraternal']\n",
    "prior = 1-(2/3), (2/3)\n",
    "likelihood = 1, 0.5 # If identical twins, there is a 100% chance of male, but if fraternal 50% chance of male"
   ]
  },
  {
   "cell_type": "code",
   "execution_count": 62,
   "id": "1a8dfcc0-5097-4858-a3e5-293058fd0aae",
   "metadata": {
    "execution": {
     "iopub.execute_input": "2023-08-24T01:33:04.276152Z",
     "iopub.status.busy": "2023-08-24T01:33:04.275780Z",
     "iopub.status.idle": "2023-08-24T01:33:04.281023Z",
     "shell.execute_reply": "2023-08-24T01:33:04.280196Z",
     "shell.execute_reply.started": "2023-08-24T01:33:04.276124Z"
    },
    "tags": []
   },
   "outputs": [],
   "source": [
    "# Creating a Bayes table\n",
    "\n",
    "def make_bayes_table(index, prior, likelihood):\n",
    "    table = pd.DataFrame(index=index)\n",
    "    table['prior'] = prior\n",
    "    table['likelihood'] = likelihood\n",
    "    table['unnorm'] = table['prior'] * table['likelihood']\n",
    "    prob_data = table['unnorm'].sum()\n",
    "    table['posterior'] = table['unnorm'] / prob_data\n",
    "    return table"
   ]
  },
  {
   "cell_type": "code",
   "execution_count": 63,
   "id": "30d81bdb-c498-43ff-9269-3a0ab2c19e96",
   "metadata": {
    "execution": {
     "iopub.execute_input": "2023-08-24T01:33:07.403031Z",
     "iopub.status.busy": "2023-08-24T01:33:07.402647Z",
     "iopub.status.idle": "2023-08-24T01:33:07.417038Z",
     "shell.execute_reply": "2023-08-24T01:33:07.416243Z",
     "shell.execute_reply.started": "2023-08-24T01:33:07.403001Z"
    },
    "tags": []
   },
   "outputs": [
    {
     "data": {
      "text/html": [
       "<div>\n",
       "<style scoped>\n",
       "    .dataframe tbody tr th:only-of-type {\n",
       "        vertical-align: middle;\n",
       "    }\n",
       "\n",
       "    .dataframe tbody tr th {\n",
       "        vertical-align: top;\n",
       "    }\n",
       "\n",
       "    .dataframe thead th {\n",
       "        text-align: right;\n",
       "    }\n",
       "</style>\n",
       "<table border=\"1\" class=\"dataframe\">\n",
       "  <thead>\n",
       "    <tr style=\"text-align: right;\">\n",
       "      <th></th>\n",
       "      <th>prior</th>\n",
       "      <th>likelihood</th>\n",
       "      <th>unnorm</th>\n",
       "      <th>posterior</th>\n",
       "    </tr>\n",
       "  </thead>\n",
       "  <tbody>\n",
       "    <tr>\n",
       "      <th>identical</th>\n",
       "      <td>0.333333</td>\n",
       "      <td>1.0</td>\n",
       "      <td>0.333333</td>\n",
       "      <td>0.5</td>\n",
       "    </tr>\n",
       "    <tr>\n",
       "      <th>fraternal</th>\n",
       "      <td>0.666667</td>\n",
       "      <td>0.5</td>\n",
       "      <td>0.333333</td>\n",
       "      <td>0.5</td>\n",
       "    </tr>\n",
       "  </tbody>\n",
       "</table>\n",
       "</div>"
      ],
      "text/plain": [
       "              prior  likelihood    unnorm  posterior\n",
       "identical  0.333333         1.0  0.333333        0.5\n",
       "fraternal  0.666667         0.5  0.333333        0.5"
      ]
     },
     "execution_count": 63,
     "metadata": {},
     "output_type": "execute_result"
    }
   ],
   "source": [
    "table = make_bayes_table(index, prior, likelihood)\n",
    "table"
   ]
  },
  {
   "cell_type": "code",
   "execution_count": 96,
   "id": "3cadc1bc-779f-4cf8-a692-46d316a84ac0",
   "metadata": {
    "execution": {
     "iopub.execute_input": "2023-08-24T02:40:34.939116Z",
     "iopub.status.busy": "2023-08-24T02:40:34.938734Z",
     "iopub.status.idle": "2023-08-24T02:40:34.945263Z",
     "shell.execute_reply": "2023-08-24T02:40:34.944148Z",
     "shell.execute_reply.started": "2023-08-24T02:40:34.939086Z"
    },
    "tags": []
   },
   "outputs": [
    {
     "data": {
      "text/plain": [
       "0.5"
      ]
     },
     "execution_count": 96,
     "metadata": {},
     "output_type": "execute_result"
    }
   ],
   "source": [
    "# Thus the probability that same sex twins are identical is \n",
    "p_i = table['posterior']['identical']\n",
    "P_fr = table['posterior']['fraternal']\n",
    "p_i"
   ]
  },
  {
   "cell_type": "code",
   "execution_count": 97,
   "id": "04a46e4d-73c7-48b3-8fec-c4806a27d10d",
   "metadata": {
    "execution": {
     "iopub.execute_input": "2023-08-24T02:40:45.678045Z",
     "iopub.status.busy": "2023-08-24T02:40:45.677669Z",
     "iopub.status.idle": "2023-08-24T02:40:45.683316Z",
     "shell.execute_reply": "2023-08-24T02:40:45.682494Z",
     "shell.execute_reply.started": "2023-08-24T02:40:45.678017Z"
    },
    "tags": []
   },
   "outputs": [
    {
     "data": {
      "text/plain": [
       "2.0"
      ]
     },
     "execution_count": 97,
     "metadata": {},
     "output_type": "execute_result"
    }
   ],
   "source": [
    "# The likelihood ratio would be \n",
    "li_r = (table['likelihood']['identical']) / (table['likelihood']['fraternal'])\n",
    "li_r\n",
    "# this is likelihood ratio provided in the question"
   ]
  },
  {
   "cell_type": "code",
   "execution_count": 73,
   "id": "b5a282bc-e547-4d1a-94db-1971a5205a3d",
   "metadata": {
    "execution": {
     "iopub.execute_input": "2023-08-24T02:10:42.175120Z",
     "iopub.status.busy": "2023-08-24T02:10:42.174748Z",
     "iopub.status.idle": "2023-08-24T02:10:42.180448Z",
     "shell.execute_reply": "2023-08-24T02:10:42.179409Z",
     "shell.execute_reply.started": "2023-08-24T02:10:42.175095Z"
    },
    "tags": []
   },
   "outputs": [
    {
     "name": "stdout",
     "output_type": "stream",
     "text": [
      "0.06633321424318209\n"
     ]
    }
   ],
   "source": [
    "# Also in the Elvis problem, the probability of stillborn (D) given identical (A) is\n",
    "\n",
    "# from data: \n",
    "# One stillborn from each set of male twins - 655 (some identical)\n",
    "# One stillborn from each set of female twins - 564 (some identical)\n",
    "# One male twin stillborn from M/F set of twins - 258 (not identical)\n",
    "# One female twin stillborn from F/M set of twins is 299 (not identical)\n",
    "\n",
    "# We cannot calculate the probability of stillborn given identical because we don't know how many of the same-sex twins are fraternal. We do know\n",
    "# that all of the mixed-sex sets are fraternal, and can compute the probability of stillborn given fraternal based on this subset of data.\n",
    "\n",
    "opp_still = 258 + 299\n",
    "opp_sum = 8397\n",
    "p_f = opp_still / opp_sum\n",
    "print(p_f)"
   ]
  },
  {
   "cell_type": "code",
   "execution_count": 74,
   "id": "5771c545-e2e3-46bd-a281-795fbeb7a5db",
   "metadata": {
    "execution": {
     "iopub.execute_input": "2023-08-24T02:10:47.809522Z",
     "iopub.status.busy": "2023-08-24T02:10:47.809125Z",
     "iopub.status.idle": "2023-08-24T02:10:47.813967Z",
     "shell.execute_reply": "2023-08-24T02:10:47.813200Z",
     "shell.execute_reply.started": "2023-08-24T02:10:47.809492Z"
    },
    "tags": []
   },
   "outputs": [
    {
     "name": "stdout",
     "output_type": "stream",
     "text": [
      "0.07255952380952381\n"
     ]
    }
   ],
   "source": [
    "# We can do the same with same-sex twins, probability of one stillborn given same-sex\n",
    "same_still = 655 + 564\n",
    "same_sum = 8678 + 8122\n",
    "p_ss = same_still / same_sum\n",
    "print(p_ss)"
   ]
  },
  {
   "cell_type": "code",
   "execution_count": 75,
   "id": "935217f7-02aa-4e4b-b178-8f1153106c42",
   "metadata": {
    "execution": {
     "iopub.execute_input": "2023-08-24T02:10:49.824105Z",
     "iopub.status.busy": "2023-08-24T02:10:49.823723Z",
     "iopub.status.idle": "2023-08-24T02:10:49.827541Z",
     "shell.execute_reply": "2023-08-24T02:10:49.826700Z",
     "shell.execute_reply.started": "2023-08-24T02:10:49.824078Z"
    },
    "tags": []
   },
   "outputs": [],
   "source": [
    "# the prob of one stillborn given same sex can be written as:\n",
    "# p_still_samesex = (prob_identical)(prob_still_identical) + (1 - prob_identical)/(prob_still_fraternal)\n",
    "# p_ss = (p_i)(prob_still_identical) + (1-p_i)/(p_f)"
   ]
  },
  {
   "cell_type": "code",
   "execution_count": 82,
   "id": "be25aa2b-d4b8-43c0-be18-4f0f85b304db",
   "metadata": {
    "execution": {
     "iopub.execute_input": "2023-08-24T02:17:51.797790Z",
     "iopub.status.busy": "2023-08-24T02:17:51.797423Z",
     "iopub.status.idle": "2023-08-24T02:17:51.803248Z",
     "shell.execute_reply": "2023-08-24T02:17:51.802480Z",
     "shell.execute_reply.started": "2023-08-24T02:17:51.797764Z"
    },
    "tags": []
   },
   "outputs": [
    {
     "data": {
      "text/plain": [
       "0.07878583337586553"
      ]
     },
     "execution_count": 82,
     "metadata": {},
     "output_type": "execute_result"
    }
   ],
   "source": [
    "# to solve for probability of one stillborn in identical twins, this can be rewritten as \n",
    "prob_still_identical= (p_ss - (1 - p_i)*(p_f))/p_i\n",
    "prob_still_identical"
   ]
  },
  {
   "cell_type": "code",
   "execution_count": 101,
   "id": "382a161b-aeea-4b93-8646-cb2f42ac9781",
   "metadata": {
    "execution": {
     "iopub.execute_input": "2023-08-24T03:09:23.976885Z",
     "iopub.status.busy": "2023-08-24T03:09:23.976490Z",
     "iopub.status.idle": "2023-08-24T03:09:23.982193Z",
     "shell.execute_reply": "2023-08-24T03:09:23.981310Z",
     "shell.execute_reply.started": "2023-08-24T03:09:23.976856Z"
    },
    "tags": []
   },
   "outputs": [
    {
     "data": {
      "text/plain": [
       "1.187728263657348"
      ]
     },
     "execution_count": 101,
     "metadata": {},
     "output_type": "execute_result"
    }
   ],
   "source": [
    "#********************************************************************************************************************\n",
    "# likelihood ratio is P(D|A) / P(D|B)\n",
    "# So the likelihood ratio would be probability of one stillborn given identical / probability of one stillborn given fraternal  \n",
    "l_f = prob_still_identical / p_f\n",
    "l_f\n",
    "\n",
    "# This is not the same as the likelihood ratio of 1.25 given by the book **********************************"
   ]
  },
  {
   "cell_type": "code",
   "execution_count": 84,
   "id": "3734c456-b703-4f03-b954-537137625903",
   "metadata": {
    "execution": {
     "iopub.execute_input": "2023-08-24T02:21:13.683743Z",
     "iopub.status.busy": "2023-08-24T02:21:13.683353Z",
     "iopub.status.idle": "2023-08-24T02:21:13.696766Z",
     "shell.execute_reply": "2023-08-24T02:21:13.695967Z",
     "shell.execute_reply.started": "2023-08-24T02:21:13.683715Z"
    },
    "tags": []
   },
   "outputs": [
    {
     "data": {
      "text/html": [
       "<div>\n",
       "<style scoped>\n",
       "    .dataframe tbody tr th:only-of-type {\n",
       "        vertical-align: middle;\n",
       "    }\n",
       "\n",
       "    .dataframe tbody tr th {\n",
       "        vertical-align: top;\n",
       "    }\n",
       "\n",
       "    .dataframe thead th {\n",
       "        text-align: right;\n",
       "    }\n",
       "</style>\n",
       "<table border=\"1\" class=\"dataframe\">\n",
       "  <thead>\n",
       "    <tr style=\"text-align: right;\">\n",
       "      <th></th>\n",
       "      <th>prior</th>\n",
       "      <th>likelihood</th>\n",
       "      <th>unnorm</th>\n",
       "      <th>posterior</th>\n",
       "    </tr>\n",
       "  </thead>\n",
       "  <tbody>\n",
       "    <tr>\n",
       "      <th>identical</th>\n",
       "      <td>0.5</td>\n",
       "      <td>0.066333</td>\n",
       "      <td>0.033167</td>\n",
       "      <td>0.457095</td>\n",
       "    </tr>\n",
       "    <tr>\n",
       "      <th>fraternal</th>\n",
       "      <td>0.5</td>\n",
       "      <td>0.078786</td>\n",
       "      <td>0.039393</td>\n",
       "      <td>0.542905</td>\n",
       "    </tr>\n",
       "  </tbody>\n",
       "</table>\n",
       "</div>"
      ],
      "text/plain": [
       "           prior  likelihood    unnorm  posterior\n",
       "identical    0.5    0.066333  0.033167   0.457095\n",
       "fraternal    0.5    0.078786  0.039393   0.542905"
      ]
     },
     "execution_count": 84,
     "metadata": {},
     "output_type": "execute_result"
    }
   ],
   "source": [
    "# So the probability of one stillborn in identical twins is 7.8%\n",
    "# combining this information with the prior information\n",
    "\n",
    "prior2 = table['posterior']\n",
    "likelihood2 = p_f , prob_still_identical\n",
    "table2 = make_bayes_table(index, prior2, likelihood2)\n",
    "table2"
   ]
  },
  {
   "cell_type": "code",
   "execution_count": null,
   "id": "60d03040-4e6c-47b7-bba0-59a97e247e76",
   "metadata": {},
   "outputs": [],
   "source": [
    "# This also shows the probability that Elvis was a twin to be about 54%"
   ]
  },
  {
   "cell_type": "code",
   "execution_count": 68,
   "id": "3b4318a6-c34c-4375-a844-c072bf56b358",
   "metadata": {
    "execution": {
     "iopub.execute_input": "2023-08-24T01:52:32.476389Z",
     "iopub.status.busy": "2023-08-24T01:52:32.475958Z",
     "iopub.status.idle": "2023-08-24T01:52:32.480029Z",
     "shell.execute_reply": "2023-08-24T01:52:32.479226Z",
     "shell.execute_reply.started": "2023-08-24T01:52:32.476361Z"
    },
    "tags": []
   },
   "outputs": [],
   "source": [
    "#Exercise 6-3\n",
    "# The following is an interview question that appeared on glassdoor.com (https://oreil.ly/M1c1I), attributed to Facebook:\n",
    "\n",
    "# You're about to"
   ]
  },
  {
   "cell_type": "code",
   "execution_count": 67,
   "id": "33bba429-319a-40db-b59d-8758d1823645",
   "metadata": {
    "execution": {
     "iopub.execute_input": "2023-08-24T01:49:13.305589Z",
     "iopub.status.busy": "2023-08-24T01:49:13.305221Z",
     "iopub.status.idle": "2023-08-24T01:49:13.308967Z",
     "shell.execute_reply": "2023-08-24T01:49:13.308146Z",
     "shell.execute_reply.started": "2023-08-24T01:49:13.305561Z"
    }
   },
   "outputs": [],
   "source": [
    "# They are not seeing if I am ready for real life, they don't even let me call my family.  This isn't therapy for me.  It is \n",
    "# punishment for me.\n"
   ]
  },
  {
   "cell_type": "code",
   "execution_count": null,
   "id": "c550e543-e7df-48fe-99e8-67930faf94cc",
   "metadata": {},
   "outputs": [],
   "source": []
  }
 ],
 "metadata": {
  "kernelspec": {
   "display_name": "saturn (Python 3)",
   "language": "python",
   "name": "python3"
  },
  "language_info": {
   "codemirror_mode": {
    "name": "ipython",
    "version": 3
   },
   "file_extension": ".py",
   "mimetype": "text/x-python",
   "name": "python",
   "nbconvert_exporter": "python",
   "pygments_lexer": "ipython3",
   "version": "3.9.15"
  }
 },
 "nbformat": 4,
 "nbformat_minor": 5
}
