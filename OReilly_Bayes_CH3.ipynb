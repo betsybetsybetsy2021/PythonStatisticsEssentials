{
 "cells": [
  {
   "cell_type": "code",
   "execution_count": 1,
   "id": "18393006-c1df-4b19-a346-7c67ba11871a",
   "metadata": {
    "execution": {
     "iopub.execute_input": "2023-08-13T20:24:29.386909Z",
     "iopub.status.busy": "2023-08-13T20:24:29.386586Z",
     "iopub.status.idle": "2023-08-13T20:24:29.390841Z",
     "shell.execute_reply": "2023-08-13T20:24:29.389833Z",
     "shell.execute_reply.started": "2023-08-13T20:24:29.386875Z"
    },
    "tags": []
   },
   "outputs": [],
   "source": [
    "# O'Reilly Bayes \n",
    "# Chapter 3 - Distributions"
   ]
  },
  {
   "cell_type": "code",
   "execution_count": 2,
   "id": "a4bae21d-d3bb-470a-873c-afbcdc43c822",
   "metadata": {
    "execution": {
     "iopub.execute_input": "2023-08-13T20:24:29.393195Z",
     "iopub.status.busy": "2023-08-13T20:24:29.392573Z",
     "iopub.status.idle": "2023-08-13T20:24:29.396956Z",
     "shell.execute_reply": "2023-08-13T20:24:29.396085Z",
     "shell.execute_reply.started": "2023-08-13T20:24:29.393164Z"
    },
    "tags": []
   },
   "outputs": [],
   "source": [
    "# Will resolve the Cookie problem with the Pmf function and library empiricaldist"
   ]
  },
  {
   "cell_type": "code",
   "execution_count": 3,
   "id": "5784a291-9216-49d0-9e7b-ff61593a175f",
   "metadata": {
    "execution": {
     "iopub.execute_input": "2023-08-13T20:24:29.454280Z",
     "iopub.status.busy": "2023-08-13T20:24:29.453755Z",
     "iopub.status.idle": "2023-08-13T20:24:32.010383Z",
     "shell.execute_reply": "2023-08-13T20:24:32.009703Z",
     "shell.execute_reply.started": "2023-08-13T20:24:29.454250Z"
    },
    "tags": []
   },
   "outputs": [],
   "source": [
    "import numpy as np\n",
    "import pandas as pd\n",
    "from empiricaldist import Pmf"
   ]
  },
  {
   "cell_type": "code",
   "execution_count": 4,
   "id": "8c5d1922-009c-4729-826b-7e2952b92b8a",
   "metadata": {
    "execution": {
     "iopub.execute_input": "2023-08-13T20:24:32.012545Z",
     "iopub.status.busy": "2023-08-13T20:24:32.012098Z",
     "iopub.status.idle": "2023-08-13T20:24:32.030106Z",
     "shell.execute_reply": "2023-08-13T20:24:32.029506Z",
     "shell.execute_reply.started": "2023-08-13T20:24:32.012511Z"
    },
    "tags": []
   },
   "outputs": [
    {
     "data": {
      "text/html": [
       "<div>\n",
       "<style scoped>\n",
       "    .dataframe tbody tr th:only-of-type {\n",
       "        vertical-align: middle;\n",
       "    }\n",
       "\n",
       "    .dataframe tbody tr th {\n",
       "        vertical-align: top;\n",
       "    }\n",
       "\n",
       "    .dataframe thead th {\n",
       "        text-align: right;\n",
       "    }\n",
       "</style>\n",
       "<table border=\"1\" class=\"dataframe\">\n",
       "  <thead>\n",
       "    <tr style=\"text-align: right;\">\n",
       "      <th></th>\n",
       "      <th>probs</th>\n",
       "    </tr>\n",
       "  </thead>\n",
       "  <tbody>\n",
       "    <tr>\n",
       "      <th>head</th>\n",
       "      <td>0.5</td>\n",
       "    </tr>\n",
       "    <tr>\n",
       "      <th>tails</th>\n",
       "      <td>0.5</td>\n",
       "    </tr>\n",
       "  </tbody>\n",
       "</table>\n",
       "</div>"
      ],
      "text/plain": [
       "head     0.5\n",
       "tails    0.5\n",
       "Name: , dtype: float64"
      ]
     },
     "execution_count": 4,
     "metadata": {},
     "output_type": "execute_result"
    }
   ],
   "source": [
    "coin = Pmf()\n",
    "coin['head'] = 1/2\n",
    "coin['tails'] = 1/2\n",
    "coin"
   ]
  },
  {
   "cell_type": "code",
   "execution_count": 5,
   "id": "e75f968e-5d45-4737-87d5-801e7a3ef19f",
   "metadata": {
    "execution": {
     "iopub.execute_input": "2023-08-13T20:24:32.031566Z",
     "iopub.status.busy": "2023-08-13T20:24:32.031267Z",
     "iopub.status.idle": "2023-08-13T20:24:32.039168Z",
     "shell.execute_reply": "2023-08-13T20:24:32.038365Z",
     "shell.execute_reply.started": "2023-08-13T20:24:32.031536Z"
    },
    "tags": []
   },
   "outputs": [
    {
     "data": {
      "text/html": [
       "<div>\n",
       "<style scoped>\n",
       "    .dataframe tbody tr th:only-of-type {\n",
       "        vertical-align: middle;\n",
       "    }\n",
       "\n",
       "    .dataframe tbody tr th {\n",
       "        vertical-align: top;\n",
       "    }\n",
       "\n",
       "    .dataframe thead th {\n",
       "        text-align: right;\n",
       "    }\n",
       "</style>\n",
       "<table border=\"1\" class=\"dataframe\">\n",
       "  <thead>\n",
       "    <tr style=\"text-align: right;\">\n",
       "      <th></th>\n",
       "      <th>probs</th>\n",
       "    </tr>\n",
       "  </thead>\n",
       "  <tbody>\n",
       "    <tr>\n",
       "      <th>1</th>\n",
       "      <td>0.166667</td>\n",
       "    </tr>\n",
       "    <tr>\n",
       "      <th>2</th>\n",
       "      <td>0.166667</td>\n",
       "    </tr>\n",
       "    <tr>\n",
       "      <th>3</th>\n",
       "      <td>0.166667</td>\n",
       "    </tr>\n",
       "    <tr>\n",
       "      <th>4</th>\n",
       "      <td>0.166667</td>\n",
       "    </tr>\n",
       "    <tr>\n",
       "      <th>5</th>\n",
       "      <td>0.166667</td>\n",
       "    </tr>\n",
       "    <tr>\n",
       "      <th>6</th>\n",
       "      <td>0.166667</td>\n",
       "    </tr>\n",
       "  </tbody>\n",
       "</table>\n",
       "</div>"
      ],
      "text/plain": [
       "1    0.166667\n",
       "2    0.166667\n",
       "3    0.166667\n",
       "4    0.166667\n",
       "5    0.166667\n",
       "6    0.166667\n",
       "Name: , dtype: float64"
      ]
     },
     "execution_count": 5,
     "metadata": {},
     "output_type": "execute_result"
    }
   ],
   "source": [
    "die = Pmf.from_seq([1,2,3,4,5,6])\n",
    "die"
   ]
  },
  {
   "cell_type": "code",
   "execution_count": 6,
   "id": "2a6eef4d-bb5f-4936-929f-f1f631142e44",
   "metadata": {
    "execution": {
     "iopub.execute_input": "2023-08-13T20:24:32.040850Z",
     "iopub.status.busy": "2023-08-13T20:24:32.040289Z",
     "iopub.status.idle": "2023-08-13T20:24:32.049361Z",
     "shell.execute_reply": "2023-08-13T20:24:32.048531Z",
     "shell.execute_reply.started": "2023-08-13T20:24:32.040819Z"
    },
    "tags": []
   },
   "outputs": [
    {
     "data": {
      "text/html": [
       "<div>\n",
       "<style scoped>\n",
       "    .dataframe tbody tr th:only-of-type {\n",
       "        vertical-align: middle;\n",
       "    }\n",
       "\n",
       "    .dataframe tbody tr th {\n",
       "        vertical-align: top;\n",
       "    }\n",
       "\n",
       "    .dataframe thead th {\n",
       "        text-align: right;\n",
       "    }\n",
       "</style>\n",
       "<table border=\"1\" class=\"dataframe\">\n",
       "  <thead>\n",
       "    <tr style=\"text-align: right;\">\n",
       "      <th></th>\n",
       "      <th>probs</th>\n",
       "    </tr>\n",
       "  </thead>\n",
       "  <tbody>\n",
       "    <tr>\n",
       "      <th>M</th>\n",
       "      <td>0.090909</td>\n",
       "    </tr>\n",
       "    <tr>\n",
       "      <th>i</th>\n",
       "      <td>0.363636</td>\n",
       "    </tr>\n",
       "    <tr>\n",
       "      <th>p</th>\n",
       "      <td>0.181818</td>\n",
       "    </tr>\n",
       "    <tr>\n",
       "      <th>s</th>\n",
       "      <td>0.363636</td>\n",
       "    </tr>\n",
       "  </tbody>\n",
       "</table>\n",
       "</div>"
      ],
      "text/plain": [
       "M    0.090909\n",
       "i    0.363636\n",
       "p    0.181818\n",
       "s    0.363636\n",
       "Name: , dtype: float64"
      ]
     },
     "execution_count": 6,
     "metadata": {},
     "output_type": "execute_result"
    }
   ],
   "source": [
    "letters = Pmf.from_seq(list('Mississippi'))\n",
    "letters"
   ]
  },
  {
   "cell_type": "code",
   "execution_count": 7,
   "id": "1d8a0012-335f-4b2c-a5f6-4b12a13b5f52",
   "metadata": {
    "execution": {
     "iopub.execute_input": "2023-08-13T20:24:32.052388Z",
     "iopub.status.busy": "2023-08-13T20:24:32.051875Z",
     "iopub.status.idle": "2023-08-13T20:24:32.057219Z",
     "shell.execute_reply": "2023-08-13T20:24:32.056415Z",
     "shell.execute_reply.started": "2023-08-13T20:24:32.052357Z"
    },
    "tags": []
   },
   "outputs": [
    {
     "data": {
      "text/plain": [
       "0.36363636363636365"
      ]
     },
     "execution_count": 7,
     "metadata": {},
     "output_type": "execute_result"
    }
   ],
   "source": [
    "letters['s']"
   ]
  },
  {
   "cell_type": "code",
   "execution_count": 8,
   "id": "6ebb2b76-a235-459a-ad0a-dd8c758b01d8",
   "metadata": {
    "execution": {
     "iopub.execute_input": "2023-08-13T20:24:32.058814Z",
     "iopub.status.busy": "2023-08-13T20:24:32.058293Z",
     "iopub.status.idle": "2023-08-13T20:24:32.063548Z",
     "shell.execute_reply": "2023-08-13T20:24:32.062778Z",
     "shell.execute_reply.started": "2023-08-13T20:24:32.058785Z"
    },
    "tags": []
   },
   "outputs": [
    {
     "data": {
      "text/plain": [
       "0.36363636363636365"
      ]
     },
     "execution_count": 8,
     "metadata": {},
     "output_type": "execute_result"
    }
   ],
   "source": [
    "letters('s')"
   ]
  },
  {
   "cell_type": "code",
   "execution_count": 9,
   "id": "4b4c02f8-1b74-42c6-a234-2dee6beb218b",
   "metadata": {
    "execution": {
     "iopub.execute_input": "2023-08-13T20:24:32.065259Z",
     "iopub.status.busy": "2023-08-13T20:24:32.064687Z",
     "iopub.status.idle": "2023-08-13T20:24:32.071039Z",
     "shell.execute_reply": "2023-08-13T20:24:32.069507Z",
     "shell.execute_reply.started": "2023-08-13T20:24:32.065229Z"
    },
    "tags": []
   },
   "outputs": [
    {
     "data": {
      "text/plain": [
       "0"
      ]
     },
     "execution_count": 9,
     "metadata": {},
     "output_type": "execute_result"
    }
   ],
   "source": [
    "letters('t')"
   ]
  },
  {
   "cell_type": "code",
   "execution_count": 10,
   "id": "04dcc668-dd77-4392-b7d6-9d7f28526d13",
   "metadata": {
    "execution": {
     "iopub.execute_input": "2023-08-13T20:24:32.073528Z",
     "iopub.status.busy": "2023-08-13T20:24:32.072779Z",
     "iopub.status.idle": "2023-08-13T20:24:32.083940Z",
     "shell.execute_reply": "2023-08-13T20:24:32.083171Z",
     "shell.execute_reply.started": "2023-08-13T20:24:32.073498Z"
    },
    "tags": []
   },
   "outputs": [
    {
     "data": {
      "text/plain": [
       "array([0.16666667, 0.16666667, 0.        ])"
      ]
     },
     "execution_count": 10,
     "metadata": {},
     "output_type": "execute_result"
    }
   ],
   "source": [
    "die([1,4,7])"
   ]
  },
  {
   "cell_type": "code",
   "execution_count": 11,
   "id": "caf4180c-755b-4470-8f86-b698759bd9b9",
   "metadata": {
    "execution": {
     "iopub.execute_input": "2023-08-13T20:24:32.085831Z",
     "iopub.status.busy": "2023-08-13T20:24:32.085292Z",
     "iopub.status.idle": "2023-08-13T20:24:32.089098Z",
     "shell.execute_reply": "2023-08-13T20:24:32.087953Z",
     "shell.execute_reply.started": "2023-08-13T20:24:32.085802Z"
    },
    "tags": []
   },
   "outputs": [],
   "source": [
    "# Cookie problem revisited\n",
    "# "
   ]
  },
  {
   "cell_type": "code",
   "execution_count": 12,
   "id": "a8e2e712-1443-41c2-a89c-adf76383a471",
   "metadata": {
    "execution": {
     "iopub.execute_input": "2023-08-13T20:24:32.091429Z",
     "iopub.status.busy": "2023-08-13T20:24:32.090658Z",
     "iopub.status.idle": "2023-08-13T20:24:32.100561Z",
     "shell.execute_reply": "2023-08-13T20:24:32.099803Z",
     "shell.execute_reply.started": "2023-08-13T20:24:32.091389Z"
    },
    "tags": []
   },
   "outputs": [
    {
     "data": {
      "text/html": [
       "<div>\n",
       "<style scoped>\n",
       "    .dataframe tbody tr th:only-of-type {\n",
       "        vertical-align: middle;\n",
       "    }\n",
       "\n",
       "    .dataframe tbody tr th {\n",
       "        vertical-align: top;\n",
       "    }\n",
       "\n",
       "    .dataframe thead th {\n",
       "        text-align: right;\n",
       "    }\n",
       "</style>\n",
       "<table border=\"1\" class=\"dataframe\">\n",
       "  <thead>\n",
       "    <tr style=\"text-align: right;\">\n",
       "      <th></th>\n",
       "      <th>probs</th>\n",
       "    </tr>\n",
       "  </thead>\n",
       "  <tbody>\n",
       "    <tr>\n",
       "      <th>Bowl 1</th>\n",
       "      <td>0.5</td>\n",
       "    </tr>\n",
       "    <tr>\n",
       "      <th>Bowl 2</th>\n",
       "      <td>0.5</td>\n",
       "    </tr>\n",
       "  </tbody>\n",
       "</table>\n",
       "</div>"
      ],
      "text/plain": [
       "Bowl 1    0.5\n",
       "Bowl 2    0.5\n",
       "Name: , dtype: float64"
      ]
     },
     "execution_count": 12,
     "metadata": {},
     "output_type": "execute_result"
    }
   ],
   "source": [
    "prior = Pmf.from_seq(['Bowl 1', 'Bowl 2'])\n",
    "prior"
   ]
  },
  {
   "cell_type": "code",
   "execution_count": 13,
   "id": "e6d259b9-3031-4795-87ca-bdac341352a9",
   "metadata": {
    "execution": {
     "iopub.execute_input": "2023-08-13T20:24:32.102243Z",
     "iopub.status.busy": "2023-08-13T20:24:32.101772Z",
     "iopub.status.idle": "2023-08-13T20:24:32.115125Z",
     "shell.execute_reply": "2023-08-13T20:24:32.114274Z",
     "shell.execute_reply.started": "2023-08-13T20:24:32.102216Z"
    },
    "tags": []
   },
   "outputs": [
    {
     "data": {
      "text/html": [
       "<div>\n",
       "<style scoped>\n",
       "    .dataframe tbody tr th:only-of-type {\n",
       "        vertical-align: middle;\n",
       "    }\n",
       "\n",
       "    .dataframe tbody tr th {\n",
       "        vertical-align: top;\n",
       "    }\n",
       "\n",
       "    .dataframe thead th {\n",
       "        text-align: right;\n",
       "    }\n",
       "</style>\n",
       "<table border=\"1\" class=\"dataframe\">\n",
       "  <thead>\n",
       "    <tr style=\"text-align: right;\">\n",
       "      <th></th>\n",
       "      <th>probs</th>\n",
       "    </tr>\n",
       "  </thead>\n",
       "  <tbody>\n",
       "    <tr>\n",
       "      <th>Bowl 1</th>\n",
       "      <td>0.375</td>\n",
       "    </tr>\n",
       "    <tr>\n",
       "      <th>Bowl 2</th>\n",
       "      <td>0.250</td>\n",
       "    </tr>\n",
       "  </tbody>\n",
       "</table>\n",
       "</div>"
      ],
      "text/plain": [
       "Bowl 1    0.375\n",
       "Bowl 2    0.250\n",
       "Name: , dtype: float64"
      ]
     },
     "execution_count": 13,
     "metadata": {},
     "output_type": "execute_result"
    }
   ],
   "source": [
    "likelihood_vanilla = [0.75, 0.5]\n",
    "posterior = prior * likelihood_vanilla\n",
    "posterior\n",
    "\n",
    "# how long do I have to live the POW life.  I am not an actress or role player. I CLIMBED into Canada, and\n",
    "# left all my earthly possesions in Maine after NYC because no one ever offers to help me.They just tell me\n",
    "# to have faith and then let me continue to be enslaved by people who aren't even related but \n",
    "# I don't owe anything to anyone, especially not someone interrogated by the CIA?!?!? Are you talking \n",
    "# about Egypt? Why does everyone get to decide I have to pay for every sin committed by everyone?  \n",
    "# I really am the child in the Ones who Walk Away from Omelas.  Everyone can blame everything on me.\n",
    "# Even Egypt wouldn't want the same for me.  I build and sell ships through Foreign Military Sales\n",
    "# not interrogate people. \n",
    "\n"
   ]
  },
  {
   "cell_type": "code",
   "execution_count": 14,
   "id": "af152c90-3357-459a-948c-4ecbbb85b8fb",
   "metadata": {
    "execution": {
     "iopub.execute_input": "2023-08-13T20:24:32.117823Z",
     "iopub.status.busy": "2023-08-13T20:24:32.117271Z",
     "iopub.status.idle": "2023-08-13T20:24:32.124183Z",
     "shell.execute_reply": "2023-08-13T20:24:32.123397Z",
     "shell.execute_reply.started": "2023-08-13T20:24:32.117790Z"
    },
    "tags": []
   },
   "outputs": [
    {
     "data": {
      "text/plain": [
       "0.625"
      ]
     },
     "execution_count": 14,
     "metadata": {},
     "output_type": "execute_result"
    }
   ],
   "source": [
    "posterior.normalize()"
   ]
  },
  {
   "cell_type": "code",
   "execution_count": 15,
   "id": "9047e9e9-4473-4481-99b8-59ee32ca777e",
   "metadata": {
    "execution": {
     "iopub.execute_input": "2023-08-13T20:24:32.125966Z",
     "iopub.status.busy": "2023-08-13T20:24:32.125452Z",
     "iopub.status.idle": "2023-08-13T20:24:32.133328Z",
     "shell.execute_reply": "2023-08-13T20:24:32.132588Z",
     "shell.execute_reply.started": "2023-08-13T20:24:32.125937Z"
    },
    "tags": []
   },
   "outputs": [
    {
     "data": {
      "text/html": [
       "<div>\n",
       "<style scoped>\n",
       "    .dataframe tbody tr th:only-of-type {\n",
       "        vertical-align: middle;\n",
       "    }\n",
       "\n",
       "    .dataframe tbody tr th {\n",
       "        vertical-align: top;\n",
       "    }\n",
       "\n",
       "    .dataframe thead th {\n",
       "        text-align: right;\n",
       "    }\n",
       "</style>\n",
       "<table border=\"1\" class=\"dataframe\">\n",
       "  <thead>\n",
       "    <tr style=\"text-align: right;\">\n",
       "      <th></th>\n",
       "      <th>probs</th>\n",
       "    </tr>\n",
       "  </thead>\n",
       "  <tbody>\n",
       "    <tr>\n",
       "      <th>Bowl 1</th>\n",
       "      <td>0.6</td>\n",
       "    </tr>\n",
       "    <tr>\n",
       "      <th>Bowl 2</th>\n",
       "      <td>0.4</td>\n",
       "    </tr>\n",
       "  </tbody>\n",
       "</table>\n",
       "</div>"
      ],
      "text/plain": [
       "Bowl 1    0.6\n",
       "Bowl 2    0.4\n",
       "Name: , dtype: float64"
      ]
     },
     "execution_count": 15,
     "metadata": {},
     "output_type": "execute_result"
    }
   ],
   "source": [
    "posterior"
   ]
  },
  {
   "cell_type": "code",
   "execution_count": 16,
   "id": "fdd8c366-092c-4eb0-be7c-def23af0ccbb",
   "metadata": {
    "execution": {
     "iopub.execute_input": "2023-08-13T20:24:32.139001Z",
     "iopub.status.busy": "2023-08-13T20:24:32.138261Z",
     "iopub.status.idle": "2023-08-13T20:24:32.144670Z",
     "shell.execute_reply": "2023-08-13T20:24:32.143675Z",
     "shell.execute_reply.started": "2023-08-13T20:24:32.138970Z"
    },
    "tags": []
   },
   "outputs": [
    {
     "data": {
      "text/plain": [
       "0.6"
      ]
     },
     "execution_count": 16,
     "metadata": {},
     "output_type": "execute_result"
    }
   ],
   "source": [
    "posterior('Bowl 1')"
   ]
  },
  {
   "cell_type": "code",
   "execution_count": 17,
   "id": "b2a2c55d-8ac5-4199-8e46-4d1e698b37a5",
   "metadata": {
    "execution": {
     "iopub.execute_input": "2023-08-13T20:24:32.146565Z",
     "iopub.status.busy": "2023-08-13T20:24:32.146029Z",
     "iopub.status.idle": "2023-08-13T20:24:32.156773Z",
     "shell.execute_reply": "2023-08-13T20:24:32.155888Z",
     "shell.execute_reply.started": "2023-08-13T20:24:32.146536Z"
    },
    "tags": []
   },
   "outputs": [
    {
     "data": {
      "text/html": [
       "<div>\n",
       "<style scoped>\n",
       "    .dataframe tbody tr th:only-of-type {\n",
       "        vertical-align: middle;\n",
       "    }\n",
       "\n",
       "    .dataframe tbody tr th {\n",
       "        vertical-align: top;\n",
       "    }\n",
       "\n",
       "    .dataframe thead th {\n",
       "        text-align: right;\n",
       "    }\n",
       "</style>\n",
       "<table border=\"1\" class=\"dataframe\">\n",
       "  <thead>\n",
       "    <tr style=\"text-align: right;\">\n",
       "      <th></th>\n",
       "      <th>probs</th>\n",
       "    </tr>\n",
       "  </thead>\n",
       "  <tbody>\n",
       "    <tr>\n",
       "      <th>Bowl 1</th>\n",
       "      <td>0.692308</td>\n",
       "    </tr>\n",
       "    <tr>\n",
       "      <th>Bowl 2</th>\n",
       "      <td>0.307692</td>\n",
       "    </tr>\n",
       "  </tbody>\n",
       "</table>\n",
       "</div>"
      ],
      "text/plain": [
       "Bowl 1    0.692308\n",
       "Bowl 2    0.307692\n",
       "Name: , dtype: float64"
      ]
     },
     "execution_count": 17,
     "metadata": {},
     "output_type": "execute_result"
    }
   ],
   "source": [
    "posterior *= likelihood_vanilla\n",
    "posterior.normalize()\n",
    "posterior"
   ]
  },
  {
   "cell_type": "code",
   "execution_count": 18,
   "id": "7aae5970-888d-4552-b857-87cb2b0b4447",
   "metadata": {
    "execution": {
     "iopub.execute_input": "2023-08-13T20:24:32.158580Z",
     "iopub.status.busy": "2023-08-13T20:24:32.158045Z",
     "iopub.status.idle": "2023-08-13T20:24:32.167603Z",
     "shell.execute_reply": "2023-08-13T20:24:32.166936Z",
     "shell.execute_reply.started": "2023-08-13T20:24:32.158550Z"
    },
    "tags": []
   },
   "outputs": [
    {
     "data": {
      "text/html": [
       "<div>\n",
       "<style scoped>\n",
       "    .dataframe tbody tr th:only-of-type {\n",
       "        vertical-align: middle;\n",
       "    }\n",
       "\n",
       "    .dataframe tbody tr th {\n",
       "        vertical-align: top;\n",
       "    }\n",
       "\n",
       "    .dataframe thead th {\n",
       "        text-align: right;\n",
       "    }\n",
       "</style>\n",
       "<table border=\"1\" class=\"dataframe\">\n",
       "  <thead>\n",
       "    <tr style=\"text-align: right;\">\n",
       "      <th></th>\n",
       "      <th>probs</th>\n",
       "    </tr>\n",
       "  </thead>\n",
       "  <tbody>\n",
       "    <tr>\n",
       "      <th>Bowl 1</th>\n",
       "      <td>0.529412</td>\n",
       "    </tr>\n",
       "    <tr>\n",
       "      <th>Bowl 2</th>\n",
       "      <td>0.470588</td>\n",
       "    </tr>\n",
       "  </tbody>\n",
       "</table>\n",
       "</div>"
      ],
      "text/plain": [
       "Bowl 1    0.529412\n",
       "Bowl 2    0.470588\n",
       "Name: , dtype: float64"
      ]
     },
     "execution_count": 18,
     "metadata": {},
     "output_type": "execute_result"
    }
   ],
   "source": [
    "likelihood_chocolate = [0.25, 0.5]\n",
    "posterior *= likelihood_chocolate\n",
    "posterior.normalize()\n",
    "posterior"
   ]
  },
  {
   "cell_type": "code",
   "execution_count": 19,
   "id": "7fd6fd22-edf8-4eaa-a1e7-65d7b7028b45",
   "metadata": {
    "execution": {
     "iopub.execute_input": "2023-08-13T20:24:32.169332Z",
     "iopub.status.busy": "2023-08-13T20:24:32.168795Z",
     "iopub.status.idle": "2023-08-13T20:24:32.172592Z",
     "shell.execute_reply": "2023-08-13T20:24:32.171717Z",
     "shell.execute_reply.started": "2023-08-13T20:24:32.169301Z"
    },
    "tags": []
   },
   "outputs": [],
   "source": [
    "# Modified Cookie\n",
    "# 101 bowls, bowl n contains n% vanilla cookies\n",
    "# What is the probablity that a selected cookie came from bowl n"
   ]
  },
  {
   "cell_type": "code",
   "execution_count": 20,
   "id": "a2068071-b4d5-4618-8f45-55ef530a009c",
   "metadata": {
    "execution": {
     "iopub.execute_input": "2023-08-13T20:24:32.174450Z",
     "iopub.status.busy": "2023-08-13T20:24:32.173815Z",
     "iopub.status.idle": "2023-08-13T20:24:32.178181Z",
     "shell.execute_reply": "2023-08-13T20:24:32.177315Z",
     "shell.execute_reply.started": "2023-08-13T20:24:32.174420Z"
    },
    "tags": []
   },
   "outputs": [],
   "source": [
    "hypos = np.arange(101)"
   ]
  },
  {
   "cell_type": "code",
   "execution_count": 21,
   "id": "cdb15cc3-6a01-41f6-9836-9f2b9de41743",
   "metadata": {
    "execution": {
     "iopub.execute_input": "2023-08-13T20:24:32.180120Z",
     "iopub.status.busy": "2023-08-13T20:24:32.179537Z",
     "iopub.status.idle": "2023-08-13T20:24:32.187564Z",
     "shell.execute_reply": "2023-08-13T20:24:32.186839Z",
     "shell.execute_reply.started": "2023-08-13T20:24:32.180092Z"
    },
    "tags": []
   },
   "outputs": [
    {
     "data": {
      "text/plain": [
       "101"
      ]
     },
     "execution_count": 21,
     "metadata": {},
     "output_type": "execute_result"
    }
   ],
   "source": [
    "# Pmf(prior probability, sequence of quanitities)\n",
    "prior = Pmf(1, hypos)\n",
    "prior.normalize()"
   ]
  },
  {
   "cell_type": "code",
   "execution_count": 22,
   "id": "45924e8c-a8ad-4ac0-8feb-3db9eaa9ffb5",
   "metadata": {
    "execution": {
     "iopub.execute_input": "2023-08-13T20:24:32.189442Z",
     "iopub.status.busy": "2023-08-13T20:24:32.188844Z",
     "iopub.status.idle": "2023-08-13T20:24:32.198872Z",
     "shell.execute_reply": "2023-08-13T20:24:32.198141Z",
     "shell.execute_reply.started": "2023-08-13T20:24:32.189413Z"
    },
    "tags": []
   },
   "outputs": [
    {
     "data": {
      "text/html": [
       "<div>\n",
       "<style scoped>\n",
       "    .dataframe tbody tr th:only-of-type {\n",
       "        vertical-align: middle;\n",
       "    }\n",
       "\n",
       "    .dataframe tbody tr th {\n",
       "        vertical-align: top;\n",
       "    }\n",
       "\n",
       "    .dataframe thead th {\n",
       "        text-align: right;\n",
       "    }\n",
       "</style>\n",
       "<table border=\"1\" class=\"dataframe\">\n",
       "  <thead>\n",
       "    <tr style=\"text-align: right;\">\n",
       "      <th></th>\n",
       "      <th>probs</th>\n",
       "    </tr>\n",
       "  </thead>\n",
       "  <tbody>\n",
       "    <tr>\n",
       "      <th>0</th>\n",
       "      <td>0.009901</td>\n",
       "    </tr>\n",
       "    <tr>\n",
       "      <th>1</th>\n",
       "      <td>0.009901</td>\n",
       "    </tr>\n",
       "    <tr>\n",
       "      <th>2</th>\n",
       "      <td>0.009901</td>\n",
       "    </tr>\n",
       "  </tbody>\n",
       "</table>\n",
       "</div>"
      ],
      "text/plain": [
       "0    0.009901\n",
       "1    0.009901\n",
       "2    0.009901\n",
       "Name: , dtype: float64"
      ]
     },
     "execution_count": 22,
     "metadata": {},
     "output_type": "execute_result"
    }
   ],
   "source": [
    "prior.head()"
   ]
  },
  {
   "cell_type": "code",
   "execution_count": 23,
   "id": "fad2f033-6951-4a60-858a-e56923e49c2a",
   "metadata": {
    "execution": {
     "iopub.execute_input": "2023-08-13T20:24:32.200631Z",
     "iopub.status.busy": "2023-08-13T20:24:32.200043Z",
     "iopub.status.idle": "2023-08-13T20:24:32.206422Z",
     "shell.execute_reply": "2023-08-13T20:24:32.205703Z",
     "shell.execute_reply.started": "2023-08-13T20:24:32.200577Z"
    },
    "tags": []
   },
   "outputs": [
    {
     "data": {
      "text/plain": [
       "array([0.  , 0.01, 0.02, 0.03, 0.04])"
      ]
     },
     "execution_count": 23,
     "metadata": {},
     "output_type": "execute_result"
    }
   ],
   "source": [
    "likelihood_vanilla = hypos / 100\n",
    "likelihood_vanilla[:5]"
   ]
  },
  {
   "cell_type": "code",
   "execution_count": 24,
   "id": "c4ce6028-78dd-47d8-bcf0-3a5d8b52cbb8",
   "metadata": {
    "execution": {
     "iopub.execute_input": "2023-08-13T20:24:32.208120Z",
     "iopub.status.busy": "2023-08-13T20:24:32.207599Z",
     "iopub.status.idle": "2023-08-13T20:24:32.217407Z",
     "shell.execute_reply": "2023-08-13T20:24:32.216634Z",
     "shell.execute_reply.started": "2023-08-13T20:24:32.208091Z"
    },
    "tags": []
   },
   "outputs": [
    {
     "data": {
      "text/html": [
       "<div>\n",
       "<style scoped>\n",
       "    .dataframe tbody tr th:only-of-type {\n",
       "        vertical-align: middle;\n",
       "    }\n",
       "\n",
       "    .dataframe tbody tr th {\n",
       "        vertical-align: top;\n",
       "    }\n",
       "\n",
       "    .dataframe thead th {\n",
       "        text-align: right;\n",
       "    }\n",
       "</style>\n",
       "<table border=\"1\" class=\"dataframe\">\n",
       "  <thead>\n",
       "    <tr style=\"text-align: right;\">\n",
       "      <th></th>\n",
       "      <th>probs</th>\n",
       "    </tr>\n",
       "  </thead>\n",
       "  <tbody>\n",
       "    <tr>\n",
       "      <th>0</th>\n",
       "      <td>0.000000</td>\n",
       "    </tr>\n",
       "    <tr>\n",
       "      <th>1</th>\n",
       "      <td>0.000198</td>\n",
       "    </tr>\n",
       "    <tr>\n",
       "      <th>2</th>\n",
       "      <td>0.000396</td>\n",
       "    </tr>\n",
       "  </tbody>\n",
       "</table>\n",
       "</div>"
      ],
      "text/plain": [
       "0    0.000000\n",
       "1    0.000198\n",
       "2    0.000396\n",
       "Name: , dtype: float64"
      ]
     },
     "execution_count": 24,
     "metadata": {},
     "output_type": "execute_result"
    }
   ],
   "source": [
    "posterior1 = prior * likelihood_vanilla\n",
    "posterior1.normalize()\n",
    "posterior1.head()"
   ]
  },
  {
   "cell_type": "code",
   "execution_count": 25,
   "id": "a7fb4723-2a0e-4231-ae1c-efab16ad0e51",
   "metadata": {
    "execution": {
     "iopub.execute_input": "2023-08-13T20:24:32.219120Z",
     "iopub.status.busy": "2023-08-13T20:24:32.218596Z",
     "iopub.status.idle": "2023-08-13T20:24:32.421160Z",
     "shell.execute_reply": "2023-08-13T20:24:32.420326Z",
     "shell.execute_reply.started": "2023-08-13T20:24:32.219090Z"
    },
    "tags": []
   },
   "outputs": [
    {
     "data": {
      "image/png": "[encoded data removed]",
      "text/plain": [
       "<Figure size 640x480 with 1 Axes>"
      ]
     },
     "metadata": {},
     "output_type": "display_data"
    }
   ],
   "source": [
    "# plot\n",
    "import matplotlib.pyplot as plt \n",
    "fig, ax = plt.subplots()\n",
    "ax.plot(posterior1, color = \"#FF007F\")\n",
    "plt.axhline(y = .01, color = '#000000', linestyle = ':')\n",
    "\n",
    "ax.set(xlabel='Bowl #', ylabel='PMF',\n",
    "       title='Had to quit FlatIron Due to Lack of Funding/Housing')\n",
    "ax.grid()\n",
    "\n",
    "\n",
    "plt.show()"
   ]
  },
  {
   "cell_type": "code",
   "execution_count": 26,
   "id": "3fa3d454-1ac9-4d26-8b7a-81f0baaae413",
   "metadata": {
    "execution": {
     "iopub.execute_input": "2023-08-13T20:24:32.422888Z",
     "iopub.status.busy": "2023-08-13T20:24:32.422575Z",
     "iopub.status.idle": "2023-08-13T20:24:32.433323Z",
     "shell.execute_reply": "2023-08-13T20:24:32.432569Z",
     "shell.execute_reply.started": "2023-08-13T20:24:32.422856Z"
    },
    "tags": []
   },
   "outputs": [
    {
     "data": {
      "text/html": [
       "<div>\n",
       "<style scoped>\n",
       "    .dataframe tbody tr th:only-of-type {\n",
       "        vertical-align: middle;\n",
       "    }\n",
       "\n",
       "    .dataframe tbody tr th {\n",
       "        vertical-align: top;\n",
       "    }\n",
       "\n",
       "    .dataframe thead th {\n",
       "        text-align: right;\n",
       "    }\n",
       "</style>\n",
       "<table border=\"1\" class=\"dataframe\">\n",
       "  <thead>\n",
       "    <tr style=\"text-align: right;\">\n",
       "      <th></th>\n",
       "      <th>probs</th>\n",
       "    </tr>\n",
       "  </thead>\n",
       "  <tbody>\n",
       "    <tr>\n",
       "      <th>0</th>\n",
       "      <td>0.000000</td>\n",
       "    </tr>\n",
       "    <tr>\n",
       "      <th>1</th>\n",
       "      <td>0.000003</td>\n",
       "    </tr>\n",
       "    <tr>\n",
       "      <th>2</th>\n",
       "      <td>0.000012</td>\n",
       "    </tr>\n",
       "  </tbody>\n",
       "</table>\n",
       "</div>"
      ],
      "text/plain": [
       "0    0.000000\n",
       "1    0.000003\n",
       "2    0.000012\n",
       "Name: , dtype: float64"
      ]
     },
     "execution_count": 26,
     "metadata": {},
     "output_type": "execute_result"
    }
   ],
   "source": [
    "posterior2 = posterior1 * likelihood_vanilla\n",
    "posterior2.normalize()\n",
    "posterior2.head()"
   ]
  },
  {
   "cell_type": "code",
   "execution_count": 27,
   "id": "fab61fc7-7721-463f-8b97-a625e83393a2",
   "metadata": {
    "execution": {
     "iopub.execute_input": "2023-08-13T20:24:32.434909Z",
     "iopub.status.busy": "2023-08-13T20:24:32.434634Z",
     "iopub.status.idle": "2023-08-13T20:24:32.602275Z",
     "shell.execute_reply": "2023-08-13T20:24:32.601492Z",
     "shell.execute_reply.started": "2023-08-13T20:24:32.434881Z"
    },
    "tags": []
   },
   "outputs": [
    {
     "data": {
      "image/png": "[encoded data removed]",
      "text/plain": [
       "<Figure size 640x480 with 1 Axes>"
      ]
     },
     "metadata": {},
     "output_type": "display_data"
    }
   ],
   "source": [
    "# plot\n",
    "import matplotlib.pyplot as plt \n",
    "fig, ax = plt.subplots()\n",
    "ax.plot(posterior2, color = \"#FF007F\")\n",
    "plt.axhline(y = .01, color = '#000000', linestyle = ':')\n",
    "\n",
    "ax.set(xlabel='Bowl #', ylabel='PMF',\n",
    "       title='Had to quit FlatIron Due to Lack of Funding/Housing')\n",
    "ax.grid()\n",
    "plt.show()"
   ]
  },
  {
   "cell_type": "code",
   "execution_count": 28,
   "id": "d9f39b7c-5063-4478-95e0-e2031d75cc19",
   "metadata": {
    "execution": {
     "iopub.execute_input": "2023-08-13T20:24:32.603879Z",
     "iopub.status.busy": "2023-08-13T20:24:32.603569Z",
     "iopub.status.idle": "2023-08-13T20:24:32.611411Z",
     "shell.execute_reply": "2023-08-13T20:24:32.610481Z",
     "shell.execute_reply.started": "2023-08-13T20:24:32.603850Z"
    },
    "tags": []
   },
   "outputs": [
    {
     "data": {
      "text/plain": [
       "0.2462686567164179"
      ]
     },
     "execution_count": 28,
     "metadata": {},
     "output_type": "execute_result"
    }
   ],
   "source": [
    "likelihood_chocolate = 1 - hypos/100\n",
    "posterior3 = posterior2 * likelihood_chocolate\n",
    "posterior3.normalize()"
   ]
  },
  {
   "cell_type": "code",
   "execution_count": 29,
   "id": "382e5c6c-90fc-4f7e-81cf-9db9c72fd7a9",
   "metadata": {
    "execution": {
     "iopub.execute_input": "2023-08-13T20:24:32.613089Z",
     "iopub.status.busy": "2023-08-13T20:24:32.612792Z",
     "iopub.status.idle": "2023-08-13T20:24:32.749036Z",
     "shell.execute_reply": "2023-08-13T20:24:32.748313Z",
     "shell.execute_reply.started": "2023-08-13T20:24:32.613059Z"
    },
    "tags": []
   },
   "outputs": [
    {
     "data": {
      "image/png": "[encoded data removed]",
      "text/plain": [
       "<Figure size 640x480 with 1 Axes>"
      ]
     },
     "metadata": {},
     "output_type": "display_data"
    }
   ],
   "source": [
    "# plot\n",
    "import matplotlib.pyplot as plt \n",
    "fig, ax = plt.subplots()\n",
    "ax.plot(posterior3, color = \"#FF007F\")\n",
    "plt.axhline(y = .01, color = '#000000', linestyle = ':')\n",
    "\n",
    "ax.set(xlabel='Bowl #', ylabel='PMF',\n",
    "       title='Posterior after two vanilla, 1 chocolate')\n",
    "ax.grid()\n",
    "plt.show()"
   ]
  },
  {
   "cell_type": "code",
   "execution_count": 30,
   "id": "d6724a17-6357-4893-ba4d-9ad80dfa2b97",
   "metadata": {
    "execution": {
     "iopub.execute_input": "2023-08-13T20:24:32.750590Z",
     "iopub.status.busy": "2023-08-13T20:24:32.749959Z",
     "iopub.status.idle": "2023-08-13T20:24:32.754469Z",
     "shell.execute_reply": "2023-08-13T20:24:32.753577Z",
     "shell.execute_reply.started": "2023-08-13T20:24:32.750566Z"
    },
    "tags": []
   },
   "outputs": [],
   "source": [
    "# As the number of vanilla cookies increases, the number of chocolate decrease until bowl 100\n",
    "# where there are none\n",
    "\n",
    "# The peak of the posterior distro is at Bowl 67.\n",
    "# The quanitity with the highest posterior probability is called the MAP, \n",
    "# the \"maximum a posteori probability\"\n",
    "\n",
    "#To compute the MAP, we can use the Series method idmax:"
   ]
  },
  {
   "cell_type": "code",
   "execution_count": 31,
   "id": "c63fdd57-a7cc-43f7-b10a-1795a23d0b8e",
   "metadata": {
    "execution": {
     "iopub.execute_input": "2023-08-13T20:24:32.756412Z",
     "iopub.status.busy": "2023-08-13T20:24:32.755907Z",
     "iopub.status.idle": "2023-08-13T20:24:32.762181Z",
     "shell.execute_reply": "2023-08-13T20:24:32.761446Z",
     "shell.execute_reply.started": "2023-08-13T20:24:32.756381Z"
    },
    "tags": []
   },
   "outputs": [
    {
     "data": {
      "text/plain": [
       "67"
      ]
     },
     "execution_count": 31,
     "metadata": {},
     "output_type": "execute_result"
    }
   ],
   "source": [
    "posterior3.idxmax()"
   ]
  },
  {
   "cell_type": "code",
   "execution_count": 32,
   "id": "52f0a4ef-489d-487c-ae7e-999cb355251c",
   "metadata": {
    "execution": {
     "iopub.execute_input": "2023-08-13T20:24:32.763976Z",
     "iopub.status.busy": "2023-08-13T20:24:32.763504Z",
     "iopub.status.idle": "2023-08-13T20:24:32.769506Z",
     "shell.execute_reply": "2023-08-13T20:24:32.768742Z",
     "shell.execute_reply.started": "2023-08-13T20:24:32.763946Z"
    },
    "tags": []
   },
   "outputs": [
    {
     "data": {
      "text/plain": [
       "67"
      ]
     },
     "execution_count": 32,
     "metadata": {},
     "output_type": "execute_result"
    }
   ],
   "source": [
    "posterior3.max_prob()"
   ]
  },
  {
   "cell_type": "code",
   "execution_count": 33,
   "id": "5766688e-49ab-4f09-b532-bb7fc7e66364",
   "metadata": {
    "execution": {
     "iopub.execute_input": "2023-08-13T20:24:32.771048Z",
     "iopub.status.busy": "2023-08-13T20:24:32.770584Z",
     "iopub.status.idle": "2023-08-13T20:24:32.774456Z",
     "shell.execute_reply": "2023-08-13T20:24:32.773524Z",
     "shell.execute_reply.started": "2023-08-13T20:24:32.771019Z"
    },
    "tags": []
   },
   "outputs": [],
   "source": [
    "# Using pmf to solve the dice problem\n",
    "# a box wtih a 6-sided die, an 8-sided die, and a 12-sided die.\n",
    "# I choose one of the dice at random, roll it, and report that the outcome is a 1.\n",
    "# What is the probability that I chose the 6-sided die?"
   ]
  },
  {
   "cell_type": "code",
   "execution_count": 34,
   "id": "52d2deb6-ce30-49dc-a68c-46a5460ca8a2",
   "metadata": {
    "execution": {
     "iopub.execute_input": "2023-08-13T20:24:32.776398Z",
     "iopub.status.busy": "2023-08-13T20:24:32.775705Z",
     "iopub.status.idle": "2023-08-13T20:24:32.780526Z",
     "shell.execute_reply": "2023-08-13T20:24:32.779613Z",
     "shell.execute_reply.started": "2023-08-13T20:24:32.776369Z"
    },
    "tags": []
   },
   "outputs": [],
   "source": [
    "hypos = [6,8,12]"
   ]
  },
  {
   "cell_type": "code",
   "execution_count": 35,
   "id": "0c7ee1bb-4ce6-4144-97d8-9804da51748d",
   "metadata": {
    "execution": {
     "iopub.execute_input": "2023-08-13T20:24:32.782370Z",
     "iopub.status.busy": "2023-08-13T20:24:32.781834Z",
     "iopub.status.idle": "2023-08-13T20:24:32.791002Z",
     "shell.execute_reply": "2023-08-13T20:24:32.790299Z",
     "shell.execute_reply.started": "2023-08-13T20:24:32.782341Z"
    },
    "tags": []
   },
   "outputs": [
    {
     "data": {
      "text/html": [
       "<div>\n",
       "<style scoped>\n",
       "    .dataframe tbody tr th:only-of-type {\n",
       "        vertical-align: middle;\n",
       "    }\n",
       "\n",
       "    .dataframe tbody tr th {\n",
       "        vertical-align: top;\n",
       "    }\n",
       "\n",
       "    .dataframe thead th {\n",
       "        text-align: right;\n",
       "    }\n",
       "</style>\n",
       "<table border=\"1\" class=\"dataframe\">\n",
       "  <thead>\n",
       "    <tr style=\"text-align: right;\">\n",
       "      <th></th>\n",
       "      <th>probs</th>\n",
       "    </tr>\n",
       "  </thead>\n",
       "  <tbody>\n",
       "    <tr>\n",
       "      <th>6</th>\n",
       "      <td>0.333333</td>\n",
       "    </tr>\n",
       "    <tr>\n",
       "      <th>8</th>\n",
       "      <td>0.333333</td>\n",
       "    </tr>\n",
       "    <tr>\n",
       "      <th>12</th>\n",
       "      <td>0.333333</td>\n",
       "    </tr>\n",
       "  </tbody>\n",
       "</table>\n",
       "</div>"
      ],
      "text/plain": [
       "6     0.333333\n",
       "8     0.333333\n",
       "12    0.333333\n",
       "Name: , dtype: float64"
      ]
     },
     "execution_count": 35,
     "metadata": {},
     "output_type": "execute_result"
    }
   ],
   "source": [
    "prior = Pmf(1/3, hypos)\n",
    "prior"
   ]
  },
  {
   "cell_type": "code",
   "execution_count": 36,
   "id": "4f37487d-a9a8-4681-8121-c1d14c31bf44",
   "metadata": {
    "execution": {
     "iopub.execute_input": "2023-08-13T20:24:32.792484Z",
     "iopub.status.busy": "2023-08-13T20:24:32.792190Z",
     "iopub.status.idle": "2023-08-13T20:24:32.796201Z",
     "shell.execute_reply": "2023-08-13T20:24:32.794984Z",
     "shell.execute_reply.started": "2023-08-13T20:24:32.792455Z"
    },
    "tags": []
   },
   "outputs": [],
   "source": [
    "# As in the previous example, the prior probability gets broadcast across the hypotheses\n",
    "# qs contains the quantities in the distribution\n",
    "# ps contains the corresponding probabilities"
   ]
  },
  {
   "cell_type": "code",
   "execution_count": 37,
   "id": "0273fecd-6529-4c03-aab0-c053de8d11f3",
   "metadata": {
    "execution": {
     "iopub.execute_input": "2023-08-13T20:24:32.798005Z",
     "iopub.status.busy": "2023-08-13T20:24:32.797648Z",
     "iopub.status.idle": "2023-08-13T20:24:32.803174Z",
     "shell.execute_reply": "2023-08-13T20:24:32.802396Z",
     "shell.execute_reply.started": "2023-08-13T20:24:32.797977Z"
    },
    "tags": []
   },
   "outputs": [
    {
     "data": {
      "text/plain": [
       "array([ 6,  8, 12])"
      ]
     },
     "execution_count": 37,
     "metadata": {},
     "output_type": "execute_result"
    }
   ],
   "source": [
    "prior.qs"
   ]
  },
  {
   "cell_type": "code",
   "execution_count": 38,
   "id": "e759c4f3-c7c2-42b1-8367-b948a6b273af",
   "metadata": {
    "execution": {
     "iopub.execute_input": "2023-08-13T20:24:32.805028Z",
     "iopub.status.busy": "2023-08-13T20:24:32.804707Z",
     "iopub.status.idle": "2023-08-13T20:24:32.810231Z",
     "shell.execute_reply": "2023-08-13T20:24:32.809418Z",
     "shell.execute_reply.started": "2023-08-13T20:24:32.804999Z"
    },
    "tags": []
   },
   "outputs": [
    {
     "data": {
      "text/plain": [
       "array([0.33333333, 0.33333333, 0.33333333])"
      ]
     },
     "execution_count": 38,
     "metadata": {},
     "output_type": "execute_result"
    }
   ],
   "source": [
    "prior.ps"
   ]
  },
  {
   "cell_type": "code",
   "execution_count": 39,
   "id": "78c2a44b-a564-496d-813f-8f944695d42b",
   "metadata": {
    "execution": {
     "iopub.execute_input": "2023-08-13T20:24:32.811941Z",
     "iopub.status.busy": "2023-08-13T20:24:32.811656Z",
     "iopub.status.idle": "2023-08-13T20:24:32.821713Z",
     "shell.execute_reply": "2023-08-13T20:24:32.820989Z",
     "shell.execute_reply.started": "2023-08-13T20:24:32.811913Z"
    },
    "tags": []
   },
   "outputs": [
    {
     "data": {
      "text/html": [
       "<div>\n",
       "<style scoped>\n",
       "    .dataframe tbody tr th:only-of-type {\n",
       "        vertical-align: middle;\n",
       "    }\n",
       "\n",
       "    .dataframe tbody tr th {\n",
       "        vertical-align: top;\n",
       "    }\n",
       "\n",
       "    .dataframe thead th {\n",
       "        text-align: right;\n",
       "    }\n",
       "</style>\n",
       "<table border=\"1\" class=\"dataframe\">\n",
       "  <thead>\n",
       "    <tr style=\"text-align: right;\">\n",
       "      <th></th>\n",
       "      <th>probs</th>\n",
       "    </tr>\n",
       "  </thead>\n",
       "  <tbody>\n",
       "    <tr>\n",
       "      <th>6</th>\n",
       "      <td>0.444444</td>\n",
       "    </tr>\n",
       "    <tr>\n",
       "      <th>8</th>\n",
       "      <td>0.333333</td>\n",
       "    </tr>\n",
       "    <tr>\n",
       "      <th>12</th>\n",
       "      <td>0.222222</td>\n",
       "    </tr>\n",
       "  </tbody>\n",
       "</table>\n",
       "</div>"
      ],
      "text/plain": [
       "6     0.444444\n",
       "8     0.333333\n",
       "12    0.222222\n",
       "Name: , dtype: float64"
      ]
     },
     "execution_count": 39,
     "metadata": {},
     "output_type": "execute_result"
    }
   ],
   "source": [
    "likelihood1 = 1/6, 1/8, 1/12\n",
    "posterior = prior * likelihood1\n",
    "posterior.normalize()\n",
    "posterior"
   ]
  },
  {
   "cell_type": "code",
   "execution_count": 40,
   "id": "54079809-0607-4de0-b0cd-64c895a9b2e3",
   "metadata": {
    "execution": {
     "iopub.execute_input": "2023-08-13T20:24:32.823257Z",
     "iopub.status.busy": "2023-08-13T20:24:32.822970Z",
     "iopub.status.idle": "2023-08-13T20:24:32.826407Z",
     "shell.execute_reply": "2023-08-13T20:24:32.825694Z",
     "shell.execute_reply.started": "2023-08-13T20:24:32.823228Z"
    },
    "tags": []
   },
   "outputs": [],
   "source": [
    "# Now I roll a 7, what are the likelihoods"
   ]
  },
  {
   "cell_type": "code",
   "execution_count": 41,
   "id": "c9b32ba0-3127-4294-80b2-2da3fa4b1ba0",
   "metadata": {
    "execution": {
     "iopub.execute_input": "2023-08-13T20:24:32.828026Z",
     "iopub.status.busy": "2023-08-13T20:24:32.827644Z",
     "iopub.status.idle": "2023-08-13T20:24:32.837982Z",
     "shell.execute_reply": "2023-08-13T20:24:32.837273Z",
     "shell.execute_reply.started": "2023-08-13T20:24:32.827996Z"
    },
    "tags": []
   },
   "outputs": [
    {
     "data": {
      "text/html": [
       "<div>\n",
       "<style scoped>\n",
       "    .dataframe tbody tr th:only-of-type {\n",
       "        vertical-align: middle;\n",
       "    }\n",
       "\n",
       "    .dataframe tbody tr th {\n",
       "        vertical-align: top;\n",
       "    }\n",
       "\n",
       "    .dataframe thead th {\n",
       "        text-align: right;\n",
       "    }\n",
       "</style>\n",
       "<table border=\"1\" class=\"dataframe\">\n",
       "  <thead>\n",
       "    <tr style=\"text-align: right;\">\n",
       "      <th></th>\n",
       "      <th>probs</th>\n",
       "    </tr>\n",
       "  </thead>\n",
       "  <tbody>\n",
       "    <tr>\n",
       "      <th>6</th>\n",
       "      <td>0.000000</td>\n",
       "    </tr>\n",
       "    <tr>\n",
       "      <th>8</th>\n",
       "      <td>0.692308</td>\n",
       "    </tr>\n",
       "    <tr>\n",
       "      <th>12</th>\n",
       "      <td>0.307692</td>\n",
       "    </tr>\n",
       "  </tbody>\n",
       "</table>\n",
       "</div>"
      ],
      "text/plain": [
       "6     0.000000\n",
       "8     0.692308\n",
       "12    0.307692\n",
       "Name: , dtype: float64"
      ]
     },
     "execution_count": 41,
     "metadata": {},
     "output_type": "execute_result"
    }
   ],
   "source": [
    "likelihood2 = 0, 1/8, 1/12\n",
    "posterior *= likelihood2\n",
    "posterior.normalize()\n",
    "posterior"
   ]
  },
  {
   "cell_type": "code",
   "execution_count": 42,
   "id": "2bcffb55-0910-447b-b481-a2017c9795f0",
   "metadata": {
    "execution": {
     "iopub.execute_input": "2023-08-13T20:24:32.839495Z",
     "iopub.status.busy": "2023-08-13T20:24:32.839209Z",
     "iopub.status.idle": "2023-08-13T20:24:32.842874Z",
     "shell.execute_reply": "2023-08-13T20:24:32.842091Z",
     "shell.execute_reply.started": "2023-08-13T20:24:32.839467Z"
    },
    "tags": []
   },
   "outputs": [],
   "source": [
    "# Modified Dice Problem"
   ]
  },
  {
   "cell_type": "code",
   "execution_count": 43,
   "id": "1088d8e8-6b37-4e00-924d-4ee18bd3de2f",
   "metadata": {
    "execution": {
     "iopub.execute_input": "2023-08-13T20:24:32.852277Z",
     "iopub.status.busy": "2023-08-13T20:24:32.851681Z",
     "iopub.status.idle": "2023-08-13T20:24:32.855758Z",
     "shell.execute_reply": "2023-08-13T20:24:32.854845Z",
     "shell.execute_reply.started": "2023-08-13T20:24:32.852246Z"
    },
    "tags": []
   },
   "outputs": [],
   "source": [
    "# a function to do the update in previous section"
   ]
  },
  {
   "cell_type": "code",
   "execution_count": 44,
   "id": "26d45031-3d70-4d6c-bc20-41738b0df22b",
   "metadata": {
    "execution": {
     "iopub.execute_input": "2023-08-13T20:24:32.857861Z",
     "iopub.status.busy": "2023-08-13T20:24:32.857254Z",
     "iopub.status.idle": "2023-08-13T20:24:32.862868Z",
     "shell.execute_reply": "2023-08-13T20:24:32.862052Z",
     "shell.execute_reply.started": "2023-08-13T20:24:32.857831Z"
    },
    "tags": []
   },
   "outputs": [],
   "source": [
    "def update_dice(pmf, data):\n",
    "    \"\"\"Update pmf based on new data.\"\"\"\n",
    "    hypos = pmf.qs\n",
    "    likelihood = 1/hypos\n",
    "    impossible = (data > hypos)\n",
    "    likelihood[impossible] = 0\n",
    "    pmf *= likelihood\n",
    "    pmf.normalize()"
   ]
  },
  {
   "cell_type": "code",
   "execution_count": 45,
   "id": "9a08b033-b0ba-439d-82f9-8c966edbca45",
   "metadata": {
    "execution": {
     "iopub.execute_input": "2023-08-13T20:24:32.864939Z",
     "iopub.status.busy": "2023-08-13T20:24:32.864220Z",
     "iopub.status.idle": "2023-08-13T20:24:32.868794Z",
     "shell.execute_reply": "2023-08-13T20:24:32.867846Z",
     "shell.execute_reply.started": "2023-08-13T20:24:32.864907Z"
    },
    "tags": []
   },
   "outputs": [],
   "source": [
    "# here impossible is a boolean series that is true for each impossible outcome.\n",
    "# used as an index into likelihood to set corresponding probablities to 0."
   ]
  },
  {
   "cell_type": "code",
   "execution_count": 46,
   "id": "c8d8f6e1-2573-4fc0-865c-07e59aa2f701",
   "metadata": {
    "execution": {
     "iopub.execute_input": "2023-08-13T20:24:32.870757Z",
     "iopub.status.busy": "2023-08-13T20:24:32.870165Z",
     "iopub.status.idle": "2023-08-13T20:24:32.879117Z",
     "shell.execute_reply": "2023-08-13T20:24:32.878414Z",
     "shell.execute_reply.started": "2023-08-13T20:24:32.870727Z"
    },
    "tags": []
   },
   "outputs": [
    {
     "data": {
      "text/html": [
       "<div>\n",
       "<style scoped>\n",
       "    .dataframe tbody tr th:only-of-type {\n",
       "        vertical-align: middle;\n",
       "    }\n",
       "\n",
       "    .dataframe tbody tr th {\n",
       "        vertical-align: top;\n",
       "    }\n",
       "\n",
       "    .dataframe thead th {\n",
       "        text-align: right;\n",
       "    }\n",
       "</style>\n",
       "<table border=\"1\" class=\"dataframe\">\n",
       "  <thead>\n",
       "    <tr style=\"text-align: right;\">\n",
       "      <th></th>\n",
       "      <th>probs</th>\n",
       "    </tr>\n",
       "  </thead>\n",
       "  <tbody>\n",
       "    <tr>\n",
       "      <th>6</th>\n",
       "      <td>0.333333</td>\n",
       "    </tr>\n",
       "    <tr>\n",
       "      <th>8</th>\n",
       "      <td>0.333333</td>\n",
       "    </tr>\n",
       "    <tr>\n",
       "      <th>12</th>\n",
       "      <td>0.333333</td>\n",
       "    </tr>\n",
       "  </tbody>\n",
       "</table>\n",
       "</div>"
      ],
      "text/plain": [
       "6     0.333333\n",
       "8     0.333333\n",
       "12    0.333333\n",
       "Name: , dtype: float64"
      ]
     },
     "execution_count": 46,
     "metadata": {},
     "output_type": "execute_result"
    }
   ],
   "source": [
    "pmf = prior.copy()\n",
    "pmf"
   ]
  },
  {
   "cell_type": "code",
   "execution_count": 47,
   "id": "6ecb460b-e8d8-4e91-ac51-f57cdb22bc5a",
   "metadata": {
    "execution": {
     "iopub.execute_input": "2023-08-13T20:24:32.881877Z",
     "iopub.status.busy": "2023-08-13T20:24:32.881346Z",
     "iopub.status.idle": "2023-08-13T20:24:32.891247Z",
     "shell.execute_reply": "2023-08-13T20:24:32.890567Z",
     "shell.execute_reply.started": "2023-08-13T20:24:32.881847Z"
    },
    "tags": []
   },
   "outputs": [
    {
     "data": {
      "text/html": [
       "<div>\n",
       "<style scoped>\n",
       "    .dataframe tbody tr th:only-of-type {\n",
       "        vertical-align: middle;\n",
       "    }\n",
       "\n",
       "    .dataframe tbody tr th {\n",
       "        vertical-align: top;\n",
       "    }\n",
       "\n",
       "    .dataframe thead th {\n",
       "        text-align: right;\n",
       "    }\n",
       "</style>\n",
       "<table border=\"1\" class=\"dataframe\">\n",
       "  <thead>\n",
       "    <tr style=\"text-align: right;\">\n",
       "      <th></th>\n",
       "      <th>probs</th>\n",
       "    </tr>\n",
       "  </thead>\n",
       "  <tbody>\n",
       "    <tr>\n",
       "      <th>6</th>\n",
       "      <td>0.000000</td>\n",
       "    </tr>\n",
       "    <tr>\n",
       "      <th>8</th>\n",
       "      <td>0.692308</td>\n",
       "    </tr>\n",
       "    <tr>\n",
       "      <th>12</th>\n",
       "      <td>0.307692</td>\n",
       "    </tr>\n",
       "  </tbody>\n",
       "</table>\n",
       "</div>"
      ],
      "text/plain": [
       "6     0.000000\n",
       "8     0.692308\n",
       "12    0.307692\n",
       "Name: , dtype: float64"
      ]
     },
     "execution_count": 47,
     "metadata": {},
     "output_type": "execute_result"
    }
   ],
   "source": [
    "update_dice(pmf, 1)\n",
    "update_dice(pmf, 7)\n",
    "pmf"
   ]
  },
  {
   "cell_type": "code",
   "execution_count": 48,
   "id": "167d5156-c0a2-4517-9707-dc40ef2b044e",
   "metadata": {
    "execution": {
     "iopub.execute_input": "2023-08-13T20:24:32.894274Z",
     "iopub.status.busy": "2023-08-13T20:24:32.893477Z",
     "iopub.status.idle": "2023-08-13T20:24:32.905114Z",
     "shell.execute_reply": "2023-08-13T20:24:32.904239Z",
     "shell.execute_reply.started": "2023-08-13T20:24:32.894242Z"
    },
    "tags": []
   },
   "outputs": [],
   "source": [
    "# Exercise 3-1\n",
    "# Suppose I have a box with a 6-sided die, an 8-sided die, and a 12-sided die.  I choose one of the dice at random, roll\n",
    "# it four times, and get 1, 3, 5 and 7.  What is the probability that I chose the 8 sided die?\n",
    "# you can use the update_dice function or do it yourself."
   ]
  },
  {
   "cell_type": "code",
   "execution_count": 49,
   "id": "9b5cab51-7b26-41a5-b46c-3243ff66d858",
   "metadata": {
    "execution": {
     "iopub.execute_input": "2023-08-13T20:24:32.906320Z",
     "iopub.status.busy": "2023-08-13T20:24:32.905913Z",
     "iopub.status.idle": "2023-08-13T20:24:32.915440Z",
     "shell.execute_reply": "2023-08-13T20:24:32.914823Z",
     "shell.execute_reply.started": "2023-08-13T20:24:32.906290Z"
    },
    "tags": []
   },
   "outputs": [
    {
     "data": {
      "text/html": [
       "<div>\n",
       "<style scoped>\n",
       "    .dataframe tbody tr th:only-of-type {\n",
       "        vertical-align: middle;\n",
       "    }\n",
       "\n",
       "    .dataframe tbody tr th {\n",
       "        vertical-align: top;\n",
       "    }\n",
       "\n",
       "    .dataframe thead th {\n",
       "        text-align: right;\n",
       "    }\n",
       "</style>\n",
       "<table border=\"1\" class=\"dataframe\">\n",
       "  <thead>\n",
       "    <tr style=\"text-align: right;\">\n",
       "      <th></th>\n",
       "      <th>probs</th>\n",
       "    </tr>\n",
       "  </thead>\n",
       "  <tbody>\n",
       "    <tr>\n",
       "      <th>6</th>\n",
       "      <td>0.333333</td>\n",
       "    </tr>\n",
       "    <tr>\n",
       "      <th>8</th>\n",
       "      <td>0.333333</td>\n",
       "    </tr>\n",
       "    <tr>\n",
       "      <th>12</th>\n",
       "      <td>0.333333</td>\n",
       "    </tr>\n",
       "  </tbody>\n",
       "</table>\n",
       "</div>"
      ],
      "text/plain": [
       "6     0.333333\n",
       "8     0.333333\n",
       "12    0.333333\n",
       "Name: , dtype: float64"
      ]
     },
     "execution_count": 49,
     "metadata": {},
     "output_type": "execute_result"
    }
   ],
   "source": [
    "hypos = [6, 8, 12]\n",
    "prior = Pmf(1/3, hypos)\n",
    "prior"
   ]
  },
  {
   "cell_type": "code",
   "execution_count": null,
   "id": "0afccda9-76d8-41ce-b64a-9da38d0d69a6",
   "metadata": {},
   "outputs": [],
   "source": []
  },
  {
   "cell_type": "code",
   "execution_count": 50,
   "id": "f6519e43-7c58-4864-b618-f400b564f459",
   "metadata": {
    "execution": {
     "iopub.execute_input": "2023-08-13T20:24:32.917038Z",
     "iopub.status.busy": "2023-08-13T20:24:32.916319Z",
     "iopub.status.idle": "2023-08-13T20:24:32.926799Z",
     "shell.execute_reply": "2023-08-13T20:24:32.926074Z",
     "shell.execute_reply.started": "2023-08-13T20:24:32.917006Z"
    },
    "tags": []
   },
   "outputs": [
    {
     "data": {
      "text/html": [
       "<div>\n",
       "<style scoped>\n",
       "    .dataframe tbody tr th:only-of-type {\n",
       "        vertical-align: middle;\n",
       "    }\n",
       "\n",
       "    .dataframe tbody tr th {\n",
       "        vertical-align: top;\n",
       "    }\n",
       "\n",
       "    .dataframe thead th {\n",
       "        text-align: right;\n",
       "    }\n",
       "</style>\n",
       "<table border=\"1\" class=\"dataframe\">\n",
       "  <thead>\n",
       "    <tr style=\"text-align: right;\">\n",
       "      <th></th>\n",
       "      <th>probs</th>\n",
       "    </tr>\n",
       "  </thead>\n",
       "  <tbody>\n",
       "    <tr>\n",
       "      <th>6</th>\n",
       "      <td>0.444444</td>\n",
       "    </tr>\n",
       "    <tr>\n",
       "      <th>8</th>\n",
       "      <td>0.333333</td>\n",
       "    </tr>\n",
       "    <tr>\n",
       "      <th>12</th>\n",
       "      <td>0.222222</td>\n",
       "    </tr>\n",
       "  </tbody>\n",
       "</table>\n",
       "</div>"
      ],
      "text/plain": [
       "6     0.444444\n",
       "8     0.333333\n",
       "12    0.222222\n",
       "Name: , dtype: float64"
      ]
     },
     "execution_count": 50,
     "metadata": {},
     "output_type": "execute_result"
    }
   ],
   "source": [
    "likelihoodroll1 = 1/6, 1/8, 1/12\n",
    "likelihoodroll2 = 1/6, 1/8, 1/12\n",
    "likelihoodroll3 = 1/6, 1/8, 1/12\n",
    "likelihoodroll4 = 0, 1/8, 1/12\n",
    "\n",
    "posterior = prior * likelihoodroll1\n",
    "posterior.normalize()\n",
    "posterior"
   ]
  },
  {
   "cell_type": "code",
   "execution_count": 51,
   "id": "ac8d7f00-1c00-4fab-9857-9900f2b6d51a",
   "metadata": {
    "execution": {
     "iopub.execute_input": "2023-08-13T20:24:32.928501Z",
     "iopub.status.busy": "2023-08-13T20:24:32.927789Z",
     "iopub.status.idle": "2023-08-13T20:24:32.937982Z",
     "shell.execute_reply": "2023-08-13T20:24:32.937298Z",
     "shell.execute_reply.started": "2023-08-13T20:24:32.928471Z"
    },
    "tags": []
   },
   "outputs": [
    {
     "data": {
      "text/html": [
       "<div>\n",
       "<style scoped>\n",
       "    .dataframe tbody tr th:only-of-type {\n",
       "        vertical-align: middle;\n",
       "    }\n",
       "\n",
       "    .dataframe tbody tr th {\n",
       "        vertical-align: top;\n",
       "    }\n",
       "\n",
       "    .dataframe thead th {\n",
       "        text-align: right;\n",
       "    }\n",
       "</style>\n",
       "<table border=\"1\" class=\"dataframe\">\n",
       "  <thead>\n",
       "    <tr style=\"text-align: right;\">\n",
       "      <th></th>\n",
       "      <th>probs</th>\n",
       "    </tr>\n",
       "  </thead>\n",
       "  <tbody>\n",
       "    <tr>\n",
       "      <th>6</th>\n",
       "      <td>0.551724</td>\n",
       "    </tr>\n",
       "    <tr>\n",
       "      <th>8</th>\n",
       "      <td>0.310345</td>\n",
       "    </tr>\n",
       "    <tr>\n",
       "      <th>12</th>\n",
       "      <td>0.137931</td>\n",
       "    </tr>\n",
       "  </tbody>\n",
       "</table>\n",
       "</div>"
      ],
      "text/plain": [
       "6     0.551724\n",
       "8     0.310345\n",
       "12    0.137931\n",
       "Name: , dtype: float64"
      ]
     },
     "execution_count": 51,
     "metadata": {},
     "output_type": "execute_result"
    }
   ],
   "source": [
    "posterior *= likelihoodroll2\n",
    "posterior.normalize()\n",
    "posterior"
   ]
  },
  {
   "cell_type": "code",
   "execution_count": 52,
   "id": "1e10d130-7d5e-4d90-acda-31814d40daca",
   "metadata": {
    "execution": {
     "iopub.execute_input": "2023-08-13T20:24:32.940756Z",
     "iopub.status.busy": "2023-08-13T20:24:32.940479Z",
     "iopub.status.idle": "2023-08-13T20:24:32.947309Z",
     "shell.execute_reply": "2023-08-13T20:24:32.946690Z",
     "shell.execute_reply.started": "2023-08-13T20:24:32.940737Z"
    },
    "tags": []
   },
   "outputs": [
    {
     "data": {
      "text/html": [
       "<div>\n",
       "<style scoped>\n",
       "    .dataframe tbody tr th:only-of-type {\n",
       "        vertical-align: middle;\n",
       "    }\n",
       "\n",
       "    .dataframe tbody tr th {\n",
       "        vertical-align: top;\n",
       "    }\n",
       "\n",
       "    .dataframe thead th {\n",
       "        text-align: right;\n",
       "    }\n",
       "</style>\n",
       "<table border=\"1\" class=\"dataframe\">\n",
       "  <thead>\n",
       "    <tr style=\"text-align: right;\">\n",
       "      <th></th>\n",
       "      <th>probs</th>\n",
       "    </tr>\n",
       "  </thead>\n",
       "  <tbody>\n",
       "    <tr>\n",
       "      <th>6</th>\n",
       "      <td>0.646465</td>\n",
       "    </tr>\n",
       "    <tr>\n",
       "      <th>8</th>\n",
       "      <td>0.272727</td>\n",
       "    </tr>\n",
       "    <tr>\n",
       "      <th>12</th>\n",
       "      <td>0.080808</td>\n",
       "    </tr>\n",
       "  </tbody>\n",
       "</table>\n",
       "</div>"
      ],
      "text/plain": [
       "6     0.646465\n",
       "8     0.272727\n",
       "12    0.080808\n",
       "Name: , dtype: float64"
      ]
     },
     "execution_count": 52,
     "metadata": {},
     "output_type": "execute_result"
    }
   ],
   "source": [
    "posterior *= likelihoodroll3\n",
    "posterior.normalize()\n",
    "posterior"
   ]
  },
  {
   "cell_type": "code",
   "execution_count": 53,
   "id": "9e5cd236-e93e-464f-a42b-2ef99bdedf17",
   "metadata": {
    "execution": {
     "iopub.execute_input": "2023-08-13T20:24:32.948676Z",
     "iopub.status.busy": "2023-08-13T20:24:32.948237Z",
     "iopub.status.idle": "2023-08-13T20:24:32.960407Z",
     "shell.execute_reply": "2023-08-13T20:24:32.959649Z",
     "shell.execute_reply.started": "2023-08-13T20:24:32.948649Z"
    },
    "tags": []
   },
   "outputs": [
    {
     "data": {
      "text/html": [
       "<div>\n",
       "<style scoped>\n",
       "    .dataframe tbody tr th:only-of-type {\n",
       "        vertical-align: middle;\n",
       "    }\n",
       "\n",
       "    .dataframe tbody tr th {\n",
       "        vertical-align: top;\n",
       "    }\n",
       "\n",
       "    .dataframe thead th {\n",
       "        text-align: right;\n",
       "    }\n",
       "</style>\n",
       "<table border=\"1\" class=\"dataframe\">\n",
       "  <thead>\n",
       "    <tr style=\"text-align: right;\">\n",
       "      <th></th>\n",
       "      <th>probs</th>\n",
       "    </tr>\n",
       "  </thead>\n",
       "  <tbody>\n",
       "    <tr>\n",
       "      <th>6</th>\n",
       "      <td>0.000000</td>\n",
       "    </tr>\n",
       "    <tr>\n",
       "      <th>8</th>\n",
       "      <td>0.835052</td>\n",
       "    </tr>\n",
       "    <tr>\n",
       "      <th>12</th>\n",
       "      <td>0.164948</td>\n",
       "    </tr>\n",
       "  </tbody>\n",
       "</table>\n",
       "</div>"
      ],
      "text/plain": [
       "6     0.000000\n",
       "8     0.835052\n",
       "12    0.164948\n",
       "Name: , dtype: float64"
      ]
     },
     "execution_count": 53,
     "metadata": {},
     "output_type": "execute_result"
    }
   ],
   "source": [
    "posterior *= likelihoodroll4\n",
    "posterior.normalize()\n",
    "posterior"
   ]
  },
  {
   "cell_type": "code",
   "execution_count": 54,
   "id": "d5936639-fd32-49aa-bb87-69a41cddd390",
   "metadata": {
    "execution": {
     "iopub.execute_input": "2023-08-13T20:24:32.961948Z",
     "iopub.status.busy": "2023-08-13T20:24:32.961600Z",
     "iopub.status.idle": "2023-08-13T20:24:32.971652Z",
     "shell.execute_reply": "2023-08-13T20:24:32.970834Z",
     "shell.execute_reply.started": "2023-08-13T20:24:32.961919Z"
    },
    "tags": []
   },
   "outputs": [
    {
     "data": {
      "text/html": [
       "<div>\n",
       "<style scoped>\n",
       "    .dataframe tbody tr th:only-of-type {\n",
       "        vertical-align: middle;\n",
       "    }\n",
       "\n",
       "    .dataframe tbody tr th {\n",
       "        vertical-align: top;\n",
       "    }\n",
       "\n",
       "    .dataframe thead th {\n",
       "        text-align: right;\n",
       "    }\n",
       "</style>\n",
       "<table border=\"1\" class=\"dataframe\">\n",
       "  <thead>\n",
       "    <tr style=\"text-align: right;\">\n",
       "      <th></th>\n",
       "      <th>probs</th>\n",
       "    </tr>\n",
       "  </thead>\n",
       "  <tbody>\n",
       "    <tr>\n",
       "      <th>6</th>\n",
       "      <td>0.000000</td>\n",
       "    </tr>\n",
       "    <tr>\n",
       "      <th>8</th>\n",
       "      <td>0.835052</td>\n",
       "    </tr>\n",
       "    <tr>\n",
       "      <th>12</th>\n",
       "      <td>0.164948</td>\n",
       "    </tr>\n",
       "  </tbody>\n",
       "</table>\n",
       "</div>"
      ],
      "text/plain": [
       "6     0.000000\n",
       "8     0.835052\n",
       "12    0.164948\n",
       "Name: , dtype: float64"
      ]
     },
     "execution_count": 54,
     "metadata": {},
     "output_type": "execute_result"
    }
   ],
   "source": [
    "pmf = prior.copy()\n",
    "update_dice (pmf, 1)\n",
    "update_dice (pmf, 3)\n",
    "update_dice (pmf, 5)\n",
    "update_dice (pmf, 7)\n",
    "pmf"
   ]
  },
  {
   "cell_type": "code",
   "execution_count": 55,
   "id": "d6a023b8-3ca3-46ec-ac99-227a90ec6eb3",
   "metadata": {
    "execution": {
     "iopub.execute_input": "2023-08-13T20:24:32.973318Z",
     "iopub.status.busy": "2023-08-13T20:24:32.973023Z",
     "iopub.status.idle": "2023-08-13T20:24:32.979061Z",
     "shell.execute_reply": "2023-08-13T20:24:32.978272Z",
     "shell.execute_reply.started": "2023-08-13T20:24:32.973289Z"
    },
    "tags": []
   },
   "outputs": [],
   "source": [
    "# Exercise 3-2\n",
    "# In the previous version of the dice problem, the prior probabilities are the same because the box \n",
    "# contains one of each die.  But suppose the box contains 1 die that is 4-sided, \n",
    "# 2 dice that are 6-sided, 3 dice that are 8-sided, 4 dice that are 12-sided, and \n",
    "# 5 dice that are 20-sided.  I choose a die, roll it, and get a 7.  What is the probability that I chose\n",
    "# an 8-sided die?\n",
    "# Hint: To make the prior distribution, call Pmf with two parameters.\n",
    "# https://greenteapress.com/thinkstats/Pmf.html\n",
    "\n",
    "# There is no satisfactory documentation for Pmf.  I have no idea how else I can use it or how it behaves\n",
    "# if passed more arguments and that is deeper into the coding than I want to go. I'm an engineer not a developer"
   ]
  },
  {
   "cell_type": "code",
   "execution_count": 56,
   "id": "635b8d92-1f43-41e5-8831-dce4cf64bf24",
   "metadata": {
    "execution": {
     "iopub.execute_input": "2023-08-13T20:24:32.981055Z",
     "iopub.status.busy": "2023-08-13T20:24:32.980655Z",
     "iopub.status.idle": "2023-08-13T20:24:32.987643Z",
     "shell.execute_reply": "2023-08-13T20:24:32.986909Z",
     "shell.execute_reply.started": "2023-08-13T20:24:32.981024Z"
    },
    "tags": []
   },
   "outputs": [
    {
     "data": {
      "text/plain": [
       "15"
      ]
     },
     "execution_count": 56,
     "metadata": {},
     "output_type": "execute_result"
    }
   ],
   "source": [
    "sum(range(1, 6))"
   ]
  },
  {
   "cell_type": "code",
   "execution_count": 57,
   "id": "440a9846-0990-403c-a310-d7908ba130c4",
   "metadata": {
    "execution": {
     "iopub.execute_input": "2023-08-13T20:24:32.989389Z",
     "iopub.status.busy": "2023-08-13T20:24:32.989086Z",
     "iopub.status.idle": "2023-08-13T20:24:32.993883Z",
     "shell.execute_reply": "2023-08-13T20:24:32.993155Z",
     "shell.execute_reply.started": "2023-08-13T20:24:32.989362Z"
    },
    "tags": []
   },
   "outputs": [
    {
     "data": {
      "text/plain": [
       "[]"
      ]
     },
     "execution_count": 57,
     "metadata": {},
     "output_type": "execute_result"
    }
   ],
   "source": [
    "hypos = []\n",
    "hypos"
   ]
  },
  {
   "cell_type": "code",
   "execution_count": 58,
   "id": "70f59b00-9a43-4e3e-a83c-568d998853c5",
   "metadata": {
    "execution": {
     "iopub.execute_input": "2023-08-13T20:24:32.995727Z",
     "iopub.status.busy": "2023-08-13T20:24:32.995286Z",
     "iopub.status.idle": "2023-08-13T20:24:33.007063Z",
     "shell.execute_reply": "2023-08-13T20:24:33.006308Z",
     "shell.execute_reply.started": "2023-08-13T20:24:32.995699Z"
    },
    "tags": []
   },
   "outputs": [
    {
     "name": "stdout",
     "output_type": "stream",
     "text": [
      "[4, 6, 6, 8, 8, 8, 12, 12, 12, 12, 20, 20, 20, 20, 20]\n"
     ]
    },
    {
     "data": {
      "text/plain": [
       "15"
      ]
     },
     "execution_count": 58,
     "metadata": {},
     "output_type": "execute_result"
    }
   ],
   "source": [
    "sides = [4,6,8,12,20] \n",
    "def hypos_list(n,sides):\n",
    "    for x in sides:\n",
    "        hypos.extend([x]*n)\n",
    "        n += 1\n",
    "    print (hypos)\n",
    "    return hypos;\n",
    "\n",
    "hypos_list(1, sides)\n",
    "len(hypos)"
   ]
  },
  {
   "cell_type": "code",
   "execution_count": 59,
   "id": "31a73cf0-7abc-4761-a72b-cb0a59a55bb5",
   "metadata": {
    "execution": {
     "iopub.execute_input": "2023-08-13T20:24:33.008650Z",
     "iopub.status.busy": "2023-08-13T20:24:33.008043Z",
     "iopub.status.idle": "2023-08-13T20:24:33.018100Z",
     "shell.execute_reply": "2023-08-13T20:24:33.016947Z",
     "shell.execute_reply.started": "2023-08-13T20:24:33.008597Z"
    },
    "tags": []
   },
   "outputs": [
    {
     "data": {
      "text/html": [
       "<div>\n",
       "<style scoped>\n",
       "    .dataframe tbody tr th:only-of-type {\n",
       "        vertical-align: middle;\n",
       "    }\n",
       "\n",
       "    .dataframe tbody tr th {\n",
       "        vertical-align: top;\n",
       "    }\n",
       "\n",
       "    .dataframe thead th {\n",
       "        text-align: right;\n",
       "    }\n",
       "</style>\n",
       "<table border=\"1\" class=\"dataframe\">\n",
       "  <thead>\n",
       "    <tr style=\"text-align: right;\">\n",
       "      <th></th>\n",
       "      <th>probs</th>\n",
       "    </tr>\n",
       "  </thead>\n",
       "  <tbody>\n",
       "    <tr>\n",
       "      <th>4</th>\n",
       "      <td>0.033333</td>\n",
       "    </tr>\n",
       "    <tr>\n",
       "      <th>6</th>\n",
       "      <td>0.033333</td>\n",
       "    </tr>\n",
       "    <tr>\n",
       "      <th>6</th>\n",
       "      <td>0.033333</td>\n",
       "    </tr>\n",
       "    <tr>\n",
       "      <th>8</th>\n",
       "      <td>0.033333</td>\n",
       "    </tr>\n",
       "    <tr>\n",
       "      <th>8</th>\n",
       "      <td>0.033333</td>\n",
       "    </tr>\n",
       "    <tr>\n",
       "      <th>8</th>\n",
       "      <td>0.033333</td>\n",
       "    </tr>\n",
       "    <tr>\n",
       "      <th>12</th>\n",
       "      <td>0.033333</td>\n",
       "    </tr>\n",
       "    <tr>\n",
       "      <th>12</th>\n",
       "      <td>0.033333</td>\n",
       "    </tr>\n",
       "    <tr>\n",
       "      <th>12</th>\n",
       "      <td>0.033333</td>\n",
       "    </tr>\n",
       "    <tr>\n",
       "      <th>12</th>\n",
       "      <td>0.033333</td>\n",
       "    </tr>\n",
       "    <tr>\n",
       "      <th>20</th>\n",
       "      <td>0.033333</td>\n",
       "    </tr>\n",
       "    <tr>\n",
       "      <th>20</th>\n",
       "      <td>0.033333</td>\n",
       "    </tr>\n",
       "    <tr>\n",
       "      <th>20</th>\n",
       "      <td>0.033333</td>\n",
       "    </tr>\n",
       "    <tr>\n",
       "      <th>20</th>\n",
       "      <td>0.033333</td>\n",
       "    </tr>\n",
       "    <tr>\n",
       "      <th>20</th>\n",
       "      <td>0.033333</td>\n",
       "    </tr>\n",
       "  </tbody>\n",
       "</table>\n",
       "</div>"
      ],
      "text/plain": [
       "4     0.033333\n",
       "6     0.033333\n",
       "6     0.033333\n",
       "8     0.033333\n",
       "8     0.033333\n",
       "8     0.033333\n",
       "12    0.033333\n",
       "12    0.033333\n",
       "12    0.033333\n",
       "12    0.033333\n",
       "20    0.033333\n",
       "20    0.033333\n",
       "20    0.033333\n",
       "20    0.033333\n",
       "20    0.033333\n",
       "Name: , dtype: float64"
      ]
     },
     "execution_count": 59,
     "metadata": {},
     "output_type": "execute_result"
    }
   ],
   "source": [
    "prior = Pmf(1/30, hypos)\n",
    "prior"
   ]
  },
  {
   "cell_type": "code",
   "execution_count": 60,
   "id": "15f32988-0290-4271-9d69-6e23a9603067",
   "metadata": {
    "execution": {
     "iopub.execute_input": "2023-08-13T20:24:33.020516Z",
     "iopub.status.busy": "2023-08-13T20:24:33.019496Z",
     "iopub.status.idle": "2023-08-13T20:24:33.034486Z",
     "shell.execute_reply": "2023-08-13T20:24:33.033540Z",
     "shell.execute_reply.started": "2023-08-13T20:24:33.020484Z"
    },
    "tags": []
   },
   "outputs": [
    {
     "name": "stdout",
     "output_type": "stream",
     "text": [
      "[0.25, 0.16666666666666666, 0.16666666666666666, 0.125, 0.125, 0.125, 0.08333333333333333, 0.08333333333333333, 0.08333333333333333, 0.08333333333333333, 0.05, 0.05, 0.05, 0.05, 0.05]\n"
     ]
    },
    {
     "data": {
      "text/plain": [
       "15"
      ]
     },
     "execution_count": 60,
     "metadata": {},
     "output_type": "execute_result"
    }
   ],
   "source": [
    "likelies = [1/4,1/6,1/8,1/12,1/20] \n",
    "newlist = []\n",
    "def likely_list(n,likelies):\n",
    "    for x in likelies:\n",
    "        newlist.extend([x]*n)\n",
    "        n += 1\n",
    "    print (newlist)\n",
    "    return newlist;\n",
    "\n",
    "likely_list(1, likelies)\n",
    "len (newlist)\n",
    "\n"
   ]
  },
  {
   "cell_type": "code",
   "execution_count": 61,
   "id": "6949642a-89d1-47f8-8dd7-0472bad7bdaf",
   "metadata": {
    "execution": {
     "iopub.execute_input": "2023-08-13T20:24:33.035884Z",
     "iopub.status.busy": "2023-08-13T20:24:33.035556Z",
     "iopub.status.idle": "2023-08-13T20:24:33.052383Z",
     "shell.execute_reply": "2023-08-13T20:24:33.051806Z",
     "shell.execute_reply.started": "2023-08-13T20:24:33.035856Z"
    },
    "tags": []
   },
   "outputs": [
    {
     "data": {
      "text/html": [
       "<div>\n",
       "<style scoped>\n",
       "    .dataframe tbody tr th:only-of-type {\n",
       "        vertical-align: middle;\n",
       "    }\n",
       "\n",
       "    .dataframe tbody tr th {\n",
       "        vertical-align: top;\n",
       "    }\n",
       "\n",
       "    .dataframe thead th {\n",
       "        text-align: right;\n",
       "    }\n",
       "</style>\n",
       "<table border=\"1\" class=\"dataframe\">\n",
       "  <thead>\n",
       "    <tr style=\"text-align: right;\">\n",
       "      <th></th>\n",
       "      <th>probs</th>\n",
       "    </tr>\n",
       "  </thead>\n",
       "  <tbody>\n",
       "    <tr>\n",
       "      <th>4</th>\n",
       "      <td>0.162162</td>\n",
       "    </tr>\n",
       "    <tr>\n",
       "      <th>6</th>\n",
       "      <td>0.108108</td>\n",
       "    </tr>\n",
       "    <tr>\n",
       "      <th>6</th>\n",
       "      <td>0.108108</td>\n",
       "    </tr>\n",
       "    <tr>\n",
       "      <th>8</th>\n",
       "      <td>0.081081</td>\n",
       "    </tr>\n",
       "    <tr>\n",
       "      <th>8</th>\n",
       "      <td>0.081081</td>\n",
       "    </tr>\n",
       "    <tr>\n",
       "      <th>8</th>\n",
       "      <td>0.081081</td>\n",
       "    </tr>\n",
       "    <tr>\n",
       "      <th>12</th>\n",
       "      <td>0.054054</td>\n",
       "    </tr>\n",
       "    <tr>\n",
       "      <th>12</th>\n",
       "      <td>0.054054</td>\n",
       "    </tr>\n",
       "    <tr>\n",
       "      <th>12</th>\n",
       "      <td>0.054054</td>\n",
       "    </tr>\n",
       "    <tr>\n",
       "      <th>12</th>\n",
       "      <td>0.054054</td>\n",
       "    </tr>\n",
       "    <tr>\n",
       "      <th>20</th>\n",
       "      <td>0.032432</td>\n",
       "    </tr>\n",
       "    <tr>\n",
       "      <th>20</th>\n",
       "      <td>0.032432</td>\n",
       "    </tr>\n",
       "    <tr>\n",
       "      <th>20</th>\n",
       "      <td>0.032432</td>\n",
       "    </tr>\n",
       "    <tr>\n",
       "      <th>20</th>\n",
       "      <td>0.032432</td>\n",
       "    </tr>\n",
       "    <tr>\n",
       "      <th>20</th>\n",
       "      <td>0.032432</td>\n",
       "    </tr>\n",
       "  </tbody>\n",
       "</table>\n",
       "</div>"
      ],
      "text/plain": [
       "4     0.162162\n",
       "6     0.108108\n",
       "6     0.108108\n",
       "8     0.081081\n",
       "8     0.081081\n",
       "8     0.081081\n",
       "12    0.054054\n",
       "12    0.054054\n",
       "12    0.054054\n",
       "12    0.054054\n",
       "20    0.032432\n",
       "20    0.032432\n",
       "20    0.032432\n",
       "20    0.032432\n",
       "20    0.032432\n",
       "Name: , dtype: float64"
      ]
     },
     "execution_count": 61,
     "metadata": {},
     "output_type": "execute_result"
    }
   ],
   "source": [
    "posterior = prior * newlist\n",
    "posterior.normalize()\n",
    "posterior"
   ]
  },
  {
   "cell_type": "code",
   "execution_count": 62,
   "id": "45e7f8fa-ad32-46d5-b399-e3a0d5fe9865",
   "metadata": {
    "execution": {
     "iopub.execute_input": "2023-08-13T20:24:33.054970Z",
     "iopub.status.busy": "2023-08-13T20:24:33.054726Z",
     "iopub.status.idle": "2023-08-13T20:24:33.058582Z",
     "shell.execute_reply": "2023-08-13T20:24:33.057815Z",
     "shell.execute_reply.started": "2023-08-13T20:24:33.054952Z"
    },
    "tags": []
   },
   "outputs": [
    {
     "name": "stdout",
     "output_type": "stream",
     "text": [
      "0.243243\n"
     ]
    }
   ],
   "source": [
    "# Each six sided day has a normalized probability of 0.081081, so the sum of the three \n",
    "print(0.081081 * 3)"
   ]
  },
  {
   "cell_type": "code",
   "execution_count": 63,
   "id": "210fc885-855f-4001-8af7-5003d70fedc9",
   "metadata": {
    "execution": {
     "iopub.execute_input": "2023-08-13T20:24:33.060359Z",
     "iopub.status.busy": "2023-08-13T20:24:33.059962Z",
     "iopub.status.idle": "2023-08-13T20:24:33.068509Z",
     "shell.execute_reply": "2023-08-13T20:24:33.066254Z",
     "shell.execute_reply.started": "2023-08-13T20:24:33.060329Z"
    },
    "tags": []
   },
   "outputs": [
    {
     "data": {
      "text/plain": [
       "1.0000000000000004"
      ]
     },
     "execution_count": 63,
     "metadata": {},
     "output_type": "execute_result"
    }
   ],
   "source": [
    "# Should be one\n",
    "posterior.sum()"
   ]
  },
  {
   "cell_type": "code",
   "execution_count": 64,
   "id": "29a72f7f-20b9-4c1a-bd27-0de6702eafa6",
   "metadata": {
    "execution": {
     "iopub.execute_input": "2023-08-13T20:24:33.070018Z",
     "iopub.status.busy": "2023-08-13T20:24:33.069734Z",
     "iopub.status.idle": "2023-08-13T20:24:33.075768Z",
     "shell.execute_reply": "2023-08-13T20:24:33.074878Z",
     "shell.execute_reply.started": "2023-08-13T20:24:33.069990Z"
    }
   },
   "outputs": [],
   "source": [
    "# Exercise 3-3\n",
    "# Suppose I have two sock drawers.  One contains equal numbers of black and white socks.  The other contains\n",
    "# equal numbers of red, green, and blue socks.  Suppose I choose a drawer at random, choose two socks at random\n",
    "# and I tell you that I got a matching pair.  What is the probability that the socks are white?\n",
    "\n",
    "# you need to let them know that I may not be impressive enough for anyone to hire as an engineer.  I haven't\n",
    "# done the engineering in years.  I have been planning and managing.  But I absolutely am an engineer, \n",
    "# not pretending.\n",
    "\n",
    "#Why do you think I look so unreal and so unprepared... because they told everone I was a pyscho who\n",
    "# attacked LGBTQ people. Completely untrue and no one will hire me.  It isn't my job to show you what\n",
    "# this is like.  I am actually an intelligence student from the Defense Intel Agency.  Yes I managed the \n",
    "# automated Intelligence Contingency Funds Voucher Processing System project.  The contracting company\n",
    "# has their own TPM.  I didn't have to know how to develop.  I DID work to ensure user requirements were \n",
    "# written.  "
   ]
  },
  {
   "cell_type": "code",
   "execution_count": 65,
   "id": "4b82cf73-308f-4369-9d0c-1bab548e3d6e",
   "metadata": {
    "execution": {
     "iopub.execute_input": "2023-08-13T20:24:33.077649Z",
     "iopub.status.busy": "2023-08-13T20:24:33.077274Z",
     "iopub.status.idle": "2023-08-13T20:24:33.082958Z",
     "shell.execute_reply": "2023-08-13T20:24:33.081400Z",
     "shell.execute_reply.started": "2023-08-13T20:24:33.077620Z"
    },
    "tags": []
   },
   "outputs": [],
   "source": [
    "# What is the probability the two socks are white?\n",
    "# two socks are chosen from a drawer\n",
    "# data (two white socks chosen)\n",
    "# 50% chance of BW drawer chosen\n",
    "# 33% chance that you will pick a white sock from a drawer of three colors.  Also assuming\n",
    "# number of socks so great the non-replacement does not change the probs\n",
    "# hypotheses:\n",
    "# hypo 1) white sock selected, white sock chosen, probability = (1/2)*(1/3) + 0\n",
    "# hypo 3) non-white sock selected, probability is ((1/2)*1)+((1/2)*2/3)\n"
   ]
  },
  {
   "cell_type": "code",
   "execution_count": 103,
   "id": "16e6c8b3-442f-4a51-b254-9dc86194a741",
   "metadata": {
    "execution": {
     "iopub.execute_input": "2023-08-14T01:04:20.135414Z",
     "iopub.status.busy": "2023-08-14T01:04:20.134943Z",
     "iopub.status.idle": "2023-08-14T01:04:20.147636Z",
     "shell.execute_reply": "2023-08-14T01:04:20.147052Z",
     "shell.execute_reply.started": "2023-08-14T01:04:20.135384Z"
    },
    "tags": []
   },
   "outputs": [
    {
     "data": {
      "text/html": [
       "<div>\n",
       "<style scoped>\n",
       "    .dataframe tbody tr th:only-of-type {\n",
       "        vertical-align: middle;\n",
       "    }\n",
       "\n",
       "    .dataframe tbody tr th {\n",
       "        vertical-align: top;\n",
       "    }\n",
       "\n",
       "    .dataframe thead th {\n",
       "        text-align: right;\n",
       "    }\n",
       "</style>\n",
       "<table border=\"1\" class=\"dataframe\">\n",
       "  <thead>\n",
       "    <tr style=\"text-align: right;\">\n",
       "      <th></th>\n",
       "      <th>probs</th>\n",
       "    </tr>\n",
       "  </thead>\n",
       "  <tbody>\n",
       "    <tr>\n",
       "      <th>white</th>\n",
       "      <td>0.166667</td>\n",
       "    </tr>\n",
       "    <tr>\n",
       "      <th>non-white</th>\n",
       "      <td>0.833333</td>\n",
       "    </tr>\n",
       "  </tbody>\n",
       "</table>\n",
       "</div>"
      ],
      "text/plain": [
       "              probs\n",
       "white      0.166667\n",
       "non-white  0.833333"
      ]
     },
     "execution_count": 103,
     "metadata": {},
     "output_type": "execute_result"
    }
   ],
   "source": [
    "from fractions import Fraction\n",
    "\n",
    "def update(table):\n",
    "    table['unnorm'] = table['prior']*table['likelihood']\n",
    "    prob_data = table['unnorm'].sum()\n",
    "    table['posterior'] = table['unnorm'] / prob_data\n",
    "    return prob_data\n",
    "\n",
    "socktable = pd.DataFrame(index = ['white', 'non-white'])\n",
    "socktable['probs'] = [1/6, 5/6]\n",
    "socktable"
   ]
  },
  {
   "cell_type": "code",
   "execution_count": 104,
   "id": "04f0305e-2005-49ba-9dd5-0e563f3e2a9b",
   "metadata": {
    "execution": {
     "iopub.execute_input": "2023-08-14T01:04:27.506973Z",
     "iopub.status.busy": "2023-08-14T01:04:27.506589Z",
     "iopub.status.idle": "2023-08-14T01:04:27.516710Z",
     "shell.execute_reply": "2023-08-14T01:04:27.515700Z",
     "shell.execute_reply.started": "2023-08-14T01:04:27.506938Z"
    },
    "tags": []
   },
   "outputs": [
    {
     "data": {
      "text/html": [
       "<div>\n",
       "<style scoped>\n",
       "    .dataframe tbody tr th:only-of-type {\n",
       "        vertical-align: middle;\n",
       "    }\n",
       "\n",
       "    .dataframe tbody tr th {\n",
       "        vertical-align: top;\n",
       "    }\n",
       "\n",
       "    .dataframe thead th {\n",
       "        text-align: right;\n",
       "    }\n",
       "</style>\n",
       "<table border=\"1\" class=\"dataframe\">\n",
       "  <thead>\n",
       "    <tr style=\"text-align: right;\">\n",
       "      <th></th>\n",
       "      <th>probs</th>\n",
       "    </tr>\n",
       "  </thead>\n",
       "  <tbody>\n",
       "    <tr>\n",
       "      <th>white</th>\n",
       "      <td>0.083333</td>\n",
       "    </tr>\n",
       "    <tr>\n",
       "      <th>non-white</th>\n",
       "      <td>0.000000</td>\n",
       "    </tr>\n",
       "  </tbody>\n",
       "</table>\n",
       "</div>"
      ],
      "text/plain": [
       "              probs\n",
       "white      0.083333\n",
       "non-white  0.000000"
      ]
     },
     "execution_count": 104,
     "metadata": {},
     "output_type": "execute_result"
    }
   ],
   "source": [
    "# The probability that the first sock chosen was white is about 17%.  This is normalized as both\n",
    "# add to 1. The probability that the second sock is also white is \n",
    "\n",
    "likelihoods = [0.5, 0]\n",
    "socktable['probs'] = socktable['probs']*likelihoods\n",
    "socktable"
   ]
  },
  {
   "cell_type": "code",
   "execution_count": null,
   "id": "2d28c891-fcea-45ca-ab23-fad82fdc98de",
   "metadata": {},
   "outputs": [],
   "source": [
    "# The probability that you will draw two white socks is 8%.\n",
    "# The probability that the second sock is white, given the first is white is 100%"
   ]
  },
  {
   "cell_type": "code",
   "execution_count": 70,
   "id": "909d1083-57e4-47b3-ab7f-d6633c627c98",
   "metadata": {
    "execution": {
     "iopub.execute_input": "2023-08-13T20:24:33.125976Z",
     "iopub.status.busy": "2023-08-13T20:24:33.125691Z",
     "iopub.status.idle": "2023-08-13T20:24:33.129159Z",
     "shell.execute_reply": "2023-08-13T20:24:33.128378Z",
     "shell.execute_reply.started": "2023-08-13T20:24:33.125948Z"
    }
   },
   "outputs": [],
   "source": [
    "# Exercise 3-4\n",
    "# Here's a problem from Bayesian Data Analysis\n",
    "# Elvis Presley had a twin brother (who died at birth)\n",
    "# What is the probability that Elvis had an identical twin? \n",
    "# Hint: In 1935, about 2/3 of twins were fraternal and 1/3 were identical\n",
    "\n",
    "# from book, approx 1/125 of all births are fraternal twins 1/300 births are identical twins.  \n",
    "# approximate the probability of a boy or girl birth as 1/2."
   ]
  },
  {
   "cell_type": "code",
   "execution_count": 87,
   "id": "d154b2ee-7dbf-438d-ba9a-5edbb48635e6",
   "metadata": {
    "execution": {
     "iopub.execute_input": "2023-08-14T00:26:33.971910Z",
     "iopub.status.busy": "2023-08-14T00:26:33.971542Z",
     "iopub.status.idle": "2023-08-14T00:26:33.988397Z",
     "shell.execute_reply": "2023-08-14T00:26:33.987572Z",
     "shell.execute_reply.started": "2023-08-14T00:26:33.971884Z"
    },
    "tags": []
   },
   "outputs": [
    {
     "data": {
      "text/html": [
       "<div>\n",
       "<style scoped>\n",
       "    .dataframe tbody tr th:only-of-type {\n",
       "        vertical-align: middle;\n",
       "    }\n",
       "\n",
       "    .dataframe tbody tr th {\n",
       "        vertical-align: top;\n",
       "    }\n",
       "\n",
       "    .dataframe thead th {\n",
       "        text-align: right;\n",
       "    }\n",
       "</style>\n",
       "<table border=\"1\" class=\"dataframe\">\n",
       "  <thead>\n",
       "    <tr style=\"text-align: right;\">\n",
       "      <th></th>\n",
       "      <th>prior</th>\n",
       "      <th>likelihood</th>\n",
       "      <th>unnorm</th>\n",
       "      <th>posterior</th>\n",
       "    </tr>\n",
       "  </thead>\n",
       "  <tbody>\n",
       "    <tr>\n",
       "      <th>fraternal brother</th>\n",
       "      <td>0.008000</td>\n",
       "      <td>0.5</td>\n",
       "      <td>0.004000</td>\n",
       "      <td>0.545455</td>\n",
       "    </tr>\n",
       "    <tr>\n",
       "      <th>identical brother</th>\n",
       "      <td>0.003333</td>\n",
       "      <td>1.0</td>\n",
       "      <td>0.003333</td>\n",
       "      <td>0.454545</td>\n",
       "    </tr>\n",
       "    <tr>\n",
       "      <th>fraternal sister</th>\n",
       "      <td>0.008000</td>\n",
       "      <td>0.0</td>\n",
       "      <td>0.000000</td>\n",
       "      <td>0.000000</td>\n",
       "    </tr>\n",
       "    <tr>\n",
       "      <th>identical sister</th>\n",
       "      <td>0.003333</td>\n",
       "      <td>0.0</td>\n",
       "      <td>0.000000</td>\n",
       "      <td>0.000000</td>\n",
       "    </tr>\n",
       "  </tbody>\n",
       "</table>\n",
       "</div>"
      ],
      "text/plain": [
       "                      prior  likelihood    unnorm  posterior\n",
       "fraternal brother  0.008000         0.5  0.004000   0.545455\n",
       "identical brother  0.003333         1.0  0.003333   0.454545\n",
       "fraternal sister   0.008000         0.0  0.000000   0.000000\n",
       "identical sister   0.003333         0.0  0.000000   0.000000"
      ]
     },
     "execution_count": 87,
     "metadata": {},
     "output_type": "execute_result"
    }
   ],
   "source": [
    "# Elvis is male and was a twin. Identical twins have the same sex\n",
    "# Probability of data (Elvis is male and had twin brother), given hypothesis\n",
    "\n",
    "# hypo 1) Elvis had a fraternal twin brother, prob is (1/125) * (1/2)\n",
    "# hypo 2) Elvis was an identical twin brother, prob is (1/300)*1\n",
    "# hypo 3) Elvis had a fraternal twin sister, prob is (1/125)*(1/2)\n",
    "# hypo 4) Elvis had an identical twin sister, prob is zero because elvis is male\n",
    "\n",
    "from fractions import Fraction\n",
    "\n",
    "def update(table):\n",
    "    table['unnorm'] = table['prior']*table['likelihood']\n",
    "    prob_data = table['unnorm'].sum()\n",
    "    table['posterior'] = table['unnorm'] / prob_data\n",
    "    return prob_data\n",
    "\n",
    "table = pd.DataFrame(index = ['fraternal brother', 'identical brother', 'fraternal sister',\n",
    "                             'identical sister'])\n",
    "table['prior'] = [1/125, 1/300, 1/125, 1/300] # this isn't correct because they are not equally likely\n",
    "table['likelihood'] = [1/2, 1, 0, 0]\n",
    "update(table)\n",
    "table\n",
    "\n",
    "# See reference.\n",
    "# https://math.stackexchange.com/questions/3682903/elvis-twin-brother-statistics-problem"
   ]
  },
  {
   "cell_type": "code",
   "execution_count": 91,
   "id": "b0b495f8-2243-4fe8-bf16-2dc00c77a1e0",
   "metadata": {
    "execution": {
     "iopub.execute_input": "2023-08-14T00:28:28.885764Z",
     "iopub.status.busy": "2023-08-14T00:28:28.885393Z",
     "iopub.status.idle": "2023-08-14T00:28:28.898479Z",
     "shell.execute_reply": "2023-08-14T00:28:28.897680Z",
     "shell.execute_reply.started": "2023-08-14T00:28:28.885738Z"
    },
    "tags": []
   },
   "outputs": [
    {
     "data": {
      "text/html": [
       "<div>\n",
       "<style scoped>\n",
       "    .dataframe tbody tr th:only-of-type {\n",
       "        vertical-align: middle;\n",
       "    }\n",
       "\n",
       "    .dataframe tbody tr th {\n",
       "        vertical-align: top;\n",
       "    }\n",
       "\n",
       "    .dataframe thead th {\n",
       "        text-align: right;\n",
       "    }\n",
       "</style>\n",
       "<table border=\"1\" class=\"dataframe\">\n",
       "  <thead>\n",
       "    <tr style=\"text-align: right;\">\n",
       "      <th></th>\n",
       "      <th>prior</th>\n",
       "      <th>likelihood</th>\n",
       "      <th>unnorm</th>\n",
       "      <th>posterior</th>\n",
       "    </tr>\n",
       "  </thead>\n",
       "  <tbody>\n",
       "    <tr>\n",
       "      <th>fraternal brother</th>\n",
       "      <td>0.008000</td>\n",
       "      <td>0.5</td>\n",
       "      <td>0.004000</td>\n",
       "      <td>0.352941</td>\n",
       "    </tr>\n",
       "    <tr>\n",
       "      <th>identical brother</th>\n",
       "      <td>0.003333</td>\n",
       "      <td>1.0</td>\n",
       "      <td>0.003333</td>\n",
       "      <td>0.294118</td>\n",
       "    </tr>\n",
       "    <tr>\n",
       "      <th>fraternal sister</th>\n",
       "      <td>0.008000</td>\n",
       "      <td>0.5</td>\n",
       "      <td>0.004000</td>\n",
       "      <td>0.352941</td>\n",
       "    </tr>\n",
       "    <tr>\n",
       "      <th>identical sister</th>\n",
       "      <td>0.003333</td>\n",
       "      <td>0.0</td>\n",
       "      <td>0.000000</td>\n",
       "      <td>0.000000</td>\n",
       "    </tr>\n",
       "  </tbody>\n",
       "</table>\n",
       "</div>"
      ],
      "text/plain": [
       "                      prior  likelihood    unnorm  posterior\n",
       "fraternal brother  0.008000         0.5  0.004000   0.352941\n",
       "identical brother  0.003333         1.0  0.003333   0.294118\n",
       "fraternal sister   0.008000         0.5  0.004000   0.352941\n",
       "identical sister   0.003333         0.0  0.000000   0.000000"
      ]
     },
     "execution_count": 91,
     "metadata": {},
     "output_type": "execute_result"
    }
   ],
   "source": [
    "# If we did not know if the twin was male or female:\n",
    "\n",
    "table1 = pd.DataFrame(index = ['fraternal brother', 'identical brother', 'fraternal sister',\n",
    "                             'identical sister'])\n",
    "table1['prior'] = [1/125, 1/300, 1/125, 1/300] # this isn't correct because they are not equally likely\n",
    "table1['likelihood'] = [1/2, 1, 1/2, 0]\n",
    "update(table1)\n",
    "table1"
   ]
  },
  {
   "cell_type": "code",
   "execution_count": 92,
   "id": "0b670b26-2922-4531-ba52-e33584fec457",
   "metadata": {
    "execution": {
     "iopub.execute_input": "2023-08-14T00:29:26.743507Z",
     "iopub.status.busy": "2023-08-14T00:29:26.743142Z",
     "iopub.status.idle": "2023-08-14T00:29:26.747084Z",
     "shell.execute_reply": "2023-08-14T00:29:26.746302Z",
     "shell.execute_reply.started": "2023-08-14T00:29:26.743481Z"
    }
   },
   "outputs": [],
   "source": [
    "# Thus if we only know that he had had a twin, but not the gender, the likelihood he would have\n",
    "# had a identical brother would be 25%"
   ]
  },
  {
   "cell_type": "code",
   "execution_count": null,
   "id": "07e7d333-2ea7-408a-b8fb-294b2eba6547",
   "metadata": {},
   "outputs": [],
   "source": []
  }
 ],
 "metadata": {
  "kernelspec": {
   "display_name": "saturn (Python 3)",
   "language": "python",
   "name": "python3"
  },
  "language_info": {
   "codemirror_mode": {
    "name": "ipython",
    "version": 3
   },
   "file_extension": ".py",
   "mimetype": "text/x-python",
   "name": "python",
   "nbconvert_exporter": "python",
   "pygments_lexer": "ipython3",
   "version": "3.9.15"
  }
 },
 "nbformat": 4,
 "nbformat_minor": 5
}
