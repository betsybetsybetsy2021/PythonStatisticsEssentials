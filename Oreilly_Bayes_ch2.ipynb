{
 "cells": [
  {
   "cell_type": "code",
   "execution_count": null,
   "id": "9f097098-6b43-4e15-a40f-065b42eb5978",
   "metadata": {},
   "outputs": [],
   "source": [
    "# O'Reilly Bayes \n",
    "# Chapter 2 - Baye's Theorem"
   ]
  },
  {
   "cell_type": "code",
   "execution_count": null,
   "id": "25a9db8d-d40f-41d9-a011-d750cc53d2b3",
   "metadata": {},
   "outputs": [],
   "source": [
    "# Diachronic Bayes\n",
    "# diachronic means related to change over time\n",
    "# probability of hypothese H, given body of data D\n",
    "# P(H|D) = P(H)P(D|H) / P(D)\n",
    "# P(H) is the probability of the hypothesis before we see the data\n",
    "# P(H|D) is the probability of the hypothesis afer we see the data called the posterior\n",
    "# P(D|H) is the probability of the data under the hypothesis called the likelihood\n",
    "# P(D) is the total probability of the data, under any hypothesis\n",
    "# can simplify by specifying hypotheses that are mutually exclusive and collectively exhaustive"
   ]
  },
  {
   "cell_type": "code",
   "execution_count": 2,
   "id": "170ad217-644d-4142-b3a4-e609a6b7cb1c",
   "metadata": {
    "execution": {
     "iopub.execute_input": "2023-08-10T19:45:42.830414Z",
     "iopub.status.busy": "2023-08-10T19:45:42.830029Z",
     "iopub.status.idle": "2023-08-10T19:45:44.096866Z",
     "shell.execute_reply": "2023-08-10T19:45:44.095928Z",
     "shell.execute_reply.started": "2023-08-10T19:45:42.830388Z"
    },
    "tags": []
   },
   "outputs": [],
   "source": [
    "import pandas as pd"
   ]
  },
  {
   "cell_type": "code",
   "execution_count": 17,
   "id": "86f76980-9aaa-46a5-afa1-19dfd4f0b736",
   "metadata": {
    "execution": {
     "iopub.execute_input": "2023-08-10T00:17:51.962471Z",
     "iopub.status.busy": "2023-08-10T00:17:51.962112Z",
     "iopub.status.idle": "2023-08-10T00:17:51.966558Z",
     "shell.execute_reply": "2023-08-10T00:17:51.965719Z",
     "shell.execute_reply.started": "2023-08-10T00:17:51.962446Z"
    },
    "tags": []
   },
   "outputs": [],
   "source": [
    "# Cookie problem / Urn Problem\n",
    "table = pd.DataFrame(index=['Bowl 1', 'Bowl 2'])"
   ]
  },
  {
   "cell_type": "code",
   "execution_count": 6,
   "id": "e49c8a7f-096d-435e-ac6b-c437c22be6e2",
   "metadata": {
    "execution": {
     "iopub.execute_input": "2023-08-09T23:39:39.605532Z",
     "iopub.status.busy": "2023-08-09T23:39:39.605216Z",
     "iopub.status.idle": "2023-08-09T23:39:39.613738Z",
     "shell.execute_reply": "2023-08-09T23:39:39.612877Z",
     "shell.execute_reply.started": "2023-08-09T23:39:39.605507Z"
    },
    "tags": []
   },
   "outputs": [
    {
     "data": {
      "text/html": [
       "<div>\n",
       "<style scoped>\n",
       "    .dataframe tbody tr th:only-of-type {\n",
       "        vertical-align: middle;\n",
       "    }\n",
       "\n",
       "    .dataframe tbody tr th {\n",
       "        vertical-align: top;\n",
       "    }\n",
       "\n",
       "    .dataframe thead th {\n",
       "        text-align: right;\n",
       "    }\n",
       "</style>\n",
       "<table border=\"1\" class=\"dataframe\">\n",
       "  <thead>\n",
       "    <tr style=\"text-align: right;\">\n",
       "      <th></th>\n",
       "      <th>prior</th>\n",
       "      <th>likelihood</th>\n",
       "    </tr>\n",
       "  </thead>\n",
       "  <tbody>\n",
       "    <tr>\n",
       "      <th>Bowl 1</th>\n",
       "      <td>0.5</td>\n",
       "      <td>0.75</td>\n",
       "    </tr>\n",
       "    <tr>\n",
       "      <th>Bowl 2</th>\n",
       "      <td>0.5</td>\n",
       "      <td>0.50</td>\n",
       "    </tr>\n",
       "  </tbody>\n",
       "</table>\n",
       "</div>"
      ],
      "text/plain": [
       "        prior  likelihood\n",
       "Bowl 1    0.5        0.75\n",
       "Bowl 2    0.5        0.50"
      ]
     },
     "execution_count": 6,
     "metadata": {},
     "output_type": "execute_result"
    }
   ],
   "source": [
    "table['prior'] = 1/2, 1/2\n",
    "table"
   ]
  },
  {
   "cell_type": "code",
   "execution_count": 4,
   "id": "39cf0e7c-2a59-4412-94ee-db91f6675adf",
   "metadata": {
    "execution": {
     "iopub.execute_input": "2023-08-09T23:28:56.790662Z",
     "iopub.status.busy": "2023-08-09T23:28:56.790305Z",
     "iopub.status.idle": "2023-08-09T23:28:56.805305Z",
     "shell.execute_reply": "2023-08-09T23:28:56.804676Z",
     "shell.execute_reply.started": "2023-08-09T23:28:56.790637Z"
    }
   },
   "outputs": [
    {
     "data": {
      "text/html": [
       "<div>\n",
       "<style scoped>\n",
       "    .dataframe tbody tr th:only-of-type {\n",
       "        vertical-align: middle;\n",
       "    }\n",
       "\n",
       "    .dataframe tbody tr th {\n",
       "        vertical-align: top;\n",
       "    }\n",
       "\n",
       "    .dataframe thead th {\n",
       "        text-align: right;\n",
       "    }\n",
       "</style>\n",
       "<table border=\"1\" class=\"dataframe\">\n",
       "  <thead>\n",
       "    <tr style=\"text-align: right;\">\n",
       "      <th></th>\n",
       "      <th>prior</th>\n",
       "      <th>likelihood</th>\n",
       "    </tr>\n",
       "  </thead>\n",
       "  <tbody>\n",
       "    <tr>\n",
       "      <th>Bowl 1</th>\n",
       "      <td>0.5</td>\n",
       "      <td>0.75</td>\n",
       "    </tr>\n",
       "    <tr>\n",
       "      <th>Bowl 2</th>\n",
       "      <td>0.5</td>\n",
       "      <td>0.50</td>\n",
       "    </tr>\n",
       "  </tbody>\n",
       "</table>\n",
       "</div>"
      ],
      "text/plain": [
       "        prior  likelihood\n",
       "Bowl 1    0.5        0.75\n",
       "Bowl 2    0.5        0.50"
      ]
     },
     "execution_count": 4,
     "metadata": {},
     "output_type": "execute_result"
    }
   ],
   "source": [
    "table['likelihood'] = 3/4, 1/2\n",
    "table"
   ]
  },
  {
   "cell_type": "code",
   "execution_count": 11,
   "id": "f6866e32-f07c-45d2-89d9-0b2ae8aea671",
   "metadata": {
    "execution": {
     "iopub.execute_input": "2023-08-09T23:58:23.851277Z",
     "iopub.status.busy": "2023-08-09T23:58:23.850867Z",
     "iopub.status.idle": "2023-08-09T23:58:23.863387Z",
     "shell.execute_reply": "2023-08-09T23:58:23.862779Z",
     "shell.execute_reply.started": "2023-08-09T23:58:23.851251Z"
    },
    "tags": []
   },
   "outputs": [
    {
     "data": {
      "text/html": [
       "<div>\n",
       "<style scoped>\n",
       "    .dataframe tbody tr th:only-of-type {\n",
       "        vertical-align: middle;\n",
       "    }\n",
       "\n",
       "    .dataframe tbody tr th {\n",
       "        vertical-align: top;\n",
       "    }\n",
       "\n",
       "    .dataframe thead th {\n",
       "        text-align: right;\n",
       "    }\n",
       "</style>\n",
       "<table border=\"1\" class=\"dataframe\">\n",
       "  <thead>\n",
       "    <tr style=\"text-align: right;\">\n",
       "      <th></th>\n",
       "      <th>prior</th>\n",
       "      <th>likelihood</th>\n",
       "      <th>unnorm</th>\n",
       "    </tr>\n",
       "  </thead>\n",
       "  <tbody>\n",
       "    <tr>\n",
       "      <th>Bowl 1</th>\n",
       "      <td>0.5</td>\n",
       "      <td>0.75</td>\n",
       "      <td>0.375</td>\n",
       "    </tr>\n",
       "    <tr>\n",
       "      <th>Bowl 2</th>\n",
       "      <td>0.5</td>\n",
       "      <td>0.50</td>\n",
       "      <td>0.250</td>\n",
       "    </tr>\n",
       "  </tbody>\n",
       "</table>\n",
       "</div>"
      ],
      "text/plain": [
       "        prior  likelihood  unnorm\n",
       "Bowl 1    0.5        0.75   0.375\n",
       "Bowl 2    0.5        0.50   0.250"
      ]
     },
     "execution_count": 11,
     "metadata": {},
     "output_type": "execute_result"
    }
   ],
   "source": [
    "#unnormalized posteriors\n",
    "table['unnorm']=table['prior']*table['likelihood']\n",
    "table"
   ]
  },
  {
   "cell_type": "code",
   "execution_count": null,
   "id": "bcd11c66-af31-4607-9f8e-eb36f142075e",
   "metadata": {},
   "outputs": [],
   "source": [
    "# I am not here to work for dementia.  She can go to hell.  It is not an umbrella.  Elizabeth is NOT dementia.\n",
    "# Elizabeth's mother is not dementia.  I am not on a team... I am just used as a doormat and fed."
   ]
  },
  {
   "cell_type": "code",
   "execution_count": 13,
   "id": "a2aabb18-85c2-40a2-98fb-700d796d5b07",
   "metadata": {
    "execution": {
     "iopub.execute_input": "2023-08-10T00:12:13.274797Z",
     "iopub.status.busy": "2023-08-10T00:12:13.274420Z",
     "iopub.status.idle": "2023-08-10T00:12:13.280494Z",
     "shell.execute_reply": "2023-08-10T00:12:13.279494Z",
     "shell.execute_reply.started": "2023-08-10T00:12:13.274773Z"
    },
    "tags": []
   },
   "outputs": [
    {
     "data": {
      "text/plain": [
       "0.625"
      ]
     },
     "execution_count": 13,
     "metadata": {},
     "output_type": "execute_result"
    }
   ],
   "source": [
    "prob_data = table['unnorm'].sum()\n",
    "prob_data"
   ]
  },
  {
   "cell_type": "code",
   "execution_count": 16,
   "id": "fa015159-75be-42ea-bd87-a0721beb7123",
   "metadata": {
    "execution": {
     "iopub.execute_input": "2023-08-10T00:17:06.737909Z",
     "iopub.status.busy": "2023-08-10T00:17:06.737544Z",
     "iopub.status.idle": "2023-08-10T00:17:06.747127Z",
     "shell.execute_reply": "2023-08-10T00:17:06.746349Z",
     "shell.execute_reply.started": "2023-08-10T00:17:06.737884Z"
    },
    "tags": []
   },
   "outputs": [
    {
     "data": {
      "text/html": [
       "<div>\n",
       "<style scoped>\n",
       "    .dataframe tbody tr th:only-of-type {\n",
       "        vertical-align: middle;\n",
       "    }\n",
       "\n",
       "    .dataframe tbody tr th {\n",
       "        vertical-align: top;\n",
       "    }\n",
       "\n",
       "    .dataframe thead th {\n",
       "        text-align: right;\n",
       "    }\n",
       "</style>\n",
       "<table border=\"1\" class=\"dataframe\">\n",
       "  <thead>\n",
       "    <tr style=\"text-align: right;\">\n",
       "      <th></th>\n",
       "      <th>prior</th>\n",
       "      <th>likelihood</th>\n",
       "      <th>unnorm</th>\n",
       "      <th>posterior</th>\n",
       "    </tr>\n",
       "  </thead>\n",
       "  <tbody>\n",
       "    <tr>\n",
       "      <th>Bowl 1</th>\n",
       "      <td>0.5</td>\n",
       "      <td>0.75</td>\n",
       "      <td>0.375</td>\n",
       "      <td>0.6</td>\n",
       "    </tr>\n",
       "    <tr>\n",
       "      <th>Bowl 2</th>\n",
       "      <td>0.5</td>\n",
       "      <td>0.50</td>\n",
       "      <td>0.250</td>\n",
       "      <td>0.4</td>\n",
       "    </tr>\n",
       "  </tbody>\n",
       "</table>\n",
       "</div>"
      ],
      "text/plain": [
       "        prior  likelihood  unnorm  posterior\n",
       "Bowl 1    0.5        0.75   0.375        0.6\n",
       "Bowl 2    0.5        0.50   0.250        0.4"
      ]
     },
     "execution_count": 16,
     "metadata": {},
     "output_type": "execute_result"
    }
   ],
   "source": [
    "# dividing the \"unnormalized posteriors\" by the sum of the unnormalized posteriors, creates a percentage out\n",
    "# of 100, and makes the posteriors add to one, thus normalized.  The total probablity of the data is called the\n",
    "# normalizing constant.\n",
    "table['posterior'] = table['unnorm'] / prob_data\n",
    "table"
   ]
  },
  {
   "cell_type": "code",
   "execution_count": null,
   "id": "8e15a08a-c606-4567-aa01-78b933319bfb",
   "metadata": {},
   "outputs": [],
   "source": [
    "# Dice problem\n",
    "# A Bayes table can also solve for multiple hypotheses"
   ]
  },
  {
   "cell_type": "code",
   "execution_count": 18,
   "id": "41cd6a8b-e35d-40a5-9234-9d05d27f4d01",
   "metadata": {
    "execution": {
     "iopub.execute_input": "2023-08-10T00:27:55.033172Z",
     "iopub.status.busy": "2023-08-10T00:27:55.032816Z",
     "iopub.status.idle": "2023-08-10T00:27:55.037552Z",
     "shell.execute_reply": "2023-08-10T00:27:55.036711Z",
     "shell.execute_reply.started": "2023-08-10T00:27:55.033149Z"
    }
   },
   "outputs": [],
   "source": [
    "table2 = pd.DataFrame(index=[6,8,12])"
   ]
  },
  {
   "cell_type": "code",
   "execution_count": 19,
   "id": "97604ed6-3421-43b6-b3b3-3de45462a4a1",
   "metadata": {
    "execution": {
     "iopub.execute_input": "2023-08-10T00:28:20.618525Z",
     "iopub.status.busy": "2023-08-10T00:28:20.618159Z",
     "iopub.status.idle": "2023-08-10T00:28:20.622195Z",
     "shell.execute_reply": "2023-08-10T00:28:20.621313Z",
     "shell.execute_reply.started": "2023-08-10T00:28:20.618500Z"
    }
   },
   "outputs": [],
   "source": [
    "from fractions import Fraction"
   ]
  },
  {
   "cell_type": "code",
   "execution_count": 21,
   "id": "1a56daed-bbd6-4584-9ae7-5c117f8a97ba",
   "metadata": {
    "execution": {
     "iopub.execute_input": "2023-08-10T00:29:37.239478Z",
     "iopub.status.busy": "2023-08-10T00:29:37.239108Z",
     "iopub.status.idle": "2023-08-10T00:29:37.248034Z",
     "shell.execute_reply": "2023-08-10T00:29:37.247121Z",
     "shell.execute_reply.started": "2023-08-10T00:29:37.239452Z"
    },
    "tags": []
   },
   "outputs": [
    {
     "data": {
      "text/html": [
       "<div>\n",
       "<style scoped>\n",
       "    .dataframe tbody tr th:only-of-type {\n",
       "        vertical-align: middle;\n",
       "    }\n",
       "\n",
       "    .dataframe tbody tr th {\n",
       "        vertical-align: top;\n",
       "    }\n",
       "\n",
       "    .dataframe thead th {\n",
       "        text-align: right;\n",
       "    }\n",
       "</style>\n",
       "<table border=\"1\" class=\"dataframe\">\n",
       "  <thead>\n",
       "    <tr style=\"text-align: right;\">\n",
       "      <th></th>\n",
       "      <th>prior</th>\n",
       "      <th>likelihood</th>\n",
       "    </tr>\n",
       "  </thead>\n",
       "  <tbody>\n",
       "    <tr>\n",
       "      <th>6</th>\n",
       "      <td>1/3</td>\n",
       "      <td>1/6</td>\n",
       "    </tr>\n",
       "    <tr>\n",
       "      <th>8</th>\n",
       "      <td>1/3</td>\n",
       "      <td>1/8</td>\n",
       "    </tr>\n",
       "    <tr>\n",
       "      <th>12</th>\n",
       "      <td>1/3</td>\n",
       "      <td>1/12</td>\n",
       "    </tr>\n",
       "  </tbody>\n",
       "</table>\n",
       "</div>"
      ],
      "text/plain": [
       "   prior likelihood\n",
       "6    1/3        1/6\n",
       "8    1/3        1/8\n",
       "12   1/3       1/12"
      ]
     },
     "execution_count": 21,
     "metadata": {},
     "output_type": "execute_result"
    }
   ],
   "source": [
    "table2['prior'] = Fraction(1,3)\n",
    "table2['likelihood'] = Fraction(1,6), Fraction(1,8), Fraction (1,12)\n",
    "table2"
   ]
  },
  {
   "cell_type": "code",
   "execution_count": 8,
   "id": "42160a4a-481d-4892-b79a-10a674f3904e",
   "metadata": {
    "execution": {
     "iopub.execute_input": "2023-08-10T19:58:40.474730Z",
     "iopub.status.busy": "2023-08-10T19:58:40.474362Z",
     "iopub.status.idle": "2023-08-10T19:58:40.479009Z",
     "shell.execute_reply": "2023-08-10T19:58:40.478151Z",
     "shell.execute_reply.started": "2023-08-10T19:58:40.474703Z"
    },
    "tags": []
   },
   "outputs": [],
   "source": [
    "def update(table):\n",
    "    \"\"\"Compute the posterior probabilities.\"\"\"\n",
    "    table['unnorm'] = table['prior']*table['likelihood']\n",
    "    prob_data = table['unnorm'].sum()\n",
    "    table['posterior'] = table['unnorm'] / prob_data\n",
    "    return prob_data"
   ]
  },
  {
   "cell_type": "code",
   "execution_count": 24,
   "id": "aa236357-a45f-4018-bd45-b5ca688c2b72",
   "metadata": {
    "execution": {
     "iopub.execute_input": "2023-08-10T00:32:43.303579Z",
     "iopub.status.busy": "2023-08-10T00:32:43.303211Z",
     "iopub.status.idle": "2023-08-10T00:32:43.309259Z",
     "shell.execute_reply": "2023-08-10T00:32:43.308347Z",
     "shell.execute_reply.started": "2023-08-10T00:32:43.303553Z"
    }
   },
   "outputs": [],
   "source": [
    "prob_data = update(table2)"
   ]
  },
  {
   "cell_type": "code",
   "execution_count": null,
   "id": "8e7e5ffd-5362-4513-b5c3-c8ed1815ec25",
   "metadata": {},
   "outputs": [],
   "source": [
    "# The Monty Hall Problem\n",
    "# Three doors, one with a car and two with goats\n",
    "# Assumptions about Monty Hall's behavior\n",
    "# a) Monty always opens a door and then offers you the option to switch\n",
    "# b) He never opens the door you picked or the door with your car\n",
    "# c) If you choose the door with the car, he chooses one of the other doors at random"
   ]
  },
  {
   "cell_type": "code",
   "execution_count": 25,
   "id": "74177f49-2b1e-4742-96bf-00f04fc834d1",
   "metadata": {
    "execution": {
     "iopub.execute_input": "2023-08-10T00:38:33.915138Z",
     "iopub.status.busy": "2023-08-10T00:38:33.914779Z",
     "iopub.status.idle": "2023-08-10T00:38:33.925143Z",
     "shell.execute_reply": "2023-08-10T00:38:33.924208Z",
     "shell.execute_reply.started": "2023-08-10T00:38:33.915114Z"
    }
   },
   "outputs": [
    {
     "data": {
      "text/html": [
       "<div>\n",
       "<style scoped>\n",
       "    .dataframe tbody tr th:only-of-type {\n",
       "        vertical-align: middle;\n",
       "    }\n",
       "\n",
       "    .dataframe tbody tr th {\n",
       "        vertical-align: top;\n",
       "    }\n",
       "\n",
       "    .dataframe thead th {\n",
       "        text-align: right;\n",
       "    }\n",
       "</style>\n",
       "<table border=\"1\" class=\"dataframe\">\n",
       "  <thead>\n",
       "    <tr style=\"text-align: right;\">\n",
       "      <th></th>\n",
       "      <th>prior</th>\n",
       "    </tr>\n",
       "  </thead>\n",
       "  <tbody>\n",
       "    <tr>\n",
       "      <th>Door 1</th>\n",
       "      <td>1/3</td>\n",
       "    </tr>\n",
       "    <tr>\n",
       "      <th>Door 2</th>\n",
       "      <td>1/3</td>\n",
       "    </tr>\n",
       "    <tr>\n",
       "      <th>Door 3</th>\n",
       "      <td>1/3</td>\n",
       "    </tr>\n",
       "  </tbody>\n",
       "</table>\n",
       "</div>"
      ],
      "text/plain": [
       "       prior\n",
       "Door 1   1/3\n",
       "Door 2   1/3\n",
       "Door 3   1/3"
      ]
     },
     "execution_count": 25,
     "metadata": {},
     "output_type": "execute_result"
    }
   ],
   "source": [
    "table3 = pd.DataFrame(index=['Door 1', 'Door 2', 'Door 3'])\n",
    "table3['prior'] = Fraction(1,3)\n",
    "table3"
   ]
  },
  {
   "cell_type": "code",
   "execution_count": 26,
   "id": "1ff56ee0-0761-454e-8017-0f0d654fbff2",
   "metadata": {
    "execution": {
     "iopub.execute_input": "2023-08-10T01:51:15.943011Z",
     "iopub.status.busy": "2023-08-10T01:51:15.942592Z",
     "iopub.status.idle": "2023-08-10T01:51:15.952225Z",
     "shell.execute_reply": "2023-08-10T01:51:15.951287Z",
     "shell.execute_reply.started": "2023-08-10T01:51:15.942984Z"
    }
   },
   "outputs": [
    {
     "data": {
      "text/html": [
       "<div>\n",
       "<style scoped>\n",
       "    .dataframe tbody tr th:only-of-type {\n",
       "        vertical-align: middle;\n",
       "    }\n",
       "\n",
       "    .dataframe tbody tr th {\n",
       "        vertical-align: top;\n",
       "    }\n",
       "\n",
       "    .dataframe thead th {\n",
       "        text-align: right;\n",
       "    }\n",
       "</style>\n",
       "<table border=\"1\" class=\"dataframe\">\n",
       "  <thead>\n",
       "    <tr style=\"text-align: right;\">\n",
       "      <th></th>\n",
       "      <th>prior</th>\n",
       "      <th>likelihood</th>\n",
       "    </tr>\n",
       "  </thead>\n",
       "  <tbody>\n",
       "    <tr>\n",
       "      <th>Door 1</th>\n",
       "      <td>1/3</td>\n",
       "      <td>1/2</td>\n",
       "    </tr>\n",
       "    <tr>\n",
       "      <th>Door 2</th>\n",
       "      <td>1/3</td>\n",
       "      <td>1</td>\n",
       "    </tr>\n",
       "    <tr>\n",
       "      <th>Door 3</th>\n",
       "      <td>1/3</td>\n",
       "      <td>0</td>\n",
       "    </tr>\n",
       "  </tbody>\n",
       "</table>\n",
       "</div>"
      ],
      "text/plain": [
       "       prior likelihood\n",
       "Door 1   1/3        1/2\n",
       "Door 2   1/3          1\n",
       "Door 3   1/3          0"
      ]
     },
     "execution_count": 26,
     "metadata": {},
     "output_type": "execute_result"
    }
   ],
   "source": [
    "table3['likelihood'] = Fraction(1,2), 1, 0\n",
    "table3"
   ]
  },
  {
   "cell_type": "code",
   "execution_count": 27,
   "id": "4ad790e7-db72-4c64-b49c-8ad03d6ada9b",
   "metadata": {
    "execution": {
     "iopub.execute_input": "2023-08-10T01:51:51.417214Z",
     "iopub.status.busy": "2023-08-10T01:51:51.416852Z",
     "iopub.status.idle": "2023-08-10T01:51:51.427717Z",
     "shell.execute_reply": "2023-08-10T01:51:51.426808Z",
     "shell.execute_reply.started": "2023-08-10T01:51:51.417189Z"
    }
   },
   "outputs": [
    {
     "data": {
      "text/html": [
       "<div>\n",
       "<style scoped>\n",
       "    .dataframe tbody tr th:only-of-type {\n",
       "        vertical-align: middle;\n",
       "    }\n",
       "\n",
       "    .dataframe tbody tr th {\n",
       "        vertical-align: top;\n",
       "    }\n",
       "\n",
       "    .dataframe thead th {\n",
       "        text-align: right;\n",
       "    }\n",
       "</style>\n",
       "<table border=\"1\" class=\"dataframe\">\n",
       "  <thead>\n",
       "    <tr style=\"text-align: right;\">\n",
       "      <th></th>\n",
       "      <th>prior</th>\n",
       "      <th>likelihood</th>\n",
       "      <th>unnorm</th>\n",
       "      <th>posterior</th>\n",
       "    </tr>\n",
       "  </thead>\n",
       "  <tbody>\n",
       "    <tr>\n",
       "      <th>Door 1</th>\n",
       "      <td>1/3</td>\n",
       "      <td>1/2</td>\n",
       "      <td>1/6</td>\n",
       "      <td>1/3</td>\n",
       "    </tr>\n",
       "    <tr>\n",
       "      <th>Door 2</th>\n",
       "      <td>1/3</td>\n",
       "      <td>1</td>\n",
       "      <td>1/3</td>\n",
       "      <td>2/3</td>\n",
       "    </tr>\n",
       "    <tr>\n",
       "      <th>Door 3</th>\n",
       "      <td>1/3</td>\n",
       "      <td>0</td>\n",
       "      <td>0</td>\n",
       "      <td>0</td>\n",
       "    </tr>\n",
       "  </tbody>\n",
       "</table>\n",
       "</div>"
      ],
      "text/plain": [
       "       prior likelihood unnorm posterior\n",
       "Door 1   1/3        1/2    1/6       1/3\n",
       "Door 2   1/3          1    1/3       2/3\n",
       "Door 3   1/3          0      0         0"
      ]
     },
     "execution_count": 27,
     "metadata": {},
     "output_type": "execute_result"
    }
   ],
   "source": [
    "update(table3)\n",
    "table3"
   ]
  },
  {
   "cell_type": "code",
   "execution_count": null,
   "id": "3e9c9f2d-1abe-4da0-814e-4a6574c0f32d",
   "metadata": {},
   "outputs": [],
   "source": [
    "# Exercise 2-1\n",
    "# There are two coins in a box.  One is a normal coin with heads on one side and tails on another, and one is\n",
    "# a trick coin with heads on both sides.  You choose a coin at random and see that one of the sides is heads.\n",
    "# What is the probability that you chose the trick coin?"
   ]
  },
  {
   "cell_type": "code",
   "execution_count": 35,
   "id": "4833f86b-18c8-477d-a2db-7bf671b3c923",
   "metadata": {
    "execution": {
     "iopub.execute_input": "2023-08-10T02:16:13.691415Z",
     "iopub.status.busy": "2023-08-10T02:16:13.690852Z",
     "iopub.status.idle": "2023-08-10T02:16:13.703381Z",
     "shell.execute_reply": "2023-08-10T02:16:13.702610Z",
     "shell.execute_reply.started": "2023-08-10T02:16:13.691387Z"
    },
    "tags": []
   },
   "outputs": [
    {
     "data": {
      "text/html": [
       "<div>\n",
       "<style scoped>\n",
       "    .dataframe tbody tr th:only-of-type {\n",
       "        vertical-align: middle;\n",
       "    }\n",
       "\n",
       "    .dataframe tbody tr th {\n",
       "        vertical-align: top;\n",
       "    }\n",
       "\n",
       "    .dataframe thead th {\n",
       "        text-align: right;\n",
       "    }\n",
       "</style>\n",
       "<table border=\"1\" class=\"dataframe\">\n",
       "  <thead>\n",
       "    <tr style=\"text-align: right;\">\n",
       "      <th></th>\n",
       "      <th>prior</th>\n",
       "      <th>likelihood</th>\n",
       "    </tr>\n",
       "  </thead>\n",
       "  <tbody>\n",
       "    <tr>\n",
       "      <th>normal</th>\n",
       "      <td>0.5</td>\n",
       "      <td>0.5</td>\n",
       "    </tr>\n",
       "    <tr>\n",
       "      <th>trick</th>\n",
       "      <td>0.5</td>\n",
       "      <td>1.0</td>\n",
       "    </tr>\n",
       "  </tbody>\n",
       "</table>\n",
       "</div>"
      ],
      "text/plain": [
       "        prior  likelihood\n",
       "normal    0.5         0.5\n",
       "trick     0.5         1.0"
      ]
     },
     "execution_count": 35,
     "metadata": {},
     "output_type": "execute_result"
    }
   ],
   "source": [
    "# coin chosen, heads\n",
    "# answering question what is probability that chosen trick coin, given heads on selected coin\n",
    "# This is a simpler version of the dice problem\n",
    "table4 = pd.DataFrame(index=['normal', 'trick'])\n",
    "table4['prior'] = 0.5\n",
    "table4['likelihood'] = 0.5, 1\n",
    "table4"
   ]
  },
  {
   "cell_type": "code",
   "execution_count": 38,
   "id": "6763ec8d-f584-43dd-94bc-53f48e29c71e",
   "metadata": {
    "execution": {
     "iopub.execute_input": "2023-08-10T02:20:28.142712Z",
     "iopub.status.busy": "2023-08-10T02:20:28.142343Z",
     "iopub.status.idle": "2023-08-10T02:20:28.152641Z",
     "shell.execute_reply": "2023-08-10T02:20:28.151652Z",
     "shell.execute_reply.started": "2023-08-10T02:20:28.142687Z"
    },
    "tags": []
   },
   "outputs": [
    {
     "data": {
      "text/html": [
       "<div>\n",
       "<style scoped>\n",
       "    .dataframe tbody tr th:only-of-type {\n",
       "        vertical-align: middle;\n",
       "    }\n",
       "\n",
       "    .dataframe tbody tr th {\n",
       "        vertical-align: top;\n",
       "    }\n",
       "\n",
       "    .dataframe thead th {\n",
       "        text-align: right;\n",
       "    }\n",
       "</style>\n",
       "<table border=\"1\" class=\"dataframe\">\n",
       "  <thead>\n",
       "    <tr style=\"text-align: right;\">\n",
       "      <th></th>\n",
       "      <th>prior</th>\n",
       "      <th>likelihood</th>\n",
       "      <th>unnorm</th>\n",
       "      <th>posterior</th>\n",
       "    </tr>\n",
       "  </thead>\n",
       "  <tbody>\n",
       "    <tr>\n",
       "      <th>normal</th>\n",
       "      <td>0.5</td>\n",
       "      <td>0.5</td>\n",
       "      <td>0.25</td>\n",
       "      <td>0.333333</td>\n",
       "    </tr>\n",
       "    <tr>\n",
       "      <th>trick</th>\n",
       "      <td>0.5</td>\n",
       "      <td>1.0</td>\n",
       "      <td>0.50</td>\n",
       "      <td>0.666667</td>\n",
       "    </tr>\n",
       "  </tbody>\n",
       "</table>\n",
       "</div>"
      ],
      "text/plain": [
       "        prior  likelihood  unnorm  posterior\n",
       "normal    0.5         0.5    0.25   0.333333\n",
       "trick     0.5         1.0    0.50   0.666667"
      ]
     },
     "execution_count": 38,
     "metadata": {},
     "output_type": "execute_result"
    }
   ],
   "source": [
    "prob_data = update(table4)\n",
    "table4"
   ]
  },
  {
   "cell_type": "code",
   "execution_count": 39,
   "id": "f5e88f88-87ef-4fb3-aff8-c200506ffbcc",
   "metadata": {
    "execution": {
     "iopub.execute_input": "2023-08-10T02:22:12.334593Z",
     "iopub.status.busy": "2023-08-10T02:22:12.334221Z",
     "iopub.status.idle": "2023-08-10T02:22:12.338096Z",
     "shell.execute_reply": "2023-08-10T02:22:12.337185Z",
     "shell.execute_reply.started": "2023-08-10T02:22:12.334566Z"
    }
   },
   "outputs": [],
   "source": [
    "# Thus there is a 66% chance that you have chosen the trick coin based on the data of finding a heads \"value\" on\n",
    "# your selected coin"
   ]
  },
  {
   "cell_type": "code",
   "execution_count": 45,
   "id": "d72d956b-036c-45d1-8e9f-257dd87c5fe1",
   "metadata": {
    "execution": {
     "iopub.execute_input": "2023-08-10T02:42:37.864431Z",
     "iopub.status.busy": "2023-08-10T02:42:37.864040Z",
     "iopub.status.idle": "2023-08-10T02:42:37.882150Z",
     "shell.execute_reply": "2023-08-10T02:42:37.881322Z",
     "shell.execute_reply.started": "2023-08-10T02:42:37.864399Z"
    },
    "tags": []
   },
   "outputs": [
    {
     "data": {
      "text/html": [
       "<div>\n",
       "<style scoped>\n",
       "    .dataframe tbody tr th:only-of-type {\n",
       "        vertical-align: middle;\n",
       "    }\n",
       "\n",
       "    .dataframe tbody tr th {\n",
       "        vertical-align: top;\n",
       "    }\n",
       "\n",
       "    .dataframe thead th {\n",
       "        text-align: right;\n",
       "    }\n",
       "</style>\n",
       "<table border=\"1\" class=\"dataframe\">\n",
       "  <thead>\n",
       "    <tr style=\"text-align: right;\">\n",
       "      <th></th>\n",
       "      <th>prior</th>\n",
       "      <th>likelihood</th>\n",
       "      <th>unnorm</th>\n",
       "      <th>posterior</th>\n",
       "    </tr>\n",
       "  </thead>\n",
       "  <tbody>\n",
       "    <tr>\n",
       "      <th>A,B = boys</th>\n",
       "      <td>0.25</td>\n",
       "      <td>0.00</td>\n",
       "      <td>0.0000</td>\n",
       "      <td>0.0</td>\n",
       "    </tr>\n",
       "    <tr>\n",
       "      <th>A=girl,B=boy</th>\n",
       "      <td>0.25</td>\n",
       "      <td>0.50</td>\n",
       "      <td>0.1250</td>\n",
       "      <td>0.4</td>\n",
       "    </tr>\n",
       "    <tr>\n",
       "      <th>A=boy,B=girl</th>\n",
       "      <td>0.25</td>\n",
       "      <td>0.50</td>\n",
       "      <td>0.1250</td>\n",
       "      <td>0.4</td>\n",
       "    </tr>\n",
       "    <tr>\n",
       "      <th>A,B = girls</th>\n",
       "      <td>0.25</td>\n",
       "      <td>0.25</td>\n",
       "      <td>0.0625</td>\n",
       "      <td>0.2</td>\n",
       "    </tr>\n",
       "  </tbody>\n",
       "</table>\n",
       "</div>"
      ],
      "text/plain": [
       "              prior  likelihood  unnorm  posterior\n",
       "A,B = boys     0.25        0.00  0.0000        0.0\n",
       "A=girl,B=boy   0.25        0.50  0.1250        0.4\n",
       "A=boy,B=girl   0.25        0.50  0.1250        0.4\n",
       "A,B = girls    0.25        0.25  0.0625        0.2"
      ]
     },
     "execution_count": 45,
     "metadata": {},
     "output_type": "execute_result"
    }
   ],
   "source": [
    "#Exercise 2-2\n",
    "#Suppose you meet someone and learn why they have two children.  You ask if either child is a girl and \n",
    "# they say yes.  What is the probability that both children are girls?\n",
    "\n",
    "# hypothesis 1 - neither child is a girl \n",
    "# hypothesis 2 - child a is a girl, child b is a boy\n",
    "# hypothesis 3 - child a is a boy, child b is a girl\n",
    "# hypothesis 4 - both children are girls\n",
    "\n",
    "table5 = pd.DataFrame(index=['A,B = boys', 'A=girl,B=boy', 'A=boy,B=girl', 'A,B = girls'])\n",
    "table5['prior']= 0.25\n",
    "table5['likelihood']= 0,1/2, 1/2, 1/4\n",
    "update(table5)\n",
    "table5"
   ]
  },
  {
   "cell_type": "code",
   "execution_count": null,
   "id": "bf60e73b-fbc7-4660-b930-6a3769422c5d",
   "metadata": {},
   "outputs": [],
   "source": [
    "# Exercise 2-3\n",
    "# There are many variations of the Monty Hall Problem.  For example, suppose Monty always chooses Door 2 if he can,\n",
    "# and only chooses Door 3 if he has to (because the car is behind door 2).\n",
    "\n",
    "# If you choose Door 1 and Monty opens Door 2, what is the probability that the car is behind Door 3?\n",
    "# If you choose Door 1 and Monty opens Door 3, what is the probability that the car is behind Door 2?\n",
    "# "
   ]
  },
  {
   "cell_type": "code",
   "execution_count": null,
   "id": "d072d86a-22d1-4103-994c-3ade4f91f023",
   "metadata": {},
   "outputs": [],
   "source": [
    "# The Monty Hall Problem\n",
    "# Three doors, one with a car and two with goats\n",
    "# Assumptions about Monty Hall's behavior\n",
    "# a) Monty always opens a door and then offers you the option to switch\n",
    "# b) He never opens the door you picked or the door with your car\n",
    "# c) If you choose the door with the car, he chooses door two unless our selection or the car is behind 2"
   ]
  },
  {
   "cell_type": "code",
   "execution_count": 24,
   "id": "76f93f8d-1143-4aff-983c-0b7ac234a16f",
   "metadata": {
    "execution": {
     "iopub.execute_input": "2023-08-10T20:43:44.866623Z",
     "iopub.status.busy": "2023-08-10T20:43:44.866253Z",
     "iopub.status.idle": "2023-08-10T20:43:44.870423Z",
     "shell.execute_reply": "2023-08-10T20:43:44.869585Z",
     "shell.execute_reply.started": "2023-08-10T20:43:44.866597Z"
    },
    "tags": []
   },
   "outputs": [],
   "source": [
    "# Door 1 chosen\n",
    "# Data = car behind 3 given hypothesis\n",
    "# Hypothesis:\n",
    "# a) If the car is behind door 1, Monty chooses Door 2, so the prob he opens 2 is 1\n",
    "# b) If the car is behind door 2, Monty chooses Door 3, so the prob he opens 2 is 0\n",
    "# c) If the car is behind door 3, Monty chooses Door 2, so the prob he opens 2 is 1\n",
    "# Well I can't be past 101, because you don't let me on the path.  I just skip around as if this was a tour because you won't\n",
    "# hire me, so I cannot sustain anything.  I didn't fail FlatIron, I couldn't pay to keep going.  I pawned the laptop for shelter.\n",
    "# I was late to LA because I got here blindly after doing a lot of vanlife alone and confused. Only a game of bowling with some\n",
    "# folks in Utah and some swimming as my only diversion."
   ]
  },
  {
   "cell_type": "code",
   "execution_count": 13,
   "id": "7a1ca7e9-7080-47ef-acfd-2d80c6775947",
   "metadata": {
    "execution": {
     "iopub.execute_input": "2023-08-10T20:28:33.550048Z",
     "iopub.status.busy": "2023-08-10T20:28:33.549647Z",
     "iopub.status.idle": "2023-08-10T20:28:33.563138Z",
     "shell.execute_reply": "2023-08-10T20:28:33.562285Z",
     "shell.execute_reply.started": "2023-08-10T20:28:33.550019Z"
    },
    "tags": []
   },
   "outputs": [
    {
     "data": {
      "text/html": [
       "<div>\n",
       "<style scoped>\n",
       "    .dataframe tbody tr th:only-of-type {\n",
       "        vertical-align: middle;\n",
       "    }\n",
       "\n",
       "    .dataframe tbody tr th {\n",
       "        vertical-align: top;\n",
       "    }\n",
       "\n",
       "    .dataframe thead th {\n",
       "        text-align: right;\n",
       "    }\n",
       "</style>\n",
       "<table border=\"1\" class=\"dataframe\">\n",
       "  <thead>\n",
       "    <tr style=\"text-align: right;\">\n",
       "      <th></th>\n",
       "      <th>prior</th>\n",
       "      <th>likelihood</th>\n",
       "      <th>unnorm</th>\n",
       "      <th>posterior</th>\n",
       "    </tr>\n",
       "  </thead>\n",
       "  <tbody>\n",
       "    <tr>\n",
       "      <th>Door 1</th>\n",
       "      <td>0.333333</td>\n",
       "      <td>1</td>\n",
       "      <td>0.333333</td>\n",
       "      <td>0.5</td>\n",
       "    </tr>\n",
       "    <tr>\n",
       "      <th>Door 2</th>\n",
       "      <td>0.333333</td>\n",
       "      <td>0</td>\n",
       "      <td>0.000000</td>\n",
       "      <td>0.0</td>\n",
       "    </tr>\n",
       "    <tr>\n",
       "      <th>Door 3</th>\n",
       "      <td>0.333333</td>\n",
       "      <td>1</td>\n",
       "      <td>0.333333</td>\n",
       "      <td>0.5</td>\n",
       "    </tr>\n",
       "  </tbody>\n",
       "</table>\n",
       "</div>"
      ],
      "text/plain": [
       "           prior  likelihood    unnorm  posterior\n",
       "Door 1  0.333333           1  0.333333        0.5\n",
       "Door 2  0.333333           0  0.000000        0.0\n",
       "Door 3  0.333333           1  0.333333        0.5"
      ]
     },
     "execution_count": 13,
     "metadata": {},
     "output_type": "execute_result"
    }
   ],
   "source": [
    "# Probability of car behind door 3, given\n",
    "table6 = pd.DataFrame(index=['Door 1', 'Door 2', 'Door 3'])\n",
    "table6['prior'] = 1/3\n",
    "table6['likelihood'] = 1, 0, 1\n",
    "update(table6)\n",
    "table6"
   ]
  },
  {
   "cell_type": "code",
   "execution_count": null,
   "id": "9815b3df-82c5-4a5e-bf7a-997480516bae",
   "metadata": {},
   "outputs": [],
   "source": [
    "# The likelihood of the car being behind 3, given monty selected door two is 50%"
   ]
  },
  {
   "cell_type": "code",
   "execution_count": null,
   "id": "cb67521d-8883-4f71-b172-561b4b3cd20f",
   "metadata": {},
   "outputs": [],
   "source": [
    "# door 1 chosen\n",
    "# Data = car behind 2 given hypothesis\n",
    "# Hypothesis:\n",
    "# a) If the car is behind door 1, Monty chooses Door 2, so the prob he opens 3 is 0\n",
    "# b) If the car is behind door 2, Monty chooses Door 3, so the prob he opens 3 is 1\n",
    "# c) If the car is behind door 3, Monty chooses Door 2, so the prob he opens 3 is 0"
   ]
  },
  {
   "cell_type": "code",
   "execution_count": 14,
   "id": "70b4dd79-9cde-46fc-86ac-c08059c4322f",
   "metadata": {
    "execution": {
     "iopub.execute_input": "2023-08-10T20:32:42.191658Z",
     "iopub.status.busy": "2023-08-10T20:32:42.191294Z",
     "iopub.status.idle": "2023-08-10T20:32:42.204603Z",
     "shell.execute_reply": "2023-08-10T20:32:42.203722Z",
     "shell.execute_reply.started": "2023-08-10T20:32:42.191633Z"
    },
    "tags": []
   },
   "outputs": [
    {
     "data": {
      "text/html": [
       "<div>\n",
       "<style scoped>\n",
       "    .dataframe tbody tr th:only-of-type {\n",
       "        vertical-align: middle;\n",
       "    }\n",
       "\n",
       "    .dataframe tbody tr th {\n",
       "        vertical-align: top;\n",
       "    }\n",
       "\n",
       "    .dataframe thead th {\n",
       "        text-align: right;\n",
       "    }\n",
       "</style>\n",
       "<table border=\"1\" class=\"dataframe\">\n",
       "  <thead>\n",
       "    <tr style=\"text-align: right;\">\n",
       "      <th></th>\n",
       "      <th>prior</th>\n",
       "      <th>likelihood</th>\n",
       "      <th>unnorm</th>\n",
       "      <th>posterior</th>\n",
       "    </tr>\n",
       "  </thead>\n",
       "  <tbody>\n",
       "    <tr>\n",
       "      <th>Door 1</th>\n",
       "      <td>0.333333</td>\n",
       "      <td>0</td>\n",
       "      <td>0.000000</td>\n",
       "      <td>0.0</td>\n",
       "    </tr>\n",
       "    <tr>\n",
       "      <th>Door 2</th>\n",
       "      <td>0.333333</td>\n",
       "      <td>1</td>\n",
       "      <td>0.333333</td>\n",
       "      <td>1.0</td>\n",
       "    </tr>\n",
       "    <tr>\n",
       "      <th>Door 3</th>\n",
       "      <td>0.333333</td>\n",
       "      <td>0</td>\n",
       "      <td>0.000000</td>\n",
       "      <td>0.0</td>\n",
       "    </tr>\n",
       "  </tbody>\n",
       "</table>\n",
       "</div>"
      ],
      "text/plain": [
       "           prior  likelihood    unnorm  posterior\n",
       "Door 1  0.333333           0  0.000000        0.0\n",
       "Door 2  0.333333           1  0.333333        1.0\n",
       "Door 3  0.333333           0  0.000000        0.0"
      ]
     },
     "execution_count": 14,
     "metadata": {},
     "output_type": "execute_result"
    }
   ],
   "source": [
    "# Probability of car behind door 3, given\n",
    "table7 = pd.DataFrame(index=['Door 1', 'Door 2', 'Door 3'])\n",
    "table7['prior'] = 1/3\n",
    "table7['likelihood'] = 0, 1, 0\n",
    "update(table7)\n",
    "table7"
   ]
  },
  {
   "cell_type": "code",
   "execution_count": 15,
   "id": "4abcaa78-c99d-4009-93c3-11163f6e5b66",
   "metadata": {
    "execution": {
     "iopub.execute_input": "2023-08-10T20:33:05.998498Z",
     "iopub.status.busy": "2023-08-10T20:33:05.998125Z",
     "iopub.status.idle": "2023-08-10T20:33:06.002099Z",
     "shell.execute_reply": "2023-08-10T20:33:06.001254Z",
     "shell.execute_reply.started": "2023-08-10T20:33:05.998473Z"
    }
   },
   "outputs": [],
   "source": [
    "# The probability of the car being behind 2, given that Monty opens door 3 is 100%."
   ]
  },
  {
   "cell_type": "code",
   "execution_count": 25,
   "id": "43832f7b-65b9-4c87-b564-5c8ba095bb4b",
   "metadata": {
    "execution": {
     "iopub.execute_input": "2023-08-10T20:44:13.108299Z",
     "iopub.status.busy": "2023-08-10T20:44:13.107924Z",
     "iopub.status.idle": "2023-08-10T20:44:13.112319Z",
     "shell.execute_reply": "2023-08-10T20:44:13.111486Z",
     "shell.execute_reply.started": "2023-08-10T20:44:13.108272Z"
    },
    "tags": []
   },
   "outputs": [],
   "source": [
    "# Exercise 2-4\n",
    "# M&Ms are small candy-coated chocolates that come in a variety of colors\n",
    "# In 1994, the color mix in a bag was 30% brown, 20% yellow, 20% red, 10% green, 10% orange, 10% tan\n",
    "# In 1996, it was 24% blue, 20% green, 16% orange, 14% yellow, 13% red, 13% brown\n",
    "# suppose a friend has two bags, one from '94 and one from '96.  Gives me two M&Ms, one from each bag,\n",
    "# what is the probability that they yellow one came from the 1994 bag?\n",
    "\n",
    "# Fact: two selected from two bags\n",
    "# Data: yellow M&M selected\n",
    "# Hypothesis 1) yellow M&M selected from 1994 bag (6 colors)\n",
    "# Hypothesis 2) yellow M&M selected from 1996 bag (6 colors)\n",
    "\n",
    "# Priors for each year determined by the number of colors, before you know the percentage of colors? Both have 6 colors\n",
    "# but different colors\n"
   ]
  },
  {
   "cell_type": "code",
   "execution_count": 40,
   "id": "56853d97-ee1c-4196-b8db-20b480a0c798",
   "metadata": {
    "execution": {
     "iopub.execute_input": "2023-08-10T21:11:24.630102Z",
     "iopub.status.busy": "2023-08-10T21:11:24.629738Z",
     "iopub.status.idle": "2023-08-10T21:11:24.642285Z",
     "shell.execute_reply": "2023-08-10T21:11:24.641301Z",
     "shell.execute_reply.started": "2023-08-10T21:11:24.630075Z"
    },
    "tags": []
   },
   "outputs": [
    {
     "data": {
      "text/html": [
       "<div>\n",
       "<style scoped>\n",
       "    .dataframe tbody tr th:only-of-type {\n",
       "        vertical-align: middle;\n",
       "    }\n",
       "\n",
       "    .dataframe tbody tr th {\n",
       "        vertical-align: top;\n",
       "    }\n",
       "\n",
       "    .dataframe thead th {\n",
       "        text-align: right;\n",
       "    }\n",
       "</style>\n",
       "<table border=\"1\" class=\"dataframe\">\n",
       "  <thead>\n",
       "    <tr style=\"text-align: right;\">\n",
       "      <th></th>\n",
       "      <th>prior</th>\n",
       "      <th>likelihood</th>\n",
       "      <th>unnorm</th>\n",
       "      <th>posterior</th>\n",
       "    </tr>\n",
       "  </thead>\n",
       "  <tbody>\n",
       "    <tr>\n",
       "      <th>1994 bag</th>\n",
       "      <td>0.166667</td>\n",
       "      <td>0.20</td>\n",
       "      <td>0.033333</td>\n",
       "      <td>0.588235</td>\n",
       "    </tr>\n",
       "    <tr>\n",
       "      <th>1996 bag</th>\n",
       "      <td>0.166667</td>\n",
       "      <td>0.14</td>\n",
       "      <td>0.023333</td>\n",
       "      <td>0.411765</td>\n",
       "    </tr>\n",
       "  </tbody>\n",
       "</table>\n",
       "</div>"
      ],
      "text/plain": [
       "             prior  likelihood    unnorm  posterior\n",
       "1994 bag  0.166667        0.20  0.033333   0.588235\n",
       "1996 bag  0.166667        0.14  0.023333   0.411765"
      ]
     },
     "execution_count": 40,
     "metadata": {},
     "output_type": "execute_result"
    }
   ],
   "source": [
    "# Data: yellow selected, Hypothesis: a certain year bag was chosen\n",
    "# This yields the probability that you select one yellow M&M and get a yellow from a certain bag. \n",
    "# Sometimes you got to look at potential, not current.  You must consider what my life not only is now, but has been for the\n",
    "# last 10 years. Bowling doesn't exactly lead to Simpson's Paradox.\n",
    "# (but you also have selected a green M&M from the other bag)\n",
    "table7 = pd.DataFrame(index=['1994 bag', '1996 bag'])\n",
    "table7['prior'] = 1/6, 1/6 \n",
    "table7['likelihood'] = 0.2, 0.14\n",
    "update(table7)\n",
    "table7"
   ]
  },
  {
   "cell_type": "code",
   "execution_count": 39,
   "id": "6dadfbfe-039c-468a-bcfe-c692b988c706",
   "metadata": {
    "execution": {
     "iopub.execute_input": "2023-08-10T21:09:33.115999Z",
     "iopub.status.busy": "2023-08-10T21:09:33.115614Z",
     "iopub.status.idle": "2023-08-10T21:09:33.129844Z",
     "shell.execute_reply": "2023-08-10T21:09:33.129212Z",
     "shell.execute_reply.started": "2023-08-10T21:09:33.115970Z"
    },
    "tags": []
   },
   "outputs": [
    {
     "data": {
      "text/html": [
       "<div>\n",
       "<style scoped>\n",
       "    .dataframe tbody tr th:only-of-type {\n",
       "        vertical-align: middle;\n",
       "    }\n",
       "\n",
       "    .dataframe tbody tr th {\n",
       "        vertical-align: top;\n",
       "    }\n",
       "\n",
       "    .dataframe thead th {\n",
       "        text-align: right;\n",
       "    }\n",
       "</style>\n",
       "<table border=\"1\" class=\"dataframe\">\n",
       "  <thead>\n",
       "    <tr style=\"text-align: right;\">\n",
       "      <th></th>\n",
       "      <th>prior</th>\n",
       "      <th>likelihood</th>\n",
       "    </tr>\n",
       "  </thead>\n",
       "  <tbody>\n",
       "    <tr>\n",
       "      <th>1994 bag</th>\n",
       "      <td>0.166667</td>\n",
       "      <td>0.1</td>\n",
       "    </tr>\n",
       "    <tr>\n",
       "      <th>1996 bag</th>\n",
       "      <td>0.166667</td>\n",
       "      <td>0.2</td>\n",
       "    </tr>\n",
       "  </tbody>\n",
       "</table>\n",
       "</div>"
      ],
      "text/plain": [
       "             prior  likelihood\n",
       "1994 bag  0.166667         0.1\n",
       "1996 bag  0.166667         0.2"
      ]
     },
     "execution_count": 39,
     "metadata": {},
     "output_type": "execute_result"
    }
   ],
   "source": [
    "# This yields the likelihood that you select one M&M and get a green. \n",
    "# (but you also have selected a yellow M&M from the other bag)\n",
    "table8 = pd.DataFrame(index=['1994 bag', '1996 bag'])\n",
    "table8['prior'] = 1/6, 1/6 \n",
    "table8['likelihood'] = 0.1, 0.20\n",
    "table8"
   ]
  },
  {
   "cell_type": "code",
   "execution_count": 27,
   "id": "6b7f6feb-5e70-4af1-b54f-f53f94207c70",
   "metadata": {
    "execution": {
     "iopub.execute_input": "2023-08-10T20:50:19.783402Z",
     "iopub.status.busy": "2023-08-10T20:50:19.783037Z",
     "iopub.status.idle": "2023-08-10T20:50:19.786886Z",
     "shell.execute_reply": "2023-08-10T20:50:19.785976Z",
     "shell.execute_reply.started": "2023-08-10T20:50:19.783376Z"
    }
   },
   "outputs": [],
   "source": [
    "# So there are two possibilities to get a yellow and a green, \n",
    "# a) you selected the yellow from 1994 and the green from 1996 OR\n",
    "# b) you selected the yellow from 1996 and the green from 1994\n",
    "# we are only interested in the case a, the probability that you selected a yellow from 1994 given that you selected a \n",
    "# green from 1996"
   ]
  },
  {
   "cell_type": "code",
   "execution_count": 37,
   "id": "4fa85cc9-25ea-43bc-95d7-046eebf7bfde",
   "metadata": {
    "execution": {
     "iopub.execute_input": "2023-08-10T21:08:14.731056Z",
     "iopub.status.busy": "2023-08-10T21:08:14.730687Z",
     "iopub.status.idle": "2023-08-10T21:08:14.737002Z",
     "shell.execute_reply": "2023-08-10T21:08:14.735877Z",
     "shell.execute_reply.started": "2023-08-10T21:08:14.731029Z"
    },
    "tags": []
   },
   "outputs": [
    {
     "data": {
      "text/plain": [
       "0.117647"
      ]
     },
     "execution_count": 37,
     "metadata": {},
     "output_type": "execute_result"
    }
   ],
   "source": [
    "# I think this need to be multiplied, as the chance that we pull a yellow from a bag, given that we have pulled a \n",
    "# green is less than the probability of just one of these things occurring.\n",
    "# probability green M&M from 1996 bag is 20%\n",
    "# probabilty yellow M&M from 1994 bag given green from '96 \n",
    "\n",
    "FinalProb = (.2) * (0.588235)\n",
    "FinalProb"
   ]
  },
  {
   "cell_type": "code",
   "execution_count": null,
   "id": "6433e63b-ec0c-4c22-94ad-1c12dd05b229",
   "metadata": {},
   "outputs": [],
   "source": []
  }
 ],
 "metadata": {
  "kernelspec": {
   "display_name": "saturn (Python 3)",
   "language": "python",
   "name": "python3"
  },
  "language_info": {
   "codemirror_mode": {
    "name": "ipython",
    "version": 3
   },
   "file_extension": ".py",
   "mimetype": "text/x-python",
   "name": "python",
   "nbconvert_exporter": "python",
   "pygments_lexer": "ipython3",
   "version": "3.9.15"
  }
 },
 "nbformat": 4,
 "nbformat_minor": 5
}
