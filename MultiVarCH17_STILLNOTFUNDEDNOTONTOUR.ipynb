{
 "cells": [
  {
   "cell_type": "code",
   "execution_count": null,
   "id": "58a9e5d4-5b0b-4f3f-bf0a-5ae3614b6a52",
   "metadata": {},
   "outputs": [],
   "source": [
    "Multivariable Calculus \n",
    "Chapter 17"
   ]
  },
  {
   "cell_type": "markdown",
   "id": "14fc3904-9757-44f8-a1c6-fa5b6ca3044f",
   "metadata": {},
   "source": [
    "Multivariable Calculus \n",
    "Fourth Edition\n",
    "by James Stewart\n",
    "Chapter 17"
   ]
  },
  {
   "cell_type": "markdown",
   "id": "5624a7bb-3208-4300-b161-afcfce260cd1",
   "metadata": {
    "execution": {
     "iopub.execute_input": "2024-03-29T19:52:23.389777Z",
     "iopub.status.busy": "2024-03-29T19:52:23.389389Z",
     "iopub.status.idle": "2024-03-29T19:52:23.398846Z",
     "shell.execute_reply": "2024-03-29T19:52:23.397521Z",
     "shell.execute_reply.started": "2024-03-29T19:52:23.389747Z"
    },
    "tags": []
   },
   "source": [
    "The reason why I stopped coding and math is because I had to pawn the laptop for shelter, then you locked the loaner and doing this on a phone is nearly impossible. \n",
    "You told them I was on tour or a dog... I wasn't. it was MY SCREEN. I already paid and you made me do it without any purse.\n",
    "Even selecting a cell is difficult.  You left me in the first park, amd took me off Google because no one would give me enough work to pay my phone bill even.  I am DXT under the table because I am not \"dressed\" properly.\n"
   ]
  },
  {
   "cell_type": "markdown",
   "id": "3fd3c8fd-8a29-4ba2-9e43-83ded2d66872",
   "metadata": {},
   "source": [
    "What I am doing is average engineer, but average engineer isn't homeless, incomeless, and being microdosed. This isn't a pure life. They are telling you I am on tour while they are using me as it to build this city based on my background.  They make you think \"it\" is a man... i am the ONLY \"it\" on all the levels. This WAS my work... I look identical because it IS my work. it was always all my work, and I am not the dog or the angel."
   ]
  },
  {
   "cell_type": "markdown",
   "id": "563530e4-9ad2-40c8-8ec7-48585e51d5ba",
   "metadata": {
    "execution": {
     "iopub.execute_input": "2024-03-29T19:55:15.038079Z",
     "iopub.status.busy": "2024-03-29T19:55:15.037683Z",
     "iopub.status.idle": "2024-03-29T19:55:15.044329Z",
     "shell.execute_reply": "2024-03-29T19:55:15.042529Z",
     "shell.execute_reply.started": "2024-03-29T19:55:15.038048Z"
    },
    "tags": []
   },
   "source": [
    "17.1<br>\n",
    "$\\int_C \\; y \\;ds$ <br>"
   ]
  },
  {
   "cell_type": "markdown",
   "id": "ffee4f1d-2c62-4da8-b410-f59bc094facf",
   "metadata": {},
   "source": [
    "__17.2, p.1091__<br>\n",
    "Evaluate the integral where C is the given curve<br>\n",
    "$\\int_C \\; \\frac{y}{x} ds$<br> $C:x=t^4$, $y=t^3$, $0≤t≤1$<br>\n",
    "From Formula 3, p.1082<br>\n",
    "$ds = \\sqrt{ (\\frac{dx}{dt})^2 + (\\frac{dy}{dt})^2} \\;dt$<br>\n",
    "$\\therefore$\n",
    "$ds = \\sqrt{ (4t^3)^2 + (3t^2)^2 } dt$<br>\n",
    "$\\int_C \\; \\frac{t^3}{t^4} \\sqrt {16t^6 + 9t^4} dt$<br>\n",
    "$\\int_C \\; \\frac{1}{t} \\sqrt {t^4} \\sqrt{16t^2 + 9}$<br>\n",
    "Using u-substition<br>\n",
    "$\\int \\sqrt{u} du = \\frac{2}{3} u^{\\frac{2}{3}}$<br>\n",
    "$u = 16t^2 + 9$<br>\n",
    "$du = 32t$<br>\n",
    "$\\frac{1}{32} \\int_0^1 (32t) \\sqrt {16t^2 + 9} dt$<br>\n",
    "$\\frac{1}{32} [\\frac{2}{3} (16t^2 + 9)]_0^1 = \\frac{1}{32} (\\frac{50}{3} - \\frac{18}{3}) = (\\frac{32}{3})(\\frac{1}{32})=\\frac{1}{3}$<br>\n",
    "\n",
    "\n",
    "\n",
    "\n",
    "\n",
    "\n",
    "\n"
   ]
  },
  {
   "cell_type": "code",
   "execution_count": null,
   "id": "952b38fc-3d47-43bf-b483-5ee28afac94a",
   "metadata": {},
   "outputs": [],
   "source": []
  }
 ],
 "metadata": {
  "kernelspec": {
   "display_name": "saturn (Python 3)",
   "language": "python",
   "name": "python3"
  },
  "language_info": {
   "codemirror_mode": {
    "name": "ipython",
    "version": 3
   },
   "file_extension": ".py",
   "mimetype": "text/x-python",
   "name": "python",
   "nbconvert_exporter": "python",
   "pygments_lexer": "ipython3",
   "version": "3.9.15"
  }
 },
 "nbformat": 4,
 "nbformat_minor": 5
}
